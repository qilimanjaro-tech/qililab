{
 "cells": [
  {
   "attachments": {},
   "cell_type": "markdown",
   "metadata": {},
   "source": [
    "## Basic Tutorial: Rabi Experiment\n",
    "\n",
    "To see how Qililab can help you running calibration experiments on your Quantum Computer, we are going to explore the\n",
    "Rabi experiment, one of the first experiments in every Quantum Computer calibration cycle."
   ]
  },
  {
   "attachments": {},
   "cell_type": "markdown",
   "metadata": {},
   "source": [
    "### Rabi Experiment"
   ]
  },
  {
   "attachments": {},
   "cell_type": "markdown",
   "metadata": {},
   "source": [
    "A Rabi experiment aims to find the $\\pi$ pulse amplitude that will help you exciting your qubit from \n",
    "ground state, $| 0 \\rangle$, to the excited state, $| 1 \\rangle$. In order to find the right amplitude, we want to get\n",
    "what is known as the Rabi amplitude, which corresponds to the amplitude of the half cycle of driving your qubit to the \n",
    "excited state, back to the ground state, and again to the excited state, that is, a $360\\degree$ rotation on the Bloch \n",
    "sphere.\n",
    "\n",
    "By finding the half cycle amplitude value, we are able to know which amplitude our $\\pi$ pulse must have in order to perform an excitation\n",
    "from $| 0 \\rangle$ to $| 1 \\rangle$. This translates into the next basic circuit:\n",
    "\n",
    "<div>\n",
    "<img src=\"images/rabi_circuit.png\" width=\"300\"/>\n",
    "</div>\n",
    "\n",
    "In this circuit, we are performing first a rotation of $\\pi$ radians around the $X$ axis of the Bloch sphere, starting from the\n",
    "ground state, which should drive our qubit to the excited state. Then we measure the expected value, on the $Z$ axis base, this is\n",
    "$\\langle \\sigma_z \\rangle$ and register the measured value. \n",
    "\n",
    "Breaking this step by step, starting in the ground state $| 0 \\rangle = \\left[\\begin{array}{ll}\n",
    "1 & 0\n",
    "\\end{array}\\right]^T$ we first perform the $\\pi$ radians rotation about the $X$ axis of the Bloch sphere:\n",
    "\n",
    "$R_x\\left(\\pi\\right)=e^{-i \\pi \\sigma_x / 2}=\\left[\\begin{array}{cc}\n",
    "\\cos \\cfrac{\\pi}{2} & -i \\sin \\cfrac{\\pi}{2} \\\\\n",
    "-i \\sin \\cfrac{\\pi}{2} & \\cos \\cfrac{\\pi}{2}\n",
    "\\end{array}\\right] = \\left[\\begin{array}{cc}\n",
    "0 & -i  \\\\\n",
    "-i & 0\n",
    "\\end{array}\\right]$\n",
    "\n",
    "after which the qubit is in the state $| \\psi \\rangle = R_x | 0 \\rangle$. All we have to do now is to measure the expectation value \n",
    "of the qubit on the $Z$ axis of the Bloch sphere $\\langle \\psi | \\sigma_z | \\psi \\rangle$, by using the Pauli-Z operator\n",
    "\n",
    "$\\sigma_z=\\left[\\begin{array}{cc}\n",
    "1 & 0 \\\\\n",
    "0 & -1\n",
    "\\end{array}\\right]$\n",
    "\n",
    "which gives us an expectation value of $-1$, meaning our qubit is now in the excited $| 1 \\rangle = \\left[\\begin{array}{ll}\n",
    "0 & 1\n",
    "\\end{array}\\right]^T$. Let's check how to implement this circuit and the full experiment using Qililab.\n",
    "\n"
   ]
  },
  {
   "attachments": {},
   "cell_type": "markdown",
   "metadata": {},
   "source": [
    "### Importing Qililab, Qibo, Numpy, Matplotlib and TQDM\n",
    "\n",
    "Qililab supports quantum circuits by using the Qibo library. For the Rabi experiment we will need to import the circuits functionality\n",
    "from Qibo, as well as its quantum gates module, to be able to use the measurement gate. We will use numpy to treat the experiment \n",
    "resulting data as well as Matplotlib to display the results. Finally, we will also import the tqdm library to display the progress\n",
    "bar as the experiment progresses."
   ]
  },
  {
   "cell_type": "code",
   "execution_count": null,
   "metadata": {
    "vscode": {
     "languageId": "plaintext"
    }
   },
   "outputs": [],
   "source": [
    "import matplotlib.pyplot as plt\n",
    "import numpy as np\n",
    "from qibo import gates\n",
    "from qibo.models import Circuit\n",
    "from tqdm.auto import tqdm\n",
    "\n",
    "import qililab as ql\n",
    "\n",
    "ql.logger.setLevel(40)"
   ]
  },
  {
   "attachments": {},
   "cell_type": "markdown",
   "metadata": {},
   "source": [
    "### Experiment constants"
   ]
  },
  {
   "attachments": {},
   "cell_type": "markdown",
   "metadata": {},
   "source": [
    "Next we are going to define some constants our experiment will be using. In order to calibrate the amplitude for our $\\pi$ pulse, \n",
    "we need to loop over a subset of amplitudes around which one we expect to find the right amplitude to drive our qubit from the \n",
    "ground state, $| 0 \\rangle$, to the excited state, $| 1 \\rangle$.\n",
    "\n",
    "First, we need to indicate Qililab which qubit, from our chip, we want to interact with. We will need to define the amplitude \n",
    "values array, for which we will use the numpy function linspace, wrapping the initial and final amplitude values, and the number of \n",
    "steps to generate in between. \n",
    "\n",
    "The hardware average constant allow us to specify the average of values for the results of the experiment. The repetition duration\n",
    "\n",
    "Finally, we need to specify where our runcard is located so Qililab can instatiate our laboratory setup correctly. The runcard contains all necessary information about our laboratory setup and the chip calibrations which we need to run quantum circuits."
   ]
  },
  {
   "cell_type": "code",
   "execution_count": null,
   "metadata": {
    "vscode": {
     "languageId": "plaintext"
    }
   },
   "outputs": [],
   "source": [
    "QUBIT = 0\n",
    "M_BUFFER_TIME = 0\n",
    "AMP_VALUES = np.linspace(0, 0.4, num=61)\n",
    "HW_AVG = 1000\n",
    "REPETITION_DURATION = 200_000\n",
    "RUNCARD_PATH = \"runcards/galadriel.yml\""
   ]
  },
  {
   "cell_type": "markdown",
   "metadata": {},
   "source": [
    "### Circuit Definition"
   ]
  },
  {
   "cell_type": "markdown",
   "metadata": {},
   "source": [
    "Now we need to define the circuit we want to run. Qililab uses qibo as its higher level framework to build circuits and complex algorithms. The circuit for the rabi experiment is quite simple. As seen in the figure above, we just need a pi-pulse (drag pulse with amplitude of pi) and a measurement. We also add some buffer time between the drag pulse and the measurement in case we want to experiment with the qubit's excitation induced by the pulse.\n",
    "\n",
    "[Drag pulses](https://arxiv.org/abs/0901.0534) are the native pulses used as one-qubit gates for our chip."
   ]
  },
  {
   "cell_type": "code",
   "execution_count": null,
   "metadata": {
    "vscode": {
     "languageId": "plaintext"
    }
   },
   "outputs": [],
   "source": [
    "# Define circuit\n",
    "circuit = Circuit(QUBIT + 1)\n",
    "circuit.add(ql.Drag(QUBIT, theta=np.pi, phase=0))\n",
    "circuit.add(ql.Wait(QUBIT, M_BUFFER_TIME))\n",
    "circuit.add(gates.M(QUBIT))"
   ]
  },
  {
   "cell_type": "markdown",
   "metadata": {},
   "source": [
    "### Platform Initialization"
   ]
  },
  {
   "cell_type": "markdown",
   "metadata": {},
   "source": [
    "We run the following steps to initialize the platform:\n",
    "- `build_platform` loads the configuration file for the platoform into memory\n",
    "- `connect` connects to the instruments specified in platoform\n",
    "- `initial_setup` sets the instruments values for each controlled parameter to those specified in platoform\n",
    "- `turn_on_instruments` turns the instruments on and sets them ready to run"
   ]
  },
  {
   "cell_type": "code",
   "execution_count": null,
   "metadata": {
    "vscode": {
     "languageId": "plaintext"
    }
   },
   "outputs": [],
   "source": [
    "platform = ql.build_platform(runcard=RUNCARD_PATH)\n",
    "platform.connect()\n",
    "platform.initial_setup()\n",
    "platform.turn_on_instruments()"
   ]
  },
  {
   "cell_type": "markdown",
   "metadata": {},
   "source": [
    "### Experiment execution"
   ]
  },
  {
   "cell_type": "markdown",
   "metadata": {},
   "source": [
    "Now we are ready to launch the experiment. We create an empty list to which we will store each the results from each loop in the experiment. Then we define the loop we want to run and execute it through platform. Note as well how we use platform to set the value we are varying at each iteration.\n",
    "\n",
    "In the case of the rabi experiment, we are interested on iterating through several values of the pulse amplitude in order to tune which value excites the qubit to its $| 1\\rangle$ state, that is, we want to find the amplitude of the pi-pulse."
   ]
  },
  {
   "cell_type": "code",
   "execution_count": null,
   "metadata": {
    "vscode": {
     "languageId": "plaintext"
    }
   },
   "outputs": [],
   "source": [
    "# Run experiment\n",
    "results_list = []\n",
    "for amp in tqdm(iterable=AMP_VALUES, total=len(AMP_VALUES), desc=\"Amplitude\"):\n",
    "    platform.set_parameter(alias=f\"Drag({QUBIT})\", parameter=ql.Parameter.AMPLITUDE, value=float(amp))\n",
    "    result = platform.execute(program=circuit, num_avg=HW_AVG, repetition_duration=REPETITION_DURATION)\n",
    "    results_list.append(result.array)\n",
    "\n",
    "results = np.hstack(results_list)"
   ]
  },
  {
   "cell_type": "markdown",
   "metadata": {},
   "source": [
    "Once we have gathered all the results, we plot them to see the characteristic rabi plot and identify the point at which the $|0 \\rangle \\rightarrow |1 \\rangle$ excitation happens"
   ]
  },
  {
   "cell_type": "code",
   "execution_count": null,
   "metadata": {
    "vscode": {
     "languageId": "plaintext"
    }
   },
   "outputs": [],
   "source": [
    "def plot_iq(xdata, results: np.ndarray, title_label: str, xlabel: str):\n",
    "    fig, axes = plt.subplots(1, 2, figsize=(13, 7))\n",
    "    axes[0].plot(xdata, results[0], \"--o\", color=\"blue\")\n",
    "    axes[1].plot(xdata, results[1], \"--o\", color=\"blue\")\n",
    "    axes[0].set_title(\"I\")\n",
    "    axes[1].set_title(\"Q\")\n",
    "    axes[0].set_xlabel(xlabel)\n",
    "    axes[1].set_xlabel(xlabel)\n",
    "    axes[0].set_ylabel(\"Voltage [a.u.]\")\n",
    "    axes[1].set_ylabel(\"Voltage [a.u.]\")\n",
    "    fig.suptitle(title_label)\n",
    "    return fig, axes"
   ]
  }
 ],
 "metadata": {
  "language_info": {
   "name": "python"
  },
  "orig_nbformat": 4
 },
 "nbformat": 4,
 "nbformat_minor": 2
}
