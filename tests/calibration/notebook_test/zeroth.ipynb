{
 "cells": [
  {
   "cell_type": "markdown",
   "metadata": {},
   "source": [
    "### Input parameters defaults values"
   ]
  },
  {
   "cell_type": "code",
   "execution_count": null,
   "metadata": {
    "tags": [
     "parameters"
    ]
   },
   "outputs": [],
   "source": [
    "# In case an argument is not passed in the workflow, their value in this notebook will be taken as default.\n",
    "import numpy as np\n",
    "\n",
    "# The check flag = True will be passed when the notebook is being executed for a ``check_data()``. In such case the number of points for the sweep interval will be ``number_of_random_datapoints``.\n",
    "check = False\n",
    "number_of_random_datapoints = 10\n",
    "qubit = [0, 1]\n",
    "\n",
    "# Sweep interval:\n",
    "sweep_interval = np.array([0, 1, 2, 3, 4, 5, 6, 7, 8, 9, 10, 11, 12, 13, 14, 15, 16, 17, 18, 19])"
   ]
  },
  {
   "cell_type": "markdown",
   "metadata": {},
   "source": [
    "# START OF NOTEBOOK\n",
    "---"
   ]
  },
  {
   "cell_type": "code",
   "execution_count": null,
   "metadata": {},
   "outputs": [],
   "source": [
    "y = [i * 2 for i in sweep_interval]\n",
    "\n",
    "results = {\n",
    "    \"x\": sweep_interval,\n",
    "    \"y\": y,\n",
    "}"
   ]
  },
  {
   "cell_type": "markdown",
   "metadata": {},
   "source": [
    "# NOTEBOOK OUTPUTS:\n",
    "---\n",
    "- ``check_params``: the results, which the ``check_data()`` will check.\n",
    "\n",
    "- ``platform_params``: the parameters to set in the ``runcard``."
   ]
  },
  {
   "cell_type": "code",
   "execution_count": null,
   "metadata": {},
   "outputs": [],
   "source": [
    "from qililab.calibration import export_nb_outputs\n",
    "\n",
    "export_nb_outputs(\n",
    "    {\n",
    "        \"check_parameters\": results,\n",
    "        \"platform_params\": [(\"bus_alias\", qubit, \"param_name\", 1)],\n",
    "        \"fidelities\": [(qubit[0], \"param1\", 1), (qubit[1], \"param2\", 0.967)],\n",
    "    }\n",
    ")"
   ]
  }
 ],
 "metadata": {
  "kernelspec": {
   "display_name": ".venv",
   "language": "python",
   "name": "python3"
  },
  "language_info": {
   "codemirror_mode": {
    "name": "ipython",
    "version": 3
   },
   "file_extension": ".py",
   "mimetype": "text/x-python",
   "name": "python",
   "nbconvert_exporter": "python",
   "pygments_lexer": "ipython3",
   "version": "3.11.3"
  },
  "orig_nbformat": 4
 },
 "nbformat": 4,
 "nbformat_minor": 2
}
