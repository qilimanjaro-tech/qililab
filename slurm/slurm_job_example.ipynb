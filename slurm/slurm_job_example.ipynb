{
 "cells": [
  {
   "cell_type": "code",
   "execution_count": 1,
   "metadata": {},
   "outputs": [],
   "source": [
    "import numpy as np\n",
    "from qibo import gates\n",
    "from qibo.models import Circuit\n",
    "from slurm_magic_methods import slurm\n",
    "import time\n",
    "import qililab as ql"
   ]
  },
  {
   "cell_type": "code",
   "execution_count": 2,
   "metadata": {},
   "outputs": [
    {
     "name": "stderr",
     "output_type": "stream",
     "text": [
      "[qililab] [0.21.0|WARNING|2023-11-09 14:38:29]: Cannot set `output_i=1` and `output_q=0` in hardware. The I/Q signals sent to sequencer 1 will be swapped to allow this setting.\n",
      "[qililab] [0.21.0|WARNING|2023-11-09 14:38:29]: Cannot set `output_i=3` and `output_q=2` in hardware. The I/Q signals sent to sequencer 3 will be swapped to allow this setting.\n"
     ]
    }
   ],
   "source": [
    "runcard_path = \"runcards/galadriel.yml\"\n",
    "platform = ql.build_platform(runcard=runcard_path)"
   ]
  },
  {
   "cell_type": "code",
   "execution_count": 3,
   "metadata": {},
   "outputs": [
    {
     "data": {
      "text/plain": [
       "MeasurementResult(qubits=(0, 1), nshots=0)"
      ]
     },
     "execution_count": 3,
     "metadata": {},
     "output_type": "execute_result"
    }
   ],
   "source": [
    "circuit = Circuit(2)\n",
    "circuit.add(gates.M(0, 1))"
   ]
  },
  {
   "cell_type": "code",
   "execution_count": 4,
   "metadata": {},
   "outputs": [],
   "source": [
    "%%slurm -i platform circuit -o results output2 -p debug\n",
    "print(platform.buses)\n",
    "#time.sleep(5)\n",
    "results = []\n",
    "output2={}\n",
    "for i in np.arange(0, 1, step=0.001):\n",
    "    print(i)\n",
    "    platform.set_parameter(alias=\"Drag(0)\", parameter=ql.Parameter.GAIN, value=i)\n",
    "    result = np.random.random(size=10)\n",
    "    results.append(result)"
   ]
  },
  {
   "cell_type": "code",
   "execution_count": 5,
   "metadata": {},
   "outputs": [
    {
     "ename": "FailedJobError",
     "evalue": "Job (task=0) failed during processing with trace:\n----------------------\nTraceback (most recent call last):\n  File \"/home/adria/miniconda3/envs/qililab/lib/python3.11/site-packages/submitit/core/submission.py\", line 55, in process_job\n    result = delayed.result()\n             ^^^^^^^^^^^^^^^^\n  File \"/home/adria/miniconda3/envs/qililab/lib/python3.11/site-packages/submitit/core/utils.py\", line 133, in result\n    self._result = self.function(*self.args, **self.kwargs)\n                   ^^^^^^^^^^^^^^^^^^^^^^^^^^^^^^^^^^^^^^^^\n  File \"/home/adria/Projects/qililab/slurm/slurm_magic_methods.py\", line 71, in function\n    return variables[output_arg_str[0]],variables[output_arg_str[1]]\n                     ~~~~~~~~~~~~~~^^^\nIndexError: list index out of range\n\n----------------------\nYou can check full logs with 'job.stderr(0)' and 'job.stdout(0)'or at paths:\n  - /home/adria/Projects/qililab/slurm/slurm_job_data/317_0_log.err\n  - /home/adria/Projects/qililab/slurm/slurm_job_data/317_0_log.out",
     "output_type": "error",
     "traceback": [
      "\u001b[0;31m---------------------------------------------------------------------------\u001b[0m",
      "\u001b[0;31mFailedJobError\u001b[0m                            Traceback (most recent call last)",
      "Cell \u001b[0;32mIn[5], line 1\u001b[0m\n\u001b[0;32m----> 1\u001b[0m job\u001b[39m.\u001b[39;49mresults()\n",
      "File \u001b[0;32m~/miniconda3/envs/qililab/lib/python3.11/site-packages/submitit/core/core.py:294\u001b[0m, in \u001b[0;36mJob.results\u001b[0;34m(self)\u001b[0m\n\u001b[1;32m    292\u001b[0m     \u001b[39mif\u001b[39;00m job_exception \u001b[39mis\u001b[39;00m \u001b[39mNone\u001b[39;00m:\n\u001b[1;32m    293\u001b[0m         \u001b[39mraise\u001b[39;00m \u001b[39mRuntimeError\u001b[39;00m(\u001b[39m\"\u001b[39m\u001b[39mUnknown job exception\u001b[39m\u001b[39m\"\u001b[39m)\n\u001b[0;32m--> 294\u001b[0m     \u001b[39mraise\u001b[39;00m job_exception  \u001b[39m# pylint: disable=raising-bad-type\u001b[39;00m\n\u001b[1;32m    295\u001b[0m \u001b[39mreturn\u001b[39;00m [result]\n",
      "\u001b[0;31mFailedJobError\u001b[0m: Job (task=0) failed during processing with trace:\n----------------------\nTraceback (most recent call last):\n  File \"/home/adria/miniconda3/envs/qililab/lib/python3.11/site-packages/submitit/core/submission.py\", line 55, in process_job\n    result = delayed.result()\n             ^^^^^^^^^^^^^^^^\n  File \"/home/adria/miniconda3/envs/qililab/lib/python3.11/site-packages/submitit/core/utils.py\", line 133, in result\n    self._result = self.function(*self.args, **self.kwargs)\n                   ^^^^^^^^^^^^^^^^^^^^^^^^^^^^^^^^^^^^^^^^\n  File \"/home/adria/Projects/qililab/slurm/slurm_magic_methods.py\", line 71, in function\n    return variables[output_arg_str[0]],variables[output_arg_str[1]]\n                     ~~~~~~~~~~~~~~^^^\nIndexError: list index out of range\n\n----------------------\nYou can check full logs with 'job.stderr(0)' and 'job.stdout(0)'or at paths:\n  - /home/adria/Projects/qililab/slurm/slurm_job_data/317_0_log.err\n  - /home/adria/Projects/qililab/slurm/slurm_job_data/317_0_log.out"
     ]
    }
   ],
   "source": [
    "job.results()"
   ]
  },
  {
   "cell_type": "code",
   "execution_count": null,
   "metadata": {},
   "outputs": [
    {
     "data": {
      "text/plain": [
       "{'JobID': '316', 'State': 'FAILED', 'NodeList': 'adria-Summit-E16Flip-A12UCT'}"
      ]
     },
     "execution_count": 6,
     "metadata": {},
     "output_type": "execute_result"
    }
   ],
   "source": [
    "job.get_info()"
   ]
  }
 ],
 "metadata": {
  "kernelspec": {
   "display_name": ".venv",
   "language": "python",
   "name": "python3"
  },
  "language_info": {
   "codemirror_mode": {
    "name": "ipython",
    "version": 3
   },
   "file_extension": ".py",
   "mimetype": "text/x-python",
   "name": "python",
   "nbconvert_exporter": "python",
   "pygments_lexer": "ipython3",
   "version": "3.11.3"
  }
 },
 "nbformat": 4,
 "nbformat_minor": 2
}
