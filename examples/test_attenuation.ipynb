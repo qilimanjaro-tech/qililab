{
 "cells": [
  {
   "cell_type": "code",
   "execution_count": 1,
   "metadata": {},
   "outputs": [
    {
     "name": "stdout",
     "output_type": "stream",
     "text": [
      "2024-12-02 14:17:52,282 - qm - INFO     - Starting session: eed366f2-b65e-4468-8f8f-839c17c01896\n"
     ]
    }
   ],
   "source": [
    "import qililab as ql\n",
    "\n",
    "ql.logger.setLevel(40)"
   ]
  },
  {
   "cell_type": "code",
   "execution_count": null,
   "metadata": {},
   "outputs": [],
   "source": [
    "platform_path = \"./runcards/contralto_saruman.yml\"\n",
    "\n",
    "platform = ql.build_platform(runcard=platform_path)\n",
    "platform.connect()\n",
    "platform.initial_setup()\n",
    "platform.turn_on_instruments()"
   ]
  }
 ],
 "metadata": {
  "kernelspec": {
   "display_name": "qililab",
   "language": "python",
   "name": "python3"
  },
  "language_info": {
   "codemirror_mode": {
    "name": "ipython",
    "version": 3
   },
   "file_extension": ".py",
   "mimetype": "text/x-python",
   "name": "python",
   "nbconvert_exporter": "python",
   "pygments_lexer": "ipython3",
   "version": "3.10.12"
  },
  "orig_nbformat": 4
 },
 "nbformat": 4,
 "nbformat_minor": 2
}
