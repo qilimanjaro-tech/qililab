{
 "cells": [
  {
   "cell_type": "code",
   "execution_count": 1,
   "metadata": {},
   "outputs": [],
   "source": [
    "# from qililab.buses.bus import Bus\n",
    "from qililab.instrument_controllers.qblox_cluster_controller import QbloxClusterController\n",
    "from qililab.instrument_controllers.qblox_spi_rack_controller import QbloxSPIRackController\n",
    "from qililab.instrument_controllers.qdevil_qdac2_controller import QDevilQDAC2Controller\n",
    "from qililab.instruments.qblox_d5a import QbloxD5A\n",
    "from qililab.instruments.qblox_qcm import QbloxQCM\n",
    "from qililab.instruments.qblox_qcm_rf import QbloxQCMRF\n",
    "from qililab.instruments.qblox_qrm import QbloxQRM\n",
    "from qililab.instruments.qblox_qrm_rf import QbloxQRMRF\n",
    "from qililab.instruments.qblox_s4g import QbloxS4G\n",
    "from qililab.instruments.qdevil_qdac2 import QDevilQDAC2\n",
    "from qililab.instruments.quantum_machines_opx import QuantumMachinesOPX\n",
    "from qililab.instruments.rohde_schwarz_sg100 import RohdeSchwarzSG100\n",
    "from qililab.platform import Platform\n",
    "from qililab.runcard import Runcard\n",
    "from qililab.settings.instrument_controllers import (\n",
    "    QbloxClusterControllerSettings,\n",
    "    QbloxSPIRackControllerSettings,\n",
    "    QDevilQDAC2ControllerSettings,\n",
    ")\n",
    "from qililab.typings.enums import Parameter\n",
    "from qililab.waveforms import Gaussian, IQDrag, IQPair, Square\n",
    "from qililab.buses.bus import Bus\n",
    "from qililab.settings.buses.bus_settings import BusSettings\n",
    "from qpysequence import Sequence as QpySequence\n",
    "from qpysequence.acquisitions import Acquisitions\n",
    "from qpysequence.program import Program\n",
    "from qpysequence.sequence import Sequence\n",
    "from qpysequence.waveforms import Waveforms\n",
    "from qpysequence.weights import Weights\n",
    "import qililab as ql"
   ]
  },
  {
   "cell_type": "code",
   "execution_count": 2,
   "metadata": {},
   "outputs": [],
   "source": [
    "d5a = QbloxD5A()\n",
    "qdac2 = QDevilQDAC2()\n",
    "qcm = QbloxQCM()"
   ]
  },
  {
   "cell_type": "code",
   "execution_count": 3,
   "metadata": {},
   "outputs": [],
   "source": [
    "loaded_instruments = [d5a, qdac2, qcm]"
   ]
  },
  {
   "cell_type": "code",
   "execution_count": 4,
   "metadata": {},
   "outputs": [],
   "source": [
    "channels = [d5a.settings.channels[0].id, qdac2.settings.channels[0].id, *qcm.channels]\n"
   ]
  },
  {
   "cell_type": "code",
   "execution_count": 5,
   "metadata": {},
   "outputs": [
    {
     "data": {
      "text/plain": [
       "[0, 0, 0, 1, 2, 3]"
      ]
     },
     "execution_count": 5,
     "metadata": {},
     "output_type": "execute_result"
    }
   ],
   "source": [
    "channels"
   ]
  },
  {
   "cell_type": "code",
   "execution_count": 5,
   "metadata": {},
   "outputs": [],
   "source": [
    "bus_settings = BusSettings(\n",
    "    alias=\"dc_flux_0\",\n",
    "    instruments=[d5a.alias, qdac2.alias, qcm.alias],\n",
    "    channels=channels,\n",
    ")\n",
    "flux_0 = Bus(settings=bus_settings, loaded_instruments=loaded_instruments)"
   ]
  },
  {
   "cell_type": "code",
   "execution_count": 7,
   "metadata": {},
   "outputs": [],
   "source": [
    "# sequence = QpySequence(Program(), Waveforms(), Acquisitions(), Weights())\n",
    "# flux_0.upload_qpysequence(sequence)"
   ]
  },
  {
   "cell_type": "code",
   "execution_count": 6,
   "metadata": {},
   "outputs": [
    {
     "data": {
      "text/plain": [
       "qililab.buses.aggregated_bus_parameter.AggregatedBusParameter"
      ]
     },
     "execution_count": 6,
     "metadata": {},
     "output_type": "execute_result"
    }
   ],
   "source": [
    "type(flux_0.voltage)"
   ]
  },
  {
   "cell_type": "code",
   "execution_count": 6,
   "metadata": {},
   "outputs": [
    {
     "data": {
      "text/plain": [
       "0.0"
      ]
     },
     "execution_count": 6,
     "metadata": {},
     "output_type": "execute_result"
    }
   ],
   "source": [
    "d5a.ch0.voltage(1.0)"
   ]
  },
  {
   "cell_type": "code",
   "execution_count": 7,
   "metadata": {},
   "outputs": [],
   "source": [
    "flux_0.voltage(1.0)"
   ]
  },
  {
   "cell_type": "code",
   "execution_count": 8,
   "metadata": {},
   "outputs": [
    {
     "data": {
      "text/plain": [
       "[(QbloxD5A(settings=alias='d5a' channels=[QbloxD5AChannelSettings(id=0, voltage=1.0, span=<QbloxD5ASpan.BI_2V: 'bi_2V'>, ramping_enabled=True, ramping_rate=0.1), QbloxD5AChannelSettings(id=1, voltage=0.0, span=<QbloxD5ASpan.BI_2V: 'bi_2V'>, ramping_enabled=True, ramping_rate=0.1), QbloxD5AChannelSettings(id=2, voltage=0.0, span=<QbloxD5ASpan.BI_2V: 'bi_2V'>, ramping_enabled=True, ramping_rate=0.1), QbloxD5AChannelSettings(id=3, voltage=0.0, span=<QbloxD5ASpan.BI_2V: 'bi_2V'>, ramping_enabled=True, ramping_rate=0.1), QbloxD5AChannelSettings(id=4, voltage=0.0, span=<QbloxD5ASpan.BI_2V: 'bi_2V'>, ramping_enabled=True, ramping_rate=0.1), QbloxD5AChannelSettings(id=5, voltage=0.0, span=<QbloxD5ASpan.BI_2V: 'bi_2V'>, ramping_enabled=True, ramping_rate=0.1), QbloxD5AChannelSettings(id=6, voltage=0.0, span=<QbloxD5ASpan.BI_2V: 'bi_2V'>, ramping_enabled=True, ramping_rate=0.1), QbloxD5AChannelSettings(id=7, voltage=0.0, span=<QbloxD5ASpan.BI_2V: 'bi_2V'>, ramping_enabled=True, ramping_rate=0.1), QbloxD5AChannelSettings(id=8, voltage=0.0, span=<QbloxD5ASpan.BI_2V: 'bi_2V'>, ramping_enabled=True, ramping_rate=0.1), QbloxD5AChannelSettings(id=9, voltage=0.0, span=<QbloxD5ASpan.BI_2V: 'bi_2V'>, ramping_enabled=True, ramping_rate=0.1), QbloxD5AChannelSettings(id=10, voltage=0.0, span=<QbloxD5ASpan.BI_2V: 'bi_2V'>, ramping_enabled=True, ramping_rate=0.1), QbloxD5AChannelSettings(id=11, voltage=0.0, span=<QbloxD5ASpan.BI_2V: 'bi_2V'>, ramping_enabled=True, ramping_rate=0.1), QbloxD5AChannelSettings(id=12, voltage=0.0, span=<QbloxD5ASpan.BI_2V: 'bi_2V'>, ramping_enabled=True, ramping_rate=0.1), QbloxD5AChannelSettings(id=13, voltage=0.0, span=<QbloxD5ASpan.BI_2V: 'bi_2V'>, ramping_enabled=True, ramping_rate=0.1), QbloxD5AChannelSettings(id=14, voltage=0.0, span=<QbloxD5ASpan.BI_2V: 'bi_2V'>, ramping_enabled=True, ramping_rate=0.1), QbloxD5AChannelSettings(id=15, voltage=0.0, span=<QbloxD5ASpan.BI_2V: 'bi_2V'>, ramping_enabled=True, ramping_rate=0.1)]),\n",
       "  0),\n",
       " (QDevilQDAC2(settings=alias='qdac2' channels=[QDevilQDAC2ChannelSettings(id=0, voltage=1.0, span=<QDevilQDAC2Span.LOW: 'low'>, ramping_enabled=True, ramping_rate=1.0, low_pass_filter=<QDevilQDAC2LowPassFilter.DC: 'dc'>), QDevilQDAC2ChannelSettings(id=1, voltage=0.0, span=<QDevilQDAC2Span.LOW: 'low'>, ramping_enabled=True, ramping_rate=1.0, low_pass_filter=<QDevilQDAC2LowPassFilter.DC: 'dc'>), QDevilQDAC2ChannelSettings(id=2, voltage=0.0, span=<QDevilQDAC2Span.LOW: 'low'>, ramping_enabled=True, ramping_rate=1.0, low_pass_filter=<QDevilQDAC2LowPassFilter.DC: 'dc'>), QDevilQDAC2ChannelSettings(id=3, voltage=0.0, span=<QDevilQDAC2Span.LOW: 'low'>, ramping_enabled=True, ramping_rate=1.0, low_pass_filter=<QDevilQDAC2LowPassFilter.DC: 'dc'>), QDevilQDAC2ChannelSettings(id=4, voltage=0.0, span=<QDevilQDAC2Span.LOW: 'low'>, ramping_enabled=True, ramping_rate=1.0, low_pass_filter=<QDevilQDAC2LowPassFilter.DC: 'dc'>), QDevilQDAC2ChannelSettings(id=5, voltage=0.0, span=<QDevilQDAC2Span.LOW: 'low'>, ramping_enabled=True, ramping_rate=1.0, low_pass_filter=<QDevilQDAC2LowPassFilter.DC: 'dc'>), QDevilQDAC2ChannelSettings(id=6, voltage=0.0, span=<QDevilQDAC2Span.LOW: 'low'>, ramping_enabled=True, ramping_rate=1.0, low_pass_filter=<QDevilQDAC2LowPassFilter.DC: 'dc'>), QDevilQDAC2ChannelSettings(id=7, voltage=0.0, span=<QDevilQDAC2Span.LOW: 'low'>, ramping_enabled=True, ramping_rate=1.0, low_pass_filter=<QDevilQDAC2LowPassFilter.DC: 'dc'>), QDevilQDAC2ChannelSettings(id=8, voltage=0.0, span=<QDevilQDAC2Span.LOW: 'low'>, ramping_enabled=True, ramping_rate=1.0, low_pass_filter=<QDevilQDAC2LowPassFilter.DC: 'dc'>), QDevilQDAC2ChannelSettings(id=9, voltage=0.0, span=<QDevilQDAC2Span.LOW: 'low'>, ramping_enabled=True, ramping_rate=1.0, low_pass_filter=<QDevilQDAC2LowPassFilter.DC: 'dc'>), QDevilQDAC2ChannelSettings(id=10, voltage=0.0, span=<QDevilQDAC2Span.LOW: 'low'>, ramping_enabled=True, ramping_rate=1.0, low_pass_filter=<QDevilQDAC2LowPassFilter.DC: 'dc'>), QDevilQDAC2ChannelSettings(id=11, voltage=0.0, span=<QDevilQDAC2Span.LOW: 'low'>, ramping_enabled=True, ramping_rate=1.0, low_pass_filter=<QDevilQDAC2LowPassFilter.DC: 'dc'>), QDevilQDAC2ChannelSettings(id=12, voltage=0.0, span=<QDevilQDAC2Span.LOW: 'low'>, ramping_enabled=True, ramping_rate=1.0, low_pass_filter=<QDevilQDAC2LowPassFilter.DC: 'dc'>), QDevilQDAC2ChannelSettings(id=13, voltage=0.0, span=<QDevilQDAC2Span.LOW: 'low'>, ramping_enabled=True, ramping_rate=1.0, low_pass_filter=<QDevilQDAC2LowPassFilter.DC: 'dc'>), QDevilQDAC2ChannelSettings(id=14, voltage=0.0, span=<QDevilQDAC2Span.LOW: 'low'>, ramping_enabled=True, ramping_rate=1.0, low_pass_filter=<QDevilQDAC2LowPassFilter.DC: 'dc'>), QDevilQDAC2ChannelSettings(id=15, voltage=0.0, span=<QDevilQDAC2Span.LOW: 'low'>, ramping_enabled=True, ramping_rate=1.0, low_pass_filter=<QDevilQDAC2LowPassFilter.DC: 'dc'>), QDevilQDAC2ChannelSettings(id=16, voltage=0.0, span=<QDevilQDAC2Span.LOW: 'low'>, ramping_enabled=True, ramping_rate=1.0, low_pass_filter=<QDevilQDAC2LowPassFilter.DC: 'dc'>), QDevilQDAC2ChannelSettings(id=17, voltage=0.0, span=<QDevilQDAC2Span.LOW: 'low'>, ramping_enabled=True, ramping_rate=1.0, low_pass_filter=<QDevilQDAC2LowPassFilter.DC: 'dc'>), QDevilQDAC2ChannelSettings(id=18, voltage=0.0, span=<QDevilQDAC2Span.LOW: 'low'>, ramping_enabled=True, ramping_rate=1.0, low_pass_filter=<QDevilQDAC2LowPassFilter.DC: 'dc'>), QDevilQDAC2ChannelSettings(id=19, voltage=0.0, span=<QDevilQDAC2Span.LOW: 'low'>, ramping_enabled=True, ramping_rate=1.0, low_pass_filter=<QDevilQDAC2LowPassFilter.DC: 'dc'>), QDevilQDAC2ChannelSettings(id=20, voltage=0.0, span=<QDevilQDAC2Span.LOW: 'low'>, ramping_enabled=True, ramping_rate=1.0, low_pass_filter=<QDevilQDAC2LowPassFilter.DC: 'dc'>), QDevilQDAC2ChannelSettings(id=21, voltage=0.0, span=<QDevilQDAC2Span.LOW: 'low'>, ramping_enabled=True, ramping_rate=1.0, low_pass_filter=<QDevilQDAC2LowPassFilter.DC: 'dc'>), QDevilQDAC2ChannelSettings(id=22, voltage=0.0, span=<QDevilQDAC2Span.LOW: 'low'>, ramping_enabled=True, ramping_rate=1.0, low_pass_filter=<QDevilQDAC2LowPassFilter.DC: 'dc'>), QDevilQDAC2ChannelSettings(id=23, voltage=0.0, span=<QDevilQDAC2Span.LOW: 'low'>, ramping_enabled=True, ramping_rate=1.0, low_pass_filter=<QDevilQDAC2LowPassFilter.DC: 'dc'>)]),\n",
       "  0),\n",
       " (QbloxQCM(settings=alias='qcm' channels=[QbloxSequencerSettings(id=0, outputs=[0], hardware_modulation=False, intermediate_frequency=None, gain_imbalance=0.0, phase_imbalance=0.0, gain_i=1.0, gain_q=0.0, offset_i=0.0, offset_q=0.0), QbloxSequencerSettings(id=1, outputs=[1], hardware_modulation=False, intermediate_frequency=None, gain_imbalance=0.0, phase_imbalance=0.0, gain_i=1.0, gain_q=0.0, offset_i=0.0, offset_q=0.0), QbloxSequencerSettings(id=2, outputs=[2], hardware_modulation=False, intermediate_frequency=None, gain_imbalance=0.0, phase_imbalance=0.0, gain_i=1.0, gain_q=0.0, offset_i=0.0, offset_q=0.0), QbloxSequencerSettings(id=3, outputs=[3], hardware_modulation=False, intermediate_frequency=None, gain_imbalance=0.0, phase_imbalance=0.0, gain_i=1.0, gain_q=0.0, offset_i=0.0, offset_q=0.0)] timeout=1 outputs=[QbloxLFOutputSettings(port=0, offset=0.0), QbloxLFOutputSettings(port=1, offset=0.0), QbloxLFOutputSettings(port=2, offset=0.0), QbloxLFOutputSettings(port=3, offset=0.0)]),\n",
       "  0)]"
      ]
     },
     "execution_count": 8,
     "metadata": {},
     "output_type": "execute_result"
    }
   ],
   "source": [
    "flux_0.instruments_and_channels()"
   ]
  },
  {
   "cell_type": "code",
   "execution_count": 8,
   "metadata": {},
   "outputs": [
    {
     "data": {
      "text/plain": [
       "{'d5a': 1.0, 'qdac2': 1.0}"
      ]
     },
     "execution_count": 8,
     "metadata": {},
     "output_type": "execute_result"
    }
   ],
   "source": [
    "flux_0.voltage()"
   ]
  },
  {
   "cell_type": "code",
   "execution_count": 13,
   "metadata": {},
   "outputs": [
    {
     "name": "stdout",
     "output_type": "stream",
     "text": [
      "QbloxD5A(settings=alias='d5a' channels=[QbloxD5AChannelSettings(id=0, voltage=1.0, span=<QbloxD5ASpan.BI_2V: 'bi_2V'>, ramping_enabled=True, ramping_rate=0.1), QbloxD5AChannelSettings(id=1, voltage=0.0, span=<QbloxD5ASpan.BI_2V: 'bi_2V'>, ramping_enabled=True, ramping_rate=0.1), QbloxD5AChannelSettings(id=2, voltage=0.0, span=<QbloxD5ASpan.BI_2V: 'bi_2V'>, ramping_enabled=True, ramping_rate=0.1), QbloxD5AChannelSettings(id=3, voltage=0.0, span=<QbloxD5ASpan.BI_2V: 'bi_2V'>, ramping_enabled=True, ramping_rate=0.1), QbloxD5AChannelSettings(id=4, voltage=0.0, span=<QbloxD5ASpan.BI_2V: 'bi_2V'>, ramping_enabled=True, ramping_rate=0.1), QbloxD5AChannelSettings(id=5, voltage=0.0, span=<QbloxD5ASpan.BI_2V: 'bi_2V'>, ramping_enabled=True, ramping_rate=0.1), QbloxD5AChannelSettings(id=6, voltage=0.0, span=<QbloxD5ASpan.BI_2V: 'bi_2V'>, ramping_enabled=True, ramping_rate=0.1), QbloxD5AChannelSettings(id=7, voltage=0.0, span=<QbloxD5ASpan.BI_2V: 'bi_2V'>, ramping_enabled=True, ramping_rate=0.1), QbloxD5AChannelSettings(id=8, voltage=0.0, span=<QbloxD5ASpan.BI_2V: 'bi_2V'>, ramping_enabled=True, ramping_rate=0.1), QbloxD5AChannelSettings(id=9, voltage=0.0, span=<QbloxD5ASpan.BI_2V: 'bi_2V'>, ramping_enabled=True, ramping_rate=0.1), QbloxD5AChannelSettings(id=10, voltage=0.0, span=<QbloxD5ASpan.BI_2V: 'bi_2V'>, ramping_enabled=True, ramping_rate=0.1), QbloxD5AChannelSettings(id=11, voltage=0.0, span=<QbloxD5ASpan.BI_2V: 'bi_2V'>, ramping_enabled=True, ramping_rate=0.1), QbloxD5AChannelSettings(id=12, voltage=0.0, span=<QbloxD5ASpan.BI_2V: 'bi_2V'>, ramping_enabled=True, ramping_rate=0.1), QbloxD5AChannelSettings(id=13, voltage=0.0, span=<QbloxD5ASpan.BI_2V: 'bi_2V'>, ramping_enabled=True, ramping_rate=0.1), QbloxD5AChannelSettings(id=14, voltage=0.0, span=<QbloxD5ASpan.BI_2V: 'bi_2V'>, ramping_enabled=True, ramping_rate=0.1), QbloxD5AChannelSettings(id=15, voltage=0.0, span=<QbloxD5ASpan.BI_2V: 'bi_2V'>, ramping_enabled=True, ramping_rate=0.1)])\n",
      "0\n",
      "dict_keys([])\n",
      "\n",
      "QDevilQDAC2(settings=alias='qdac2' channels=[QDevilQDAC2ChannelSettings(id=0, voltage=1.0, span=<QDevilQDAC2Span.LOW: 'low'>, ramping_enabled=True, ramping_rate=1.0, low_pass_filter=<QDevilQDAC2LowPassFilter.DC: 'dc'>), QDevilQDAC2ChannelSettings(id=1, voltage=0.0, span=<QDevilQDAC2Span.LOW: 'low'>, ramping_enabled=True, ramping_rate=1.0, low_pass_filter=<QDevilQDAC2LowPassFilter.DC: 'dc'>), QDevilQDAC2ChannelSettings(id=2, voltage=0.0, span=<QDevilQDAC2Span.LOW: 'low'>, ramping_enabled=True, ramping_rate=1.0, low_pass_filter=<QDevilQDAC2LowPassFilter.DC: 'dc'>), QDevilQDAC2ChannelSettings(id=3, voltage=0.0, span=<QDevilQDAC2Span.LOW: 'low'>, ramping_enabled=True, ramping_rate=1.0, low_pass_filter=<QDevilQDAC2LowPassFilter.DC: 'dc'>), QDevilQDAC2ChannelSettings(id=4, voltage=0.0, span=<QDevilQDAC2Span.LOW: 'low'>, ramping_enabled=True, ramping_rate=1.0, low_pass_filter=<QDevilQDAC2LowPassFilter.DC: 'dc'>), QDevilQDAC2ChannelSettings(id=5, voltage=0.0, span=<QDevilQDAC2Span.LOW: 'low'>, ramping_enabled=True, ramping_rate=1.0, low_pass_filter=<QDevilQDAC2LowPassFilter.DC: 'dc'>), QDevilQDAC2ChannelSettings(id=6, voltage=0.0, span=<QDevilQDAC2Span.LOW: 'low'>, ramping_enabled=True, ramping_rate=1.0, low_pass_filter=<QDevilQDAC2LowPassFilter.DC: 'dc'>), QDevilQDAC2ChannelSettings(id=7, voltage=0.0, span=<QDevilQDAC2Span.LOW: 'low'>, ramping_enabled=True, ramping_rate=1.0, low_pass_filter=<QDevilQDAC2LowPassFilter.DC: 'dc'>), QDevilQDAC2ChannelSettings(id=8, voltage=0.0, span=<QDevilQDAC2Span.LOW: 'low'>, ramping_enabled=True, ramping_rate=1.0, low_pass_filter=<QDevilQDAC2LowPassFilter.DC: 'dc'>), QDevilQDAC2ChannelSettings(id=9, voltage=0.0, span=<QDevilQDAC2Span.LOW: 'low'>, ramping_enabled=True, ramping_rate=1.0, low_pass_filter=<QDevilQDAC2LowPassFilter.DC: 'dc'>), QDevilQDAC2ChannelSettings(id=10, voltage=0.0, span=<QDevilQDAC2Span.LOW: 'low'>, ramping_enabled=True, ramping_rate=1.0, low_pass_filter=<QDevilQDAC2LowPassFilter.DC: 'dc'>), QDevilQDAC2ChannelSettings(id=11, voltage=0.0, span=<QDevilQDAC2Span.LOW: 'low'>, ramping_enabled=True, ramping_rate=1.0, low_pass_filter=<QDevilQDAC2LowPassFilter.DC: 'dc'>), QDevilQDAC2ChannelSettings(id=12, voltage=0.0, span=<QDevilQDAC2Span.LOW: 'low'>, ramping_enabled=True, ramping_rate=1.0, low_pass_filter=<QDevilQDAC2LowPassFilter.DC: 'dc'>), QDevilQDAC2ChannelSettings(id=13, voltage=0.0, span=<QDevilQDAC2Span.LOW: 'low'>, ramping_enabled=True, ramping_rate=1.0, low_pass_filter=<QDevilQDAC2LowPassFilter.DC: 'dc'>), QDevilQDAC2ChannelSettings(id=14, voltage=0.0, span=<QDevilQDAC2Span.LOW: 'low'>, ramping_enabled=True, ramping_rate=1.0, low_pass_filter=<QDevilQDAC2LowPassFilter.DC: 'dc'>), QDevilQDAC2ChannelSettings(id=15, voltage=0.0, span=<QDevilQDAC2Span.LOW: 'low'>, ramping_enabled=True, ramping_rate=1.0, low_pass_filter=<QDevilQDAC2LowPassFilter.DC: 'dc'>), QDevilQDAC2ChannelSettings(id=16, voltage=0.0, span=<QDevilQDAC2Span.LOW: 'low'>, ramping_enabled=True, ramping_rate=1.0, low_pass_filter=<QDevilQDAC2LowPassFilter.DC: 'dc'>), QDevilQDAC2ChannelSettings(id=17, voltage=0.0, span=<QDevilQDAC2Span.LOW: 'low'>, ramping_enabled=True, ramping_rate=1.0, low_pass_filter=<QDevilQDAC2LowPassFilter.DC: 'dc'>), QDevilQDAC2ChannelSettings(id=18, voltage=0.0, span=<QDevilQDAC2Span.LOW: 'low'>, ramping_enabled=True, ramping_rate=1.0, low_pass_filter=<QDevilQDAC2LowPassFilter.DC: 'dc'>), QDevilQDAC2ChannelSettings(id=19, voltage=0.0, span=<QDevilQDAC2Span.LOW: 'low'>, ramping_enabled=True, ramping_rate=1.0, low_pass_filter=<QDevilQDAC2LowPassFilter.DC: 'dc'>), QDevilQDAC2ChannelSettings(id=20, voltage=0.0, span=<QDevilQDAC2Span.LOW: 'low'>, ramping_enabled=True, ramping_rate=1.0, low_pass_filter=<QDevilQDAC2LowPassFilter.DC: 'dc'>), QDevilQDAC2ChannelSettings(id=21, voltage=0.0, span=<QDevilQDAC2Span.LOW: 'low'>, ramping_enabled=True, ramping_rate=1.0, low_pass_filter=<QDevilQDAC2LowPassFilter.DC: 'dc'>), QDevilQDAC2ChannelSettings(id=22, voltage=0.0, span=<QDevilQDAC2Span.LOW: 'low'>, ramping_enabled=True, ramping_rate=1.0, low_pass_filter=<QDevilQDAC2LowPassFilter.DC: 'dc'>), QDevilQDAC2ChannelSettings(id=23, voltage=0.0, span=<QDevilQDAC2Span.LOW: 'low'>, ramping_enabled=True, ramping_rate=1.0, low_pass_filter=<QDevilQDAC2LowPassFilter.DC: 'dc'>)])\n",
      "0\n",
      "dict_keys([])\n",
      "\n"
     ]
    }
   ],
   "source": [
    "for instrument, channel_id in flux_0.instruments_and_channels():\n",
    "    # Add top-level instrument parameters\n",
    "    print(instrument)\n",
    "    print(channel_id)\n",
    "    print(instrument.parameters.keys())\n",
    "    print()"
   ]
  },
  {
   "cell_type": "code",
   "execution_count": 9,
   "metadata": {},
   "outputs": [],
   "source": [
    "flux_0.d5a.channels[0].voltage(1.5)"
   ]
  },
  {
   "cell_type": "code",
   "execution_count": null,
   "metadata": {},
   "outputs": [],
   "source": [
    "d5a.channels[0].voltage()"
   ]
  },
  {
   "cell_type": "code",
   "execution_count": 10,
   "metadata": {},
   "outputs": [
    {
     "data": {
      "text/plain": [
       "{'d5a': 1.5, 'qdac2': 1.0}"
      ]
     },
     "execution_count": 10,
     "metadata": {},
     "output_type": "execute_result"
    }
   ],
   "source": [
    "flux_0.voltage()"
   ]
  },
  {
   "cell_type": "code",
   "execution_count": null,
   "metadata": {},
   "outputs": [],
   "source": [
    "d5a.voltage()"
   ]
  },
  {
   "cell_type": "code",
   "execution_count": 2,
   "metadata": {},
   "outputs": [
    {
     "data": {
      "text/plain": [
       "Runcard(name='saruman', buses=[RuncardBus(alias='drive_bus', instruments=['qcm'], channels=[0, 1, 2, 3]), RuncardBus(alias='readout_bus', instruments=['qrm'], channels=[0, 1, 2, 3, 4, 5])], instruments=[QbloxQCMRuncardInstrument(type=<InstrumentType.QBLOX_QCM: 'qcm'>, settings=QbloxQCMSettings(alias='qcm', channels=[QbloxSequencerSettings(id=0, outputs=[0], hardware_modulation=False, intermediate_frequency=None, gain_imbalance=0.0, phase_imbalance=0.0, gain_i=1.0, gain_q=0.0, offset_i=0.0, offset_q=0.0), QbloxSequencerSettings(id=1, outputs=[1], hardware_modulation=False, intermediate_frequency=None, gain_imbalance=0.0, phase_imbalance=0.0, gain_i=1.0, gain_q=0.0, offset_i=0.0, offset_q=0.0), QbloxSequencerSettings(id=2, outputs=[2], hardware_modulation=False, intermediate_frequency=None, gain_imbalance=0.0, phase_imbalance=0.0, gain_i=1.0, gain_q=0.0, offset_i=0.0, offset_q=0.0), QbloxSequencerSettings(id=3, outputs=[3], hardware_modulation=False, intermediate_frequency=None, gain_imbalance=0.0, phase_imbalance=0.0, gain_i=1.0, gain_q=0.0, offset_i=0.0, offset_q=0.0)], timeout=60, outputs=[QbloxLFOutputSettings(port=0, offset=0.0), QbloxLFOutputSettings(port=1, offset=0.0), QbloxLFOutputSettings(port=2, offset=0.0), QbloxLFOutputSettings(port=3, offset=0.0)])), QbloxQRMRuncardInstrument(type=<InstrumentType.QBLOX_QRM: 'qrm'>, settings=QbloxQRMSettings(alias='qrm', channels=[QbloxADCSequencerSettings(id=0, outputs=[0], hardware_modulation=True, intermediate_frequency=500000000.0, gain_imbalance=0.0, phase_imbalance=0.0, gain_i=1.0, gain_q=1.0, offset_i=0.0, offset_q=0.0, inputs=[0], hardware_demodulation=True, integration_length=1000, threshold=0.0, threshold_rotation=0.0, time_of_flight=0), QbloxADCSequencerSettings(id=1, outputs=[0], hardware_modulation=True, intermediate_frequency=500000000.0, gain_imbalance=0.0, phase_imbalance=0.0, gain_i=1.0, gain_q=1.0, offset_i=0.0, offset_q=0.0, inputs=[0], hardware_demodulation=True, integration_length=1000, threshold=0.0, threshold_rotation=0.0, time_of_flight=0), QbloxADCSequencerSettings(id=2, outputs=[0], hardware_modulation=True, intermediate_frequency=500000000.0, gain_imbalance=0.0, phase_imbalance=0.0, gain_i=1.0, gain_q=1.0, offset_i=0.0, offset_q=0.0, inputs=[0], hardware_demodulation=True, integration_length=1000, threshold=0.0, threshold_rotation=0.0, time_of_flight=0), QbloxADCSequencerSettings(id=3, outputs=[0], hardware_modulation=True, intermediate_frequency=500000000.0, gain_imbalance=0.0, phase_imbalance=0.0, gain_i=1.0, gain_q=1.0, offset_i=0.0, offset_q=0.0, inputs=[0], hardware_demodulation=True, integration_length=1000, threshold=0.0, threshold_rotation=0.0, time_of_flight=0), QbloxADCSequencerSettings(id=4, outputs=[0], hardware_modulation=True, intermediate_frequency=500000000.0, gain_imbalance=0.0, phase_imbalance=0.0, gain_i=1.0, gain_q=1.0, offset_i=0.0, offset_q=0.0, inputs=[0], hardware_demodulation=True, integration_length=1000, threshold=0.0, threshold_rotation=0.0, time_of_flight=0), QbloxADCSequencerSettings(id=5, outputs=[0], hardware_modulation=True, intermediate_frequency=500000000.0, gain_imbalance=0.0, phase_imbalance=0.0, gain_i=1.0, gain_q=1.0, offset_i=0.0, offset_q=0.0, inputs=[0], hardware_demodulation=True, integration_length=1000, threshold=0.0, threshold_rotation=0.0, time_of_flight=0)], timeout=60, outputs=[QbloxLFOutputSettings(port=0, offset=0.0), QbloxLFOutputSettings(port=1, offset=0.0)], inputs=[QbloxLFInputSettings(port=0, gain=0, offset=0.0), QbloxLFInputSettings(port=1, gain=0, offset=0.0)], scope_hardware_averaging=True))], instrument_controllers=[QbloxClusterRuncardInstrumentController(type=<InstrumentControllerType.QBLOX_CLUSTER_CONTROLLER: 'qblox_cluster_controller'>, settings=QbloxClusterControllerSettings(alias='qblox_cluster', connection=ConnectionSettings(type=<ConnectionType.TCP_IP: 'tcp_ip'>, address='192.168.1.50'), modules=[InstrumentModule(alias='qcm', slot=7), InstrumentModule(alias='qrm', slot=10)], reset=True, reference_clock=<ReferenceClock.INTERNAL: 'internal'>))], analog=AnalogCompilationSettings(flux_control_topology=[FluxToBus(flux='phix_q0', bus='flux_q0_x'), FluxToBus(flux='phiz_q0', bus='flux_q0_z')]), digital=DigitalCompilationSettings(minimum_clock_time=4, delay_before_readout=0, topology=[], gates={'DRAG(0)': [GateEventSettings(bus='drive_q0', pulse=GateEventSettings.GatePulseSettings(amplitude=1.0, phase=40.0, duration=100, shape={}, options={}), wait_time=0)]}, buses={'drive_q0': DigitalCompilationBusSettings(line=<Line.DRIVE: 'drive'>, qubits=[0], delay=0, distortions=[], weights_i=[], weights_q=[], weighed_acq_enabled=False)}))"
      ]
     },
     "execution_count": 2,
     "metadata": {},
     "output_type": "execute_result"
    }
   ],
   "source": [
    "loaded_runcard = Runcard.load_from(\"runcards/saruman.yml\")\n",
    "loaded_runcard"
   ]
  },
  {
   "cell_type": "code",
   "execution_count": 3,
   "metadata": {},
   "outputs": [],
   "source": [
    "platform = Platform.load_from(runcard=loaded_runcard)"
   ]
  },
  {
   "cell_type": "code",
   "execution_count": 5,
   "metadata": {},
   "outputs": [
    {
     "data": {
      "text/plain": [
       "<qililab.buses.bus.Bus at 0x724a78017640>"
      ]
     },
     "execution_count": 5,
     "metadata": {},
     "output_type": "execute_result"
    }
   ],
   "source": [
    "drive_bus = platform.get_bus(alias=\"drive_bus\")\n",
    "drive_bus"
   ]
  },
  {
   "cell_type": "code",
   "execution_count": 5,
   "metadata": {},
   "outputs": [
    {
     "ename": "TimeoutError",
     "evalue": "timed out",
     "output_type": "error",
     "traceback": [
      "\u001b[0;31m---------------------------------------------------------------------------\u001b[0m",
      "\u001b[0;31mTimeoutError\u001b[0m                              Traceback (most recent call last)",
      "Cell \u001b[0;32mIn[5], line 1\u001b[0m\n\u001b[0;32m----> 1\u001b[0m platform\u001b[39m.\u001b[39;49mconnect()\n",
      "File \u001b[0;32m~/github/qililab/src/qililab/platform/platform.py:366\u001b[0m, in \u001b[0;36mPlatform.connect\u001b[0;34m(self)\u001b[0m\n\u001b[1;32m    363\u001b[0m     \u001b[39mreturn\u001b[39;00m\n\u001b[1;32m    365\u001b[0m \u001b[39mfor\u001b[39;00m instrument_controller \u001b[39min\u001b[39;00m \u001b[39mself\u001b[39m\u001b[39m.\u001b[39minstrument_controllers:\n\u001b[0;32m--> 366\u001b[0m     instrument_controller\u001b[39m.\u001b[39;49mconnect()\n\u001b[1;32m    368\u001b[0m \u001b[39mself\u001b[39m\u001b[39m.\u001b[39m_connected_to_instruments \u001b[39m=\u001b[39m \u001b[39mTrue\u001b[39;00m\n\u001b[1;32m    369\u001b[0m logger\u001b[39m.\u001b[39minfo(\u001b[39m\"\u001b[39m\u001b[39mConnected to the instruments\u001b[39m\u001b[39m\"\u001b[39m)\n",
      "File \u001b[0;32m~/github/qililab/src/qililab/instrument_controllers/instrument_controller.py:87\u001b[0m, in \u001b[0;36mInstrumentController.connect\u001b[0;34m(self)\u001b[0m\n\u001b[1;32m     85\u001b[0m \u001b[39mdef\u001b[39;00m\u001b[39m \u001b[39m\u001b[39mconnect\u001b[39m(\u001b[39mself\u001b[39m):\n\u001b[1;32m     86\u001b[0m \u001b[39m    \u001b[39m\u001b[39m\"\"\"Establishes the connection with the instrument and performs a reset (if necessary).\"\"\"\u001b[39;00m\n\u001b[0;32m---> 87\u001b[0m     \u001b[39mself\u001b[39;49m\u001b[39m.\u001b[39;49m_initialize_device_and_set_to_all_modules()\n\u001b[1;32m     88\u001b[0m     \u001b[39mself\u001b[39m\u001b[39m.\u001b[39m_connected \u001b[39m=\u001b[39m \u001b[39mTrue\u001b[39;00m\n\u001b[1;32m     89\u001b[0m     \u001b[39mif\u001b[39;00m \u001b[39mself\u001b[39m\u001b[39m.\u001b[39msettings\u001b[39m.\u001b[39mreset:\n",
      "File \u001b[0;32m~/github/qililab/src/qililab/instrument_controllers/instrument_controller.py:76\u001b[0m, in \u001b[0;36mInstrumentController._initialize_device_and_set_to_all_modules\u001b[0;34m(self)\u001b[0m\n\u001b[1;32m     74\u001b[0m \u001b[39mdef\u001b[39;00m\u001b[39m \u001b[39m\u001b[39m_initialize_device_and_set_to_all_modules\u001b[39m(\u001b[39mself\u001b[39m):\n\u001b[1;32m     75\u001b[0m \u001b[39m    \u001b[39m\u001b[39m\"\"\"Initialize the Controller Device driver and sets it for all modules\"\"\"\u001b[39;00m\n\u001b[0;32m---> 76\u001b[0m     \u001b[39mself\u001b[39;49m\u001b[39m.\u001b[39;49m_initialize_device()\n\u001b[1;32m     77\u001b[0m     \u001b[39mself\u001b[39m\u001b[39m.\u001b[39m_set_device_to_all_modules()\n",
      "File \u001b[0;32m~/github/qililab/src/qililab/instrument_controllers/qblox_cluster_controller.py:55\u001b[0m, in \u001b[0;36mQbloxClusterController._initialize_device\u001b[0;34m(self)\u001b[0m\n\u001b[1;32m     54\u001b[0m \u001b[39mdef\u001b[39;00m\u001b[39m \u001b[39m\u001b[39m_initialize_device\u001b[39m(\u001b[39mself\u001b[39m):\n\u001b[0;32m---> 55\u001b[0m     \u001b[39mself\u001b[39m\u001b[39m.\u001b[39mdevice \u001b[39m=\u001b[39m QbloxClusterDevice(name\u001b[39m=\u001b[39;49m\u001b[39mf\u001b[39;49m\u001b[39m\"\u001b[39;49m\u001b[39m{\u001b[39;49;00m\u001b[39mself\u001b[39;49m\u001b[39m.\u001b[39;49msettings\u001b[39m.\u001b[39;49malias\u001b[39m}\u001b[39;49;00m\u001b[39m\"\u001b[39;49m, identifier\u001b[39m=\u001b[39;49m\u001b[39mself\u001b[39;49m\u001b[39m.\u001b[39;49msettings\u001b[39m.\u001b[39;49mconnection\u001b[39m.\u001b[39;49maddress)\n",
      "File \u001b[0;32m~/miniconda3/envs/qililab_pydantic/lib/python3.10/site-packages/qcodes/instrument/instrument_meta.py:36\u001b[0m, in \u001b[0;36mInstrumentMeta.__call__\u001b[0;34m(cls, *args, **kwargs)\u001b[0m\n\u001b[1;32m     31\u001b[0m \u001b[39mdef\u001b[39;00m\u001b[39m \u001b[39m\u001b[39m__call__\u001b[39m(\u001b[39mcls\u001b[39m, \u001b[39m*\u001b[39margs: Any, \u001b[39m*\u001b[39m\u001b[39m*\u001b[39mkwargs: Any) \u001b[39m-\u001b[39m\u001b[39m>\u001b[39m Any:\n\u001b[1;32m     32\u001b[0m \u001b[39m    \u001b[39m\u001b[39m\"\"\"\u001b[39;00m\n\u001b[1;32m     33\u001b[0m \u001b[39m    Overloads `type.__call__` to add code that runs only if __init__ completes\u001b[39;00m\n\u001b[1;32m     34\u001b[0m \u001b[39m    successfully.\u001b[39;00m\n\u001b[1;32m     35\u001b[0m \u001b[39m    \"\"\"\u001b[39;00m\n\u001b[0;32m---> 36\u001b[0m     new_inst \u001b[39m=\u001b[39m \u001b[39msuper\u001b[39;49m()\u001b[39m.\u001b[39;49m\u001b[39m__call__\u001b[39;49m(\u001b[39m*\u001b[39;49margs, \u001b[39m*\u001b[39;49m\u001b[39m*\u001b[39;49mkwargs)\n\u001b[1;32m     37\u001b[0m     is_abstract \u001b[39m=\u001b[39m new_inst\u001b[39m.\u001b[39m_is_abstract()\n\u001b[1;32m     38\u001b[0m     \u001b[39mif\u001b[39;00m is_abstract:\n",
      "File \u001b[0;32m~/miniconda3/envs/qililab_pydantic/lib/python3.10/site-packages/qblox_instruments/qcodes_drivers/cluster.py:69\u001b[0m, in \u001b[0;36mCluster.__init__\u001b[0;34m(self, name, identifier, port, debug, dummy_cfg)\u001b[0m\n\u001b[1;32m     67\u001b[0m \u001b[39mif\u001b[39;00m identifier \u001b[39mis\u001b[39;00m \u001b[39mNone\u001b[39;00m:\n\u001b[1;32m     68\u001b[0m     identifier \u001b[39m=\u001b[39m name\n\u001b[0;32m---> 69\u001b[0m \u001b[39msuper\u001b[39;49m()\u001b[39m.\u001b[39;49m\u001b[39m__init__\u001b[39;49m(identifier, port, debug, dummy_cfg)\n\u001b[1;32m     70\u001b[0m Instrument\u001b[39m.\u001b[39m\u001b[39m__init__\u001b[39m(\u001b[39mself\u001b[39m, name)\n\u001b[1;32m     72\u001b[0m \u001b[39m# Set number of slots\u001b[39;00m\n",
      "File \u001b[0;32m~/miniconda3/envs/qililab_pydantic/lib/python3.10/site-packages/qblox_instruments/native/cluster.py:94\u001b[0m, in \u001b[0;36mCluster.__init__\u001b[0;34m(self, identifier, port, debug, dummy_cfg)\u001b[0m\n\u001b[1;32m     92\u001b[0m \u001b[39mif\u001b[39;00m port \u001b[39mis\u001b[39;00m \u001b[39mNone\u001b[39;00m:\n\u001b[1;32m     93\u001b[0m     port \u001b[39m=\u001b[39m addr_info\u001b[39m.\u001b[39mscpi_port\n\u001b[0;32m---> 94\u001b[0m \u001b[39mself\u001b[39m\u001b[39m.\u001b[39m_transport \u001b[39m=\u001b[39m IpTransport(host\u001b[39m=\u001b[39;49mhost, port\u001b[39m=\u001b[39;49mport)\n\u001b[1;32m     95\u001b[0m \u001b[39mif\u001b[39;00m debug \u001b[39mis\u001b[39;00m \u001b[39mNone\u001b[39;00m:\n\u001b[1;32m     96\u001b[0m     debug \u001b[39m=\u001b[39m \u001b[39m0\u001b[39m\n",
      "File \u001b[0;32m~/miniconda3/envs/qililab_pydantic/lib/python3.10/site-packages/qblox_instruments/ieee488_2/ip_transport.py:64\u001b[0m, in \u001b[0;36mIpTransport.__init__\u001b[0;34m(self, host, port, timeout, snd_buf_size)\u001b[0m\n\u001b[1;32m     62\u001b[0m \u001b[39mself\u001b[39m\u001b[39m.\u001b[39m_socket\u001b[39m.\u001b[39msetsockopt(socket\u001b[39m.\u001b[39mIPPROTO_TCP, socket\u001b[39m.\u001b[39mTCP_NODELAY, \u001b[39m1\u001b[39m)\n\u001b[1;32m     63\u001b[0m \u001b[39mself\u001b[39m\u001b[39m.\u001b[39m_set_keepalive()\n\u001b[0;32m---> 64\u001b[0m \u001b[39mself\u001b[39;49m\u001b[39m.\u001b[39;49m_socket\u001b[39m.\u001b[39;49mconnect((host, port))\n\u001b[1;32m     66\u001b[0m \u001b[39m# Timeout after connecting\u001b[39;00m\n\u001b[1;32m     67\u001b[0m \u001b[39mself\u001b[39m\u001b[39m.\u001b[39m_socket\u001b[39m.\u001b[39msettimeout(timeout)\n",
      "\u001b[0;31mTimeoutError\u001b[0m: timed out"
     ]
    }
   ],
   "source": [
    "platform.connect()"
   ]
  },
  {
   "cell_type": "code",
   "execution_count": null,
   "metadata": {},
   "outputs": [],
   "source": [
    "platform.disconnect()"
   ]
  }
 ],
 "metadata": {
  "kernelspec": {
   "display_name": "qililab_pydantic",
   "language": "python",
   "name": "python3"
  },
  "language_info": {
   "codemirror_mode": {
    "name": "ipython",
    "version": 3
   },
   "file_extension": ".py",
   "mimetype": "text/x-python",
   "name": "python",
   "nbconvert_exporter": "python",
   "pygments_lexer": "ipython3",
   "version": "3.10.16"
  },
  "orig_nbformat": 4
 },
 "nbformat": 4,
 "nbformat_minor": 2
}
