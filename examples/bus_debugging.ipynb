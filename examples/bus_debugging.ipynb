{
 "cells": [
  {
   "cell_type": "code",
   "execution_count": 1,
   "metadata": {},
   "outputs": [],
   "source": [
    "# from qililab.buses.bus import Bus\n",
    "from qililab.instrument_controllers.qblox_cluster_controller import QbloxClusterController\n",
    "from qililab.instrument_controllers.qblox_spi_rack_controller import QbloxSPIRackController\n",
    "from qililab.instrument_controllers.qdevil_qdac2_controller import QDevilQDAC2Controller\n",
    "from qililab.instruments.qblox_d5a import QbloxD5A\n",
    "from qililab.instruments.qblox_qcm import QbloxQCM\n",
    "from qililab.instruments.qblox_qcm_rf import QbloxQCMRF\n",
    "from qililab.instruments.qblox_qrm import QbloxQRM\n",
    "from qililab.instruments.qblox_qrm_rf import QbloxQRMRF\n",
    "from qililab.instruments.qblox_s4g import QbloxS4G\n",
    "from qililab.instruments.qdevil_qdac2 import QDevilQDAC2\n",
    "from qililab.instruments.quantum_machines_opx import QuantumMachinesOPX\n",
    "from qililab.instruments.rohde_schwarz_sg100 import RohdeSchwarzSG100\n",
    "from qililab.platform import Platform\n",
    "from qililab.runcard import Runcard\n",
    "from qililab.settings.instrument_controllers import (\n",
    "    QbloxClusterControllerSettings,\n",
    "    QbloxSPIRackControllerSettings,\n",
    "    QDevilQDAC2ControllerSettings,\n",
    ")\n",
    "from qililab.typings.enums import Parameter\n",
    "from qililab.waveforms import Gaussian, IQDrag, IQPair, Square\n",
    "from qililab.buses.bus import Bus\n",
    "from qililab.settings.buses.bus_settings import BusSettings\n",
    "from qpysequence import Sequence as QpySequence\n",
    "from qpysequence.acquisitions import Acquisitions\n",
    "from qpysequence.program import Program\n",
    "from qpysequence.sequence import Sequence\n",
    "from qpysequence.waveforms import Waveforms\n",
    "from qpysequence.weights import Weights"
   ]
  },
  {
   "cell_type": "code",
   "execution_count": 2,
   "metadata": {},
   "outputs": [],
   "source": [
    "d5a = QbloxD5A()\n",
    "qdac2 = QDevilQDAC2()\n",
    "qcm = QbloxQCM()"
   ]
  },
  {
   "cell_type": "code",
   "execution_count": 3,
   "metadata": {},
   "outputs": [],
   "source": [
    "loaded_instruments = [d5a, qdac2, qcm]"
   ]
  },
  {
   "cell_type": "code",
   "execution_count": 4,
   "metadata": {},
   "outputs": [],
   "source": [
    "channels = [d5a.settings.channels[0].id, qdac2.settings.channels[0].id, *qcm.channels]\n"
   ]
  },
  {
   "cell_type": "code",
   "execution_count": 5,
   "metadata": {},
   "outputs": [
    {
     "data": {
      "text/plain": [
       "[0, 0, 0, 1, 2, 3]"
      ]
     },
     "execution_count": 5,
     "metadata": {},
     "output_type": "execute_result"
    }
   ],
   "source": [
    "channels"
   ]
  },
  {
   "cell_type": "code",
   "execution_count": 6,
   "metadata": {},
   "outputs": [],
   "source": [
    "bus_settings = BusSettings(\n",
    "    alias=\"dc_flux_0\",\n",
    "    instruments=[d5a.alias, qdac2.alias, qcm.alias],\n",
    "    channels=channels,\n",
    ")\n",
    "flux_0 = Bus(settings=bus_settings, loaded_instruments=loaded_instruments)"
   ]
  },
  {
   "cell_type": "code",
   "execution_count": 7,
   "metadata": {},
   "outputs": [],
   "source": [
    "# sequence = QpySequence(Program(), Waveforms(), Acquisitions(), Weights())\n",
    "# flux_0.upload_qpysequence(sequence)"
   ]
  },
  {
   "cell_type": "code",
   "execution_count": 9,
   "metadata": {},
   "outputs": [
    {
     "name": "stderr",
     "output_type": "stream",
     "text": [
      "[qililab] [0.28.0|INFO|2025-03-18 14:39:58]: Sequence program: \n",
      " setup:\n",
      "                wait_sync        4              \n",
      "\n",
      "\n"
     ]
    },
    {
     "ename": "AttributeError",
     "evalue": "'QbloxQCM' object has no attribute 'device'",
     "output_type": "error",
     "traceback": [
      "\u001b[0;31m---------------------------------------------------------------------------\u001b[0m",
      "\u001b[0;31mAttributeError\u001b[0m                            Traceback (most recent call last)",
      "Cell \u001b[0;32mIn[9], line 1\u001b[0m\n\u001b[0;32m----> 1\u001b[0m flux_0\u001b[39m.\u001b[39;49mupload_qpysequence(sequence)\n",
      "File \u001b[0;32m~/github/qililab/src/qililab/buses/bus.py:131\u001b[0m, in \u001b[0;36mBus.upload_qpysequence\u001b[0;34m(self, qpysequence)\u001b[0m\n\u001b[1;32m    129\u001b[0m \u001b[39mfor\u001b[39;00m instrument, instrument_channel \u001b[39min\u001b[39;00m \u001b[39mself\u001b[39m\u001b[39m.\u001b[39minstruments_and_channels():\n\u001b[1;32m    130\u001b[0m     \u001b[39mif\u001b[39;00m \u001b[39misinstance\u001b[39m(instrument, QbloxModule):\n\u001b[0;32m--> 131\u001b[0m         instrument\u001b[39m.\u001b[39;49mupload_qpysequence(qpysequence\u001b[39m=\u001b[39;49mqpysequence, sequencer_id\u001b[39m=\u001b[39;49m\u001b[39mint\u001b[39;49m(instrument_channel))  \u001b[39m# type: ignore[arg-type]\u001b[39;00m\n\u001b[1;32m    132\u001b[0m         \u001b[39mreturn\u001b[39;00m\n\u001b[1;32m    134\u001b[0m \u001b[39mraise\u001b[39;00m \u001b[39mAttributeError\u001b[39;00m(\u001b[39mf\u001b[39m\u001b[39m\"\u001b[39m\u001b[39mBus \u001b[39m\u001b[39m{\u001b[39;00m\u001b[39mself\u001b[39m\u001b[39m.\u001b[39malias\u001b[39m}\u001b[39;00m\u001b[39m doesn\u001b[39m\u001b[39m'\u001b[39m\u001b[39mt have any QbloxModule to upload a qpysequence.\u001b[39m\u001b[39m\"\u001b[39m)\n",
      "File \u001b[0;32m~/github/qililab/src/qililab/instruments/qblox_module.py:228\u001b[0m, in \u001b[0;36mQbloxModule.upload_qpysequence\u001b[0;34m(self, qpysequence, sequencer_id)\u001b[0m\n\u001b[1;32m    226\u001b[0m \u001b[39mif\u001b[39;00m \u001b[39mself\u001b[39m\u001b[39m.\u001b[39m_is_sequencer_valid(sequencer_id):\n\u001b[1;32m    227\u001b[0m     logger\u001b[39m.\u001b[39minfo(\u001b[39m\"\u001b[39m\u001b[39mSequence program: \u001b[39m\u001b[39m\\n\u001b[39;00m\u001b[39m \u001b[39m\u001b[39m%s\u001b[39;00m\u001b[39m\"\u001b[39m, \u001b[39mrepr\u001b[39m(qpysequence\u001b[39m.\u001b[39m_program))\n\u001b[0;32m--> 228\u001b[0m     \u001b[39mself\u001b[39;49m\u001b[39m.\u001b[39;49mdevice\u001b[39m.\u001b[39msequencers[sequencer_id]\u001b[39m.\u001b[39msequence(qpysequence\u001b[39m.\u001b[39mtodict())\n\u001b[1;32m    229\u001b[0m     \u001b[39mself\u001b[39m\u001b[39m.\u001b[39mqpysequences[sequencer_id] \u001b[39m=\u001b[39m qpysequence\n",
      "\u001b[0;31mAttributeError\u001b[0m: 'QbloxQCM' object has no attribute 'device'"
     ]
    }
   ],
   "source": []
  },
  {
   "cell_type": "code",
   "execution_count": 5,
   "metadata": {},
   "outputs": [
    {
     "data": {
      "text/plain": [
       "qililab.buses.aggregated_bus_parameter.AggregatedBusParameter"
      ]
     },
     "execution_count": 5,
     "metadata": {},
     "output_type": "execute_result"
    }
   ],
   "source": [
    "type(flux_0.voltage)"
   ]
  },
  {
   "cell_type": "code",
   "execution_count": 6,
   "metadata": {},
   "outputs": [],
   "source": [
    "flux_0.voltage(1.0)"
   ]
  },
  {
   "cell_type": "code",
   "execution_count": 7,
   "metadata": {},
   "outputs": [
    {
     "data": {
      "text/plain": [
       "[(QbloxD5A(settings=alias='d5a' channels=[QbloxD5AChannelSettings(id=0, voltage=1.0, span=<QbloxD5ASpan.BI_2V: 'bi_2V'>, ramping_enabled=True, ramping_rate=0.1), QbloxD5AChannelSettings(id=1, voltage=0.0, span=<QbloxD5ASpan.BI_2V: 'bi_2V'>, ramping_enabled=True, ramping_rate=0.1), QbloxD5AChannelSettings(id=2, voltage=0.0, span=<QbloxD5ASpan.BI_2V: 'bi_2V'>, ramping_enabled=True, ramping_rate=0.1), QbloxD5AChannelSettings(id=3, voltage=0.0, span=<QbloxD5ASpan.BI_2V: 'bi_2V'>, ramping_enabled=True, ramping_rate=0.1), QbloxD5AChannelSettings(id=4, voltage=0.0, span=<QbloxD5ASpan.BI_2V: 'bi_2V'>, ramping_enabled=True, ramping_rate=0.1), QbloxD5AChannelSettings(id=5, voltage=0.0, span=<QbloxD5ASpan.BI_2V: 'bi_2V'>, ramping_enabled=True, ramping_rate=0.1), QbloxD5AChannelSettings(id=6, voltage=0.0, span=<QbloxD5ASpan.BI_2V: 'bi_2V'>, ramping_enabled=True, ramping_rate=0.1), QbloxD5AChannelSettings(id=7, voltage=0.0, span=<QbloxD5ASpan.BI_2V: 'bi_2V'>, ramping_enabled=True, ramping_rate=0.1), QbloxD5AChannelSettings(id=8, voltage=0.0, span=<QbloxD5ASpan.BI_2V: 'bi_2V'>, ramping_enabled=True, ramping_rate=0.1), QbloxD5AChannelSettings(id=9, voltage=0.0, span=<QbloxD5ASpan.BI_2V: 'bi_2V'>, ramping_enabled=True, ramping_rate=0.1), QbloxD5AChannelSettings(id=10, voltage=0.0, span=<QbloxD5ASpan.BI_2V: 'bi_2V'>, ramping_enabled=True, ramping_rate=0.1), QbloxD5AChannelSettings(id=11, voltage=0.0, span=<QbloxD5ASpan.BI_2V: 'bi_2V'>, ramping_enabled=True, ramping_rate=0.1), QbloxD5AChannelSettings(id=12, voltage=0.0, span=<QbloxD5ASpan.BI_2V: 'bi_2V'>, ramping_enabled=True, ramping_rate=0.1), QbloxD5AChannelSettings(id=13, voltage=0.0, span=<QbloxD5ASpan.BI_2V: 'bi_2V'>, ramping_enabled=True, ramping_rate=0.1), QbloxD5AChannelSettings(id=14, voltage=0.0, span=<QbloxD5ASpan.BI_2V: 'bi_2V'>, ramping_enabled=True, ramping_rate=0.1), QbloxD5AChannelSettings(id=15, voltage=0.0, span=<QbloxD5ASpan.BI_2V: 'bi_2V'>, ramping_enabled=True, ramping_rate=0.1)]),\n",
       "  0),\n",
       " (QDevilQDAC2(settings=alias='qdac2' channels=[QDevilQDAC2ChannelSettings(id=0, voltage=1.0, span=<QDevilQDAC2Span.LOW: 'low'>, ramping_enabled=True, ramping_rate=1.0, low_pass_filter=<QDevilQDAC2LowPassFilter.DC: 'dc'>), QDevilQDAC2ChannelSettings(id=1, voltage=0.0, span=<QDevilQDAC2Span.LOW: 'low'>, ramping_enabled=True, ramping_rate=1.0, low_pass_filter=<QDevilQDAC2LowPassFilter.DC: 'dc'>), QDevilQDAC2ChannelSettings(id=2, voltage=0.0, span=<QDevilQDAC2Span.LOW: 'low'>, ramping_enabled=True, ramping_rate=1.0, low_pass_filter=<QDevilQDAC2LowPassFilter.DC: 'dc'>), QDevilQDAC2ChannelSettings(id=3, voltage=0.0, span=<QDevilQDAC2Span.LOW: 'low'>, ramping_enabled=True, ramping_rate=1.0, low_pass_filter=<QDevilQDAC2LowPassFilter.DC: 'dc'>), QDevilQDAC2ChannelSettings(id=4, voltage=0.0, span=<QDevilQDAC2Span.LOW: 'low'>, ramping_enabled=True, ramping_rate=1.0, low_pass_filter=<QDevilQDAC2LowPassFilter.DC: 'dc'>), QDevilQDAC2ChannelSettings(id=5, voltage=0.0, span=<QDevilQDAC2Span.LOW: 'low'>, ramping_enabled=True, ramping_rate=1.0, low_pass_filter=<QDevilQDAC2LowPassFilter.DC: 'dc'>), QDevilQDAC2ChannelSettings(id=6, voltage=0.0, span=<QDevilQDAC2Span.LOW: 'low'>, ramping_enabled=True, ramping_rate=1.0, low_pass_filter=<QDevilQDAC2LowPassFilter.DC: 'dc'>), QDevilQDAC2ChannelSettings(id=7, voltage=0.0, span=<QDevilQDAC2Span.LOW: 'low'>, ramping_enabled=True, ramping_rate=1.0, low_pass_filter=<QDevilQDAC2LowPassFilter.DC: 'dc'>), QDevilQDAC2ChannelSettings(id=8, voltage=0.0, span=<QDevilQDAC2Span.LOW: 'low'>, ramping_enabled=True, ramping_rate=1.0, low_pass_filter=<QDevilQDAC2LowPassFilter.DC: 'dc'>), QDevilQDAC2ChannelSettings(id=9, voltage=0.0, span=<QDevilQDAC2Span.LOW: 'low'>, ramping_enabled=True, ramping_rate=1.0, low_pass_filter=<QDevilQDAC2LowPassFilter.DC: 'dc'>), QDevilQDAC2ChannelSettings(id=10, voltage=0.0, span=<QDevilQDAC2Span.LOW: 'low'>, ramping_enabled=True, ramping_rate=1.0, low_pass_filter=<QDevilQDAC2LowPassFilter.DC: 'dc'>), QDevilQDAC2ChannelSettings(id=11, voltage=0.0, span=<QDevilQDAC2Span.LOW: 'low'>, ramping_enabled=True, ramping_rate=1.0, low_pass_filter=<QDevilQDAC2LowPassFilter.DC: 'dc'>), QDevilQDAC2ChannelSettings(id=12, voltage=0.0, span=<QDevilQDAC2Span.LOW: 'low'>, ramping_enabled=True, ramping_rate=1.0, low_pass_filter=<QDevilQDAC2LowPassFilter.DC: 'dc'>), QDevilQDAC2ChannelSettings(id=13, voltage=0.0, span=<QDevilQDAC2Span.LOW: 'low'>, ramping_enabled=True, ramping_rate=1.0, low_pass_filter=<QDevilQDAC2LowPassFilter.DC: 'dc'>), QDevilQDAC2ChannelSettings(id=14, voltage=0.0, span=<QDevilQDAC2Span.LOW: 'low'>, ramping_enabled=True, ramping_rate=1.0, low_pass_filter=<QDevilQDAC2LowPassFilter.DC: 'dc'>), QDevilQDAC2ChannelSettings(id=15, voltage=0.0, span=<QDevilQDAC2Span.LOW: 'low'>, ramping_enabled=True, ramping_rate=1.0, low_pass_filter=<QDevilQDAC2LowPassFilter.DC: 'dc'>), QDevilQDAC2ChannelSettings(id=16, voltage=0.0, span=<QDevilQDAC2Span.LOW: 'low'>, ramping_enabled=True, ramping_rate=1.0, low_pass_filter=<QDevilQDAC2LowPassFilter.DC: 'dc'>), QDevilQDAC2ChannelSettings(id=17, voltage=0.0, span=<QDevilQDAC2Span.LOW: 'low'>, ramping_enabled=True, ramping_rate=1.0, low_pass_filter=<QDevilQDAC2LowPassFilter.DC: 'dc'>), QDevilQDAC2ChannelSettings(id=18, voltage=0.0, span=<QDevilQDAC2Span.LOW: 'low'>, ramping_enabled=True, ramping_rate=1.0, low_pass_filter=<QDevilQDAC2LowPassFilter.DC: 'dc'>), QDevilQDAC2ChannelSettings(id=19, voltage=0.0, span=<QDevilQDAC2Span.LOW: 'low'>, ramping_enabled=True, ramping_rate=1.0, low_pass_filter=<QDevilQDAC2LowPassFilter.DC: 'dc'>), QDevilQDAC2ChannelSettings(id=20, voltage=0.0, span=<QDevilQDAC2Span.LOW: 'low'>, ramping_enabled=True, ramping_rate=1.0, low_pass_filter=<QDevilQDAC2LowPassFilter.DC: 'dc'>), QDevilQDAC2ChannelSettings(id=21, voltage=0.0, span=<QDevilQDAC2Span.LOW: 'low'>, ramping_enabled=True, ramping_rate=1.0, low_pass_filter=<QDevilQDAC2LowPassFilter.DC: 'dc'>), QDevilQDAC2ChannelSettings(id=22, voltage=0.0, span=<QDevilQDAC2Span.LOW: 'low'>, ramping_enabled=True, ramping_rate=1.0, low_pass_filter=<QDevilQDAC2LowPassFilter.DC: 'dc'>), QDevilQDAC2ChannelSettings(id=23, voltage=0.0, span=<QDevilQDAC2Span.LOW: 'low'>, ramping_enabled=True, ramping_rate=1.0, low_pass_filter=<QDevilQDAC2LowPassFilter.DC: 'dc'>)]),\n",
       "  0)]"
      ]
     },
     "execution_count": 7,
     "metadata": {},
     "output_type": "execute_result"
    }
   ],
   "source": [
    "flux_0.instruments_and_channels()"
   ]
  },
  {
   "cell_type": "code",
   "execution_count": 8,
   "metadata": {},
   "outputs": [
    {
     "data": {
      "text/plain": [
       "{'d5a': 1.0, 'qdac2': 1.0}"
      ]
     },
     "execution_count": 8,
     "metadata": {},
     "output_type": "execute_result"
    }
   ],
   "source": [
    "flux_0.voltage.get()"
   ]
  },
  {
   "cell_type": "code",
   "execution_count": 13,
   "metadata": {},
   "outputs": [
    {
     "name": "stdout",
     "output_type": "stream",
     "text": [
      "QbloxD5A(settings=alias='d5a' channels=[QbloxD5AChannelSettings(id=0, voltage=1.0, span=<QbloxD5ASpan.BI_2V: 'bi_2V'>, ramping_enabled=True, ramping_rate=0.1), QbloxD5AChannelSettings(id=1, voltage=0.0, span=<QbloxD5ASpan.BI_2V: 'bi_2V'>, ramping_enabled=True, ramping_rate=0.1), QbloxD5AChannelSettings(id=2, voltage=0.0, span=<QbloxD5ASpan.BI_2V: 'bi_2V'>, ramping_enabled=True, ramping_rate=0.1), QbloxD5AChannelSettings(id=3, voltage=0.0, span=<QbloxD5ASpan.BI_2V: 'bi_2V'>, ramping_enabled=True, ramping_rate=0.1), QbloxD5AChannelSettings(id=4, voltage=0.0, span=<QbloxD5ASpan.BI_2V: 'bi_2V'>, ramping_enabled=True, ramping_rate=0.1), QbloxD5AChannelSettings(id=5, voltage=0.0, span=<QbloxD5ASpan.BI_2V: 'bi_2V'>, ramping_enabled=True, ramping_rate=0.1), QbloxD5AChannelSettings(id=6, voltage=0.0, span=<QbloxD5ASpan.BI_2V: 'bi_2V'>, ramping_enabled=True, ramping_rate=0.1), QbloxD5AChannelSettings(id=7, voltage=0.0, span=<QbloxD5ASpan.BI_2V: 'bi_2V'>, ramping_enabled=True, ramping_rate=0.1), QbloxD5AChannelSettings(id=8, voltage=0.0, span=<QbloxD5ASpan.BI_2V: 'bi_2V'>, ramping_enabled=True, ramping_rate=0.1), QbloxD5AChannelSettings(id=9, voltage=0.0, span=<QbloxD5ASpan.BI_2V: 'bi_2V'>, ramping_enabled=True, ramping_rate=0.1), QbloxD5AChannelSettings(id=10, voltage=0.0, span=<QbloxD5ASpan.BI_2V: 'bi_2V'>, ramping_enabled=True, ramping_rate=0.1), QbloxD5AChannelSettings(id=11, voltage=0.0, span=<QbloxD5ASpan.BI_2V: 'bi_2V'>, ramping_enabled=True, ramping_rate=0.1), QbloxD5AChannelSettings(id=12, voltage=0.0, span=<QbloxD5ASpan.BI_2V: 'bi_2V'>, ramping_enabled=True, ramping_rate=0.1), QbloxD5AChannelSettings(id=13, voltage=0.0, span=<QbloxD5ASpan.BI_2V: 'bi_2V'>, ramping_enabled=True, ramping_rate=0.1), QbloxD5AChannelSettings(id=14, voltage=0.0, span=<QbloxD5ASpan.BI_2V: 'bi_2V'>, ramping_enabled=True, ramping_rate=0.1), QbloxD5AChannelSettings(id=15, voltage=0.0, span=<QbloxD5ASpan.BI_2V: 'bi_2V'>, ramping_enabled=True, ramping_rate=0.1)])\n",
      "0\n",
      "dict_keys([])\n",
      "\n",
      "QDevilQDAC2(settings=alias='qdac2' channels=[QDevilQDAC2ChannelSettings(id=0, voltage=1.0, span=<QDevilQDAC2Span.LOW: 'low'>, ramping_enabled=True, ramping_rate=1.0, low_pass_filter=<QDevilQDAC2LowPassFilter.DC: 'dc'>), QDevilQDAC2ChannelSettings(id=1, voltage=0.0, span=<QDevilQDAC2Span.LOW: 'low'>, ramping_enabled=True, ramping_rate=1.0, low_pass_filter=<QDevilQDAC2LowPassFilter.DC: 'dc'>), QDevilQDAC2ChannelSettings(id=2, voltage=0.0, span=<QDevilQDAC2Span.LOW: 'low'>, ramping_enabled=True, ramping_rate=1.0, low_pass_filter=<QDevilQDAC2LowPassFilter.DC: 'dc'>), QDevilQDAC2ChannelSettings(id=3, voltage=0.0, span=<QDevilQDAC2Span.LOW: 'low'>, ramping_enabled=True, ramping_rate=1.0, low_pass_filter=<QDevilQDAC2LowPassFilter.DC: 'dc'>), QDevilQDAC2ChannelSettings(id=4, voltage=0.0, span=<QDevilQDAC2Span.LOW: 'low'>, ramping_enabled=True, ramping_rate=1.0, low_pass_filter=<QDevilQDAC2LowPassFilter.DC: 'dc'>), QDevilQDAC2ChannelSettings(id=5, voltage=0.0, span=<QDevilQDAC2Span.LOW: 'low'>, ramping_enabled=True, ramping_rate=1.0, low_pass_filter=<QDevilQDAC2LowPassFilter.DC: 'dc'>), QDevilQDAC2ChannelSettings(id=6, voltage=0.0, span=<QDevilQDAC2Span.LOW: 'low'>, ramping_enabled=True, ramping_rate=1.0, low_pass_filter=<QDevilQDAC2LowPassFilter.DC: 'dc'>), QDevilQDAC2ChannelSettings(id=7, voltage=0.0, span=<QDevilQDAC2Span.LOW: 'low'>, ramping_enabled=True, ramping_rate=1.0, low_pass_filter=<QDevilQDAC2LowPassFilter.DC: 'dc'>), QDevilQDAC2ChannelSettings(id=8, voltage=0.0, span=<QDevilQDAC2Span.LOW: 'low'>, ramping_enabled=True, ramping_rate=1.0, low_pass_filter=<QDevilQDAC2LowPassFilter.DC: 'dc'>), QDevilQDAC2ChannelSettings(id=9, voltage=0.0, span=<QDevilQDAC2Span.LOW: 'low'>, ramping_enabled=True, ramping_rate=1.0, low_pass_filter=<QDevilQDAC2LowPassFilter.DC: 'dc'>), QDevilQDAC2ChannelSettings(id=10, voltage=0.0, span=<QDevilQDAC2Span.LOW: 'low'>, ramping_enabled=True, ramping_rate=1.0, low_pass_filter=<QDevilQDAC2LowPassFilter.DC: 'dc'>), QDevilQDAC2ChannelSettings(id=11, voltage=0.0, span=<QDevilQDAC2Span.LOW: 'low'>, ramping_enabled=True, ramping_rate=1.0, low_pass_filter=<QDevilQDAC2LowPassFilter.DC: 'dc'>), QDevilQDAC2ChannelSettings(id=12, voltage=0.0, span=<QDevilQDAC2Span.LOW: 'low'>, ramping_enabled=True, ramping_rate=1.0, low_pass_filter=<QDevilQDAC2LowPassFilter.DC: 'dc'>), QDevilQDAC2ChannelSettings(id=13, voltage=0.0, span=<QDevilQDAC2Span.LOW: 'low'>, ramping_enabled=True, ramping_rate=1.0, low_pass_filter=<QDevilQDAC2LowPassFilter.DC: 'dc'>), QDevilQDAC2ChannelSettings(id=14, voltage=0.0, span=<QDevilQDAC2Span.LOW: 'low'>, ramping_enabled=True, ramping_rate=1.0, low_pass_filter=<QDevilQDAC2LowPassFilter.DC: 'dc'>), QDevilQDAC2ChannelSettings(id=15, voltage=0.0, span=<QDevilQDAC2Span.LOW: 'low'>, ramping_enabled=True, ramping_rate=1.0, low_pass_filter=<QDevilQDAC2LowPassFilter.DC: 'dc'>), QDevilQDAC2ChannelSettings(id=16, voltage=0.0, span=<QDevilQDAC2Span.LOW: 'low'>, ramping_enabled=True, ramping_rate=1.0, low_pass_filter=<QDevilQDAC2LowPassFilter.DC: 'dc'>), QDevilQDAC2ChannelSettings(id=17, voltage=0.0, span=<QDevilQDAC2Span.LOW: 'low'>, ramping_enabled=True, ramping_rate=1.0, low_pass_filter=<QDevilQDAC2LowPassFilter.DC: 'dc'>), QDevilQDAC2ChannelSettings(id=18, voltage=0.0, span=<QDevilQDAC2Span.LOW: 'low'>, ramping_enabled=True, ramping_rate=1.0, low_pass_filter=<QDevilQDAC2LowPassFilter.DC: 'dc'>), QDevilQDAC2ChannelSettings(id=19, voltage=0.0, span=<QDevilQDAC2Span.LOW: 'low'>, ramping_enabled=True, ramping_rate=1.0, low_pass_filter=<QDevilQDAC2LowPassFilter.DC: 'dc'>), QDevilQDAC2ChannelSettings(id=20, voltage=0.0, span=<QDevilQDAC2Span.LOW: 'low'>, ramping_enabled=True, ramping_rate=1.0, low_pass_filter=<QDevilQDAC2LowPassFilter.DC: 'dc'>), QDevilQDAC2ChannelSettings(id=21, voltage=0.0, span=<QDevilQDAC2Span.LOW: 'low'>, ramping_enabled=True, ramping_rate=1.0, low_pass_filter=<QDevilQDAC2LowPassFilter.DC: 'dc'>), QDevilQDAC2ChannelSettings(id=22, voltage=0.0, span=<QDevilQDAC2Span.LOW: 'low'>, ramping_enabled=True, ramping_rate=1.0, low_pass_filter=<QDevilQDAC2LowPassFilter.DC: 'dc'>), QDevilQDAC2ChannelSettings(id=23, voltage=0.0, span=<QDevilQDAC2Span.LOW: 'low'>, ramping_enabled=True, ramping_rate=1.0, low_pass_filter=<QDevilQDAC2LowPassFilter.DC: 'dc'>)])\n",
      "0\n",
      "dict_keys([])\n",
      "\n"
     ]
    }
   ],
   "source": [
    "for instrument, channel_id in flux_0.instruments_and_channels():\n",
    "    # Add top-level instrument parameters\n",
    "    print(instrument)\n",
    "    print(channel_id)\n",
    "    print(instrument.parameters.keys())\n",
    "    print()"
   ]
  },
  {
   "cell_type": "code",
   "execution_count": 14,
   "metadata": {},
   "outputs": [],
   "source": [
    "flux_0.d5a.channels[0].voltage(1.5)"
   ]
  },
  {
   "cell_type": "code",
   "execution_count": 15,
   "metadata": {},
   "outputs": [
    {
     "data": {
      "text/plain": [
       "{'d5a': 1.5, 'qdac2': 1.0}"
      ]
     },
     "execution_count": 15,
     "metadata": {},
     "output_type": "execute_result"
    }
   ],
   "source": [
    "flux_0.voltage()"
   ]
  }
 ],
 "metadata": {
  "kernelspec": {
   "display_name": "qililab_pydantic",
   "language": "python",
   "name": "python3"
  },
  "language_info": {
   "codemirror_mode": {
    "name": "ipython",
    "version": 3
   },
   "file_extension": ".py",
   "mimetype": "text/x-python",
   "name": "python",
   "nbconvert_exporter": "python",
   "pygments_lexer": "ipython3",
   "version": "3.10.16"
  },
  "orig_nbformat": 4
 },
 "nbformat": 4,
 "nbformat_minor": 2
}
