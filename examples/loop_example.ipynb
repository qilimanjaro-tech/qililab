{
 "cells": [
  {
   "cell_type": "code",
   "execution_count": 1,
   "metadata": {},
   "outputs": [
    {
     "name": "stderr",
     "output_type": "stream",
     "text": [
      "[Qibo 0.1.7|INFO|2022-11-24 23:30:02]: Using numpy backend on /CPU:0\n",
      "[Qibo 0.1.7|WARNING|2022-11-24 23:30:02]: numpy backend uses `np.einsum` and supports CPU only. Consider installing the qibojit or qibotf backends for increased performance and to enable GPU acceleration.\n"
     ]
    }
   ],
   "source": [
    "from copy import deepcopy\n",
    "\n",
    "from qililab.typings.enums import Parameter\n",
    "from qililab.typings.loop import LoopOptions\n",
    "from qililab.utils import Loop"
   ]
  },
  {
   "cell_type": "code",
   "execution_count": 3,
   "metadata": {},
   "outputs": [],
   "source": [
    "loop = Loop(\n",
    "    alias=\"QCM\", parameter=Parameter.FREQUENCIES, options=LoopOptions(start=1.0e08, stop=1.5e08, num=10, channel_id=0)\n",
    ")"
   ]
  },
  {
   "cell_type": "code",
   "execution_count": 5,
   "metadata": {},
   "outputs": [
    {
     "data": {
      "text/plain": [
       "{'alias': 'QCM',\n",
       " 'parameter': 'frequencies',\n",
       " 'options': {'start': 100000000.0,\n",
       "  'stop': 150000000.0,\n",
       "  'num': 10,\n",
       "  'step': None,\n",
       "  'logarithmic': False,\n",
       "  'channel_id': 0,\n",
       "  'values': None},\n",
       " 'loop': None}"
      ]
     },
     "execution_count": 5,
     "metadata": {},
     "output_type": "execute_result"
    }
   ],
   "source": [
    "loop.to_dict()"
   ]
  },
  {
   "cell_type": "code",
   "execution_count": 6,
   "metadata": {},
   "outputs": [],
   "source": [
    "loop_2 = Loop(\n",
    "    alias=\"QCM_2\", parameter=Parameter.FREQUENCIES, options=LoopOptions(start=1.0e08, stop=1.5e08, num=10, channel_id=0)\n",
    ")"
   ]
  },
  {
   "cell_type": "code",
   "execution_count": 7,
   "metadata": {},
   "outputs": [],
   "source": [
    "loops = Loop(\n",
    "    alias=\"QCM\",\n",
    "    parameter=Parameter.FREQUENCIES,\n",
    "    options=LoopOptions(start=1.0e08, stop=1.5e08, num=10, channel_id=0),\n",
    "    loop=loop_2,\n",
    ")"
   ]
  },
  {
   "cell_type": "code",
   "execution_count": 9,
   "metadata": {},
   "outputs": [
    {
     "data": {
      "text/plain": [
       "{'alias': 'QCM',\n",
       " 'parameter': 'frequencies',\n",
       " 'options': {'start': 100000000.0,\n",
       "  'stop': 150000000.0,\n",
       "  'num': 10,\n",
       "  'step': None,\n",
       "  'logarithmic': False,\n",
       "  'channel_id': 0,\n",
       "  'values': None},\n",
       " 'loop': {'alias': 'QCM_2',\n",
       "  'parameter': 'frequencies',\n",
       "  'options': {'start': 100000000.0,\n",
       "   'stop': 150000000.0,\n",
       "   'num': 10,\n",
       "   'step': None,\n",
       "   'logarithmic': False,\n",
       "   'channel_id': 0,\n",
       "   'values': None},\n",
       "  'loop': None}}"
      ]
     },
     "execution_count": 9,
     "metadata": {},
     "output_type": "execute_result"
    }
   ],
   "source": [
    "loops.to_dict()"
   ]
  },
  {
   "cell_type": "code",
   "execution_count": 12,
   "metadata": {},
   "outputs": [
    {
     "data": {
      "text/plain": [
       "array([1.00000000e+08, 1.05555556e+08, 1.11111111e+08, 1.16666667e+08,\n",
       "       1.22222222e+08, 1.27777778e+08, 1.33333333e+08, 1.38888889e+08,\n",
       "       1.44444444e+08, 1.50000000e+08])"
      ]
     },
     "execution_count": 12,
     "metadata": {},
     "output_type": "execute_result"
    }
   ],
   "source": [
    "loop.range"
   ]
  },
  {
   "cell_type": "code",
   "execution_count": 13,
   "metadata": {},
   "outputs": [
    {
     "data": {
      "text/plain": [
       "array([[100000000.0, 105555555.55555555, 111111111.1111111,\n",
       "        116666666.66666667, 122222222.22222222, 127777777.77777778,\n",
       "        133333333.33333334, 138888888.8888889, 144444444.44444445,\n",
       "        150000000.0]], dtype=object)"
      ]
     },
     "execution_count": 13,
     "metadata": {},
     "output_type": "execute_result"
    }
   ],
   "source": [
    "loop.ranges"
   ]
  },
  {
   "cell_type": "code",
   "execution_count": 14,
   "metadata": {},
   "outputs": [
    {
     "data": {
      "text/plain": [
       "array([[100000000.0, 105555555.55555555, 111111111.1111111,\n",
       "        116666666.66666667, 122222222.22222222, 127777777.77777778,\n",
       "        133333333.33333334, 138888888.8888889, 144444444.44444445,\n",
       "        150000000.0],\n",
       "       [100000000.0, 105555555.55555555, 111111111.1111111,\n",
       "        116666666.66666667, 122222222.22222222, 127777777.77777778,\n",
       "        133333333.33333334, 138888888.8888889, 144444444.44444445,\n",
       "        150000000.0]], dtype=object)"
      ]
     },
     "execution_count": 14,
     "metadata": {},
     "output_type": "execute_result"
    }
   ],
   "source": [
    "loops.ranges"
   ]
  },
  {
   "cell_type": "code",
   "execution_count": 15,
   "metadata": {},
   "outputs": [],
   "source": [
    "input_array = [1, 2, 3, 4, -4.5, 0]"
   ]
  },
  {
   "cell_type": "code",
   "execution_count": 17,
   "metadata": {},
   "outputs": [],
   "source": [
    "new_loop = Loop(alias=\"QRM\", parameter=Parameter.AMPLITUDE, options=LoopOptions(values=input_array))"
   ]
  },
  {
   "cell_type": "code",
   "execution_count": 19,
   "metadata": {},
   "outputs": [
    {
     "data": {
      "text/plain": [
       "{'alias': 'QRM',\n",
       " 'parameter': 'amplitude',\n",
       " 'options': {'start': 1,\n",
       "  'stop': 0,\n",
       "  'num': 6,\n",
       "  'step': None,\n",
       "  'logarithmic': False,\n",
       "  'channel_id': None,\n",
       "  'values': [1, 2, 3, 4, -4.5, 0]},\n",
       " 'loop': None}"
      ]
     },
     "execution_count": 19,
     "metadata": {},
     "output_type": "execute_result"
    }
   ],
   "source": [
    "new_loop.to_dict()"
   ]
  },
  {
   "cell_type": "code",
   "execution_count": 20,
   "metadata": {},
   "outputs": [],
   "source": [
    "log_loop = Loop(alias=\"QCM\", parameter=Parameter.GAIN, options=LoopOptions(start=1, stop=10, num=10, logarithmic=True))"
   ]
  },
  {
   "cell_type": "code",
   "execution_count": 23,
   "metadata": {},
   "outputs": [
    {
     "data": {
      "text/plain": [
       "array([ 1.        ,  1.29154967,  1.66810054,  2.15443469,  2.7825594 ,\n",
       "        3.59381366,  4.64158883,  5.9948425 ,  7.74263683, 10.        ])"
      ]
     },
     "execution_count": 23,
     "metadata": {},
     "output_type": "execute_result"
    }
   ],
   "source": [
    "log_loop.range"
   ]
  },
  {
   "cell_type": "code",
   "execution_count": null,
   "metadata": {},
   "outputs": [],
   "source": []
  }
 ],
 "metadata": {
  "kernelspec": {
   "display_name": "qililab",
   "language": "python",
   "name": "python3"
  },
  "language_info": {
   "codemirror_mode": {
    "name": "ipython",
    "version": 3
   },
   "file_extension": ".py",
   "mimetype": "text/x-python",
   "name": "python",
   "nbconvert_exporter": "python",
   "pygments_lexer": "ipython3",
   "version": "3.10.8"
  },
  "vscode": {
   "interpreter": {
    "hash": "121809f944b81f1847d4ffb8cf36b8f2cd17716ab162240359f9a9bc9250f6c8"
   }
  }
 },
 "nbformat": 4,
 "nbformat_minor": 4
}
