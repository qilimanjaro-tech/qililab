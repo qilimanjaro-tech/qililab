{
 "cells": [
  {
   "cell_type": "code",
   "execution_count": 1,
   "metadata": {},
   "outputs": [
    {
     "name": "stderr",
     "output_type": "stream",
     "text": [
      "[Qibo 0.1.7|INFO|2022-11-15 17:49:31]: Using numpy backend on /CPU:0\n",
      "[Qibo 0.1.7|WARNING|2022-11-15 17:49:31]: numpy backend uses `np.einsum` and supports CPU only. Consider installing the qibojit or qibotf backends for increased performance and to enable GPU acceleration.\n"
     ]
    }
   ],
   "source": [
    "from copy import deepcopy\n",
    "\n",
    "from qililab.typings.enums import Parameter\n",
    "from qililab.utils import Loop"
   ]
  },
  {
   "cell_type": "code",
   "execution_count": 2,
   "metadata": {},
   "outputs": [],
   "source": [
    "loop = Loop(alias=\"QCM\", parameter=Parameter.FREQUENCIES, start=1.0e08, stop=1.5e08, num=10, channel_id=0)"
   ]
  },
  {
   "cell_type": "code",
   "execution_count": 3,
   "metadata": {},
   "outputs": [
    {
     "data": {
      "text/plain": [
       "{'parameter': 'frequencies',\n",
       " 'start': 100000000.0,\n",
       " 'stop': 150000000.0,\n",
       " 'alias': 'QCM',\n",
       " 'instrument': None,\n",
       " 'id_': None,\n",
       " 'num': 10,\n",
       " 'step': None,\n",
       " 'loop': None,\n",
       " 'logarithmic': False,\n",
       " 'previous': None,\n",
       " 'channel_id': 0,\n",
       " 'values': None}"
      ]
     },
     "execution_count": 3,
     "metadata": {},
     "output_type": "execute_result"
    }
   ],
   "source": [
    "loop.to_dict()"
   ]
  },
  {
   "cell_type": "code",
   "execution_count": 4,
   "metadata": {},
   "outputs": [
    {
     "data": {
      "text/plain": [
       "array([[100000000.0, 105555555.55555555, 111111111.1111111,\n",
       "        116666666.66666667, 122222222.22222222, 127777777.77777778,\n",
       "        133333333.33333334, 138888888.8888889, 144444444.44444445,\n",
       "        150000000.0]], dtype=object)"
      ]
     },
     "execution_count": 4,
     "metadata": {},
     "output_type": "execute_result"
    }
   ],
   "source": [
    "loop.to_array()"
   ]
  },
  {
   "cell_type": "code",
   "execution_count": 5,
   "metadata": {},
   "outputs": [
    {
     "data": {
      "text/plain": [
       "array([1.00000000e+08, 1.05555556e+08, 1.11111111e+08, 1.16666667e+08,\n",
       "       1.22222222e+08, 1.27777778e+08, 1.33333333e+08, 1.38888889e+08,\n",
       "       1.44444444e+08, 1.50000000e+08])"
      ]
     },
     "execution_count": 5,
     "metadata": {},
     "output_type": "execute_result"
    }
   ],
   "source": [
    "loop.range"
   ]
  },
  {
   "cell_type": "code",
   "execution_count": 6,
   "metadata": {},
   "outputs": [],
   "source": [
    "input_array = deepcopy(loop.range)"
   ]
  },
  {
   "cell_type": "code",
   "execution_count": 7,
   "metadata": {},
   "outputs": [],
   "source": [
    "new_loop = Loop.from_array(parameter=Parameter.AMPLITUDE, alias=\"QRM\", values=input_array)"
   ]
  },
  {
   "cell_type": "code",
   "execution_count": 8,
   "metadata": {},
   "outputs": [
    {
     "data": {
      "text/plain": [
       "array([[100000000.0, 105555555.55555555, 111111111.1111111,\n",
       "        116666666.66666667, 122222222.22222222, 127777777.77777778,\n",
       "        133333333.33333334, 138888888.8888889, 144444444.44444445,\n",
       "        150000000.0]], dtype=object)"
      ]
     },
     "execution_count": 8,
     "metadata": {},
     "output_type": "execute_result"
    }
   ],
   "source": [
    "new_loop.to_array()"
   ]
  },
  {
   "cell_type": "code",
   "execution_count": 9,
   "metadata": {},
   "outputs": [
    {
     "data": {
      "text/plain": [
       "array([1.00000000e+08, 1.05555556e+08, 1.11111111e+08, 1.16666667e+08,\n",
       "       1.22222222e+08, 1.27777778e+08, 1.33333333e+08, 1.38888889e+08,\n",
       "       1.44444444e+08, 1.50000000e+08])"
      ]
     },
     "execution_count": 9,
     "metadata": {},
     "output_type": "execute_result"
    }
   ],
   "source": [
    "new_loop.range"
   ]
  },
  {
   "cell_type": "code",
   "execution_count": 10,
   "metadata": {},
   "outputs": [
    {
     "data": {
      "text/plain": [
       "array([[100000000.0, 105555555.55555555, 111111111.1111111,\n",
       "        116666666.66666667, 122222222.22222222, 127777777.77777778,\n",
       "        133333333.33333334, 138888888.8888889, 144444444.44444445,\n",
       "        150000000.0]], dtype=object)"
      ]
     },
     "execution_count": 10,
     "metadata": {},
     "output_type": "execute_result"
    }
   ],
   "source": [
    "new_loop.ranges"
   ]
  },
  {
   "cell_type": "code",
   "execution_count": 11,
   "metadata": {},
   "outputs": [
    {
     "data": {
      "text/plain": [
       "{'parameter': 'amplitude',\n",
       " 'start': 100000000.0,\n",
       " 'stop': 150000000.0,\n",
       " 'alias': 'QRM',\n",
       " 'instrument': None,\n",
       " 'id_': None,\n",
       " 'num': None,\n",
       " 'step': None,\n",
       " 'loop': None,\n",
       " 'logarithmic': False,\n",
       " 'previous': None,\n",
       " 'channel_id': None,\n",
       " 'values': [100000000.0,\n",
       "  105555555.55555555,\n",
       "  111111111.1111111,\n",
       "  116666666.66666667,\n",
       "  122222222.22222222,\n",
       "  127777777.77777778,\n",
       "  133333333.33333334,\n",
       "  138888888.8888889,\n",
       "  144444444.44444445,\n",
       "  150000000.0]}"
      ]
     },
     "execution_count": 11,
     "metadata": {},
     "output_type": "execute_result"
    }
   ],
   "source": [
    "new_loop.to_dict()"
   ]
  },
  {
   "cell_type": "code",
   "execution_count": 16,
   "metadata": {},
   "outputs": [],
   "source": [
    "log_loop = Loop(alias=\"QCM\", parameter=Parameter.GAIN, start=1, stop=10, num=10, logarithmic=True, channel_id=0)"
   ]
  },
  {
   "cell_type": "code",
   "execution_count": 17,
   "metadata": {},
   "outputs": [
    {
     "data": {
      "text/plain": [
       "array([[1.0, 1.2915496650148839, 1.6681005372000588, 2.154434690031884,\n",
       "        2.7825594022071245, 3.5938136638046276, 4.641588833612778,\n",
       "        5.994842503189409, 7.742636826811269, 10.0]], dtype=object)"
      ]
     },
     "execution_count": 17,
     "metadata": {},
     "output_type": "execute_result"
    }
   ],
   "source": [
    "log_loop.to_array()"
   ]
  },
  {
   "cell_type": "code",
   "execution_count": null,
   "metadata": {},
   "outputs": [],
   "source": []
  }
 ],
 "metadata": {
  "kernelspec": {
   "display_name": "Python 3.10.4 ('qililab')",
   "language": "python",
   "name": "python3"
  },
  "language_info": {
   "codemirror_mode": {
    "name": "ipython",
    "version": 3
   },
   "file_extension": ".py",
   "mimetype": "text/x-python",
   "name": "python",
   "nbconvert_exporter": "python",
   "pygments_lexer": "ipython3",
   "version": "3.10.4"
  },
  "orig_nbformat": 4,
  "vscode": {
   "interpreter": {
    "hash": "68ede8d50e294fa29dca3bb40e8760207660b5b612eb90d94521a9e31e3cbf6a"
   }
  }
 },
 "nbformat": 4,
 "nbformat_minor": 2
}
