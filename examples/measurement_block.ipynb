{
 "cells": [
  {
   "cell_type": "code",
   "execution_count": 1,
   "metadata": {},
   "outputs": [
    {
     "name": "stdout",
     "output_type": "stream",
     "text": [
      "2024-11-26 12:05:10,004 - qm - INFO     - Starting session: 82151a6a-adb6-4a37-82b3-771e802d1578\n"
     ]
    }
   ],
   "source": [
    "import qililab as ql"
   ]
  },
  {
   "cell_type": "code",
   "execution_count": 4,
   "metadata": {},
   "outputs": [],
   "source": [
    "calibration = ql.Calibration.load_from(\"./calibrations/ringup.yml\")"
   ]
  },
  {
   "cell_type": "code",
   "execution_count": 5,
   "metadata": {},
   "outputs": [
    {
     "ename": "FileNotFoundError",
     "evalue": "[Errno 2] No such file or directory: 'runcard.yml'",
     "output_type": "error",
     "traceback": [
      "\u001b[0;31m---------------------------------------------------------------------------\u001b[0m",
      "\u001b[0;31mFileNotFoundError\u001b[0m                         Traceback (most recent call last)",
      "Cell \u001b[0;32mIn[5], line 1\u001b[0m\n\u001b[0;32m----> 1\u001b[0m platform \u001b[39m=\u001b[39m ql\u001b[39m.\u001b[39;49mbuild_platform(runcard\u001b[39m=\u001b[39;49m\u001b[39m\"\u001b[39;49m\u001b[39mruncard.yml\u001b[39;49m\u001b[39m\"\u001b[39;49m)\n\u001b[1;32m      2\u001b[0m platform\u001b[39m.\u001b[39mconnect()\n\u001b[1;32m      3\u001b[0m platform\u001b[39m.\u001b[39minitial_setup()\n",
      "File \u001b[0;32m~/github/qililab/src/qililab/data_management.py:231\u001b[0m, in \u001b[0;36mbuild_platform\u001b[0;34m(runcard, new_drivers)\u001b[0m\n\u001b[1;32m    228\u001b[0m     \u001b[39mraise\u001b[39;00m \u001b[39mNotImplementedError\u001b[39;00m(\u001b[39m\"\u001b[39m\u001b[39mNew drivers are not supported yet.\u001b[39m\u001b[39m\"\u001b[39m)\n\u001b[1;32m    230\u001b[0m \u001b[39mif\u001b[39;00m \u001b[39misinstance\u001b[39m(runcard, \u001b[39mstr\u001b[39m):\n\u001b[0;32m--> 231\u001b[0m     \u001b[39mwith\u001b[39;00m \u001b[39mopen\u001b[39;49m(file\u001b[39m=\u001b[39;49mruncard, mode\u001b[39m=\u001b[39;49m\u001b[39m\"\u001b[39;49m\u001b[39mr\u001b[39;49m\u001b[39m\"\u001b[39;49m, encoding\u001b[39m=\u001b[39;49m\u001b[39m\"\u001b[39;49m\u001b[39mutf8\u001b[39;49m\u001b[39m\"\u001b[39;49m) \u001b[39mas\u001b[39;00m file:\n\u001b[1;32m    232\u001b[0m         yaml \u001b[39m=\u001b[39m YAML(typ\u001b[39m=\u001b[39m\u001b[39m\"\u001b[39m\u001b[39msafe\u001b[39m\u001b[39m\"\u001b[39m)\n\u001b[1;32m    233\u001b[0m         runcard \u001b[39m=\u001b[39m yaml\u001b[39m.\u001b[39mload(stream\u001b[39m=\u001b[39mfile)\n",
      "\u001b[0;31mFileNotFoundError\u001b[0m: [Errno 2] No such file or directory: 'runcard.yml'"
     ]
    }
   ],
   "source": [
    "platform = ql.build_platform(runcard=\"./runcards/contralto_saruman.yml\")\n",
    "platform.connect()\n",
    "platform.initial_setup()\n",
    "platform.turn_on_instruments()"
   ]
  }
 ],
 "metadata": {
  "kernelspec": {
   "display_name": "new_new_qililab",
   "language": "python",
   "name": "python3"
  },
  "language_info": {
   "codemirror_mode": {
    "name": "ipython",
    "version": 3
   },
   "file_extension": ".py",
   "mimetype": "text/x-python",
   "name": "python",
   "nbconvert_exporter": "python",
   "pygments_lexer": "ipython3",
   "version": "3.10.12"
  },
  "orig_nbformat": 4
 },
 "nbformat": 4,
 "nbformat_minor": 2
}
