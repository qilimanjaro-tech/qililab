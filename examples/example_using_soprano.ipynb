{
 "cells": [
  {
   "cell_type": "markdown",
   "metadata": {},
   "source": [
    "# Example notebook using Qililab"
   ]
  },
  {
   "cell_type": "code",
   "execution_count": 1,
   "metadata": {},
   "outputs": [
    {
     "name": "stderr",
     "output_type": "stream",
     "text": [
      "[Qibo 0.1.7|INFO|2022-12-07 16:13:13]: Using numpy backend on /CPU:0\n",
      "[Qibo 0.1.7|WARNING|2022-12-07 16:13:13]: numpy backend uses `np.einsum` and supports CPU only. Consider installing the qibojit or qibotf backends for increased performance and to enable GPU acceleration.\n"
     ]
    }
   ],
   "source": [
    "import os\n",
    "from pathlib import Path\n",
    "\n",
    "from qililab import Experiment, build_platform"
   ]
  },
  {
   "cell_type": "code",
   "execution_count": 2,
   "metadata": {},
   "outputs": [],
   "source": [
    "fname = os.path.abspath(\"\")\n",
    "os.environ[\"RUNCARDS\"] = str(Path(fname) / \"runcards\")\n",
    "os.environ[\"DATA\"] = str(Path(fname) / \"data\")"
   ]
  },
  {
   "cell_type": "markdown",
   "metadata": {},
   "source": [
    "## Load a platform"
   ]
  },
  {
   "cell_type": "code",
   "execution_count": 4,
   "metadata": {},
   "outputs": [
    {
     "name": "stderr",
     "output_type": "stream",
     "text": [
      "[qililab] [0.9.2|INFO|2022-12-07 16:23:04]: Building platform\n",
      "INFO:qililab.config.config:Building platform\n"
     ]
    }
   ],
   "source": [
    "runcard_name = \"template_base_runcard_soprano\"\n",
    "platform = build_platform(name=runcard_name)"
   ]
  },
  {
   "cell_type": "code",
   "execution_count": 5,
   "metadata": {},
   "outputs": [
    {
     "name": "stdout",
     "output_type": "stream",
     "text": [
      "Chip soprano with 7 qubits and 18 ports: \n",
      "\n",
      " * Port 1: ------\n",
      " * Port 2: ----|qubit_2|----\n",
      " * Port 3: ----|resonator_q6|--|resonator_q4|--|resonator_q3|--|resonator_isolated|--|resonator_q0|--|resonator_q2|--|resonator_q1|--|resonator_q5|----\n",
      " * Port 4: ------\n",
      " * Port 5: ----|qubit_4|----\n",
      " * Port 6: ----|qubit_4|----\n",
      " * Port 7: ----|qubit_2|----\n",
      " * Port 8: ----|qubit_1|----\n",
      " * Port 9: ----|qubit_1|----\n",
      " * Port 10: ------\n",
      " * Port 11: ----|resonator_q5|--|resonator_q1|--|resonator_q2|--|resonator_q0|--|resonator_isolated|--|resonator_q3|--|resonator_q4|--|resonator_q6|----\n",
      " * Port 12: ------\n",
      " * Port 13: ------\n",
      " * Port 14: ----|qubit_0|----\n",
      " * Port 15: ----|qubit_0|----\n",
      " * Port 16: ------\n",
      " * Port 17: ----|qubit_3|----\n",
      " * Port 18: ----|qubit_3|----\n",
      "\n"
     ]
    }
   ],
   "source": [
    "print(platform.chip)"
   ]
  },
  {
   "cell_type": "code",
   "execution_count": 6,
   "metadata": {},
   "outputs": [
    {
     "name": "stdout",
     "output_type": "stream",
     "text": [
      "Bus 0 (time_domain control):  -----|QCM_1|--|rs_2|------|qubit_2|----\n",
      "Bus 1 (time_domain readout):  -----|rs_5|--|QRM_0|------|resonator_q6|------|resonator_q4|------|resonator_q3|------|resonator_isolated|------|resonator_q0|------|resonator_q2|------|resonator_q1|------|resonator_q5|----\n",
      "Bus 2 (continuous current_bias):  -----|S4g_1|------|qubit_4|----\n",
      "Bus 3 (time_domain control):  -----|QCM_2|--|rs_4|------|qubit_4|----\n",
      "Bus 4 (continuous current_bias):  -----|S4g_0|------|qubit_2|----\n",
      "Bus 5 (time_domain control):  -----|QCM_0|--|rs_1|------|qubit_1|----\n",
      "Bus 6 (continuous current_bias):  -----|S4g_0|------|qubit_1|----\n",
      "Bus 7 (continuous current_bias):  -----|S4g_0|------|qubit_0|----\n",
      "Bus 8 (time_domain control):  -----|QCM_0|--|rs_0|------|qubit_0|----\n",
      "Bus 9 (time_domain control):  -----|QCM_1|--|rs_3|------|qubit_3|----\n",
      "Bus 10 (continuous current_bias):  -----|S4g_0|------|qubit_3|----\n"
     ]
    }
   ],
   "source": [
    "print(platform.schema)"
   ]
  },
  {
   "cell_type": "code",
   "execution_count": 6,
   "metadata": {},
   "outputs": [],
   "source": [
    "bus = platform.buses[0]"
   ]
  },
  {
   "cell_type": "code",
   "execution_count": 7,
   "metadata": {},
   "outputs": [],
   "source": [
    "sysctrl = bus.settings.system_control"
   ]
  },
  {
   "cell_type": "code",
   "execution_count": 8,
   "metadata": {},
   "outputs": [
    {
     "name": "stdout",
     "output_type": "stream",
     "text": [
      "<class 'str'>\n",
      "<class 'qililab.instruments.qblox.qblox_qcm.QbloxQCM'>\n",
      "awg QCM_0\n",
      "<class 'str'>\n",
      "<class 'qililab.instruments.rohde_schwarz.sgs100a.SGS100A'>\n",
      "signal_generator rs_2\n"
     ]
    }
   ],
   "source": [
    "for name, value in sysctrl.settings:\n",
    "    print(type(name))\n",
    "    print(type(value))\n",
    "    print(name, value)"
   ]
  },
  {
   "cell_type": "code",
   "execution_count": 9,
   "metadata": {},
   "outputs": [
    {
     "data": {
      "text/plain": [
       "{'id_': 0,\n",
       " 'name': <SystemControlName.TIME_DOMAIN_CONTROL_SYSTEM_CONTROL: 'time_domain_control_system_control'>,\n",
       " 'category': 'system_control',\n",
       " 'system_control_category': 'time_domain',\n",
       " 'system_control_subcategory': 'control',\n",
       " 'awg': 'QCM_0',\n",
       " 'signal_generator': 'rs_2'}"
      ]
     },
     "execution_count": 9,
     "metadata": {},
     "output_type": "execute_result"
    }
   ],
   "source": [
    "sysctrl.to_dict()"
   ]
  },
  {
   "cell_type": "code",
   "execution_count": null,
   "metadata": {},
   "outputs": [],
   "source": []
  },
  {
   "cell_type": "markdown",
   "metadata": {},
   "source": [
    "### Create an experiment"
   ]
  },
  {
   "cell_type": "code",
   "execution_count": null,
   "metadata": {},
   "outputs": [],
   "source": []
  },
  {
   "cell_type": "markdown",
   "metadata": {},
   "source": [
    "### Execute an experiment"
   ]
  },
  {
   "cell_type": "code",
   "execution_count": null,
   "metadata": {},
   "outputs": [],
   "source": []
  }
 ],
 "metadata": {
  "kernelspec": {
   "display_name": "qililab",
   "language": "python",
   "name": "python3"
  },
  "language_info": {
   "codemirror_mode": {
    "name": "ipython",
    "version": 3
   },
   "file_extension": ".py",
   "mimetype": "text/x-python",
   "name": "python",
   "nbconvert_exporter": "python",
   "pygments_lexer": "ipython3",
   "version": "3.10.8"
  },
  "orig_nbformat": 4,
  "vscode": {
   "interpreter": {
    "hash": "121809f944b81f1847d4ffb8cf36b8f2cd17716ab162240359f9a9bc9250f6c8"
   }
  }
 },
 "nbformat": 4,
 "nbformat_minor": 2
}
