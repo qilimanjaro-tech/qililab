{
 "cells": [
  {
   "attachments": {},
   "cell_type": "markdown",
   "metadata": {},
   "source": [
    "# Example notebook using Qililab"
   ]
  },
  {
   "cell_type": "code",
   "execution_count": 1,
   "metadata": {},
   "outputs": [
    {
     "name": "stdout",
     "output_type": "stream",
     "text": [
      "2023-11-13 13:06:23,190 - qm - INFO     - Starting session: 80af7f0b-9adb-4090-8aa9-2cf101b3ae46\n"
     ]
    }
   ],
   "source": [
    "import os\n",
    "from pathlib import Path\n",
    "\n",
    "import numpy as np\n",
    "from qibo.gates import CZ, M\n",
    "from qibo.models.circuit import Circuit\n",
    "\n",
    "import qililab as ql\n",
    "\n",
    "%matplotlib widget"
   ]
  },
  {
   "cell_type": "code",
   "execution_count": 3,
   "metadata": {},
   "outputs": [],
   "source": [
    "fname = os.path.abspath(\"\")\n",
    "os.environ[\"RUNCARDS\"] = str(Path(fname) / \"runcards\")\n",
    "os.environ[\"DATA\"] = str(Path(fname) / \"data\")"
   ]
  },
  {
   "attachments": {},
   "cell_type": "markdown",
   "metadata": {},
   "source": [
    "## Load a platform"
   ]
  },
  {
   "cell_type": "code",
   "execution_count": 4,
   "metadata": {},
   "outputs": [
    {
     "name": "stderr",
     "output_type": "stream",
     "text": [
      "[qililab] [0.21.1|WARNING|2023-11-13 11:56:54]: Cannot set `output_i=1` and `output_q=0` in hardware. The I/Q signals sent to sequencer 1 will be swapped to allow this setting.\n",
      "[qililab] [0.21.1|WARNING|2023-11-13 11:56:54]: Cannot set `output_i=3` and `output_q=2` in hardware. The I/Q signals sent to sequencer 3 will be swapped to allow this setting.\n"
     ]
    }
   ],
   "source": [
    "runcard_path = str(Path(fname) / \"runcards/galadriel.yml\")\n",
    "platform = ql.build_platform(runcard=runcard_path)"
   ]
  },
  {
   "attachments": {},
   "cell_type": "markdown",
   "metadata": {},
   "source": [
    "### Platform Chip"
   ]
  },
  {
   "cell_type": "code",
   "execution_count": 5,
   "metadata": {},
   "outputs": [
    {
     "name": "stdout",
     "output_type": "stream",
     "text": [
      "Chip with 5 qubits and 12 ports: \n",
      "\n",
      " * Port drive_line_q0 (drive): ----|qubit_0|----\n",
      " * Port drive_line_q1 (drive): ----|qubit_1|----\n",
      " * Port drive_line_q2 (drive): ----|qubit_2|----\n",
      " * Port drive_line_q3 (drive): ----|qubit_3|----\n",
      " * Port drive_line_q4 (drive): ----|qubit_4|----\n",
      " * Port flux_line_q0 (flux): ----|qubit_0|----\n",
      " * Port flux_line_q1 (flux): ----|qubit_1|----\n",
      " * Port flux_line_q2 (flux): ----|qubit_2|----\n",
      " * Port flux_line_q3 (flux): ----|qubit_3|----\n",
      " * Port flux_line_q4 (flux): ----|qubit_4|----\n",
      " * Port feedline_input (feedline_input): ----|resonator_q0|--|resonator_q1|--|resonator_q2|--|resonator_q3|--|resonator_q4|----\n",
      " * Port feedline_output (feedline_output): ----|resonator_q0|--|resonator_q1|--|resonator_q2|--|resonator_q3|--|resonator_q4|----\n",
      "\n"
     ]
    }
   ],
   "source": [
    "print(platform.chip)"
   ]
  },
  {
   "attachments": {},
   "cell_type": "markdown",
   "metadata": {},
   "source": [
    "### Platform Buses"
   ]
  },
  {
   "cell_type": "code",
   "execution_count": 6,
   "metadata": {},
   "outputs": [
    {
     "name": "stdout",
     "output_type": "stream",
     "text": [
      "Bus feedline_bus:  -----|QRM1|--|rs_1|------|resonator_q0|------|resonator_q1|------|resonator_q2|------|resonator_q3|------|resonator_q4|----\n",
      "Bus drive_line_q0_bus:  -----|QCM-RF1|------|qubit_0|----\n",
      "Bus flux_line_q0_bus:  -----|QCM1|------|qubit_0|----\n",
      "Bus drive_line_q1_bus:  -----|QCM-RF1|------|qubit_1|----\n",
      "Bus flux_line_q1_bus:  -----|QCM1|------|qubit_1|----\n",
      "Bus drive_line_q2_bus:  -----|QCM-RF2|------|qubit_2|----\n",
      "Bus flux_line_q2_bus:  -----|QCM2|------|qubit_2|----\n",
      "Bus drive_line_q3_bus:  -----|QCM-RF3|------|qubit_3|----\n",
      "Bus flux_line_q3_bus:  -----|QCM1|------|qubit_3|----\n",
      "Bus drive_line_q4_bus:  -----|QCM-RF3|------|qubit_4|----\n",
      "Bus flux_line_q4_bus:  -----|QCM1|------|qubit_4|----\n"
     ]
    }
   ],
   "source": [
    "print(platform.buses)"
   ]
  },
  {
   "attachments": {},
   "cell_type": "markdown",
   "metadata": {},
   "source": [
    "## Connect to a Platform"
   ]
  },
  {
   "cell_type": "code",
   "execution_count": 7,
   "metadata": {},
   "outputs": [
    {
     "ename": "TimeoutError",
     "evalue": "timed out",
     "output_type": "error",
     "traceback": [
      "\u001b[0;31m---------------------------------------------------------------------------\u001b[0m",
      "\u001b[0;31mTimeoutError\u001b[0m                              Traceback (most recent call last)",
      "Cell \u001b[0;32mIn[7], line 2\u001b[0m\n\u001b[1;32m      1\u001b[0m \u001b[39m# Connect to all instruments of the platform and block the connection for other users\u001b[39;00m\n\u001b[0;32m----> 2\u001b[0m platform\u001b[39m.\u001b[39;49mconnect(manual_override\u001b[39m=\u001b[39;49m\u001b[39mFalse\u001b[39;49;00m)  \u001b[39m# if manual_override=True, it surpasses any blocked connection\u001b[39;00m\n\u001b[1;32m      3\u001b[0m platform\u001b[39m.\u001b[39minitial_setup()  \u001b[39m# Sets all the values of the Runcard to the connected instruments\u001b[39;00m\n\u001b[1;32m      4\u001b[0m platform\u001b[39m.\u001b[39mturn_on_instruments()\n",
      "File \u001b[0;32m~/Projects/qililab/src/qililab/platform/platform.py:318\u001b[0m, in \u001b[0;36mPlatform.connect\u001b[0;34m(self, manual_override)\u001b[0m\n\u001b[1;32m    315\u001b[0m \u001b[39mif\u001b[39;00m \u001b[39mself\u001b[39m\u001b[39m.\u001b[39mconnection \u001b[39mis\u001b[39;00m \u001b[39mnot\u001b[39;00m \u001b[39mNone\u001b[39;00m \u001b[39mand\u001b[39;00m \u001b[39mnot\u001b[39;00m manual_override:\n\u001b[1;32m    316\u001b[0m     \u001b[39mself\u001b[39m\u001b[39m.\u001b[39mconnection\u001b[39m.\u001b[39mblock_device_id(device_id\u001b[39m=\u001b[39m\u001b[39mself\u001b[39m\u001b[39m.\u001b[39mdevice_id)\n\u001b[0;32m--> 318\u001b[0m \u001b[39mself\u001b[39;49m\u001b[39m.\u001b[39;49minstrument_controllers\u001b[39m.\u001b[39;49mconnect()\n\u001b[1;32m    319\u001b[0m \u001b[39mself\u001b[39m\u001b[39m.\u001b[39m_connected_to_instruments \u001b[39m=\u001b[39m \u001b[39mTrue\u001b[39;00m\n\u001b[1;32m    320\u001b[0m logger\u001b[39m.\u001b[39minfo(\u001b[39m\"\u001b[39m\u001b[39mConnected to the instruments\u001b[39m\u001b[39m\"\u001b[39m)\n",
      "File \u001b[0;32m~/Projects/qililab/src/qililab/instrument_controllers/instrument_controllers.py:37\u001b[0m, in \u001b[0;36mInstrumentControllers.connect\u001b[0;34m(self)\u001b[0m\n\u001b[1;32m     35\u001b[0m \u001b[39m\"\"\"Connect to all instrument controllers.\"\"\"\u001b[39;00m\n\u001b[1;32m     36\u001b[0m \u001b[39mfor\u001b[39;00m instrument_controller \u001b[39min\u001b[39;00m \u001b[39mself\u001b[39m\u001b[39m.\u001b[39melements:\n\u001b[0;32m---> 37\u001b[0m     instrument_controller\u001b[39m.\u001b[39;49mconnect()\n",
      "File \u001b[0;32m~/Projects/qililab/src/qililab/instrument_controllers/instrument_controller.py:212\u001b[0m, in \u001b[0;36mInstrumentController.connect\u001b[0;34m(self)\u001b[0m\n\u001b[1;32m    210\u001b[0m \u001b[39mdef\u001b[39;00m \u001b[39mconnect\u001b[39m(\u001b[39mself\u001b[39m):\n\u001b[1;32m    211\u001b[0m     \u001b[39m\"\"\"Establishes the connection with the instrument and performs a reset (if necessary).\"\"\"\u001b[39;00m\n\u001b[0;32m--> 212\u001b[0m     \u001b[39mself\u001b[39;49m\u001b[39m.\u001b[39;49m_initialize_device_and_set_to_all_modules()\n\u001b[1;32m    213\u001b[0m     \u001b[39mself\u001b[39m\u001b[39m.\u001b[39mconnection\u001b[39m.\u001b[39mconnect(device\u001b[39m=\u001b[39m\u001b[39mself\u001b[39m\u001b[39m.\u001b[39mdevice, device_name\u001b[39m=\u001b[39m\u001b[39mstr\u001b[39m(\u001b[39mself\u001b[39m))\n\u001b[1;32m    214\u001b[0m     \u001b[39mif\u001b[39;00m \u001b[39mself\u001b[39m\u001b[39m.\u001b[39msettings\u001b[39m.\u001b[39mreset:\n",
      "File \u001b[0;32m~/Projects/qililab/src/qililab/instrument_controllers/instrument_controller.py:146\u001b[0m, in \u001b[0;36mInstrumentController._initialize_device_and_set_to_all_modules\u001b[0;34m(self)\u001b[0m\n\u001b[1;32m    144\u001b[0m \u001b[39mdef\u001b[39;00m \u001b[39m_initialize_device_and_set_to_all_modules\u001b[39m(\u001b[39mself\u001b[39m):\n\u001b[1;32m    145\u001b[0m     \u001b[39m\"\"\"Initialize the Controller Device driver and sets it for all modules\"\"\"\u001b[39;00m\n\u001b[0;32m--> 146\u001b[0m     \u001b[39mself\u001b[39;49m\u001b[39m.\u001b[39;49m_initialize_device()\n\u001b[1;32m    147\u001b[0m     \u001b[39mself\u001b[39m\u001b[39m.\u001b[39m_set_device_to_all_modules()\n",
      "File \u001b[0;32m~/Projects/qililab/src/qililab/instrument_controllers/qblox/qblox_cluster_controller.py:50\u001b[0m, in \u001b[0;36mQbloxClusterController._initialize_device\u001b[0;34m(self)\u001b[0m\n\u001b[1;32m     48\u001b[0m \u001b[39mdef\u001b[39;00m \u001b[39m_initialize_device\u001b[39m(\u001b[39mself\u001b[39m):\n\u001b[1;32m     49\u001b[0m     \u001b[39m\"\"\"Initialize device controller.\"\"\"\u001b[39;00m\n\u001b[0;32m---> 50\u001b[0m     \u001b[39mself\u001b[39m\u001b[39m.\u001b[39mdevice \u001b[39m=\u001b[39m Cluster(name\u001b[39m=\u001b[39;49m\u001b[39mf\u001b[39;49m\u001b[39m\"\u001b[39;49m\u001b[39m{\u001b[39;49;00m\u001b[39mself\u001b[39;49m\u001b[39m.\u001b[39;49mname\u001b[39m.\u001b[39;49mvalue\u001b[39m}\u001b[39;49;00m\u001b[39m_\u001b[39;49m\u001b[39m{\u001b[39;49;00m\u001b[39mself\u001b[39;49m\u001b[39m.\u001b[39;49malias\u001b[39m}\u001b[39;49;00m\u001b[39m\"\u001b[39;49m, identifier\u001b[39m=\u001b[39;49m\u001b[39mself\u001b[39;49m\u001b[39m.\u001b[39;49maddress)\n",
      "File \u001b[0;32m~/miniconda3/envs/qililab/lib/python3.10/site-packages/qcodes/instrument/instrument_meta.py:36\u001b[0m, in \u001b[0;36mInstrumentMeta.__call__\u001b[0;34m(cls, *args, **kwargs)\u001b[0m\n\u001b[1;32m     31\u001b[0m \u001b[39mdef\u001b[39;00m \u001b[39m__call__\u001b[39m(\u001b[39mcls\u001b[39m, \u001b[39m*\u001b[39margs: Any, \u001b[39m*\u001b[39m\u001b[39m*\u001b[39mkwargs: Any) \u001b[39m-\u001b[39m\u001b[39m>\u001b[39m Any:\n\u001b[1;32m     32\u001b[0m     \u001b[39m\"\"\"\u001b[39;00m\n\u001b[1;32m     33\u001b[0m \u001b[39m    Overloads `type.__call__` to add code that runs only if __init__ completes\u001b[39;00m\n\u001b[1;32m     34\u001b[0m \u001b[39m    successfully.\u001b[39;00m\n\u001b[1;32m     35\u001b[0m \u001b[39m    \"\"\"\u001b[39;00m\n\u001b[0;32m---> 36\u001b[0m     new_inst \u001b[39m=\u001b[39m \u001b[39msuper\u001b[39;49m()\u001b[39m.\u001b[39;49m\u001b[39m__call__\u001b[39;49m(\u001b[39m*\u001b[39;49margs, \u001b[39m*\u001b[39;49m\u001b[39m*\u001b[39;49mkwargs)\n\u001b[1;32m     37\u001b[0m     is_abstract \u001b[39m=\u001b[39m new_inst\u001b[39m.\u001b[39m_is_abstract()\n\u001b[1;32m     38\u001b[0m     \u001b[39mif\u001b[39;00m is_abstract:\n",
      "File \u001b[0;32m~/miniconda3/envs/qililab/lib/python3.10/site-packages/qblox_instruments/qcodes_drivers/cluster.py:68\u001b[0m, in \u001b[0;36mCluster.__init__\u001b[0;34m(self, name, identifier, port, debug, dummy_cfg)\u001b[0m\n\u001b[1;32m     66\u001b[0m \u001b[39mif\u001b[39;00m identifier \u001b[39mis\u001b[39;00m \u001b[39mNone\u001b[39;00m:\n\u001b[1;32m     67\u001b[0m     identifier \u001b[39m=\u001b[39m name\n\u001b[0;32m---> 68\u001b[0m \u001b[39msuper\u001b[39;49m()\u001b[39m.\u001b[39;49m\u001b[39m__init__\u001b[39;49m(identifier, port, debug, dummy_cfg)\n\u001b[1;32m     69\u001b[0m Instrument\u001b[39m.\u001b[39m\u001b[39m__init__\u001b[39m(\u001b[39mself\u001b[39m, name)\n\u001b[1;32m     71\u001b[0m \u001b[39m# Set number of slots\u001b[39;00m\n",
      "File \u001b[0;32m~/miniconda3/envs/qililab/lib/python3.10/site-packages/qblox_instruments/native/cluster.py:88\u001b[0m, in \u001b[0;36mCluster.__init__\u001b[0;34m(self, identifier, port, debug, dummy_cfg)\u001b[0m\n\u001b[1;32m     86\u001b[0m \u001b[39mif\u001b[39;00m port \u001b[39mis\u001b[39;00m \u001b[39mNone\u001b[39;00m:\n\u001b[1;32m     87\u001b[0m     port \u001b[39m=\u001b[39m addr_info\u001b[39m.\u001b[39mscpi_port\n\u001b[0;32m---> 88\u001b[0m \u001b[39mself\u001b[39m\u001b[39m.\u001b[39m_transport \u001b[39m=\u001b[39m IpTransport(host\u001b[39m=\u001b[39;49mhost, port\u001b[39m=\u001b[39;49mport)\n\u001b[1;32m     89\u001b[0m \u001b[39mif\u001b[39;00m debug \u001b[39mis\u001b[39;00m \u001b[39mNone\u001b[39;00m:\n\u001b[1;32m     90\u001b[0m     debug \u001b[39m=\u001b[39m \u001b[39m0\u001b[39m\n",
      "File \u001b[0;32m~/miniconda3/envs/qililab/lib/python3.10/site-packages/qblox_instruments/ieee488_2/ip_transport.py:67\u001b[0m, in \u001b[0;36mIpTransport.__init__\u001b[0;34m(self, host, port, timeout, snd_buf_size)\u001b[0m\n\u001b[1;32m     65\u001b[0m \u001b[39mself\u001b[39m\u001b[39m.\u001b[39m_socket\u001b[39m.\u001b[39msetsockopt(socket\u001b[39m.\u001b[39mIPPROTO_TCP, socket\u001b[39m.\u001b[39mTCP_NODELAY, \u001b[39m1\u001b[39m)\n\u001b[1;32m     66\u001b[0m \u001b[39mself\u001b[39m\u001b[39m.\u001b[39m_set_keepalive()\n\u001b[0;32m---> 67\u001b[0m \u001b[39mself\u001b[39;49m\u001b[39m.\u001b[39;49m_socket\u001b[39m.\u001b[39;49mconnect((host, port))\n\u001b[1;32m     69\u001b[0m \u001b[39m# Timeout after connecting\u001b[39;00m\n\u001b[1;32m     70\u001b[0m \u001b[39mself\u001b[39m\u001b[39m.\u001b[39m_socket\u001b[39m.\u001b[39msettimeout(timeout)\n",
      "\u001b[0;31mTimeoutError\u001b[0m: timed out"
     ]
    }
   ],
   "source": [
    "# Connect to all instruments of the platform and block the connection for other users\n",
    "platform.connect(manual_override=False)  # if manual_override=True, it surpasses any blocked connection\n",
    "platform.initial_setup()  # Sets all the values of the Runcard to the connected instruments\n",
    "platform.turn_on_instruments()  # Turns on all instruments"
   ]
  },
  {
   "attachments": {},
   "cell_type": "markdown",
   "metadata": {},
   "source": [
    "## Create an experiment"
   ]
  },
  {
   "attachments": {},
   "cell_type": "markdown",
   "metadata": {},
   "source": [
    "### Create the circuit associated with the experiment"
   ]
  },
  {
   "cell_type": "code",
   "execution_count": null,
   "metadata": {},
   "outputs": [],
   "source": [
    "# Define Circuit to execute\n",
    "circuit = Circuit(5)\n",
    "circuit.add(ql.Drag(q=0, theta=1.23, phase=4.56))\n",
    "circuit.add(ql.Drag(q=2, theta=2, phase=3))\n",
    "circuit.add(CZ(2, 3))\n",
    "circuit.add(ql.Drag(3, 6, 7))\n",
    "circuit.add(M(0))"
   ]
  },
  {
   "attachments": {},
   "cell_type": "markdown",
   "metadata": {},
   "source": [
    "### Create loops over parameter values (optional)"
   ]
  },
  {
   "cell_type": "code",
   "execution_count": null,
   "metadata": {},
   "outputs": [],
   "source": [
    "lo_freq_loop = ql.Loop(\n",
    "    alias=\"drive_line_bus\",\n",
    "    parameter=ql.Parameter.LO_FREQUENCY,\n",
    "    values=np.linspace(start=6.0e09, stop=6.5e09, num=10),\n",
    ")"
   ]
  },
  {
   "attachments": {},
   "cell_type": "markdown",
   "metadata": {},
   "source": [
    "### Initialize the Experiment"
   ]
  },
  {
   "cell_type": "code",
   "execution_count": null,
   "metadata": {},
   "outputs": [],
   "source": [
    "settings = ql.ExperimentSettings(\n",
    "    hardware_average=1000,\n",
    "    repetition_duration=200_000,\n",
    "    software_average=1,\n",
    ")\n",
    "\n",
    "options = ql.ExperimentOptions(\n",
    "    loops=[lo_freq_loop],  # loops to run the experiment\n",
    "    settings=settings,  # experiment settings\n",
    "    name=\"experiment_name\",  # name of the experiment (it will be also used for the results folder name)\n",
    ")\n",
    "\n",
    "sample_experiment = ql.Experiment(\n",
    "    platform=platform,  # platform to run the experiment\n",
    "    circuits=[circuit],  # circuits to run the experiment\n",
    "    options=options,  # experiment options\n",
    ")"
   ]
  },
  {
   "attachments": {},
   "cell_type": "markdown",
   "metadata": {},
   "source": [
    "### Translate the circuit into pulses and build the Execution object"
   ]
  },
  {
   "cell_type": "code",
   "execution_count": null,
   "metadata": {},
   "outputs": [],
   "source": [
    "sample_experiment.build_execution()"
   ]
  },
  {
   "attachments": {},
   "cell_type": "markdown",
   "metadata": {},
   "source": [
    "### Draw pulses to be sent"
   ]
  },
  {
   "cell_type": "code",
   "execution_count": null,
   "metadata": {},
   "outputs": [],
   "source": [
    "sample_experiment.pulse_schedules[0].elements"
   ]
  },
  {
   "cell_type": "code",
   "execution_count": null,
   "metadata": {},
   "outputs": [],
   "source": [
    "figure = sample_experiment.draw()"
   ]
  },
  {
   "attachments": {},
   "cell_type": "markdown",
   "metadata": {},
   "source": [
    "## Check the compiled sequences of the experiment"
   ]
  },
  {
   "cell_type": "code",
   "execution_count": null,
   "metadata": {},
   "outputs": [],
   "source": [
    "# this method compiles the pulses into the assembly program and returns all the sequences sent to the instruments\n",
    "sequences = sample_experiment.compile()"
   ]
  },
  {
   "attachments": {},
   "cell_type": "markdown",
   "metadata": {},
   "source": [
    "Program of the drive line bus:"
   ]
  },
  {
   "cell_type": "code",
   "execution_count": null,
   "metadata": {},
   "outputs": [],
   "source": [
    "sequences[0][\"drive_line_q0_bus\"][0]._program"
   ]
  },
  {
   "attachments": {},
   "cell_type": "markdown",
   "metadata": {},
   "source": [
    "Program of the feedline input output bus:"
   ]
  },
  {
   "cell_type": "code",
   "execution_count": null,
   "metadata": {},
   "outputs": [],
   "source": [
    "sequences[0][\"feedline_bus\"][0]._program"
   ]
  },
  {
   "attachments": {},
   "cell_type": "markdown",
   "metadata": {},
   "source": [
    "## Run the experiment"
   ]
  },
  {
   "cell_type": "code",
   "execution_count": null,
   "metadata": {},
   "outputs": [],
   "source": [
    "results = sample_experiment.run()"
   ]
  },
  {
   "cell_type": "code",
   "execution_count": null,
   "metadata": {},
   "outputs": [],
   "source": [
    "print(results)"
   ]
  },
  {
   "attachments": {},
   "cell_type": "markdown",
   "metadata": {},
   "source": [
    "## Disconnect from a Platform\n",
    "\n",
    "- Disconnect all instruments specified in the loaded platform\n",
    "- Turns off the instruments only when explicitly specified (by default is set to False)"
   ]
  },
  {
   "cell_type": "code",
   "execution_count": null,
   "metadata": {},
   "outputs": [],
   "source": [
    "platform.disconnect()"
   ]
  }
 ],
 "metadata": {
  "kernelspec": {
   "display_name": "qililab",
   "language": "python",
   "name": "python3"
  },
  "language_info": {
   "codemirror_mode": {
    "name": "ipython",
    "version": 3
   },
   "file_extension": ".py",
   "mimetype": "text/x-python",
   "name": "python",
   "nbconvert_exporter": "python",
   "pygments_lexer": "ipython3",
   "version": "3.10.13"
  },
  "orig_nbformat": 4,
  "vscode": {
   "interpreter": {
    "hash": "53235e66022d071ba4e97ea4af77e14ac3da4c0ffb32c596d9da41d30d7af9ae"
   }
  }
 },
 "nbformat": 4,
 "nbformat_minor": 2
}
