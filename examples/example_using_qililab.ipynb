{
 "cells": [
  {
   "attachments": {},
   "cell_type": "markdown",
   "metadata": {},
   "source": [
    "# Example notebook using Qililab"
   ]
  },
  {
   "cell_type": "code",
   "execution_count": 6,
   "metadata": {},
   "outputs": [],
   "source": [
    "import os\n",
    "from pathlib import Path\n",
    "\n",
    "import matplotlib.pyplot as plt\n",
    "import numpy as np\n",
    "from qibo.gates import CZ, M\n",
    "from qibo.models.circuit import Circuit\n",
    "\n",
    "import qililab as ql\n",
    "\n",
    "%matplotlib widget"
   ]
  },
  {
   "cell_type": "code",
   "execution_count": 7,
   "metadata": {},
   "outputs": [],
   "source": [
    "fname = os.path.abspath(\"\")\n",
    "os.environ[\"RUNCARDS\"] = str(Path(fname) / \"runcards\")\n",
    "os.environ[\"DATA\"] = str(Path(fname) / \"data\")"
   ]
  },
  {
   "attachments": {},
   "cell_type": "markdown",
   "metadata": {},
   "source": [
    "## Load a platform"
   ]
  },
  {
   "cell_type": "code",
   "execution_count": 8,
   "metadata": {},
   "outputs": [
    {
     "name": "stderr",
     "output_type": "stream",
     "text": [
      "[qililab] [0.20.4|WARNING|2023-08-22 14:52:03]: Cannot set `output_i=1` and `output_q=0` in hardware. The I/Q signals sent to sequencer 1 will be swapped to allow this setting.\n",
      "WARNING:qililab.config.config:Cannot set `output_i=1` and `output_q=0` in hardware. The I/Q signals sent to sequencer 1 will be swapped to allow this setting.\n",
      "[qililab] [0.20.4|WARNING|2023-08-22 14:52:03]: Cannot set `output_i=3` and `output_q=2` in hardware. The I/Q signals sent to sequencer 3 will be swapped to allow this setting.\n",
      "WARNING:qililab.config.config:Cannot set `output_i=3` and `output_q=2` in hardware. The I/Q signals sent to sequencer 3 will be swapped to allow this setting.\n"
     ]
    }
   ],
   "source": [
    "runcard_path = str(Path(fname) / \"runcards/galadriel.yml\")\n",
    "platform = ql.build_platform(runcard=runcard_path)"
   ]
  },
  {
   "attachments": {},
   "cell_type": "markdown",
   "metadata": {},
   "source": [
    "### Platform Chip"
   ]
  },
  {
   "cell_type": "code",
   "execution_count": 9,
   "metadata": {},
   "outputs": [
    {
     "name": "stdout",
     "output_type": "stream",
     "text": [
      "Chip with 5 qubits and 12 ports: \n",
      "\n",
      " * Port drive_line_q0 (drive): ----|qubit_0|----\n",
      " * Port drive_line_q1 (drive): ----|qubit_1|----\n",
      " * Port drive_line_q2 (drive): ----|qubit_2|----\n",
      " * Port drive_line_q3 (drive): ----|qubit_3|----\n",
      " * Port drive_line_q4 (drive): ----|qubit_4|----\n",
      " * Port flux_line_q0 (flux): ----|qubit_0|----\n",
      " * Port flux_line_q1 (flux): ----|qubit_1|----\n",
      " * Port flux_line_q2 (flux): ----|qubit_2|----\n",
      " * Port flux_line_q3 (flux): ----|qubit_3|----\n",
      " * Port flux_line_q4 (flux): ----|qubit_4|----\n",
      " * Port feedline_input (feedline_input): ----|resonator_q0|--|resonator_q1|--|resonator_q2|--|resonator_q3|--|resonator_q4|----\n",
      " * Port feedline_output (feedline_output): ----|resonator_q0|--|resonator_q1|--|resonator_q2|--|resonator_q3|--|resonator_q4|----\n",
      "\n"
     ]
    }
   ],
   "source": [
    "print(platform.chip)"
   ]
  },
  {
   "attachments": {},
   "cell_type": "markdown",
   "metadata": {},
   "source": [
    "### Platform Buses"
   ]
  },
  {
   "cell_type": "code",
   "execution_count": 10,
   "metadata": {},
   "outputs": [
    {
     "name": "stdout",
     "output_type": "stream",
     "text": [
      "Bus feedline_bus:  -----|QRM1|--|rs_1|------|resonator_q0|------|resonator_q1|------|resonator_q2|------|resonator_q3|------|resonator_q4|----\n",
      "Bus drive_line_q0_bus:  -----|QCM-RF1|------|qubit_0|----\n",
      "Bus flux_line_q0_bus:  -----|QCM1|------|qubit_0|----\n",
      "Bus drive_line_q1_bus:  -----|QCM-RF1|------|qubit_1|----\n",
      "Bus flux_line_q1_bus:  -----|QCM1|------|qubit_1|----\n",
      "Bus drive_line_q2_bus:  -----|QCM-RF2|------|qubit_2|----\n",
      "Bus flux_line_q2_bus:  -----|QCM2|------|qubit_2|----\n",
      "Bus drive_line_q3_bus:  -----|QCM-RF3|------|qubit_3|----\n",
      "Bus flux_line_q3_bus:  -----|QCM1|------|qubit_3|----\n",
      "Bus drive_line_q4_bus:  -----|QCM-RF3|------|qubit_4|----\n",
      "Bus flux_line_q4_bus:  -----|QCM1|------|qubit_4|----\n"
     ]
    }
   ],
   "source": [
    "print(platform.buses)"
   ]
  },
  {
   "attachments": {},
   "cell_type": "markdown",
   "metadata": {},
   "source": [
    "## Connect to a Platform"
   ]
  },
  {
   "cell_type": "code",
   "execution_count": null,
   "metadata": {},
   "outputs": [],
   "source": [
    "# Connect to all instruments of the platform and block the connection for other users\n",
    "platform.connect(manual_override=False)  # if manual_override=True, it surpasses any blocked connection\n",
    "platform.initial_setup()  # Sets all the values of the Runcard to the connected instruments\n",
    "platform.turn_on_instruments()  # Turns on all instruments"
   ]
  },
  {
   "attachments": {},
   "cell_type": "markdown",
   "metadata": {},
   "source": [
    "## Create an experiment (Rabi example)"
   ]
  },
  {
   "attachments": {},
   "cell_type": "markdown",
   "metadata": {},
   "source": [
    "### Create the circuit associated with the experiment"
   ]
  },
  {
   "cell_type": "code",
   "execution_count": 11,
   "metadata": {},
   "outputs": [
    {
     "data": {
      "text/plain": [
       "MeasurementResult(qubits=(0,), nshots=0)"
      ]
     },
     "execution_count": 11,
     "metadata": {},
     "output_type": "execute_result"
    }
   ],
   "source": [
    "qubit = 0  # Qubit to run the Rabi on\n",
    "M_BUFFER_TIME = 0\n",
    "\n",
    "# Define Circuit to execute\n",
    "circuit = Circuit(qubit + 1)\n",
    "circuit.add(ql.Drag(qubit, theta=np.pi, phase=0))\n",
    "circuit.add(ql.Wait(qubit, M_BUFFER_TIME))\n",
    "circuit.add(M(qubit))"
   ]
  },
  {
   "cell_type": "markdown",
   "metadata": {},
   "source": [
    "## Run the experiment"
   ]
  },
  {
   "cell_type": "code",
   "execution_count": null,
   "metadata": {},
   "outputs": [],
   "source": [
    "results = []\n",
    "sweep_interval = np.linspace(0.05, 0.35, num=61)\n",
    "HW_AVG = 1000\n",
    "REPETITION_DURATION = 200_000\n",
    "\n",
    "# Run experiment\n",
    "for amp in sweep_interval:\n",
    "    platform.set_parameter(alias=f\"Drag({qubit})\", parameter=ql.Parameter.AMPLITUDE, value=float(amp))\n",
    "    result = platform.execute(program=circuit, num_avg=HW_AVG, repetition_duration=REPETITION_DURATION)\n",
    "    results.append(result.array)\n",
    "\n",
    "results = np.hstack(results)"
   ]
  },
  {
   "cell_type": "code",
   "execution_count": null,
   "metadata": {},
   "outputs": [],
   "source": [
    "job_name = f\"AC-Ra-q{qubit}\"\n",
    "loops = {f\"Drag({qubit})_amp\": sweep_interval}\n",
    "ql.save_results(results=results, loops=loops, data_path=\"../data/\", name=job_name)"
   ]
  },
  {
   "cell_type": "code",
   "execution_count": null,
   "metadata": {},
   "outputs": [],
   "source": [
    "def plot_iq(xdata, results: np.ndarray, title_label: str, xlabel: str):\n",
    "    fig, axes = plt.subplots(1, 2, figsize=(13, 7))\n",
    "    axes[0].plot(xdata, results[0], \"--o\", color=\"blue\")\n",
    "    axes[1].plot(xdata, results[1], \"--o\", color=\"blue\")\n",
    "    axes[0].set_title(\"I\")\n",
    "    axes[1].set_title(\"Q\")\n",
    "    axes[0].set_xlabel(xlabel)\n",
    "    axes[1].set_xlabel(xlabel)\n",
    "    axes[0].set_ylabel(\"Voltage [a.u.]\")\n",
    "    axes[1].set_ylabel(\"Voltage [a.u.]\")\n",
    "    fig.suptitle(title_label)\n",
    "    return fig, axes\n",
    "\n",
    "\n",
    "fig, axes = plot_iq(xdata=sweep_interval, results=results, title_label=f\"Rabi q{qubit}\", xlabel=\"Amplitude\")\n",
    "fig.show()"
   ]
  },
  {
   "attachments": {},
   "cell_type": "markdown",
   "metadata": {},
   "source": [
    "## Disconnect from a Platform\n",
    "\n",
    "- Disconnect all instruments specified in the loaded platform\n",
    "- Turns off the instruments only when explicitly specified (by default is set to False)"
   ]
  },
  {
   "cell_type": "code",
   "execution_count": null,
   "metadata": {},
   "outputs": [
    {
     "name": "stderr",
     "output_type": "stream",
     "text": [
      "[qibo-connection] 0.7.2|INFO|2023-03-23 12:44:08]: Device Galadriel Qblox rack released.\n",
      "INFO:qiboconnection.config:Device Galadriel Qblox rack released.\n",
      "[qililab] [0.16.1|INFO|2023-03-23 12:44:08]: Already disconnected from the instruments\n",
      "INFO:qililab.config.config:Already disconnected from the instruments\n"
     ]
    }
   ],
   "source": [
    "platform.disconnect()"
   ]
  }
 ],
 "metadata": {
  "kernelspec": {
   "display_name": "qililab",
   "language": "python",
   "name": "python3"
  },
  "language_info": {
   "codemirror_mode": {
    "name": "ipython",
    "version": 3
   },
   "file_extension": ".py",
   "mimetype": "text/x-python",
   "name": "python",
   "nbconvert_exporter": "python",
   "pygments_lexer": "ipython3",
   "version": "3.10.14"
  },
  "orig_nbformat": 4,
  "vscode": {
   "interpreter": {
    "hash": "53235e66022d071ba4e97ea4af77e14ac3da4c0ffb32c596d9da41d30d7af9ae"
   }
  }
 },
 "nbformat": 4,
 "nbformat_minor": 2
}
