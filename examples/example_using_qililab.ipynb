{
 "cells": [
  {
   "attachments": {},
   "cell_type": "markdown",
   "metadata": {},
   "source": [
    "# Example notebook using Qililab"
   ]
  },
  {
   "cell_type": "code",
   "execution_count": 1,
   "metadata": {},
   "outputs": [],
   "source": [
    "import os\n",
    "from pathlib import Path\n",
    "\n",
    "from qibo.gates import M, X\n",
    "from qibo.models.circuit import Circuit\n",
    "from qiboconnection.api import API, ConnectionConfiguration\n",
    "\n",
    "import qililab as ql\n",
    "\n",
    "%matplotlib widget"
   ]
  },
  {
   "cell_type": "code",
   "execution_count": 2,
   "metadata": {},
   "outputs": [],
   "source": [
    "fname = os.path.abspath(\"\")\n",
    "os.environ[\"RUNCARDS\"] = str(Path(fname) / \"runcards\")\n",
    "os.environ[\"DATA\"] = str(Path(fname) / \"data\")"
   ]
  },
  {
   "attachments": {},
   "cell_type": "markdown",
   "metadata": {},
   "source": [
    "## Set the Remote Connection for Live Plotting"
   ]
  },
  {
   "attachments": {},
   "cell_type": "markdown",
   "metadata": {},
   "source": [
    "Please replace the `test_username` and the `test_key` arguments of the API configuration:"
   ]
  },
  {
   "cell_type": "code",
   "execution_count": 3,
   "metadata": {},
   "outputs": [
    {
     "name": "stderr",
     "output_type": "stream",
     "text": [
      "[qibo-connection] 0.7.2|INFO|2023-03-30 17:28:41]: Storing personal qibo configuration...\n",
      "INFO:qiboconnection.config:Storing personal qibo configuration...\n"
     ]
    }
   ],
   "source": [
    "configuration = ConnectionConfiguration(username=\"username\", api_key=\"api_key\")\n",
    "connection = API(configuration=configuration)"
   ]
  },
  {
   "attachments": {},
   "cell_type": "markdown",
   "metadata": {},
   "source": [
    "## Load a platform"
   ]
  },
  {
   "cell_type": "code",
   "execution_count": 4,
   "metadata": {},
   "outputs": [
    {
     "name": "stderr",
     "output_type": "stream",
     "text": [
      "[qililab] [0.16.1|INFO|2023-03-30 17:28:41]: Building platform\n",
      "INFO:qililab.config.config:Building platform\n"
     ]
    }
   ],
   "source": [
    "runcard_name = \"sauron_soprano\"\n",
    "platform = ql.build_platform(name=runcard_name, connection=connection)"
   ]
  },
  {
   "attachments": {},
   "cell_type": "markdown",
   "metadata": {},
   "source": [
    "### Platform Chip"
   ]
  },
  {
   "cell_type": "code",
   "execution_count": 5,
   "metadata": {},
   "outputs": [
    {
     "name": "stdout",
     "output_type": "stream",
     "text": [
      "Chip None with 1 qubits and 2 ports: \n",
      "\n",
      " * Port 0: ----|qubit|----\n",
      " * Port 1: ----|resonator|----\n",
      "\n"
     ]
    }
   ],
   "source": [
    "print(platform.chip)"
   ]
  },
  {
   "attachments": {},
   "cell_type": "markdown",
   "metadata": {},
   "source": [
    "### Platform Buses"
   ]
  },
  {
   "cell_type": "code",
   "execution_count": 6,
   "metadata": {},
   "outputs": [
    {
     "name": "stdout",
     "output_type": "stream",
     "text": [
      "Bus 0:  -----|QCM|--|rs_2|------|qubit|----\n",
      "Bus 1:  -----|QRM|--|rs_1|------|resonator|----\n"
     ]
    }
   ],
   "source": [
    "print(platform.schema)"
   ]
  },
  {
   "attachments": {},
   "cell_type": "markdown",
   "metadata": {},
   "source": [
    "## Connect to a Platform"
   ]
  },
  {
   "cell_type": "code",
   "execution_count": null,
   "metadata": {},
   "outputs": [],
   "source": [
    "# Connect to all instruments of the platform and block the connection for other users\n",
    "platform.connect(manual_override=False)  # if manual_override=True, it surpasses any blocked connection\n",
    "platform.initial_setup()  # Sets all the values of the Runcard to the connected instruments\n",
    "platform.turn_on_instruments()  # Turns on all instruments"
   ]
  },
  {
   "attachments": {},
   "cell_type": "markdown",
   "metadata": {},
   "source": [
    "## Create an experiment"
   ]
  },
  {
   "attachments": {},
   "cell_type": "markdown",
   "metadata": {},
   "source": [
    "### Create the circuit associated with the experiment"
   ]
  },
  {
   "cell_type": "code",
   "execution_count": 8,
   "metadata": {},
   "outputs": [
    {
     "data": {
      "text/plain": [
       "MeasurementResult(qubits=(0,), nshots=0)"
      ]
     },
     "execution_count": 8,
     "metadata": {},
     "output_type": "execute_result"
    }
   ],
   "source": [
    "# Define Circuit to execute\n",
    "circuit = Circuit(1)\n",
    "circuit.add(X(0))\n",
    "circuit.add(M(0))"
   ]
  },
  {
   "attachments": {},
   "cell_type": "markdown",
   "metadata": {},
   "source": [
    "### Create loops over parameter values (optional)"
   ]
  },
  {
   "cell_type": "code",
   "execution_count": 9,
   "metadata": {},
   "outputs": [],
   "source": [
    "lo_freq_loop = ql.Loop(\n",
    "    alias=\"drive_line_bus\",\n",
    "    parameter=ql.Parameter.LO_FREQUENCY,\n",
    "    options=ql.LoopOptions(start=6.0e09, stop=6.5e09, num=10),\n",
    ")"
   ]
  },
  {
   "attachments": {},
   "cell_type": "markdown",
   "metadata": {},
   "source": [
    "### Initialize the Experiment"
   ]
  },
  {
   "cell_type": "code",
   "execution_count": 10,
   "metadata": {},
   "outputs": [],
   "source": [
    "settings = ql.ExperimentSettings(\n",
    "    hardware_average=1000,\n",
    "    repetition_duration=200_000,\n",
    "    software_average=1,\n",
    ")\n",
    "\n",
    "options = ql.ExperimentOptions(\n",
    "    loops=[lo_freq_loop],  # loops to run the experiment\n",
    "    settings=settings,  # experiment settings\n",
    "    name=\"experiment_name\",  # name of the experiment (it will be also used for the results folder name)\n",
    ")\n",
    "\n",
    "sample_experiment = ql.Experiment(\n",
    "    platform=platform,  # platform to run the experiment\n",
    "    circuits=[circuit],  # circuits to run the experiment\n",
    "    options=options,  # experiment options\n",
    ")"
   ]
  },
  {
   "attachments": {},
   "cell_type": "markdown",
   "metadata": {},
   "source": [
    "### Translate the circuit into pulses and build the Execution object"
   ]
  },
  {
   "cell_type": "code",
   "execution_count": 11,
   "metadata": {},
   "outputs": [],
   "source": [
    "sample_experiment.build_execution()"
   ]
  },
  {
   "attachments": {},
   "cell_type": "markdown",
   "metadata": {},
   "source": [
    "### Draw pulses to be sent"
   ]
  },
  {
   "cell_type": "code",
   "execution_count": 12,
   "metadata": {},
   "outputs": [
    {
     "data": {
      "application/vnd.jupyter.widget-view+json": {
       "model_id": "466c55dd1adb483fabea780fdb8b9dd8",
       "version_major": 2,
       "version_minor": 0
      },
      "image/png": "[encoded data removed]",
      "text/html": [
       "\n",
       "            <div style=\"display: inline-block;\">\n",
       "                <div class=\"jupyter-widgets widget-label\" style=\"text-align: center;\">\n",
       "                    Figure\n",
       "                </div>\n",
       "                <img src='data:image/png;base64,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' width=640.0/>\n",
       "            </div>\n",
       "        "
      ],
      "text/plain": [
       "Canvas(toolbar=Toolbar(toolitems=[('Home', 'Reset original view', 'home', 'home'), ('Back', 'Back to previous …"
      ]
     },
     "metadata": {},
     "output_type": "display_data"
    }
   ],
   "source": [
    "figure = sample_experiment.draw()"
   ]
  },
  {
   "attachments": {},
   "cell_type": "markdown",
   "metadata": {},
   "source": [
    "## Check the compiled sequences of the experiment"
   ]
  },
  {
   "cell_type": "code",
   "execution_count": 23,
   "metadata": {},
   "outputs": [],
   "source": [
    "# this method compiles the pulses into the assembly program and returns all the sequences sent to the instruments\n",
    "sequences = sample_experiment.compile()"
   ]
  },
  {
   "attachments": {},
   "cell_type": "markdown",
   "metadata": {},
   "source": [
    "Program of the drive line bus:"
   ]
  },
  {
   "cell_type": "code",
   "execution_count": 24,
   "metadata": {},
   "outputs": [
    {
     "data": {
      "text/plain": [
       "setup:\n",
       "    move             1000, R0\n",
       "    wait_sync        4\n",
       "    \n",
       "average:\n",
       "    reset_ph\n",
       "    play             0, 1, 4\n",
       "    long_wait_1:\n",
       "        move             3, R1\n",
       "        long_wait_1_loop:\n",
       "            wait             65532\n",
       "            loop             R1, @long_wait_1_loop\n",
       "        wait             3400\n",
       "        \n",
       "    loop             R0, @average\n",
       "stop:\n",
       "    stop\n",
       "    "
      ]
     },
     "execution_count": 24,
     "metadata": {},
     "output_type": "execute_result"
    }
   ],
   "source": [
    "sequences[0][\"drive_line_bus\"][0]._program"
   ]
  },
  {
   "attachments": {},
   "cell_type": "markdown",
   "metadata": {},
   "source": [
    "Program of the feedline input output bus:"
   ]
  },
  {
   "cell_type": "code",
   "execution_count": 26,
   "metadata": {},
   "outputs": [
    {
     "data": {
      "text/plain": [
       "setup:\n",
       "    move             1000, R0\n",
       "    wait_sync        4\n",
       "    \n",
       "average:\n",
       "    wait             60\n",
       "    reset_ph\n",
       "    play             0, 1, 4\n",
       "    acquire          0, 0, 4\n",
       "    long_wait_2:\n",
       "        move             3, R1\n",
       "        long_wait_2_loop:\n",
       "            wait             65532\n",
       "            loop             R1, @long_wait_2_loop\n",
       "        wait             3336\n",
       "        \n",
       "    loop             R0, @average\n",
       "stop:\n",
       "    stop\n",
       "    "
      ]
     },
     "execution_count": 26,
     "metadata": {},
     "output_type": "execute_result"
    }
   ],
   "source": [
    "sequences[0][\"feedline_input_output_bus\"][0]._program"
   ]
  },
  {
   "attachments": {},
   "cell_type": "markdown",
   "metadata": {},
   "source": [
    "## Run the experiment"
   ]
  },
  {
   "cell_type": "code",
   "execution_count": 14,
   "metadata": {},
   "outputs": [],
   "source": [
    "results = sample_experiment.run()"
   ]
  },
  {
   "cell_type": "code",
   "execution_count": null,
   "metadata": {},
   "outputs": [],
   "source": [
    "print(results)"
   ]
  },
  {
   "attachments": {},
   "cell_type": "markdown",
   "metadata": {},
   "source": [
    "## Disconnect from a Platform\n",
    "\n",
    "- Disconnect all instruments specified in the loaded platform\n",
    "- Turns off the instruments only when explicitly specified (by default is set to False)"
   ]
  },
  {
   "cell_type": "code",
   "execution_count": 13,
   "metadata": {},
   "outputs": [
    {
     "name": "stderr",
     "output_type": "stream",
     "text": [
      "[qibo-connection] 0.7.2|INFO|2023-03-23 12:44:08]: Device Galadriel Qblox rack released.\n",
      "INFO:qiboconnection.config:Device Galadriel Qblox rack released.\n",
      "[qililab] [0.16.1|INFO|2023-03-23 12:44:08]: Already disconnected from the instruments\n",
      "INFO:qililab.config.config:Already disconnected from the instruments\n"
     ]
    }
   ],
   "source": [
    "platform.disconnect()"
   ]
  }
 ],
 "metadata": {
  "kernelspec": {
   "display_name": "qililab",
   "language": "python",
   "name": "python3"
  },
  "language_info": {
   "codemirror_mode": {
    "name": "ipython",
    "version": 3
   },
   "file_extension": ".py",
   "mimetype": "text/x-python",
   "name": "python",
   "nbconvert_exporter": "python",
   "pygments_lexer": "ipython3",
   "version": "3.10.6"
  },
  "orig_nbformat": 4,
  "vscode": {
   "interpreter": {
    "hash": "53235e66022d071ba4e97ea4af77e14ac3da4c0ffb32c596d9da41d30d7af9ae"
   }
  }
 },
 "nbformat": 4,
 "nbformat_minor": 2
}
