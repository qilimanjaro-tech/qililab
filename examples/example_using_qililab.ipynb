{
 "cells": [
  {
   "cell_type": "markdown",
   "metadata": {},
   "source": [
    "# Example notebook using Qililab"
   ]
  },
  {
   "cell_type": "code",
   "execution_count": 1,
   "metadata": {},
   "outputs": [
    {
     "name": "stderr",
     "output_type": "stream",
     "text": [
      "[Qibo 0.1.7|INFO|2022-11-27 17:17:21]: Using numpy backend on /CPU:0\n",
      "[Qibo 0.1.7|WARNING|2022-11-27 17:17:21]: numpy backend uses `np.einsum` and supports CPU only. Consider installing the qibojit or qibotf backends for increased performance and to enable GPU acceleration.\n"
     ]
    }
   ],
   "source": [
    "import os\n",
    "from pathlib import Path\n",
    "\n",
    "from qililab import Experiment, build_platform"
   ]
  },
  {
   "cell_type": "code",
   "execution_count": 2,
   "metadata": {},
   "outputs": [],
   "source": [
    "fname = os.path.abspath(\"\")\n",
    "os.environ[\"RUNCARDS\"] = str(Path(fname) / \"runcards\")\n",
    "os.environ[\"DATA\"] = str(Path(fname) / \"data\")"
   ]
  },
  {
   "cell_type": "markdown",
   "metadata": {},
   "source": [
    "## Load a platform"
   ]
  },
  {
   "cell_type": "code",
   "execution_count": 3,
   "metadata": {},
   "outputs": [
    {
     "name": "stderr",
     "output_type": "stream",
     "text": [
      "[qililab] [0.9.2|INFO|2022-11-27 17:17:27]: Building platform\n",
      "INFO:qililab.config.config:Building platform\n"
     ]
    }
   ],
   "source": [
    "runcard_name = \"template_base_runcard_soprano\"\n",
    "platform = build_platform(name=runcard_name)"
   ]
  },
  {
   "cell_type": "code",
   "execution_count": 4,
   "metadata": {},
   "outputs": [
    {
     "name": "stdout",
     "output_type": "stream",
     "text": [
      "Chip soprano with 7 qubits and 18 ports: \n",
      "\n",
      " * Port 1: ------\n",
      " * Port 2: ----|qubit_2|----\n",
      " * Port 3: ----|resonator_q6|--|resonator_q4|--|resonator_q3|--|resonator_isolated|--|resonator_q0|--|resonator_q2|--|resonator_q1|--|resonator_q5|----\n",
      " * Port 4: ------\n",
      " * Port 5: ----|qubit_4|----\n",
      " * Port 6: ----|qubit_4|----\n",
      " * Port 7: ----|qubit_2|----\n",
      " * Port 8: ----|qubit_1|----\n",
      " * Port 9: ----|qubit_1|----\n",
      " * Port 10: ------\n",
      " * Port 11: ----|resonator_q5|--|resonator_q1|--|resonator_q2|--|resonator_q0|--|resonator_isolated|--|resonator_q3|--|resonator_q4|--|resonator_q6|----\n",
      " * Port 12: ------\n",
      " * Port 13: ------\n",
      " * Port 14: ----|qubit_0|----\n",
      " * Port 15: ----|qubit_0|----\n",
      " * Port 16: ------\n",
      " * Port 17: ----|qubit_3|----\n",
      " * Port 18: ----|qubit_3|----\n",
      "\n"
     ]
    }
   ],
   "source": [
    "print(platform.chip)"
   ]
  },
  {
   "cell_type": "markdown",
   "metadata": {},
   "source": [
    "### Create an experiment"
   ]
  },
  {
   "cell_type": "code",
   "execution_count": 33,
   "metadata": {},
   "outputs": [
    {
     "name": "stderr",
     "output_type": "stream",
     "text": [
      "[qililab] [0.7.3|INFO|2022-10-04 11:52:15]: Building platform\n",
      "INFO:qililab.config.config:Building platform\n"
     ]
    }
   ],
   "source": []
  },
  {
   "cell_type": "markdown",
   "metadata": {},
   "source": [
    "### Execute an experiment"
   ]
  },
  {
   "cell_type": "code",
   "execution_count": null,
   "metadata": {},
   "outputs": [],
   "source": []
  }
 ],
 "metadata": {
  "kernelspec": {
   "display_name": "Python 3.10.4 ('qililab')",
   "language": "python",
   "name": "python3"
  },
  "language_info": {
   "codemirror_mode": {
    "name": "ipython",
    "version": 3
   },
   "file_extension": ".py",
   "mimetype": "text/x-python",
   "name": "python",
   "nbconvert_exporter": "python",
   "pygments_lexer": "ipython3",
   "version": "3.10.4"
  },
  "orig_nbformat": 4,
  "vscode": {
   "interpreter": {
    "hash": "68ede8d50e294fa29dca3bb40e8760207660b5b612eb90d94521a9e31e3cbf6a"
   }
  }
 },
 "nbformat": 4,
 "nbformat_minor": 2
}
