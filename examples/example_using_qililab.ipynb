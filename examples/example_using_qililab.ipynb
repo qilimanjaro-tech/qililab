{
 "cells": [
  {
   "attachments": {},
   "cell_type": "markdown",
   "metadata": {},
   "source": [
    "# Example notebook using Qililab"
   ]
  },
  {
   "cell_type": "code",
   "execution_count": null,
   "metadata": {},
   "outputs": [],
   "source": [
    "import os\n",
    "from pathlib import Path\n",
    "\n",
    "import numpy as np\n",
    "from qibo.gates import CZ, M\n",
    "from qibo.models.circuit import Circuit\n",
    "\n",
    "import qililab as ql\n",
    "\n",
    "%matplotlib widget"
   ]
  },
  {
   "cell_type": "code",
   "execution_count": null,
   "metadata": {},
   "outputs": [],
   "source": [
    "fname = os.path.abspath(\"\")\n",
    "os.environ[\"RUNCARDS\"] = str(Path(fname) / \"runcards\")\n",
    "os.environ[\"DATA\"] = str(Path(fname) / \"data\")"
   ]
  },
  {
   "attachments": {},
   "cell_type": "markdown",
   "metadata": {},
   "source": [
    "## Load a platform"
   ]
  },
  {
   "cell_type": "code",
   "execution_count": null,
   "metadata": {},
   "outputs": [],
   "source": [
    "runcard_path = str(Path(fname) / \"runcards/galadriel.yml\")\n",
    "platform = ql.build_platform(runcard=runcard_path)"
   ]
  },
  {
   "attachments": {},
   "cell_type": "markdown",
   "metadata": {},
   "source": [
    "### Platform Chip"
   ]
  },
  {
   "cell_type": "code",
   "execution_count": null,
   "metadata": {},
   "outputs": [],
   "source": [
    "print(platform.chip)"
   ]
  },
  {
   "attachments": {},
   "cell_type": "markdown",
   "metadata": {},
   "source": [
    "### Platform Buses"
   ]
  },
  {
   "cell_type": "code",
   "execution_count": null,
   "metadata": {},
   "outputs": [],
   "source": [
    "print(platform.buses)"
   ]
  },
  {
   "attachments": {},
   "cell_type": "markdown",
   "metadata": {},
   "source": [
    "## Connect to a Platform"
   ]
  },
  {
   "cell_type": "code",
   "execution_count": null,
   "metadata": {},
   "outputs": [],
   "source": [
    "# Connect to all instruments of the platform and block the connection for other users\n",
    "platform.connect(manual_override=False)  # if manual_override=True, it surpasses any blocked connection\n",
    "platform.initial_setup()  # Sets all the values of the Runcard to the connected instruments\n",
    "platform.turn_on_instruments()  # Turns on all instruments"
   ]
  },
  {
   "attachments": {},
   "cell_type": "markdown",
   "metadata": {},
   "source": [
    "## Create an experiment"
   ]
  },
  {
   "attachments": {},
   "cell_type": "markdown",
   "metadata": {},
   "source": [
    "### Create the circuit associated with the experiment"
   ]
  },
  {
   "cell_type": "code",
   "execution_count": null,
   "metadata": {},
   "outputs": [],
   "source": [
    "# Define Circuit to execute\n",
    "circuit = Circuit(5)\n",
    "circuit.add(ql.Drag(q=0, theta=1.23, phase=4.56))\n",
    "circuit.add(ql.Drag(q=2, theta=2, phase=3))\n",
    "circuit.add(CZ(2, 3))\n",
    "circuit.add(ql.Drag(3, 6, 7))\n",
    "circuit.add(M(0))"
   ]
  },
  {
   "attachments": {},
   "cell_type": "markdown",
   "metadata": {},
   "source": [
    "### Create loops over parameter values (optional)"
   ]
  },
  {
   "cell_type": "code",
   "execution_count": null,
   "metadata": {},
   "outputs": [],
   "source": [
    "lo_freq_loop = ql.Loop(\n",
    "    alias=\"drive_line_bus\",\n",
    "    parameter=ql.Parameter.LO_FREQUENCY,\n",
    "    values=np.linspace(start=6.0e09, stop=6.5e09, num=10),\n",
    ")"
   ]
  },
  {
   "attachments": {},
   "cell_type": "markdown",
   "metadata": {},
   "source": [
    "### Initialize the Experiment"
   ]
  },
  {
   "cell_type": "code",
   "execution_count": null,
   "metadata": {},
   "outputs": [],
   "source": [
    "settings = ql.ExperimentSettings(\n",
    "    hardware_average=1000,\n",
    "    repetition_duration=200_000,\n",
    "    software_average=1,\n",
    ")\n",
    "\n",
    "options = ql.ExperimentOptions(\n",
    "    loops=[lo_freq_loop],  # loops to run the experiment\n",
    "    settings=settings,  # experiment settings\n",
    "    name=\"experiment_name\",  # name of the experiment (it will be also used for the results folder name)\n",
    ")\n",
    "\n",
    "sample_experiment = ql.Experiment(\n",
    "    platform=platform,  # platform to run the experiment\n",
    "    circuits=[circuit],  # circuits to run the experiment\n",
    "    options=options,  # experiment options\n",
    ")"
   ]
  },
  {
   "attachments": {},
   "cell_type": "markdown",
   "metadata": {},
   "source": [
    "### Translate the circuit into pulses and build the Execution object"
   ]
  },
  {
   "cell_type": "code",
   "execution_count": null,
   "metadata": {},
   "outputs": [],
   "source": [
    "sample_experiment.build_execution()"
   ]
  },
  {
   "attachments": {},
   "cell_type": "markdown",
   "metadata": {},
   "source": [
    "### Draw pulses to be sent"
   ]
  },
  {
   "cell_type": "code",
   "execution_count": null,
   "metadata": {},
   "outputs": [],
   "source": [
    "sample_experiment.pulse_schedules[0].elements"
   ]
  },
  {
   "cell_type": "code",
   "execution_count": null,
   "metadata": {},
   "outputs": [],
   "source": [
    "figure = sample_experiment.draw()"
   ]
  },
  {
   "attachments": {},
   "cell_type": "markdown",
   "metadata": {},
   "source": [
    "## Check the compiled sequences of the experiment"
   ]
  },
  {
   "cell_type": "code",
   "execution_count": null,
   "metadata": {},
   "outputs": [],
   "source": [
    "# this method compiles the pulses into the assembly program and returns all the sequences sent to the instruments\n",
    "sequences = sample_experiment.compile()"
   ]
  },
  {
   "attachments": {},
   "cell_type": "markdown",
   "metadata": {},
   "source": [
    "Program of the drive line bus:"
   ]
  },
  {
   "cell_type": "code",
   "execution_count": null,
   "metadata": {},
   "outputs": [],
   "source": [
    "sequences[0][\"drive_line_q0_bus\"][0]._program"
   ]
  },
  {
   "attachments": {},
   "cell_type": "markdown",
   "metadata": {},
   "source": [
    "Program of the feedline input output bus:"
   ]
  },
  {
   "cell_type": "code",
   "execution_count": null,
   "metadata": {},
   "outputs": [],
   "source": [
    "sequences[0][\"feedline_bus\"][0]._program"
   ]
  },
  {
   "attachments": {},
   "cell_type": "markdown",
   "metadata": {},
   "source": [
    "## Run the experiment"
   ]
  },
  {
   "cell_type": "code",
   "execution_count": null,
   "metadata": {},
   "outputs": [],
   "source": [
    "results = sample_experiment.run()"
   ]
  },
  {
   "cell_type": "code",
   "execution_count": null,
   "metadata": {},
   "outputs": [],
   "source": [
    "print(results)"
   ]
  },
  {
   "attachments": {},
   "cell_type": "markdown",
   "metadata": {},
   "source": [
    "## Disconnect from a Platform\n",
    "\n",
    "- Disconnect all instruments specified in the loaded platform\n",
    "- Turns off the instruments only when explicitly specified (by default is set to False)"
   ]
  },
  {
   "cell_type": "code",
   "execution_count": null,
   "metadata": {},
   "outputs": [],
   "source": [
    "platform.disconnect()"
   ]
  }
 ],
 "metadata": {
  "kernelspec": {
   "display_name": "qililab",
   "language": "python",
   "name": "python3"
  },
  "language_info": {
   "codemirror_mode": {
    "name": "ipython",
    "version": 3
   },
   "file_extension": ".py",
   "mimetype": "text/x-python",
   "name": "python",
   "nbconvert_exporter": "python",
   "pygments_lexer": "ipython3",
   "version": "3.10.13"
  },
  "orig_nbformat": 4,
  "vscode": {
   "interpreter": {
    "hash": "53235e66022d071ba4e97ea4af77e14ac3da4c0ffb32c596d9da41d30d7af9ae"
   }
  }
 },
 "nbformat": 4,
 "nbformat_minor": 2
}
