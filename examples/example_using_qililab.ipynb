{
 "cells": [
  {
   "attachments": {},
   "cell_type": "markdown",
   "metadata": {},
   "source": [
    "# Example notebook using Qililab"
   ]
  },
  {
   "cell_type": "code",
   "execution_count": 19,
   "metadata": {},
   "outputs": [],
   "source": [
    "import os\n",
    "from pathlib import Path\n",
    "\n",
    "import numpy as np\n",
    "from qibo.gates import M, X\n",
    "from qibo.models.circuit import Circuit\n",
    "from qiboconnection.api import API, ConnectionConfiguration\n",
    "\n",
    "import qililab as ql\n",
    "\n",
    "%matplotlib widget"
   ]
  },
  {
   "cell_type": "code",
   "execution_count": 37,
   "metadata": {},
   "outputs": [],
   "source": [
    "fname = os.path.abspath(\"\")\n",
    "os.environ[\"RUNCARDS\"] = str(Path(fname) / \"runcards\")\n",
    "os.environ[\"DATA\"] = str(Path(fname) / \"data\")"
   ]
  },
  {
   "attachments": {},
   "cell_type": "markdown",
   "metadata": {},
   "source": [
    "## Load a platform"
   ]
  },
  {
   "cell_type": "code",
   "execution_count": 38,
   "metadata": {},
   "outputs": [
    {
     "name": "stderr",
     "output_type": "stream",
     "text": [
      "[qililab] [0.16.1|INFO|2023-05-17 18:10:35]: Building platform\n",
      "INFO:qililab.config.config:Building platform\n",
      "[qililab] [0.16.1|WARNING|2023-05-17 18:10:35]: Cannot set `output_i=1` and `output_q=0` in hardware. The I/Q signals sent to sequencer 1 will be swapped to allow this setting.\n",
      "WARNING:qililab.config.config:Cannot set `output_i=1` and `output_q=0` in hardware. The I/Q signals sent to sequencer 1 will be swapped to allow this setting.\n",
      "[qililab] [0.16.1|WARNING|2023-05-17 18:10:35]: Cannot set `output_i=3` and `output_q=2` in hardware. The I/Q signals sent to sequencer 3 will be swapped to allow this setting.\n",
      "WARNING:qililab.config.config:Cannot set `output_i=3` and `output_q=2` in hardware. The I/Q signals sent to sequencer 3 will be swapped to allow this setting.\n"
     ]
    }
   ],
   "source": [
    "runcard_name = \"galadriel2\"\n",
    "platform = ql.build_platform(name=runcard_name)"
   ]
  },
  {
   "attachments": {},
   "cell_type": "markdown",
   "metadata": {},
   "source": [
    "### Platform Chip"
   ]
  },
  {
   "cell_type": "code",
   "execution_count": 39,
   "metadata": {},
   "outputs": [
    {
     "name": "stdout",
     "output_type": "stream",
     "text": [
      "Chip None with 10 qubits and 12 ports: \n",
      "\n",
      " * Port 10: ----|qubit_0|----\n",
      " * Port 11: ----|qubit_1|----\n",
      " * Port 12: ----|qubit_2|----\n",
      " * Port 13: ----|qubit_3|----\n",
      " * Port 14: ----|qubit_4|----\n",
      " * Port 15: ----|qubit_5|----\n",
      " * Port 16: ----|qubit_6|----\n",
      " * Port 17: ----|qubit_7|----\n",
      " * Port 18: ----|qubit_8|----\n",
      " * Port 19: ----|qubit_9|----\n",
      " * Port 100: ----|resonator_q0|--|resonator_q1|--|resonator_q2|--|resonator_q3|--|resonator_q4|----\n",
      " * Port 101: ----|resonator_q0|--|resonator_q1|--|resonator_q2|--|resonator_q3|--|resonator_q4|----\n",
      "\n"
     ]
    }
   ],
   "source": [
    "print(platform.chip)"
   ]
  },
  {
   "attachments": {},
   "cell_type": "markdown",
   "metadata": {},
   "source": [
    "### Platform Buses"
   ]
  },
  {
   "cell_type": "code",
   "execution_count": 40,
   "metadata": {},
   "outputs": [
    {
     "name": "stdout",
     "output_type": "stream",
     "text": [
      "Bus 0:  -----|QRM1|--|rs_1|------|resonator_q0|------|resonator_q1|------|resonator_q2|------|resonator_q3|------|resonator_q4|----\n",
      "Bus 10:  -----|QCM-RF1|------|qubit_0|----\n",
      "Bus 15:  -----|QCM1|------|qubit_5|----\n",
      "Bus 11:  -----|QCM-RF1|------|qubit_1|----\n",
      "Bus 16:  -----|QCM1|------|qubit_6|----\n",
      "Bus 12:  -----|QCM-RF3|------|qubit_2|----\n",
      "Bus 17:  -----|QCM2|------|qubit_7|----\n",
      "Bus 13:  -----|QCM-RF2|------|qubit_3|----\n",
      "Bus 18:  -----|QCM1|------|qubit_8|----\n",
      "Bus 14:  -----|QCM-RF2|------|qubit_4|----\n",
      "Bus 19:  -----|QCM1|------|qubit_9|----\n"
     ]
    }
   ],
   "source": [
    "print(platform.schema)"
   ]
  },
  {
   "attachments": {},
   "cell_type": "markdown",
   "metadata": {},
   "source": [
    "## Connect to a Platform"
   ]
  },
  {
   "cell_type": "code",
   "execution_count": null,
   "metadata": {},
   "outputs": [],
   "source": [
    "# Connect to all instruments of the platform and block the connection for other users\n",
    "platform.connect(manual_override=False)  # if manual_override=True, it surpasses any blocked connection\n",
    "platform.initial_setup()  # Sets all the values of the Runcard to the connected instruments\n",
    "platform.turn_on_instruments()  # Turns on all instruments"
   ]
  },
  {
   "attachments": {},
   "cell_type": "markdown",
   "metadata": {},
   "source": [
    "## Create an experiment"
   ]
  },
  {
   "attachments": {},
   "cell_type": "markdown",
   "metadata": {},
   "source": [
    "### Create the circuit associated with the experiment"
   ]
  },
  {
   "cell_type": "code",
   "execution_count": 41,
   "metadata": {},
   "outputs": [
    {
     "data": {
      "text/plain": [
       "MeasurementResult(qubits=(0,), nshots=0)"
      ]
     },
     "execution_count": 41,
     "metadata": {},
     "output_type": "execute_result"
    }
   ],
   "source": [
    "# Define Circuit to execute\n",
    "circuit = Circuit(1)\n",
    "circuit.add(X(0))\n",
    "circuit.add(M(0))"
   ]
  },
  {
   "attachments": {},
   "cell_type": "markdown",
   "metadata": {},
   "source": [
    "### Create loops over parameter values (optional)"
   ]
  },
  {
   "cell_type": "code",
   "execution_count": 42,
   "metadata": {},
   "outputs": [],
   "source": [
    "lo_freq_loop = ql.Loop(\n",
    "    alias=\"drive_line_bus\",\n",
    "    parameter=ql.Parameter.LO_FREQUENCY,\n",
    "    values=np.linspace(start=6.0e09, stop=6.5e09, num=10),\n",
    ")"
   ]
  },
  {
   "attachments": {},
   "cell_type": "markdown",
   "metadata": {},
   "source": [
    "### Initialize the Experiment"
   ]
  },
  {
   "cell_type": "code",
   "execution_count": 43,
   "metadata": {},
   "outputs": [],
   "source": [
    "settings = ql.ExperimentSettings(\n",
    "    hardware_average=1000,\n",
    "    repetition_duration=200_000,\n",
    "    software_average=1,\n",
    ")\n",
    "\n",
    "options = ql.ExperimentOptions(\n",
    "    loops=[lo_freq_loop],  # loops to run the experiment\n",
    "    settings=settings,  # experiment settings\n",
    "    name=\"experiment_name\",  # name of the experiment (it will be also used for the results folder name)\n",
    ")\n",
    "\n",
    "sample_experiment = ql.Experiment(\n",
    "    platform=platform,  # platform to run the experiment\n",
    "    circuits=[circuit],  # circuits to run the experiment\n",
    "    options=options,  # experiment options\n",
    ")"
   ]
  },
  {
   "attachments": {},
   "cell_type": "markdown",
   "metadata": {},
   "source": [
    "### Translate the circuit into pulses and build the Execution object"
   ]
  },
  {
   "cell_type": "code",
   "execution_count": 44,
   "metadata": {},
   "outputs": [],
   "source": [
    "sample_experiment.build_execution()"
   ]
  },
  {
   "attachments": {},
   "cell_type": "markdown",
   "metadata": {},
   "source": [
    "### Draw pulses to be sent"
   ]
  },
  {
   "cell_type": "code",
   "execution_count": 45,
   "metadata": {},
   "outputs": [
    {
     "data": {
      "application/vnd.jupyter.widget-view+json": {
       "model_id": "96df7f53205946a3ab08cd222772da67",
       "version_major": 2,
       "version_minor": 0
      },
      "image/png": "[encoded data removed]",
      "text/html": [
       "\n",
       "            <div style=\"display: inline-block;\">\n",
       "                <div class=\"jupyter-widgets widget-label\" style=\"text-align: center;\">\n",
       "                    Figure\n",
       "                </div>\n",
       "                <img src='data:image/png;base64,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' width=640.0/>\n",
       "            </div>\n",
       "        "
      ],
      "text/plain": [
       "Canvas(toolbar=Toolbar(toolitems=[('Home', 'Reset original view', 'home', 'home'), ('Back', 'Back to previous …"
      ]
     },
     "metadata": {},
     "output_type": "display_data"
    }
   ],
   "source": [
    "figure = sample_experiment.draw()"
   ]
  },
  {
   "attachments": {},
   "cell_type": "markdown",
   "metadata": {},
   "source": [
    "## Check the compiled sequences of the experiment"
   ]
  },
  {
   "cell_type": "code",
   "execution_count": 46,
   "metadata": {},
   "outputs": [
    {
     "name": "stderr",
     "output_type": "stream",
     "text": [
      "[qililab] [0.16.1|INFO|2023-05-17 18:10:46]: Q1ASM program: \n",
      " setup:\n",
      "    move             1000, R0\n",
      "    wait_sync        4\n",
      "    \n",
      "average:\n",
      "    reset_ph\n",
      "    set_awg_gain     8191, 8191\n",
      "    set_ph           0\n",
      "    play             0, 1, 4\n",
      "    long_wait_1:\n",
      "        move             3, R1\n",
      "        long_wait_1_loop:\n",
      "            wait             65532\n",
      "            loop             R1, @long_wait_1_loop\n",
      "        wait             3400\n",
      "        \n",
      "    loop             R0, @average\n",
      "stop:\n",
      "    stop\n",
      "    \n",
      "\n",
      "INFO:qililab.config.config:Q1ASM program: \n",
      " setup:\n",
      "    move             1000, R0\n",
      "    wait_sync        4\n",
      "    \n",
      "average:\n",
      "    reset_ph\n",
      "    set_awg_gain     8191, 8191\n",
      "    set_ph           0\n",
      "    play             0, 1, 4\n",
      "    long_wait_1:\n",
      "        move             3, R1\n",
      "        long_wait_1_loop:\n",
      "            wait             65532\n",
      "            loop             R1, @long_wait_1_loop\n",
      "        wait             3400\n",
      "        \n",
      "    loop             R0, @average\n",
      "stop:\n",
      "    stop\n",
      "    \n",
      "\n",
      "[qililab] [0.16.1|INFO|2023-05-17 18:10:46]: Q1ASM program: \n",
      " setup:\n",
      "    move             1000, R0\n",
      "    wait_sync        4\n",
      "    \n",
      "average:\n",
      "    wait             24\n",
      "    reset_ph\n",
      "    set_awg_gain     32767, 32767\n",
      "    set_ph           0\n",
      "    play             0, 1, 4\n",
      "    acquire          0, 0, 4\n",
      "    long_wait_2:\n",
      "        move             3, R1\n",
      "        long_wait_2_loop:\n",
      "            wait             65532\n",
      "            loop             R1, @long_wait_2_loop\n",
      "        wait             3372\n",
      "        \n",
      "    loop             R0, @average\n",
      "stop:\n",
      "    stop\n",
      "    \n",
      "\n",
      "INFO:qililab.config.config:Q1ASM program: \n",
      " setup:\n",
      "    move             1000, R0\n",
      "    wait_sync        4\n",
      "    \n",
      "average:\n",
      "    wait             24\n",
      "    reset_ph\n",
      "    set_awg_gain     32767, 32767\n",
      "    set_ph           0\n",
      "    play             0, 1, 4\n",
      "    acquire          0, 0, 4\n",
      "    long_wait_2:\n",
      "        move             3, R1\n",
      "        long_wait_2_loop:\n",
      "            wait             65532\n",
      "            loop             R1, @long_wait_2_loop\n",
      "        wait             3372\n",
      "        \n",
      "    loop             R0, @average\n",
      "stop:\n",
      "    stop\n",
      "    \n",
      "\n"
     ]
    }
   ],
   "source": [
    "# this method compiles the pulses into the assembly program and returns all the sequences sent to the instruments\n",
    "sequences = sample_experiment.compile()"
   ]
  },
  {
   "attachments": {},
   "cell_type": "markdown",
   "metadata": {},
   "source": [
    "Program of the drive line bus:"
   ]
  },
  {
   "cell_type": "code",
   "execution_count": 24,
   "metadata": {},
   "outputs": [
    {
     "data": {
      "text/plain": [
       "setup:\n",
       "    move             1000, R0\n",
       "    wait_sync        4\n",
       "    \n",
       "average:\n",
       "    reset_ph\n",
       "    play             0, 1, 4\n",
       "    long_wait_1:\n",
       "        move             3, R1\n",
       "        long_wait_1_loop:\n",
       "            wait             65532\n",
       "            loop             R1, @long_wait_1_loop\n",
       "        wait             3400\n",
       "        \n",
       "    loop             R0, @average\n",
       "stop:\n",
       "    stop\n",
       "    "
      ]
     },
     "execution_count": 24,
     "metadata": {},
     "output_type": "execute_result"
    }
   ],
   "source": [
    "sequences[0][\"drive_line_bus\"][0]._program"
   ]
  },
  {
   "attachments": {},
   "cell_type": "markdown",
   "metadata": {},
   "source": [
    "Program of the feedline input output bus:"
   ]
  },
  {
   "cell_type": "code",
   "execution_count": 48,
   "metadata": {},
   "outputs": [
    {
     "data": {
      "text/plain": [
       "setup:\n",
       "    move             1000, R0\n",
       "    wait_sync        4\n",
       "    \n",
       "average:\n",
       "    wait             24\n",
       "    reset_ph\n",
       "    set_awg_gain     32767, 32767\n",
       "    set_ph           0\n",
       "    play             0, 1, 4\n",
       "    acquire          0, 0, 4\n",
       "    long_wait_2:\n",
       "        move             3, R1\n",
       "        long_wait_2_loop:\n",
       "            wait             65532\n",
       "            loop             R1, @long_wait_2_loop\n",
       "        wait             3372\n",
       "        \n",
       "    loop             R0, @average\n",
       "stop:\n",
       "    stop\n",
       "    "
      ]
     },
     "execution_count": 48,
     "metadata": {},
     "output_type": "execute_result"
    }
   ],
   "source": [
    "sequences[0][\"feedline_bus\"][0]._program"
   ]
  },
  {
   "attachments": {},
   "cell_type": "markdown",
   "metadata": {},
   "source": [
    "## Run the experiment"
   ]
  },
  {
   "cell_type": "code",
   "execution_count": 14,
   "metadata": {},
   "outputs": [],
   "source": [
    "results = sample_experiment.run()"
   ]
  },
  {
   "cell_type": "code",
   "execution_count": null,
   "metadata": {},
   "outputs": [],
   "source": [
    "print(results)"
   ]
  },
  {
   "attachments": {},
   "cell_type": "markdown",
   "metadata": {},
   "source": [
    "## Disconnect from a Platform\n",
    "\n",
    "- Disconnect all instruments specified in the loaded platform\n",
    "- Turns off the instruments only when explicitly specified (by default is set to False)"
   ]
  },
  {
   "cell_type": "code",
   "execution_count": 13,
   "metadata": {},
   "outputs": [
    {
     "name": "stderr",
     "output_type": "stream",
     "text": [
      "[qibo-connection] 0.7.2|INFO|2023-03-23 12:44:08]: Device Galadriel Qblox rack released.\n",
      "INFO:qiboconnection.config:Device Galadriel Qblox rack released.\n",
      "[qililab] [0.16.1|INFO|2023-03-23 12:44:08]: Already disconnected from the instruments\n",
      "INFO:qililab.config.config:Already disconnected from the instruments\n"
     ]
    }
   ],
   "source": [
    "platform.disconnect()"
   ]
  }
 ],
 "metadata": {
  "kernelspec": {
   "display_name": "qililab",
   "language": "python",
   "name": "python3"
  },
  "language_info": {
   "codemirror_mode": {
    "name": "ipython",
    "version": 3
   },
   "file_extension": ".py",
   "mimetype": "text/x-python",
   "name": "python",
   "nbconvert_exporter": "python",
   "pygments_lexer": "ipython3",
   "version": "3.10.8"
  },
  "orig_nbformat": 4,
  "vscode": {
   "interpreter": {
    "hash": "53235e66022d071ba4e97ea4af77e14ac3da4c0ffb32c596d9da41d30d7af9ae"
   }
  }
 },
 "nbformat": 4,
 "nbformat_minor": 2
}
