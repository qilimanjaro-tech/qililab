{
 "cells": [
  {
   "attachments": {},
   "cell_type": "markdown",
   "metadata": {},
   "source": [
    "# Example notebook using Qililab"
   ]
  },
  {
   "cell_type": "code",
   "execution_count": 16,
   "metadata": {},
   "outputs": [],
   "source": [
    "import os\n",
    "from pathlib import Path\n",
    "\n",
    "import numpy as np\n",
    "from qibo.gates import CZ, M\n",
    "from qibo.models.circuit import Circuit\n",
    "\n",
    "import qililab as ql\n",
    "\n",
    "%matplotlib widget"
   ]
  },
  {
   "cell_type": "code",
   "execution_count": 17,
   "metadata": {},
   "outputs": [],
   "source": [
    "fname = os.path.abspath(\"\")\n",
    "os.environ[\"RUNCARDS\"] = str(Path(fname) / \"runcards\")\n",
    "os.environ[\"DATA\"] = str(Path(fname) / \"data\")"
   ]
  },
  {
   "attachments": {},
   "cell_type": "markdown",
   "metadata": {},
   "source": [
    "## Load a platform"
   ]
  },
  {
   "cell_type": "code",
   "execution_count": 18,
   "metadata": {},
   "outputs": [
    {
     "name": "stderr",
     "output_type": "stream",
     "text": [
      "[qililab] [0.16.1|INFO|2023-05-30 10:46:45]: Building platform\n",
      "INFO:qililab.config.config:Building platform\n",
      "[qililab] [0.16.1|WARNING|2023-05-30 10:46:45]: Cannot set `output_i=1` and `output_q=0` in hardware. The I/Q signals sent to sequencer 1 will be swapped to allow this setting.\n",
      "WARNING:qililab.config.config:Cannot set `output_i=1` and `output_q=0` in hardware. The I/Q signals sent to sequencer 1 will be swapped to allow this setting.\n",
      "[qililab] [0.16.1|WARNING|2023-05-30 10:46:45]: Cannot set `output_i=3` and `output_q=2` in hardware. The I/Q signals sent to sequencer 3 will be swapped to allow this setting.\n",
      "WARNING:qililab.config.config:Cannot set `output_i=3` and `output_q=2` in hardware. The I/Q signals sent to sequencer 3 will be swapped to allow this setting.\n"
     ]
    }
   ],
   "source": [
    "runcard_name = \"galadriel\"\n",
    "platform = ql.build_platform(name=runcard_name)"
   ]
  },
  {
   "attachments": {},
   "cell_type": "markdown",
   "metadata": {},
   "source": [
    "### Platform Chip"
   ]
  },
  {
   "cell_type": "code",
   "execution_count": 19,
   "metadata": {},
   "outputs": [
    {
     "name": "stdout",
     "output_type": "stream",
     "text": [
      "Chip None with 5 qubits and 12 ports: \n",
      "\n",
      " * Port 20 (drive): ----|qubit_0|----\n",
      " * Port 21 (drive): ----|qubit_1|----\n",
      " * Port 22 (drive): ----|qubit_2|----\n",
      " * Port 23 (drive): ----|qubit_3|----\n",
      " * Port 24 (drive): ----|qubit_4|----\n",
      " * Port 30 (flux): ----|qubit_0|----\n",
      " * Port 31 (flux): ----|qubit_1|----\n",
      " * Port 32 (flux): ----|qubit_2|----\n",
      " * Port 33 (flux): ----|qubit_3|----\n",
      " * Port 34 (flux): ----|qubit_4|----\n",
      " * Port 100 (feedline_input): ----|resonator_q0|--|resonator_q1|--|resonator_q2|--|resonator_q3|--|resonator_q4|----\n",
      " * Port 101 (feedline_output): ----|resonator_q0|--|resonator_q1|--|resonator_q2|--|resonator_q3|--|resonator_q4|----\n",
      "\n"
     ]
    }
   ],
   "source": [
    "print(platform.chip)"
   ]
  },
  {
   "attachments": {},
   "cell_type": "markdown",
   "metadata": {},
   "source": [
    "### Platform Buses"
   ]
  },
  {
   "cell_type": "code",
   "execution_count": 20,
   "metadata": {},
   "outputs": [
    {
     "name": "stdout",
     "output_type": "stream",
     "text": [
      "Bus 0:  -----|QRM1|--|rs_1|------|resonator_q0|------|resonator_q1|------|resonator_q2|------|resonator_q3|------|resonator_q4|----\n",
      "Bus 20:  -----|QCM-RF1|------|qubit_0|----\n",
      "Bus 30:  -----|QCM1|------|qubit_0|----\n",
      "Bus 21:  -----|QCM-RF1|------|qubit_1|----\n",
      "Bus 31:  -----|QCM1|------|qubit_1|----\n",
      "Bus 22:  -----|QCM-RF2|------|qubit_2|----\n",
      "Bus 32:  -----|QCM2|------|qubit_2|----\n",
      "Bus 23:  -----|QCM-RF3|------|qubit_3|----\n",
      "Bus 33:  -----|QCM1|------|qubit_3|----\n",
      "Bus 24:  -----|QCM-RF3|------|qubit_4|----\n",
      "Bus 34:  -----|QCM1|------|qubit_4|----\n"
     ]
    }
   ],
   "source": [
    "print(platform.schema)"
   ]
  },
  {
   "attachments": {},
   "cell_type": "markdown",
   "metadata": {},
   "source": [
    "## Connect to a Platform"
   ]
  },
  {
   "cell_type": "code",
   "execution_count": null,
   "metadata": {},
   "outputs": [],
   "source": [
    "# Connect to all instruments of the platform and block the connection for other users\n",
    "platform.connect(manual_override=False)  # if manual_override=True, it surpasses any blocked connection\n",
    "platform.initial_setup()  # Sets all the values of the Runcard to the connected instruments\n",
    "platform.turn_on_instruments()  # Turns on all instruments"
   ]
  },
  {
   "attachments": {},
   "cell_type": "markdown",
   "metadata": {},
   "source": [
    "## Create an experiment"
   ]
  },
  {
   "attachments": {},
   "cell_type": "markdown",
   "metadata": {},
   "source": [
    "### Create the circuit associated with the experiment"
   ]
  },
  {
   "cell_type": "code",
   "execution_count": 21,
   "metadata": {},
   "outputs": [
    {
     "data": {
      "text/plain": [
       "MeasurementResult(qubits=(0,), nshots=0)"
      ]
     },
     "execution_count": 21,
     "metadata": {},
     "output_type": "execute_result"
    }
   ],
   "source": [
    "# Define Circuit to execute\n",
    "circuit = Circuit(5)\n",
    "circuit.add(ql.Drag(q=0, theta=1.23, phase=4.56))\n",
    "circuit.add(ql.Drag(q=2, theta=2, phase=3))\n",
    "circuit.add(CZ(2, 3))\n",
    "circuit.add(ql.Park(0))\n",
    "circuit.add(ql.Drag(3, 6, 7))\n",
    "circuit.add(M(0))"
   ]
  },
  {
   "attachments": {},
   "cell_type": "markdown",
   "metadata": {},
   "source": [
    "### Create loops over parameter values (optional)"
   ]
  },
  {
   "cell_type": "code",
   "execution_count": 22,
   "metadata": {},
   "outputs": [],
   "source": [
    "lo_freq_loop = ql.Loop(\n",
    "    alias=\"drive_line_bus\",\n",
    "    parameter=ql.Parameter.LO_FREQUENCY,\n",
    "    values=np.linspace(start=6.0e09, stop=6.5e09, num=10),\n",
    ")"
   ]
  },
  {
   "attachments": {},
   "cell_type": "markdown",
   "metadata": {},
   "source": [
    "### Initialize the Experiment"
   ]
  },
  {
   "cell_type": "code",
   "execution_count": 23,
   "metadata": {},
   "outputs": [],
   "source": [
    "settings = ql.ExperimentSettings(\n",
    "    hardware_average=1000,\n",
    "    repetition_duration=200_000,\n",
    "    software_average=1,\n",
    ")\n",
    "\n",
    "options = ql.ExperimentOptions(\n",
    "    loops=[lo_freq_loop],  # loops to run the experiment\n",
    "    settings=settings,  # experiment settings\n",
    "    name=\"experiment_name\",  # name of the experiment (it will be also used for the results folder name)\n",
    ")\n",
    "\n",
    "sample_experiment = ql.Experiment(\n",
    "    platform=platform,  # platform to run the experiment\n",
    "    circuits=[circuit],  # circuits to run the experiment\n",
    "    options=options,  # experiment options\n",
    ")"
   ]
  },
  {
   "attachments": {},
   "cell_type": "markdown",
   "metadata": {},
   "source": [
    "### Translate the circuit into pulses and build the Execution object"
   ]
  },
  {
   "cell_type": "code",
   "execution_count": 24,
   "metadata": {},
   "outputs": [],
   "source": [
    "sample_experiment.build_execution()"
   ]
  },
  {
   "attachments": {},
   "cell_type": "markdown",
   "metadata": {},
   "source": [
    "### Draw pulses to be sent"
   ]
  },
  {
   "cell_type": "code",
   "execution_count": 25,
   "metadata": {},
   "outputs": [
    {
     "data": {
      "text/plain": [
       "[PulseBusSchedule(port=20, timeline=[PulseEvent(pulse=Pulse(amplitude=0.3915211600060625, phase=-1.7231853071795866, duration=20, frequency=4920000000.0, pulse_shape=Drag(name=<PulseShapeName.DRAG: 'drag'>, num_sigmas=4, drag_coefficient=0.0)), start_time=0, pulse_distortions=[], qubit=None)], _pulses={Pulse(amplitude=0.3915211600060625, phase=-1.7231853071795866, duration=20, frequency=4920000000.0, pulse_shape=Drag(name=<PulseShapeName.DRAG: 'drag'>, num_sigmas=4, drag_coefficient=0.0))}),\n",
       " PulseBusSchedule(port=30, timeline=[PulseEvent(pulse=Pulse(amplitude=1.0, phase=0.0, duration=103, frequency=0, pulse_shape=Rectangular(name=<PulseShapeName.RECTANGULAR: 'rectangular'>)), start_time=20, pulse_distortions=[], qubit=None)], _pulses={Pulse(amplitude=1.0, phase=0.0, duration=103, frequency=0, pulse_shape=Rectangular(name=<PulseShapeName.RECTANGULAR: 'rectangular'>))}),\n",
       " PulseBusSchedule(port=22, timeline=[PulseEvent(pulse=Pulse(amplitude=0.6366197723675814, phase=3.0, duration=20, frequency=5600000000.0, pulse_shape=Drag(name=<PulseShapeName.DRAG: 'drag'>, num_sigmas=4, drag_coefficient=0.0)), start_time=0, pulse_distortions=[], qubit=None)], _pulses={Pulse(amplitude=0.6366197723675814, phase=3.0, duration=20, frequency=5600000000.0, pulse_shape=Drag(name=<PulseShapeName.DRAG: 'drag'>, num_sigmas=4, drag_coefficient=0.0))}),\n",
       " PulseBusSchedule(port=32, timeline=[], _pulses=set()),\n",
       " PulseBusSchedule(port=33, timeline=[PulseEvent(pulse=Pulse(amplitude=1.0, phase=0.0, duration=83, frequency=0, pulse_shape=SNZ(name=<PulseShapeName.SNZ: 'snz'>, b=0.5, t_phi=1)), start_time=20, pulse_distortions=[], qubit=None)], _pulses={Pulse(amplitude=1.0, phase=0.0, duration=83, frequency=0, pulse_shape=SNZ(name=<PulseShapeName.SNZ: 'snz'>, b=0.5, t_phi=1))}),\n",
       " PulseBusSchedule(port=23, timeline=[PulseEvent(pulse=Pulse(amplitude=-0.0901406828972559, phase=0.7168146928204138, duration=20, frequency=6700000000.0, pulse_shape=Drag(name=<PulseShapeName.DRAG: 'drag'>, num_sigmas=4, drag_coefficient=0.0)), start_time=104, pulse_distortions=[], qubit=None)], _pulses={Pulse(amplitude=-0.0901406828972559, phase=0.7168146928204138, duration=20, frequency=6700000000.0, pulse_shape=Drag(name=<PulseShapeName.DRAG: 'drag'>, num_sigmas=4, drag_coefficient=0.0))}),\n",
       " PulseBusSchedule(port=100, timeline=[PulseEvent(pulse=Pulse(amplitude=1.0, phase=0, duration=2000, frequency=7100000000.0, pulse_shape=Rectangular(name=<PulseShapeName.RECTANGULAR: 'rectangular'>)), start_time=128, pulse_distortions=[], qubit=0)], _pulses={Pulse(amplitude=1.0, phase=0, duration=2000, frequency=7100000000.0, pulse_shape=Rectangular(name=<PulseShapeName.RECTANGULAR: 'rectangular'>))})]"
      ]
     },
     "execution_count": 25,
     "metadata": {},
     "output_type": "execute_result"
    }
   ],
   "source": [
    "sample_experiment.pulse_schedules[0].elements"
   ]
  },
  {
   "cell_type": "code",
   "execution_count": 26,
   "metadata": {},
   "outputs": [
    {
     "data": {
      "application/vnd.jupyter.widget-view+json": {
       "model_id": "eab8b7b9d04f44678676118d4727c55d",
       "version_major": 2,
       "version_minor": 0
      },
      "image/png": "[encoded data removed]",
      "text/html": [
       "\n",
       "            <div style=\"display: inline-block;\">\n",
       "                <div class=\"jupyter-widgets widget-label\" style=\"text-align: center;\">\n",
       "                    Figure\n",
       "                </div>\n",
       "                <img src='data:image/png;base64,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' width=640.0/>\n",
       "            </div>\n",
       "        "
      ],
      "text/plain": [
       "Canvas(toolbar=Toolbar(toolitems=[('Home', 'Reset original view', 'home', 'home'), ('Back', 'Back to previous …"
      ]
     },
     "metadata": {},
     "output_type": "display_data"
    }
   ],
   "source": [
    "figure = sample_experiment.draw()"
   ]
  },
  {
   "attachments": {},
   "cell_type": "markdown",
   "metadata": {},
   "source": [
    "## Check the compiled sequences of the experiment"
   ]
  },
  {
   "cell_type": "code",
   "execution_count": 27,
   "metadata": {},
   "outputs": [
    {
     "name": "stderr",
     "output_type": "stream",
     "text": [
      "[qililab] [0.16.1|INFO|2023-05-30 10:46:53]: Q1ASM program: \n",
      " setup:\n",
      "    move             1000, R0\n",
      "    wait_sync        4\n",
      "    \n",
      "average:\n",
      "    move             0, R1\n",
      "    bin:\n",
      "        reset_ph\n",
      "        set_awg_gain     12828, 12828\n",
      "        set_ph           725746540\n",
      "        play             0, 1, 4\n",
      "        add              R1, 1, R1\n",
      "        nop\n",
      "        jlt              R1, 1, @bin\n",
      "    long_wait_12:\n",
      "        move             3, R2\n",
      "        long_wait_12_loop:\n",
      "            wait             65532\n",
      "            loop             R2, @long_wait_12_loop\n",
      "        wait             3400\n",
      "        \n",
      "    loop             R0, @average\n",
      "stop:\n",
      "    stop\n",
      "    \n",
      "\n",
      "INFO:qililab.config.config:Q1ASM program: \n",
      " setup:\n",
      "    move             1000, R0\n",
      "    wait_sync        4\n",
      "    \n",
      "average:\n",
      "    move             0, R1\n",
      "    bin:\n",
      "        reset_ph\n",
      "        set_awg_gain     12828, 12828\n",
      "        set_ph           725746540\n",
      "        play             0, 1, 4\n",
      "        add              R1, 1, R1\n",
      "        nop\n",
      "        jlt              R1, 1, @bin\n",
      "    long_wait_12:\n",
      "        move             3, R2\n",
      "        long_wait_12_loop:\n",
      "            wait             65532\n",
      "            loop             R2, @long_wait_12_loop\n",
      "        wait             3400\n",
      "        \n",
      "    loop             R0, @average\n",
      "stop:\n",
      "    stop\n",
      "    \n",
      "\n",
      "[qililab] [0.16.1|INFO|2023-05-30 10:46:53]: Q1ASM program: \n",
      " setup:\n",
      "    move             1000, R0\n",
      "    wait_sync        4\n",
      "    \n",
      "average:\n",
      "    move             0, R1\n",
      "    bin:\n",
      "        long_wait_13:\n",
      "            wait             20\n",
      "            \n",
      "        reset_ph\n",
      "        set_awg_gain     32767, 32767\n",
      "        set_ph           0\n",
      "        play             0, 1, 4\n",
      "        add              R1, 1, R1\n",
      "        nop\n",
      "        jlt              R1, 1, @bin\n",
      "    long_wait_14:\n",
      "        move             3, R2\n",
      "        long_wait_14_loop:\n",
      "            wait             65532\n",
      "            loop             R2, @long_wait_14_loop\n",
      "        wait             3380\n",
      "        \n",
      "    loop             R0, @average\n",
      "stop:\n",
      "    stop\n",
      "    \n",
      "\n",
      "INFO:qililab.config.config:Q1ASM program: \n",
      " setup:\n",
      "    move             1000, R0\n",
      "    wait_sync        4\n",
      "    \n",
      "average:\n",
      "    move             0, R1\n",
      "    bin:\n",
      "        long_wait_13:\n",
      "            wait             20\n",
      "            \n",
      "        reset_ph\n",
      "        set_awg_gain     32767, 32767\n",
      "        set_ph           0\n",
      "        play             0, 1, 4\n",
      "        add              R1, 1, R1\n",
      "        nop\n",
      "        jlt              R1, 1, @bin\n",
      "    long_wait_14:\n",
      "        move             3, R2\n",
      "        long_wait_14_loop:\n",
      "            wait             65532\n",
      "            loop             R2, @long_wait_14_loop\n",
      "        wait             3380\n",
      "        \n",
      "    loop             R0, @average\n",
      "stop:\n",
      "    stop\n",
      "    \n",
      "\n",
      "[qililab] [0.16.1|INFO|2023-05-30 10:46:53]: Q1ASM program: \n",
      " setup:\n",
      "    move             1000, R0\n",
      "    wait_sync        4\n",
      "    \n",
      "average:\n",
      "    move             0, R1\n",
      "    bin:\n",
      "        reset_ph\n",
      "        set_awg_gain     20860, 20860\n",
      "        set_ph           477464829\n",
      "        play             0, 1, 4\n",
      "        add              R1, 1, R1\n",
      "        nop\n",
      "        jlt              R1, 1, @bin\n",
      "    long_wait_15:\n",
      "        move             3, R2\n",
      "        long_wait_15_loop:\n",
      "            wait             65532\n",
      "            loop             R2, @long_wait_15_loop\n",
      "        wait             3400\n",
      "        \n",
      "    loop             R0, @average\n",
      "stop:\n",
      "    stop\n",
      "    \n",
      "\n",
      "INFO:qililab.config.config:Q1ASM program: \n",
      " setup:\n",
      "    move             1000, R0\n",
      "    wait_sync        4\n",
      "    \n",
      "average:\n",
      "    move             0, R1\n",
      "    bin:\n",
      "        reset_ph\n",
      "        set_awg_gain     20860, 20860\n",
      "        set_ph           477464829\n",
      "        play             0, 1, 4\n",
      "        add              R1, 1, R1\n",
      "        nop\n",
      "        jlt              R1, 1, @bin\n",
      "    long_wait_15:\n",
      "        move             3, R2\n",
      "        long_wait_15_loop:\n",
      "            wait             65532\n",
      "            loop             R2, @long_wait_15_loop\n",
      "        wait             3400\n",
      "        \n",
      "    loop             R0, @average\n",
      "stop:\n",
      "    stop\n",
      "    \n",
      "\n",
      "[qililab] [0.16.1|INFO|2023-05-30 10:46:53]: Q1ASM program: \n",
      " setup:\n",
      "    move             1000, R0\n",
      "    wait_sync        4\n",
      "    \n",
      "average:\n",
      "    move             0, R1\n",
      "    bin:\n",
      "        \n",
      "        add              R1, 1, R1\n",
      "        nop\n",
      "        jlt              R1, 1, @bin\n",
      "    long_wait_16:\n",
      "        move             3, R2\n",
      "        long_wait_16_loop:\n",
      "            wait             65532\n",
      "            loop             R2, @long_wait_16_loop\n",
      "        wait             3404\n",
      "        \n",
      "    loop             R0, @average\n",
      "stop:\n",
      "    stop\n",
      "    \n",
      "\n",
      "INFO:qililab.config.config:Q1ASM program: \n",
      " setup:\n",
      "    move             1000, R0\n",
      "    wait_sync        4\n",
      "    \n",
      "average:\n",
      "    move             0, R1\n",
      "    bin:\n",
      "        \n",
      "        add              R1, 1, R1\n",
      "        nop\n",
      "        jlt              R1, 1, @bin\n",
      "    long_wait_16:\n",
      "        move             3, R2\n",
      "        long_wait_16_loop:\n",
      "            wait             65532\n",
      "            loop             R2, @long_wait_16_loop\n",
      "        wait             3404\n",
      "        \n",
      "    loop             R0, @average\n",
      "stop:\n",
      "    stop\n",
      "    \n",
      "\n",
      "[qililab] [0.16.1|INFO|2023-05-30 10:46:53]: Q1ASM program: \n",
      " setup:\n",
      "    move             1000, R0\n",
      "    wait_sync        4\n",
      "    \n",
      "average:\n",
      "    move             0, R1\n",
      "    bin:\n",
      "        long_wait_17:\n",
      "            wait             20\n",
      "            \n",
      "        reset_ph\n",
      "        set_awg_gain     32767, 32767\n",
      "        set_ph           0\n",
      "        play             0, 1, 4\n",
      "        add              R1, 1, R1\n",
      "        nop\n",
      "        jlt              R1, 1, @bin\n",
      "    long_wait_18:\n",
      "        move             3, R2\n",
      "        long_wait_18_loop:\n",
      "            wait             65532\n",
      "            loop             R2, @long_wait_18_loop\n",
      "        wait             3380\n",
      "        \n",
      "    loop             R0, @average\n",
      "stop:\n",
      "    stop\n",
      "    \n",
      "\n",
      "INFO:qililab.config.config:Q1ASM program: \n",
      " setup:\n",
      "    move             1000, R0\n",
      "    wait_sync        4\n",
      "    \n",
      "average:\n",
      "    move             0, R1\n",
      "    bin:\n",
      "        long_wait_17:\n",
      "            wait             20\n",
      "            \n",
      "        reset_ph\n",
      "        set_awg_gain     32767, 32767\n",
      "        set_ph           0\n",
      "        play             0, 1, 4\n",
      "        add              R1, 1, R1\n",
      "        nop\n",
      "        jlt              R1, 1, @bin\n",
      "    long_wait_18:\n",
      "        move             3, R2\n",
      "        long_wait_18_loop:\n",
      "            wait             65532\n",
      "            loop             R2, @long_wait_18_loop\n",
      "        wait             3380\n",
      "        \n",
      "    loop             R0, @average\n",
      "stop:\n",
      "    stop\n",
      "    \n",
      "\n",
      "[qililab] [0.16.1|INFO|2023-05-30 10:46:53]: Q1ASM program: \n",
      " setup:\n",
      "    move             1000, R0\n",
      "    wait_sync        4\n",
      "    \n",
      "average:\n",
      "    move             0, R1\n",
      "    bin:\n",
      "        long_wait_19:\n",
      "            wait             104\n",
      "            \n",
      "        reset_ph\n",
      "        set_awg_gain     2953, 2953\n",
      "        set_ph           114084601\n",
      "        play             0, 1, 4\n",
      "        add              R1, 1, R1\n",
      "        nop\n",
      "        jlt              R1, 1, @bin\n",
      "    long_wait_20:\n",
      "        move             3, R2\n",
      "        long_wait_20_loop:\n",
      "            wait             65532\n",
      "            loop             R2, @long_wait_20_loop\n",
      "        wait             3296\n",
      "        \n",
      "    loop             R0, @average\n",
      "stop:\n",
      "    stop\n",
      "    \n",
      "\n",
      "INFO:qililab.config.config:Q1ASM program: \n",
      " setup:\n",
      "    move             1000, R0\n",
      "    wait_sync        4\n",
      "    \n",
      "average:\n",
      "    move             0, R1\n",
      "    bin:\n",
      "        long_wait_19:\n",
      "            wait             104\n",
      "            \n",
      "        reset_ph\n",
      "        set_awg_gain     2953, 2953\n",
      "        set_ph           114084601\n",
      "        play             0, 1, 4\n",
      "        add              R1, 1, R1\n",
      "        nop\n",
      "        jlt              R1, 1, @bin\n",
      "    long_wait_20:\n",
      "        move             3, R2\n",
      "        long_wait_20_loop:\n",
      "            wait             65532\n",
      "            loop             R2, @long_wait_20_loop\n",
      "        wait             3296\n",
      "        \n",
      "    loop             R0, @average\n",
      "stop:\n",
      "    stop\n",
      "    \n",
      "\n",
      "[qililab] [0.16.1|INFO|2023-05-30 10:46:53]: Q1ASM program: \n",
      " setup:\n",
      "    wait_sync        4\n",
      "    move             0, R0\n",
      "    move             1000, R1\n",
      "    move             1, R2\n",
      "    \n",
      "average:\n",
      "    move             0, R3\n",
      "    bin:\n",
      "        long_wait_21:\n",
      "            wait             128\n",
      "            \n",
      "        reset_ph\n",
      "        set_awg_gain     32767, 32767\n",
      "        set_ph           0\n",
      "        play             0, 1, 4\n",
      "        add              R3, 1, R3\n",
      "        nop\n",
      "        jlt              R3, 1, @bin\n",
      "    acquire          0, R3, 4\n",
      "    long_wait_22:\n",
      "        move             3, R4\n",
      "        long_wait_22_loop:\n",
      "            wait             65532\n",
      "            loop             R4, @long_wait_22_loop\n",
      "        wait             3268\n",
      "        \n",
      "    loop             R1, @average\n",
      "stop:\n",
      "    stop\n",
      "    \n",
      "\n",
      "INFO:qililab.config.config:Q1ASM program: \n",
      " setup:\n",
      "    wait_sync        4\n",
      "    move             0, R0\n",
      "    move             1000, R1\n",
      "    move             1, R2\n",
      "    \n",
      "average:\n",
      "    move             0, R3\n",
      "    bin:\n",
      "        long_wait_21:\n",
      "            wait             128\n",
      "            \n",
      "        reset_ph\n",
      "        set_awg_gain     32767, 32767\n",
      "        set_ph           0\n",
      "        play             0, 1, 4\n",
      "        add              R3, 1, R3\n",
      "        nop\n",
      "        jlt              R3, 1, @bin\n",
      "    acquire          0, R3, 4\n",
      "    long_wait_22:\n",
      "        move             3, R4\n",
      "        long_wait_22_loop:\n",
      "            wait             65532\n",
      "            loop             R4, @long_wait_22_loop\n",
      "        wait             3268\n",
      "        \n",
      "    loop             R1, @average\n",
      "stop:\n",
      "    stop\n",
      "    \n",
      "\n"
     ]
    }
   ],
   "source": [
    "# this method compiles the pulses into the assembly program and returns all the sequences sent to the instruments\n",
    "sequences = sample_experiment.compile()"
   ]
  },
  {
   "attachments": {},
   "cell_type": "markdown",
   "metadata": {},
   "source": [
    "Program of the drive line bus:"
   ]
  },
  {
   "cell_type": "code",
   "execution_count": 13,
   "metadata": {},
   "outputs": [
    {
     "data": {
      "text/plain": [
       "setup:\n",
       "    move             1000, R0\n",
       "    wait_sync        4\n",
       "    \n",
       "average:\n",
       "    move             0, R1\n",
       "    bin:\n",
       "        reset_ph\n",
       "        set_awg_gain     12828, 12828\n",
       "        set_ph           725746540\n",
       "        play             0, 1, 4\n",
       "        add              R1, 1, R1\n",
       "        nop\n",
       "        jlt              R1, 1, @bin\n",
       "    long_wait_1:\n",
       "        move             3, R2\n",
       "        long_wait_1_loop:\n",
       "            wait             65532\n",
       "            loop             R2, @long_wait_1_loop\n",
       "        wait             3400\n",
       "        \n",
       "    loop             R0, @average\n",
       "stop:\n",
       "    stop\n",
       "    "
      ]
     },
     "execution_count": 13,
     "metadata": {},
     "output_type": "execute_result"
    }
   ],
   "source": [
    "sequences[0][\"drive_line_q0_bus\"][0]._program"
   ]
  },
  {
   "attachments": {},
   "cell_type": "markdown",
   "metadata": {},
   "source": [
    "Program of the feedline input output bus:"
   ]
  },
  {
   "cell_type": "code",
   "execution_count": 14,
   "metadata": {},
   "outputs": [
    {
     "data": {
      "text/plain": [
       "setup:\n",
       "    wait_sync        4\n",
       "    move             0, R0\n",
       "    move             1000, R1\n",
       "    move             1, R2\n",
       "    \n",
       "average:\n",
       "    move             0, R3\n",
       "    bin:\n",
       "        long_wait_10:\n",
       "            wait             128\n",
       "            \n",
       "        reset_ph\n",
       "        set_awg_gain     32767, 32767\n",
       "        set_ph           0\n",
       "        play             0, 1, 4\n",
       "        add              R3, 1, R3\n",
       "        nop\n",
       "        jlt              R3, 1, @bin\n",
       "    acquire          0, R3, 4\n",
       "    long_wait_11:\n",
       "        move             3, R4\n",
       "        long_wait_11_loop:\n",
       "            wait             65532\n",
       "            loop             R4, @long_wait_11_loop\n",
       "        wait             3268\n",
       "        \n",
       "    loop             R1, @average\n",
       "stop:\n",
       "    stop\n",
       "    "
      ]
     },
     "execution_count": 14,
     "metadata": {},
     "output_type": "execute_result"
    }
   ],
   "source": [
    "sequences[0][\"feedline_bus\"][0]._program"
   ]
  },
  {
   "attachments": {},
   "cell_type": "markdown",
   "metadata": {},
   "source": [
    "## Run the experiment"
   ]
  },
  {
   "cell_type": "code",
   "execution_count": null,
   "metadata": {},
   "outputs": [],
   "source": [
    "results = sample_experiment.run()"
   ]
  },
  {
   "cell_type": "code",
   "execution_count": null,
   "metadata": {},
   "outputs": [],
   "source": [
    "print(results)"
   ]
  },
  {
   "attachments": {},
   "cell_type": "markdown",
   "metadata": {},
   "source": [
    "## Disconnect from a Platform\n",
    "\n",
    "- Disconnect all instruments specified in the loaded platform\n",
    "- Turns off the instruments only when explicitly specified (by default is set to False)"
   ]
  },
  {
   "cell_type": "code",
   "execution_count": null,
   "metadata": {},
   "outputs": [
    {
     "name": "stderr",
     "output_type": "stream",
     "text": [
      "[qibo-connection] 0.7.2|INFO|2023-03-23 12:44:08]: Device Galadriel Qblox rack released.\n",
      "INFO:qiboconnection.config:Device Galadriel Qblox rack released.\n",
      "[qililab] [0.16.1|INFO|2023-03-23 12:44:08]: Already disconnected from the instruments\n",
      "INFO:qililab.config.config:Already disconnected from the instruments\n"
     ]
    }
   ],
   "source": [
    "platform.disconnect()"
   ]
  }
 ],
 "metadata": {
  "kernelspec": {
   "display_name": "qililab",
   "language": "python",
   "name": "python3"
  },
  "language_info": {
   "codemirror_mode": {
    "name": "ipython",
    "version": 3
   },
   "file_extension": ".py",
   "mimetype": "text/x-python",
   "name": "python",
   "nbconvert_exporter": "python",
   "pygments_lexer": "ipython3",
   "version": "3.10.8"
  },
  "orig_nbformat": 4,
  "vscode": {
   "interpreter": {
    "hash": "53235e66022d071ba4e97ea4af77e14ac3da4c0ffb32c596d9da41d30d7af9ae"
   }
  }
 },
 "nbformat": 4,
 "nbformat_minor": 2
}
