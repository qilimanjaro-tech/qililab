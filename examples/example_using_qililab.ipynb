{
 "cells": [
  {
   "attachments": {},
   "cell_type": "markdown",
   "metadata": {},
   "source": [
    "# Example notebook using Qililab"
   ]
  },
  {
   "cell_type": "code",
   "execution_count": 1,
   "metadata": {},
   "outputs": [],
   "source": [
    "import os\n",
    "from pathlib import Path\n",
    "\n",
    "import numpy as np\n",
    "from qibo.gates import M, X\n",
    "from qibo.models.circuit import Circuit\n",
    "from qiboconnection.api import API, ConnectionConfiguration\n",
    "\n",
    "import qililab as ql\n",
    "\n",
    "%matplotlib widget"
   ]
  },
  {
   "cell_type": "code",
   "execution_count": 2,
   "metadata": {},
   "outputs": [],
   "source": [
    "fname = os.path.abspath(\"\")\n",
    "os.environ[\"RUNCARDS\"] = str(Path(fname) / \"runcards\")\n",
    "os.environ[\"DATA\"] = str(Path(fname) / \"data\")"
   ]
  },
  {
   "attachments": {},
   "cell_type": "markdown",
   "metadata": {},
   "source": [
    "## Load a platform"
   ]
  },
  {
   "cell_type": "code",
   "execution_count": 3,
   "metadata": {},
   "outputs": [
    {
     "name": "stderr",
     "output_type": "stream",
     "text": [
      "[qililab] [0.16.1|INFO|2023-05-22 20:31:32]: Building platform\n",
      "INFO:qililab.config.config:Building platform\n",
      "[qililab] [0.16.1|WARNING|2023-05-22 20:31:32]: Cannot set `output_i=1` and `output_q=0` in hardware. The I/Q signals sent to sequencer 1 will be swapped to allow this setting.\n",
      "WARNING:qililab.config.config:Cannot set `output_i=1` and `output_q=0` in hardware. The I/Q signals sent to sequencer 1 will be swapped to allow this setting.\n",
      "[qililab] [0.16.1|WARNING|2023-05-22 20:31:32]: Cannot set `output_i=3` and `output_q=2` in hardware. The I/Q signals sent to sequencer 3 will be swapped to allow this setting.\n",
      "WARNING:qililab.config.config:Cannot set `output_i=3` and `output_q=2` in hardware. The I/Q signals sent to sequencer 3 will be swapped to allow this setting.\n"
     ]
    }
   ],
   "source": [
    "runcard_name = \"galadriel\"\n",
    "platform = ql.build_platform(name=runcard_name)"
   ]
  },
  {
   "attachments": {},
   "cell_type": "markdown",
   "metadata": {},
   "source": [
    "### Platform Chip"
   ]
  },
  {
   "cell_type": "code",
   "execution_count": 4,
   "metadata": {},
   "outputs": [
    {
     "name": "stdout",
     "output_type": "stream",
     "text": [
      "Chip None with 10 qubits and 12 ports: \n",
      "\n",
      " * Port 10: ----|qubit_0|----\n",
      " * Port 11: ----|qubit_1|----\n",
      " * Port 12: ----|qubit_2|----\n",
      " * Port 13: ----|qubit_3|----\n",
      " * Port 14: ----|qubit_4|----\n",
      " * Port 15: ----|qubit_5|----\n",
      " * Port 16: ----|qubit_6|----\n",
      " * Port 17: ----|qubit_7|----\n",
      " * Port 18: ----|qubit_8|----\n",
      " * Port 19: ----|qubit_9|----\n",
      " * Port 100: ----|resonator_q0|--|resonator_q1|--|resonator_q2|--|resonator_q3|--|resonator_q4|----\n",
      " * Port 101: ----|resonator_q0|--|resonator_q1|--|resonator_q2|--|resonator_q3|--|resonator_q4|----\n",
      "\n"
     ]
    }
   ],
   "source": [
    "print(platform.chip)"
   ]
  },
  {
   "attachments": {},
   "cell_type": "markdown",
   "metadata": {},
   "source": [
    "### Platform Buses"
   ]
  },
  {
   "cell_type": "code",
   "execution_count": 5,
   "metadata": {},
   "outputs": [
    {
     "name": "stdout",
     "output_type": "stream",
     "text": [
      "Bus 0:  -----|QRM1|--|rs_1|------|resonator_q0|------|resonator_q1|------|resonator_q2|------|resonator_q3|------|resonator_q4|----\n",
      "Bus 10:  -----|QCM-RF1|------|qubit_0|----\n",
      "Bus 15:  -----|QCM1|------|qubit_5|----\n",
      "Bus 11:  -----|QCM-RF1|------|qubit_1|----\n",
      "Bus 16:  -----|QCM1|------|qubit_6|----\n",
      "Bus 12:  -----|QCM-RF3|------|qubit_2|----\n",
      "Bus 17:  -----|QCM2|------|qubit_7|----\n",
      "Bus 13:  -----|QCM-RF2|------|qubit_3|----\n",
      "Bus 18:  -----|QCM1|------|qubit_8|----\n",
      "Bus 14:  -----|QCM-RF2|------|qubit_4|----\n",
      "Bus 19:  -----|QCM1|------|qubit_9|----\n"
     ]
    }
   ],
   "source": [
    "print(platform.schema)"
   ]
  },
  {
   "attachments": {},
   "cell_type": "markdown",
   "metadata": {},
   "source": [
    "## Connect to a Platform"
   ]
  },
  {
   "cell_type": "code",
   "execution_count": null,
   "metadata": {},
   "outputs": [],
   "source": [
    "# Connect to all instruments of the platform and block the connection for other users\n",
    "platform.connect(manual_override=False)  # if manual_override=True, it surpasses any blocked connection\n",
    "platform.initial_setup()  # Sets all the values of the Runcard to the connected instruments\n",
    "platform.turn_on_instruments()  # Turns on all instruments"
   ]
  },
  {
   "attachments": {},
   "cell_type": "markdown",
   "metadata": {},
   "source": [
    "## Create an experiment"
   ]
  },
  {
   "attachments": {},
   "cell_type": "markdown",
   "metadata": {},
   "source": [
    "### Create the circuit associated with the experiment"
   ]
  },
  {
   "cell_type": "code",
   "execution_count": 10,
   "metadata": {},
   "outputs": [
    {
     "data": {
      "text/plain": [
       "MeasurementResult(qubits=(0,), nshots=0)"
      ]
     },
     "execution_count": 10,
     "metadata": {},
     "output_type": "execute_result"
    }
   ],
   "source": [
    "# Define Circuit to execute\n",
    "circuit = Circuit(2)\n",
    "circuit.add(ql.Drag(q=0, theta=1.23, phi=4.56))\n",
    "circuit.add(ql.Drag(q=1, theta=2, phi=3))\n",
    "circuit.add(M(0))"
   ]
  },
  {
   "attachments": {},
   "cell_type": "markdown",
   "metadata": {},
   "source": [
    "### Create loops over parameter values (optional)"
   ]
  },
  {
   "cell_type": "code",
   "execution_count": 11,
   "metadata": {},
   "outputs": [],
   "source": [
    "lo_freq_loop = ql.Loop(\n",
    "    alias=\"drive_line_bus\",\n",
    "    parameter=ql.Parameter.LO_FREQUENCY,\n",
    "    values=np.linspace(start=6.0e09, stop=6.5e09, num=10),\n",
    ")"
   ]
  },
  {
   "attachments": {},
   "cell_type": "markdown",
   "metadata": {},
   "source": [
    "### Initialize the Experiment"
   ]
  },
  {
   "cell_type": "code",
   "execution_count": 12,
   "metadata": {},
   "outputs": [],
   "source": [
    "settings = ql.ExperimentSettings(\n",
    "    hardware_average=1000,\n",
    "    repetition_duration=200_000,\n",
    "    software_average=1,\n",
    ")\n",
    "\n",
    "options = ql.ExperimentOptions(\n",
    "    loops=[lo_freq_loop],  # loops to run the experiment\n",
    "    settings=settings,  # experiment settings\n",
    "    name=\"experiment_name\",  # name of the experiment (it will be also used for the results folder name)\n",
    ")\n",
    "\n",
    "sample_experiment = ql.Experiment(\n",
    "    platform=platform,  # platform to run the experiment\n",
    "    circuits=[circuit],  # circuits to run the experiment\n",
    "    options=options,  # experiment options\n",
    ")"
   ]
  },
  {
   "attachments": {},
   "cell_type": "markdown",
   "metadata": {},
   "source": [
    "### Translate the circuit into pulses and build the Execution object"
   ]
  },
  {
   "cell_type": "code",
   "execution_count": 13,
   "metadata": {},
   "outputs": [],
   "source": [
    "sample_experiment.build_execution()"
   ]
  },
  {
   "attachments": {},
   "cell_type": "markdown",
   "metadata": {},
   "source": [
    "### Draw pulses to be sent"
   ]
  },
  {
   "cell_type": "code",
   "execution_count": 14,
   "metadata": {},
   "outputs": [
    {
     "data": {
      "application/vnd.jupyter.widget-view+json": {
       "model_id": "942b828e04c94fbb93fec2906ea8d6f2",
       "version_major": 2,
       "version_minor": 0
      },
      "image/png": "[encoded data removed]",
      "text/html": [
       "\n",
       "            <div style=\"display: inline-block;\">\n",
       "                <div class=\"jupyter-widgets widget-label\" style=\"text-align: center;\">\n",
       "                    Figure\n",
       "                </div>\n",
       "                <img src='data:image/png;base64,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' width=640.0/>\n",
       "            </div>\n",
       "        "
      ],
      "text/plain": [
       "Canvas(toolbar=Toolbar(toolitems=[('Home', 'Reset original view', 'home', 'home'), ('Back', 'Back to previous …"
      ]
     },
     "metadata": {},
     "output_type": "display_data"
    }
   ],
   "source": [
    "figure = sample_experiment.draw()"
   ]
  },
  {
   "attachments": {},
   "cell_type": "markdown",
   "metadata": {},
   "source": [
    "## Check the compiled sequences of the experiment"
   ]
  },
  {
   "cell_type": "code",
   "execution_count": 15,
   "metadata": {},
   "outputs": [
    {
     "name": "stderr",
     "output_type": "stream",
     "text": [
      "[qililab] [0.16.1|INFO|2023-05-22 20:32:57]: Q1ASM program: \n",
      " setup:\n",
      "    move             1000, R0\n",
      "    wait_sync        4\n",
      "    \n",
      "average:\n",
      "    reset_ph\n",
      "    set_awg_gain     12828, 12828\n",
      "    set_ph           12666666\n",
      "    play             0, 1, 4\n",
      "    long_wait_1:\n",
      "        move             3, R1\n",
      "        long_wait_1_loop:\n",
      "            wait             65532\n",
      "            loop             R1, @long_wait_1_loop\n",
      "        wait             3400\n",
      "        \n",
      "    loop             R0, @average\n",
      "stop:\n",
      "    stop\n",
      "    \n",
      "\n",
      "INFO:qililab.config.config:Q1ASM program: \n",
      " setup:\n",
      "    move             1000, R0\n",
      "    wait_sync        4\n",
      "    \n",
      "average:\n",
      "    reset_ph\n",
      "    set_awg_gain     12828, 12828\n",
      "    set_ph           12666666\n",
      "    play             0, 1, 4\n",
      "    long_wait_1:\n",
      "        move             3, R1\n",
      "        long_wait_1_loop:\n",
      "            wait             65532\n",
      "            loop             R1, @long_wait_1_loop\n",
      "        wait             3400\n",
      "        \n",
      "    loop             R0, @average\n",
      "stop:\n",
      "    stop\n",
      "    \n",
      "\n",
      "[qililab] [0.16.1|INFO|2023-05-22 20:32:57]: Q1ASM program: \n",
      " setup:\n",
      "    move             1000, R0\n",
      "    wait_sync        4\n",
      "    \n",
      "average:\n",
      "    reset_ph\n",
      "    set_awg_gain     20860, 20860\n",
      "    set_ph           8333333\n",
      "    play             0, 1, 4\n",
      "    long_wait_2:\n",
      "        move             3, R1\n",
      "        long_wait_2_loop:\n",
      "            wait             65532\n",
      "            loop             R1, @long_wait_2_loop\n",
      "        wait             3400\n",
      "        \n",
      "    loop             R0, @average\n",
      "stop:\n",
      "    stop\n",
      "    \n",
      "\n",
      "INFO:qililab.config.config:Q1ASM program: \n",
      " setup:\n",
      "    move             1000, R0\n",
      "    wait_sync        4\n",
      "    \n",
      "average:\n",
      "    reset_ph\n",
      "    set_awg_gain     20860, 20860\n",
      "    set_ph           8333333\n",
      "    play             0, 1, 4\n",
      "    long_wait_2:\n",
      "        move             3, R1\n",
      "        long_wait_2_loop:\n",
      "            wait             65532\n",
      "            loop             R1, @long_wait_2_loop\n",
      "        wait             3400\n",
      "        \n",
      "    loop             R0, @average\n",
      "stop:\n",
      "    stop\n",
      "    \n",
      "\n",
      "[qililab] [0.16.1|INFO|2023-05-22 20:32:57]: Q1ASM program: \n",
      " setup:\n",
      "    move             1000, R0\n",
      "    wait_sync        4\n",
      "    \n",
      "average:\n",
      "    wait             24\n",
      "    reset_ph\n",
      "    set_awg_gain     32767, 32767\n",
      "    set_ph           0\n",
      "    play             0, 1, 4\n",
      "    acquire          0, 0, 4\n",
      "    long_wait_3:\n",
      "        move             3, R1\n",
      "        long_wait_3_loop:\n",
      "            wait             65532\n",
      "            loop             R1, @long_wait_3_loop\n",
      "        wait             3372\n",
      "        \n",
      "    loop             R0, @average\n",
      "stop:\n",
      "    stop\n",
      "    \n",
      "\n",
      "INFO:qililab.config.config:Q1ASM program: \n",
      " setup:\n",
      "    move             1000, R0\n",
      "    wait_sync        4\n",
      "    \n",
      "average:\n",
      "    wait             24\n",
      "    reset_ph\n",
      "    set_awg_gain     32767, 32767\n",
      "    set_ph           0\n",
      "    play             0, 1, 4\n",
      "    acquire          0, 0, 4\n",
      "    long_wait_3:\n",
      "        move             3, R1\n",
      "        long_wait_3_loop:\n",
      "            wait             65532\n",
      "            loop             R1, @long_wait_3_loop\n",
      "        wait             3372\n",
      "        \n",
      "    loop             R0, @average\n",
      "stop:\n",
      "    stop\n",
      "    \n",
      "\n"
     ]
    }
   ],
   "source": [
    "# this method compiles the pulses into the assembly program and returns all the sequences sent to the instruments\n",
    "sequences = sample_experiment.compile()"
   ]
  },
  {
   "attachments": {},
   "cell_type": "markdown",
   "metadata": {},
   "source": [
    "Program of the drive line bus:"
   ]
  },
  {
   "cell_type": "code",
   "execution_count": 16,
   "metadata": {},
   "outputs": [
    {
     "data": {
      "text/plain": [
       "setup:\n",
       "    move             1000, R0\n",
       "    wait_sync        4\n",
       "    \n",
       "average:\n",
       "    reset_ph\n",
       "    set_awg_gain     12828, 12828\n",
       "    set_ph           12666666\n",
       "    play             0, 1, 4\n",
       "    long_wait_1:\n",
       "        move             3, R1\n",
       "        long_wait_1_loop:\n",
       "            wait             65532\n",
       "            loop             R1, @long_wait_1_loop\n",
       "        wait             3400\n",
       "        \n",
       "    loop             R0, @average\n",
       "stop:\n",
       "    stop\n",
       "    "
      ]
     },
     "execution_count": 16,
     "metadata": {},
     "output_type": "execute_result"
    }
   ],
   "source": [
    "sequences[0][\"drive_line_q0_bus\"][0]._program"
   ]
  },
  {
   "attachments": {},
   "cell_type": "markdown",
   "metadata": {},
   "source": [
    "Program of the feedline input output bus:"
   ]
  },
  {
   "cell_type": "code",
   "execution_count": 17,
   "metadata": {},
   "outputs": [
    {
     "data": {
      "text/plain": [
       "setup:\n",
       "    move             1000, R0\n",
       "    wait_sync        4\n",
       "    \n",
       "average:\n",
       "    wait             24\n",
       "    reset_ph\n",
       "    set_awg_gain     32767, 32767\n",
       "    set_ph           0\n",
       "    play             0, 1, 4\n",
       "    acquire          0, 0, 4\n",
       "    long_wait_3:\n",
       "        move             3, R1\n",
       "        long_wait_3_loop:\n",
       "            wait             65532\n",
       "            loop             R1, @long_wait_3_loop\n",
       "        wait             3372\n",
       "        \n",
       "    loop             R0, @average\n",
       "stop:\n",
       "    stop\n",
       "    "
      ]
     },
     "execution_count": 17,
     "metadata": {},
     "output_type": "execute_result"
    }
   ],
   "source": [
    "sequences[0][\"feedline_bus\"][0]._program"
   ]
  },
  {
   "attachments": {},
   "cell_type": "markdown",
   "metadata": {},
   "source": [
    "## Run the experiment"
   ]
  },
  {
   "cell_type": "code",
   "execution_count": null,
   "metadata": {},
   "outputs": [],
   "source": [
    "results = sample_experiment.run()"
   ]
  },
  {
   "cell_type": "code",
   "execution_count": null,
   "metadata": {},
   "outputs": [],
   "source": [
    "print(results)"
   ]
  },
  {
   "attachments": {},
   "cell_type": "markdown",
   "metadata": {},
   "source": [
    "## Disconnect from a Platform\n",
    "\n",
    "- Disconnect all instruments specified in the loaded platform\n",
    "- Turns off the instruments only when explicitly specified (by default is set to False)"
   ]
  },
  {
   "cell_type": "code",
   "execution_count": null,
   "metadata": {},
   "outputs": [
    {
     "name": "stderr",
     "output_type": "stream",
     "text": [
      "[qibo-connection] 0.7.2|INFO|2023-03-23 12:44:08]: Device Galadriel Qblox rack released.\n",
      "INFO:qiboconnection.config:Device Galadriel Qblox rack released.\n",
      "[qililab] [0.16.1|INFO|2023-03-23 12:44:08]: Already disconnected from the instruments\n",
      "INFO:qililab.config.config:Already disconnected from the instruments\n"
     ]
    }
   ],
   "source": [
    "platform.disconnect()"
   ]
  }
 ],
 "metadata": {
  "kernelspec": {
   "display_name": "qililab",
   "language": "python",
   "name": "python3"
  },
  "language_info": {
   "codemirror_mode": {
    "name": "ipython",
    "version": 3
   },
   "file_extension": ".py",
   "mimetype": "text/x-python",
   "name": "python",
   "nbconvert_exporter": "python",
   "pygments_lexer": "ipython3",
   "version": "3.10.8"
  },
  "orig_nbformat": 4,
  "vscode": {
   "interpreter": {
    "hash": "53235e66022d071ba4e97ea4af77e14ac3da4c0ffb32c596d9da41d30d7af9ae"
   }
  }
 },
 "nbformat": 4,
 "nbformat_minor": 2
}
