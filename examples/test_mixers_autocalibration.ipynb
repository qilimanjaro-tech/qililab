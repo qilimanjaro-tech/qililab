{
 "cells": [
  {
   "cell_type": "code",
   "execution_count": 1,
   "metadata": {},
   "outputs": [
    {
     "name": "stdout",
     "output_type": "stream",
     "text": [
      "2024-11-28 14:29:08,654 - qm - INFO     - Starting session: f73da983-b5a5-41c9-b3ef-7b11c35018a7\n"
     ]
    }
   ],
   "source": [
    "import qililab as ql\n",
    "\n",
    "ql.logger.setLevel(40)\n"
   ]
  },
  {
   "cell_type": "code",
   "execution_count": 2,
   "metadata": {},
   "outputs": [],
   "source": [
    "platform_path = \"./runcards/contralto_saruman.yml\"\n",
    "\n",
    "platform = ql.build_platform(runcard=platform_path)\n",
    "platform.connect()\n",
    "platform.initial_setup()\n",
    "platform.turn_on_instruments()\n"
   ]
  },
  {
   "cell_type": "code",
   "execution_count": 7,
   "metadata": {},
   "outputs": [
    {
     "data": {
      "text/plain": [
       "<qililab.instruments.qblox.qblox_qrm_rf.QbloxQRMRF at 0x176a54910>"
      ]
     },
     "execution_count": 7,
     "metadata": {},
     "output_type": "execute_result"
    }
   ],
   "source": [
    "qrm_rf_1 = platform.get_element(alias=\"QRM-RF1\")\n",
    "qrm_rf_1\n"
   ]
  }
 ],
 "metadata": {
  "kernelspec": {
   "display_name": "qdac",
   "language": "python",
   "name": "python3"
  },
  "language_info": {
   "codemirror_mode": {
    "name": "ipython",
    "version": 3
   },
   "file_extension": ".py",
   "mimetype": "text/x-python",
   "name": "python",
   "nbconvert_exporter": "python",
   "pygments_lexer": "ipython3",
   "version": "3.10.15"
  },
  "orig_nbformat": 4
 },
 "nbformat": 4,
 "nbformat_minor": 2
}
