{
 "cells": [
  {
   "cell_type": "code",
   "execution_count": null,
   "metadata": {},
   "outputs": [],
   "source": [
    "import qililab as ql"
   ]
  },
  {
   "cell_type": "code",
   "execution_count": null,
   "metadata": {},
   "outputs": [],
   "source": [
    " # Create a Calibration instance\n",
    "calibration = ql.Calibration()\n",
    "\n",
    "# Define waveforms and weights\n",
    "drag_wf = ql.IQPair.DRAG(amplitude=1.0, duration=40, num_sigmas=4.5, drag_coefficient=-2.5)\n",
    "readout_wf = ql.IQPair(I=ql.Square(amplitude=1.0, duration=200), Q=ql.Square(amplitude=0.0, duration=200))\n",
    "weights = ql.IQPair(I=ql.Square(amplitude=1.0, duration=200), Q=ql.Square(amplitude=1.0, duration=200))\n",
    "\n",
    "buses = {\n",
    "    \"flux_0\": {\"flux_0\": 1.47046905, \"flux_1\": 0.12276261},\n",
    "    \"flux_1\": {\"flux_0\": -0.55322207, \"flux_1\": 1.58247856},\n",
    "}\n",
    "# Add waveforms to the calibration\n",
    "calibration.add_waveform(bus='drive_q0_bus', name='Xpi', waveform=drag_wf)\n",
    "calibration.add_waveform(bus='readout_bus', name='Measure', waveform=readout_wf)\n",
    "\n",
    "# Add weights to the calibration\n",
    "calibration.add_weights(bus='readout_bus', name='optimal_weights', weights=weights)\n",
    "crosstalk_matrix = ql.CrosstalkMatrix().from_buses(buses)\n",
    "calibration.crosstalk_matrix = crosstalk_matrix\n",
    "\n",
    "# Save the calibration data to a file\n",
    "calibration.save_to('calibration_data.yml')\n",
    "\n",
    "# Load the calibration data from a file\n",
    "loaded_calibration = ql.Calibration.load_from('calibration_data.yml')"
   ]
  }
 ],
 "metadata": {
  "language_info": {
   "name": "python"
  },
  "orig_nbformat": 4
 },
 "nbformat": 4,
 "nbformat_minor": 2
}
