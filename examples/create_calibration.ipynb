{
 "cells": [
  {
   "cell_type": "code",
   "execution_count": 1,
   "metadata": {},
   "outputs": [
    {
     "name": "stdout",
     "output_type": "stream",
     "text": [
      "2024-09-06 12:23:26,399 - qm - INFO     - Starting session: 0c2b3813-559a-47ad-a74d-2f43a19a92df\n"
     ]
    }
   ],
   "source": [
    "import qililab as ql\n",
    "from qililab.qprogram import Calibration"
   ]
  },
  {
   "cell_type": "code",
   "execution_count": 2,
   "metadata": {},
   "outputs": [
    {
     "data": {
      "text/plain": [
       "'runcards/calibration_data.yml'"
      ]
     },
     "execution_count": 2,
     "metadata": {},
     "output_type": "execute_result"
    }
   ],
   "source": [
    " # Create a Calibration instance\n",
    "calibration = ql.Calibration()\n",
    "\n",
    "# Define waveforms and weights\n",
    "drag_wf = ql.IQPair.DRAG(amplitude=1.0, duration=40, num_sigmas=4.5, drag_coefficient=-2.5)\n",
    "readout_wf = ql.IQPair(I=ql.Square(amplitude=1.0, duration=200), Q=ql.Square(amplitude=0.0, duration=200))\n",
    "weights = ql.IQPair(I=ql.Square(amplitude=1.0, duration=200), Q=ql.Square(amplitude=1.0, duration=200))\n",
    "\n",
    "buses = {\n",
    "    \"flux_0\": {\"flux_0\": 1.47046905, \"flux_1\": 0.12276261},\n",
    "    \"flux_1\": {\"flux_0\": -0.55322207, \"flux_1\": 1.58247856},\n",
    "}\n",
    "# Add waveforms to the calibration\n",
    "calibration.add_waveform(bus='drive_q0_bus', name='Xpi', waveform=drag_wf)\n",
    "calibration.add_waveform(bus='readout_bus', name='Measure', waveform=readout_wf)\n",
    "\n",
    "# Add weights to the calibration\n",
    "calibration.add_weights(bus='readout_bus', name='optimal_weights', weights=weights)\n",
    "crosstalk_matrix = ql.CrosstalkMatrix().from_buses(buses)\n",
    "calibration.crosstalk_matrix = crosstalk_matrix\n",
    "\n",
    "# Save the calibration data to a file\n",
    "calibration.save_to('runcards/calibration_data.yml')\n"
   ]
  },
  {
   "cell_type": "code",
   "execution_count": 3,
   "metadata": {},
   "outputs": [
    {
     "name": "stdout",
     "output_type": "stream",
     "text": [
      "              flux_0     flux_1\n",
      "flux_0     1.47046905 0.12276261\n",
      "flux_1     -0.55322207 1.58247856\n",
      "              flux_0     flux_1\n",
      "flux_0     1.47046905 0.12276261\n",
      "flux_1     -0.55322207 1.58247856\n"
     ]
    }
   ],
   "source": [
    "# Load the calibration data from a file\n",
    "loaded_calibration = Calibration.load_from('runcards/calibration_data.yml')\n",
    "print(loaded_calibration.crosstalk_matrix)"
   ]
  }
 ],
 "metadata": {
  "kernelspec": {
   "display_name": "qililab",
   "language": "python",
   "name": "python3"
  },
  "language_info": {
   "codemirror_mode": {
    "name": "ipython",
    "version": 3
   },
   "file_extension": ".py",
   "mimetype": "text/x-python",
   "name": "python",
   "nbconvert_exporter": "python",
   "pygments_lexer": "ipython3",
   "version": "3.10.12"
  },
  "orig_nbformat": 4
 },
 "nbformat": 4,
 "nbformat_minor": 2
}
