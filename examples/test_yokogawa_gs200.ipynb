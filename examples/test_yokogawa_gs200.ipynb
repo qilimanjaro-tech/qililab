{
 "cells": [
  {
   "cell_type": "code",
   "execution_count": 5,
   "metadata": {},
   "outputs": [],
   "source": [
    "import os\n",
    "from pathlib import Path\n",
    "\n",
    "import matplotlib.pyplot as plt\n",
    "import numpy as np\n",
    "from qiboconnection.api import API\n",
    "\n",
    "from qililab import build_platform\n",
    "\n",
    "PATH = os.getcwd()\n",
    "os.environ[\"DATA\"] = f\"{PATH}/data\"\n",
    "os.environ[\"RUNCARDS\"] = f\"{PATH}/runcards\""
   ]
  },
  {
   "cell_type": "code",
   "execution_count": 6,
   "metadata": {},
   "outputs": [
    {
     "name": "stderr",
     "output_type": "stream",
     "text": [
      "[qililab] [0.16.1|INFO|2023-04-03 12:10:25]: Building platform\n",
      "INFO:qililab.config.config:Building platform\n"
     ]
    },
    {
     "ename": "TypeError",
     "evalue": "GS200Controller.GS200ControllerSettings.__init__() got an unexpected keyword argument 'reference_clock'",
     "output_type": "error",
     "traceback": [
      "\u001b[0;31m---------------------------------------------------------------------------\u001b[0m",
      "\u001b[0;31mTypeError\u001b[0m                                 Traceback (most recent call last)",
      "Cell \u001b[0;32mIn[6], line 2\u001b[0m\n\u001b[1;32m      1\u001b[0m \u001b[38;5;124;03m\"\"\"Load the platform 'sauron' from the runcard.\"\"\"\u001b[39;00m\n\u001b[0;32m----> 2\u001b[0m platform \u001b[38;5;241m=\u001b[39m \u001b[43mbuild_platform\u001b[49m\u001b[43m(\u001b[49m\u001b[43mname\u001b[49m\u001b[38;5;241;43m=\u001b[39;49m\u001b[38;5;124;43m\"\u001b[39;49m\u001b[38;5;124;43msauron_yokogawa\u001b[39;49m\u001b[38;5;124;43m\"\u001b[39;49m\u001b[43m)\u001b[49m \n",
      "File \u001b[0;32m~/qilimanjaro/qililab/src/qililab/platform/__init__.py:28\u001b[0m, in \u001b[0;36mbuild_platform\u001b[0;34m(name, connection, database)\u001b[0m\n\u001b[1;32m     26\u001b[0m \u001b[38;5;28;01mif\u001b[39;00m database:\n\u001b[1;32m     27\u001b[0m     \u001b[38;5;28;01mraise\u001b[39;00m \u001b[38;5;167;01mNotImplementedError\u001b[39;00m\n\u001b[0;32m---> 28\u001b[0m \u001b[38;5;28;01mreturn\u001b[39;00m \u001b[43mPLATFORM_MANAGER_YAML\u001b[49m\u001b[38;5;241;43m.\u001b[39;49m\u001b[43mbuild\u001b[49m\u001b[43m(\u001b[49m\u001b[43mplatform_name\u001b[49m\u001b[38;5;241;43m=\u001b[39;49m\u001b[43mname\u001b[49m\u001b[43m,\u001b[49m\u001b[43m \u001b[49m\u001b[43mconnection\u001b[49m\u001b[38;5;241;43m=\u001b[39;49m\u001b[43mconnection\u001b[49m\u001b[43m)\u001b[49m\n",
      "File \u001b[0;32m~/qilimanjaro/qililab/src/qililab/platform/platform_manager.py:26\u001b[0m, in \u001b[0;36mPlatformManager.build\u001b[0;34m(self, platform_name, connection)\u001b[0m\n\u001b[1;32m     24\u001b[0m logger\u001b[38;5;241m.\u001b[39minfo(\u001b[38;5;124m\"\u001b[39m\u001b[38;5;124mBuilding platform\u001b[39m\u001b[38;5;124m\"\u001b[39m)\n\u001b[1;32m     25\u001b[0m platform_schema \u001b[38;5;241m=\u001b[39m RuncardSchema(\u001b[38;5;241m*\u001b[39m\u001b[38;5;241m*\u001b[39m\u001b[38;5;28mself\u001b[39m\u001b[38;5;241m.\u001b[39m_load_platform_settings(platform_name\u001b[38;5;241m=\u001b[39mplatform_name))\n\u001b[0;32m---> 26\u001b[0m \u001b[38;5;28;01mreturn\u001b[39;00m \u001b[43mPlatform\u001b[49m\u001b[43m(\u001b[49m\u001b[43mruncard_schema\u001b[49m\u001b[38;5;241;43m=\u001b[39;49m\u001b[43mplatform_schema\u001b[49m\u001b[43m,\u001b[49m\u001b[43m \u001b[49m\u001b[43mconnection\u001b[49m\u001b[38;5;241;43m=\u001b[39;49m\u001b[43mconnection\u001b[49m\u001b[43m)\u001b[49m\n",
      "File \u001b[0;32m~/qilimanjaro/qililab/src/qililab/platform/platform.py:26\u001b[0m, in \u001b[0;36mPlatform.__init__\u001b[0;34m(self, runcard_schema, connection)\u001b[0m\n\u001b[1;32m     24\u001b[0m \u001b[38;5;28;01mdef\u001b[39;00m \u001b[38;5;21m__init__\u001b[39m(\u001b[38;5;28mself\u001b[39m, runcard_schema: RuncardSchema, connection: API \u001b[38;5;241m|\u001b[39m \u001b[38;5;28;01mNone\u001b[39;00m \u001b[38;5;241m=\u001b[39m \u001b[38;5;28;01mNone\u001b[39;00m):\n\u001b[1;32m     25\u001b[0m     \u001b[38;5;28mself\u001b[39m\u001b[38;5;241m.\u001b[39msettings \u001b[38;5;241m=\u001b[39m runcard_schema\u001b[38;5;241m.\u001b[39msettings\n\u001b[0;32m---> 26\u001b[0m     \u001b[38;5;28mself\u001b[39m\u001b[38;5;241m.\u001b[39mschema \u001b[38;5;241m=\u001b[39m \u001b[43mSchema\u001b[49m\u001b[43m(\u001b[49m\u001b[38;5;241;43m*\u001b[39;49m\u001b[38;5;241;43m*\u001b[39;49m\u001b[43masdict\u001b[49m\u001b[43m(\u001b[49m\u001b[43mruncard_schema\u001b[49m\u001b[38;5;241;43m.\u001b[39;49m\u001b[43mschema\u001b[49m\u001b[43m)\u001b[49m\u001b[43m)\u001b[49m\n\u001b[1;32m     27\u001b[0m     \u001b[38;5;28mself\u001b[39m\u001b[38;5;241m.\u001b[39mconnection \u001b[38;5;241m=\u001b[39m connection\n\u001b[1;32m     28\u001b[0m     \u001b[38;5;28mself\u001b[39m\u001b[38;5;241m.\u001b[39m_connected_to_instruments: \u001b[38;5;28mbool\u001b[39m \u001b[38;5;241m=\u001b[39m \u001b[38;5;28;01mFalse\u001b[39;00m\n",
      "File \u001b[0;32m~/qilimanjaro/qililab/src/qililab/platform/components/schema.py:32\u001b[0m, in \u001b[0;36mSchema.__init__\u001b[0;34m(self, buses, instruments, chip, instrument_controllers)\u001b[0m\n\u001b[1;32m     24\u001b[0m \u001b[38;5;28mself\u001b[39m\u001b[38;5;241m.\u001b[39mchip \u001b[38;5;241m=\u001b[39m Chip(\u001b[38;5;241m*\u001b[39m\u001b[38;5;241m*\u001b[39mchip) \u001b[38;5;28;01mif\u001b[39;00m chip \u001b[38;5;129;01mis\u001b[39;00m \u001b[38;5;129;01mnot\u001b[39;00m \u001b[38;5;28;01mNone\u001b[39;00m \u001b[38;5;28;01melse\u001b[39;00m \u001b[38;5;28;01mNone\u001b[39;00m\n\u001b[1;32m     25\u001b[0m \u001b[38;5;28mself\u001b[39m\u001b[38;5;241m.\u001b[39mbuses \u001b[38;5;241m=\u001b[39m (\n\u001b[1;32m     26\u001b[0m     Buses(elements\u001b[38;5;241m=\u001b[39m[Bus(settings\u001b[38;5;241m=\u001b[39mbus, platform_instruments\u001b[38;5;241m=\u001b[39m\u001b[38;5;28mself\u001b[39m\u001b[38;5;241m.\u001b[39minstruments, chip\u001b[38;5;241m=\u001b[39m\u001b[38;5;28mself\u001b[39m\u001b[38;5;241m.\u001b[39mchip) \u001b[38;5;28;01mfor\u001b[39;00m bus \u001b[38;5;129;01min\u001b[39;00m buses])\n\u001b[1;32m     27\u001b[0m     \u001b[38;5;28;01mif\u001b[39;00m buses \u001b[38;5;129;01mis\u001b[39;00m \u001b[38;5;129;01mnot\u001b[39;00m \u001b[38;5;28;01mNone\u001b[39;00m\n\u001b[1;32m     28\u001b[0m     \u001b[38;5;28;01melse\u001b[39;00m \u001b[38;5;28;01mNone\u001b[39;00m\n\u001b[1;32m     29\u001b[0m )\n\u001b[1;32m     30\u001b[0m \u001b[38;5;28mself\u001b[39m\u001b[38;5;241m.\u001b[39minstrument_controllers \u001b[38;5;241m=\u001b[39m (\n\u001b[1;32m     31\u001b[0m     InstrumentControllers(\n\u001b[0;32m---> 32\u001b[0m         elements\u001b[38;5;241m=\u001b[39m\u001b[38;5;28;43mself\u001b[39;49m\u001b[38;5;241;43m.\u001b[39;49m\u001b[43m_load_instrument_controllers\u001b[49m\u001b[43m(\u001b[49m\u001b[43minstrument_controllers_dict\u001b[49m\u001b[38;5;241;43m=\u001b[39;49m\u001b[43minstrument_controllers\u001b[49m\u001b[43m)\u001b[49m\n\u001b[1;32m     33\u001b[0m     )\n\u001b[1;32m     34\u001b[0m     \u001b[38;5;28;01mif\u001b[39;00m instrument_controllers \u001b[38;5;129;01mis\u001b[39;00m \u001b[38;5;129;01mnot\u001b[39;00m \u001b[38;5;28;01mNone\u001b[39;00m\n\u001b[1;32m     35\u001b[0m     \u001b[38;5;28;01melse\u001b[39;00m \u001b[38;5;28;01mNone\u001b[39;00m\n\u001b[1;32m     36\u001b[0m )\n",
      "File \u001b[0;32m~/qilimanjaro/qililab/src/qililab/platform/components/schema.py:65\u001b[0m, in \u001b[0;36mSchema._load_instrument_controllers\u001b[0;34m(self, instrument_controllers_dict)\u001b[0m\n\u001b[1;32m     55\u001b[0m \u001b[38;5;28;01mdef\u001b[39;00m \u001b[38;5;21m_load_instrument_controllers\u001b[39m(\u001b[38;5;28mself\u001b[39m, instrument_controllers_dict: List[\u001b[38;5;28mdict\u001b[39m]) \u001b[38;5;241m-\u001b[39m\u001b[38;5;241m>\u001b[39m List[InstrumentController]:\n\u001b[1;32m     56\u001b[0m \u001b[38;5;250m    \u001b[39m\u001b[38;5;124;03m\"\"\"Instantiate all instrument controller classes from their respective dictionaries.\u001b[39;00m\n\u001b[1;32m     57\u001b[0m \n\u001b[1;32m     58\u001b[0m \u001b[38;5;124;03m    Args:\u001b[39;00m\n\u001b[0;32m   (...)\u001b[0m\n\u001b[1;32m     63\u001b[0m \u001b[38;5;124;03m        List[InstrumentController]: List of instantiated instrument controller classes.\u001b[39;00m\n\u001b[1;32m     64\u001b[0m \u001b[38;5;124;03m    \"\"\"\u001b[39;00m\n\u001b[0;32m---> 65\u001b[0m     \u001b[38;5;28;01mreturn\u001b[39;00m [\n\u001b[1;32m     66\u001b[0m         InstrumentControllerFactory\u001b[38;5;241m.\u001b[39mget(instrument_controller\u001b[38;5;241m.\u001b[39mpop(RUNCARD\u001b[38;5;241m.\u001b[39mNAME))(\n\u001b[1;32m     67\u001b[0m             settings\u001b[38;5;241m=\u001b[39minstrument_controller, loaded_instruments\u001b[38;5;241m=\u001b[39m\u001b[38;5;28mself\u001b[39m\u001b[38;5;241m.\u001b[39minstruments\n\u001b[1;32m     68\u001b[0m         )\n\u001b[1;32m     69\u001b[0m         \u001b[38;5;28;01mfor\u001b[39;00m instrument_controller \u001b[38;5;129;01min\u001b[39;00m instrument_controllers_dict\n\u001b[1;32m     70\u001b[0m     ]\n",
      "File \u001b[0;32m~/qilimanjaro/qililab/src/qililab/platform/components/schema.py:66\u001b[0m, in \u001b[0;36m<listcomp>\u001b[0;34m(.0)\u001b[0m\n\u001b[1;32m     55\u001b[0m \u001b[38;5;28;01mdef\u001b[39;00m \u001b[38;5;21m_load_instrument_controllers\u001b[39m(\u001b[38;5;28mself\u001b[39m, instrument_controllers_dict: List[\u001b[38;5;28mdict\u001b[39m]) \u001b[38;5;241m-\u001b[39m\u001b[38;5;241m>\u001b[39m List[InstrumentController]:\n\u001b[1;32m     56\u001b[0m \u001b[38;5;250m    \u001b[39m\u001b[38;5;124;03m\"\"\"Instantiate all instrument controller classes from their respective dictionaries.\u001b[39;00m\n\u001b[1;32m     57\u001b[0m \n\u001b[1;32m     58\u001b[0m \u001b[38;5;124;03m    Args:\u001b[39;00m\n\u001b[0;32m   (...)\u001b[0m\n\u001b[1;32m     63\u001b[0m \u001b[38;5;124;03m        List[InstrumentController]: List of instantiated instrument controller classes.\u001b[39;00m\n\u001b[1;32m     64\u001b[0m \u001b[38;5;124;03m    \"\"\"\u001b[39;00m\n\u001b[1;32m     65\u001b[0m     \u001b[38;5;28;01mreturn\u001b[39;00m [\n\u001b[0;32m---> 66\u001b[0m         \u001b[43mInstrumentControllerFactory\u001b[49m\u001b[38;5;241;43m.\u001b[39;49m\u001b[43mget\u001b[49m\u001b[43m(\u001b[49m\u001b[43minstrument_controller\u001b[49m\u001b[38;5;241;43m.\u001b[39;49m\u001b[43mpop\u001b[49m\u001b[43m(\u001b[49m\u001b[43mRUNCARD\u001b[49m\u001b[38;5;241;43m.\u001b[39;49m\u001b[43mNAME\u001b[49m\u001b[43m)\u001b[49m\u001b[43m)\u001b[49m\u001b[43m(\u001b[49m\n\u001b[1;32m     67\u001b[0m \u001b[43m            \u001b[49m\u001b[43msettings\u001b[49m\u001b[38;5;241;43m=\u001b[39;49m\u001b[43minstrument_controller\u001b[49m\u001b[43m,\u001b[49m\u001b[43m \u001b[49m\u001b[43mloaded_instruments\u001b[49m\u001b[38;5;241;43m=\u001b[39;49m\u001b[38;5;28;43mself\u001b[39;49m\u001b[38;5;241;43m.\u001b[39;49m\u001b[43minstruments\u001b[49m\n\u001b[1;32m     68\u001b[0m \u001b[43m        \u001b[49m\u001b[43m)\u001b[49m\n\u001b[1;32m     69\u001b[0m         \u001b[38;5;28;01mfor\u001b[39;00m instrument_controller \u001b[38;5;129;01min\u001b[39;00m instrument_controllers_dict\n\u001b[1;32m     70\u001b[0m     ]\n",
      "File \u001b[0;32m~/qilimanjaro/qililab/src/qililab/instrument_controllers/instrument_controller.py:90\u001b[0m, in \u001b[0;36mInstrumentController.__init__\u001b[0;34m(self, settings, loaded_instruments)\u001b[0m\n\u001b[1;32m     88\u001b[0m \u001b[38;5;28;01mdef\u001b[39;00m \u001b[38;5;21m__init__\u001b[39m(\u001b[38;5;28mself\u001b[39m, settings: \u001b[38;5;28mdict\u001b[39m, loaded_instruments: Instruments):\n\u001b[1;32m     89\u001b[0m     settings_class: Type[InstrumentControllerSettings] \u001b[38;5;241m=\u001b[39m get_type_hints(\u001b[38;5;28mself\u001b[39m)\u001b[38;5;241m.\u001b[39mget(RUNCARD\u001b[38;5;241m.\u001b[39mSETTINGS)  \u001b[38;5;66;03m# type: ignore\u001b[39;00m\n\u001b[0;32m---> 90\u001b[0m     \u001b[38;5;28mself\u001b[39m\u001b[38;5;241m.\u001b[39msettings \u001b[38;5;241m=\u001b[39m \u001b[43msettings_class\u001b[49m\u001b[43m(\u001b[49m\u001b[38;5;241;43m*\u001b[39;49m\u001b[38;5;241;43m*\u001b[39;49m\u001b[43msettings\u001b[49m\u001b[43m)\u001b[49m\n\u001b[1;32m     91\u001b[0m     \u001b[38;5;28mself\u001b[39m\u001b[38;5;241m.\u001b[39mmodules \u001b[38;5;241m=\u001b[39m Loader()\u001b[38;5;241m.\u001b[39mreplace_modules_from_settings_with_instrument_objects(\n\u001b[1;32m     92\u001b[0m         instruments\u001b[38;5;241m=\u001b[39mloaded_instruments,\n\u001b[1;32m     93\u001b[0m         instrument_references\u001b[38;5;241m=\u001b[39m\u001b[38;5;28mself\u001b[39m\u001b[38;5;241m.\u001b[39msettings\u001b[38;5;241m.\u001b[39mmodules,\n\u001b[1;32m     94\u001b[0m     )\n\u001b[1;32m     95\u001b[0m     \u001b[38;5;28;01mif\u001b[39;00m \u001b[38;5;28mlen\u001b[39m(\u001b[38;5;28mself\u001b[39m\u001b[38;5;241m.\u001b[39mmodules) \u001b[38;5;241m<\u001b[39m\u001b[38;5;241m=\u001b[39m \u001b[38;5;241m0\u001b[39m:\n",
      "\u001b[0;31mTypeError\u001b[0m: GS200Controller.GS200ControllerSettings.__init__() got an unexpected keyword argument 'reference_clock'"
     ]
    }
   ],
   "source": [
    "\"\"\"Load the platform 'sauron' from the runcard.\"\"\"\n",
    "platform = build_platform(name=\"sauron_yokogawa\") "
   ]
  },
  {
   "cell_type": "code",
   "execution_count": null,
   "metadata": {},
   "outputs": [],
   "source": [
    "platform.connect()"
   ]
  },
  {
   "cell_type": "code",
   "execution_count": null,
   "metadata": {},
   "outputs": [],
   "source": [
    "yoko = platform.instruments.elements[0]"
   ]
  },
  {
   "cell_type": "code",
   "execution_count": null,
   "metadata": {},
   "outputs": [],
   "source": [
    "type(yoko)"
   ]
  },
  {
   "cell_type": "code",
   "execution_count": null,
   "metadata": {},
   "outputs": [],
   "source": []
  }
 ],
 "metadata": {
  "kernelspec": {
   "display_name": "Python 3 (ipykernel)",
   "language": "python",
   "name": "python3"
  },
  "language_info": {
   "codemirror_mode": {
    "name": "ipython",
    "version": 3
   },
   "file_extension": ".py",
   "mimetype": "text/x-python",
   "name": "python",
   "nbconvert_exporter": "python",
   "pygments_lexer": "ipython3",
   "version": "3.10.6"
  }
 },
 "nbformat": 4,
 "nbformat_minor": 2
}
