{
 "cells": [
  {
   "cell_type": "code",
   "execution_count": 1,
   "metadata": {},
   "outputs": [],
   "source": [
    "import os\n",
    "from pathlib import Path\n",
    "\n",
    "import matplotlib.pyplot as plt\n",
    "import numpy as np\n",
    "from qiboconnection.api import API\n",
    "\n",
    "from qililab import build_platform\n",
    "from qililab.typings import Parameter\n",
    "\n",
    "PATH = os.getcwd()\n",
    "os.environ[\"DATA\"] = f\"{PATH}/data\"\n",
    "os.environ[\"RUNCARDS\"] = f\"{PATH}/runcards\""
   ]
  },
  {
   "cell_type": "markdown",
   "metadata": {},
   "source": [
    "### Connect the Yokogawa via platform"
   ]
  },
  {
   "cell_type": "code",
   "execution_count": 9,
   "metadata": {},
   "outputs": [
    {
     "name": "stderr",
     "output_type": "stream",
     "text": [
      "[qililab] [0.16.1|INFO|2023-04-27 12:17:34]: Building platform\n",
      "INFO:qililab.config.config:Building platform\n"
     ]
    }
   ],
   "source": [
    "\"\"\"Load the platform 'sauron' from the runcard.\"\"\"\n",
    "platform = build_platform(name=\"sauron_yokogawa\")"
   ]
  },
  {
   "cell_type": "code",
   "execution_count": 10,
   "metadata": {},
   "outputs": [
    {
     "name": "stderr",
     "output_type": "stream",
     "text": [
      "[qililab] [0.16.1|INFO|2023-04-27 12:17:34]: Connecting to instrument YokogawaGS200.\n",
      "INFO:qililab.config.config:Connecting to instrument YokogawaGS200.\n",
      "[qililab] [0.16.1|INFO|2023-04-27 12:17:34]: Reset instrument YokogawaGS200.\n",
      "INFO:qililab.config.config:Reset instrument YokogawaGS200.\n",
      "[qililab] [0.16.1|INFO|2023-04-27 12:17:34]: Connected to the instruments\n",
      "INFO:qililab.config.config:Connected to the instruments\n"
     ]
    },
    {
     "name": "stdout",
     "output_type": "stream",
     "text": [
      "Connected to: YOKOGAWA GS210 (serial:90YA37100, firmware:2.02) in 0.02s\n"
     ]
    }
   ],
   "source": [
    "platform.connect()"
   ]
  },
  {
   "cell_type": "code",
   "execution_count": 11,
   "metadata": {},
   "outputs": [],
   "source": [
    "yoko = platform.instruments.elements[0]"
   ]
  },
  {
   "cell_type": "code",
   "execution_count": 12,
   "metadata": {},
   "outputs": [
    {
     "data": {
      "text/plain": [
       "qililab.instruments.yokogawa.gs200.GS200"
      ]
     },
     "execution_count": 12,
     "metadata": {},
     "output_type": "execute_result"
    }
   ],
   "source": [
    "type(yoko)"
   ]
  },
  {
   "cell_type": "markdown",
   "metadata": {},
   "source": [
    "Turn on/off the device to output signal"
   ]
  },
  {
   "cell_type": "code",
   "execution_count": 6,
   "metadata": {},
   "outputs": [
    {
     "data": {
      "text/plain": [
       "True"
      ]
     },
     "execution_count": 6,
     "metadata": {},
     "output_type": "execute_result"
    }
   ],
   "source": [
    "yoko.start()\n",
    "yoko.output_status"
   ]
  },
  {
   "cell_type": "code",
   "execution_count": 7,
   "metadata": {},
   "outputs": [
    {
     "data": {
      "text/plain": [
       "False"
      ]
     },
     "execution_count": 7,
     "metadata": {},
     "output_type": "execute_result"
    }
   ],
   "source": [
    "yoko.stop()\n",
    "yoko.output_status"
   ]
  },
  {
   "cell_type": "markdown",
   "metadata": {},
   "source": [
    "Setting the current"
   ]
  },
  {
   "cell_type": "code",
   "execution_count": 8,
   "metadata": {},
   "outputs": [],
   "source": [
    "# This sets the current without ramping it\n",
    "yoko.current = -0.0004  # value in A"
   ]
  },
  {
   "cell_type": "code",
   "execution_count": 9,
   "metadata": {},
   "outputs": [],
   "source": [
    "# This ramps the current with:\n",
    "# ramp_to: New target current value in Ampere\n",
    "# step: The ramp steps in Ampere\n",
    "# delay: The time between finishing one step and starting another in seconds.\n",
    "yoko.ramp_current(ramp_to=0.0001, step=0.00005, delay=0)"
   ]
  },
  {
   "cell_type": "markdown",
   "metadata": {},
   "source": [
    "Test qililab integration"
   ]
  },
  {
   "cell_type": "code",
   "execution_count": 10,
   "metadata": {},
   "outputs": [],
   "source": [
    "platform.set_parameter(alias=\"YokogawaGS200\", parameter=Parameter.CURRENT, value=0.0003)"
   ]
  },
  {
   "cell_type": "code",
   "execution_count": 11,
   "metadata": {},
   "outputs": [
    {
     "data": {
      "text/plain": [
       "0.0003"
      ]
     },
     "execution_count": 11,
     "metadata": {},
     "output_type": "execute_result"
    }
   ],
   "source": [
    "yoko.current"
   ]
  },
  {
   "cell_type": "code",
   "execution_count": null,
   "metadata": {},
   "outputs": [],
   "source": []
  }
 ],
 "metadata": {
  "kernelspec": {
   "display_name": "Python 3 (ipykernel)",
   "language": "python",
   "name": "python3"
  },
  "language_info": {
   "codemirror_mode": {
    "name": "ipython",
    "version": 3
   },
   "file_extension": ".py",
   "mimetype": "text/x-python",
   "name": "python",
   "nbconvert_exporter": "python",
   "pygments_lexer": "ipython3",
   "version": "3.10.6"
  }
 },
 "nbformat": 4,
 "nbformat_minor": 2
}
