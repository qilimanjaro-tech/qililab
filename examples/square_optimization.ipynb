{
 "cells": [
  {
   "cell_type": "code",
   "execution_count": 17,
   "metadata": {},
   "outputs": [],
   "source": [
    "from qililab.qprogram import QbloxCompiler, QProgram\n",
    "from qililab.waveforms import IQPair, Square"
   ]
  },
  {
   "cell_type": "code",
   "execution_count": 18,
   "metadata": {},
   "outputs": [],
   "source": [
    "qp = QProgram()\n",
    "qp.play(bus=\"drive\", waveform=IQPair(I=Square(1.0, duration=25), Q=Square(0.5, duration=25)))\n",
    "qp.play(bus=\"drive\", waveform=Square(1.0, duration=50))\n",
    "qp.play(bus=\"drive\", waveform=Square(1.0, duration=500))\n",
    "qp.play(bus=\"drive\", waveform=IQPair(I=Square(1.0, duration=500), Q=Square(0.0, duration=500)))\n",
    "qp.play(bus=\"drive\", waveform=Square(1.0, duration=50_000))\n",
    "qp.play(bus=\"drive\", waveform=Square(1.0, duration=9790223))\n",
    "qp.play(bus=\"drive\", waveform=IQPair(I=Square(1.0, duration=9790223), Q=Square(1.0, duration=9790223)))\n",
    "qp.play(bus=\"drive\", waveform=Square(0.5, duration=1234567))"
   ]
  },
  {
   "cell_type": "code",
   "execution_count": 19,
   "metadata": {},
   "outputs": [],
   "source": [
    "compiler = QbloxCompiler()\n",
    "output = compiler.compile(qp, optimize_square_waveforms=True)"
   ]
  },
  {
   "cell_type": "code",
   "execution_count": 20,
   "metadata": {},
   "outputs": [
    {
     "data": {
      "text/plain": [
       "11"
      ]
     },
     "execution_count": 20,
     "metadata": {},
     "output_type": "execute_result"
    }
   ],
   "source": [
    "len(output.sequences[\"drive\"]._waveforms._waveforms)"
   ]
  },
  {
   "cell_type": "code",
   "execution_count": 21,
   "metadata": {},
   "outputs": [
    {
     "data": {
      "text/plain": [
       "setup:\n",
       "                wait_sync        4              \n",
       "                set_mrk          0              \n",
       "                upd_param        4              \n",
       "\n",
       "main:\n",
       "                play             0, 1, 25       \n",
       "                play             2, 3, 50       \n",
       "                move             5, R0          \n",
       "square_0:\n",
       "                play             4, 5, 100      \n",
       "                loop             R0, @square_0  \n",
       "                move             5, R1          \n",
       "square_1:\n",
       "                play             4, 6, 100      \n",
       "                loop             R1, @square_1  \n",
       "                move             500, R2        \n",
       "square_2:\n",
       "                play             4, 5, 100      \n",
       "                loop             R2, @square_2  \n",
       "                move             97902, R3      \n",
       "square_3:\n",
       "                play             4, 5, 100      \n",
       "                loop             R3, @square_3  \n",
       "                play             7, 8, 23       \n",
       "                move             97902, R4      \n",
       "square_4:\n",
       "                play             4, 4, 100      \n",
       "                loop             R4, @square_4  \n",
       "                play             7, 7, 23       \n",
       "                move             9721, R5       \n",
       "square_5:\n",
       "                play             9, 10, 127     \n",
       "                loop             R5, @square_5  \n",
       "                set_mrk          0              \n",
       "                upd_param        4              \n",
       "                stop                            \n"
      ]
     },
     "execution_count": 21,
     "metadata": {},
     "output_type": "execute_result"
    }
   ],
   "source": [
    "output.sequences[\"drive\"]._program"
   ]
  }
 ],
 "metadata": {
  "kernelspec": {
   "display_name": "qililab",
   "language": "python",
   "name": "python3"
  },
  "language_info": {
   "codemirror_mode": {
    "name": "ipython",
    "version": 3
   },
   "file_extension": ".py",
   "mimetype": "text/x-python",
   "name": "python",
   "nbconvert_exporter": "python",
   "pygments_lexer": "ipython3",
   "version": "3.10.15"
  }
 },
 "nbformat": 4,
 "nbformat_minor": 2
}
