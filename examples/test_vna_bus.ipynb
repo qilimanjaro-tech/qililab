{
 "cells": [
  {
   "cell_type": "code",
   "execution_count": 1,
   "metadata": {},
   "outputs": [
    {
     "name": "stderr",
     "output_type": "stream",
     "text": [
      "[Qibo 0.1.7|INFO|2022-11-11 17:03:40]: Using numpy backend on /CPU:0\n",
      "[Qibo 0.1.7|WARNING|2022-11-11 17:03:40]: numpy backend uses `np.einsum` and supports CPU only. Consider installing the qibojit or qibotf backends for increased performance and to enable GPU acceleration.\n"
     ]
    }
   ],
   "source": [
    "\"\"\"Run circuit experiment\"\"\"\n",
    "import os\n",
    "from pathlib import Path\n",
    "\n",
    "from qibo.core.circuit import Circuit\n",
    "from qibo.gates import M\n",
    "\n",
    "from qiboconnection.api import API\n",
    "\n",
    "from qililab import build_platform\n",
    "from qililab.constants import GALADRIEL_DEVICE_ID\n",
    "from qililab.experiment import Experiment\n",
    "from qililab.typings import Parameter\n",
    "from qililab.utils import Loop\n",
    "import numpy as np\n",
    "import matplotlib.pyplot as plt\n",
    "import h5py\n",
    "\n",
    "PATH = os.getcwd()  \n",
    "os.environ[\"RUNCARDS\"] =\"./runcards\"\n",
    "os.environ[\"DATA\"] = \"./data\""
   ]
  },
  {
   "cell_type": "code",
   "execution_count": 2,
   "metadata": {},
   "outputs": [
    {
     "name": "stderr",
     "output_type": "stream",
     "text": [
      "[qililab] [0.9.0|INFO|2022-11-11 17:03:47]: Building platform\n",
      "INFO:qililab.config.config:Building platform\n"
     ]
    }
   ],
   "source": [
    "\"\"\"Load the platform 'sauron' from the runcard.\"\"\"\n",
    "platform = build_platform(name=\"sauron_vna\")"
   ]
  },
  {
   "cell_type": "code",
   "execution_count": 3,
   "metadata": {},
   "outputs": [
    {
     "ename": "AttributeError",
     "evalue": "'NoneType' object has no attribute 'alias'",
     "output_type": "error",
     "traceback": [
      "\u001b[1;31m---------------------------------------------------------------------------\u001b[0m",
      "\u001b[1;31mAttributeError\u001b[0m                            Traceback (most recent call last)",
      "\u001b[1;32mc:\\Users\\Qilimanjaro\\Githubrepos\\qililab\\examples\\test_vna_bus.ipynb Cell 3\u001b[0m in \u001b[0;36m<cell line: 25>\u001b[1;34m()\u001b[0m\n\u001b[0;32m     <a href='vscode-notebook-cell:/c%3A/Users/Qilimanjaro/Githubrepos/qililab/examples/test_vna_bus.ipynb#W5sZmlsZQ%3D%3D?line=14'>15</a>\u001b[0m vna_test \u001b[39m=\u001b[39m Experiment(\n\u001b[0;32m     <a href='vscode-notebook-cell:/c%3A/Users/Qilimanjaro/Githubrepos/qililab/examples/test_vna_bus.ipynb#W5sZmlsZQ%3D%3D?line=15'>16</a>\u001b[0m     platform\u001b[39m=\u001b[39mplatform,\n\u001b[0;32m     <a href='vscode-notebook-cell:/c%3A/Users/Qilimanjaro/Githubrepos/qililab/examples/test_vna_bus.ipynb#W5sZmlsZQ%3D%3D?line=16'>17</a>\u001b[0m     sequences\u001b[39m=\u001b[39mcircuit,\n\u001b[1;32m   (...)\u001b[0m\n\u001b[0;32m     <a href='vscode-notebook-cell:/c%3A/Users/Qilimanjaro/Githubrepos/qililab/examples/test_vna_bus.ipynb#W5sZmlsZQ%3D%3D?line=19'>20</a>\u001b[0m     settings\u001b[39m=\u001b[39msettings,   \n\u001b[0;32m     <a href='vscode-notebook-cell:/c%3A/Users/Qilimanjaro/Githubrepos/qililab/examples/test_vna_bus.ipynb#W5sZmlsZQ%3D%3D?line=20'>21</a>\u001b[0m )  \n\u001b[0;32m     <a href='vscode-notebook-cell:/c%3A/Users/Qilimanjaro/Githubrepos/qililab/examples/test_vna_bus.ipynb#W5sZmlsZQ%3D%3D?line=23'>24</a>\u001b[0m \u001b[39m# Execute experiment\u001b[39;00m\n\u001b[1;32m---> <a href='vscode-notebook-cell:/c%3A/Users/Qilimanjaro/Githubrepos/qililab/examples/test_vna_bus.ipynb#W5sZmlsZQ%3D%3D?line=24'>25</a>\u001b[0m results \u001b[39m=\u001b[39m vna_test\u001b[39m.\u001b[39;49mexecute()\n",
      "File \u001b[1;32m~\\Githubrepos\\qililab\\src\\qililab\\experiment\\experiment.py:70\u001b[0m, in \u001b[0;36mExperiment.execute\u001b[1;34m(self)\u001b[0m\n\u001b[0;32m     68\u001b[0m path \u001b[39m=\u001b[39m create_results_folder(name\u001b[39m=\u001b[39m\u001b[39mself\u001b[39m\u001b[39m.\u001b[39mname)\n\u001b[0;32m     69\u001b[0m \u001b[39mself\u001b[39m\u001b[39m.\u001b[39m_create_results_file(path\u001b[39m=\u001b[39mpath)\n\u001b[1;32m---> 70\u001b[0m \u001b[39mself\u001b[39;49m\u001b[39m.\u001b[39;49m_dump_experiment_data(path\u001b[39m=\u001b[39;49mpath)\n\u001b[0;32m     71\u001b[0m plot \u001b[39m=\u001b[39m LivePlot(\n\u001b[0;32m     72\u001b[0m     remote_api\u001b[39m=\u001b[39m\u001b[39mself\u001b[39m\u001b[39m.\u001b[39mremote_api,\n\u001b[0;32m     73\u001b[0m     loops\u001b[39m=\u001b[39m\u001b[39mself\u001b[39m\u001b[39m.\u001b[39mloops,\n\u001b[0;32m     74\u001b[0m     plot_y_label\u001b[39m=\u001b[39m\u001b[39mself\u001b[39m\u001b[39m.\u001b[39mplot_y_label,\n\u001b[0;32m     75\u001b[0m     num_sequences\u001b[39m=\u001b[39m\u001b[39mself\u001b[39m\u001b[39m.\u001b[39mexecution\u001b[39m.\u001b[39mnum_sequences,\n\u001b[0;32m     76\u001b[0m )\n\u001b[0;32m     77\u001b[0m results \u001b[39m=\u001b[39m Results(\n\u001b[0;32m     78\u001b[0m     software_average\u001b[39m=\u001b[39m\u001b[39mself\u001b[39m\u001b[39m.\u001b[39msoftware_average, num_sequences\u001b[39m=\u001b[39m\u001b[39mself\u001b[39m\u001b[39m.\u001b[39mexecution\u001b[39m.\u001b[39mnum_sequences, loops\u001b[39m=\u001b[39m\u001b[39mself\u001b[39m\u001b[39m.\u001b[39mloops\n\u001b[0;32m     79\u001b[0m )\n",
      "File \u001b[1;32m~\\Githubrepos\\qililab\\src\\qililab\\experiment\\experiment.py:352\u001b[0m, in \u001b[0;36mExperiment._dump_experiment_data\u001b[1;34m(self, path)\u001b[0m\n\u001b[0;32m    346\u001b[0m \u001b[39m\"\"\"Dump experiment data.\u001b[39;00m\n\u001b[0;32m    347\u001b[0m \n\u001b[0;32m    348\u001b[0m \u001b[39mArgs:\u001b[39;00m\n\u001b[0;32m    349\u001b[0m \u001b[39m    path (Path): Path to data folder.\u001b[39;00m\n\u001b[0;32m    350\u001b[0m \u001b[39m\"\"\"\u001b[39;00m\n\u001b[0;32m    351\u001b[0m \u001b[39mwith\u001b[39;00m \u001b[39mopen\u001b[39m(file\u001b[39m=\u001b[39mpath \u001b[39m/\u001b[39m EXPERIMENT_FILENAME, mode\u001b[39m=\u001b[39m\u001b[39m\"\u001b[39m\u001b[39mw\u001b[39m\u001b[39m\"\u001b[39m, encoding\u001b[39m=\u001b[39m\u001b[39m\"\u001b[39m\u001b[39mutf-8\u001b[39m\u001b[39m\"\u001b[39m) \u001b[39mas\u001b[39;00m experiment_file:\n\u001b[1;32m--> 352\u001b[0m     yaml\u001b[39m.\u001b[39mdump(data\u001b[39m=\u001b[39m\u001b[39mself\u001b[39;49m\u001b[39m.\u001b[39;49mto_dict(), stream\u001b[39m=\u001b[39mexperiment_file, sort_keys\u001b[39m=\u001b[39m\u001b[39mFalse\u001b[39;00m)\n",
      "File \u001b[1;32m~\\Githubrepos\\qililab\\src\\qililab\\experiment\\experiment.py:388\u001b[0m, in \u001b[0;36mExperiment.to_dict\u001b[1;34m(self)\u001b[0m\n\u001b[0;32m    381\u001b[0m \u001b[39mdef\u001b[39;00m \u001b[39mto_dict\u001b[39m(\u001b[39mself\u001b[39m):\n\u001b[0;32m    382\u001b[0m     \u001b[39m\"\"\"Convert Experiment into a dictionary.\u001b[39;00m\n\u001b[0;32m    383\u001b[0m \n\u001b[0;32m    384\u001b[0m \u001b[39m    Returns:\u001b[39;00m\n\u001b[0;32m    385\u001b[0m \u001b[39m        dict: Dictionary representation of the Experiment class.\u001b[39;00m\n\u001b[0;32m    386\u001b[0m \u001b[39m    \"\"\"\u001b[39;00m\n\u001b[0;32m    387\u001b[0m     \u001b[39mreturn\u001b[39;00m {\n\u001b[1;32m--> 388\u001b[0m         RUNCARD\u001b[39m.\u001b[39mPLATFORM: \u001b[39mself\u001b[39;49m\u001b[39m.\u001b[39;49mplatform\u001b[39m.\u001b[39;49mto_dict(),\n\u001b[0;32m    389\u001b[0m         RUNCARD\u001b[39m.\u001b[39mSETTINGS: asdict(\u001b[39mself\u001b[39m\u001b[39m.\u001b[39msettings),\n\u001b[0;32m    390\u001b[0m         EXPERIMENT\u001b[39m.\u001b[39mSEQUENCES: [sequence\u001b[39m.\u001b[39mto_dict() \u001b[39mfor\u001b[39;00m sequence \u001b[39min\u001b[39;00m \u001b[39mself\u001b[39m\u001b[39m.\u001b[39msequences],\n\u001b[0;32m    391\u001b[0m         EXPERIMENT\u001b[39m.\u001b[39mLOOPS: [loop\u001b[39m.\u001b[39mto_dict() \u001b[39mfor\u001b[39;00m loop \u001b[39min\u001b[39;00m \u001b[39mself\u001b[39m\u001b[39m.\u001b[39mloops] \u001b[39mif\u001b[39;00m \u001b[39mself\u001b[39m\u001b[39m.\u001b[39mloops \u001b[39mis\u001b[39;00m \u001b[39mnot\u001b[39;00m \u001b[39mNone\u001b[39;00m \u001b[39melse\u001b[39;00m \u001b[39mNone\u001b[39;00m,\n\u001b[0;32m    392\u001b[0m         RUNCARD\u001b[39m.\u001b[39mNAME: \u001b[39mself\u001b[39m\u001b[39m.\u001b[39mname,\n\u001b[0;32m    393\u001b[0m     }\n",
      "File \u001b[1;32m~\\Githubrepos\\qililab\\src\\qililab\\platform\\platform.py:237\u001b[0m, in \u001b[0;36mPlatform.to_dict\u001b[1;34m(self)\u001b[0m\n\u001b[0;32m    235\u001b[0m \u001b[39m\"\"\"Return all platform information as a dictionary.\"\"\"\u001b[39;00m\n\u001b[0;32m    236\u001b[0m platform_dict \u001b[39m=\u001b[39m {RUNCARD\u001b[39m.\u001b[39mSETTINGS: asdict(\u001b[39mself\u001b[39m\u001b[39m.\u001b[39msettings, dict_factory\u001b[39m=\u001b[39mdict_factory)}\n\u001b[1;32m--> 237\u001b[0m schema_dict \u001b[39m=\u001b[39m {RUNCARD\u001b[39m.\u001b[39mSCHEMA: \u001b[39mself\u001b[39;49m\u001b[39m.\u001b[39;49mschema\u001b[39m.\u001b[39;49mto_dict()}\n\u001b[0;32m    238\u001b[0m \u001b[39mreturn\u001b[39;00m platform_dict \u001b[39m|\u001b[39m schema_dict\n",
      "File \u001b[1;32m~\\Githubrepos\\qililab\\src\\qililab\\platform\\components\\schema.py:70\u001b[0m, in \u001b[0;36mSchema.to_dict\u001b[1;34m(self)\u001b[0m\n\u001b[0;32m     65\u001b[0m \u001b[39mdef\u001b[39;00m \u001b[39mto_dict\u001b[39m(\u001b[39mself\u001b[39m):\n\u001b[0;32m     66\u001b[0m     \u001b[39m\"\"\"Return a dict representation of the SchemaSettings class.\"\"\"\u001b[39;00m\n\u001b[0;32m     67\u001b[0m     \u001b[39mreturn\u001b[39;00m {\n\u001b[0;32m     68\u001b[0m         SCHEMA\u001b[39m.\u001b[39mCHIP: \u001b[39mself\u001b[39m\u001b[39m.\u001b[39mchip\u001b[39m.\u001b[39mto_dict(),\n\u001b[0;32m     69\u001b[0m         SCHEMA\u001b[39m.\u001b[39mINSTRUMENTS: \u001b[39mself\u001b[39m\u001b[39m.\u001b[39minstruments\u001b[39m.\u001b[39mto_dict(),\n\u001b[1;32m---> 70\u001b[0m         SCHEMA\u001b[39m.\u001b[39mBUSES: \u001b[39mself\u001b[39;49m\u001b[39m.\u001b[39;49mbuses\u001b[39m.\u001b[39;49mto_dict(),\n\u001b[0;32m     71\u001b[0m         SCHEMA\u001b[39m.\u001b[39mINSTRUMENT_CONTROLLERS: \u001b[39mself\u001b[39m\u001b[39m.\u001b[39minstrument_controllers\u001b[39m.\u001b[39mto_dict(),\n\u001b[0;32m     72\u001b[0m     }\n",
      "File \u001b[1;32m~\\Githubrepos\\qililab\\src\\qililab\\platform\\components\\buses.py:39\u001b[0m, in \u001b[0;36mBuses.to_dict\u001b[1;34m(self)\u001b[0m\n\u001b[0;32m     37\u001b[0m \u001b[39mdef\u001b[39;00m \u001b[39mto_dict\u001b[39m(\u001b[39mself\u001b[39m) \u001b[39m-\u001b[39m\u001b[39m>\u001b[39m List[\u001b[39mdict\u001b[39m]:\n\u001b[0;32m     38\u001b[0m     \u001b[39m\"\"\"Return a dict representation of the Buses class.\"\"\"\u001b[39;00m\n\u001b[1;32m---> 39\u001b[0m     \u001b[39mreturn\u001b[39;00m [bus\u001b[39m.\u001b[39mto_dict() \u001b[39mfor\u001b[39;00m bus \u001b[39min\u001b[39;00m \u001b[39mself\u001b[39m\u001b[39m.\u001b[39melements]\n",
      "File \u001b[1;32m~\\Githubrepos\\qililab\\src\\qililab\\platform\\components\\buses.py:39\u001b[0m, in \u001b[0;36m<listcomp>\u001b[1;34m(.0)\u001b[0m\n\u001b[0;32m     37\u001b[0m \u001b[39mdef\u001b[39;00m \u001b[39mto_dict\u001b[39m(\u001b[39mself\u001b[39m) \u001b[39m-\u001b[39m\u001b[39m>\u001b[39m List[\u001b[39mdict\u001b[39m]:\n\u001b[0;32m     38\u001b[0m     \u001b[39m\"\"\"Return a dict representation of the Buses class.\"\"\"\u001b[39;00m\n\u001b[1;32m---> 39\u001b[0m     \u001b[39mreturn\u001b[39;00m [bus\u001b[39m.\u001b[39;49mto_dict() \u001b[39mfor\u001b[39;00m bus \u001b[39min\u001b[39;00m \u001b[39mself\u001b[39m\u001b[39m.\u001b[39melements]\n",
      "File \u001b[1;32m~\\Githubrepos\\qililab\\src\\qililab\\platform\\components\\bus.py:143\u001b[0m, in \u001b[0;36mBus.to_dict\u001b[1;34m(self)\u001b[0m\n\u001b[0;32m    136\u001b[0m \u001b[39mdef\u001b[39;00m \u001b[39mto_dict\u001b[39m(\u001b[39mself\u001b[39m):\n\u001b[0;32m    137\u001b[0m     \u001b[39m\"\"\"Return a dict representation of the SchemaSettings class.\"\"\"\u001b[39;00m\n\u001b[0;32m    138\u001b[0m     \u001b[39mreturn\u001b[39;00m (\n\u001b[0;32m    139\u001b[0m         {\n\u001b[0;32m    140\u001b[0m             RUNCARD\u001b[39m.\u001b[39mID: \u001b[39mself\u001b[39m\u001b[39m.\u001b[39mid_,\n\u001b[0;32m    141\u001b[0m             RUNCARD\u001b[39m.\u001b[39mCATEGORY: \u001b[39mself\u001b[39m\u001b[39m.\u001b[39msettings\u001b[39m.\u001b[39mcategory\u001b[39m.\u001b[39mvalue,\n\u001b[0;32m    142\u001b[0m             RUNCARD\u001b[39m.\u001b[39mSUBCATEGORY: \u001b[39mself\u001b[39m\u001b[39m.\u001b[39msubcategory\u001b[39m.\u001b[39mvalue,\n\u001b[1;32m--> 143\u001b[0m             RUNCARD\u001b[39m.\u001b[39mSYSTEM_CONTROL: \u001b[39mself\u001b[39;49m\u001b[39m.\u001b[39;49msystem_control\u001b[39m.\u001b[39;49mto_dict(),\n\u001b[0;32m    144\u001b[0m         }\n\u001b[0;32m    145\u001b[0m         \u001b[39m|\u001b[39m ({RUNCARD\u001b[39m.\u001b[39mATTENUATOR: \u001b[39mself\u001b[39m\u001b[39m.\u001b[39mattenuator\u001b[39m.\u001b[39malias} \u001b[39mif\u001b[39;00m \u001b[39mself\u001b[39m\u001b[39m.\u001b[39mattenuator \u001b[39mis\u001b[39;00m \u001b[39mnot\u001b[39;00m \u001b[39mNone\u001b[39;00m \u001b[39melse\u001b[39;00m {})\n\u001b[0;32m    146\u001b[0m         \u001b[39m|\u001b[39m {BUS\u001b[39m.\u001b[39mPORT: \u001b[39mself\u001b[39m\u001b[39m.\u001b[39mport}\n\u001b[0;32m    147\u001b[0m     )\n",
      "File \u001b[1;32m~\\Githubrepos\\qililab\\src\\qililab\\instruments\\system_control\\vna_system_control.py:157\u001b[0m, in \u001b[0;36mVNASystemControl.to_dict\u001b[1;34m(self)\u001b[0m\n\u001b[0;32m    151\u001b[0m \u001b[39mdef\u001b[39;00m \u001b[39mto_dict\u001b[39m(\u001b[39mself\u001b[39m):\n\u001b[0;32m    152\u001b[0m     \u001b[39m\"\"\"Return a dict representation of the VNASystemControl class.\"\"\"\u001b[39;00m\n\u001b[0;32m    153\u001b[0m     \u001b[39mreturn\u001b[39;00m {\n\u001b[0;32m    154\u001b[0m         RUNCARD\u001b[39m.\u001b[39mID: \u001b[39mself\u001b[39m\u001b[39m.\u001b[39mid_,\n\u001b[0;32m    155\u001b[0m         RUNCARD\u001b[39m.\u001b[39mCATEGORY: \u001b[39mself\u001b[39m\u001b[39m.\u001b[39msettings\u001b[39m.\u001b[39mcategory\u001b[39m.\u001b[39mvalue,\n\u001b[0;32m    156\u001b[0m         RUNCARD\u001b[39m.\u001b[39mSUBCATEGORY: \u001b[39mself\u001b[39m\u001b[39m.\u001b[39msettings\u001b[39m.\u001b[39msubcategory\u001b[39m.\u001b[39mvalue,\n\u001b[1;32m--> 157\u001b[0m     } \u001b[39m|\u001b[39m {key: value\u001b[39m.\u001b[39malias \u001b[39mfor\u001b[39;00m key, value \u001b[39min\u001b[39;00m \u001b[39mself\u001b[39m}\n",
      "File \u001b[1;32m~\\Githubrepos\\qililab\\src\\qililab\\instruments\\system_control\\vna_system_control.py:157\u001b[0m, in \u001b[0;36m<dictcomp>\u001b[1;34m(.0)\u001b[0m\n\u001b[0;32m    151\u001b[0m \u001b[39mdef\u001b[39;00m \u001b[39mto_dict\u001b[39m(\u001b[39mself\u001b[39m):\n\u001b[0;32m    152\u001b[0m     \u001b[39m\"\"\"Return a dict representation of the VNASystemControl class.\"\"\"\u001b[39;00m\n\u001b[0;32m    153\u001b[0m     \u001b[39mreturn\u001b[39;00m {\n\u001b[0;32m    154\u001b[0m         RUNCARD\u001b[39m.\u001b[39mID: \u001b[39mself\u001b[39m\u001b[39m.\u001b[39mid_,\n\u001b[0;32m    155\u001b[0m         RUNCARD\u001b[39m.\u001b[39mCATEGORY: \u001b[39mself\u001b[39m\u001b[39m.\u001b[39msettings\u001b[39m.\u001b[39mcategory\u001b[39m.\u001b[39mvalue,\n\u001b[0;32m    156\u001b[0m         RUNCARD\u001b[39m.\u001b[39mSUBCATEGORY: \u001b[39mself\u001b[39m\u001b[39m.\u001b[39msettings\u001b[39m.\u001b[39msubcategory\u001b[39m.\u001b[39mvalue,\n\u001b[1;32m--> 157\u001b[0m     } \u001b[39m|\u001b[39m {key: value\u001b[39m.\u001b[39;49malias \u001b[39mfor\u001b[39;00m key, value \u001b[39min\u001b[39;00m \u001b[39mself\u001b[39m}\n",
      "\u001b[1;31mAttributeError\u001b[0m: 'NoneType' object has no attribute 'alias'"
     ]
    }
   ],
   "source": [
    "# Define Circuit to execute\n",
    "circuit = Circuit(1)\n",
    "circuit.add(M(0))\n",
    "\n",
    "# Change settings (optional)\n",
    "settings = Experiment.ExperimentSettings()\n",
    "# settings.hardware_average=1024*3\n",
    "# settings.software_average=3\n",
    "settings.repetition_duration = 20000   # Trigger period???\n",
    "\n",
    "loop = Loop(alias=\"keysight_e5080b\", parameter=Parameter.POWER, start=-60, stop=-10, num= 501)\n",
    "\n",
    "\n",
    "# Instantiate Experiment class\n",
    "vna_test = Experiment(\n",
    "    platform=platform,\n",
    "    sequences=circuit,\n",
    "    loops=[loop],\n",
    "    name=\"vna_test\",\n",
    "    settings=settings,   \n",
    ")  \n",
    "\n",
    "\n",
    "# Execute experiment\n",
    "results = vna_test.execute()\n",
    "\n",
    "\n",
    "\n"
   ]
  },
  {
   "cell_type": "code",
   "execution_count": null,
   "metadata": {},
   "outputs": [],
   "source": [
    "platform.connect()"
   ]
  },
  {
   "cell_type": "code",
   "execution_count": null,
   "metadata": {},
   "outputs": [],
   "source": [
    "platform.close()"
   ]
  },
  {
   "cell_type": "code",
   "execution_count": null,
   "metadata": {},
   "outputs": [],
   "source": []
  }
 ],
 "metadata": {
  "kernelspec": {
   "display_name": "Python 3.10.4 ('qililab')",
   "language": "python",
   "name": "python3"
  },
  "language_info": {
   "codemirror_mode": {
    "name": "ipython",
    "version": 3
   },
   "file_extension": ".py",
   "mimetype": "text/x-python",
   "name": "python",
   "nbconvert_exporter": "python",
   "pygments_lexer": "ipython3",
   "version": "3.10.4"
  },
  "orig_nbformat": 4,
  "vscode": {
   "interpreter": {
    "hash": "40739e705d2f345ab389157a94b759124160f56d223bf2d67d68edb11771ceb4"
   }
  }
 },
 "nbformat": 4,
 "nbformat_minor": 2
}
