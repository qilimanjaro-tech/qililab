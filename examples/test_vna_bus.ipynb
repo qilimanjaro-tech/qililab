{
 "cells": [
  {
   "cell_type": "code",
   "execution_count": 2,
   "metadata": {},
   "outputs": [],
   "source": [
    "\"\"\"Run circuit experiment\"\"\"\n",
    "import os\n",
    "from pathlib import Path\n",
    "\n",
    "from qibo.core.circuit import Circuit\n",
    "from qibo.gates import M\n",
    "\n",
    "from qiboconnection.api import API\n",
    "\n",
    "from qililab import build_platform\n",
    "from qililab.constants import GALADRIEL_DEVICE_ID\n",
    "from qililab.experiment import Experiment\n",
    "from qililab.typings import Parameter\n",
    "from qililab.utils import Loop\n",
    "import numpy as np\n",
    "import matplotlib.pyplot as plt\n",
    "import h5py\n",
    "\n",
    "PATH = os.getcwd()  \n",
    "os.environ[\"RUNCARDS\"] =\"./runcards\"\n",
    "os.environ[\"DATA\"] = \"./data\""
   ]
  },
  {
   "cell_type": "code",
   "execution_count": null,
   "metadata": {},
   "outputs": [],
   "source": []
  }
 ],
 "metadata": {
  "kernelspec": {
   "display_name": "Python 3.10.4 ('qililab')",
   "language": "python",
   "name": "python3"
  },
  "language_info": {
   "codemirror_mode": {
    "name": "ipython",
    "version": 3
   },
   "file_extension": ".py",
   "mimetype": "text/x-python",
   "name": "python",
   "nbconvert_exporter": "python",
   "pygments_lexer": "ipython3",
   "version": "3.10.4"
  },
  "orig_nbformat": 4,
  "vscode": {
   "interpreter": {
    "hash": "40739e705d2f345ab389157a94b759124160f56d223bf2d67d68edb11771ceb4"
   }
  }
 },
 "nbformat": 4,
 "nbformat_minor": 2
}
