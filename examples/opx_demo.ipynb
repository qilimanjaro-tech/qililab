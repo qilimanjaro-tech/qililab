{
 "cells": [
  {
   "cell_type": "code",
   "execution_count": 1,
   "metadata": {},
   "outputs": [
    {
     "name": "stdout",
     "output_type": "stream",
     "text": [
      "2024-11-27 01:27:24,159 - qm - INFO     - Starting session: 09264c08-7140-40f9-9c5b-fe590b064da5\n"
     ]
    }
   ],
   "source": [
    "from qililab.instruments.quantum_machines_opx import QuantumMachinesOPX\n",
    "from qililab.runcard import Runcard\n",
    "from qililab.runcard.runcard_instruments import QuantumMachinesOPXRuncardInstrument\n",
    "from qililab.settings.instruments import (\n",
    "    ControllerPort,\n",
    "    IQElement,\n",
    "    LFOutput,\n",
    "    OctavePort,\n",
    "    OPXSettings,\n",
    "    RFElement,\n",
    "    RFOutput,\n",
    "    RFReadoutElement,\n",
    "    SingleElement,\n",
    ")"
   ]
  },
  {
   "cell_type": "code",
   "execution_count": 2,
   "metadata": {},
   "outputs": [],
   "source": [
    "settings = OPXSettings(\n",
    "    alias=\"opx\",\n",
    "    outputs=[\n",
    "        LFOutput(port=0, connected_to=ControllerPort(controller=\"con1\", port=1)),\n",
    "        LFOutput(port=1, connected_to=ControllerPort(controller=\"con1\", port=2)),\n",
    "        LFOutput(port=2, connected_to=ControllerPort(controller=\"con1\", port=3)),\n",
    "        LFOutput(port=3, connected_to=ControllerPort(controller=\"con1\", port=4)),\n",
    "        RFOutput(\n",
    "            port=4,\n",
    "            connected_to=OctavePort(octave=\"octave1\", port=1),\n",
    "            connection_i=ControllerPort(controller=\"con1\", port=5),\n",
    "            connection_q=ControllerPort(controller=\"con1\", port=6),\n",
    "        ),\n",
    "        RFOutput(\n",
    "            port=5,\n",
    "            connected_to=OctavePort(octave=\"octave1\", port=2),\n",
    "            connection_i=ControllerPort(controller=\"con1\", port=7),\n",
    "            connection_q=ControllerPort(controller=\"con1\", port=8),\n",
    "        ),\n",
    "        RFOutput(\n",
    "            port=6,\n",
    "            connected_to=OctavePort(octave=\"octave1\", port=3),\n",
    "            connection_i=ControllerPort(controller=\"con1\", port=9),\n",
    "            connection_q=ControllerPort(controller=\"con1\", port=10),\n",
    "        ),\n",
    "    ],\n",
    "    elements=[\n",
    "        SingleElement(id=\"flux_q0\", output=0),\n",
    "        SingleElement(id=\"flux_q1\", output=1),\n",
    "        IQElement(id=\"iq_0\", output_i=2, output_q=3, intermediate_frequency=100e6, lo_frequency=10e9),\n",
    "        RFElement(id=\"drive_q0\", output=4, intermediate_frequency=50e6),\n",
    "        RFElement(id=\"drive_q1\", output=5, intermediate_frequency=100e6),\n",
    "        RFReadoutElement(id=\"readout_q0\", output=6, intermediate_frequency=60e6),\n",
    "        RFReadoutElement(id=\"readout_q1\", output=6, intermediate_frequency=120e6),\n",
    "    ],\n",
    ")"
   ]
  },
  {
   "cell_type": "code",
   "execution_count": 3,
   "metadata": {},
   "outputs": [],
   "source": [
    "opx = QuantumMachinesOPX(settings=settings)"
   ]
  },
  {
   "cell_type": "code",
   "execution_count": 7,
   "metadata": {},
   "outputs": [],
   "source": [
    "opx._qua_config = {}\n",
    "del opx._qua_config"
   ]
  },
  {
   "cell_type": "code",
   "execution_count": 8,
   "metadata": {},
   "outputs": [
    {
     "data": {
      "text/plain": [
       "{'version': 1,\n",
       " 'controllers': {'con1': {'analog_outputs': {1: {'offset': 0.0, 'delay': 0},\n",
       "    2: {'offset': 0.0, 'delay': 0},\n",
       "    3: {'offset': 0.0, 'delay': 0},\n",
       "    4: {'offset': 0.0, 'delay': 0},\n",
       "    5: {'offset': 0.0, 'delay': 0},\n",
       "    6: {'offset': 0.0, 'delay': 0},\n",
       "    7: {'offset': 0.0, 'delay': 0},\n",
       "    8: {'offset': 0.0, 'delay': 0},\n",
       "    9: {'offset': 0.0, 'delay': 0},\n",
       "    10: {'offset': 0.0, 'delay': 0}},\n",
       "   'analog_inputs': {},\n",
       "   'digital_outputs': {}}},\n",
       " 'octaves': {'octave1': {'RF_outputs': {1: {'LO_frequency': 10000000000.0,\n",
       "     'LO_source': 'internal',\n",
       "     'gain': 0.0,\n",
       "     'output_mode': 'always_on',\n",
       "     'input_attenuators': 'OFF',\n",
       "     'I_connection': ('con1', 5),\n",
       "     'Q_connection': ('con1', 6)},\n",
       "    2: {'LO_frequency': 10000000000.0,\n",
       "     'LO_source': 'internal',\n",
       "     'gain': 0.0,\n",
       "     'output_mode': 'always_on',\n",
       "     'input_attenuators': 'OFF',\n",
       "     'I_connection': ('con1', 7),\n",
       "     'Q_connection': ('con1', 8)},\n",
       "    3: {'LO_frequency': 10000000000.0,\n",
       "     'LO_source': 'internal',\n",
       "     'gain': 0.0,\n",
       "     'output_mode': 'always_on',\n",
       "     'input_attenuators': 'OFF',\n",
       "     'I_connection': ('con1', 9),\n",
       "     'Q_connection': ('con1', 10)}},\n",
       "   'RF_inputs': {},\n",
       "   'IF_outputs': {}}},\n",
       " 'elements': {'flux_q0': {'singleInput': {'port': ('con1', 1)}},\n",
       "  'flux_q1': {'singleInput': {'port': ('con1', 2)}},\n",
       "  'iq_0': {'mixInputs': {'I': ('con1', 3),\n",
       "    'Q': ('con1', 4),\n",
       "    'lo_frequency': 10000000000.0,\n",
       "    'mixer': 'mixer_iq_0'},\n",
       "   'intermediate_frequency': 100000000.0},\n",
       "  'drive_q0': {'RF_inputs': {'port': ('octave1', 1)},\n",
       "   'intermediate_frequency': 50000000.0},\n",
       "  'drive_q1': {'RF_inputs': {'port': ('octave1', 2)},\n",
       "   'intermediate_frequency': 100000000.0},\n",
       "  'readout_q0': {'RF_inputs': {'port': ('octave1', 3)},\n",
       "   'intermediate_frequency': 60000000.0,\n",
       "   'time_of_flight': 0,\n",
       "   'smearing': 0},\n",
       "  'readout_q1': {'RF_inputs': {'port': ('octave1', 3)},\n",
       "   'intermediate_frequency': 120000000.0,\n",
       "   'time_of_flight': 0,\n",
       "   'smearing': 0}},\n",
       " 'mixers': {'mixer_iq_0': {'intermediate_frequency': 100000000.0,\n",
       "   'lo_frequency': 10000000000.0,\n",
       "   'correction': [1.0, 0.0, 0.0, 1.0]}},\n",
       " 'waveforms': {},\n",
       " 'integration_weights': {},\n",
       " 'pulses': {},\n",
       " 'digital_waveforms': {}}"
      ]
     },
     "execution_count": 8,
     "metadata": {},
     "output_type": "execute_result"
    }
   ],
   "source": [
    "opx.settings.to_qua_config()"
   ]
  },
  {
   "cell_type": "code",
   "execution_count": 9,
   "metadata": {},
   "outputs": [],
   "source": [
    "runcard_opx = QuantumMachinesOPXRuncardInstrument(settings=settings)"
   ]
  },
  {
   "cell_type": "code",
   "execution_count": 10,
   "metadata": {},
   "outputs": [],
   "source": [
    "runcard = Runcard(name=\"opx_lab\")\n",
    "runcard.instruments.append(opx.to_runcard())"
   ]
  },
  {
   "cell_type": "code",
   "execution_count": 11,
   "metadata": {},
   "outputs": [],
   "source": [
    "runcard.save_to(\"opx.yml\")"
   ]
  },
  {
   "cell_type": "code",
   "execution_count": 12,
   "metadata": {},
   "outputs": [
    {
     "data": {
      "text/plain": [
       "Runcard(name='opx_lab', instruments=[QuantumMachinesOPXRuncardInstrument(type=<InstrumentType.QUANTUM_MACHINES_OPX: 'opx'>, settings=OPXSettings(alias='opx', outputs=[LFOutput(port=0, connected_to=ControllerPort(controller='con1', port=1), offset=0.0, delay=0), LFOutput(port=1, connected_to=ControllerPort(controller='con1', port=2), offset=0.0, delay=0), LFOutput(port=2, connected_to=ControllerPort(controller='con1', port=3), offset=0.0, delay=0), LFOutput(port=3, connected_to=ControllerPort(controller='con1', port=4), offset=0.0, delay=0), RFOutput(port=4, connected_to=OctavePort(octave='octave1', port=1), connection_i=ControllerPort(controller='con1', port=5), connection_q=ControllerPort(controller='con1', port=6), offset_i=0.0, offset_q=0.0, gain=0.0, lo_frequency=10000000000.0), RFOutput(port=5, connected_to=OctavePort(octave='octave1', port=2), connection_i=ControllerPort(controller='con1', port=7), connection_q=ControllerPort(controller='con1', port=8), offset_i=0.0, offset_q=0.0, gain=0.0, lo_frequency=10000000000.0), RFOutput(port=6, connected_to=OctavePort(octave='octave1', port=3), connection_i=ControllerPort(controller='con1', port=9), connection_q=ControllerPort(controller='con1', port=10), offset_i=0.0, offset_q=0.0, gain=0.0, lo_frequency=10000000000.0)], elements=[SingleElement(id='flux_q0', output=0), SingleElement(id='flux_q1', output=1), IQElement(id='iq_0', output_i=2, output_q=3, intermediate_frequency=100000000.0, lo_frequency=10000000000.0, mixer_correction=[1.0, 0.0, 0.0, 1.0]), RFElement(id='drive_q0', output=4, intermediate_frequency=50000000.0), RFElement(id='drive_q1', output=5, intermediate_frequency=100000000.0), RFReadoutElement(id='readout_q0', output=6, intermediate_frequency=60000000.0, time_of_flight=0, smearing=0), RFReadoutElement(id='readout_q1', output=6, intermediate_frequency=120000000.0, time_of_flight=0, smearing=0)]))], instrument_controllers=[])"
      ]
     },
     "execution_count": 12,
     "metadata": {},
     "output_type": "execute_result"
    }
   ],
   "source": [
    "loaded_runcard = Runcard.load_from(\"opx.yml\")\n",
    "loaded_runcard"
   ]
  }
 ],
 "metadata": {
  "kernelspec": {
   "display_name": "qililab",
   "language": "python",
   "name": "python3"
  },
  "language_info": {
   "codemirror_mode": {
    "name": "ipython",
    "version": 3
   },
   "file_extension": ".py",
   "mimetype": "text/x-python",
   "name": "python",
   "nbconvert_exporter": "python",
   "pygments_lexer": "ipython3",
   "version": "3.10.14"
  }
 },
 "nbformat": 4,
 "nbformat_minor": 2
}
