{
 "cells": [
  {
   "cell_type": "code",
   "execution_count": 2,
   "metadata": {},
   "outputs": [],
   "source": [
    "import numpy as np\n",
    "\n",
    "from qililab.qprogram.qprogram import QProgram\n",
    "from qililab.waveforms import Arbitrary, IQPair, Square, Waveform"
   ]
  },
  {
   "cell_type": "code",
   "execution_count": 3,
   "metadata": {},
   "outputs": [],
   "source": [
    "ones_wf = Square(amplitude=1.0, duration=40, resolution=1)\n",
    "zeros_wf = Square(amplitude=0.0, duration=40, resolution=1)\n",
    "\n",
    "with QProgram() as qp:\n",
    "    wait_time = qp.variable(int)\n",
    "    with qp.acquire_loop(iterations=1000):\n",
    "        with qp.loop(variable=wait_time, values=np.linspace(0, 1000, 101)):\n",
    "            qp.play(bus=\"drive\", waveform=IQPair(I=ones_wf, Q=zeros_wf))\n",
    "            qp.wait(bus=\"drive\", time=wait_time)\n",
    "            qp.play(bus=\"drive\", waveform=IQPair(I=ones_wf, Q=zeros_wf))"
   ]
  },
  {
   "cell_type": "code",
   "execution_count": 7,
   "metadata": {},
   "outputs": [
    {
     "data": {
      "text/plain": [
       "<qililab.qprogram.qprogram.QProgram at 0x7f92508d1a50>"
      ]
     },
     "execution_count": 7,
     "metadata": {},
     "output_type": "execute_result"
    }
   ],
   "source": [
    "qp"
   ]
  }
 ],
 "metadata": {
  "kernelspec": {
   "display_name": "qililab",
   "language": "python",
   "name": "python3"
  },
  "language_info": {
   "codemirror_mode": {
    "name": "ipython",
    "version": 3
   },
   "file_extension": ".py",
   "mimetype": "text/x-python",
   "name": "python",
   "nbconvert_exporter": "python",
   "pygments_lexer": "ipython3",
   "version": "3.11.4"
  },
  "orig_nbformat": 4
 },
 "nbformat": 4,
 "nbformat_minor": 2
}
