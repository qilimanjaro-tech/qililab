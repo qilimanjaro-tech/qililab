{
 "cells": [
  {
   "cell_type": "code",
   "execution_count": 2,
   "metadata": {},
   "outputs": [],
   "source": [
    "from qililab.qprogram.qprogram import QProgram"
   ]
  },
  {
   "cell_type": "code",
   "execution_count": 3,
   "metadata": {},
   "outputs": [],
   "source": [
    "with QProgram() as qp:\n",
    "    qp.wait(bus=\"drive\", time=10)\n",
    "    qp.wait(bus=\"drive\", time=20)\n",
    "    with qp.block() as block1:\n",
    "        qp.wait(bus=\"drive\", time=100)\n",
    "        with qp.block() as block2:\n",
    "            qp.wait(bus=\"drive\", time=1000)"
   ]
  },
  {
   "cell_type": "code",
   "execution_count": null,
   "metadata": {},
   "outputs": [],
   "source": [
    "with QProgram() as qp:\n",
    "    time = qp.variable(int)\n",
    "    qp.wait(bus=\"drive\", time=time)\n",
    "\n",
    "print(qp.program.elements[0].time)\n",
    "time.value = 100\n",
    "print(qp.program.elements[0].time)"
   ]
  }
 ],
 "metadata": {
  "kernelspec": {
   "display_name": "qililab",
   "language": "python",
   "name": "python3"
  },
  "language_info": {
   "codemirror_mode": {
    "name": "ipython",
    "version": 3
   },
   "file_extension": ".py",
   "mimetype": "text/x-python",
   "name": "python",
   "nbconvert_exporter": "python",
   "pygments_lexer": "ipython3",
   "version": "3.11.4"
  },
  "orig_nbformat": 4
 },
 "nbformat": 4,
 "nbformat_minor": 2
}
