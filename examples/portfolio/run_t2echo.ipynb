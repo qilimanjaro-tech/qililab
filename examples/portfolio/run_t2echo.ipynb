{
 "cells": [
  {
   "attachments": {},
   "cell_type": "markdown",
   "metadata": {},
   "source": [
    "# T2Echo experiment\n",
    "\n",
    "This notebook shows you how to set and run the T2Echo experiment.\n",
    "\n",
    "The T2Echo experiment is used to determine the T2 decoherence value of a qubit.\n",
    "\n",
    "The value of T2 is measured through the following sequence of operations:\n",
    "\n",
    "    1. Prepare the qubit in the ∣−i⟩ state by sending a π/2-pulse to the qubit.\n",
    "\n",
    "    2. Wait some time t.\n",
    "\n",
    "    4. Set the qubit in the ∣+i⟩ state by sending a π-pulse to the qubit.\n",
    "\n",
    "    5. Wait some time t.\n",
    "\n",
    "    6. Set the qubit in the ground state by sending a π/2-pulse to the qubit.\n",
    "    \n",
    "    7. Measure the qubit.\n",
    "\n",
    "The measured data is fitted to a filter function."
   ]
  },
  {
   "cell_type": "code",
   "execution_count": null,
   "metadata": {},
   "outputs": [],
   "source": [
    "import os\n",
    "\n",
    "import numpy as np\n",
    "\n",
    "import qililab as ql\n",
    "\n",
    "os.environ[\"RUNCARDS\"] = \"./runcards\"\n",
    "os.environ[\"DATA\"] = \"./data\"\n",
    "platform = ql.build_platform(name=\"flux_spectro_QCM_sauron\")\n",
    "platform.connect()\n",
    "platform.turn_on_instruments()\n",
    "platform.initial_setup()"
   ]
  },
  {
   "cell_type": "code",
   "execution_count": null,
   "metadata": {},
   "outputs": [],
   "source": [
    "# setup experiment\n",
    "wait_start = 0\n",
    "wait_stop = 400\n",
    "wait_step = 4\n",
    "wait = np.arange(wait_start, wait_stop, wait_step)\n",
    "experiment = ql.experiment.portfolio.T2Echo(\n",
    "    qubit=0, platform=platform, wait_loop_values=wait, hardware_average=10_000, repetition_duration=200_000\n",
    ")\n",
    "experiment.build_execution()"
   ]
  },
  {
   "cell_type": "code",
   "execution_count": null,
   "metadata": {},
   "outputs": [],
   "source": [
    "# run experiment\n",
    "results = experiment.run()"
   ]
  },
  {
   "cell_type": "code",
   "execution_count": null,
   "metadata": {},
   "outputs": [],
   "source": [
    "# fit the data\n",
    "parameters = experiment.fit()"
   ]
  },
  {
   "cell_type": "code",
   "execution_count": null,
   "metadata": {},
   "outputs": [],
   "source": [
    "# plot data with fitted parameters\n",
    "experiment.plot()"
   ]
  }
 ],
 "metadata": {
  "language_info": {
   "name": "python"
  },
  "orig_nbformat": 4
 },
 "nbformat": 4,
 "nbformat_minor": 2
}
