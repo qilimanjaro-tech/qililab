{
 "cells": [
  {
   "cell_type": "code",
   "execution_count": null,
   "metadata": {},
   "outputs": [],
   "source": [
    "import os\n",
    "\n",
    "import matplotlib.pyplot as plt\n",
    "import numpy as np\n",
    "\n",
    "import qililab as ql\n",
    "from qililab.experiment import RandomizedBenchmarking\n",
    "\n",
    "ql.logger.setLevel(40)"
   ]
  },
  {
   "cell_type": "code",
   "execution_count": null,
   "metadata": {},
   "outputs": [],
   "source": [
    "lengths = list(np.arange(0, 201, 10, dtype=int))\n",
    "num_qubits = 5\n",
    "qubit_idx = 2\n",
    "simulation = False\n",
    "num_seeds = 10\n",
    "get_experiment_only = False"
   ]
  },
  {
   "cell_type": "code",
   "execution_count": null,
   "metadata": {},
   "outputs": [],
   "source": [
    "os.environ[\"RUNCARDS\"] = \"./runcards\"\n",
    "os.environ[\"DATA\"] = \"/home/data/\"\n",
    "platform = ql.build_platform(name=\"soprano_master_galadriel\")\n",
    "platform.connect()\n",
    "platform.turn_on_instruments()\n",
    "platform.initial_setup()"
   ]
  },
  {
   "cell_type": "code",
   "execution_count": null,
   "metadata": {},
   "outputs": [],
   "source": [
    "experiment = RandomizedBenchmarking(\n",
    "    lengths, num_qubits=num_qubits, qubit_idx=qubit_idx, simulation=simulation, num_seeds=num_seeds, platform=platform\n",
    ")\n",
    "\n",
    "settings = ql.ExperimentSettings(\n",
    "    hardware_average=500,\n",
    "    repetition_duration=200_000,\n",
    "    software_average=1,\n",
    ")\n",
    "\n",
    "options = ql.ExperimentOptions(\n",
    "    settings=settings,  # experiment settings\n",
    ")\n",
    "\n",
    "probs = experiment.run(get_experiment_only=get_experiment_only, options=options)"
   ]
  },
  {
   "cell_type": "code",
   "execution_count": null,
   "metadata": {},
   "outputs": [],
   "source": [
    "initial_params_I = {\"p\": 0.9, \"A\": 2, \"B\": -44.5}\n",
    "\n",
    "initial_params_X = {\"p\": 0.9, \"A\": -2, \"B\": -44.5}\n",
    "\n",
    "figure, fit_I, fit_X, fidelity = experiment.plot_fit(initial_params_I, initial_params_X)\n",
    "plt.show()"
   ]
  }
 ],
 "metadata": {
  "kernelspec": {
   "display_name": "LastMile",
   "language": "python",
   "name": "python3"
  },
  "language_info": {
   "codemirror_mode": {
    "name": "ipython",
    "version": 3
   },
   "file_extension": ".py",
   "mimetype": "text/x-python",
   "name": "python",
   "nbconvert_exporter": "python",
   "pygments_lexer": "ipython3",
   "version": "3.10.11"
  },
  "orig_nbformat": 4
 },
 "nbformat": 4,
 "nbformat_minor": 2
}
