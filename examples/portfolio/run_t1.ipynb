{
    "cells": [
        {
            "attachments": {},
            "cell_type": "markdown",
            "metadata": {},
            "source": [
                "# T1\n",
                "\n",
                "This notebook shows you how to set and run the T1 experiment.\n",
                "\n",
                "The T1 experiment is used to determine the T1 value of a qubit.\n",
                "\n",
                "The value of T1 is measured through the following sequence of operations:\n",
                "    1. Prepare the qubit in the excited state by sending a π-pulse to the qubit.\n",
                "    2. Wait some time t.\n",
                "    3. Measure the state of the qubit.\n",
                "\n",
                "The measured data are fitted to an exponential decay function."
            ]
        },
        {
            "cell_type": "code",
            "execution_count": null,
            "metadata": {},
            "outputs": [],
            "source": [
                "import os\n",
                "\n",
                "import numpy as np\n",
                "\n",
                "import qililab as ql\n",
                "\n",
                "os.environ[\"RUNCARDS\"] = \"./runcards\"\n",
                "os.environ[\"DATA\"] = \"./data\"\n",
                "platform = ql.build_platform(path=\"soprano_master_galadriel\")\n",
                "platform.connect()\n",
                "platform.turn_on_instruments()\n",
                "platform.initial_setup()"
            ]
        },
        {
            "cell_type": "code",
            "execution_count": null,
            "metadata": {},
            "outputs": [],
            "source": [
                "# setup experiment\n",
                "wait = np.arange(100.0, 70_000, 1000)\n",
                "experiment = ql.experiment.portfolio.T1(\n",
                "    qubit=1, platform=platform, wait_loop_values=wait, hardware_average=1_000, repetition_duration=200_000\n",
                ")\n",
                "experiment.build_execution()"
            ]
        },
        {
            "cell_type": "code",
            "execution_count": null,
            "metadata": {},
            "outputs": [],
            "source": [
                "# run experiment\n",
                "results = experiment.run()"
            ]
        },
        {
            "cell_type": "code",
            "execution_count": null,
            "metadata": {},
            "outputs": [],
            "source": [
                "# fit the data\n",
                "parameters = experiment.fit()"
            ]
        },
        {
            "cell_type": "code",
            "execution_count": null,
            "metadata": {},
            "outputs": [],
            "source": [
                "# plot data with fitted parameters\n",
                "experiment.plot()"
            ]
        }
    ],
    "metadata": {
        "language_info": {
            "name": "python"
        },
        "orig_nbformat": 4
    },
    "nbformat": 4,
    "nbformat_minor": 2
}
