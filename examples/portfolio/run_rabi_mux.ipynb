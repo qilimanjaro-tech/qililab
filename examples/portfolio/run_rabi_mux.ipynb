{
 "cells": [
  {
   "cell_type": "code",
   "execution_count": null,
   "metadata": {},
   "outputs": [],
   "source": [
    "import os\n",
    "\n",
    "import matplotlib.pyplot as plt\n",
    "import numpy as np\n",
    "\n",
    "import qililab as ql\n",
    "\n",
    "ql.logger.setLevel(40)\n",
    "\n",
    "os.environ[\"RUNCARDS\"] = \"./runcards\"\n",
    "os.environ[\"DATA\"] = \"./data/\"\n",
    "platform = ql.build_platform(name=\"soprano_master_galadriel\")\n",
    "\n",
    "platform.connect()\n",
    "platform.turn_on_instruments()\n",
    "platform.initial_setup()"
   ]
  },
  {
   "cell_type": "code",
   "execution_count": null,
   "metadata": {},
   "outputs": [],
   "source": [
    "theta = np.linspace(0, 2 * np.pi, 51)\n",
    "experiment = ql.experiment.RabiMux(\n",
    "    qubit_0=2,\n",
    "    qubit_1=1,\n",
    "    platform=platform,\n",
    "    theta_values=theta,\n",
    "    hardware_average=1_000,\n",
    "    repetition_duration=200_000,\n",
    "    measurement_buffer=100,\n",
    "    num_bins=1,\n",
    ")\n",
    "\n",
    "experiment.build_execution()"
   ]
  },
  {
   "cell_type": "code",
   "execution_count": null,
   "metadata": {},
   "outputs": [],
   "source": [
    "results = experiment.run()"
   ]
  },
  {
   "cell_type": "code",
   "execution_count": null,
   "metadata": {},
   "outputs": [],
   "source": [
    "%matplotlib widget\n",
    "post_processed_results = experiment.post_process_results()"
   ]
  },
  {
   "cell_type": "code",
   "execution_count": null,
   "metadata": {},
   "outputs": [],
   "source": [
    "fig = experiment.plot()"
   ]
  }
 ],
 "metadata": {
  "language_info": {
   "name": "python"
  },
  "orig_nbformat": 4
 },
 "nbformat": 4,
 "nbformat_minor": 2
}
