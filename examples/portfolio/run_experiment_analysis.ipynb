{
 "cells": [
  {
   "attachments": {},
   "cell_type": "markdown",
   "metadata": {},
   "source": [
    "# Experiment Analysis\n",
    "\n",
    "This notebook shows you how to create and run a generic experiment using the ExperimentAnalysis class.\n",
    "\n",
    "The experiment can be 1D or 2D."
   ]
  },
  {
   "cell_type": "code",
   "execution_count": null,
   "metadata": {},
   "outputs": [],
   "source": [
    "import os\n",
    "import numpy as np\n",
    "from qibo.gates import M\n",
    "from qibo.models import Circuit\n",
    "import qililab as ql\n",
    "from qililab.experiment.portfolio import Exp, ExperimentAnalysis\n",
    "from qililab.platform import Platform\n",
    "from qililab.typings import ExperimentOptions, ExperimentSettings, Parameter\n",
    "from qililab.utils import Loop, Wait\n",
    "\n",
    "os.environ[\"RUNCARDS\"] = \"./runcards\"\n",
    "os.environ[\"DATA\"] = \"./data\"\n",
    "platform = ql.build_platform(name=\"soprano_master_galadriel\")\n",
    "platform.connect()\n",
    "platform.turn_on_instruments()\n",
    "platform.initial_setup()"
   ]
  },
  {
   "attachments": {},
   "cell_type": "markdown",
   "metadata": {},
   "source": [
    "## 1D Experiment\n",
    "\n",
    "A 1D experiment is an experiment with one or more loops, but all running in parallel. It can be created in two different ways, either by specifying the loop in the variable \"experiment_loop\" in the ExperimentAnalysis constructor, or by setting the loops within the experiment options \"loops\" variable, which is a list of loops. We show here both options for showcasing purposes. "
   ]
  },
  {
   "cell_type": "code",
   "execution_count": null,
   "metadata": {},
   "outputs": [],
   "source": [
    "# setup 1D experiment setting the loop through the experiment loop option\n",
    "qubit = 1\n",
    "circuit = Circuit(qubit + 1)\n",
    "circuit.add(ql.Drag(q=qubit, theta=np.pi, phase=0))\n",
    "circuit.add(Wait(q=qubit, t=0))\n",
    "circuit.add(M(qubit))\n",
    "\n",
    "wait_loop_values = np.arange(100.0, 70_000, 1000)\n",
    "# Define loop over wait duration\n",
    "loop = Loop(alias=\"2\", parameter=Parameter.GATE_PARAMETER, values=wait_loop_values)\n",
    "\n",
    "# Define experiment options\n",
    "experiment_options = ExperimentOptions(\n",
    "    name=\"experimentAnalysis\",\n",
    "    loops=None,\n",
    "    settings=ExperimentSettings(repetition_duration=1000, hardware_average=1000),\n",
    ")\n",
    "        \n",
    "experiment = ql.experiment.portfolio.ExperimentAnalysis(\n",
    "    platform=platform, circuits=[circuit], options=experiment_options,\n",
    "    experiment_loop=loop\n",
    ")"
   ]
  },
  {
   "cell_type": "code",
   "execution_count": null,
   "metadata": {},
   "outputs": [],
   "source": [
    "# setup 1D experiment setting the loop through the experiment options\n",
    "qubit = 1\n",
    "circuit = Circuit(qubit + 1)\n",
    "circuit.add(ql.Drag(q=qubit, theta=np.pi, phase=0))\n",
    "circuit.add(Wait(q=qubit, t=0))\n",
    "circuit.add(M(qubit))\n",
    "\n",
    "wait_loop_values = np.arange(100.0, 70_000, 1000)\n",
    "# Define loop over wait duration\n",
    "loop_0 = Loop(alias=\"2\", parameter=Parameter.GATE_PARAMETER, values=wait_loop_values)\n",
    "loop_1 = Loop(alias=\"4\", parameter=Parameter.GATE_PARAMETER, values=wait_loop_values)\n",
    "\n",
    "# Define experiment options\n",
    "experiment_options = ExperimentOptions(\n",
    "    name=\"experimentAnalysis\",\n",
    "    loops=[loop_0, loop_1],\n",
    "    settings=ExperimentSettings(repetition_duration=1000, hardware_average=1000),\n",
    ")\n",
    "        \n",
    "experiment = ql.experiment.portfolio.ExperimentAnalysis(\n",
    "    platform=platform, circuits=[circuit], options=experiment_options,\n",
    "    experiment_loop=None\n",
    ")\n",
    "experiment.build_execution()"
   ]
  },
  {
   "cell_type": "code",
   "execution_count": null,
   "metadata": {},
   "outputs": [],
   "source": [
    "# run experiment\n",
    "results = experiment.run()"
   ]
  },
  {
   "cell_type": "code",
   "execution_count": null,
   "metadata": {},
   "outputs": [],
   "source": [
    "# fit the data\n",
    "parameters = experiment.fit()"
   ]
  },
  {
   "cell_type": "code",
   "execution_count": null,
   "metadata": {},
   "outputs": [],
   "source": [
    "# plot data with fitted parameters\n",
    "experiment.plot()"
   ]
  },
  {
   "attachments": {},
   "cell_type": "markdown",
   "metadata": {},
   "source": [
    "## 2D Experiment\n",
    "\n",
    "A 2D experiment is an experiment with nested loops. It can be created only by setting the two loops in the experiment options \"loops\" variable, which is a list of loops. "
   ]
  },
  {
   "cell_type": "code",
   "execution_count": null,
   "metadata": {},
   "outputs": [],
   "source": [
    "# setup 2D experiment setting the loop through the experiment options\n",
    "qubit = 1\n",
    "circuit = Circuit(qubit + 1)\n",
    "circuit.add(ql.Drag(q=qubit, theta=np.pi, phase=0))\n",
    "circuit.add(Wait(q=qubit, t=0))\n",
    "circuit.add(M(qubit))\n",
    "\n",
    "wait_values = np.arange(4., 200., 12)\n",
    "if_freq_values = np.arange(5.584e9, 5.554e9, -1e6)\n",
    "# Define loop over wait duration\n",
    "inner_loop = Loop(alias=\"2\", parameter=Parameter.GATE_PARAMETER, values=wait_loop_values)\n",
    "outer_loop = Loop(alias=f\"drive_line_q{qubit}_bus\", parameter=Parameter.IF, values=if_freq_values,\n",
    "                              channel_id=0, loop=inner_loop)\n",
    "\n",
    "# Define experiment options\n",
    "experiment_options = ExperimentOptions(\n",
    "    name=\"experimentAnalysis\",\n",
    "    loops=[outer_loop],\n",
    "    settings=ExperimentSettings(repetition_duration=1000, hardware_average=1000),\n",
    ")\n",
    "        \n",
    "experiment = ql.experiment.portfolio.ExperimentAnalysis(\n",
    "    platform=platform, circuits=[circuit], options=experiment_options,\n",
    "    experiment_loop=None\n",
    ")\n",
    "experiment.build_execution()"
   ]
  },
  {
   "cell_type": "code",
   "execution_count": null,
   "metadata": {},
   "outputs": [],
   "source": [
    "# run experiment\n",
    "results = experiment.run()"
   ]
  },
  {
   "cell_type": "code",
   "execution_count": null,
   "metadata": {},
   "outputs": [],
   "source": [
    "# fit the data\n",
    "parameters = experiment.fit()"
   ]
  },
  {
   "cell_type": "code",
   "execution_count": null,
   "metadata": {},
   "outputs": [],
   "source": [
    "# plot data with fitted parameters\n",
    "experiment.plot()"
   ]
  }
 ],
 "metadata": {
  "language_info": {
   "name": "python"
  },
  "orig_nbformat": 4
 },
 "nbformat": 4,
 "nbformat_minor": 2
}
