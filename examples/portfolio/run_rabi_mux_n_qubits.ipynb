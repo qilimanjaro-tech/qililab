{
 "cells": [
  {
   "attachments": {},
   "cell_type": "markdown",
   "metadata": {},
   "source": [
    "## RabiMuxNQubit experiment\n",
    "\n",
    "**Summary:** This notebook shows you how to set and run the RabiMux experiment.\n",
    "\n",
    "**What it does:** The RabiMux experiment is used to see that two qubits are working independently, and that each shows a different period on the final graphs.\n",
    "\n",
    "**How it does it:** This is done through the following sequence of operations for each qubit (each one with bigger theta_values, so that final periods are different):\n",
    "\n",
    "    1. Send a Drag gate with theta = value of the loop (i*theta_values) and phase = 0.\n",
    "\n",
    "    2. Send a Wait gate of time = measurement_buffer.\n",
    "\n",
    "    3. Measure the qubit"
   ]
  },
  {
   "attachments": {},
   "cell_type": "markdown",
   "metadata": {},
   "source": [
    "## Imports and setup connection"
   ]
  },
  {
   "cell_type": "code",
   "execution_count": null,
   "metadata": {},
   "outputs": [],
   "source": [
    "import os\n",
    "\n",
    "import numpy as np\n",
    "\n",
    "import qililab as ql\n",
    "\n",
    "# Build platform\n",
    "os.environ[\"RUNCARDS\"] = \"./runcards\"\n",
    "os.environ[\"DATA\"] = \"./data/\"\n",
    "platform = ql.build_platform(name=\"soprano_master_galadriel\")\n",
    "\n",
    "# Connect\n",
    "platform.connect()\n",
    "platform.turn_on_instruments()\n",
    "platform.initial_setup()"
   ]
  },
  {
   "attachments": {},
   "cell_type": "markdown",
   "metadata": {},
   "source": [
    "## Setup experiment"
   ]
  },
  {
   "cell_type": "code",
   "execution_count": null,
   "metadata": {},
   "outputs": [],
   "source": [
    "# Theta loop parameters\n",
    "THETA_START = 0\n",
    "THETA_END = 2 * np.pi\n",
    "THETA_SAMPLES = 51\n",
    "\n",
    "# Qubits parameters\n",
    "QUBIT_LIST = [2, 1]\n",
    "\n",
    "# Theta loop setup\n",
    "theta_values = np.linspace(THETA_START, THETA_END, THETA_SAMPLES)\n",
    "\n",
    "# Setup expetiment\n",
    "experiment = ql.experiment.RabiMuxNQubits(\n",
    "    qubits=QUBIT_LIST,\n",
    "    platform=platform,\n",
    "    theta_values=theta_values,\n",
    "    hardware_average=1_000,\n",
    "    repetition_duration=200_000,\n",
    "    measurement_buffer=100,\n",
    "    num_bins=1,\n",
    ")\n",
    "\n",
    "experiment.build_execution()"
   ]
  },
  {
   "attachments": {},
   "cell_type": "markdown",
   "metadata": {},
   "source": [
    "## Run experiment"
   ]
  },
  {
   "cell_type": "code",
   "execution_count": null,
   "metadata": {},
   "outputs": [],
   "source": [
    "results = experiment.run()"
   ]
  },
  {
   "attachments": {},
   "cell_type": "markdown",
   "metadata": {},
   "source": [
    "## Get the results"
   ]
  },
  {
   "cell_type": "code",
   "execution_count": null,
   "metadata": {},
   "outputs": [],
   "source": [
    "# Process results\n",
    "post_processed_results = experiment.post_process_results()\n",
    "\n",
    "# Plot\n",
    "fig = experiment.plot()"
   ]
  }
 ],
 "metadata": {
  "language_info": {
   "name": "python"
  },
  "orig_nbformat": 4
 },
 "nbformat": 4,
 "nbformat_minor": 2
}
