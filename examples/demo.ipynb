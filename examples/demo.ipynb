{
 "cells": [
  {
   "cell_type": "code",
   "execution_count": 1,
   "metadata": {},
   "outputs": [
    {
     "name": "stdout",
     "output_type": "stream",
     "text": [
      "2024-12-01 03:59:57,837 - qm - INFO     - Starting session: dfc21aab-3503-483c-b8d0-45cfa1fe3156\n"
     ]
    },
    {
     "ename": "ImportError",
     "evalue": "cannot import name 'QbloxD5A' from partially initialized module 'qililab.instruments.qblox_d5a' (most likely due to a circular import) (/home/fedonman/projects/qililab/src/qililab/instruments/qblox_d5a.py)",
     "output_type": "error",
     "traceback": [
      "\u001b[0;31m---------------------------------------------------------------------------\u001b[0m",
      "\u001b[0;31mImportError\u001b[0m                               Traceback (most recent call last)",
      "Cell \u001b[0;32mIn[1], line 1\u001b[0m\n\u001b[0;32m----> 1\u001b[0m \u001b[38;5;28;01mfrom\u001b[39;00m \u001b[38;5;21;01mqililab\u001b[39;00m\u001b[38;5;21;01m.\u001b[39;00m\u001b[38;5;21;01minstrument_controllers\u001b[39;00m\u001b[38;5;21;01m.\u001b[39;00m\u001b[38;5;21;01mqblox_cluster_controller\u001b[39;00m \u001b[38;5;28;01mimport\u001b[39;00m QbloxClusterController\n\u001b[1;32m      2\u001b[0m \u001b[38;5;28;01mfrom\u001b[39;00m \u001b[38;5;21;01mqililab\u001b[39;00m\u001b[38;5;21;01m.\u001b[39;00m\u001b[38;5;21;01minstrument_controllers\u001b[39;00m\u001b[38;5;21;01m.\u001b[39;00m\u001b[38;5;21;01mqblox_spi_rack_controller\u001b[39;00m \u001b[38;5;28;01mimport\u001b[39;00m QbloxSPIRackController\n\u001b[1;32m      3\u001b[0m \u001b[38;5;28;01mfrom\u001b[39;00m \u001b[38;5;21;01mqililab\u001b[39;00m\u001b[38;5;21;01m.\u001b[39;00m\u001b[38;5;21;01minstrument_controllers\u001b[39;00m\u001b[38;5;21;01m.\u001b[39;00m\u001b[38;5;21;01mqdevil_qdac2_controller\u001b[39;00m \u001b[38;5;28;01mimport\u001b[39;00m QDevilQDAC2Controller\n",
      "File \u001b[0;32m~/projects/qililab/src/qililab/__init__.py:44\u001b[0m\n\u001b[1;32m     29\u001b[0m \u001b[38;5;28;01mfrom\u001b[39;00m \u001b[38;5;21;01m.\u001b[39;00m\u001b[38;5;21;01mwaveforms\u001b[39;00m \u001b[38;5;28;01mimport\u001b[39;00m (\n\u001b[1;32m     30\u001b[0m     IQPair,\n\u001b[1;32m     31\u001b[0m     IQDrag,\n\u001b[0;32m   (...)\u001b[0m\n\u001b[1;32m     40\u001b[0m     Chained,\n\u001b[1;32m     41\u001b[0m )\n\u001b[1;32m     43\u001b[0m \u001b[38;5;66;03m# moving circuit_transpiler module imports here because it has instruments module dependencies so circular imports can be avoided\u001b[39;00m\n\u001b[0;32m---> 44\u001b[0m \u001b[38;5;28;01mfrom\u001b[39;00m \u001b[38;5;21;01m.\u001b[39;00m\u001b[38;5;21;01mdigital\u001b[39;00m \u001b[38;5;28;01mimport\u001b[39;00m Drag, Wait\n\u001b[1;32m     45\u001b[0m \u001b[38;5;28;01mfrom\u001b[39;00m \u001b[38;5;21;01m.\u001b[39;00m\u001b[38;5;21;01manalog\u001b[39;00m \u001b[38;5;28;01mimport\u001b[39;00m AnnealingProgram  \u001b[38;5;66;03m# same as circuit transpiler, top modules should be imported at top\u001b[39;00m\n\u001b[1;32m     48\u001b[0m __all__ \u001b[38;5;241m=\u001b[39m [\n\u001b[1;32m     49\u001b[0m     \u001b[38;5;124m\"\u001b[39m\u001b[38;5;124mAnnealingProgram\u001b[39m\u001b[38;5;124m\"\u001b[39m,\n\u001b[1;32m     50\u001b[0m     \u001b[38;5;124m\"\u001b[39m\u001b[38;5;124mArbitrary\u001b[39m\u001b[38;5;124m\"\u001b[39m,\n\u001b[0;32m   (...)\u001b[0m\n\u001b[1;32m     84\u001b[0m     \u001b[38;5;124m\"\u001b[39m\u001b[38;5;124mstream_results\u001b[39m\u001b[38;5;124m\"\u001b[39m,\n\u001b[1;32m     85\u001b[0m ]\n",
      "File \u001b[0;32m~/projects/qililab/src/qililab/digital/__init__.py:30\u001b[0m\n\u001b[1;32m      1\u001b[0m \u001b[38;5;66;03m# Copyright 2023 Qilimanjaro Quantum Tech\u001b[39;00m\n\u001b[1;32m      2\u001b[0m \u001b[38;5;66;03m#\u001b[39;00m\n\u001b[1;32m      3\u001b[0m \u001b[38;5;66;03m# Licensed under the Apache License, Version 2.0 (the \"License\");\u001b[39;00m\n\u001b[0;32m   (...)\u001b[0m\n\u001b[1;32m     12\u001b[0m \u001b[38;5;66;03m# See the License for the specific language governing permissions and\u001b[39;00m\n\u001b[1;32m     13\u001b[0m \u001b[38;5;66;03m# limitations under the License.\u001b[39;00m\n\u001b[1;32m     15\u001b[0m \u001b[38;5;124;03m\"\"\"\u001b[39;00m\n\u001b[1;32m     16\u001b[0m \u001b[38;5;124;03mThis module contains all the decomposition and transpilation methods used within qililab.\u001b[39;00m\n\u001b[1;32m     17\u001b[0m \n\u001b[0;32m   (...)\u001b[0m\n\u001b[1;32m     27\u001b[0m \n\u001b[1;32m     28\u001b[0m \u001b[38;5;124;03m\"\"\"\u001b[39;00m\n\u001b[0;32m---> 30\u001b[0m \u001b[38;5;28;01mfrom\u001b[39;00m \u001b[38;5;21;01m.\u001b[39;00m\u001b[38;5;21;01mcircuit_transpiler\u001b[39;00m \u001b[38;5;28;01mimport\u001b[39;00m CircuitTranspiler\n\u001b[1;32m     31\u001b[0m \u001b[38;5;28;01mfrom\u001b[39;00m \u001b[38;5;21;01m.\u001b[39;00m\u001b[38;5;21;01mgate_decompositions\u001b[39;00m \u001b[38;5;28;01mimport\u001b[39;00m GateDecompositions\n\u001b[1;32m     32\u001b[0m \u001b[38;5;28;01mfrom\u001b[39;00m \u001b[38;5;21;01m.\u001b[39;00m\u001b[38;5;21;01mnative_gates\u001b[39;00m \u001b[38;5;28;01mimport\u001b[39;00m Drag, Wait\n",
      "File \u001b[0;32m~/projects/qililab/src/qililab/digital/circuit_transpiler.py:23\u001b[0m\n\u001b[1;32m     20\u001b[0m \u001b[38;5;28;01mfrom\u001b[39;00m \u001b[38;5;21;01mqibo\u001b[39;00m\u001b[38;5;21;01m.\u001b[39;00m\u001b[38;5;21;01mtranspiler\u001b[39;00m\u001b[38;5;21;01m.\u001b[39;00m\u001b[38;5;21;01mrouter\u001b[39;00m \u001b[38;5;28;01mimport\u001b[39;00m Router\n\u001b[1;32m     22\u001b[0m \u001b[38;5;28;01mfrom\u001b[39;00m \u001b[38;5;21;01mqililab\u001b[39;00m\u001b[38;5;21;01m.\u001b[39;00m\u001b[38;5;21;01mconfig\u001b[39;00m \u001b[38;5;28;01mimport\u001b[39;00m logger\n\u001b[0;32m---> 23\u001b[0m \u001b[38;5;28;01mfrom\u001b[39;00m \u001b[38;5;21;01mqililab\u001b[39;00m\u001b[38;5;21;01m.\u001b[39;00m\u001b[38;5;21;01mdigital\u001b[39;00m\u001b[38;5;21;01m.\u001b[39;00m\u001b[38;5;21;01mcircuit_optimizer\u001b[39;00m \u001b[38;5;28;01mimport\u001b[39;00m CircuitOptimizer\n\u001b[1;32m     24\u001b[0m \u001b[38;5;28;01mfrom\u001b[39;00m \u001b[38;5;21;01mqililab\u001b[39;00m\u001b[38;5;21;01m.\u001b[39;00m\u001b[38;5;21;01mdigital\u001b[39;00m\u001b[38;5;21;01m.\u001b[39;00m\u001b[38;5;21;01mcircuit_router\u001b[39;00m \u001b[38;5;28;01mimport\u001b[39;00m CircuitRouter\n\u001b[1;32m     25\u001b[0m \u001b[38;5;28;01mfrom\u001b[39;00m \u001b[38;5;21;01mqililab\u001b[39;00m\u001b[38;5;21;01m.\u001b[39;00m\u001b[38;5;21;01mdigital\u001b[39;00m\u001b[38;5;21;01m.\u001b[39;00m\u001b[38;5;21;01mcircuit_to_pulses\u001b[39;00m \u001b[38;5;28;01mimport\u001b[39;00m CircuitToPulses\n",
      "File \u001b[0;32m~/projects/qililab/src/qililab/digital/circuit_optimizer.py:22\u001b[0m\n\u001b[1;32m     19\u001b[0m \u001b[38;5;28;01mfrom\u001b[39;00m \u001b[38;5;21;01mqibo\u001b[39;00m \u001b[38;5;28;01mimport\u001b[39;00m Circuit, gates\n\u001b[1;32m     21\u001b[0m \u001b[38;5;28;01mfrom\u001b[39;00m \u001b[38;5;21;01mqililab\u001b[39;00m \u001b[38;5;28;01mimport\u001b[39;00m digital\n\u001b[0;32m---> 22\u001b[0m \u001b[38;5;28;01mfrom\u001b[39;00m \u001b[38;5;21;01mqililab\u001b[39;00m\u001b[38;5;21;01m.\u001b[39;00m\u001b[38;5;21;01msettings\u001b[39;00m\u001b[38;5;21;01m.\u001b[39;00m\u001b[38;5;21;01mdigital\u001b[39;00m\u001b[38;5;21;01m.\u001b[39;00m\u001b[38;5;21;01mdigital_compilation_settings\u001b[39;00m \u001b[38;5;28;01mimport\u001b[39;00m DigitalCompilationSettings\n\u001b[1;32m     24\u001b[0m \u001b[38;5;28;01mfrom\u001b[39;00m \u001b[38;5;21;01m.\u001b[39;00m\u001b[38;5;21;01mnative_gates\u001b[39;00m \u001b[38;5;28;01mimport\u001b[39;00m Drag\n\u001b[1;32m     27\u001b[0m \u001b[38;5;28;01mclass\u001b[39;00m \u001b[38;5;21;01mCircuitOptimizer\u001b[39;00m:\n",
      "File \u001b[0;32m~/projects/qililab/src/qililab/settings/__init__.py:19\u001b[0m\n\u001b[1;32m     17\u001b[0m \u001b[38;5;28;01mfrom\u001b[39;00m \u001b[38;5;21;01m.\u001b[39;00m\u001b[38;5;21;01manalog\u001b[39;00m \u001b[38;5;28;01mimport\u001b[39;00m AnalogCompilationSettings\n\u001b[1;32m     18\u001b[0m \u001b[38;5;28;01mfrom\u001b[39;00m \u001b[38;5;21;01m.\u001b[39;00m\u001b[38;5;21;01mbuses\u001b[39;00m \u001b[38;5;28;01mimport\u001b[39;00m BusSettings\n\u001b[0;32m---> 19\u001b[0m \u001b[38;5;28;01mfrom\u001b[39;00m \u001b[38;5;21;01m.\u001b[39;00m\u001b[38;5;21;01mdigital\u001b[39;00m \u001b[38;5;28;01mimport\u001b[39;00m DigitalCompilationSettings\n\u001b[1;32m     20\u001b[0m \u001b[38;5;28;01mfrom\u001b[39;00m \u001b[38;5;21;01m.\u001b[39;00m\u001b[38;5;21;01minstrument_controllers\u001b[39;00m \u001b[38;5;28;01mimport\u001b[39;00m InstrumentControllerSettings\n\u001b[1;32m     21\u001b[0m \u001b[38;5;28;01mfrom\u001b[39;00m \u001b[38;5;21;01m.\u001b[39;00m\u001b[38;5;21;01minstruments\u001b[39;00m \u001b[38;5;28;01mimport\u001b[39;00m InstrumentSettings\n",
      "File \u001b[0;32m~/projects/qililab/src/qililab/settings/digital/__init__.py:15\u001b[0m\n\u001b[1;32m      1\u001b[0m \u001b[38;5;66;03m# Copyright 2023 Qilimanjaro Quantum Tech\u001b[39;00m\n\u001b[1;32m      2\u001b[0m \u001b[38;5;66;03m#\u001b[39;00m\n\u001b[1;32m      3\u001b[0m \u001b[38;5;66;03m# Licensed under the Apache License, Version 2.0 (the \"License\");\u001b[39;00m\n\u001b[0;32m   (...)\u001b[0m\n\u001b[1;32m     12\u001b[0m \u001b[38;5;66;03m# See the License for the specific language governing permissions and\u001b[39;00m\n\u001b[1;32m     13\u001b[0m \u001b[38;5;66;03m# limitations under the License.\u001b[39;00m\n\u001b[0;32m---> 15\u001b[0m \u001b[38;5;28;01mfrom\u001b[39;00m \u001b[38;5;21;01m.\u001b[39;00m\u001b[38;5;21;01mdigital_compilation_bus_settings\u001b[39;00m \u001b[38;5;28;01mimport\u001b[39;00m DigitalCompilationBusSettings \u001b[38;5;28;01mas\u001b[39;00m DigitalCompilationBusSettings\n\u001b[1;32m     16\u001b[0m \u001b[38;5;28;01mfrom\u001b[39;00m \u001b[38;5;21;01m.\u001b[39;00m\u001b[38;5;21;01mdigital_compilation_settings\u001b[39;00m \u001b[38;5;28;01mimport\u001b[39;00m DigitalCompilationSettings \u001b[38;5;28;01mas\u001b[39;00m DigitalCompilationSettings\n\u001b[1;32m     17\u001b[0m \u001b[38;5;28;01mfrom\u001b[39;00m \u001b[38;5;21;01m.\u001b[39;00m\u001b[38;5;21;01mgate_event_settings\u001b[39;00m \u001b[38;5;28;01mimport\u001b[39;00m GateEventSettings \u001b[38;5;28;01mas\u001b[39;00m GateEventSettings\n",
      "File \u001b[0;32m~/projects/qililab/src/qililab/settings/digital/digital_compilation_bus_settings.py:18\u001b[0m\n\u001b[1;32m      1\u001b[0m \u001b[38;5;66;03m# Copyright 2023 Qilimanjaro Quantum Tech\u001b[39;00m\n\u001b[1;32m      2\u001b[0m \u001b[38;5;66;03m#\u001b[39;00m\n\u001b[1;32m      3\u001b[0m \u001b[38;5;66;03m# Licensed under the Apache License, Version 2.0 (the \"License\");\u001b[39;00m\n\u001b[0;32m   (...)\u001b[0m\n\u001b[1;32m     12\u001b[0m \u001b[38;5;66;03m# See the License for the specific language governing permissions and\u001b[39;00m\n\u001b[1;32m     13\u001b[0m \u001b[38;5;66;03m# limitations under the License.\u001b[39;00m\n\u001b[1;32m     16\u001b[0m \u001b[38;5;28;01mfrom\u001b[39;00m \u001b[38;5;21;01mdataclasses\u001b[39;00m \u001b[38;5;28;01mimport\u001b[39;00m asdict, dataclass, field\n\u001b[0;32m---> 18\u001b[0m \u001b[38;5;28;01mfrom\u001b[39;00m \u001b[38;5;21;01mqililab\u001b[39;00m\u001b[38;5;21;01m.\u001b[39;00m\u001b[38;5;21;01mpulse\u001b[39;00m\u001b[38;5;21;01m.\u001b[39;00m\u001b[38;5;21;01mpulse_distortion\u001b[39;00m \u001b[38;5;28;01mimport\u001b[39;00m PulseDistortion\n\u001b[1;32m     19\u001b[0m \u001b[38;5;28;01mfrom\u001b[39;00m \u001b[38;5;21;01mqililab\u001b[39;00m\u001b[38;5;21;01m.\u001b[39;00m\u001b[38;5;21;01mtypings\u001b[39;00m\u001b[38;5;21;01m.\u001b[39;00m\u001b[38;5;21;01menums\u001b[39;00m \u001b[38;5;28;01mimport\u001b[39;00m Line\n\u001b[1;32m     20\u001b[0m \u001b[38;5;28;01mfrom\u001b[39;00m \u001b[38;5;21;01mqililab\u001b[39;00m\u001b[38;5;21;01m.\u001b[39;00m\u001b[38;5;21;01mutils\u001b[39;00m\u001b[38;5;21;01m.\u001b[39;00m\u001b[38;5;21;01mcastings\u001b[39;00m \u001b[38;5;28;01mimport\u001b[39;00m cast_enum_fields\n",
      "File \u001b[0;32m~/projects/qililab/src/qililab/pulse/__init__.py:69\u001b[0m\n\u001b[1;32m     67\u001b[0m \u001b[38;5;28;01mfrom\u001b[39;00m \u001b[38;5;21;01m.\u001b[39;00m\u001b[38;5;21;01mpulse_schedule\u001b[39;00m \u001b[38;5;28;01mimport\u001b[39;00m PulseSchedule\n\u001b[1;32m     68\u001b[0m \u001b[38;5;28;01mfrom\u001b[39;00m \u001b[38;5;21;01m.\u001b[39;00m\u001b[38;5;21;01mpulse_shape\u001b[39;00m \u001b[38;5;28;01mimport\u001b[39;00m SNZ, Cosine, Drag, FlatTop, Gaussian, PulseShape, Rectangular\n\u001b[0;32m---> 69\u001b[0m \u001b[38;5;28;01mfrom\u001b[39;00m \u001b[38;5;21;01m.\u001b[39;00m\u001b[38;5;21;01mqblox_compiler\u001b[39;00m \u001b[38;5;28;01mimport\u001b[39;00m QbloxCompiler\n\u001b[1;32m     71\u001b[0m __all__ \u001b[38;5;241m=\u001b[39m [\n\u001b[1;32m     72\u001b[0m     \u001b[38;5;124m\"\u001b[39m\u001b[38;5;124mSNZ\u001b[39m\u001b[38;5;124m\"\u001b[39m,\n\u001b[1;32m     73\u001b[0m     \u001b[38;5;124m\"\u001b[39m\u001b[38;5;124mBiasTeeCorrection\u001b[39m\u001b[38;5;124m\"\u001b[39m,\n\u001b[0;32m   (...)\u001b[0m\n\u001b[1;32m     87\u001b[0m     \u001b[38;5;124m\"\u001b[39m\u001b[38;5;124mRectangular\u001b[39m\u001b[38;5;124m\"\u001b[39m,\n\u001b[1;32m     88\u001b[0m ]\n",
      "File \u001b[0;32m~/projects/qililab/src/qililab/pulse/qblox_compiler.py:39\u001b[0m\n\u001b[1;32m     36\u001b[0m \u001b[38;5;28;01mfrom\u001b[39;00m \u001b[38;5;21;01mqpysequence\u001b[39;00m\u001b[38;5;21;01m.\u001b[39;00m\u001b[38;5;21;01mutils\u001b[39;00m\u001b[38;5;21;01m.\u001b[39;00m\u001b[38;5;21;01mconstants\u001b[39;00m \u001b[38;5;28;01mimport\u001b[39;00m AWG_MAX_GAIN, INST_MAX_WAIT\n\u001b[1;32m     38\u001b[0m \u001b[38;5;28;01mfrom\u001b[39;00m \u001b[38;5;21;01mqililab\u001b[39;00m\u001b[38;5;21;01m.\u001b[39;00m\u001b[38;5;21;01mconfig\u001b[39;00m \u001b[38;5;28;01mimport\u001b[39;00m logger\n\u001b[0;32m---> 39\u001b[0m \u001b[38;5;28;01mfrom\u001b[39;00m \u001b[38;5;21;01mqililab\u001b[39;00m\u001b[38;5;21;01m.\u001b[39;00m\u001b[38;5;21;01minstruments\u001b[39;00m\u001b[38;5;21;01m.\u001b[39;00m\u001b[38;5;21;01minstrument_type\u001b[39;00m \u001b[38;5;28;01mimport\u001b[39;00m InstrumentType\n\u001b[1;32m     41\u001b[0m \u001b[38;5;28;01mif\u001b[39;00m TYPE_CHECKING:\n\u001b[1;32m     42\u001b[0m     \u001b[38;5;28;01mfrom\u001b[39;00m \u001b[38;5;21;01mqililab\u001b[39;00m\u001b[38;5;21;01m.\u001b[39;00m\u001b[38;5;21;01minstruments\u001b[39;00m\u001b[38;5;21;01m.\u001b[39;00m\u001b[38;5;21;01mqblox_module\u001b[39;00m \u001b[38;5;28;01mimport\u001b[39;00m QbloxModule, QbloxSequencerSettings\n",
      "File \u001b[0;32m~/projects/qililab/src/qililab/instruments/__init__.py:19\u001b[0m\n\u001b[1;32m     17\u001b[0m \u001b[38;5;28;01mfrom\u001b[39;00m \u001b[38;5;21;01m.\u001b[39;00m\u001b[38;5;21;01mdecorators\u001b[39;00m \u001b[38;5;28;01mimport\u001b[39;00m check_device_initialized, log_set_parameter\n\u001b[1;32m     18\u001b[0m \u001b[38;5;28;01mfrom\u001b[39;00m \u001b[38;5;21;01m.\u001b[39;00m\u001b[38;5;21;01minstrument\u001b[39;00m \u001b[38;5;28;01mimport\u001b[39;00m Instrument\n\u001b[0;32m---> 19\u001b[0m \u001b[38;5;28;01mfrom\u001b[39;00m \u001b[38;5;21;01m.\u001b[39;00m\u001b[38;5;21;01mqblox_d5a\u001b[39;00m \u001b[38;5;28;01mimport\u001b[39;00m QbloxD5A\n\u001b[1;32m     20\u001b[0m \u001b[38;5;28;01mfrom\u001b[39;00m \u001b[38;5;21;01m.\u001b[39;00m\u001b[38;5;21;01mqblox_module\u001b[39;00m \u001b[38;5;28;01mimport\u001b[39;00m QbloxModule\n\u001b[1;32m     21\u001b[0m \u001b[38;5;28;01mfrom\u001b[39;00m \u001b[38;5;21;01m.\u001b[39;00m\u001b[38;5;21;01mqblox_qcm\u001b[39;00m \u001b[38;5;28;01mimport\u001b[39;00m QbloxQCM\n",
      "File \u001b[0;32m~/projects/qililab/src/qililab/instruments/qblox_d5a.py:22\u001b[0m\n\u001b[1;32m     20\u001b[0m \u001b[38;5;28;01mfrom\u001b[39;00m \u001b[38;5;21;01mqililab\u001b[39;00m\u001b[38;5;21;01m.\u001b[39;00m\u001b[38;5;21;01minstruments\u001b[39;00m\u001b[38;5;21;01m.\u001b[39;00m\u001b[38;5;21;01minstrument_factory\u001b[39;00m \u001b[38;5;28;01mimport\u001b[39;00m InstrumentFactory\n\u001b[1;32m     21\u001b[0m \u001b[38;5;28;01mfrom\u001b[39;00m \u001b[38;5;21;01mqililab\u001b[39;00m\u001b[38;5;21;01m.\u001b[39;00m\u001b[38;5;21;01minstruments\u001b[39;00m\u001b[38;5;21;01m.\u001b[39;00m\u001b[38;5;21;01minstrument_type\u001b[39;00m \u001b[38;5;28;01mimport\u001b[39;00m InstrumentType\n\u001b[0;32m---> 22\u001b[0m \u001b[38;5;28;01mfrom\u001b[39;00m \u001b[38;5;21;01mqililab\u001b[39;00m\u001b[38;5;21;01m.\u001b[39;00m\u001b[38;5;21;01mruncard\u001b[39;00m\u001b[38;5;21;01m.\u001b[39;00m\u001b[38;5;21;01mruncard_instruments\u001b[39;00m \u001b[38;5;28;01mimport\u001b[39;00m QbloxD5ARuncardInstrument, RuncardInstrument\n\u001b[1;32m     23\u001b[0m \u001b[38;5;28;01mfrom\u001b[39;00m \u001b[38;5;21;01mqililab\u001b[39;00m\u001b[38;5;21;01m.\u001b[39;00m\u001b[38;5;21;01msettings\u001b[39;00m\u001b[38;5;21;01m.\u001b[39;00m\u001b[38;5;21;01minstruments\u001b[39;00m \u001b[38;5;28;01mimport\u001b[39;00m QbloxD5AChannelSettings, QbloxD5ASettings\n\u001b[1;32m     24\u001b[0m \u001b[38;5;28;01mfrom\u001b[39;00m \u001b[38;5;21;01mqililab\u001b[39;00m\u001b[38;5;21;01m.\u001b[39;00m\u001b[38;5;21;01mtypings\u001b[39;00m \u001b[38;5;28;01mimport\u001b[39;00m QbloxD5ADevice\n",
      "File \u001b[0;32m~/projects/qililab/src/qililab/runcard/__init__.py:15\u001b[0m\n\u001b[1;32m      1\u001b[0m \u001b[38;5;66;03m# Copyright 2023 Qilimanjaro Quantum Tech\u001b[39;00m\n\u001b[1;32m      2\u001b[0m \u001b[38;5;66;03m#\u001b[39;00m\n\u001b[1;32m      3\u001b[0m \u001b[38;5;66;03m# Licensed under the Apache License, Version 2.0 (the \"License\");\u001b[39;00m\n\u001b[0;32m   (...)\u001b[0m\n\u001b[1;32m     12\u001b[0m \u001b[38;5;66;03m# See the License for the specific language governing permissions and\u001b[39;00m\n\u001b[1;32m     13\u001b[0m \u001b[38;5;66;03m# limitations under the License.\u001b[39;00m\n\u001b[0;32m---> 15\u001b[0m \u001b[38;5;28;01mfrom\u001b[39;00m \u001b[38;5;21;01m.\u001b[39;00m\u001b[38;5;21;01mruncard\u001b[39;00m \u001b[38;5;28;01mimport\u001b[39;00m Runcard\n\u001b[1;32m     16\u001b[0m \u001b[38;5;28;01mfrom\u001b[39;00m \u001b[38;5;21;01m.\u001b[39;00m\u001b[38;5;21;01mruncard_buses\u001b[39;00m \u001b[38;5;28;01mimport\u001b[39;00m RuncardBus\n\u001b[1;32m     17\u001b[0m \u001b[38;5;28;01mfrom\u001b[39;00m \u001b[38;5;21;01m.\u001b[39;00m\u001b[38;5;21;01mruncard_instrument_controllers\u001b[39;00m \u001b[38;5;28;01mimport\u001b[39;00m RuncardInstrumentController\n",
      "File \u001b[0;32m~/projects/qililab/src/qililab/runcard/runcard.py:21\u001b[0m\n\u001b[1;32m     18\u001b[0m \u001b[38;5;28;01mfrom\u001b[39;00m \u001b[38;5;21;01mruamel\u001b[39;00m\u001b[38;5;21;01m.\u001b[39;00m\u001b[38;5;21;01myaml\u001b[39;00m \u001b[38;5;28;01mimport\u001b[39;00m YAML\n\u001b[1;32m     20\u001b[0m \u001b[38;5;28;01mfrom\u001b[39;00m \u001b[38;5;21;01mqililab\u001b[39;00m\u001b[38;5;21;01m.\u001b[39;00m\u001b[38;5;21;01mbuses\u001b[39;00m\u001b[38;5;21;01m.\u001b[39;00m\u001b[38;5;21;01mbus\u001b[39;00m \u001b[38;5;28;01mimport\u001b[39;00m Bus\n\u001b[0;32m---> 21\u001b[0m \u001b[38;5;28;01mfrom\u001b[39;00m \u001b[38;5;21;01mqililab\u001b[39;00m\u001b[38;5;21;01m.\u001b[39;00m\u001b[38;5;21;01minstrument_controllers\u001b[39;00m\u001b[38;5;21;01m.\u001b[39;00m\u001b[38;5;21;01minstrument_controller\u001b[39;00m \u001b[38;5;28;01mimport\u001b[39;00m InstrumentController\n\u001b[1;32m     22\u001b[0m \u001b[38;5;28;01mfrom\u001b[39;00m \u001b[38;5;21;01mqililab\u001b[39;00m\u001b[38;5;21;01m.\u001b[39;00m\u001b[38;5;21;01minstrument_controllers\u001b[39;00m\u001b[38;5;21;01m.\u001b[39;00m\u001b[38;5;21;01minstrument_controller_factory\u001b[39;00m \u001b[38;5;28;01mimport\u001b[39;00m InstrumentControllerFactory\n\u001b[1;32m     23\u001b[0m \u001b[38;5;28;01mfrom\u001b[39;00m \u001b[38;5;21;01mqililab\u001b[39;00m\u001b[38;5;21;01m.\u001b[39;00m\u001b[38;5;21;01minstruments\u001b[39;00m\u001b[38;5;21;01m.\u001b[39;00m\u001b[38;5;21;01minstrument\u001b[39;00m \u001b[38;5;28;01mimport\u001b[39;00m Instrument\n",
      "File \u001b[0;32m~/projects/qililab/src/qililab/instrument_controllers/__init__.py:19\u001b[0m\n\u001b[1;32m     17\u001b[0m \u001b[38;5;28;01mfrom\u001b[39;00m \u001b[38;5;21;01m.\u001b[39;00m\u001b[38;5;21;01minstrument_controller\u001b[39;00m \u001b[38;5;28;01mimport\u001b[39;00m InstrumentController\n\u001b[1;32m     18\u001b[0m \u001b[38;5;28;01mfrom\u001b[39;00m \u001b[38;5;21;01m.\u001b[39;00m\u001b[38;5;21;01mqblox_cluster_controller\u001b[39;00m \u001b[38;5;28;01mimport\u001b[39;00m QbloxClusterController\n\u001b[0;32m---> 19\u001b[0m \u001b[38;5;28;01mfrom\u001b[39;00m \u001b[38;5;21;01m.\u001b[39;00m\u001b[38;5;21;01mqblox_spi_rack_controller\u001b[39;00m \u001b[38;5;28;01mimport\u001b[39;00m QbloxSPIRackController\n\u001b[1;32m     20\u001b[0m \u001b[38;5;28;01mfrom\u001b[39;00m \u001b[38;5;21;01m.\u001b[39;00m\u001b[38;5;21;01mqdevil_qdac2_controller\u001b[39;00m \u001b[38;5;28;01mimport\u001b[39;00m QDevilQDAC2Controller\n\u001b[1;32m     21\u001b[0m \u001b[38;5;28;01mfrom\u001b[39;00m \u001b[38;5;21;01m.\u001b[39;00m\u001b[38;5;21;01mquantum_machines_cluster_controller\u001b[39;00m \u001b[38;5;28;01mimport\u001b[39;00m QuantumMachinesClusterController\n",
      "File \u001b[0;32m~/projects/qililab/src/qililab/instrument_controllers/qblox_spi_rack_controller.py:19\u001b[0m\n\u001b[1;32m     17\u001b[0m \u001b[38;5;28;01mfrom\u001b[39;00m \u001b[38;5;21;01mqililab\u001b[39;00m\u001b[38;5;21;01m.\u001b[39;00m\u001b[38;5;21;01minstrument_controllers\u001b[39;00m\u001b[38;5;21;01m.\u001b[39;00m\u001b[38;5;21;01minstrument_controller_factory\u001b[39;00m \u001b[38;5;28;01mimport\u001b[39;00m InstrumentControllerFactory\n\u001b[1;32m     18\u001b[0m \u001b[38;5;28;01mfrom\u001b[39;00m \u001b[38;5;21;01mqililab\u001b[39;00m\u001b[38;5;21;01m.\u001b[39;00m\u001b[38;5;21;01minstrument_controllers\u001b[39;00m\u001b[38;5;21;01m.\u001b[39;00m\u001b[38;5;21;01minstrument_controller_type\u001b[39;00m \u001b[38;5;28;01mimport\u001b[39;00m InstrumentControllerType\n\u001b[0;32m---> 19\u001b[0m \u001b[38;5;28;01mfrom\u001b[39;00m \u001b[38;5;21;01mqililab\u001b[39;00m\u001b[38;5;21;01m.\u001b[39;00m\u001b[38;5;21;01minstruments\u001b[39;00m\u001b[38;5;21;01m.\u001b[39;00m\u001b[38;5;21;01mqblox_d5a\u001b[39;00m \u001b[38;5;28;01mimport\u001b[39;00m QbloxD5A\n\u001b[1;32m     20\u001b[0m \u001b[38;5;28;01mfrom\u001b[39;00m \u001b[38;5;21;01mqililab\u001b[39;00m\u001b[38;5;21;01m.\u001b[39;00m\u001b[38;5;21;01minstruments\u001b[39;00m\u001b[38;5;21;01m.\u001b[39;00m\u001b[38;5;21;01mqblox_s4g\u001b[39;00m \u001b[38;5;28;01mimport\u001b[39;00m QbloxS4G\n\u001b[1;32m     21\u001b[0m \u001b[38;5;28;01mfrom\u001b[39;00m \u001b[38;5;21;01mqililab\u001b[39;00m\u001b[38;5;21;01m.\u001b[39;00m\u001b[38;5;21;01mruncard\u001b[39;00m\u001b[38;5;21;01m.\u001b[39;00m\u001b[38;5;21;01mruncard_instrument_controllers\u001b[39;00m \u001b[38;5;28;01mimport\u001b[39;00m (\n\u001b[1;32m     22\u001b[0m     QbloxSPIRackRuncardInstrumentController,\n\u001b[1;32m     23\u001b[0m     RuncardInstrumentController,\n\u001b[1;32m     24\u001b[0m )\n",
      "\u001b[0;31mImportError\u001b[0m: cannot import name 'QbloxD5A' from partially initialized module 'qililab.instruments.qblox_d5a' (most likely due to a circular import) (/home/fedonman/projects/qililab/src/qililab/instruments/qblox_d5a.py)"
     ]
    }
   ],
   "source": [
    "from qililab.instrument_controllers.qblox_cluster_controller import QbloxClusterController\n",
    "from qililab.instrument_controllers.qblox_spi_rack_controller import QbloxSPIRackController\n",
    "from qililab.instrument_controllers.qdevil_qdac2_controller import QDevilQDAC2Controller\n",
    "from qililab.instruments.qblox_d5a import QbloxD5A\n",
    "from qililab.instruments.qblox_qcm import QbloxQCM\n",
    "from qililab.instruments.qblox_qcm_rf import QbloxQCMRF\n",
    "from qililab.instruments.qblox_qrm import QbloxQRM\n",
    "from qililab.instruments.qblox_qrm_rf import QbloxQRMRF\n",
    "from qililab.instruments.qblox_s4g import QbloxS4G\n",
    "from qililab.instruments.qdevil_qdac2 import QDevilQDAC2\n",
    "from qililab.instruments.rohde_schwarz_sg100 import RohdeSchwarzSG100\n",
    "from qililab.platform import Platform\n",
    "from qililab.runcard import Runcard\n",
    "from qililab.settings.instrument_controllers import (\n",
    "    QbloxClusterControllerSettings,\n",
    "    QbloxSPIRackControllerSettings,\n",
    "    QDevilQDAC2ControllerSettings,\n",
    ")\n",
    "from qililab.typings.enums import Parameter\n",
    "from qililab.waveforms import Gaussian, IQDrag, IQPair, Square"
   ]
  },
  {
   "cell_type": "code",
   "execution_count": null,
   "metadata": {},
   "outputs": [
    {
     "data": {
      "text/plain": [
       "QbloxQCM(settings=alias='qcm' timeout=1 outputs=[QbloxLFOutputSettings(port=0, offset=0.0), QbloxLFOutputSettings(port=1, offset=0.0), QbloxLFOutputSettings(port=2, offset=0.0), QbloxLFOutputSettings(port=3, offset=0.0)] sequencers=[QbloxSequencerSettings(id=0, outputs=[0], hardware_modulation=True, intermediate_frequency=500000000.0, gain_imbalance=0.0, phase_imbalance=0.0, gain_i=1.0, gain_q=1.0, offset_i=0.0, offset_q=0.0), QbloxSequencerSettings(id=1, outputs=[0], hardware_modulation=True, intermediate_frequency=500000000.0, gain_imbalance=0.0, phase_imbalance=0.0, gain_i=1.0, gain_q=1.0, offset_i=0.0, offset_q=0.0), QbloxSequencerSettings(id=2, outputs=[0], hardware_modulation=True, intermediate_frequency=500000000.0, gain_imbalance=0.0, phase_imbalance=0.0, gain_i=1.0, gain_q=1.0, offset_i=0.0, offset_q=0.0), QbloxSequencerSettings(id=3, outputs=[0], hardware_modulation=True, intermediate_frequency=500000000.0, gain_imbalance=0.0, phase_imbalance=0.0, gain_i=1.0, gain_q=1.0, offset_i=0.0, offset_q=0.0), QbloxSequencerSettings(id=4, outputs=[0], hardware_modulation=True, intermediate_frequency=500000000.0, gain_imbalance=0.0, phase_imbalance=0.0, gain_i=1.0, gain_q=1.0, offset_i=0.0, offset_q=0.0), QbloxSequencerSettings(id=5, outputs=[0], hardware_modulation=True, intermediate_frequency=500000000.0, gain_imbalance=0.0, phase_imbalance=0.0, gain_i=1.0, gain_q=1.0, offset_i=0.0, offset_q=0.0)])"
      ]
     },
     "execution_count": 2,
     "metadata": {},
     "output_type": "execute_result"
    }
   ],
   "source": [
    "qcm = QbloxQCM()\n",
    "qcm"
   ]
  },
  {
   "cell_type": "code",
   "execution_count": null,
   "metadata": {},
   "outputs": [
    {
     "data": {
      "text/plain": [
       "QbloxQCMRF(settings=alias='qcm-rf' timeout=1 outputs=[QbloxRFOutputSettings(port=0, lo_enabled=True, lo_frequency=10000000000.0, attenuation=0.0, offset_i=0.0, offset_q=0.0), QbloxRFOutputSettings(port=1, lo_enabled=True, lo_frequency=10000000000.0, attenuation=0.0, offset_i=0.0, offset_q=0.0)] sequencers=[QbloxSequencerSettings(id=0, outputs=[0], hardware_modulation=True, intermediate_frequency=500000000.0, gain_imbalance=0.0, phase_imbalance=0.0, gain_i=1.0, gain_q=1.0, offset_i=0.0, offset_q=0.0), QbloxSequencerSettings(id=1, outputs=[0], hardware_modulation=True, intermediate_frequency=500000000.0, gain_imbalance=0.0, phase_imbalance=0.0, gain_i=1.0, gain_q=1.0, offset_i=0.0, offset_q=0.0), QbloxSequencerSettings(id=2, outputs=[0], hardware_modulation=True, intermediate_frequency=500000000.0, gain_imbalance=0.0, phase_imbalance=0.0, gain_i=1.0, gain_q=1.0, offset_i=0.0, offset_q=0.0), QbloxSequencerSettings(id=3, outputs=[0], hardware_modulation=True, intermediate_frequency=500000000.0, gain_imbalance=0.0, phase_imbalance=0.0, gain_i=1.0, gain_q=1.0, offset_i=0.0, offset_q=0.0), QbloxSequencerSettings(id=4, outputs=[0], hardware_modulation=True, intermediate_frequency=500000000.0, gain_imbalance=0.0, phase_imbalance=0.0, gain_i=1.0, gain_q=1.0, offset_i=0.0, offset_q=0.0), QbloxSequencerSettings(id=5, outputs=[0], hardware_modulation=True, intermediate_frequency=500000000.0, gain_imbalance=0.0, phase_imbalance=0.0, gain_i=1.0, gain_q=1.0, offset_i=0.0, offset_q=0.0)])"
      ]
     },
     "execution_count": 3,
     "metadata": {},
     "output_type": "execute_result"
    }
   ],
   "source": [
    "qcm_rf = QbloxQCMRF()\n",
    "qcm_rf"
   ]
  },
  {
   "cell_type": "code",
   "execution_count": null,
   "metadata": {},
   "outputs": [
    {
     "data": {
      "text/plain": [
       "QbloxQRM(settings=alias='qrm' timeout=1 outputs=[QbloxLFOutputSettings(port=0, offset=0.0), QbloxLFOutputSettings(port=1, offset=0.0)] sequencers=[QbloxADCSequencerSettings(id=0, outputs=[0], hardware_modulation=True, intermediate_frequency=500000000.0, gain_imbalance=0.0, phase_imbalance=0.0, gain_i=1.0, gain_q=1.0, offset_i=0.0, offset_q=0.0, inputs=[0], hardware_demodulation=True, integration_length=1000, threshold=0.0, threshold_rotation=0.0, time_of_flight=0), QbloxADCSequencerSettings(id=1, outputs=[0], hardware_modulation=True, intermediate_frequency=500000000.0, gain_imbalance=0.0, phase_imbalance=0.0, gain_i=1.0, gain_q=1.0, offset_i=0.0, offset_q=0.0, inputs=[0], hardware_demodulation=True, integration_length=1000, threshold=0.0, threshold_rotation=0.0, time_of_flight=0), QbloxADCSequencerSettings(id=2, outputs=[0], hardware_modulation=True, intermediate_frequency=500000000.0, gain_imbalance=0.0, phase_imbalance=0.0, gain_i=1.0, gain_q=1.0, offset_i=0.0, offset_q=0.0, inputs=[0], hardware_demodulation=True, integration_length=1000, threshold=0.0, threshold_rotation=0.0, time_of_flight=0), QbloxADCSequencerSettings(id=3, outputs=[0], hardware_modulation=True, intermediate_frequency=500000000.0, gain_imbalance=0.0, phase_imbalance=0.0, gain_i=1.0, gain_q=1.0, offset_i=0.0, offset_q=0.0, inputs=[0], hardware_demodulation=True, integration_length=1000, threshold=0.0, threshold_rotation=0.0, time_of_flight=0), QbloxADCSequencerSettings(id=4, outputs=[0], hardware_modulation=True, intermediate_frequency=500000000.0, gain_imbalance=0.0, phase_imbalance=0.0, gain_i=1.0, gain_q=1.0, offset_i=0.0, offset_q=0.0, inputs=[0], hardware_demodulation=True, integration_length=1000, threshold=0.0, threshold_rotation=0.0, time_of_flight=0), QbloxADCSequencerSettings(id=5, outputs=[0], hardware_modulation=True, intermediate_frequency=500000000.0, gain_imbalance=0.0, phase_imbalance=0.0, gain_i=1.0, gain_q=1.0, offset_i=0.0, offset_q=0.0, inputs=[0], hardware_demodulation=True, integration_length=1000, threshold=0.0, threshold_rotation=0.0, time_of_flight=0)] inputs=[QbloxLFInputSettings(port=0, gain=0, offset=0.0), QbloxLFInputSettings(port=1, gain=0, offset=0.0)] scope_hardware_averaging=True)"
      ]
     },
     "execution_count": 4,
     "metadata": {},
     "output_type": "execute_result"
    }
   ],
   "source": [
    "qrm = QbloxQRM()\n",
    "qrm"
   ]
  },
  {
   "cell_type": "code",
   "execution_count": null,
   "metadata": {},
   "outputs": [
    {
     "data": {
      "text/plain": [
       "QbloxQRMRF(settings=alias='qrm-rf' timeout=1 outputs=[QbloxRFOutputSettings(port=0, lo_enabled=True, lo_frequency=10000000000.0, attenuation=0.0, offset_i=0.0, offset_q=0.0)] sequencers=[QbloxADCSequencerSettings(id=0, outputs=[0], hardware_modulation=True, intermediate_frequency=500000000.0, gain_imbalance=0.0, phase_imbalance=0.0, gain_i=1.0, gain_q=1.0, offset_i=0.0, offset_q=0.0, inputs=[0], hardware_demodulation=True, integration_length=1000, threshold=0.0, threshold_rotation=0.0, time_of_flight=0), QbloxADCSequencerSettings(id=1, outputs=[0], hardware_modulation=True, intermediate_frequency=500000000.0, gain_imbalance=0.0, phase_imbalance=0.0, gain_i=1.0, gain_q=1.0, offset_i=0.0, offset_q=0.0, inputs=[0], hardware_demodulation=True, integration_length=1000, threshold=0.0, threshold_rotation=0.0, time_of_flight=0), QbloxADCSequencerSettings(id=2, outputs=[0], hardware_modulation=True, intermediate_frequency=500000000.0, gain_imbalance=0.0, phase_imbalance=0.0, gain_i=1.0, gain_q=1.0, offset_i=0.0, offset_q=0.0, inputs=[0], hardware_demodulation=True, integration_length=1000, threshold=0.0, threshold_rotation=0.0, time_of_flight=0), QbloxADCSequencerSettings(id=3, outputs=[0], hardware_modulation=True, intermediate_frequency=500000000.0, gain_imbalance=0.0, phase_imbalance=0.0, gain_i=1.0, gain_q=1.0, offset_i=0.0, offset_q=0.0, inputs=[0], hardware_demodulation=True, integration_length=1000, threshold=0.0, threshold_rotation=0.0, time_of_flight=0), QbloxADCSequencerSettings(id=4, outputs=[0], hardware_modulation=True, intermediate_frequency=500000000.0, gain_imbalance=0.0, phase_imbalance=0.0, gain_i=1.0, gain_q=1.0, offset_i=0.0, offset_q=0.0, inputs=[0], hardware_demodulation=True, integration_length=1000, threshold=0.0, threshold_rotation=0.0, time_of_flight=0), QbloxADCSequencerSettings(id=5, outputs=[0], hardware_modulation=True, intermediate_frequency=500000000.0, gain_imbalance=0.0, phase_imbalance=0.0, gain_i=1.0, gain_q=1.0, offset_i=0.0, offset_q=0.0, inputs=[0], hardware_demodulation=True, integration_length=1000, threshold=0.0, threshold_rotation=0.0, time_of_flight=0)] inputs=[QbloxRFInputSettings(port=0, attenuation=0, offset_i=0.0, offset_q=0.0)])"
      ]
     },
     "execution_count": 5,
     "metadata": {},
     "output_type": "execute_result"
    }
   ],
   "source": [
    "qrm_rf = QbloxQRMRF()\n",
    "qrm_rf"
   ]
  },
  {
   "cell_type": "code",
   "execution_count": null,
   "metadata": {},
   "outputs": [
    {
     "data": {
      "text/plain": [
       "QDevilQDAC2(settings=alias='qdac2' dacs=[QDevilQDAC2ChannelSettings(id=0, voltage=0.0, span=<QDevilQDAC2Span.LOW: 'low'>, ramping_enabled=True, ramping_rate=1.0, low_pass_filter=<QDevilQDAC2LowPassFilter.DC: 'dc'>), QDevilQDAC2ChannelSettings(id=1, voltage=0.0, span=<QDevilQDAC2Span.LOW: 'low'>, ramping_enabled=True, ramping_rate=1.0, low_pass_filter=<QDevilQDAC2LowPassFilter.DC: 'dc'>), QDevilQDAC2ChannelSettings(id=2, voltage=0.0, span=<QDevilQDAC2Span.LOW: 'low'>, ramping_enabled=True, ramping_rate=1.0, low_pass_filter=<QDevilQDAC2LowPassFilter.DC: 'dc'>), QDevilQDAC2ChannelSettings(id=3, voltage=0.0, span=<QDevilQDAC2Span.LOW: 'low'>, ramping_enabled=True, ramping_rate=1.0, low_pass_filter=<QDevilQDAC2LowPassFilter.DC: 'dc'>), QDevilQDAC2ChannelSettings(id=4, voltage=0.0, span=<QDevilQDAC2Span.LOW: 'low'>, ramping_enabled=True, ramping_rate=1.0, low_pass_filter=<QDevilQDAC2LowPassFilter.DC: 'dc'>), QDevilQDAC2ChannelSettings(id=5, voltage=0.0, span=<QDevilQDAC2Span.LOW: 'low'>, ramping_enabled=True, ramping_rate=1.0, low_pass_filter=<QDevilQDAC2LowPassFilter.DC: 'dc'>), QDevilQDAC2ChannelSettings(id=6, voltage=0.0, span=<QDevilQDAC2Span.LOW: 'low'>, ramping_enabled=True, ramping_rate=1.0, low_pass_filter=<QDevilQDAC2LowPassFilter.DC: 'dc'>), QDevilQDAC2ChannelSettings(id=7, voltage=0.0, span=<QDevilQDAC2Span.LOW: 'low'>, ramping_enabled=True, ramping_rate=1.0, low_pass_filter=<QDevilQDAC2LowPassFilter.DC: 'dc'>), QDevilQDAC2ChannelSettings(id=8, voltage=0.0, span=<QDevilQDAC2Span.LOW: 'low'>, ramping_enabled=True, ramping_rate=1.0, low_pass_filter=<QDevilQDAC2LowPassFilter.DC: 'dc'>), QDevilQDAC2ChannelSettings(id=9, voltage=0.0, span=<QDevilQDAC2Span.LOW: 'low'>, ramping_enabled=True, ramping_rate=1.0, low_pass_filter=<QDevilQDAC2LowPassFilter.DC: 'dc'>), QDevilQDAC2ChannelSettings(id=10, voltage=0.0, span=<QDevilQDAC2Span.LOW: 'low'>, ramping_enabled=True, ramping_rate=1.0, low_pass_filter=<QDevilQDAC2LowPassFilter.DC: 'dc'>), QDevilQDAC2ChannelSettings(id=11, voltage=0.0, span=<QDevilQDAC2Span.LOW: 'low'>, ramping_enabled=True, ramping_rate=1.0, low_pass_filter=<QDevilQDAC2LowPassFilter.DC: 'dc'>), QDevilQDAC2ChannelSettings(id=12, voltage=0.0, span=<QDevilQDAC2Span.LOW: 'low'>, ramping_enabled=True, ramping_rate=1.0, low_pass_filter=<QDevilQDAC2LowPassFilter.DC: 'dc'>), QDevilQDAC2ChannelSettings(id=13, voltage=0.0, span=<QDevilQDAC2Span.LOW: 'low'>, ramping_enabled=True, ramping_rate=1.0, low_pass_filter=<QDevilQDAC2LowPassFilter.DC: 'dc'>), QDevilQDAC2ChannelSettings(id=14, voltage=0.0, span=<QDevilQDAC2Span.LOW: 'low'>, ramping_enabled=True, ramping_rate=1.0, low_pass_filter=<QDevilQDAC2LowPassFilter.DC: 'dc'>), QDevilQDAC2ChannelSettings(id=15, voltage=0.0, span=<QDevilQDAC2Span.LOW: 'low'>, ramping_enabled=True, ramping_rate=1.0, low_pass_filter=<QDevilQDAC2LowPassFilter.DC: 'dc'>), QDevilQDAC2ChannelSettings(id=16, voltage=0.0, span=<QDevilQDAC2Span.LOW: 'low'>, ramping_enabled=True, ramping_rate=1.0, low_pass_filter=<QDevilQDAC2LowPassFilter.DC: 'dc'>), QDevilQDAC2ChannelSettings(id=17, voltage=0.0, span=<QDevilQDAC2Span.LOW: 'low'>, ramping_enabled=True, ramping_rate=1.0, low_pass_filter=<QDevilQDAC2LowPassFilter.DC: 'dc'>), QDevilQDAC2ChannelSettings(id=18, voltage=0.0, span=<QDevilQDAC2Span.LOW: 'low'>, ramping_enabled=True, ramping_rate=1.0, low_pass_filter=<QDevilQDAC2LowPassFilter.DC: 'dc'>), QDevilQDAC2ChannelSettings(id=19, voltage=0.0, span=<QDevilQDAC2Span.LOW: 'low'>, ramping_enabled=True, ramping_rate=1.0, low_pass_filter=<QDevilQDAC2LowPassFilter.DC: 'dc'>), QDevilQDAC2ChannelSettings(id=20, voltage=0.0, span=<QDevilQDAC2Span.LOW: 'low'>, ramping_enabled=True, ramping_rate=1.0, low_pass_filter=<QDevilQDAC2LowPassFilter.DC: 'dc'>), QDevilQDAC2ChannelSettings(id=21, voltage=0.0, span=<QDevilQDAC2Span.LOW: 'low'>, ramping_enabled=True, ramping_rate=1.0, low_pass_filter=<QDevilQDAC2LowPassFilter.DC: 'dc'>), QDevilQDAC2ChannelSettings(id=22, voltage=0.0, span=<QDevilQDAC2Span.LOW: 'low'>, ramping_enabled=True, ramping_rate=1.0, low_pass_filter=<QDevilQDAC2LowPassFilter.DC: 'dc'>), QDevilQDAC2ChannelSettings(id=23, voltage=0.0, span=<QDevilQDAC2Span.LOW: 'low'>, ramping_enabled=True, ramping_rate=1.0, low_pass_filter=<QDevilQDAC2LowPassFilter.DC: 'dc'>)])"
      ]
     },
     "execution_count": 6,
     "metadata": {},
     "output_type": "execute_result"
    }
   ],
   "source": [
    "qdac2 = QDevilQDAC2()\n",
    "qdac2"
   ]
  },
  {
   "cell_type": "code",
   "execution_count": null,
   "metadata": {},
   "outputs": [],
   "source": [
    "second_qdac2 = QDevilQDAC2()\n",
    "second_qdac2.settings.alias = \"second_qdac2\""
   ]
  },
  {
   "cell_type": "code",
   "execution_count": null,
   "metadata": {},
   "outputs": [
    {
     "data": {
      "text/plain": [
       "RohdeSchwarzSG100(settings=alias='sg100' power=0.0 frequency=1000000000.0 rf_on=False)"
      ]
     },
     "execution_count": 8,
     "metadata": {},
     "output_type": "execute_result"
    }
   ],
   "source": [
    "sg100 = RohdeSchwarzSG100()\n",
    "sg100"
   ]
  },
  {
   "cell_type": "code",
   "execution_count": null,
   "metadata": {},
   "outputs": [
    {
     "data": {
      "text/plain": [
       "QbloxS4G(settings=alias='s4g' dacs=[QbloxS4GChannelSettings(id=0, current=0.0, span=<QbloxS4gSpan.MIN_BI: 'min_bi'>, ramping_enabled=True, ramping_rate=0.001), QbloxS4GChannelSettings(id=1, current=0.0, span=<QbloxS4gSpan.MIN_BI: 'min_bi'>, ramping_enabled=True, ramping_rate=0.001), QbloxS4GChannelSettings(id=2, current=0.0, span=<QbloxS4gSpan.MIN_BI: 'min_bi'>, ramping_enabled=True, ramping_rate=0.001), QbloxS4GChannelSettings(id=3, current=0.0, span=<QbloxS4gSpan.MIN_BI: 'min_bi'>, ramping_enabled=True, ramping_rate=0.001)])"
      ]
     },
     "execution_count": 9,
     "metadata": {},
     "output_type": "execute_result"
    }
   ],
   "source": [
    "s4g = QbloxS4G()\n",
    "s4g"
   ]
  },
  {
   "cell_type": "code",
   "execution_count": null,
   "metadata": {},
   "outputs": [
    {
     "data": {
      "text/plain": [
       "QbloxD5A(settings=alias='d5a' dacs=[QbloxD5AChannelSettings(id=0, voltage=0.0, span=<QbloxD5ASpan.BI_2V: 'bi_2V'>, ramping_enabled=True, ramping_rate=0.1), QbloxD5AChannelSettings(id=1, voltage=0.0, span=<QbloxD5ASpan.BI_2V: 'bi_2V'>, ramping_enabled=True, ramping_rate=0.1), QbloxD5AChannelSettings(id=2, voltage=0.0, span=<QbloxD5ASpan.BI_2V: 'bi_2V'>, ramping_enabled=True, ramping_rate=0.1), QbloxD5AChannelSettings(id=3, voltage=0.0, span=<QbloxD5ASpan.BI_2V: 'bi_2V'>, ramping_enabled=True, ramping_rate=0.1), QbloxD5AChannelSettings(id=4, voltage=0.0, span=<QbloxD5ASpan.BI_2V: 'bi_2V'>, ramping_enabled=True, ramping_rate=0.1), QbloxD5AChannelSettings(id=5, voltage=0.0, span=<QbloxD5ASpan.BI_2V: 'bi_2V'>, ramping_enabled=True, ramping_rate=0.1), QbloxD5AChannelSettings(id=6, voltage=0.0, span=<QbloxD5ASpan.BI_2V: 'bi_2V'>, ramping_enabled=True, ramping_rate=0.1), QbloxD5AChannelSettings(id=7, voltage=0.0, span=<QbloxD5ASpan.BI_2V: 'bi_2V'>, ramping_enabled=True, ramping_rate=0.1), QbloxD5AChannelSettings(id=8, voltage=0.0, span=<QbloxD5ASpan.BI_2V: 'bi_2V'>, ramping_enabled=True, ramping_rate=0.1), QbloxD5AChannelSettings(id=9, voltage=0.0, span=<QbloxD5ASpan.BI_2V: 'bi_2V'>, ramping_enabled=True, ramping_rate=0.1), QbloxD5AChannelSettings(id=10, voltage=0.0, span=<QbloxD5ASpan.BI_2V: 'bi_2V'>, ramping_enabled=True, ramping_rate=0.1), QbloxD5AChannelSettings(id=11, voltage=0.0, span=<QbloxD5ASpan.BI_2V: 'bi_2V'>, ramping_enabled=True, ramping_rate=0.1), QbloxD5AChannelSettings(id=12, voltage=0.0, span=<QbloxD5ASpan.BI_2V: 'bi_2V'>, ramping_enabled=True, ramping_rate=0.1), QbloxD5AChannelSettings(id=13, voltage=0.0, span=<QbloxD5ASpan.BI_2V: 'bi_2V'>, ramping_enabled=True, ramping_rate=0.1), QbloxD5AChannelSettings(id=14, voltage=0.0, span=<QbloxD5ASpan.BI_2V: 'bi_2V'>, ramping_enabled=True, ramping_rate=0.1), QbloxD5AChannelSettings(id=15, voltage=0.0, span=<QbloxD5ASpan.BI_2V: 'bi_2V'>, ramping_enabled=True, ramping_rate=0.1)])"
      ]
     },
     "execution_count": 10,
     "metadata": {},
     "output_type": "execute_result"
    }
   ],
   "source": [
    "d5a = QbloxD5A()\n",
    "d5a"
   ]
  },
  {
   "cell_type": "code",
   "execution_count": null,
   "metadata": {},
   "outputs": [],
   "source": [
    "loaded_instruments = [qcm, qrm, qcm_rf, qrm_rf, qdac2, second_qdac2, sg100, s4g, d5a]"
   ]
  },
  {
   "cell_type": "code",
   "execution_count": null,
   "metadata": {},
   "outputs": [
    {
     "data": {
      "text/plain": [
       "[(QbloxD5A(settings=alias='d5a' dacs=[QbloxD5AChannelSettings(id=0, voltage=0.0, span=<QbloxD5ASpan.BI_2V: 'bi_2V'>, ramping_enabled=True, ramping_rate=0.1), QbloxD5AChannelSettings(id=1, voltage=0.0, span=<QbloxD5ASpan.BI_2V: 'bi_2V'>, ramping_enabled=True, ramping_rate=0.1), QbloxD5AChannelSettings(id=2, voltage=0.0, span=<QbloxD5ASpan.BI_2V: 'bi_2V'>, ramping_enabled=True, ramping_rate=0.1), QbloxD5AChannelSettings(id=3, voltage=0.0, span=<QbloxD5ASpan.BI_2V: 'bi_2V'>, ramping_enabled=True, ramping_rate=0.1), QbloxD5AChannelSettings(id=4, voltage=0.0, span=<QbloxD5ASpan.BI_2V: 'bi_2V'>, ramping_enabled=True, ramping_rate=0.1), QbloxD5AChannelSettings(id=5, voltage=0.0, span=<QbloxD5ASpan.BI_2V: 'bi_2V'>, ramping_enabled=True, ramping_rate=0.1), QbloxD5AChannelSettings(id=6, voltage=0.0, span=<QbloxD5ASpan.BI_2V: 'bi_2V'>, ramping_enabled=True, ramping_rate=0.1), QbloxD5AChannelSettings(id=7, voltage=0.0, span=<QbloxD5ASpan.BI_2V: 'bi_2V'>, ramping_enabled=True, ramping_rate=0.1), QbloxD5AChannelSettings(id=8, voltage=0.0, span=<QbloxD5ASpan.BI_2V: 'bi_2V'>, ramping_enabled=True, ramping_rate=0.1), QbloxD5AChannelSettings(id=9, voltage=0.0, span=<QbloxD5ASpan.BI_2V: 'bi_2V'>, ramping_enabled=True, ramping_rate=0.1), QbloxD5AChannelSettings(id=10, voltage=0.0, span=<QbloxD5ASpan.BI_2V: 'bi_2V'>, ramping_enabled=True, ramping_rate=0.1), QbloxD5AChannelSettings(id=11, voltage=0.0, span=<QbloxD5ASpan.BI_2V: 'bi_2V'>, ramping_enabled=True, ramping_rate=0.1), QbloxD5AChannelSettings(id=12, voltage=0.0, span=<QbloxD5ASpan.BI_2V: 'bi_2V'>, ramping_enabled=True, ramping_rate=0.1), QbloxD5AChannelSettings(id=13, voltage=0.0, span=<QbloxD5ASpan.BI_2V: 'bi_2V'>, ramping_enabled=True, ramping_rate=0.1), QbloxD5AChannelSettings(id=14, voltage=0.0, span=<QbloxD5ASpan.BI_2V: 'bi_2V'>, ramping_enabled=True, ramping_rate=0.1), QbloxD5AChannelSettings(id=15, voltage=0.0, span=<QbloxD5ASpan.BI_2V: 'bi_2V'>, ramping_enabled=True, ramping_rate=0.1)]),\n",
       "  0)]"
      ]
     },
     "execution_count": 12,
     "metadata": {},
     "output_type": "execute_result"
    }
   ],
   "source": [
    "from qililab.buses.bus import Bus\n",
    "from qililab.settings.buses.bus_settings import BusSettings\n",
    "\n",
    "bus_settings = BusSettings(alias=\"dc_flux_0\", instruments=[d5a.alias], channels=[d5a.settings.dacs[0].id])\n",
    "\n",
    "bus = Bus(settings=bus_settings, loaded_instruments=loaded_instruments)\n",
    "\n",
    "bus.instruments_and_channels()"
   ]
  },
  {
   "cell_type": "code",
   "execution_count": null,
   "metadata": {},
   "outputs": [
    {
     "data": {
      "text/plain": [
       "QDevilQDAC2Controller(settings=alias='qdac2_controller' connection=ConnectionSettings(type=<ConnectionType.TCP_IP: 'tcp_ip'>, address='168.0.0.1') modules=[{'alias': 'qdac2', 'slot': 1}] reset=True, modules=[])"
      ]
     },
     "execution_count": 13,
     "metadata": {},
     "output_type": "execute_result"
    }
   ],
   "source": [
    "qdac2_controller = QDevilQDAC2Controller()\n",
    "qdac2_controller.settings.modules.append({\"alias\": \"qdac2\", \"slot\": 1})\n",
    "qdac2_controller"
   ]
  },
  {
   "cell_type": "code",
   "execution_count": null,
   "metadata": {},
   "outputs": [
    {
     "data": {
      "text/plain": [
       "QbloxSPIRackController(settings=alias='spi-rack' connection=ConnectionSettings(type=<ConnectionType.TCP_IP: 'tcp_ip'>, address='168.0.0.1') modules=[InstrumentModule(alias='d5a', slot=2), InstrumentModule(alias='s4g', slot=10)] reset=True, modules=[QbloxD5A(settings=alias='d5a' dacs=[QbloxD5AChannelSettings(id=0, voltage=0.0, span=<QbloxD5ASpan.BI_2V: 'bi_2V'>, ramping_enabled=True, ramping_rate=0.1), QbloxD5AChannelSettings(id=1, voltage=0.0, span=<QbloxD5ASpan.BI_2V: 'bi_2V'>, ramping_enabled=True, ramping_rate=0.1), QbloxD5AChannelSettings(id=2, voltage=0.0, span=<QbloxD5ASpan.BI_2V: 'bi_2V'>, ramping_enabled=True, ramping_rate=0.1), QbloxD5AChannelSettings(id=3, voltage=0.0, span=<QbloxD5ASpan.BI_2V: 'bi_2V'>, ramping_enabled=True, ramping_rate=0.1), QbloxD5AChannelSettings(id=4, voltage=0.0, span=<QbloxD5ASpan.BI_2V: 'bi_2V'>, ramping_enabled=True, ramping_rate=0.1), QbloxD5AChannelSettings(id=5, voltage=0.0, span=<QbloxD5ASpan.BI_2V: 'bi_2V'>, ramping_enabled=True, ramping_rate=0.1), QbloxD5AChannelSettings(id=6, voltage=0.0, span=<QbloxD5ASpan.BI_2V: 'bi_2V'>, ramping_enabled=True, ramping_rate=0.1), QbloxD5AChannelSettings(id=7, voltage=0.0, span=<QbloxD5ASpan.BI_2V: 'bi_2V'>, ramping_enabled=True, ramping_rate=0.1), QbloxD5AChannelSettings(id=8, voltage=0.0, span=<QbloxD5ASpan.BI_2V: 'bi_2V'>, ramping_enabled=True, ramping_rate=0.1), QbloxD5AChannelSettings(id=9, voltage=0.0, span=<QbloxD5ASpan.BI_2V: 'bi_2V'>, ramping_enabled=True, ramping_rate=0.1), QbloxD5AChannelSettings(id=10, voltage=0.0, span=<QbloxD5ASpan.BI_2V: 'bi_2V'>, ramping_enabled=True, ramping_rate=0.1), QbloxD5AChannelSettings(id=11, voltage=0.0, span=<QbloxD5ASpan.BI_2V: 'bi_2V'>, ramping_enabled=True, ramping_rate=0.1), QbloxD5AChannelSettings(id=12, voltage=0.0, span=<QbloxD5ASpan.BI_2V: 'bi_2V'>, ramping_enabled=True, ramping_rate=0.1), QbloxD5AChannelSettings(id=13, voltage=0.0, span=<QbloxD5ASpan.BI_2V: 'bi_2V'>, ramping_enabled=True, ramping_rate=0.1), QbloxD5AChannelSettings(id=14, voltage=0.0, span=<QbloxD5ASpan.BI_2V: 'bi_2V'>, ramping_enabled=True, ramping_rate=0.1), QbloxD5AChannelSettings(id=15, voltage=0.0, span=<QbloxD5ASpan.BI_2V: 'bi_2V'>, ramping_enabled=True, ramping_rate=0.1)]), QbloxS4G(settings=alias='s4g' dacs=[QbloxS4GChannelSettings(id=0, current=0.0, span=<QbloxS4gSpan.MIN_BI: 'min_bi'>, ramping_enabled=True, ramping_rate=0.001), QbloxS4GChannelSettings(id=1, current=0.0, span=<QbloxS4gSpan.MIN_BI: 'min_bi'>, ramping_enabled=True, ramping_rate=0.001), QbloxS4GChannelSettings(id=2, current=0.0, span=<QbloxS4gSpan.MIN_BI: 'min_bi'>, ramping_enabled=True, ramping_rate=0.001), QbloxS4GChannelSettings(id=3, current=0.0, span=<QbloxS4gSpan.MIN_BI: 'min_bi'>, ramping_enabled=True, ramping_rate=0.001)])])"
      ]
     },
     "execution_count": 14,
     "metadata": {},
     "output_type": "execute_result"
    }
   ],
   "source": [
    "spi_rack_controller = QbloxSPIRackController(\n",
    "    settings=QbloxSPIRackControllerSettings(\n",
    "        alias=\"spi-rack\", modules=[{\"alias\": d5a.alias, \"slot\": 2}, {\"alias\": s4g.alias, \"slot\": 10}]\n",
    "    ),\n",
    "    loaded_instruments=loaded_instruments,\n",
    ")\n",
    "spi_rack_controller"
   ]
  },
  {
   "cell_type": "code",
   "execution_count": null,
   "metadata": {},
   "outputs": [
    {
     "data": {
      "text/plain": [
       "QDevilQDAC2Controller(settings=alias='qdac2_controller' connection=ConnectionSettings(type=<ConnectionType.TCP_IP: 'tcp_ip'>, address='168.0.0.1') modules=[InstrumentModule(alias='qdac2', slot=0)] reset=True, modules=[QDevilQDAC2(settings=alias='qdac2' dacs=[QDevilQDAC2ChannelSettings(id=0, voltage=0.0, span=<QDevilQDAC2Span.LOW: 'low'>, ramping_enabled=True, ramping_rate=1.0, low_pass_filter=<QDevilQDAC2LowPassFilter.DC: 'dc'>), QDevilQDAC2ChannelSettings(id=1, voltage=0.0, span=<QDevilQDAC2Span.LOW: 'low'>, ramping_enabled=True, ramping_rate=1.0, low_pass_filter=<QDevilQDAC2LowPassFilter.DC: 'dc'>), QDevilQDAC2ChannelSettings(id=2, voltage=0.0, span=<QDevilQDAC2Span.LOW: 'low'>, ramping_enabled=True, ramping_rate=1.0, low_pass_filter=<QDevilQDAC2LowPassFilter.DC: 'dc'>), QDevilQDAC2ChannelSettings(id=3, voltage=0.0, span=<QDevilQDAC2Span.LOW: 'low'>, ramping_enabled=True, ramping_rate=1.0, low_pass_filter=<QDevilQDAC2LowPassFilter.DC: 'dc'>), QDevilQDAC2ChannelSettings(id=4, voltage=0.0, span=<QDevilQDAC2Span.LOW: 'low'>, ramping_enabled=True, ramping_rate=1.0, low_pass_filter=<QDevilQDAC2LowPassFilter.DC: 'dc'>), QDevilQDAC2ChannelSettings(id=5, voltage=0.0, span=<QDevilQDAC2Span.LOW: 'low'>, ramping_enabled=True, ramping_rate=1.0, low_pass_filter=<QDevilQDAC2LowPassFilter.DC: 'dc'>), QDevilQDAC2ChannelSettings(id=6, voltage=0.0, span=<QDevilQDAC2Span.LOW: 'low'>, ramping_enabled=True, ramping_rate=1.0, low_pass_filter=<QDevilQDAC2LowPassFilter.DC: 'dc'>), QDevilQDAC2ChannelSettings(id=7, voltage=0.0, span=<QDevilQDAC2Span.LOW: 'low'>, ramping_enabled=True, ramping_rate=1.0, low_pass_filter=<QDevilQDAC2LowPassFilter.DC: 'dc'>), QDevilQDAC2ChannelSettings(id=8, voltage=0.0, span=<QDevilQDAC2Span.LOW: 'low'>, ramping_enabled=True, ramping_rate=1.0, low_pass_filter=<QDevilQDAC2LowPassFilter.DC: 'dc'>), QDevilQDAC2ChannelSettings(id=9, voltage=0.0, span=<QDevilQDAC2Span.LOW: 'low'>, ramping_enabled=True, ramping_rate=1.0, low_pass_filter=<QDevilQDAC2LowPassFilter.DC: 'dc'>), QDevilQDAC2ChannelSettings(id=10, voltage=0.0, span=<QDevilQDAC2Span.LOW: 'low'>, ramping_enabled=True, ramping_rate=1.0, low_pass_filter=<QDevilQDAC2LowPassFilter.DC: 'dc'>), QDevilQDAC2ChannelSettings(id=11, voltage=0.0, span=<QDevilQDAC2Span.LOW: 'low'>, ramping_enabled=True, ramping_rate=1.0, low_pass_filter=<QDevilQDAC2LowPassFilter.DC: 'dc'>), QDevilQDAC2ChannelSettings(id=12, voltage=0.0, span=<QDevilQDAC2Span.LOW: 'low'>, ramping_enabled=True, ramping_rate=1.0, low_pass_filter=<QDevilQDAC2LowPassFilter.DC: 'dc'>), QDevilQDAC2ChannelSettings(id=13, voltage=0.0, span=<QDevilQDAC2Span.LOW: 'low'>, ramping_enabled=True, ramping_rate=1.0, low_pass_filter=<QDevilQDAC2LowPassFilter.DC: 'dc'>), QDevilQDAC2ChannelSettings(id=14, voltage=0.0, span=<QDevilQDAC2Span.LOW: 'low'>, ramping_enabled=True, ramping_rate=1.0, low_pass_filter=<QDevilQDAC2LowPassFilter.DC: 'dc'>), QDevilQDAC2ChannelSettings(id=15, voltage=0.0, span=<QDevilQDAC2Span.LOW: 'low'>, ramping_enabled=True, ramping_rate=1.0, low_pass_filter=<QDevilQDAC2LowPassFilter.DC: 'dc'>), QDevilQDAC2ChannelSettings(id=16, voltage=0.0, span=<QDevilQDAC2Span.LOW: 'low'>, ramping_enabled=True, ramping_rate=1.0, low_pass_filter=<QDevilQDAC2LowPassFilter.DC: 'dc'>), QDevilQDAC2ChannelSettings(id=17, voltage=0.0, span=<QDevilQDAC2Span.LOW: 'low'>, ramping_enabled=True, ramping_rate=1.0, low_pass_filter=<QDevilQDAC2LowPassFilter.DC: 'dc'>), QDevilQDAC2ChannelSettings(id=18, voltage=0.0, span=<QDevilQDAC2Span.LOW: 'low'>, ramping_enabled=True, ramping_rate=1.0, low_pass_filter=<QDevilQDAC2LowPassFilter.DC: 'dc'>), QDevilQDAC2ChannelSettings(id=19, voltage=0.0, span=<QDevilQDAC2Span.LOW: 'low'>, ramping_enabled=True, ramping_rate=1.0, low_pass_filter=<QDevilQDAC2LowPassFilter.DC: 'dc'>), QDevilQDAC2ChannelSettings(id=20, voltage=0.0, span=<QDevilQDAC2Span.LOW: 'low'>, ramping_enabled=True, ramping_rate=1.0, low_pass_filter=<QDevilQDAC2LowPassFilter.DC: 'dc'>), QDevilQDAC2ChannelSettings(id=21, voltage=0.0, span=<QDevilQDAC2Span.LOW: 'low'>, ramping_enabled=True, ramping_rate=1.0, low_pass_filter=<QDevilQDAC2LowPassFilter.DC: 'dc'>), QDevilQDAC2ChannelSettings(id=22, voltage=0.0, span=<QDevilQDAC2Span.LOW: 'low'>, ramping_enabled=True, ramping_rate=1.0, low_pass_filter=<QDevilQDAC2LowPassFilter.DC: 'dc'>), QDevilQDAC2ChannelSettings(id=23, voltage=0.0, span=<QDevilQDAC2Span.LOW: 'low'>, ramping_enabled=True, ramping_rate=1.0, low_pass_filter=<QDevilQDAC2LowPassFilter.DC: 'dc'>)])])"
      ]
     },
     "execution_count": 15,
     "metadata": {},
     "output_type": "execute_result"
    }
   ],
   "source": [
    "qdac2_controller = QDevilQDAC2Controller(\n",
    "    settings=QDevilQDAC2ControllerSettings(alias=\"qdac2_controller\", modules=[{\"alias\": \"qdac2\", \"slot\": 0}]),\n",
    "    loaded_instruments=loaded_instruments,\n",
    ")\n",
    "qdac2_controller"
   ]
  },
  {
   "cell_type": "code",
   "execution_count": null,
   "metadata": {},
   "outputs": [
    {
     "data": {
      "text/plain": [
       "QbloxClusterController(settings=alias='qblox_cluster' connection=ConnectionSettings(type=<ConnectionType.TCP_IP: 'tcp_ip'>, address='168.0.0.1') modules=[InstrumentModule(alias='qcm', slot=0), InstrumentModule(alias='qrm', slot=5), InstrumentModule(alias='qcm-rf', slot=10), InstrumentModule(alias='qrm-rf', slot=15)] reset=True reference_clock=<ReferenceClock.INTERNAL: 'internal'>, modules=[QbloxQCM(settings=alias='qcm' timeout=1 outputs=[QbloxLFOutputSettings(port=0, offset=0.0), QbloxLFOutputSettings(port=1, offset=0.0), QbloxLFOutputSettings(port=2, offset=0.0), QbloxLFOutputSettings(port=3, offset=0.0)] sequencers=[QbloxSequencerSettings(id=0, outputs=[0], hardware_modulation=True, intermediate_frequency=500000000.0, gain_imbalance=0.0, phase_imbalance=0.0, gain_i=1.0, gain_q=1.0, offset_i=0.0, offset_q=0.0), QbloxSequencerSettings(id=1, outputs=[0], hardware_modulation=True, intermediate_frequency=500000000.0, gain_imbalance=0.0, phase_imbalance=0.0, gain_i=1.0, gain_q=1.0, offset_i=0.0, offset_q=0.0), QbloxSequencerSettings(id=2, outputs=[0], hardware_modulation=True, intermediate_frequency=500000000.0, gain_imbalance=0.0, phase_imbalance=0.0, gain_i=1.0, gain_q=1.0, offset_i=0.0, offset_q=0.0), QbloxSequencerSettings(id=3, outputs=[0], hardware_modulation=True, intermediate_frequency=500000000.0, gain_imbalance=0.0, phase_imbalance=0.0, gain_i=1.0, gain_q=1.0, offset_i=0.0, offset_q=0.0), QbloxSequencerSettings(id=4, outputs=[0], hardware_modulation=True, intermediate_frequency=500000000.0, gain_imbalance=0.0, phase_imbalance=0.0, gain_i=1.0, gain_q=1.0, offset_i=0.0, offset_q=0.0), QbloxSequencerSettings(id=5, outputs=[0], hardware_modulation=True, intermediate_frequency=500000000.0, gain_imbalance=0.0, phase_imbalance=0.0, gain_i=1.0, gain_q=1.0, offset_i=0.0, offset_q=0.0)]), QbloxQRM(settings=alias='qrm' timeout=1 outputs=[QbloxLFOutputSettings(port=0, offset=0.0), QbloxLFOutputSettings(port=1, offset=0.0)] sequencers=[QbloxADCSequencerSettings(id=0, outputs=[0], hardware_modulation=True, intermediate_frequency=500000000.0, gain_imbalance=0.0, phase_imbalance=0.0, gain_i=1.0, gain_q=1.0, offset_i=0.0, offset_q=0.0, inputs=[0], hardware_demodulation=True, integration_length=1000, threshold=0.0, threshold_rotation=0.0, time_of_flight=0), QbloxADCSequencerSettings(id=1, outputs=[0], hardware_modulation=True, intermediate_frequency=500000000.0, gain_imbalance=0.0, phase_imbalance=0.0, gain_i=1.0, gain_q=1.0, offset_i=0.0, offset_q=0.0, inputs=[0], hardware_demodulation=True, integration_length=1000, threshold=0.0, threshold_rotation=0.0, time_of_flight=0), QbloxADCSequencerSettings(id=2, outputs=[0], hardware_modulation=True, intermediate_frequency=500000000.0, gain_imbalance=0.0, phase_imbalance=0.0, gain_i=1.0, gain_q=1.0, offset_i=0.0, offset_q=0.0, inputs=[0], hardware_demodulation=True, integration_length=1000, threshold=0.0, threshold_rotation=0.0, time_of_flight=0), QbloxADCSequencerSettings(id=3, outputs=[0], hardware_modulation=True, intermediate_frequency=500000000.0, gain_imbalance=0.0, phase_imbalance=0.0, gain_i=1.0, gain_q=1.0, offset_i=0.0, offset_q=0.0, inputs=[0], hardware_demodulation=True, integration_length=1000, threshold=0.0, threshold_rotation=0.0, time_of_flight=0), QbloxADCSequencerSettings(id=4, outputs=[0], hardware_modulation=True, intermediate_frequency=500000000.0, gain_imbalance=0.0, phase_imbalance=0.0, gain_i=1.0, gain_q=1.0, offset_i=0.0, offset_q=0.0, inputs=[0], hardware_demodulation=True, integration_length=1000, threshold=0.0, threshold_rotation=0.0, time_of_flight=0), QbloxADCSequencerSettings(id=5, outputs=[0], hardware_modulation=True, intermediate_frequency=500000000.0, gain_imbalance=0.0, phase_imbalance=0.0, gain_i=1.0, gain_q=1.0, offset_i=0.0, offset_q=0.0, inputs=[0], hardware_demodulation=True, integration_length=1000, threshold=0.0, threshold_rotation=0.0, time_of_flight=0)] inputs=[QbloxLFInputSettings(port=0, gain=0, offset=0.0), QbloxLFInputSettings(port=1, gain=0, offset=0.0)] scope_hardware_averaging=True), QbloxQCMRF(settings=alias='qcm-rf' timeout=1 outputs=[QbloxRFOutputSettings(port=0, lo_enabled=True, lo_frequency=10000000000.0, attenuation=0.0, offset_i=0.0, offset_q=0.0), QbloxRFOutputSettings(port=1, lo_enabled=True, lo_frequency=10000000000.0, attenuation=0.0, offset_i=0.0, offset_q=0.0)] sequencers=[QbloxSequencerSettings(id=0, outputs=[0], hardware_modulation=True, intermediate_frequency=500000000.0, gain_imbalance=0.0, phase_imbalance=0.0, gain_i=1.0, gain_q=1.0, offset_i=0.0, offset_q=0.0), QbloxSequencerSettings(id=1, outputs=[0], hardware_modulation=True, intermediate_frequency=500000000.0, gain_imbalance=0.0, phase_imbalance=0.0, gain_i=1.0, gain_q=1.0, offset_i=0.0, offset_q=0.0), QbloxSequencerSettings(id=2, outputs=[0], hardware_modulation=True, intermediate_frequency=500000000.0, gain_imbalance=0.0, phase_imbalance=0.0, gain_i=1.0, gain_q=1.0, offset_i=0.0, offset_q=0.0), QbloxSequencerSettings(id=3, outputs=[0], hardware_modulation=True, intermediate_frequency=500000000.0, gain_imbalance=0.0, phase_imbalance=0.0, gain_i=1.0, gain_q=1.0, offset_i=0.0, offset_q=0.0), QbloxSequencerSettings(id=4, outputs=[0], hardware_modulation=True, intermediate_frequency=500000000.0, gain_imbalance=0.0, phase_imbalance=0.0, gain_i=1.0, gain_q=1.0, offset_i=0.0, offset_q=0.0), QbloxSequencerSettings(id=5, outputs=[0], hardware_modulation=True, intermediate_frequency=500000000.0, gain_imbalance=0.0, phase_imbalance=0.0, gain_i=1.0, gain_q=1.0, offset_i=0.0, offset_q=0.0)]), QbloxQRMRF(settings=alias='qrm-rf' timeout=1 outputs=[QbloxRFOutputSettings(port=0, lo_enabled=True, lo_frequency=10000000000.0, attenuation=0.0, offset_i=0.0, offset_q=0.0)] sequencers=[QbloxADCSequencerSettings(id=0, outputs=[0], hardware_modulation=True, intermediate_frequency=500000000.0, gain_imbalance=0.0, phase_imbalance=0.0, gain_i=1.0, gain_q=1.0, offset_i=0.0, offset_q=0.0, inputs=[0], hardware_demodulation=True, integration_length=1000, threshold=0.0, threshold_rotation=0.0, time_of_flight=0), QbloxADCSequencerSettings(id=1, outputs=[0], hardware_modulation=True, intermediate_frequency=500000000.0, gain_imbalance=0.0, phase_imbalance=0.0, gain_i=1.0, gain_q=1.0, offset_i=0.0, offset_q=0.0, inputs=[0], hardware_demodulation=True, integration_length=1000, threshold=0.0, threshold_rotation=0.0, time_of_flight=0), QbloxADCSequencerSettings(id=2, outputs=[0], hardware_modulation=True, intermediate_frequency=500000000.0, gain_imbalance=0.0, phase_imbalance=0.0, gain_i=1.0, gain_q=1.0, offset_i=0.0, offset_q=0.0, inputs=[0], hardware_demodulation=True, integration_length=1000, threshold=0.0, threshold_rotation=0.0, time_of_flight=0), QbloxADCSequencerSettings(id=3, outputs=[0], hardware_modulation=True, intermediate_frequency=500000000.0, gain_imbalance=0.0, phase_imbalance=0.0, gain_i=1.0, gain_q=1.0, offset_i=0.0, offset_q=0.0, inputs=[0], hardware_demodulation=True, integration_length=1000, threshold=0.0, threshold_rotation=0.0, time_of_flight=0), QbloxADCSequencerSettings(id=4, outputs=[0], hardware_modulation=True, intermediate_frequency=500000000.0, gain_imbalance=0.0, phase_imbalance=0.0, gain_i=1.0, gain_q=1.0, offset_i=0.0, offset_q=0.0, inputs=[0], hardware_demodulation=True, integration_length=1000, threshold=0.0, threshold_rotation=0.0, time_of_flight=0), QbloxADCSequencerSettings(id=5, outputs=[0], hardware_modulation=True, intermediate_frequency=500000000.0, gain_imbalance=0.0, phase_imbalance=0.0, gain_i=1.0, gain_q=1.0, offset_i=0.0, offset_q=0.0, inputs=[0], hardware_demodulation=True, integration_length=1000, threshold=0.0, threshold_rotation=0.0, time_of_flight=0)] inputs=[QbloxRFInputSettings(port=0, attenuation=0, offset_i=0.0, offset_q=0.0)])])"
      ]
     },
     "execution_count": 16,
     "metadata": {},
     "output_type": "execute_result"
    }
   ],
   "source": [
    "qblox_controller = QbloxClusterController(\n",
    "    settings=QbloxClusterControllerSettings(\n",
    "        alias=\"qblox_cluster\",\n",
    "        modules=[\n",
    "            {\"alias\": qcm.alias, \"slot\": 0},\n",
    "            {\"alias\": qrm.alias, \"slot\": 5},\n",
    "            {\"alias\": qcm_rf.alias, \"slot\": 10},\n",
    "            {\"alias\": qrm_rf.alias, \"slot\": 15},\n",
    "        ],\n",
    "    ),\n",
    "    loaded_instruments=loaded_instruments,\n",
    ")\n",
    "qblox_controller"
   ]
  },
  {
   "cell_type": "code",
   "execution_count": null,
   "metadata": {},
   "outputs": [
    {
     "data": {
      "text/plain": [
       "Runcard(name='saruman', buses=[], instruments=[], instrument_controllers=[], analog=AnalogCompilationSettings(flux_control_topology=[]), digital=DigitalCompilationSettings(minimum_clock_time=4, delay_before_readout=0, topology=[], gates={}, buses={}))"
      ]
     },
     "execution_count": 17,
     "metadata": {},
     "output_type": "execute_result"
    }
   ],
   "source": [
    "runcard = Runcard(name=\"saruman\")\n",
    "runcard"
   ]
  },
  {
   "cell_type": "code",
   "execution_count": null,
   "metadata": {},
   "outputs": [],
   "source": [
    "runcard.instruments = [instrument.to_runcard() for instrument in loaded_instruments]"
   ]
  },
  {
   "cell_type": "code",
   "execution_count": null,
   "metadata": {},
   "outputs": [],
   "source": [
    "runcard.add_instrument_controller(qdac2_controller)\n",
    "runcard.add_instrument_controller(qblox_controller)\n",
    "runcard.add_instrument_controller(spi_rack_controller)"
   ]
  },
  {
   "cell_type": "code",
   "execution_count": null,
   "metadata": {},
   "outputs": [],
   "source": [
    "runcard.add_bus(bus=bus)"
   ]
  },
  {
   "cell_type": "code",
   "execution_count": null,
   "metadata": {},
   "outputs": [],
   "source": [
    "from qililab.settings.analog import FluxToBus\n",
    "\n",
    "runcard.analog.flux_control_topology.append(FluxToBus(flux=\"phix_q0\", bus=\"flux_q0_x\"))\n",
    "runcard.analog.flux_control_topology.append(FluxToBus(flux=\"phiz_q0\", bus=\"flux_q0_z\"))"
   ]
  },
  {
   "cell_type": "code",
   "execution_count": null,
   "metadata": {},
   "outputs": [],
   "source": [
    "from qililab.pulse.pulse_distortion import BiasTeeCorrection\n",
    "from qililab.settings.digital import DigitalCompilationBusSettings, GateEventSettings\n",
    "from qililab.typings.enums import Line\n",
    "\n",
    "drag_gate = GateEventSettings(bus=\"drive_q0\", pulse=GateEventSettings.GatePulseSettings(1.0, 40, 100, {}, {}))\n",
    "runcard.digital.gates[\"DRAG(0)\"] = [drag_gate]\n",
    "\n",
    "bus_settings = DigitalCompilationBusSettings(line=Line.DRIVE, qubits=[0], distortions=[BiasTeeCorrection(0.5)])\n",
    "runcard.digital.buses[\"drive_q0\"] = bus_settings"
   ]
  },
  {
   "cell_type": "code",
   "execution_count": null,
   "metadata": {},
   "outputs": [],
   "source": [
    "square = Square(amplitude=1.0, duration=100)\n",
    "gauss = Gaussian(amplitude=0.5, duration=400, num_sigmas=0.5)\n",
    "drag = IQDrag(amplitude=1.0, duration=100, num_sigmas=0.5, drag_coefficient=2.5)\n",
    "pair = IQPair(I=Square(1.0, 40), Q=Square(1.0, 40))"
   ]
  },
  {
   "cell_type": "code",
   "execution_count": null,
   "metadata": {},
   "outputs": [],
   "source": [
    "runcard.save_to(\"runcard.yml\")"
   ]
  },
  {
   "cell_type": "code",
   "execution_count": null,
   "metadata": {},
   "outputs": [
    {
     "data": {
      "text/plain": [
       "Runcard(name='saruman', buses=[RuncardBus(alias='dc_flux_0', instruments=['d5a'], channels=[0])], instruments=[QbloxQCMRuncardInstrument(type=<InstrumentType.QBLOX_QCM: 'qcm'>, settings=QbloxQCMSettings(alias='qcm', timeout=1, outputs=[QbloxLFOutputSettings(port=0, offset=0.0), QbloxLFOutputSettings(port=1, offset=0.0), QbloxLFOutputSettings(port=2, offset=0.0), QbloxLFOutputSettings(port=3, offset=0.0)], sequencers=[QbloxSequencerSettings(id=0, outputs=[0], hardware_modulation=True, intermediate_frequency=500000000.0, gain_imbalance=0.0, phase_imbalance=0.0, gain_i=1.0, gain_q=1.0, offset_i=0.0, offset_q=0.0), QbloxSequencerSettings(id=1, outputs=[0], hardware_modulation=True, intermediate_frequency=500000000.0, gain_imbalance=0.0, phase_imbalance=0.0, gain_i=1.0, gain_q=1.0, offset_i=0.0, offset_q=0.0), QbloxSequencerSettings(id=2, outputs=[0], hardware_modulation=True, intermediate_frequency=500000000.0, gain_imbalance=0.0, phase_imbalance=0.0, gain_i=1.0, gain_q=1.0, offset_i=0.0, offset_q=0.0), QbloxSequencerSettings(id=3, outputs=[0], hardware_modulation=True, intermediate_frequency=500000000.0, gain_imbalance=0.0, phase_imbalance=0.0, gain_i=1.0, gain_q=1.0, offset_i=0.0, offset_q=0.0), QbloxSequencerSettings(id=4, outputs=[0], hardware_modulation=True, intermediate_frequency=500000000.0, gain_imbalance=0.0, phase_imbalance=0.0, gain_i=1.0, gain_q=1.0, offset_i=0.0, offset_q=0.0), QbloxSequencerSettings(id=5, outputs=[0], hardware_modulation=True, intermediate_frequency=500000000.0, gain_imbalance=0.0, phase_imbalance=0.0, gain_i=1.0, gain_q=1.0, offset_i=0.0, offset_q=0.0)])), QbloxQRMRuncardInstrument(type=<InstrumentType.QBLOX_QRM: 'qrm'>, settings=QbloxQRMSettings(alias='qrm', timeout=1, outputs=[QbloxLFOutputSettings(port=0, offset=0.0), QbloxLFOutputSettings(port=1, offset=0.0)], sequencers=[QbloxADCSequencerSettings(id=0, outputs=[0], hardware_modulation=True, intermediate_frequency=500000000.0, gain_imbalance=0.0, phase_imbalance=0.0, gain_i=1.0, gain_q=1.0, offset_i=0.0, offset_q=0.0, inputs=[0], hardware_demodulation=True, integration_length=1000, threshold=0.0, threshold_rotation=0.0, time_of_flight=0), QbloxADCSequencerSettings(id=1, outputs=[0], hardware_modulation=True, intermediate_frequency=500000000.0, gain_imbalance=0.0, phase_imbalance=0.0, gain_i=1.0, gain_q=1.0, offset_i=0.0, offset_q=0.0, inputs=[0], hardware_demodulation=True, integration_length=1000, threshold=0.0, threshold_rotation=0.0, time_of_flight=0), QbloxADCSequencerSettings(id=2, outputs=[0], hardware_modulation=True, intermediate_frequency=500000000.0, gain_imbalance=0.0, phase_imbalance=0.0, gain_i=1.0, gain_q=1.0, offset_i=0.0, offset_q=0.0, inputs=[0], hardware_demodulation=True, integration_length=1000, threshold=0.0, threshold_rotation=0.0, time_of_flight=0), QbloxADCSequencerSettings(id=3, outputs=[0], hardware_modulation=True, intermediate_frequency=500000000.0, gain_imbalance=0.0, phase_imbalance=0.0, gain_i=1.0, gain_q=1.0, offset_i=0.0, offset_q=0.0, inputs=[0], hardware_demodulation=True, integration_length=1000, threshold=0.0, threshold_rotation=0.0, time_of_flight=0), QbloxADCSequencerSettings(id=4, outputs=[0], hardware_modulation=True, intermediate_frequency=500000000.0, gain_imbalance=0.0, phase_imbalance=0.0, gain_i=1.0, gain_q=1.0, offset_i=0.0, offset_q=0.0, inputs=[0], hardware_demodulation=True, integration_length=1000, threshold=0.0, threshold_rotation=0.0, time_of_flight=0), QbloxADCSequencerSettings(id=5, outputs=[0], hardware_modulation=True, intermediate_frequency=500000000.0, gain_imbalance=0.0, phase_imbalance=0.0, gain_i=1.0, gain_q=1.0, offset_i=0.0, offset_q=0.0, inputs=[0], hardware_demodulation=True, integration_length=1000, threshold=0.0, threshold_rotation=0.0, time_of_flight=0)], inputs=[QbloxLFInputSettings(port=0, gain=0, offset=0.0), QbloxLFInputSettings(port=1, gain=0, offset=0.0)], scope_hardware_averaging=True)), QbloxQCMRFRuncardInstrument(type=<InstrumentType.QBLOX_QCM_RF: 'qcm-rf'>, settings=QbloxQCMRFSettings(alias='qcm-rf', timeout=1, outputs=[QbloxRFOutputSettings(port=0, lo_enabled=True, lo_frequency=10000000000.0, attenuation=0.0, offset_i=0.0, offset_q=0.0), QbloxRFOutputSettings(port=1, lo_enabled=True, lo_frequency=10000000000.0, attenuation=0.0, offset_i=0.0, offset_q=0.0)], sequencers=[QbloxSequencerSettings(id=0, outputs=[0], hardware_modulation=True, intermediate_frequency=500000000.0, gain_imbalance=0.0, phase_imbalance=0.0, gain_i=1.0, gain_q=1.0, offset_i=0.0, offset_q=0.0), QbloxSequencerSettings(id=1, outputs=[0], hardware_modulation=True, intermediate_frequency=500000000.0, gain_imbalance=0.0, phase_imbalance=0.0, gain_i=1.0, gain_q=1.0, offset_i=0.0, offset_q=0.0), QbloxSequencerSettings(id=2, outputs=[0], hardware_modulation=True, intermediate_frequency=500000000.0, gain_imbalance=0.0, phase_imbalance=0.0, gain_i=1.0, gain_q=1.0, offset_i=0.0, offset_q=0.0), QbloxSequencerSettings(id=3, outputs=[0], hardware_modulation=True, intermediate_frequency=500000000.0, gain_imbalance=0.0, phase_imbalance=0.0, gain_i=1.0, gain_q=1.0, offset_i=0.0, offset_q=0.0), QbloxSequencerSettings(id=4, outputs=[0], hardware_modulation=True, intermediate_frequency=500000000.0, gain_imbalance=0.0, phase_imbalance=0.0, gain_i=1.0, gain_q=1.0, offset_i=0.0, offset_q=0.0), QbloxSequencerSettings(id=5, outputs=[0], hardware_modulation=True, intermediate_frequency=500000000.0, gain_imbalance=0.0, phase_imbalance=0.0, gain_i=1.0, gain_q=1.0, offset_i=0.0, offset_q=0.0)])), QbloxQRMRFRuncardInstrument(type=<InstrumentType.QBLOX_QRM_RF: 'qrm-rf'>, settings=QbloxQRMRFSettings(alias='qrm-rf', timeout=1, outputs=[QbloxRFOutputSettings(port=0, lo_enabled=True, lo_frequency=10000000000.0, attenuation=0.0, offset_i=0.0, offset_q=0.0)], sequencers=[QbloxADCSequencerSettings(id=0, outputs=[0], hardware_modulation=True, intermediate_frequency=500000000.0, gain_imbalance=0.0, phase_imbalance=0.0, gain_i=1.0, gain_q=1.0, offset_i=0.0, offset_q=0.0, inputs=[0], hardware_demodulation=True, integration_length=1000, threshold=0.0, threshold_rotation=0.0, time_of_flight=0), QbloxADCSequencerSettings(id=1, outputs=[0], hardware_modulation=True, intermediate_frequency=500000000.0, gain_imbalance=0.0, phase_imbalance=0.0, gain_i=1.0, gain_q=1.0, offset_i=0.0, offset_q=0.0, inputs=[0], hardware_demodulation=True, integration_length=1000, threshold=0.0, threshold_rotation=0.0, time_of_flight=0), QbloxADCSequencerSettings(id=2, outputs=[0], hardware_modulation=True, intermediate_frequency=500000000.0, gain_imbalance=0.0, phase_imbalance=0.0, gain_i=1.0, gain_q=1.0, offset_i=0.0, offset_q=0.0, inputs=[0], hardware_demodulation=True, integration_length=1000, threshold=0.0, threshold_rotation=0.0, time_of_flight=0), QbloxADCSequencerSettings(id=3, outputs=[0], hardware_modulation=True, intermediate_frequency=500000000.0, gain_imbalance=0.0, phase_imbalance=0.0, gain_i=1.0, gain_q=1.0, offset_i=0.0, offset_q=0.0, inputs=[0], hardware_demodulation=True, integration_length=1000, threshold=0.0, threshold_rotation=0.0, time_of_flight=0), QbloxADCSequencerSettings(id=4, outputs=[0], hardware_modulation=True, intermediate_frequency=500000000.0, gain_imbalance=0.0, phase_imbalance=0.0, gain_i=1.0, gain_q=1.0, offset_i=0.0, offset_q=0.0, inputs=[0], hardware_demodulation=True, integration_length=1000, threshold=0.0, threshold_rotation=0.0, time_of_flight=0), QbloxADCSequencerSettings(id=5, outputs=[0], hardware_modulation=True, intermediate_frequency=500000000.0, gain_imbalance=0.0, phase_imbalance=0.0, gain_i=1.0, gain_q=1.0, offset_i=0.0, offset_q=0.0, inputs=[0], hardware_demodulation=True, integration_length=1000, threshold=0.0, threshold_rotation=0.0, time_of_flight=0)], inputs=[QbloxRFInputSettings(port=0, attenuation=0, offset_i=0.0, offset_q=0.0)])), QDevilQDAC2RuncardInstrument(type=<InstrumentType.QDEVIL_QDAC2: 'qdac2'>, settings=QDevilQDAC2Settings(alias='qdac2', dacs=[QDevilQDAC2ChannelSettings(id=0, voltage=0.0, span=<QDevilQDAC2Span.LOW: 'low'>, ramping_enabled=True, ramping_rate=1.0, low_pass_filter=<QDevilQDAC2LowPassFilter.DC: 'dc'>), QDevilQDAC2ChannelSettings(id=1, voltage=0.0, span=<QDevilQDAC2Span.LOW: 'low'>, ramping_enabled=True, ramping_rate=1.0, low_pass_filter=<QDevilQDAC2LowPassFilter.DC: 'dc'>), QDevilQDAC2ChannelSettings(id=2, voltage=0.0, span=<QDevilQDAC2Span.LOW: 'low'>, ramping_enabled=True, ramping_rate=1.0, low_pass_filter=<QDevilQDAC2LowPassFilter.DC: 'dc'>), QDevilQDAC2ChannelSettings(id=3, voltage=0.0, span=<QDevilQDAC2Span.LOW: 'low'>, ramping_enabled=True, ramping_rate=1.0, low_pass_filter=<QDevilQDAC2LowPassFilter.DC: 'dc'>), QDevilQDAC2ChannelSettings(id=4, voltage=0.0, span=<QDevilQDAC2Span.LOW: 'low'>, ramping_enabled=True, ramping_rate=1.0, low_pass_filter=<QDevilQDAC2LowPassFilter.DC: 'dc'>), QDevilQDAC2ChannelSettings(id=5, voltage=0.0, span=<QDevilQDAC2Span.LOW: 'low'>, ramping_enabled=True, ramping_rate=1.0, low_pass_filter=<QDevilQDAC2LowPassFilter.DC: 'dc'>), QDevilQDAC2ChannelSettings(id=6, voltage=0.0, span=<QDevilQDAC2Span.LOW: 'low'>, ramping_enabled=True, ramping_rate=1.0, low_pass_filter=<QDevilQDAC2LowPassFilter.DC: 'dc'>), QDevilQDAC2ChannelSettings(id=7, voltage=0.0, span=<QDevilQDAC2Span.LOW: 'low'>, ramping_enabled=True, ramping_rate=1.0, low_pass_filter=<QDevilQDAC2LowPassFilter.DC: 'dc'>), QDevilQDAC2ChannelSettings(id=8, voltage=0.0, span=<QDevilQDAC2Span.LOW: 'low'>, ramping_enabled=True, ramping_rate=1.0, low_pass_filter=<QDevilQDAC2LowPassFilter.DC: 'dc'>), QDevilQDAC2ChannelSettings(id=9, voltage=0.0, span=<QDevilQDAC2Span.LOW: 'low'>, ramping_enabled=True, ramping_rate=1.0, low_pass_filter=<QDevilQDAC2LowPassFilter.DC: 'dc'>), QDevilQDAC2ChannelSettings(id=10, voltage=0.0, span=<QDevilQDAC2Span.LOW: 'low'>, ramping_enabled=True, ramping_rate=1.0, low_pass_filter=<QDevilQDAC2LowPassFilter.DC: 'dc'>), QDevilQDAC2ChannelSettings(id=11, voltage=0.0, span=<QDevilQDAC2Span.LOW: 'low'>, ramping_enabled=True, ramping_rate=1.0, low_pass_filter=<QDevilQDAC2LowPassFilter.DC: 'dc'>), QDevilQDAC2ChannelSettings(id=12, voltage=0.0, span=<QDevilQDAC2Span.LOW: 'low'>, ramping_enabled=True, ramping_rate=1.0, low_pass_filter=<QDevilQDAC2LowPassFilter.DC: 'dc'>), QDevilQDAC2ChannelSettings(id=13, voltage=0.0, span=<QDevilQDAC2Span.LOW: 'low'>, ramping_enabled=True, ramping_rate=1.0, low_pass_filter=<QDevilQDAC2LowPassFilter.DC: 'dc'>), QDevilQDAC2ChannelSettings(id=14, voltage=0.0, span=<QDevilQDAC2Span.LOW: 'low'>, ramping_enabled=True, ramping_rate=1.0, low_pass_filter=<QDevilQDAC2LowPassFilter.DC: 'dc'>), QDevilQDAC2ChannelSettings(id=15, voltage=0.0, span=<QDevilQDAC2Span.LOW: 'low'>, ramping_enabled=True, ramping_rate=1.0, low_pass_filter=<QDevilQDAC2LowPassFilter.DC: 'dc'>), QDevilQDAC2ChannelSettings(id=16, voltage=0.0, span=<QDevilQDAC2Span.LOW: 'low'>, ramping_enabled=True, ramping_rate=1.0, low_pass_filter=<QDevilQDAC2LowPassFilter.DC: 'dc'>), QDevilQDAC2ChannelSettings(id=17, voltage=0.0, span=<QDevilQDAC2Span.LOW: 'low'>, ramping_enabled=True, ramping_rate=1.0, low_pass_filter=<QDevilQDAC2LowPassFilter.DC: 'dc'>), QDevilQDAC2ChannelSettings(id=18, voltage=0.0, span=<QDevilQDAC2Span.LOW: 'low'>, ramping_enabled=True, ramping_rate=1.0, low_pass_filter=<QDevilQDAC2LowPassFilter.DC: 'dc'>), QDevilQDAC2ChannelSettings(id=19, voltage=0.0, span=<QDevilQDAC2Span.LOW: 'low'>, ramping_enabled=True, ramping_rate=1.0, low_pass_filter=<QDevilQDAC2LowPassFilter.DC: 'dc'>), QDevilQDAC2ChannelSettings(id=20, voltage=0.0, span=<QDevilQDAC2Span.LOW: 'low'>, ramping_enabled=True, ramping_rate=1.0, low_pass_filter=<QDevilQDAC2LowPassFilter.DC: 'dc'>), QDevilQDAC2ChannelSettings(id=21, voltage=0.0, span=<QDevilQDAC2Span.LOW: 'low'>, ramping_enabled=True, ramping_rate=1.0, low_pass_filter=<QDevilQDAC2LowPassFilter.DC: 'dc'>), QDevilQDAC2ChannelSettings(id=22, voltage=0.0, span=<QDevilQDAC2Span.LOW: 'low'>, ramping_enabled=True, ramping_rate=1.0, low_pass_filter=<QDevilQDAC2LowPassFilter.DC: 'dc'>), QDevilQDAC2ChannelSettings(id=23, voltage=0.0, span=<QDevilQDAC2Span.LOW: 'low'>, ramping_enabled=True, ramping_rate=1.0, low_pass_filter=<QDevilQDAC2LowPassFilter.DC: 'dc'>)])), QDevilQDAC2RuncardInstrument(type=<InstrumentType.QDEVIL_QDAC2: 'qdac2'>, settings=QDevilQDAC2Settings(alias='second_qdac2', dacs=[QDevilQDAC2ChannelSettings(id=0, voltage=0.0, span=<QDevilQDAC2Span.LOW: 'low'>, ramping_enabled=True, ramping_rate=1.0, low_pass_filter=<QDevilQDAC2LowPassFilter.DC: 'dc'>), QDevilQDAC2ChannelSettings(id=1, voltage=0.0, span=<QDevilQDAC2Span.LOW: 'low'>, ramping_enabled=True, ramping_rate=1.0, low_pass_filter=<QDevilQDAC2LowPassFilter.DC: 'dc'>), QDevilQDAC2ChannelSettings(id=2, voltage=0.0, span=<QDevilQDAC2Span.LOW: 'low'>, ramping_enabled=True, ramping_rate=1.0, low_pass_filter=<QDevilQDAC2LowPassFilter.DC: 'dc'>), QDevilQDAC2ChannelSettings(id=3, voltage=0.0, span=<QDevilQDAC2Span.LOW: 'low'>, ramping_enabled=True, ramping_rate=1.0, low_pass_filter=<QDevilQDAC2LowPassFilter.DC: 'dc'>), QDevilQDAC2ChannelSettings(id=4, voltage=0.0, span=<QDevilQDAC2Span.LOW: 'low'>, ramping_enabled=True, ramping_rate=1.0, low_pass_filter=<QDevilQDAC2LowPassFilter.DC: 'dc'>), QDevilQDAC2ChannelSettings(id=5, voltage=0.0, span=<QDevilQDAC2Span.LOW: 'low'>, ramping_enabled=True, ramping_rate=1.0, low_pass_filter=<QDevilQDAC2LowPassFilter.DC: 'dc'>), QDevilQDAC2ChannelSettings(id=6, voltage=0.0, span=<QDevilQDAC2Span.LOW: 'low'>, ramping_enabled=True, ramping_rate=1.0, low_pass_filter=<QDevilQDAC2LowPassFilter.DC: 'dc'>), QDevilQDAC2ChannelSettings(id=7, voltage=0.0, span=<QDevilQDAC2Span.LOW: 'low'>, ramping_enabled=True, ramping_rate=1.0, low_pass_filter=<QDevilQDAC2LowPassFilter.DC: 'dc'>), QDevilQDAC2ChannelSettings(id=8, voltage=0.0, span=<QDevilQDAC2Span.LOW: 'low'>, ramping_enabled=True, ramping_rate=1.0, low_pass_filter=<QDevilQDAC2LowPassFilter.DC: 'dc'>), QDevilQDAC2ChannelSettings(id=9, voltage=0.0, span=<QDevilQDAC2Span.LOW: 'low'>, ramping_enabled=True, ramping_rate=1.0, low_pass_filter=<QDevilQDAC2LowPassFilter.DC: 'dc'>), QDevilQDAC2ChannelSettings(id=10, voltage=0.0, span=<QDevilQDAC2Span.LOW: 'low'>, ramping_enabled=True, ramping_rate=1.0, low_pass_filter=<QDevilQDAC2LowPassFilter.DC: 'dc'>), QDevilQDAC2ChannelSettings(id=11, voltage=0.0, span=<QDevilQDAC2Span.LOW: 'low'>, ramping_enabled=True, ramping_rate=1.0, low_pass_filter=<QDevilQDAC2LowPassFilter.DC: 'dc'>), QDevilQDAC2ChannelSettings(id=12, voltage=0.0, span=<QDevilQDAC2Span.LOW: 'low'>, ramping_enabled=True, ramping_rate=1.0, low_pass_filter=<QDevilQDAC2LowPassFilter.DC: 'dc'>), QDevilQDAC2ChannelSettings(id=13, voltage=0.0, span=<QDevilQDAC2Span.LOW: 'low'>, ramping_enabled=True, ramping_rate=1.0, low_pass_filter=<QDevilQDAC2LowPassFilter.DC: 'dc'>), QDevilQDAC2ChannelSettings(id=14, voltage=0.0, span=<QDevilQDAC2Span.LOW: 'low'>, ramping_enabled=True, ramping_rate=1.0, low_pass_filter=<QDevilQDAC2LowPassFilter.DC: 'dc'>), QDevilQDAC2ChannelSettings(id=15, voltage=0.0, span=<QDevilQDAC2Span.LOW: 'low'>, ramping_enabled=True, ramping_rate=1.0, low_pass_filter=<QDevilQDAC2LowPassFilter.DC: 'dc'>), QDevilQDAC2ChannelSettings(id=16, voltage=0.0, span=<QDevilQDAC2Span.LOW: 'low'>, ramping_enabled=True, ramping_rate=1.0, low_pass_filter=<QDevilQDAC2LowPassFilter.DC: 'dc'>), QDevilQDAC2ChannelSettings(id=17, voltage=0.0, span=<QDevilQDAC2Span.LOW: 'low'>, ramping_enabled=True, ramping_rate=1.0, low_pass_filter=<QDevilQDAC2LowPassFilter.DC: 'dc'>), QDevilQDAC2ChannelSettings(id=18, voltage=0.0, span=<QDevilQDAC2Span.LOW: 'low'>, ramping_enabled=True, ramping_rate=1.0, low_pass_filter=<QDevilQDAC2LowPassFilter.DC: 'dc'>), QDevilQDAC2ChannelSettings(id=19, voltage=0.0, span=<QDevilQDAC2Span.LOW: 'low'>, ramping_enabled=True, ramping_rate=1.0, low_pass_filter=<QDevilQDAC2LowPassFilter.DC: 'dc'>), QDevilQDAC2ChannelSettings(id=20, voltage=0.0, span=<QDevilQDAC2Span.LOW: 'low'>, ramping_enabled=True, ramping_rate=1.0, low_pass_filter=<QDevilQDAC2LowPassFilter.DC: 'dc'>), QDevilQDAC2ChannelSettings(id=21, voltage=0.0, span=<QDevilQDAC2Span.LOW: 'low'>, ramping_enabled=True, ramping_rate=1.0, low_pass_filter=<QDevilQDAC2LowPassFilter.DC: 'dc'>), QDevilQDAC2ChannelSettings(id=22, voltage=0.0, span=<QDevilQDAC2Span.LOW: 'low'>, ramping_enabled=True, ramping_rate=1.0, low_pass_filter=<QDevilQDAC2LowPassFilter.DC: 'dc'>), QDevilQDAC2ChannelSettings(id=23, voltage=0.0, span=<QDevilQDAC2Span.LOW: 'low'>, ramping_enabled=True, ramping_rate=1.0, low_pass_filter=<QDevilQDAC2LowPassFilter.DC: 'dc'>)])), RohdeSchwarzSG100RuncardInstrument(type=<InstrumentType.ROHDE_SCHWARZ_SG100: 'sg100'>, settings=RohdeSchwarzSG100Settings(alias='sg100', power=0.0, frequency=1000000000.0, rf_on=False)), QbloxS4GRuncardInstrument(type=<InstrumentType.QBLOX_S4G: 's4g'>, settings=QbloxS4GSettings(alias='s4g', dacs=[QbloxS4GChannelSettings(id=0, current=0.0, span=<QbloxS4gSpan.MIN_BI: 'min_bi'>, ramping_enabled=True, ramping_rate=0.001), QbloxS4GChannelSettings(id=1, current=0.0, span=<QbloxS4gSpan.MIN_BI: 'min_bi'>, ramping_enabled=True, ramping_rate=0.001), QbloxS4GChannelSettings(id=2, current=0.0, span=<QbloxS4gSpan.MIN_BI: 'min_bi'>, ramping_enabled=True, ramping_rate=0.001), QbloxS4GChannelSettings(id=3, current=0.0, span=<QbloxS4gSpan.MIN_BI: 'min_bi'>, ramping_enabled=True, ramping_rate=0.001)])), QbloxD5ARuncardInstrument(type=<InstrumentType.QBLOX_D5A: 'd5a'>, settings=QbloxD5ASettings(alias='d5a', dacs=[QbloxD5AChannelSettings(id=0, voltage=0.0, span=<QbloxD5ASpan.BI_2V: 'bi_2V'>, ramping_enabled=True, ramping_rate=0.1), QbloxD5AChannelSettings(id=1, voltage=0.0, span=<QbloxD5ASpan.BI_2V: 'bi_2V'>, ramping_enabled=True, ramping_rate=0.1), QbloxD5AChannelSettings(id=2, voltage=0.0, span=<QbloxD5ASpan.BI_2V: 'bi_2V'>, ramping_enabled=True, ramping_rate=0.1), QbloxD5AChannelSettings(id=3, voltage=0.0, span=<QbloxD5ASpan.BI_2V: 'bi_2V'>, ramping_enabled=True, ramping_rate=0.1), QbloxD5AChannelSettings(id=4, voltage=0.0, span=<QbloxD5ASpan.BI_2V: 'bi_2V'>, ramping_enabled=True, ramping_rate=0.1), QbloxD5AChannelSettings(id=5, voltage=0.0, span=<QbloxD5ASpan.BI_2V: 'bi_2V'>, ramping_enabled=True, ramping_rate=0.1), QbloxD5AChannelSettings(id=6, voltage=0.0, span=<QbloxD5ASpan.BI_2V: 'bi_2V'>, ramping_enabled=True, ramping_rate=0.1), QbloxD5AChannelSettings(id=7, voltage=0.0, span=<QbloxD5ASpan.BI_2V: 'bi_2V'>, ramping_enabled=True, ramping_rate=0.1), QbloxD5AChannelSettings(id=8, voltage=0.0, span=<QbloxD5ASpan.BI_2V: 'bi_2V'>, ramping_enabled=True, ramping_rate=0.1), QbloxD5AChannelSettings(id=9, voltage=0.0, span=<QbloxD5ASpan.BI_2V: 'bi_2V'>, ramping_enabled=True, ramping_rate=0.1), QbloxD5AChannelSettings(id=10, voltage=0.0, span=<QbloxD5ASpan.BI_2V: 'bi_2V'>, ramping_enabled=True, ramping_rate=0.1), QbloxD5AChannelSettings(id=11, voltage=0.0, span=<QbloxD5ASpan.BI_2V: 'bi_2V'>, ramping_enabled=True, ramping_rate=0.1), QbloxD5AChannelSettings(id=12, voltage=0.0, span=<QbloxD5ASpan.BI_2V: 'bi_2V'>, ramping_enabled=True, ramping_rate=0.1), QbloxD5AChannelSettings(id=13, voltage=0.0, span=<QbloxD5ASpan.BI_2V: 'bi_2V'>, ramping_enabled=True, ramping_rate=0.1), QbloxD5AChannelSettings(id=14, voltage=0.0, span=<QbloxD5ASpan.BI_2V: 'bi_2V'>, ramping_enabled=True, ramping_rate=0.1), QbloxD5AChannelSettings(id=15, voltage=0.0, span=<QbloxD5ASpan.BI_2V: 'bi_2V'>, ramping_enabled=True, ramping_rate=0.1)]))], instrument_controllers=[QDevilQDAC2RuncardInstrumentController(type=<InstrumentControllerType.QDEVIL_QDAC2_CONTROLLER: 'qdac2_controller'>, settings=QDevilQDAC2ControllerSettings(alias='qdac2_controller', connection=ConnectionSettings(type=<ConnectionType.TCP_IP: 'tcp_ip'>, address='168.0.0.1'), modules=[InstrumentModule(alias='qdac2', slot=0)], reset=True)), QbloxClusterRuncardInstrumentController(type=<InstrumentControllerType.QBLOX_CLUSTER_CONTROLLER: 'qblox_cluster_controller'>, settings=QbloxClusterControllerSettings(alias='qblox_cluster', connection=ConnectionSettings(type=<ConnectionType.TCP_IP: 'tcp_ip'>, address='168.0.0.1'), modules=[InstrumentModule(alias='qcm', slot=0), InstrumentModule(alias='qrm', slot=5), InstrumentModule(alias='qcm-rf', slot=10), InstrumentModule(alias='qrm-rf', slot=15)], reset=True, reference_clock=<ReferenceClock.INTERNAL: 'internal'>)), QbloxSPIRackRuncardInstrumentController(type=<InstrumentControllerType.QBLOX_SPI_RACK_CONTROLLER: 'qblox_spi_rack_controller'>, settings=QbloxSPIRackControllerSettings(alias='spi-rack', connection=ConnectionSettings(type=<ConnectionType.TCP_IP: 'tcp_ip'>, address='168.0.0.1'), modules=[InstrumentModule(alias='d5a', slot=2), InstrumentModule(alias='s4g', slot=10)], reset=True))], analog=AnalogCompilationSettings(flux_control_topology=[FluxToBus(flux='phix_q0', bus='flux_q0_x'), FluxToBus(flux='phiz_q0', bus='flux_q0_z')]), digital=DigitalCompilationSettings(minimum_clock_time=4, delay_before_readout=0, topology=[], gates={'DRAG(0)': [GateEventSettings(bus='drive_q0', pulse=GateEventSettings.GatePulseSettings(amplitude=1.0, phase=40.0, duration=100, shape={}, options={}), wait_time=0)]}, buses={'drive_q0': DigitalCompilationBusSettings(line=<Line.DRIVE: 'drive'>, qubits=[0], delay=0, distortions=[], weights_i=[], weights_q=[], weighed_acq_enabled=False)}))"
      ]
     },
     "execution_count": 25,
     "metadata": {},
     "output_type": "execute_result"
    }
   ],
   "source": [
    "loaded_runcard = Runcard.load_from(\"runcard.yml\")\n",
    "loaded_runcard"
   ]
  },
  {
   "cell_type": "code",
   "execution_count": null,
   "metadata": {},
   "outputs": [
    {
     "data": {
      "text/plain": [
       "<qililab.platform.platform.Platform at 0x7f1d24cacac0>"
      ]
     },
     "execution_count": 26,
     "metadata": {},
     "output_type": "execute_result"
    }
   ],
   "source": [
    "platform = Platform.load_from(runcard=loaded_runcard)\n",
    "platform"
   ]
  },
  {
   "cell_type": "code",
   "execution_count": null,
   "metadata": {},
   "outputs": [
    {
     "data": {
      "text/plain": [
       "{'name': 'saruman',\n",
       " 'instruments': [{'alias': 'qcm',\n",
       "   'timeout': 1,\n",
       "   'outputs': [{'port': 0, 'offset': 0.0},\n",
       "    {'port': 1, 'offset': 0.0},\n",
       "    {'port': 2, 'offset': 0.0},\n",
       "    {'port': 3, 'offset': 0.0}],\n",
       "   'sequencers': [{'id': 0,\n",
       "     'outputs': [0],\n",
       "     'hardware_modulation': True,\n",
       "     'intermediate_frequency': 500000000.0,\n",
       "     'gain_imbalance': 0.0,\n",
       "     'phase_imbalance': 0.0,\n",
       "     'gain_i': 1.0,\n",
       "     'gain_q': 1.0,\n",
       "     'offset_i': 0.0,\n",
       "     'offset_q': 0.0},\n",
       "    {'id': 1,\n",
       "     'outputs': [0],\n",
       "     'hardware_modulation': True,\n",
       "     'intermediate_frequency': 500000000.0,\n",
       "     'gain_imbalance': 0.0,\n",
       "     'phase_imbalance': 0.0,\n",
       "     'gain_i': 1.0,\n",
       "     'gain_q': 1.0,\n",
       "     'offset_i': 0.0,\n",
       "     'offset_q': 0.0},\n",
       "    {'id': 2,\n",
       "     'outputs': [0],\n",
       "     'hardware_modulation': True,\n",
       "     'intermediate_frequency': 500000000.0,\n",
       "     'gain_imbalance': 0.0,\n",
       "     'phase_imbalance': 0.0,\n",
       "     'gain_i': 1.0,\n",
       "     'gain_q': 1.0,\n",
       "     'offset_i': 0.0,\n",
       "     'offset_q': 0.0},\n",
       "    {'id': 3,\n",
       "     'outputs': [0],\n",
       "     'hardware_modulation': True,\n",
       "     'intermediate_frequency': 500000000.0,\n",
       "     'gain_imbalance': 0.0,\n",
       "     'phase_imbalance': 0.0,\n",
       "     'gain_i': 1.0,\n",
       "     'gain_q': 1.0,\n",
       "     'offset_i': 0.0,\n",
       "     'offset_q': 0.0},\n",
       "    {'id': 4,\n",
       "     'outputs': [0],\n",
       "     'hardware_modulation': True,\n",
       "     'intermediate_frequency': 500000000.0,\n",
       "     'gain_imbalance': 0.0,\n",
       "     'phase_imbalance': 0.0,\n",
       "     'gain_i': 1.0,\n",
       "     'gain_q': 1.0,\n",
       "     'offset_i': 0.0,\n",
       "     'offset_q': 0.0},\n",
       "    {'id': 5,\n",
       "     'outputs': [0],\n",
       "     'hardware_modulation': True,\n",
       "     'intermediate_frequency': 500000000.0,\n",
       "     'gain_imbalance': 0.0,\n",
       "     'phase_imbalance': 0.0,\n",
       "     'gain_i': 1.0,\n",
       "     'gain_q': 1.0,\n",
       "     'offset_i': 0.0,\n",
       "     'offset_q': 0.0}]},\n",
       "  {'alias': 'qrm',\n",
       "   'timeout': 1,\n",
       "   'outputs': [{'port': 0, 'offset': 0.0}, {'port': 1, 'offset': 0.0}],\n",
       "   'sequencers': [{'id': 0,\n",
       "     'outputs': [0],\n",
       "     'hardware_modulation': True,\n",
       "     'intermediate_frequency': 500000000.0,\n",
       "     'gain_imbalance': 0.0,\n",
       "     'phase_imbalance': 0.0,\n",
       "     'gain_i': 1.0,\n",
       "     'gain_q': 1.0,\n",
       "     'offset_i': 0.0,\n",
       "     'offset_q': 0.0,\n",
       "     'inputs': [0],\n",
       "     'hardware_demodulation': True,\n",
       "     'integration_length': 1000,\n",
       "     'threshold': 0.0,\n",
       "     'threshold_rotation': 0.0,\n",
       "     'time_of_flight': 0},\n",
       "    {'id': 1,\n",
       "     'outputs': [0],\n",
       "     'hardware_modulation': True,\n",
       "     'intermediate_frequency': 500000000.0,\n",
       "     'gain_imbalance': 0.0,\n",
       "     'phase_imbalance': 0.0,\n",
       "     'gain_i': 1.0,\n",
       "     'gain_q': 1.0,\n",
       "     'offset_i': 0.0,\n",
       "     'offset_q': 0.0,\n",
       "     'inputs': [0],\n",
       "     'hardware_demodulation': True,\n",
       "     'integration_length': 1000,\n",
       "     'threshold': 0.0,\n",
       "     'threshold_rotation': 0.0,\n",
       "     'time_of_flight': 0},\n",
       "    {'id': 2,\n",
       "     'outputs': [0],\n",
       "     'hardware_modulation': True,\n",
       "     'intermediate_frequency': 500000000.0,\n",
       "     'gain_imbalance': 0.0,\n",
       "     'phase_imbalance': 0.0,\n",
       "     'gain_i': 1.0,\n",
       "     'gain_q': 1.0,\n",
       "     'offset_i': 0.0,\n",
       "     'offset_q': 0.0,\n",
       "     'inputs': [0],\n",
       "     'hardware_demodulation': True,\n",
       "     'integration_length': 1000,\n",
       "     'threshold': 0.0,\n",
       "     'threshold_rotation': 0.0,\n",
       "     'time_of_flight': 0},\n",
       "    {'id': 3,\n",
       "     'outputs': [0],\n",
       "     'hardware_modulation': True,\n",
       "     'intermediate_frequency': 500000000.0,\n",
       "     'gain_imbalance': 0.0,\n",
       "     'phase_imbalance': 0.0,\n",
       "     'gain_i': 1.0,\n",
       "     'gain_q': 1.0,\n",
       "     'offset_i': 0.0,\n",
       "     'offset_q': 0.0,\n",
       "     'inputs': [0],\n",
       "     'hardware_demodulation': True,\n",
       "     'integration_length': 1000,\n",
       "     'threshold': 0.0,\n",
       "     'threshold_rotation': 0.0,\n",
       "     'time_of_flight': 0},\n",
       "    {'id': 4,\n",
       "     'outputs': [0],\n",
       "     'hardware_modulation': True,\n",
       "     'intermediate_frequency': 500000000.0,\n",
       "     'gain_imbalance': 0.0,\n",
       "     'phase_imbalance': 0.0,\n",
       "     'gain_i': 1.0,\n",
       "     'gain_q': 1.0,\n",
       "     'offset_i': 0.0,\n",
       "     'offset_q': 0.0,\n",
       "     'inputs': [0],\n",
       "     'hardware_demodulation': True,\n",
       "     'integration_length': 1000,\n",
       "     'threshold': 0.0,\n",
       "     'threshold_rotation': 0.0,\n",
       "     'time_of_flight': 0},\n",
       "    {'id': 5,\n",
       "     'outputs': [0],\n",
       "     'hardware_modulation': True,\n",
       "     'intermediate_frequency': 500000000.0,\n",
       "     'gain_imbalance': 0.0,\n",
       "     'phase_imbalance': 0.0,\n",
       "     'gain_i': 1.0,\n",
       "     'gain_q': 1.0,\n",
       "     'offset_i': 0.0,\n",
       "     'offset_q': 0.0,\n",
       "     'inputs': [0],\n",
       "     'hardware_demodulation': True,\n",
       "     'integration_length': 1000,\n",
       "     'threshold': 0.0,\n",
       "     'threshold_rotation': 0.0,\n",
       "     'time_of_flight': 0}],\n",
       "   'inputs': [{'port': 0, 'gain': 0, 'offset': 0.0},\n",
       "    {'port': 1, 'gain': 0, 'offset': 0.0}],\n",
       "   'scope_hardware_averaging': True},\n",
       "  {'alias': 'qcm-rf',\n",
       "   'timeout': 1,\n",
       "   'outputs': [{'port': 0,\n",
       "     'lo_enabled': True,\n",
       "     'lo_frequency': 10000000000.0,\n",
       "     'attenuation': 0.0,\n",
       "     'offset_i': 0.0,\n",
       "     'offset_q': 0.0},\n",
       "    {'port': 1,\n",
       "     'lo_enabled': True,\n",
       "     'lo_frequency': 10000000000.0,\n",
       "     'attenuation': 0.0,\n",
       "     'offset_i': 0.0,\n",
       "     'offset_q': 0.0}],\n",
       "   'sequencers': [{'id': 0,\n",
       "     'outputs': [0],\n",
       "     'hardware_modulation': True,\n",
       "     'intermediate_frequency': 500000000.0,\n",
       "     'gain_imbalance': 0.0,\n",
       "     'phase_imbalance': 0.0,\n",
       "     'gain_i': 1.0,\n",
       "     'gain_q': 1.0,\n",
       "     'offset_i': 0.0,\n",
       "     'offset_q': 0.0},\n",
       "    {'id': 1,\n",
       "     'outputs': [0],\n",
       "     'hardware_modulation': True,\n",
       "     'intermediate_frequency': 500000000.0,\n",
       "     'gain_imbalance': 0.0,\n",
       "     'phase_imbalance': 0.0,\n",
       "     'gain_i': 1.0,\n",
       "     'gain_q': 1.0,\n",
       "     'offset_i': 0.0,\n",
       "     'offset_q': 0.0},\n",
       "    {'id': 2,\n",
       "     'outputs': [0],\n",
       "     'hardware_modulation': True,\n",
       "     'intermediate_frequency': 500000000.0,\n",
       "     'gain_imbalance': 0.0,\n",
       "     'phase_imbalance': 0.0,\n",
       "     'gain_i': 1.0,\n",
       "     'gain_q': 1.0,\n",
       "     'offset_i': 0.0,\n",
       "     'offset_q': 0.0},\n",
       "    {'id': 3,\n",
       "     'outputs': [0],\n",
       "     'hardware_modulation': True,\n",
       "     'intermediate_frequency': 500000000.0,\n",
       "     'gain_imbalance': 0.0,\n",
       "     'phase_imbalance': 0.0,\n",
       "     'gain_i': 1.0,\n",
       "     'gain_q': 1.0,\n",
       "     'offset_i': 0.0,\n",
       "     'offset_q': 0.0},\n",
       "    {'id': 4,\n",
       "     'outputs': [0],\n",
       "     'hardware_modulation': True,\n",
       "     'intermediate_frequency': 500000000.0,\n",
       "     'gain_imbalance': 0.0,\n",
       "     'phase_imbalance': 0.0,\n",
       "     'gain_i': 1.0,\n",
       "     'gain_q': 1.0,\n",
       "     'offset_i': 0.0,\n",
       "     'offset_q': 0.0},\n",
       "    {'id': 5,\n",
       "     'outputs': [0],\n",
       "     'hardware_modulation': True,\n",
       "     'intermediate_frequency': 500000000.0,\n",
       "     'gain_imbalance': 0.0,\n",
       "     'phase_imbalance': 0.0,\n",
       "     'gain_i': 1.0,\n",
       "     'gain_q': 1.0,\n",
       "     'offset_i': 0.0,\n",
       "     'offset_q': 0.0}]},\n",
       "  {'alias': 'qrm-rf',\n",
       "   'timeout': 1,\n",
       "   'outputs': [{'port': 0,\n",
       "     'lo_enabled': True,\n",
       "     'lo_frequency': 10000000000.0,\n",
       "     'attenuation': 0.0,\n",
       "     'offset_i': 0.0,\n",
       "     'offset_q': 0.0}],\n",
       "   'sequencers': [{'id': 0,\n",
       "     'outputs': [0],\n",
       "     'hardware_modulation': True,\n",
       "     'intermediate_frequency': 500000000.0,\n",
       "     'gain_imbalance': 0.0,\n",
       "     'phase_imbalance': 0.0,\n",
       "     'gain_i': 1.0,\n",
       "     'gain_q': 1.0,\n",
       "     'offset_i': 0.0,\n",
       "     'offset_q': 0.0,\n",
       "     'inputs': [0],\n",
       "     'hardware_demodulation': True,\n",
       "     'integration_length': 1000,\n",
       "     'threshold': 0.0,\n",
       "     'threshold_rotation': 0.0,\n",
       "     'time_of_flight': 0},\n",
       "    {'id': 1,\n",
       "     'outputs': [0],\n",
       "     'hardware_modulation': True,\n",
       "     'intermediate_frequency': 500000000.0,\n",
       "     'gain_imbalance': 0.0,\n",
       "     'phase_imbalance': 0.0,\n",
       "     'gain_i': 1.0,\n",
       "     'gain_q': 1.0,\n",
       "     'offset_i': 0.0,\n",
       "     'offset_q': 0.0,\n",
       "     'inputs': [0],\n",
       "     'hardware_demodulation': True,\n",
       "     'integration_length': 1000,\n",
       "     'threshold': 0.0,\n",
       "     'threshold_rotation': 0.0,\n",
       "     'time_of_flight': 0},\n",
       "    {'id': 2,\n",
       "     'outputs': [0],\n",
       "     'hardware_modulation': True,\n",
       "     'intermediate_frequency': 500000000.0,\n",
       "     'gain_imbalance': 0.0,\n",
       "     'phase_imbalance': 0.0,\n",
       "     'gain_i': 1.0,\n",
       "     'gain_q': 1.0,\n",
       "     'offset_i': 0.0,\n",
       "     'offset_q': 0.0,\n",
       "     'inputs': [0],\n",
       "     'hardware_demodulation': True,\n",
       "     'integration_length': 1000,\n",
       "     'threshold': 0.0,\n",
       "     'threshold_rotation': 0.0,\n",
       "     'time_of_flight': 0},\n",
       "    {'id': 3,\n",
       "     'outputs': [0],\n",
       "     'hardware_modulation': True,\n",
       "     'intermediate_frequency': 500000000.0,\n",
       "     'gain_imbalance': 0.0,\n",
       "     'phase_imbalance': 0.0,\n",
       "     'gain_i': 1.0,\n",
       "     'gain_q': 1.0,\n",
       "     'offset_i': 0.0,\n",
       "     'offset_q': 0.0,\n",
       "     'inputs': [0],\n",
       "     'hardware_demodulation': True,\n",
       "     'integration_length': 1000,\n",
       "     'threshold': 0.0,\n",
       "     'threshold_rotation': 0.0,\n",
       "     'time_of_flight': 0},\n",
       "    {'id': 4,\n",
       "     'outputs': [0],\n",
       "     'hardware_modulation': True,\n",
       "     'intermediate_frequency': 500000000.0,\n",
       "     'gain_imbalance': 0.0,\n",
       "     'phase_imbalance': 0.0,\n",
       "     'gain_i': 1.0,\n",
       "     'gain_q': 1.0,\n",
       "     'offset_i': 0.0,\n",
       "     'offset_q': 0.0,\n",
       "     'inputs': [0],\n",
       "     'hardware_demodulation': True,\n",
       "     'integration_length': 1000,\n",
       "     'threshold': 0.0,\n",
       "     'threshold_rotation': 0.0,\n",
       "     'time_of_flight': 0},\n",
       "    {'id': 5,\n",
       "     'outputs': [0],\n",
       "     'hardware_modulation': True,\n",
       "     'intermediate_frequency': 500000000.0,\n",
       "     'gain_imbalance': 0.0,\n",
       "     'phase_imbalance': 0.0,\n",
       "     'gain_i': 1.0,\n",
       "     'gain_q': 1.0,\n",
       "     'offset_i': 0.0,\n",
       "     'offset_q': 0.0,\n",
       "     'inputs': [0],\n",
       "     'hardware_demodulation': True,\n",
       "     'integration_length': 1000,\n",
       "     'threshold': 0.0,\n",
       "     'threshold_rotation': 0.0,\n",
       "     'time_of_flight': 0}],\n",
       "   'inputs': [{'port': 0,\n",
       "     'attenuation': 0,\n",
       "     'offset_i': 0.0,\n",
       "     'offset_q': 0.0}]},\n",
       "  {'alias': 'qdac2',\n",
       "   'dacs': [{'id': 0,\n",
       "     'voltage': 0.0,\n",
       "     'span': <QDevilQDAC2Span.LOW: 'low'>,\n",
       "     'ramping_enabled': True,\n",
       "     'ramping_rate': 1.0,\n",
       "     'low_pass_filter': <QDevilQDAC2LowPassFilter.DC: 'dc'>},\n",
       "    {'id': 1,\n",
       "     'voltage': 0.0,\n",
       "     'span': <QDevilQDAC2Span.LOW: 'low'>,\n",
       "     'ramping_enabled': True,\n",
       "     'ramping_rate': 1.0,\n",
       "     'low_pass_filter': <QDevilQDAC2LowPassFilter.DC: 'dc'>},\n",
       "    {'id': 2,\n",
       "     'voltage': 0.0,\n",
       "     'span': <QDevilQDAC2Span.LOW: 'low'>,\n",
       "     'ramping_enabled': True,\n",
       "     'ramping_rate': 1.0,\n",
       "     'low_pass_filter': <QDevilQDAC2LowPassFilter.DC: 'dc'>},\n",
       "    {'id': 3,\n",
       "     'voltage': 0.0,\n",
       "     'span': <QDevilQDAC2Span.LOW: 'low'>,\n",
       "     'ramping_enabled': True,\n",
       "     'ramping_rate': 1.0,\n",
       "     'low_pass_filter': <QDevilQDAC2LowPassFilter.DC: 'dc'>},\n",
       "    {'id': 4,\n",
       "     'voltage': 0.0,\n",
       "     'span': <QDevilQDAC2Span.LOW: 'low'>,\n",
       "     'ramping_enabled': True,\n",
       "     'ramping_rate': 1.0,\n",
       "     'low_pass_filter': <QDevilQDAC2LowPassFilter.DC: 'dc'>},\n",
       "    {'id': 5,\n",
       "     'voltage': 0.0,\n",
       "     'span': <QDevilQDAC2Span.LOW: 'low'>,\n",
       "     'ramping_enabled': True,\n",
       "     'ramping_rate': 1.0,\n",
       "     'low_pass_filter': <QDevilQDAC2LowPassFilter.DC: 'dc'>},\n",
       "    {'id': 6,\n",
       "     'voltage': 0.0,\n",
       "     'span': <QDevilQDAC2Span.LOW: 'low'>,\n",
       "     'ramping_enabled': True,\n",
       "     'ramping_rate': 1.0,\n",
       "     'low_pass_filter': <QDevilQDAC2LowPassFilter.DC: 'dc'>},\n",
       "    {'id': 7,\n",
       "     'voltage': 0.0,\n",
       "     'span': <QDevilQDAC2Span.LOW: 'low'>,\n",
       "     'ramping_enabled': True,\n",
       "     'ramping_rate': 1.0,\n",
       "     'low_pass_filter': <QDevilQDAC2LowPassFilter.DC: 'dc'>},\n",
       "    {'id': 8,\n",
       "     'voltage': 0.0,\n",
       "     'span': <QDevilQDAC2Span.LOW: 'low'>,\n",
       "     'ramping_enabled': True,\n",
       "     'ramping_rate': 1.0,\n",
       "     'low_pass_filter': <QDevilQDAC2LowPassFilter.DC: 'dc'>},\n",
       "    {'id': 9,\n",
       "     'voltage': 0.0,\n",
       "     'span': <QDevilQDAC2Span.LOW: 'low'>,\n",
       "     'ramping_enabled': True,\n",
       "     'ramping_rate': 1.0,\n",
       "     'low_pass_filter': <QDevilQDAC2LowPassFilter.DC: 'dc'>},\n",
       "    {'id': 10,\n",
       "     'voltage': 0.0,\n",
       "     'span': <QDevilQDAC2Span.LOW: 'low'>,\n",
       "     'ramping_enabled': True,\n",
       "     'ramping_rate': 1.0,\n",
       "     'low_pass_filter': <QDevilQDAC2LowPassFilter.DC: 'dc'>},\n",
       "    {'id': 11,\n",
       "     'voltage': 0.0,\n",
       "     'span': <QDevilQDAC2Span.LOW: 'low'>,\n",
       "     'ramping_enabled': True,\n",
       "     'ramping_rate': 1.0,\n",
       "     'low_pass_filter': <QDevilQDAC2LowPassFilter.DC: 'dc'>},\n",
       "    {'id': 12,\n",
       "     'voltage': 0.0,\n",
       "     'span': <QDevilQDAC2Span.LOW: 'low'>,\n",
       "     'ramping_enabled': True,\n",
       "     'ramping_rate': 1.0,\n",
       "     'low_pass_filter': <QDevilQDAC2LowPassFilter.DC: 'dc'>},\n",
       "    {'id': 13,\n",
       "     'voltage': 0.0,\n",
       "     'span': <QDevilQDAC2Span.LOW: 'low'>,\n",
       "     'ramping_enabled': True,\n",
       "     'ramping_rate': 1.0,\n",
       "     'low_pass_filter': <QDevilQDAC2LowPassFilter.DC: 'dc'>},\n",
       "    {'id': 14,\n",
       "     'voltage': 0.0,\n",
       "     'span': <QDevilQDAC2Span.LOW: 'low'>,\n",
       "     'ramping_enabled': True,\n",
       "     'ramping_rate': 1.0,\n",
       "     'low_pass_filter': <QDevilQDAC2LowPassFilter.DC: 'dc'>},\n",
       "    {'id': 15,\n",
       "     'voltage': 0.0,\n",
       "     'span': <QDevilQDAC2Span.LOW: 'low'>,\n",
       "     'ramping_enabled': True,\n",
       "     'ramping_rate': 1.0,\n",
       "     'low_pass_filter': <QDevilQDAC2LowPassFilter.DC: 'dc'>},\n",
       "    {'id': 16,\n",
       "     'voltage': 0.0,\n",
       "     'span': <QDevilQDAC2Span.LOW: 'low'>,\n",
       "     'ramping_enabled': True,\n",
       "     'ramping_rate': 1.0,\n",
       "     'low_pass_filter': <QDevilQDAC2LowPassFilter.DC: 'dc'>},\n",
       "    {'id': 17,\n",
       "     'voltage': 0.0,\n",
       "     'span': <QDevilQDAC2Span.LOW: 'low'>,\n",
       "     'ramping_enabled': True,\n",
       "     'ramping_rate': 1.0,\n",
       "     'low_pass_filter': <QDevilQDAC2LowPassFilter.DC: 'dc'>},\n",
       "    {'id': 18,\n",
       "     'voltage': 0.0,\n",
       "     'span': <QDevilQDAC2Span.LOW: 'low'>,\n",
       "     'ramping_enabled': True,\n",
       "     'ramping_rate': 1.0,\n",
       "     'low_pass_filter': <QDevilQDAC2LowPassFilter.DC: 'dc'>},\n",
       "    {'id': 19,\n",
       "     'voltage': 0.0,\n",
       "     'span': <QDevilQDAC2Span.LOW: 'low'>,\n",
       "     'ramping_enabled': True,\n",
       "     'ramping_rate': 1.0,\n",
       "     'low_pass_filter': <QDevilQDAC2LowPassFilter.DC: 'dc'>},\n",
       "    {'id': 20,\n",
       "     'voltage': 0.0,\n",
       "     'span': <QDevilQDAC2Span.LOW: 'low'>,\n",
       "     'ramping_enabled': True,\n",
       "     'ramping_rate': 1.0,\n",
       "     'low_pass_filter': <QDevilQDAC2LowPassFilter.DC: 'dc'>},\n",
       "    {'id': 21,\n",
       "     'voltage': 0.0,\n",
       "     'span': <QDevilQDAC2Span.LOW: 'low'>,\n",
       "     'ramping_enabled': True,\n",
       "     'ramping_rate': 1.0,\n",
       "     'low_pass_filter': <QDevilQDAC2LowPassFilter.DC: 'dc'>},\n",
       "    {'id': 22,\n",
       "     'voltage': 0.0,\n",
       "     'span': <QDevilQDAC2Span.LOW: 'low'>,\n",
       "     'ramping_enabled': True,\n",
       "     'ramping_rate': 1.0,\n",
       "     'low_pass_filter': <QDevilQDAC2LowPassFilter.DC: 'dc'>},\n",
       "    {'id': 23,\n",
       "     'voltage': 0.0,\n",
       "     'span': <QDevilQDAC2Span.LOW: 'low'>,\n",
       "     'ramping_enabled': True,\n",
       "     'ramping_rate': 1.0,\n",
       "     'low_pass_filter': <QDevilQDAC2LowPassFilter.DC: 'dc'>}]},\n",
       "  {'alias': 'second_qdac2',\n",
       "   'dacs': [{'id': 0,\n",
       "     'voltage': 0.0,\n",
       "     'span': <QDevilQDAC2Span.LOW: 'low'>,\n",
       "     'ramping_enabled': True,\n",
       "     'ramping_rate': 1.0,\n",
       "     'low_pass_filter': <QDevilQDAC2LowPassFilter.DC: 'dc'>},\n",
       "    {'id': 1,\n",
       "     'voltage': 0.0,\n",
       "     'span': <QDevilQDAC2Span.LOW: 'low'>,\n",
       "     'ramping_enabled': True,\n",
       "     'ramping_rate': 1.0,\n",
       "     'low_pass_filter': <QDevilQDAC2LowPassFilter.DC: 'dc'>},\n",
       "    {'id': 2,\n",
       "     'voltage': 0.0,\n",
       "     'span': <QDevilQDAC2Span.LOW: 'low'>,\n",
       "     'ramping_enabled': True,\n",
       "     'ramping_rate': 1.0,\n",
       "     'low_pass_filter': <QDevilQDAC2LowPassFilter.DC: 'dc'>},\n",
       "    {'id': 3,\n",
       "     'voltage': 0.0,\n",
       "     'span': <QDevilQDAC2Span.LOW: 'low'>,\n",
       "     'ramping_enabled': True,\n",
       "     'ramping_rate': 1.0,\n",
       "     'low_pass_filter': <QDevilQDAC2LowPassFilter.DC: 'dc'>},\n",
       "    {'id': 4,\n",
       "     'voltage': 0.0,\n",
       "     'span': <QDevilQDAC2Span.LOW: 'low'>,\n",
       "     'ramping_enabled': True,\n",
       "     'ramping_rate': 1.0,\n",
       "     'low_pass_filter': <QDevilQDAC2LowPassFilter.DC: 'dc'>},\n",
       "    {'id': 5,\n",
       "     'voltage': 0.0,\n",
       "     'span': <QDevilQDAC2Span.LOW: 'low'>,\n",
       "     'ramping_enabled': True,\n",
       "     'ramping_rate': 1.0,\n",
       "     'low_pass_filter': <QDevilQDAC2LowPassFilter.DC: 'dc'>},\n",
       "    {'id': 6,\n",
       "     'voltage': 0.0,\n",
       "     'span': <QDevilQDAC2Span.LOW: 'low'>,\n",
       "     'ramping_enabled': True,\n",
       "     'ramping_rate': 1.0,\n",
       "     'low_pass_filter': <QDevilQDAC2LowPassFilter.DC: 'dc'>},\n",
       "    {'id': 7,\n",
       "     'voltage': 0.0,\n",
       "     'span': <QDevilQDAC2Span.LOW: 'low'>,\n",
       "     'ramping_enabled': True,\n",
       "     'ramping_rate': 1.0,\n",
       "     'low_pass_filter': <QDevilQDAC2LowPassFilter.DC: 'dc'>},\n",
       "    {'id': 8,\n",
       "     'voltage': 0.0,\n",
       "     'span': <QDevilQDAC2Span.LOW: 'low'>,\n",
       "     'ramping_enabled': True,\n",
       "     'ramping_rate': 1.0,\n",
       "     'low_pass_filter': <QDevilQDAC2LowPassFilter.DC: 'dc'>},\n",
       "    {'id': 9,\n",
       "     'voltage': 0.0,\n",
       "     'span': <QDevilQDAC2Span.LOW: 'low'>,\n",
       "     'ramping_enabled': True,\n",
       "     'ramping_rate': 1.0,\n",
       "     'low_pass_filter': <QDevilQDAC2LowPassFilter.DC: 'dc'>},\n",
       "    {'id': 10,\n",
       "     'voltage': 0.0,\n",
       "     'span': <QDevilQDAC2Span.LOW: 'low'>,\n",
       "     'ramping_enabled': True,\n",
       "     'ramping_rate': 1.0,\n",
       "     'low_pass_filter': <QDevilQDAC2LowPassFilter.DC: 'dc'>},\n",
       "    {'id': 11,\n",
       "     'voltage': 0.0,\n",
       "     'span': <QDevilQDAC2Span.LOW: 'low'>,\n",
       "     'ramping_enabled': True,\n",
       "     'ramping_rate': 1.0,\n",
       "     'low_pass_filter': <QDevilQDAC2LowPassFilter.DC: 'dc'>},\n",
       "    {'id': 12,\n",
       "     'voltage': 0.0,\n",
       "     'span': <QDevilQDAC2Span.LOW: 'low'>,\n",
       "     'ramping_enabled': True,\n",
       "     'ramping_rate': 1.0,\n",
       "     'low_pass_filter': <QDevilQDAC2LowPassFilter.DC: 'dc'>},\n",
       "    {'id': 13,\n",
       "     'voltage': 0.0,\n",
       "     'span': <QDevilQDAC2Span.LOW: 'low'>,\n",
       "     'ramping_enabled': True,\n",
       "     'ramping_rate': 1.0,\n",
       "     'low_pass_filter': <QDevilQDAC2LowPassFilter.DC: 'dc'>},\n",
       "    {'id': 14,\n",
       "     'voltage': 0.0,\n",
       "     'span': <QDevilQDAC2Span.LOW: 'low'>,\n",
       "     'ramping_enabled': True,\n",
       "     'ramping_rate': 1.0,\n",
       "     'low_pass_filter': <QDevilQDAC2LowPassFilter.DC: 'dc'>},\n",
       "    {'id': 15,\n",
       "     'voltage': 0.0,\n",
       "     'span': <QDevilQDAC2Span.LOW: 'low'>,\n",
       "     'ramping_enabled': True,\n",
       "     'ramping_rate': 1.0,\n",
       "     'low_pass_filter': <QDevilQDAC2LowPassFilter.DC: 'dc'>},\n",
       "    {'id': 16,\n",
       "     'voltage': 0.0,\n",
       "     'span': <QDevilQDAC2Span.LOW: 'low'>,\n",
       "     'ramping_enabled': True,\n",
       "     'ramping_rate': 1.0,\n",
       "     'low_pass_filter': <QDevilQDAC2LowPassFilter.DC: 'dc'>},\n",
       "    {'id': 17,\n",
       "     'voltage': 0.0,\n",
       "     'span': <QDevilQDAC2Span.LOW: 'low'>,\n",
       "     'ramping_enabled': True,\n",
       "     'ramping_rate': 1.0,\n",
       "     'low_pass_filter': <QDevilQDAC2LowPassFilter.DC: 'dc'>},\n",
       "    {'id': 18,\n",
       "     'voltage': 0.0,\n",
       "     'span': <QDevilQDAC2Span.LOW: 'low'>,\n",
       "     'ramping_enabled': True,\n",
       "     'ramping_rate': 1.0,\n",
       "     'low_pass_filter': <QDevilQDAC2LowPassFilter.DC: 'dc'>},\n",
       "    {'id': 19,\n",
       "     'voltage': 0.0,\n",
       "     'span': <QDevilQDAC2Span.LOW: 'low'>,\n",
       "     'ramping_enabled': True,\n",
       "     'ramping_rate': 1.0,\n",
       "     'low_pass_filter': <QDevilQDAC2LowPassFilter.DC: 'dc'>},\n",
       "    {'id': 20,\n",
       "     'voltage': 0.0,\n",
       "     'span': <QDevilQDAC2Span.LOW: 'low'>,\n",
       "     'ramping_enabled': True,\n",
       "     'ramping_rate': 1.0,\n",
       "     'low_pass_filter': <QDevilQDAC2LowPassFilter.DC: 'dc'>},\n",
       "    {'id': 21,\n",
       "     'voltage': 0.0,\n",
       "     'span': <QDevilQDAC2Span.LOW: 'low'>,\n",
       "     'ramping_enabled': True,\n",
       "     'ramping_rate': 1.0,\n",
       "     'low_pass_filter': <QDevilQDAC2LowPassFilter.DC: 'dc'>},\n",
       "    {'id': 22,\n",
       "     'voltage': 0.0,\n",
       "     'span': <QDevilQDAC2Span.LOW: 'low'>,\n",
       "     'ramping_enabled': True,\n",
       "     'ramping_rate': 1.0,\n",
       "     'low_pass_filter': <QDevilQDAC2LowPassFilter.DC: 'dc'>},\n",
       "    {'id': 23,\n",
       "     'voltage': 0.0,\n",
       "     'span': <QDevilQDAC2Span.LOW: 'low'>,\n",
       "     'ramping_enabled': True,\n",
       "     'ramping_rate': 1.0,\n",
       "     'low_pass_filter': <QDevilQDAC2LowPassFilter.DC: 'dc'>}]},\n",
       "  {'alias': 'sg100', 'power': 0.0, 'frequency': 1000000000.0, 'rf_on': False},\n",
       "  {'alias': 's4g',\n",
       "   'dacs': [{'id': 0,\n",
       "     'current': 0.0,\n",
       "     'span': <QbloxS4gSpan.MIN_BI: 'min_bi'>,\n",
       "     'ramping_enabled': True,\n",
       "     'ramping_rate': 0.001},\n",
       "    {'id': 1,\n",
       "     'current': 0.0,\n",
       "     'span': <QbloxS4gSpan.MIN_BI: 'min_bi'>,\n",
       "     'ramping_enabled': True,\n",
       "     'ramping_rate': 0.001},\n",
       "    {'id': 2,\n",
       "     'current': 0.0,\n",
       "     'span': <QbloxS4gSpan.MIN_BI: 'min_bi'>,\n",
       "     'ramping_enabled': True,\n",
       "     'ramping_rate': 0.001},\n",
       "    {'id': 3,\n",
       "     'current': 0.0,\n",
       "     'span': <QbloxS4gSpan.MIN_BI: 'min_bi'>,\n",
       "     'ramping_enabled': True,\n",
       "     'ramping_rate': 0.001}]},\n",
       "  {'alias': 'd5a',\n",
       "   'dacs': [{'id': 0,\n",
       "     'voltage': 0.0,\n",
       "     'span': <QbloxD5ASpan.BI_2V: 'bi_2V'>,\n",
       "     'ramping_enabled': True,\n",
       "     'ramping_rate': 0.1},\n",
       "    {'id': 1,\n",
       "     'voltage': 0.0,\n",
       "     'span': <QbloxD5ASpan.BI_2V: 'bi_2V'>,\n",
       "     'ramping_enabled': True,\n",
       "     'ramping_rate': 0.1},\n",
       "    {'id': 2,\n",
       "     'voltage': 0.0,\n",
       "     'span': <QbloxD5ASpan.BI_2V: 'bi_2V'>,\n",
       "     'ramping_enabled': True,\n",
       "     'ramping_rate': 0.1},\n",
       "    {'id': 3,\n",
       "     'voltage': 0.0,\n",
       "     'span': <QbloxD5ASpan.BI_2V: 'bi_2V'>,\n",
       "     'ramping_enabled': True,\n",
       "     'ramping_rate': 0.1},\n",
       "    {'id': 4,\n",
       "     'voltage': 0.0,\n",
       "     'span': <QbloxD5ASpan.BI_2V: 'bi_2V'>,\n",
       "     'ramping_enabled': True,\n",
       "     'ramping_rate': 0.1},\n",
       "    {'id': 5,\n",
       "     'voltage': 0.0,\n",
       "     'span': <QbloxD5ASpan.BI_2V: 'bi_2V'>,\n",
       "     'ramping_enabled': True,\n",
       "     'ramping_rate': 0.1},\n",
       "    {'id': 6,\n",
       "     'voltage': 0.0,\n",
       "     'span': <QbloxD5ASpan.BI_2V: 'bi_2V'>,\n",
       "     'ramping_enabled': True,\n",
       "     'ramping_rate': 0.1},\n",
       "    {'id': 7,\n",
       "     'voltage': 0.0,\n",
       "     'span': <QbloxD5ASpan.BI_2V: 'bi_2V'>,\n",
       "     'ramping_enabled': True,\n",
       "     'ramping_rate': 0.1},\n",
       "    {'id': 8,\n",
       "     'voltage': 0.0,\n",
       "     'span': <QbloxD5ASpan.BI_2V: 'bi_2V'>,\n",
       "     'ramping_enabled': True,\n",
       "     'ramping_rate': 0.1},\n",
       "    {'id': 9,\n",
       "     'voltage': 0.0,\n",
       "     'span': <QbloxD5ASpan.BI_2V: 'bi_2V'>,\n",
       "     'ramping_enabled': True,\n",
       "     'ramping_rate': 0.1},\n",
       "    {'id': 10,\n",
       "     'voltage': 0.0,\n",
       "     'span': <QbloxD5ASpan.BI_2V: 'bi_2V'>,\n",
       "     'ramping_enabled': True,\n",
       "     'ramping_rate': 0.1},\n",
       "    {'id': 11,\n",
       "     'voltage': 0.0,\n",
       "     'span': <QbloxD5ASpan.BI_2V: 'bi_2V'>,\n",
       "     'ramping_enabled': True,\n",
       "     'ramping_rate': 0.1},\n",
       "    {'id': 12,\n",
       "     'voltage': 0.0,\n",
       "     'span': <QbloxD5ASpan.BI_2V: 'bi_2V'>,\n",
       "     'ramping_enabled': True,\n",
       "     'ramping_rate': 0.1},\n",
       "    {'id': 13,\n",
       "     'voltage': 0.0,\n",
       "     'span': <QbloxD5ASpan.BI_2V: 'bi_2V'>,\n",
       "     'ramping_enabled': True,\n",
       "     'ramping_rate': 0.1},\n",
       "    {'id': 14,\n",
       "     'voltage': 0.0,\n",
       "     'span': <QbloxD5ASpan.BI_2V: 'bi_2V'>,\n",
       "     'ramping_enabled': True,\n",
       "     'ramping_rate': 0.1},\n",
       "    {'id': 15,\n",
       "     'voltage': 0.0,\n",
       "     'span': <QbloxD5ASpan.BI_2V: 'bi_2V'>,\n",
       "     'ramping_enabled': True,\n",
       "     'ramping_rate': 0.1}]}],\n",
       " 'instrument_controllers': [{'alias': 'qdac2_controller',\n",
       "   'connection': {'type': <ConnectionType.TCP_IP: 'tcp_ip'>,\n",
       "    'address': '168.0.0.1'},\n",
       "   'modules': [{'alias': 'qdac2', 'slot': 0}],\n",
       "   'reset': True},\n",
       "  {'alias': 'qblox_cluster',\n",
       "   'connection': {'type': <ConnectionType.TCP_IP: 'tcp_ip'>,\n",
       "    'address': '168.0.0.1'},\n",
       "   'modules': [{'alias': 'qcm', 'slot': 0},\n",
       "    {'alias': 'qrm', 'slot': 5},\n",
       "    {'alias': 'qcm-rf', 'slot': 10},\n",
       "    {'alias': 'qrm-rf', 'slot': 15}],\n",
       "   'reset': True,\n",
       "   'reference_clock': <ReferenceClock.INTERNAL: 'internal'>},\n",
       "  {'alias': 'spi-rack',\n",
       "   'connection': {'type': <ConnectionType.TCP_IP: 'tcp_ip'>,\n",
       "    'address': '168.0.0.1'},\n",
       "   'modules': [{'alias': 'd5a', 'slot': 2}, {'alias': 's4g', 'slot': 10}],\n",
       "   'reset': True}],\n",
       " 'buses': [{'alias': 'dc_flux_0', 'instruments': ['d5a'], 'channels': [0]}],\n",
       " 'digital': {'minimum_clock_time': 4,\n",
       "  'delay_before_readout': 0,\n",
       "  'topology': [],\n",
       "  'gates': {'DRAG(0)': [{'bus': 'drive_q0',\n",
       "     'pulse': {'amplitude': 1.0,\n",
       "      'phase': 40.0,\n",
       "      'duration': 100,\n",
       "      'shape': {},\n",
       "      'options': {}},\n",
       "     'wait_time': 0}]},\n",
       "  'buses': {'drive_q0': {'line': <Line.DRIVE: 'drive'>,\n",
       "    'qubits': [0],\n",
       "    'delay': 0,\n",
       "    'distortions': [],\n",
       "    'weights_i': [],\n",
       "    'weights_q': [],\n",
       "    'weighed_acq_enabled': False}}},\n",
       " 'analog': {'flux_control_topology': [{'flux': 'phix_q0', 'bus': 'flux_q0_x'},\n",
       "   {'flux': 'phiz_q0', 'bus': 'flux_q0_z'}]}}"
      ]
     },
     "execution_count": 27,
     "metadata": {},
     "output_type": "execute_result"
    }
   ],
   "source": [
    "platform.to_dict()"
   ]
  },
  {
   "cell_type": "code",
   "execution_count": null,
   "metadata": {},
   "outputs": [
    {
     "name": "stdout",
     "output_type": "stream",
     "text": [
      "{<Parameter.GAIN_I: 'gain_i'>, <Parameter.PHASE_IMBALANCE: 'phase_imbalance'>, <Parameter.OFFSET: 'offset'>, <Parameter.GAIN_IMBALANCE: 'gain_imbalance'>, <Parameter.GAIN_Q: 'gain_q'>, <Parameter.OFFSET_I: 'offset_i'>, <Parameter.OFFSET_Q: 'offset_q'>, <Parameter.HARDWARE_MODULATION: 'hardware_modulation'>, <Parameter.IF: 'intermediate_frequency'>}\n"
     ]
    }
   ],
   "source": [
    "print(qcm.get_parameters())"
   ]
  },
  {
   "cell_type": "code",
   "execution_count": null,
   "metadata": {},
   "outputs": [
    {
     "ename": "TypeError",
     "evalue": "Instrument.set_parameter() takes 3 positional arguments but 4 were given",
     "output_type": "error",
     "traceback": [
      "\u001b[0;31m---------------------------------------------------------------------------\u001b[0m",
      "\u001b[0;31mTypeError\u001b[0m                                 Traceback (most recent call last)",
      "Cell \u001b[0;32mIn[29], line 3\u001b[0m\n\u001b[1;32m      1\u001b[0m qcm\u001b[38;5;241m.\u001b[39mset_parameter(parameter\u001b[38;5;241m=\u001b[39mParameter\u001b[38;5;241m.\u001b[39mOFFSET, value\u001b[38;5;241m=\u001b[39m\u001b[38;5;241m0.5\u001b[39m, output\u001b[38;5;241m=\u001b[39m\u001b[38;5;241m0\u001b[39m)\n\u001b[1;32m      2\u001b[0m qcm\u001b[38;5;241m.\u001b[39mset_parameter(parameter\u001b[38;5;241m=\u001b[39mParameter\u001b[38;5;241m.\u001b[39mGAIN_I, value\u001b[38;5;241m=\u001b[39m\u001b[38;5;241m0.5\u001b[39m, channel\u001b[38;5;241m=\u001b[39m\u001b[38;5;241m2\u001b[39m)\n\u001b[0;32m----> 3\u001b[0m \u001b[43mqcm\u001b[49m\u001b[38;5;241;43m.\u001b[39;49m\u001b[43mset_parameter\u001b[49m\u001b[43m(\u001b[49m\u001b[43mParameter\u001b[49m\u001b[38;5;241;43m.\u001b[39;49m\u001b[43mGAIN_I\u001b[49m\u001b[43m,\u001b[49m\u001b[43m \u001b[49m\u001b[38;5;241;43m0.5\u001b[39;49m\u001b[43m,\u001b[49m\u001b[43m \u001b[49m\u001b[38;5;241;43m0\u001b[39;49m\u001b[43m)\u001b[49m\n\u001b[1;32m      4\u001b[0m qcm\n",
      "\u001b[0;31mTypeError\u001b[0m: Instrument.set_parameter() takes 3 positional arguments but 4 were given"
     ]
    }
   ],
   "source": [
    "qcm.set_parameter(parameter=Parameter.OFFSET, value=0.5, output=0)\n",
    "qcm.set_parameter(parameter=Parameter.GAIN_I, value=0.5, channel=2)\n",
    "# qcm.set_parameter(Parameter.GAIN_I, 0.5, 0)\n",
    "qcm"
   ]
  },
  {
   "cell_type": "code",
   "execution_count": null,
   "metadata": {},
   "outputs": [],
   "source": [
    "wrong_controller = QDevilQDAC2Controller(\n",
    "    settings=QDevilQDAC2ControllerSettings(alias=\"wrong_controller\", modules=[{\"alias\": \"non_existant\", \"slot\": 0}])\n",
    ")"
   ]
  },
  {
   "cell_type": "code",
   "execution_count": null,
   "metadata": {},
   "outputs": [
    {
     "data": {
      "text/plain": [
       "Runcard(name='saruman', instruments=[QDevilQDAC2RuncardInstrument(type=<InstrumentType.QDEVIL_QDAC2: 'qdac2'>, settings=QDevilQDAC2Settings(alias='qdac2', dacs=[QDevilQDAC2ChannelSettings(id=0, voltage=0.0, span=<QDevilQDAC2Span.LOW: 'low'>, ramping_enabled=True, ramping_rate=1.0, low_pass_filter=<QDevilQDAC2LowPassFilter.DC: 'dc'>), QDevilQDAC2ChannelSettings(id=1, voltage=0.0, span=<QDevilQDAC2Span.LOW: 'low'>, ramping_enabled=True, ramping_rate=1.0, low_pass_filter=<QDevilQDAC2LowPassFilter.DC: 'dc'>), QDevilQDAC2ChannelSettings(id=2, voltage=0.0, span=<QDevilQDAC2Span.LOW: 'low'>, ramping_enabled=True, ramping_rate=1.0, low_pass_filter=<QDevilQDAC2LowPassFilter.DC: 'dc'>), QDevilQDAC2ChannelSettings(id=3, voltage=0.0, span=<QDevilQDAC2Span.LOW: 'low'>, ramping_enabled=True, ramping_rate=1.0, low_pass_filter=<QDevilQDAC2LowPassFilter.DC: 'dc'>), QDevilQDAC2ChannelSettings(id=4, voltage=0.0, span=<QDevilQDAC2Span.LOW: 'low'>, ramping_enabled=True, ramping_rate=1.0, low_pass_filter=<QDevilQDAC2LowPassFilter.DC: 'dc'>), QDevilQDAC2ChannelSettings(id=5, voltage=0.0, span=<QDevilQDAC2Span.LOW: 'low'>, ramping_enabled=True, ramping_rate=1.0, low_pass_filter=<QDevilQDAC2LowPassFilter.DC: 'dc'>), QDevilQDAC2ChannelSettings(id=6, voltage=0.0, span=<QDevilQDAC2Span.LOW: 'low'>, ramping_enabled=True, ramping_rate=1.0, low_pass_filter=<QDevilQDAC2LowPassFilter.DC: 'dc'>), QDevilQDAC2ChannelSettings(id=7, voltage=0.0, span=<QDevilQDAC2Span.LOW: 'low'>, ramping_enabled=True, ramping_rate=1.0, low_pass_filter=<QDevilQDAC2LowPassFilter.DC: 'dc'>), QDevilQDAC2ChannelSettings(id=8, voltage=0.0, span=<QDevilQDAC2Span.LOW: 'low'>, ramping_enabled=True, ramping_rate=1.0, low_pass_filter=<QDevilQDAC2LowPassFilter.DC: 'dc'>), QDevilQDAC2ChannelSettings(id=9, voltage=0.0, span=<QDevilQDAC2Span.LOW: 'low'>, ramping_enabled=True, ramping_rate=1.0, low_pass_filter=<QDevilQDAC2LowPassFilter.DC: 'dc'>), QDevilQDAC2ChannelSettings(id=10, voltage=0.0, span=<QDevilQDAC2Span.LOW: 'low'>, ramping_enabled=True, ramping_rate=1.0, low_pass_filter=<QDevilQDAC2LowPassFilter.DC: 'dc'>), QDevilQDAC2ChannelSettings(id=11, voltage=0.0, span=<QDevilQDAC2Span.LOW: 'low'>, ramping_enabled=True, ramping_rate=1.0, low_pass_filter=<QDevilQDAC2LowPassFilter.DC: 'dc'>), QDevilQDAC2ChannelSettings(id=12, voltage=0.0, span=<QDevilQDAC2Span.LOW: 'low'>, ramping_enabled=True, ramping_rate=1.0, low_pass_filter=<QDevilQDAC2LowPassFilter.DC: 'dc'>), QDevilQDAC2ChannelSettings(id=13, voltage=0.0, span=<QDevilQDAC2Span.LOW: 'low'>, ramping_enabled=True, ramping_rate=1.0, low_pass_filter=<QDevilQDAC2LowPassFilter.DC: 'dc'>), QDevilQDAC2ChannelSettings(id=14, voltage=0.0, span=<QDevilQDAC2Span.LOW: 'low'>, ramping_enabled=True, ramping_rate=1.0, low_pass_filter=<QDevilQDAC2LowPassFilter.DC: 'dc'>), QDevilQDAC2ChannelSettings(id=15, voltage=0.0, span=<QDevilQDAC2Span.LOW: 'low'>, ramping_enabled=True, ramping_rate=1.0, low_pass_filter=<QDevilQDAC2LowPassFilter.DC: 'dc'>), QDevilQDAC2ChannelSettings(id=16, voltage=0.0, span=<QDevilQDAC2Span.LOW: 'low'>, ramping_enabled=True, ramping_rate=1.0, low_pass_filter=<QDevilQDAC2LowPassFilter.DC: 'dc'>), QDevilQDAC2ChannelSettings(id=17, voltage=0.0, span=<QDevilQDAC2Span.LOW: 'low'>, ramping_enabled=True, ramping_rate=1.0, low_pass_filter=<QDevilQDAC2LowPassFilter.DC: 'dc'>), QDevilQDAC2ChannelSettings(id=18, voltage=0.0, span=<QDevilQDAC2Span.LOW: 'low'>, ramping_enabled=True, ramping_rate=1.0, low_pass_filter=<QDevilQDAC2LowPassFilter.DC: 'dc'>), QDevilQDAC2ChannelSettings(id=19, voltage=0.0, span=<QDevilQDAC2Span.LOW: 'low'>, ramping_enabled=True, ramping_rate=1.0, low_pass_filter=<QDevilQDAC2LowPassFilter.DC: 'dc'>), QDevilQDAC2ChannelSettings(id=20, voltage=0.0, span=<QDevilQDAC2Span.LOW: 'low'>, ramping_enabled=True, ramping_rate=1.0, low_pass_filter=<QDevilQDAC2LowPassFilter.DC: 'dc'>), QDevilQDAC2ChannelSettings(id=21, voltage=0.0, span=<QDevilQDAC2Span.LOW: 'low'>, ramping_enabled=True, ramping_rate=1.0, low_pass_filter=<QDevilQDAC2LowPassFilter.DC: 'dc'>), QDevilQDAC2ChannelSettings(id=22, voltage=0.0, span=<QDevilQDAC2Span.LOW: 'low'>, ramping_enabled=True, ramping_rate=1.0, low_pass_filter=<QDevilQDAC2LowPassFilter.DC: 'dc'>), QDevilQDAC2ChannelSettings(id=23, voltage=0.0, span=<QDevilQDAC2Span.LOW: 'low'>, ramping_enabled=True, ramping_rate=1.0, low_pass_filter=<QDevilQDAC2LowPassFilter.DC: 'dc'>)])), QDevilQDAC2RuncardInstrument(type=<InstrumentType.QDEVIL_QDAC2: 'qdac2'>, settings=QDevilQDAC2Settings(alias='second_qdac2', dacs=[QDevilQDAC2ChannelSettings(id=0, voltage=0.0, span=<QDevilQDAC2Span.LOW: 'low'>, ramping_enabled=True, ramping_rate=1.0, low_pass_filter=<QDevilQDAC2LowPassFilter.DC: 'dc'>), QDevilQDAC2ChannelSettings(id=1, voltage=0.0, span=<QDevilQDAC2Span.LOW: 'low'>, ramping_enabled=True, ramping_rate=1.0, low_pass_filter=<QDevilQDAC2LowPassFilter.DC: 'dc'>), QDevilQDAC2ChannelSettings(id=2, voltage=0.0, span=<QDevilQDAC2Span.LOW: 'low'>, ramping_enabled=True, ramping_rate=1.0, low_pass_filter=<QDevilQDAC2LowPassFilter.DC: 'dc'>), QDevilQDAC2ChannelSettings(id=3, voltage=0.0, span=<QDevilQDAC2Span.LOW: 'low'>, ramping_enabled=True, ramping_rate=1.0, low_pass_filter=<QDevilQDAC2LowPassFilter.DC: 'dc'>), QDevilQDAC2ChannelSettings(id=4, voltage=0.0, span=<QDevilQDAC2Span.LOW: 'low'>, ramping_enabled=True, ramping_rate=1.0, low_pass_filter=<QDevilQDAC2LowPassFilter.DC: 'dc'>), QDevilQDAC2ChannelSettings(id=5, voltage=0.0, span=<QDevilQDAC2Span.LOW: 'low'>, ramping_enabled=True, ramping_rate=1.0, low_pass_filter=<QDevilQDAC2LowPassFilter.DC: 'dc'>), QDevilQDAC2ChannelSettings(id=6, voltage=0.0, span=<QDevilQDAC2Span.LOW: 'low'>, ramping_enabled=True, ramping_rate=1.0, low_pass_filter=<QDevilQDAC2LowPassFilter.DC: 'dc'>), QDevilQDAC2ChannelSettings(id=7, voltage=0.0, span=<QDevilQDAC2Span.LOW: 'low'>, ramping_enabled=True, ramping_rate=1.0, low_pass_filter=<QDevilQDAC2LowPassFilter.DC: 'dc'>), QDevilQDAC2ChannelSettings(id=8, voltage=0.0, span=<QDevilQDAC2Span.LOW: 'low'>, ramping_enabled=True, ramping_rate=1.0, low_pass_filter=<QDevilQDAC2LowPassFilter.DC: 'dc'>), QDevilQDAC2ChannelSettings(id=9, voltage=0.0, span=<QDevilQDAC2Span.LOW: 'low'>, ramping_enabled=True, ramping_rate=1.0, low_pass_filter=<QDevilQDAC2LowPassFilter.DC: 'dc'>), QDevilQDAC2ChannelSettings(id=10, voltage=0.0, span=<QDevilQDAC2Span.LOW: 'low'>, ramping_enabled=True, ramping_rate=1.0, low_pass_filter=<QDevilQDAC2LowPassFilter.DC: 'dc'>), QDevilQDAC2ChannelSettings(id=11, voltage=0.0, span=<QDevilQDAC2Span.LOW: 'low'>, ramping_enabled=True, ramping_rate=1.0, low_pass_filter=<QDevilQDAC2LowPassFilter.DC: 'dc'>), QDevilQDAC2ChannelSettings(id=12, voltage=0.0, span=<QDevilQDAC2Span.LOW: 'low'>, ramping_enabled=True, ramping_rate=1.0, low_pass_filter=<QDevilQDAC2LowPassFilter.DC: 'dc'>), QDevilQDAC2ChannelSettings(id=13, voltage=0.0, span=<QDevilQDAC2Span.LOW: 'low'>, ramping_enabled=True, ramping_rate=1.0, low_pass_filter=<QDevilQDAC2LowPassFilter.DC: 'dc'>), QDevilQDAC2ChannelSettings(id=14, voltage=0.0, span=<QDevilQDAC2Span.LOW: 'low'>, ramping_enabled=True, ramping_rate=1.0, low_pass_filter=<QDevilQDAC2LowPassFilter.DC: 'dc'>), QDevilQDAC2ChannelSettings(id=15, voltage=0.0, span=<QDevilQDAC2Span.LOW: 'low'>, ramping_enabled=True, ramping_rate=1.0, low_pass_filter=<QDevilQDAC2LowPassFilter.DC: 'dc'>), QDevilQDAC2ChannelSettings(id=16, voltage=0.0, span=<QDevilQDAC2Span.LOW: 'low'>, ramping_enabled=True, ramping_rate=1.0, low_pass_filter=<QDevilQDAC2LowPassFilter.DC: 'dc'>), QDevilQDAC2ChannelSettings(id=17, voltage=0.0, span=<QDevilQDAC2Span.LOW: 'low'>, ramping_enabled=True, ramping_rate=1.0, low_pass_filter=<QDevilQDAC2LowPassFilter.DC: 'dc'>), QDevilQDAC2ChannelSettings(id=18, voltage=0.0, span=<QDevilQDAC2Span.LOW: 'low'>, ramping_enabled=True, ramping_rate=1.0, low_pass_filter=<QDevilQDAC2LowPassFilter.DC: 'dc'>), QDevilQDAC2ChannelSettings(id=19, voltage=0.0, span=<QDevilQDAC2Span.LOW: 'low'>, ramping_enabled=True, ramping_rate=1.0, low_pass_filter=<QDevilQDAC2LowPassFilter.DC: 'dc'>), QDevilQDAC2ChannelSettings(id=20, voltage=0.0, span=<QDevilQDAC2Span.LOW: 'low'>, ramping_enabled=True, ramping_rate=1.0, low_pass_filter=<QDevilQDAC2LowPassFilter.DC: 'dc'>), QDevilQDAC2ChannelSettings(id=21, voltage=0.0, span=<QDevilQDAC2Span.LOW: 'low'>, ramping_enabled=True, ramping_rate=1.0, low_pass_filter=<QDevilQDAC2LowPassFilter.DC: 'dc'>), QDevilQDAC2ChannelSettings(id=22, voltage=0.0, span=<QDevilQDAC2Span.LOW: 'low'>, ramping_enabled=True, ramping_rate=1.0, low_pass_filter=<QDevilQDAC2LowPassFilter.DC: 'dc'>), QDevilQDAC2ChannelSettings(id=23, voltage=0.0, span=<QDevilQDAC2Span.LOW: 'low'>, ramping_enabled=True, ramping_rate=1.0, low_pass_filter=<QDevilQDAC2LowPassFilter.DC: 'dc'>)])), RohdeSchwarzSG100RuncardInstrument(type=<InstrumentType.ROHDE_SCHWARZ_SG100: 'sg100'>, settings=RohdeSchwarzSG100Settings(alias='sg100', power=0.0, frequency=1000000000.0, rf_on=False))], instrument_controllers=[QDevilQDAC2RuncardInstrumentController(type=<InstrumentControllerType.QDEVIL_QDAC2_CONTROLLER: 'qdac2_controller'>, settings=QDevilQDAC2ControllerSettings(alias='qdac2_controller', connection=ConnectionSettings(type=<ConnectionType.TCP_IP: 'tcp_ip'>, address='168.0.0.1'), modules=[InstrumentModule(alias='qdac2', slot=0)], reset=True))])"
      ]
     },
     "execution_count": 16,
     "metadata": {},
     "output_type": "execute_result"
    }
   ],
   "source": [
    "loaded_runcard = Runcard.load_from(\"runcard.yml\")\n",
    "loaded_runcard"
   ]
  },
  {
   "cell_type": "code",
   "execution_count": null,
   "metadata": {},
   "outputs": [
    {
     "ename": "ValidationError",
     "evalue": "1 validation error for Runcard\n  Value error, Instrument 'non_existant' of controller wrong_controller not found in runcard instruments. [type=value_error, input_value=Runcard(name='saruman', i...slot=0)], reset=True))]), input_type=Runcard]\n    For further information visit https://errors.pydantic.dev/2.9/v/value_error",
     "output_type": "error",
     "traceback": [
      "\u001b[0;31m---------------------------------------------------------------------------\u001b[0m",
      "\u001b[0;31mValidationError\u001b[0m                           Traceback (most recent call last)",
      "Cell \u001b[0;32mIn[14], line 1\u001b[0m\n\u001b[0;32m----> 1\u001b[0m \u001b[43mruncard\u001b[49m\u001b[38;5;241;43m.\u001b[39;49m\u001b[43madd_instrument_controller\u001b[49m\u001b[43m(\u001b[49m\u001b[43mwrong_controller\u001b[49m\u001b[43m)\u001b[49m\n",
      "File \u001b[0;32m~/projects/qililab/src/qililab/runcard/runcard.py:87\u001b[0m, in \u001b[0;36mRuncard.add_instrument_controller\u001b[0;34m(self, instrument_controller)\u001b[0m\n\u001b[1;32m     85\u001b[0m \u001b[38;5;28;01mexcept\u001b[39;00m ValidationError \u001b[38;5;28;01mas\u001b[39;00m e:\n\u001b[1;32m     86\u001b[0m     \u001b[38;5;28mself\u001b[39m\u001b[38;5;241m.\u001b[39mremove_instrument_controller(instrument_controller\u001b[38;5;241m.\u001b[39msettings\u001b[38;5;241m.\u001b[39malias)\n\u001b[0;32m---> 87\u001b[0m     \u001b[38;5;28;01mraise\u001b[39;00m e\n",
      "File \u001b[0;32m~/projects/qililab/src/qililab/runcard/runcard.py:84\u001b[0m, in \u001b[0;36mRuncard.add_instrument_controller\u001b[0;34m(self, instrument_controller)\u001b[0m\n\u001b[1;32m     82\u001b[0m \u001b[38;5;28;01mtry\u001b[39;00m:\n\u001b[1;32m     83\u001b[0m     \u001b[38;5;28mself\u001b[39m\u001b[38;5;241m.\u001b[39minstrument_controllers\u001b[38;5;241m.\u001b[39mappend(instrument_controller\u001b[38;5;241m.\u001b[39mto_runcard())\n\u001b[0;32m---> 84\u001b[0m     \u001b[43mRuncard\u001b[49m\u001b[38;5;241;43m.\u001b[39;49m\u001b[43mmodel_validate\u001b[49m\u001b[43m(\u001b[49m\u001b[38;5;28;43mself\u001b[39;49m\u001b[43m)\u001b[49m\n\u001b[1;32m     85\u001b[0m \u001b[38;5;28;01mexcept\u001b[39;00m ValidationError \u001b[38;5;28;01mas\u001b[39;00m e:\n\u001b[1;32m     86\u001b[0m     \u001b[38;5;28mself\u001b[39m\u001b[38;5;241m.\u001b[39mremove_instrument_controller(instrument_controller\u001b[38;5;241m.\u001b[39msettings\u001b[38;5;241m.\u001b[39malias)\n",
      "File \u001b[0;32m~/conda/envs/qililab/lib/python3.10/site-packages/pydantic/main.py:596\u001b[0m, in \u001b[0;36mBaseModel.model_validate\u001b[0;34m(cls, obj, strict, from_attributes, context)\u001b[0m\n\u001b[1;32m    594\u001b[0m \u001b[38;5;66;03m# `__tracebackhide__` tells pytest and some other tools to omit this function from tracebacks\u001b[39;00m\n\u001b[1;32m    595\u001b[0m __tracebackhide__ \u001b[38;5;241m=\u001b[39m \u001b[38;5;28;01mTrue\u001b[39;00m\n\u001b[0;32m--> 596\u001b[0m \u001b[38;5;28;01mreturn\u001b[39;00m \u001b[38;5;28;43mcls\u001b[39;49m\u001b[38;5;241;43m.\u001b[39;49m\u001b[43m__pydantic_validator__\u001b[49m\u001b[38;5;241;43m.\u001b[39;49m\u001b[43mvalidate_python\u001b[49m\u001b[43m(\u001b[49m\n\u001b[1;32m    597\u001b[0m \u001b[43m    \u001b[49m\u001b[43mobj\u001b[49m\u001b[43m,\u001b[49m\u001b[43m \u001b[49m\u001b[43mstrict\u001b[49m\u001b[38;5;241;43m=\u001b[39;49m\u001b[43mstrict\u001b[49m\u001b[43m,\u001b[49m\u001b[43m \u001b[49m\u001b[43mfrom_attributes\u001b[49m\u001b[38;5;241;43m=\u001b[39;49m\u001b[43mfrom_attributes\u001b[49m\u001b[43m,\u001b[49m\u001b[43m \u001b[49m\u001b[43mcontext\u001b[49m\u001b[38;5;241;43m=\u001b[39;49m\u001b[43mcontext\u001b[49m\n\u001b[1;32m    598\u001b[0m \u001b[43m\u001b[49m\u001b[43m)\u001b[49m\n",
      "\u001b[0;31mValidationError\u001b[0m: 1 validation error for Runcard\n  Value error, Instrument 'non_existant' of controller wrong_controller not found in runcard instruments. [type=value_error, input_value=Runcard(name='saruman', i...slot=0)], reset=True))]), input_type=Runcard]\n    For further information visit https://errors.pydantic.dev/2.9/v/value_error"
     ]
    }
   ],
   "source": [
    "runcard.add_instrument_controller(wrong_controller)"
   ]
  }
 ],
 "metadata": {
  "kernelspec": {
   "display_name": "qililab",
   "language": "python",
   "name": "python3"
  },
  "language_info": {
   "codemirror_mode": {
    "name": "ipython",
    "version": 3
   },
   "file_extension": ".py",
   "mimetype": "text/x-python",
   "name": "python",
   "nbconvert_exporter": "python",
   "pygments_lexer": "ipython3",
   "version": "3.10.14"
  }
 },
 "nbformat": 4,
 "nbformat_minor": 2
}
