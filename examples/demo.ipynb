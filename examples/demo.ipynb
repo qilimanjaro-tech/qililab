{
 "cells": [
  {
   "cell_type": "code",
   "execution_count": 1,
   "metadata": {},
   "outputs": [
    {
     "name": "stdout",
     "output_type": "stream",
     "text": [
      "2024-11-21 17:07:51,745 - qm - INFO     - Starting session: 74a42831-ecbb-4a30-92a9-6150a811403e\n"
     ]
    }
   ],
   "source": [
    "from qililab.instrument_controllers.qdevil_qdac2_controller import QDevilQDAC2Controller\n",
    "from qililab.instruments.qdevil_qdac2 import QDevilQDAC2\n",
    "from qililab.instruments.rohde_schwarz_sg100 import RohdeSchwarzSG100\n",
    "from qililab.runcard import Runcard\n",
    "from qililab.settings.instrument_controllers import QDevilQDAC2ControllerSettings"
   ]
  },
  {
   "cell_type": "code",
   "execution_count": 2,
   "metadata": {},
   "outputs": [],
   "source": [
    "qdac2 = QDevilQDAC2()"
   ]
  },
  {
   "cell_type": "code",
   "execution_count": 3,
   "metadata": {},
   "outputs": [],
   "source": [
    "second_qdac2 = QDevilQDAC2()\n",
    "second_qdac2.settings.alias = \"second_qdac2\""
   ]
  },
  {
   "cell_type": "code",
   "execution_count": 4,
   "metadata": {},
   "outputs": [
    {
     "data": {
      "text/plain": [
       "QDevilQDAC2Controller(settings=alias='qdac2_controller' connection=ConnectionSettings(type=<ConnectionType.TCP_IP: 'tcp_ip'>, address='168.0.0.1') modules=[{'alias': 'qdac2', 'slot': 1}] reset=True, modules=[])"
      ]
     },
     "execution_count": 4,
     "metadata": {},
     "output_type": "execute_result"
    }
   ],
   "source": [
    "qdac2_controller = QDevilQDAC2Controller()\n",
    "qdac2_controller.settings.modules.append({\"alias\": \"qdac2\", \"slot\": 1})\n",
    "qdac2_controller"
   ]
  },
  {
   "cell_type": "code",
   "execution_count": 5,
   "metadata": {},
   "outputs": [
    {
     "data": {
      "text/plain": [
       "Runcard(name='saruman', instruments=[], instrument_controllers=[])"
      ]
     },
     "execution_count": 5,
     "metadata": {},
     "output_type": "execute_result"
    }
   ],
   "source": [
    "runcard = Runcard(name=\"saruman\")\n",
    "runcard"
   ]
  },
  {
   "cell_type": "code",
   "execution_count": 6,
   "metadata": {},
   "outputs": [],
   "source": [
    "runcard.add_instrument(qdac2)\n",
    "runcard.add_instrument(second_qdac2)"
   ]
  },
  {
   "cell_type": "code",
   "execution_count": 7,
   "metadata": {},
   "outputs": [],
   "source": [
    "sg100 = RohdeSchwarzSG100()"
   ]
  },
  {
   "cell_type": "code",
   "execution_count": 8,
   "metadata": {},
   "outputs": [],
   "source": [
    "runcard.add_instrument(sg100)"
   ]
  },
  {
   "cell_type": "code",
   "execution_count": 9,
   "metadata": {},
   "outputs": [
    {
     "data": {
      "text/plain": [
       "QDevilQDAC2Controller(settings=alias='qdac2_controller' connection=ConnectionSettings(type=<ConnectionType.TCP_IP: 'tcp_ip'>, address='168.0.0.1') modules=[InstrumentModule(alias='qdac2', slot=0)] reset=True, modules=[QDevilQDAC2(settings=alias='qdac2' dacs=[QDevilQDAC2ChannelSettings(id=0, voltage=0.0, span=<QDevilQDAC2Span.LOW: 'low'>, ramping_enabled=True, ramping_rate=1.0, low_pass_filter=<QDevilQDAC2LowPassFilter.DC: 'dc'>), QDevilQDAC2ChannelSettings(id=1, voltage=0.0, span=<QDevilQDAC2Span.LOW: 'low'>, ramping_enabled=True, ramping_rate=1.0, low_pass_filter=<QDevilQDAC2LowPassFilter.DC: 'dc'>), QDevilQDAC2ChannelSettings(id=2, voltage=0.0, span=<QDevilQDAC2Span.LOW: 'low'>, ramping_enabled=True, ramping_rate=1.0, low_pass_filter=<QDevilQDAC2LowPassFilter.DC: 'dc'>), QDevilQDAC2ChannelSettings(id=3, voltage=0.0, span=<QDevilQDAC2Span.LOW: 'low'>, ramping_enabled=True, ramping_rate=1.0, low_pass_filter=<QDevilQDAC2LowPassFilter.DC: 'dc'>), QDevilQDAC2ChannelSettings(id=4, voltage=0.0, span=<QDevilQDAC2Span.LOW: 'low'>, ramping_enabled=True, ramping_rate=1.0, low_pass_filter=<QDevilQDAC2LowPassFilter.DC: 'dc'>), QDevilQDAC2ChannelSettings(id=5, voltage=0.0, span=<QDevilQDAC2Span.LOW: 'low'>, ramping_enabled=True, ramping_rate=1.0, low_pass_filter=<QDevilQDAC2LowPassFilter.DC: 'dc'>), QDevilQDAC2ChannelSettings(id=6, voltage=0.0, span=<QDevilQDAC2Span.LOW: 'low'>, ramping_enabled=True, ramping_rate=1.0, low_pass_filter=<QDevilQDAC2LowPassFilter.DC: 'dc'>), QDevilQDAC2ChannelSettings(id=7, voltage=0.0, span=<QDevilQDAC2Span.LOW: 'low'>, ramping_enabled=True, ramping_rate=1.0, low_pass_filter=<QDevilQDAC2LowPassFilter.DC: 'dc'>), QDevilQDAC2ChannelSettings(id=8, voltage=0.0, span=<QDevilQDAC2Span.LOW: 'low'>, ramping_enabled=True, ramping_rate=1.0, low_pass_filter=<QDevilQDAC2LowPassFilter.DC: 'dc'>), QDevilQDAC2ChannelSettings(id=9, voltage=0.0, span=<QDevilQDAC2Span.LOW: 'low'>, ramping_enabled=True, ramping_rate=1.0, low_pass_filter=<QDevilQDAC2LowPassFilter.DC: 'dc'>), QDevilQDAC2ChannelSettings(id=10, voltage=0.0, span=<QDevilQDAC2Span.LOW: 'low'>, ramping_enabled=True, ramping_rate=1.0, low_pass_filter=<QDevilQDAC2LowPassFilter.DC: 'dc'>), QDevilQDAC2ChannelSettings(id=11, voltage=0.0, span=<QDevilQDAC2Span.LOW: 'low'>, ramping_enabled=True, ramping_rate=1.0, low_pass_filter=<QDevilQDAC2LowPassFilter.DC: 'dc'>), QDevilQDAC2ChannelSettings(id=12, voltage=0.0, span=<QDevilQDAC2Span.LOW: 'low'>, ramping_enabled=True, ramping_rate=1.0, low_pass_filter=<QDevilQDAC2LowPassFilter.DC: 'dc'>), QDevilQDAC2ChannelSettings(id=13, voltage=0.0, span=<QDevilQDAC2Span.LOW: 'low'>, ramping_enabled=True, ramping_rate=1.0, low_pass_filter=<QDevilQDAC2LowPassFilter.DC: 'dc'>), QDevilQDAC2ChannelSettings(id=14, voltage=0.0, span=<QDevilQDAC2Span.LOW: 'low'>, ramping_enabled=True, ramping_rate=1.0, low_pass_filter=<QDevilQDAC2LowPassFilter.DC: 'dc'>), QDevilQDAC2ChannelSettings(id=15, voltage=0.0, span=<QDevilQDAC2Span.LOW: 'low'>, ramping_enabled=True, ramping_rate=1.0, low_pass_filter=<QDevilQDAC2LowPassFilter.DC: 'dc'>), QDevilQDAC2ChannelSettings(id=16, voltage=0.0, span=<QDevilQDAC2Span.LOW: 'low'>, ramping_enabled=True, ramping_rate=1.0, low_pass_filter=<QDevilQDAC2LowPassFilter.DC: 'dc'>), QDevilQDAC2ChannelSettings(id=17, voltage=0.0, span=<QDevilQDAC2Span.LOW: 'low'>, ramping_enabled=True, ramping_rate=1.0, low_pass_filter=<QDevilQDAC2LowPassFilter.DC: 'dc'>), QDevilQDAC2ChannelSettings(id=18, voltage=0.0, span=<QDevilQDAC2Span.LOW: 'low'>, ramping_enabled=True, ramping_rate=1.0, low_pass_filter=<QDevilQDAC2LowPassFilter.DC: 'dc'>), QDevilQDAC2ChannelSettings(id=19, voltage=0.0, span=<QDevilQDAC2Span.LOW: 'low'>, ramping_enabled=True, ramping_rate=1.0, low_pass_filter=<QDevilQDAC2LowPassFilter.DC: 'dc'>), QDevilQDAC2ChannelSettings(id=20, voltage=0.0, span=<QDevilQDAC2Span.LOW: 'low'>, ramping_enabled=True, ramping_rate=1.0, low_pass_filter=<QDevilQDAC2LowPassFilter.DC: 'dc'>), QDevilQDAC2ChannelSettings(id=21, voltage=0.0, span=<QDevilQDAC2Span.LOW: 'low'>, ramping_enabled=True, ramping_rate=1.0, low_pass_filter=<QDevilQDAC2LowPassFilter.DC: 'dc'>), QDevilQDAC2ChannelSettings(id=22, voltage=0.0, span=<QDevilQDAC2Span.LOW: 'low'>, ramping_enabled=True, ramping_rate=1.0, low_pass_filter=<QDevilQDAC2LowPassFilter.DC: 'dc'>), QDevilQDAC2ChannelSettings(id=23, voltage=0.0, span=<QDevilQDAC2Span.LOW: 'low'>, ramping_enabled=True, ramping_rate=1.0, low_pass_filter=<QDevilQDAC2LowPassFilter.DC: 'dc'>)])])"
      ]
     },
     "execution_count": 9,
     "metadata": {},
     "output_type": "execute_result"
    }
   ],
   "source": [
    "qdac2_controller = QDevilQDAC2Controller(\n",
    "    settings=QDevilQDAC2ControllerSettings(alias=\"qdac2_controller\", modules=[{\"alias\": \"qdac2\", \"slot\": 0}]),\n",
    "    loaded_instruments=[qdac2, second_qdac2, sg100],\n",
    ")\n",
    "qdac2_controller"
   ]
  },
  {
   "cell_type": "code",
   "execution_count": 10,
   "metadata": {},
   "outputs": [
    {
     "data": {
      "text/plain": [
       "Runcard(name='saruman', instruments=[QDevilQDAC2RuncardInstrument(type=<InstrumentType.QDEVIL_QDAC2: 'qdac2'>, settings=QDevilQDAC2Settings(alias='qdac2', dacs=[QDevilQDAC2ChannelSettings(id=0, voltage=0.0, span=<QDevilQDAC2Span.LOW: 'low'>, ramping_enabled=True, ramping_rate=1.0, low_pass_filter=<QDevilQDAC2LowPassFilter.DC: 'dc'>), QDevilQDAC2ChannelSettings(id=1, voltage=0.0, span=<QDevilQDAC2Span.LOW: 'low'>, ramping_enabled=True, ramping_rate=1.0, low_pass_filter=<QDevilQDAC2LowPassFilter.DC: 'dc'>), QDevilQDAC2ChannelSettings(id=2, voltage=0.0, span=<QDevilQDAC2Span.LOW: 'low'>, ramping_enabled=True, ramping_rate=1.0, low_pass_filter=<QDevilQDAC2LowPassFilter.DC: 'dc'>), QDevilQDAC2ChannelSettings(id=3, voltage=0.0, span=<QDevilQDAC2Span.LOW: 'low'>, ramping_enabled=True, ramping_rate=1.0, low_pass_filter=<QDevilQDAC2LowPassFilter.DC: 'dc'>), QDevilQDAC2ChannelSettings(id=4, voltage=0.0, span=<QDevilQDAC2Span.LOW: 'low'>, ramping_enabled=True, ramping_rate=1.0, low_pass_filter=<QDevilQDAC2LowPassFilter.DC: 'dc'>), QDevilQDAC2ChannelSettings(id=5, voltage=0.0, span=<QDevilQDAC2Span.LOW: 'low'>, ramping_enabled=True, ramping_rate=1.0, low_pass_filter=<QDevilQDAC2LowPassFilter.DC: 'dc'>), QDevilQDAC2ChannelSettings(id=6, voltage=0.0, span=<QDevilQDAC2Span.LOW: 'low'>, ramping_enabled=True, ramping_rate=1.0, low_pass_filter=<QDevilQDAC2LowPassFilter.DC: 'dc'>), QDevilQDAC2ChannelSettings(id=7, voltage=0.0, span=<QDevilQDAC2Span.LOW: 'low'>, ramping_enabled=True, ramping_rate=1.0, low_pass_filter=<QDevilQDAC2LowPassFilter.DC: 'dc'>), QDevilQDAC2ChannelSettings(id=8, voltage=0.0, span=<QDevilQDAC2Span.LOW: 'low'>, ramping_enabled=True, ramping_rate=1.0, low_pass_filter=<QDevilQDAC2LowPassFilter.DC: 'dc'>), QDevilQDAC2ChannelSettings(id=9, voltage=0.0, span=<QDevilQDAC2Span.LOW: 'low'>, ramping_enabled=True, ramping_rate=1.0, low_pass_filter=<QDevilQDAC2LowPassFilter.DC: 'dc'>), QDevilQDAC2ChannelSettings(id=10, voltage=0.0, span=<QDevilQDAC2Span.LOW: 'low'>, ramping_enabled=True, ramping_rate=1.0, low_pass_filter=<QDevilQDAC2LowPassFilter.DC: 'dc'>), QDevilQDAC2ChannelSettings(id=11, voltage=0.0, span=<QDevilQDAC2Span.LOW: 'low'>, ramping_enabled=True, ramping_rate=1.0, low_pass_filter=<QDevilQDAC2LowPassFilter.DC: 'dc'>), QDevilQDAC2ChannelSettings(id=12, voltage=0.0, span=<QDevilQDAC2Span.LOW: 'low'>, ramping_enabled=True, ramping_rate=1.0, low_pass_filter=<QDevilQDAC2LowPassFilter.DC: 'dc'>), QDevilQDAC2ChannelSettings(id=13, voltage=0.0, span=<QDevilQDAC2Span.LOW: 'low'>, ramping_enabled=True, ramping_rate=1.0, low_pass_filter=<QDevilQDAC2LowPassFilter.DC: 'dc'>), QDevilQDAC2ChannelSettings(id=14, voltage=0.0, span=<QDevilQDAC2Span.LOW: 'low'>, ramping_enabled=True, ramping_rate=1.0, low_pass_filter=<QDevilQDAC2LowPassFilter.DC: 'dc'>), QDevilQDAC2ChannelSettings(id=15, voltage=0.0, span=<QDevilQDAC2Span.LOW: 'low'>, ramping_enabled=True, ramping_rate=1.0, low_pass_filter=<QDevilQDAC2LowPassFilter.DC: 'dc'>), QDevilQDAC2ChannelSettings(id=16, voltage=0.0, span=<QDevilQDAC2Span.LOW: 'low'>, ramping_enabled=True, ramping_rate=1.0, low_pass_filter=<QDevilQDAC2LowPassFilter.DC: 'dc'>), QDevilQDAC2ChannelSettings(id=17, voltage=0.0, span=<QDevilQDAC2Span.LOW: 'low'>, ramping_enabled=True, ramping_rate=1.0, low_pass_filter=<QDevilQDAC2LowPassFilter.DC: 'dc'>), QDevilQDAC2ChannelSettings(id=18, voltage=0.0, span=<QDevilQDAC2Span.LOW: 'low'>, ramping_enabled=True, ramping_rate=1.0, low_pass_filter=<QDevilQDAC2LowPassFilter.DC: 'dc'>), QDevilQDAC2ChannelSettings(id=19, voltage=0.0, span=<QDevilQDAC2Span.LOW: 'low'>, ramping_enabled=True, ramping_rate=1.0, low_pass_filter=<QDevilQDAC2LowPassFilter.DC: 'dc'>), QDevilQDAC2ChannelSettings(id=20, voltage=0.0, span=<QDevilQDAC2Span.LOW: 'low'>, ramping_enabled=True, ramping_rate=1.0, low_pass_filter=<QDevilQDAC2LowPassFilter.DC: 'dc'>), QDevilQDAC2ChannelSettings(id=21, voltage=0.0, span=<QDevilQDAC2Span.LOW: 'low'>, ramping_enabled=True, ramping_rate=1.0, low_pass_filter=<QDevilQDAC2LowPassFilter.DC: 'dc'>), QDevilQDAC2ChannelSettings(id=22, voltage=0.0, span=<QDevilQDAC2Span.LOW: 'low'>, ramping_enabled=True, ramping_rate=1.0, low_pass_filter=<QDevilQDAC2LowPassFilter.DC: 'dc'>), QDevilQDAC2ChannelSettings(id=23, voltage=0.0, span=<QDevilQDAC2Span.LOW: 'low'>, ramping_enabled=True, ramping_rate=1.0, low_pass_filter=<QDevilQDAC2LowPassFilter.DC: 'dc'>)])), QDevilQDAC2RuncardInstrument(type=<InstrumentType.QDEVIL_QDAC2: 'qdac2'>, settings=QDevilQDAC2Settings(alias='second_qdac2', dacs=[QDevilQDAC2ChannelSettings(id=0, voltage=0.0, span=<QDevilQDAC2Span.LOW: 'low'>, ramping_enabled=True, ramping_rate=1.0, low_pass_filter=<QDevilQDAC2LowPassFilter.DC: 'dc'>), QDevilQDAC2ChannelSettings(id=1, voltage=0.0, span=<QDevilQDAC2Span.LOW: 'low'>, ramping_enabled=True, ramping_rate=1.0, low_pass_filter=<QDevilQDAC2LowPassFilter.DC: 'dc'>), QDevilQDAC2ChannelSettings(id=2, voltage=0.0, span=<QDevilQDAC2Span.LOW: 'low'>, ramping_enabled=True, ramping_rate=1.0, low_pass_filter=<QDevilQDAC2LowPassFilter.DC: 'dc'>), QDevilQDAC2ChannelSettings(id=3, voltage=0.0, span=<QDevilQDAC2Span.LOW: 'low'>, ramping_enabled=True, ramping_rate=1.0, low_pass_filter=<QDevilQDAC2LowPassFilter.DC: 'dc'>), QDevilQDAC2ChannelSettings(id=4, voltage=0.0, span=<QDevilQDAC2Span.LOW: 'low'>, ramping_enabled=True, ramping_rate=1.0, low_pass_filter=<QDevilQDAC2LowPassFilter.DC: 'dc'>), QDevilQDAC2ChannelSettings(id=5, voltage=0.0, span=<QDevilQDAC2Span.LOW: 'low'>, ramping_enabled=True, ramping_rate=1.0, low_pass_filter=<QDevilQDAC2LowPassFilter.DC: 'dc'>), QDevilQDAC2ChannelSettings(id=6, voltage=0.0, span=<QDevilQDAC2Span.LOW: 'low'>, ramping_enabled=True, ramping_rate=1.0, low_pass_filter=<QDevilQDAC2LowPassFilter.DC: 'dc'>), QDevilQDAC2ChannelSettings(id=7, voltage=0.0, span=<QDevilQDAC2Span.LOW: 'low'>, ramping_enabled=True, ramping_rate=1.0, low_pass_filter=<QDevilQDAC2LowPassFilter.DC: 'dc'>), QDevilQDAC2ChannelSettings(id=8, voltage=0.0, span=<QDevilQDAC2Span.LOW: 'low'>, ramping_enabled=True, ramping_rate=1.0, low_pass_filter=<QDevilQDAC2LowPassFilter.DC: 'dc'>), QDevilQDAC2ChannelSettings(id=9, voltage=0.0, span=<QDevilQDAC2Span.LOW: 'low'>, ramping_enabled=True, ramping_rate=1.0, low_pass_filter=<QDevilQDAC2LowPassFilter.DC: 'dc'>), QDevilQDAC2ChannelSettings(id=10, voltage=0.0, span=<QDevilQDAC2Span.LOW: 'low'>, ramping_enabled=True, ramping_rate=1.0, low_pass_filter=<QDevilQDAC2LowPassFilter.DC: 'dc'>), QDevilQDAC2ChannelSettings(id=11, voltage=0.0, span=<QDevilQDAC2Span.LOW: 'low'>, ramping_enabled=True, ramping_rate=1.0, low_pass_filter=<QDevilQDAC2LowPassFilter.DC: 'dc'>), QDevilQDAC2ChannelSettings(id=12, voltage=0.0, span=<QDevilQDAC2Span.LOW: 'low'>, ramping_enabled=True, ramping_rate=1.0, low_pass_filter=<QDevilQDAC2LowPassFilter.DC: 'dc'>), QDevilQDAC2ChannelSettings(id=13, voltage=0.0, span=<QDevilQDAC2Span.LOW: 'low'>, ramping_enabled=True, ramping_rate=1.0, low_pass_filter=<QDevilQDAC2LowPassFilter.DC: 'dc'>), QDevilQDAC2ChannelSettings(id=14, voltage=0.0, span=<QDevilQDAC2Span.LOW: 'low'>, ramping_enabled=True, ramping_rate=1.0, low_pass_filter=<QDevilQDAC2LowPassFilter.DC: 'dc'>), QDevilQDAC2ChannelSettings(id=15, voltage=0.0, span=<QDevilQDAC2Span.LOW: 'low'>, ramping_enabled=True, ramping_rate=1.0, low_pass_filter=<QDevilQDAC2LowPassFilter.DC: 'dc'>), QDevilQDAC2ChannelSettings(id=16, voltage=0.0, span=<QDevilQDAC2Span.LOW: 'low'>, ramping_enabled=True, ramping_rate=1.0, low_pass_filter=<QDevilQDAC2LowPassFilter.DC: 'dc'>), QDevilQDAC2ChannelSettings(id=17, voltage=0.0, span=<QDevilQDAC2Span.LOW: 'low'>, ramping_enabled=True, ramping_rate=1.0, low_pass_filter=<QDevilQDAC2LowPassFilter.DC: 'dc'>), QDevilQDAC2ChannelSettings(id=18, voltage=0.0, span=<QDevilQDAC2Span.LOW: 'low'>, ramping_enabled=True, ramping_rate=1.0, low_pass_filter=<QDevilQDAC2LowPassFilter.DC: 'dc'>), QDevilQDAC2ChannelSettings(id=19, voltage=0.0, span=<QDevilQDAC2Span.LOW: 'low'>, ramping_enabled=True, ramping_rate=1.0, low_pass_filter=<QDevilQDAC2LowPassFilter.DC: 'dc'>), QDevilQDAC2ChannelSettings(id=20, voltage=0.0, span=<QDevilQDAC2Span.LOW: 'low'>, ramping_enabled=True, ramping_rate=1.0, low_pass_filter=<QDevilQDAC2LowPassFilter.DC: 'dc'>), QDevilQDAC2ChannelSettings(id=21, voltage=0.0, span=<QDevilQDAC2Span.LOW: 'low'>, ramping_enabled=True, ramping_rate=1.0, low_pass_filter=<QDevilQDAC2LowPassFilter.DC: 'dc'>), QDevilQDAC2ChannelSettings(id=22, voltage=0.0, span=<QDevilQDAC2Span.LOW: 'low'>, ramping_enabled=True, ramping_rate=1.0, low_pass_filter=<QDevilQDAC2LowPassFilter.DC: 'dc'>), QDevilQDAC2ChannelSettings(id=23, voltage=0.0, span=<QDevilQDAC2Span.LOW: 'low'>, ramping_enabled=True, ramping_rate=1.0, low_pass_filter=<QDevilQDAC2LowPassFilter.DC: 'dc'>)])), RohdeSchwarzSG100RuncardInstrument(type=<InstrumentType.ROHDE_SCHWARZ_SG100: 'sg100'>, settings=RohdeSchwarzSG100Settings(alias='sg100', power=0.0, frequency=1000000000.0, rf_on=False))], instrument_controllers=[])"
      ]
     },
     "execution_count": 10,
     "metadata": {},
     "output_type": "execute_result"
    }
   ],
   "source": [
    "runcard"
   ]
  },
  {
   "cell_type": "code",
   "execution_count": 11,
   "metadata": {},
   "outputs": [],
   "source": [
    "runcard.add_instrument_controller(qdac2_controller)"
   ]
  },
  {
   "cell_type": "code",
   "execution_count": 12,
   "metadata": {},
   "outputs": [],
   "source": [
    "runcard.save_to(\"runcard.yml\")"
   ]
  },
  {
   "cell_type": "code",
   "execution_count": 13,
   "metadata": {},
   "outputs": [],
   "source": [
    "wrong_controller = QDevilQDAC2Controller(\n",
    "    settings=QDevilQDAC2ControllerSettings(alias=\"wrong_controller\", modules=[{\"alias\": \"non_existant\", \"slot\": 0}])\n",
    ")"
   ]
  },
  {
   "cell_type": "code",
   "execution_count": 16,
   "metadata": {},
   "outputs": [
    {
     "data": {
      "text/plain": [
       "Runcard(name='saruman', instruments=[QDevilQDAC2RuncardInstrument(type=<InstrumentType.QDEVIL_QDAC2: 'qdac2'>, settings=QDevilQDAC2Settings(alias='qdac2', dacs=[QDevilQDAC2ChannelSettings(id=0, voltage=0.0, span=<QDevilQDAC2Span.LOW: 'low'>, ramping_enabled=True, ramping_rate=1.0, low_pass_filter=<QDevilQDAC2LowPassFilter.DC: 'dc'>), QDevilQDAC2ChannelSettings(id=1, voltage=0.0, span=<QDevilQDAC2Span.LOW: 'low'>, ramping_enabled=True, ramping_rate=1.0, low_pass_filter=<QDevilQDAC2LowPassFilter.DC: 'dc'>), QDevilQDAC2ChannelSettings(id=2, voltage=0.0, span=<QDevilQDAC2Span.LOW: 'low'>, ramping_enabled=True, ramping_rate=1.0, low_pass_filter=<QDevilQDAC2LowPassFilter.DC: 'dc'>), QDevilQDAC2ChannelSettings(id=3, voltage=0.0, span=<QDevilQDAC2Span.LOW: 'low'>, ramping_enabled=True, ramping_rate=1.0, low_pass_filter=<QDevilQDAC2LowPassFilter.DC: 'dc'>), QDevilQDAC2ChannelSettings(id=4, voltage=0.0, span=<QDevilQDAC2Span.LOW: 'low'>, ramping_enabled=True, ramping_rate=1.0, low_pass_filter=<QDevilQDAC2LowPassFilter.DC: 'dc'>), QDevilQDAC2ChannelSettings(id=5, voltage=0.0, span=<QDevilQDAC2Span.LOW: 'low'>, ramping_enabled=True, ramping_rate=1.0, low_pass_filter=<QDevilQDAC2LowPassFilter.DC: 'dc'>), QDevilQDAC2ChannelSettings(id=6, voltage=0.0, span=<QDevilQDAC2Span.LOW: 'low'>, ramping_enabled=True, ramping_rate=1.0, low_pass_filter=<QDevilQDAC2LowPassFilter.DC: 'dc'>), QDevilQDAC2ChannelSettings(id=7, voltage=0.0, span=<QDevilQDAC2Span.LOW: 'low'>, ramping_enabled=True, ramping_rate=1.0, low_pass_filter=<QDevilQDAC2LowPassFilter.DC: 'dc'>), QDevilQDAC2ChannelSettings(id=8, voltage=0.0, span=<QDevilQDAC2Span.LOW: 'low'>, ramping_enabled=True, ramping_rate=1.0, low_pass_filter=<QDevilQDAC2LowPassFilter.DC: 'dc'>), QDevilQDAC2ChannelSettings(id=9, voltage=0.0, span=<QDevilQDAC2Span.LOW: 'low'>, ramping_enabled=True, ramping_rate=1.0, low_pass_filter=<QDevilQDAC2LowPassFilter.DC: 'dc'>), QDevilQDAC2ChannelSettings(id=10, voltage=0.0, span=<QDevilQDAC2Span.LOW: 'low'>, ramping_enabled=True, ramping_rate=1.0, low_pass_filter=<QDevilQDAC2LowPassFilter.DC: 'dc'>), QDevilQDAC2ChannelSettings(id=11, voltage=0.0, span=<QDevilQDAC2Span.LOW: 'low'>, ramping_enabled=True, ramping_rate=1.0, low_pass_filter=<QDevilQDAC2LowPassFilter.DC: 'dc'>), QDevilQDAC2ChannelSettings(id=12, voltage=0.0, span=<QDevilQDAC2Span.LOW: 'low'>, ramping_enabled=True, ramping_rate=1.0, low_pass_filter=<QDevilQDAC2LowPassFilter.DC: 'dc'>), QDevilQDAC2ChannelSettings(id=13, voltage=0.0, span=<QDevilQDAC2Span.LOW: 'low'>, ramping_enabled=True, ramping_rate=1.0, low_pass_filter=<QDevilQDAC2LowPassFilter.DC: 'dc'>), QDevilQDAC2ChannelSettings(id=14, voltage=0.0, span=<QDevilQDAC2Span.LOW: 'low'>, ramping_enabled=True, ramping_rate=1.0, low_pass_filter=<QDevilQDAC2LowPassFilter.DC: 'dc'>), QDevilQDAC2ChannelSettings(id=15, voltage=0.0, span=<QDevilQDAC2Span.LOW: 'low'>, ramping_enabled=True, ramping_rate=1.0, low_pass_filter=<QDevilQDAC2LowPassFilter.DC: 'dc'>), QDevilQDAC2ChannelSettings(id=16, voltage=0.0, span=<QDevilQDAC2Span.LOW: 'low'>, ramping_enabled=True, ramping_rate=1.0, low_pass_filter=<QDevilQDAC2LowPassFilter.DC: 'dc'>), QDevilQDAC2ChannelSettings(id=17, voltage=0.0, span=<QDevilQDAC2Span.LOW: 'low'>, ramping_enabled=True, ramping_rate=1.0, low_pass_filter=<QDevilQDAC2LowPassFilter.DC: 'dc'>), QDevilQDAC2ChannelSettings(id=18, voltage=0.0, span=<QDevilQDAC2Span.LOW: 'low'>, ramping_enabled=True, ramping_rate=1.0, low_pass_filter=<QDevilQDAC2LowPassFilter.DC: 'dc'>), QDevilQDAC2ChannelSettings(id=19, voltage=0.0, span=<QDevilQDAC2Span.LOW: 'low'>, ramping_enabled=True, ramping_rate=1.0, low_pass_filter=<QDevilQDAC2LowPassFilter.DC: 'dc'>), QDevilQDAC2ChannelSettings(id=20, voltage=0.0, span=<QDevilQDAC2Span.LOW: 'low'>, ramping_enabled=True, ramping_rate=1.0, low_pass_filter=<QDevilQDAC2LowPassFilter.DC: 'dc'>), QDevilQDAC2ChannelSettings(id=21, voltage=0.0, span=<QDevilQDAC2Span.LOW: 'low'>, ramping_enabled=True, ramping_rate=1.0, low_pass_filter=<QDevilQDAC2LowPassFilter.DC: 'dc'>), QDevilQDAC2ChannelSettings(id=22, voltage=0.0, span=<QDevilQDAC2Span.LOW: 'low'>, ramping_enabled=True, ramping_rate=1.0, low_pass_filter=<QDevilQDAC2LowPassFilter.DC: 'dc'>), QDevilQDAC2ChannelSettings(id=23, voltage=0.0, span=<QDevilQDAC2Span.LOW: 'low'>, ramping_enabled=True, ramping_rate=1.0, low_pass_filter=<QDevilQDAC2LowPassFilter.DC: 'dc'>)])), QDevilQDAC2RuncardInstrument(type=<InstrumentType.QDEVIL_QDAC2: 'qdac2'>, settings=QDevilQDAC2Settings(alias='second_qdac2', dacs=[QDevilQDAC2ChannelSettings(id=0, voltage=0.0, span=<QDevilQDAC2Span.LOW: 'low'>, ramping_enabled=True, ramping_rate=1.0, low_pass_filter=<QDevilQDAC2LowPassFilter.DC: 'dc'>), QDevilQDAC2ChannelSettings(id=1, voltage=0.0, span=<QDevilQDAC2Span.LOW: 'low'>, ramping_enabled=True, ramping_rate=1.0, low_pass_filter=<QDevilQDAC2LowPassFilter.DC: 'dc'>), QDevilQDAC2ChannelSettings(id=2, voltage=0.0, span=<QDevilQDAC2Span.LOW: 'low'>, ramping_enabled=True, ramping_rate=1.0, low_pass_filter=<QDevilQDAC2LowPassFilter.DC: 'dc'>), QDevilQDAC2ChannelSettings(id=3, voltage=0.0, span=<QDevilQDAC2Span.LOW: 'low'>, ramping_enabled=True, ramping_rate=1.0, low_pass_filter=<QDevilQDAC2LowPassFilter.DC: 'dc'>), QDevilQDAC2ChannelSettings(id=4, voltage=0.0, span=<QDevilQDAC2Span.LOW: 'low'>, ramping_enabled=True, ramping_rate=1.0, low_pass_filter=<QDevilQDAC2LowPassFilter.DC: 'dc'>), QDevilQDAC2ChannelSettings(id=5, voltage=0.0, span=<QDevilQDAC2Span.LOW: 'low'>, ramping_enabled=True, ramping_rate=1.0, low_pass_filter=<QDevilQDAC2LowPassFilter.DC: 'dc'>), QDevilQDAC2ChannelSettings(id=6, voltage=0.0, span=<QDevilQDAC2Span.LOW: 'low'>, ramping_enabled=True, ramping_rate=1.0, low_pass_filter=<QDevilQDAC2LowPassFilter.DC: 'dc'>), QDevilQDAC2ChannelSettings(id=7, voltage=0.0, span=<QDevilQDAC2Span.LOW: 'low'>, ramping_enabled=True, ramping_rate=1.0, low_pass_filter=<QDevilQDAC2LowPassFilter.DC: 'dc'>), QDevilQDAC2ChannelSettings(id=8, voltage=0.0, span=<QDevilQDAC2Span.LOW: 'low'>, ramping_enabled=True, ramping_rate=1.0, low_pass_filter=<QDevilQDAC2LowPassFilter.DC: 'dc'>), QDevilQDAC2ChannelSettings(id=9, voltage=0.0, span=<QDevilQDAC2Span.LOW: 'low'>, ramping_enabled=True, ramping_rate=1.0, low_pass_filter=<QDevilQDAC2LowPassFilter.DC: 'dc'>), QDevilQDAC2ChannelSettings(id=10, voltage=0.0, span=<QDevilQDAC2Span.LOW: 'low'>, ramping_enabled=True, ramping_rate=1.0, low_pass_filter=<QDevilQDAC2LowPassFilter.DC: 'dc'>), QDevilQDAC2ChannelSettings(id=11, voltage=0.0, span=<QDevilQDAC2Span.LOW: 'low'>, ramping_enabled=True, ramping_rate=1.0, low_pass_filter=<QDevilQDAC2LowPassFilter.DC: 'dc'>), QDevilQDAC2ChannelSettings(id=12, voltage=0.0, span=<QDevilQDAC2Span.LOW: 'low'>, ramping_enabled=True, ramping_rate=1.0, low_pass_filter=<QDevilQDAC2LowPassFilter.DC: 'dc'>), QDevilQDAC2ChannelSettings(id=13, voltage=0.0, span=<QDevilQDAC2Span.LOW: 'low'>, ramping_enabled=True, ramping_rate=1.0, low_pass_filter=<QDevilQDAC2LowPassFilter.DC: 'dc'>), QDevilQDAC2ChannelSettings(id=14, voltage=0.0, span=<QDevilQDAC2Span.LOW: 'low'>, ramping_enabled=True, ramping_rate=1.0, low_pass_filter=<QDevilQDAC2LowPassFilter.DC: 'dc'>), QDevilQDAC2ChannelSettings(id=15, voltage=0.0, span=<QDevilQDAC2Span.LOW: 'low'>, ramping_enabled=True, ramping_rate=1.0, low_pass_filter=<QDevilQDAC2LowPassFilter.DC: 'dc'>), QDevilQDAC2ChannelSettings(id=16, voltage=0.0, span=<QDevilQDAC2Span.LOW: 'low'>, ramping_enabled=True, ramping_rate=1.0, low_pass_filter=<QDevilQDAC2LowPassFilter.DC: 'dc'>), QDevilQDAC2ChannelSettings(id=17, voltage=0.0, span=<QDevilQDAC2Span.LOW: 'low'>, ramping_enabled=True, ramping_rate=1.0, low_pass_filter=<QDevilQDAC2LowPassFilter.DC: 'dc'>), QDevilQDAC2ChannelSettings(id=18, voltage=0.0, span=<QDevilQDAC2Span.LOW: 'low'>, ramping_enabled=True, ramping_rate=1.0, low_pass_filter=<QDevilQDAC2LowPassFilter.DC: 'dc'>), QDevilQDAC2ChannelSettings(id=19, voltage=0.0, span=<QDevilQDAC2Span.LOW: 'low'>, ramping_enabled=True, ramping_rate=1.0, low_pass_filter=<QDevilQDAC2LowPassFilter.DC: 'dc'>), QDevilQDAC2ChannelSettings(id=20, voltage=0.0, span=<QDevilQDAC2Span.LOW: 'low'>, ramping_enabled=True, ramping_rate=1.0, low_pass_filter=<QDevilQDAC2LowPassFilter.DC: 'dc'>), QDevilQDAC2ChannelSettings(id=21, voltage=0.0, span=<QDevilQDAC2Span.LOW: 'low'>, ramping_enabled=True, ramping_rate=1.0, low_pass_filter=<QDevilQDAC2LowPassFilter.DC: 'dc'>), QDevilQDAC2ChannelSettings(id=22, voltage=0.0, span=<QDevilQDAC2Span.LOW: 'low'>, ramping_enabled=True, ramping_rate=1.0, low_pass_filter=<QDevilQDAC2LowPassFilter.DC: 'dc'>), QDevilQDAC2ChannelSettings(id=23, voltage=0.0, span=<QDevilQDAC2Span.LOW: 'low'>, ramping_enabled=True, ramping_rate=1.0, low_pass_filter=<QDevilQDAC2LowPassFilter.DC: 'dc'>)])), RohdeSchwarzSG100RuncardInstrument(type=<InstrumentType.ROHDE_SCHWARZ_SG100: 'sg100'>, settings=RohdeSchwarzSG100Settings(alias='sg100', power=0.0, frequency=1000000000.0, rf_on=False))], instrument_controllers=[QDevilQDAC2RuncardInstrumentController(type=<InstrumentControllerType.QDEVIL_QDAC2_CONTROLLER: 'qdac2_controller'>, settings=QDevilQDAC2ControllerSettings(alias='qdac2_controller', connection=ConnectionSettings(type=<ConnectionType.TCP_IP: 'tcp_ip'>, address='168.0.0.1'), modules=[InstrumentModule(alias='qdac2', slot=0)], reset=True))])"
      ]
     },
     "execution_count": 16,
     "metadata": {},
     "output_type": "execute_result"
    }
   ],
   "source": [
    "loaded_runcard = Runcard.load_from(\"runcard.yml\")\n",
    "loaded_runcard"
   ]
  },
  {
   "cell_type": "code",
   "execution_count": 14,
   "metadata": {},
   "outputs": [
    {
     "ename": "ValidationError",
     "evalue": "1 validation error for Runcard\n  Value error, Instrument 'non_existant' of controller wrong_controller not found in runcard instruments. [type=value_error, input_value=Runcard(name='saruman', i...slot=0)], reset=True))]), input_type=Runcard]\n    For further information visit https://errors.pydantic.dev/2.9/v/value_error",
     "output_type": "error",
     "traceback": [
      "\u001b[0;31m---------------------------------------------------------------------------\u001b[0m",
      "\u001b[0;31mValidationError\u001b[0m                           Traceback (most recent call last)",
      "Cell \u001b[0;32mIn[14], line 1\u001b[0m\n\u001b[0;32m----> 1\u001b[0m \u001b[43mruncard\u001b[49m\u001b[38;5;241;43m.\u001b[39;49m\u001b[43madd_instrument_controller\u001b[49m\u001b[43m(\u001b[49m\u001b[43mwrong_controller\u001b[49m\u001b[43m)\u001b[49m\n",
      "File \u001b[0;32m~/projects/qililab/src/qililab/runcard/runcard.py:87\u001b[0m, in \u001b[0;36mRuncard.add_instrument_controller\u001b[0;34m(self, instrument_controller)\u001b[0m\n\u001b[1;32m     85\u001b[0m \u001b[38;5;28;01mexcept\u001b[39;00m ValidationError \u001b[38;5;28;01mas\u001b[39;00m e:\n\u001b[1;32m     86\u001b[0m     \u001b[38;5;28mself\u001b[39m\u001b[38;5;241m.\u001b[39mremove_instrument_controller(instrument_controller\u001b[38;5;241m.\u001b[39msettings\u001b[38;5;241m.\u001b[39malias)\n\u001b[0;32m---> 87\u001b[0m     \u001b[38;5;28;01mraise\u001b[39;00m e\n",
      "File \u001b[0;32m~/projects/qililab/src/qililab/runcard/runcard.py:84\u001b[0m, in \u001b[0;36mRuncard.add_instrument_controller\u001b[0;34m(self, instrument_controller)\u001b[0m\n\u001b[1;32m     82\u001b[0m \u001b[38;5;28;01mtry\u001b[39;00m:\n\u001b[1;32m     83\u001b[0m     \u001b[38;5;28mself\u001b[39m\u001b[38;5;241m.\u001b[39minstrument_controllers\u001b[38;5;241m.\u001b[39mappend(instrument_controller\u001b[38;5;241m.\u001b[39mto_runcard())\n\u001b[0;32m---> 84\u001b[0m     \u001b[43mRuncard\u001b[49m\u001b[38;5;241;43m.\u001b[39;49m\u001b[43mmodel_validate\u001b[49m\u001b[43m(\u001b[49m\u001b[38;5;28;43mself\u001b[39;49m\u001b[43m)\u001b[49m\n\u001b[1;32m     85\u001b[0m \u001b[38;5;28;01mexcept\u001b[39;00m ValidationError \u001b[38;5;28;01mas\u001b[39;00m e:\n\u001b[1;32m     86\u001b[0m     \u001b[38;5;28mself\u001b[39m\u001b[38;5;241m.\u001b[39mremove_instrument_controller(instrument_controller\u001b[38;5;241m.\u001b[39msettings\u001b[38;5;241m.\u001b[39malias)\n",
      "File \u001b[0;32m~/conda/envs/qililab/lib/python3.10/site-packages/pydantic/main.py:596\u001b[0m, in \u001b[0;36mBaseModel.model_validate\u001b[0;34m(cls, obj, strict, from_attributes, context)\u001b[0m\n\u001b[1;32m    594\u001b[0m \u001b[38;5;66;03m# `__tracebackhide__` tells pytest and some other tools to omit this function from tracebacks\u001b[39;00m\n\u001b[1;32m    595\u001b[0m __tracebackhide__ \u001b[38;5;241m=\u001b[39m \u001b[38;5;28;01mTrue\u001b[39;00m\n\u001b[0;32m--> 596\u001b[0m \u001b[38;5;28;01mreturn\u001b[39;00m \u001b[38;5;28;43mcls\u001b[39;49m\u001b[38;5;241;43m.\u001b[39;49m\u001b[43m__pydantic_validator__\u001b[49m\u001b[38;5;241;43m.\u001b[39;49m\u001b[43mvalidate_python\u001b[49m\u001b[43m(\u001b[49m\n\u001b[1;32m    597\u001b[0m \u001b[43m    \u001b[49m\u001b[43mobj\u001b[49m\u001b[43m,\u001b[49m\u001b[43m \u001b[49m\u001b[43mstrict\u001b[49m\u001b[38;5;241;43m=\u001b[39;49m\u001b[43mstrict\u001b[49m\u001b[43m,\u001b[49m\u001b[43m \u001b[49m\u001b[43mfrom_attributes\u001b[49m\u001b[38;5;241;43m=\u001b[39;49m\u001b[43mfrom_attributes\u001b[49m\u001b[43m,\u001b[49m\u001b[43m \u001b[49m\u001b[43mcontext\u001b[49m\u001b[38;5;241;43m=\u001b[39;49m\u001b[43mcontext\u001b[49m\n\u001b[1;32m    598\u001b[0m \u001b[43m\u001b[49m\u001b[43m)\u001b[49m\n",
      "\u001b[0;31mValidationError\u001b[0m: 1 validation error for Runcard\n  Value error, Instrument 'non_existant' of controller wrong_controller not found in runcard instruments. [type=value_error, input_value=Runcard(name='saruman', i...slot=0)], reset=True))]), input_type=Runcard]\n    For further information visit https://errors.pydantic.dev/2.9/v/value_error"
     ]
    }
   ],
   "source": [
    "runcard.add_instrument_controller(wrong_controller)"
   ]
  }
 ],
 "metadata": {
  "kernelspec": {
   "display_name": "qililab",
   "language": "python",
   "name": "python3"
  },
  "language_info": {
   "codemirror_mode": {
    "name": "ipython",
    "version": 3
   },
   "file_extension": ".py",
   "mimetype": "text/x-python",
   "name": "python",
   "nbconvert_exporter": "python",
   "pygments_lexer": "ipython3",
   "version": "3.10.14"
  }
 },
 "nbformat": 4,
 "nbformat_minor": 2
}
