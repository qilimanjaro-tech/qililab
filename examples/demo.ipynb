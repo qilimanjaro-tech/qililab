{
 "cells": [
  {
   "cell_type": "code",
   "execution_count": 1,
   "metadata": {},
   "outputs": [
    {
     "name": "stdout",
     "output_type": "stream",
     "text": [
      "2024-11-25 15:00:19,852 - qm - INFO     - Starting session: 2d5ae3f0-fab2-4735-a4b1-17a3899309ac\n"
     ]
    }
   ],
   "source": [
    "from qililab.instrument_controllers.qblox_cluster_controller import QbloxClusterController\n",
    "from qililab.instrument_controllers.qblox_spi_rack_controller import QbloxSPIRackController\n",
    "from qililab.instrument_controllers.qdevil_qdac2_controller import QDevilQDAC2Controller\n",
    "from qililab.instruments.qblox_d5a import QbloxD5A\n",
    "from qililab.instruments.qblox_qcm import QbloxQCM\n",
    "from qililab.instruments.qblox_qcm_rf import QbloxQCMRF\n",
    "from qililab.instruments.qblox_qrm import QbloxQRM\n",
    "from qililab.instruments.qblox_qrm_rf import QbloxQRMRF\n",
    "from qililab.instruments.qblox_s4g import QbloxS4G\n",
    "from qililab.instruments.qdevil_qdac2 import QDevilQDAC2\n",
    "from qililab.instruments.rohde_schwarz_sg100 import RohdeSchwarzSG100\n",
    "from qililab.runcard import Runcard\n",
    "from qililab.settings.instrument_controllers import (\n",
    "    QbloxClusterControllerSettings,\n",
    "    QbloxSPIRackControllerSettings,\n",
    "    QDevilQDAC2ControllerSettings,\n",
    ")\n",
    "from qililab.typings.enums import Parameter\n",
    "from qililab.waveforms import Arbitrary, Gaussian"
   ]
  },
  {
   "cell_type": "code",
   "execution_count": 2,
   "metadata": {},
   "outputs": [
    {
     "data": {
      "text/plain": [
       "(10000,\n",
       " array([0.8824969 , 0.88254102, 0.88258514, ..., 0.88262925, 0.88258514,\n",
       "        0.88254102]))"
      ]
     },
     "execution_count": 2,
     "metadata": {},
     "output_type": "execute_result"
    }
   ],
   "source": [
    "gaussian = Gaussian(amplitude=1.0, duration=10_000, num_sigmas=0.5)\n",
    "len(gaussian.envelope()), gaussian.envelope()"
   ]
  },
  {
   "cell_type": "code",
   "execution_count": 3,
   "metadata": {},
   "outputs": [
    {
     "data": {
      "text/plain": [
       "(10,\n",
       " array([0.8824969 , 0.92311635, 0.95599748, 0.98019867, 0.99501248,\n",
       "        1.        , 0.99501248, 0.98019867, 0.95599748, 0.92311635]))"
      ]
     },
     "execution_count": 3,
     "metadata": {},
     "output_type": "execute_result"
    }
   ],
   "source": [
    "len(gaussian.envelope(resolution=1000)), gaussian.envelope(resolution=1000)"
   ]
  },
  {
   "cell_type": "code",
   "execution_count": null,
   "metadata": {},
   "outputs": [
    {
     "data": {
      "text/plain": [
       "(10000,\n",
       " array([0.00000000e+00, 1.00010001e+00, 2.00020002e+00, ...,\n",
       "        9.99799980e+03, 9.99899990e+03, 1.00000000e+04]))"
      ]
     },
     "execution_count": 8,
     "metadata": {},
     "output_type": "execute_result"
    }
   ],
   "source": [
    "import numpy as np\n",
    "\n",
    "arb = Arbitrary(samples=np.linspace(0, 10_000, num=10_001, endpoint=True))\n",
    "len(arb.envelope()), arb.envelope()"
   ]
  },
  {
   "cell_type": "code",
   "execution_count": 9,
   "metadata": {},
   "outputs": [
    {
     "data": {
      "text/plain": [
       "(9990,\n",
       " array([1.53121960e-12, 1.00110121e+00, 2.00220242e+00, ...,\n",
       "        9.99799780e+03, 9.99899890e+03, 1.00000000e+04]))"
      ]
     },
     "execution_count": 9,
     "metadata": {},
     "output_type": "execute_result"
    }
   ],
   "source": [
    "len(arb.envelope(resolution=1000)), arb.envelope(resolution=1000)"
   ]
  },
  {
   "cell_type": "code",
   "execution_count": 2,
   "metadata": {},
   "outputs": [
    {
     "data": {
      "text/plain": [
       "QbloxQCM(settings=alias='qcm' timeout=1 outputs=[QbloxLFOutputSettings(port=0, offset=0.0), QbloxLFOutputSettings(port=1, offset=0.0), QbloxLFOutputSettings(port=2, offset=0.0), QbloxLFOutputSettings(port=3, offset=0.0)] sequencers=[QbloxSequencerSettings(id=0, outputs=[0], hardware_modulation=True, intermediate_frequency=500000000.0, gain_imbalance=0.0, phase_imbalance=0.0, gain_i=1.0, gain_q=1.0, offset_i=0.0, offset_q=0.0), QbloxSequencerSettings(id=1, outputs=[0], hardware_modulation=True, intermediate_frequency=500000000.0, gain_imbalance=0.0, phase_imbalance=0.0, gain_i=1.0, gain_q=1.0, offset_i=0.0, offset_q=0.0), QbloxSequencerSettings(id=2, outputs=[0], hardware_modulation=True, intermediate_frequency=500000000.0, gain_imbalance=0.0, phase_imbalance=0.0, gain_i=1.0, gain_q=1.0, offset_i=0.0, offset_q=0.0), QbloxSequencerSettings(id=3, outputs=[0], hardware_modulation=True, intermediate_frequency=500000000.0, gain_imbalance=0.0, phase_imbalance=0.0, gain_i=1.0, gain_q=1.0, offset_i=0.0, offset_q=0.0), QbloxSequencerSettings(id=4, outputs=[0], hardware_modulation=True, intermediate_frequency=500000000.0, gain_imbalance=0.0, phase_imbalance=0.0, gain_i=1.0, gain_q=1.0, offset_i=0.0, offset_q=0.0), QbloxSequencerSettings(id=5, outputs=[0], hardware_modulation=True, intermediate_frequency=500000000.0, gain_imbalance=0.0, phase_imbalance=0.0, gain_i=1.0, gain_q=1.0, offset_i=0.0, offset_q=0.0)])"
      ]
     },
     "execution_count": 2,
     "metadata": {},
     "output_type": "execute_result"
    }
   ],
   "source": [
    "qcm = QbloxQCM()\n",
    "qcm"
   ]
  },
  {
   "cell_type": "code",
   "execution_count": 3,
   "metadata": {},
   "outputs": [
    {
     "data": {
      "text/plain": [
       "QbloxQCMRF(settings=alias='qcm-rf' timeout=1 outputs=[QbloxRFOutputSettings(port=0, lo_enabled=True, lo_frequency=10000000000.0, attenuation=0.0, offset_i=0.0, offset_q=0.0), QbloxRFOutputSettings(port=1, lo_enabled=True, lo_frequency=10000000000.0, attenuation=0.0, offset_i=0.0, offset_q=0.0)] sequencers=[QbloxSequencerSettings(id=0, outputs=[0], hardware_modulation=True, intermediate_frequency=500000000.0, gain_imbalance=0.0, phase_imbalance=0.0, gain_i=1.0, gain_q=1.0, offset_i=0.0, offset_q=0.0), QbloxSequencerSettings(id=1, outputs=[0], hardware_modulation=True, intermediate_frequency=500000000.0, gain_imbalance=0.0, phase_imbalance=0.0, gain_i=1.0, gain_q=1.0, offset_i=0.0, offset_q=0.0), QbloxSequencerSettings(id=2, outputs=[0], hardware_modulation=True, intermediate_frequency=500000000.0, gain_imbalance=0.0, phase_imbalance=0.0, gain_i=1.0, gain_q=1.0, offset_i=0.0, offset_q=0.0), QbloxSequencerSettings(id=3, outputs=[0], hardware_modulation=True, intermediate_frequency=500000000.0, gain_imbalance=0.0, phase_imbalance=0.0, gain_i=1.0, gain_q=1.0, offset_i=0.0, offset_q=0.0), QbloxSequencerSettings(id=4, outputs=[0], hardware_modulation=True, intermediate_frequency=500000000.0, gain_imbalance=0.0, phase_imbalance=0.0, gain_i=1.0, gain_q=1.0, offset_i=0.0, offset_q=0.0), QbloxSequencerSettings(id=5, outputs=[0], hardware_modulation=True, intermediate_frequency=500000000.0, gain_imbalance=0.0, phase_imbalance=0.0, gain_i=1.0, gain_q=1.0, offset_i=0.0, offset_q=0.0)])"
      ]
     },
     "execution_count": 3,
     "metadata": {},
     "output_type": "execute_result"
    }
   ],
   "source": [
    "qcm_rf = QbloxQCMRF()\n",
    "qcm_rf"
   ]
  },
  {
   "cell_type": "code",
   "execution_count": 4,
   "metadata": {},
   "outputs": [
    {
     "data": {
      "text/plain": [
       "QbloxQRM(settings=alias='qrm' timeout=1 outputs=[QbloxLFOutputSettings(port=0, offset=0.0), QbloxLFOutputSettings(port=1, offset=0.0)] sequencers=[QbloxADCSequencerSettings(id=0, outputs=[0], hardware_modulation=True, intermediate_frequency=500000000.0, gain_imbalance=0.0, phase_imbalance=0.0, gain_i=1.0, gain_q=1.0, offset_i=0.0, offset_q=0.0, inputs=[0], hardware_demodulation=True, integration_length=1000, threshold=0.0, threshold_rotation=0.0, time_of_flight=0), QbloxADCSequencerSettings(id=1, outputs=[0], hardware_modulation=True, intermediate_frequency=500000000.0, gain_imbalance=0.0, phase_imbalance=0.0, gain_i=1.0, gain_q=1.0, offset_i=0.0, offset_q=0.0, inputs=[0], hardware_demodulation=True, integration_length=1000, threshold=0.0, threshold_rotation=0.0, time_of_flight=0), QbloxADCSequencerSettings(id=2, outputs=[0], hardware_modulation=True, intermediate_frequency=500000000.0, gain_imbalance=0.0, phase_imbalance=0.0, gain_i=1.0, gain_q=1.0, offset_i=0.0, offset_q=0.0, inputs=[0], hardware_demodulation=True, integration_length=1000, threshold=0.0, threshold_rotation=0.0, time_of_flight=0), QbloxADCSequencerSettings(id=3, outputs=[0], hardware_modulation=True, intermediate_frequency=500000000.0, gain_imbalance=0.0, phase_imbalance=0.0, gain_i=1.0, gain_q=1.0, offset_i=0.0, offset_q=0.0, inputs=[0], hardware_demodulation=True, integration_length=1000, threshold=0.0, threshold_rotation=0.0, time_of_flight=0), QbloxADCSequencerSettings(id=4, outputs=[0], hardware_modulation=True, intermediate_frequency=500000000.0, gain_imbalance=0.0, phase_imbalance=0.0, gain_i=1.0, gain_q=1.0, offset_i=0.0, offset_q=0.0, inputs=[0], hardware_demodulation=True, integration_length=1000, threshold=0.0, threshold_rotation=0.0, time_of_flight=0), QbloxADCSequencerSettings(id=5, outputs=[0], hardware_modulation=True, intermediate_frequency=500000000.0, gain_imbalance=0.0, phase_imbalance=0.0, gain_i=1.0, gain_q=1.0, offset_i=0.0, offset_q=0.0, inputs=[0], hardware_demodulation=True, integration_length=1000, threshold=0.0, threshold_rotation=0.0, time_of_flight=0)] inputs=[QbloxLFInputSettings(port=0, gain=0, offset=0.0), QbloxLFInputSettings(port=1, gain=0, offset=0.0)] scope_hardware_averaging=True)"
      ]
     },
     "execution_count": 4,
     "metadata": {},
     "output_type": "execute_result"
    }
   ],
   "source": [
    "qrm = QbloxQRM()\n",
    "qrm"
   ]
  },
  {
   "cell_type": "code",
   "execution_count": 5,
   "metadata": {},
   "outputs": [
    {
     "data": {
      "text/plain": [
       "QbloxQRMRF(settings=alias='qrm-rf' timeout=1 outputs=[QbloxRFOutputSettings(port=0, lo_enabled=True, lo_frequency=10000000000.0, attenuation=0.0, offset_i=0.0, offset_q=0.0)] sequencers=[QbloxADCSequencerSettings(id=0, outputs=[0], hardware_modulation=True, intermediate_frequency=500000000.0, gain_imbalance=0.0, phase_imbalance=0.0, gain_i=1.0, gain_q=1.0, offset_i=0.0, offset_q=0.0, inputs=[0], hardware_demodulation=True, integration_length=1000, threshold=0.0, threshold_rotation=0.0, time_of_flight=0), QbloxADCSequencerSettings(id=1, outputs=[0], hardware_modulation=True, intermediate_frequency=500000000.0, gain_imbalance=0.0, phase_imbalance=0.0, gain_i=1.0, gain_q=1.0, offset_i=0.0, offset_q=0.0, inputs=[0], hardware_demodulation=True, integration_length=1000, threshold=0.0, threshold_rotation=0.0, time_of_flight=0), QbloxADCSequencerSettings(id=2, outputs=[0], hardware_modulation=True, intermediate_frequency=500000000.0, gain_imbalance=0.0, phase_imbalance=0.0, gain_i=1.0, gain_q=1.0, offset_i=0.0, offset_q=0.0, inputs=[0], hardware_demodulation=True, integration_length=1000, threshold=0.0, threshold_rotation=0.0, time_of_flight=0), QbloxADCSequencerSettings(id=3, outputs=[0], hardware_modulation=True, intermediate_frequency=500000000.0, gain_imbalance=0.0, phase_imbalance=0.0, gain_i=1.0, gain_q=1.0, offset_i=0.0, offset_q=0.0, inputs=[0], hardware_demodulation=True, integration_length=1000, threshold=0.0, threshold_rotation=0.0, time_of_flight=0), QbloxADCSequencerSettings(id=4, outputs=[0], hardware_modulation=True, intermediate_frequency=500000000.0, gain_imbalance=0.0, phase_imbalance=0.0, gain_i=1.0, gain_q=1.0, offset_i=0.0, offset_q=0.0, inputs=[0], hardware_demodulation=True, integration_length=1000, threshold=0.0, threshold_rotation=0.0, time_of_flight=0), QbloxADCSequencerSettings(id=5, outputs=[0], hardware_modulation=True, intermediate_frequency=500000000.0, gain_imbalance=0.0, phase_imbalance=0.0, gain_i=1.0, gain_q=1.0, offset_i=0.0, offset_q=0.0, inputs=[0], hardware_demodulation=True, integration_length=1000, threshold=0.0, threshold_rotation=0.0, time_of_flight=0)] inputs=[QbloxRFInputSettings(port=0, attenuation=0, offset_i=0.0, offset_q=0.0)])"
      ]
     },
     "execution_count": 5,
     "metadata": {},
     "output_type": "execute_result"
    }
   ],
   "source": [
    "qrm_rf = QbloxQRMRF()\n",
    "qrm_rf"
   ]
  },
  {
   "cell_type": "code",
   "execution_count": 6,
   "metadata": {},
   "outputs": [
    {
     "data": {
      "text/plain": [
       "QDevilQDAC2(settings=alias='qdac2' dacs=[QDevilQDAC2ChannelSettings(id=0, voltage=0.0, span=<QDevilQDAC2Span.LOW: 'low'>, ramping_enabled=True, ramping_rate=1.0, low_pass_filter=<QDevilQDAC2LowPassFilter.DC: 'dc'>), QDevilQDAC2ChannelSettings(id=1, voltage=0.0, span=<QDevilQDAC2Span.LOW: 'low'>, ramping_enabled=True, ramping_rate=1.0, low_pass_filter=<QDevilQDAC2LowPassFilter.DC: 'dc'>), QDevilQDAC2ChannelSettings(id=2, voltage=0.0, span=<QDevilQDAC2Span.LOW: 'low'>, ramping_enabled=True, ramping_rate=1.0, low_pass_filter=<QDevilQDAC2LowPassFilter.DC: 'dc'>), QDevilQDAC2ChannelSettings(id=3, voltage=0.0, span=<QDevilQDAC2Span.LOW: 'low'>, ramping_enabled=True, ramping_rate=1.0, low_pass_filter=<QDevilQDAC2LowPassFilter.DC: 'dc'>), QDevilQDAC2ChannelSettings(id=4, voltage=0.0, span=<QDevilQDAC2Span.LOW: 'low'>, ramping_enabled=True, ramping_rate=1.0, low_pass_filter=<QDevilQDAC2LowPassFilter.DC: 'dc'>), QDevilQDAC2ChannelSettings(id=5, voltage=0.0, span=<QDevilQDAC2Span.LOW: 'low'>, ramping_enabled=True, ramping_rate=1.0, low_pass_filter=<QDevilQDAC2LowPassFilter.DC: 'dc'>), QDevilQDAC2ChannelSettings(id=6, voltage=0.0, span=<QDevilQDAC2Span.LOW: 'low'>, ramping_enabled=True, ramping_rate=1.0, low_pass_filter=<QDevilQDAC2LowPassFilter.DC: 'dc'>), QDevilQDAC2ChannelSettings(id=7, voltage=0.0, span=<QDevilQDAC2Span.LOW: 'low'>, ramping_enabled=True, ramping_rate=1.0, low_pass_filter=<QDevilQDAC2LowPassFilter.DC: 'dc'>), QDevilQDAC2ChannelSettings(id=8, voltage=0.0, span=<QDevilQDAC2Span.LOW: 'low'>, ramping_enabled=True, ramping_rate=1.0, low_pass_filter=<QDevilQDAC2LowPassFilter.DC: 'dc'>), QDevilQDAC2ChannelSettings(id=9, voltage=0.0, span=<QDevilQDAC2Span.LOW: 'low'>, ramping_enabled=True, ramping_rate=1.0, low_pass_filter=<QDevilQDAC2LowPassFilter.DC: 'dc'>), QDevilQDAC2ChannelSettings(id=10, voltage=0.0, span=<QDevilQDAC2Span.LOW: 'low'>, ramping_enabled=True, ramping_rate=1.0, low_pass_filter=<QDevilQDAC2LowPassFilter.DC: 'dc'>), QDevilQDAC2ChannelSettings(id=11, voltage=0.0, span=<QDevilQDAC2Span.LOW: 'low'>, ramping_enabled=True, ramping_rate=1.0, low_pass_filter=<QDevilQDAC2LowPassFilter.DC: 'dc'>), QDevilQDAC2ChannelSettings(id=12, voltage=0.0, span=<QDevilQDAC2Span.LOW: 'low'>, ramping_enabled=True, ramping_rate=1.0, low_pass_filter=<QDevilQDAC2LowPassFilter.DC: 'dc'>), QDevilQDAC2ChannelSettings(id=13, voltage=0.0, span=<QDevilQDAC2Span.LOW: 'low'>, ramping_enabled=True, ramping_rate=1.0, low_pass_filter=<QDevilQDAC2LowPassFilter.DC: 'dc'>), QDevilQDAC2ChannelSettings(id=14, voltage=0.0, span=<QDevilQDAC2Span.LOW: 'low'>, ramping_enabled=True, ramping_rate=1.0, low_pass_filter=<QDevilQDAC2LowPassFilter.DC: 'dc'>), QDevilQDAC2ChannelSettings(id=15, voltage=0.0, span=<QDevilQDAC2Span.LOW: 'low'>, ramping_enabled=True, ramping_rate=1.0, low_pass_filter=<QDevilQDAC2LowPassFilter.DC: 'dc'>), QDevilQDAC2ChannelSettings(id=16, voltage=0.0, span=<QDevilQDAC2Span.LOW: 'low'>, ramping_enabled=True, ramping_rate=1.0, low_pass_filter=<QDevilQDAC2LowPassFilter.DC: 'dc'>), QDevilQDAC2ChannelSettings(id=17, voltage=0.0, span=<QDevilQDAC2Span.LOW: 'low'>, ramping_enabled=True, ramping_rate=1.0, low_pass_filter=<QDevilQDAC2LowPassFilter.DC: 'dc'>), QDevilQDAC2ChannelSettings(id=18, voltage=0.0, span=<QDevilQDAC2Span.LOW: 'low'>, ramping_enabled=True, ramping_rate=1.0, low_pass_filter=<QDevilQDAC2LowPassFilter.DC: 'dc'>), QDevilQDAC2ChannelSettings(id=19, voltage=0.0, span=<QDevilQDAC2Span.LOW: 'low'>, ramping_enabled=True, ramping_rate=1.0, low_pass_filter=<QDevilQDAC2LowPassFilter.DC: 'dc'>), QDevilQDAC2ChannelSettings(id=20, voltage=0.0, span=<QDevilQDAC2Span.LOW: 'low'>, ramping_enabled=True, ramping_rate=1.0, low_pass_filter=<QDevilQDAC2LowPassFilter.DC: 'dc'>), QDevilQDAC2ChannelSettings(id=21, voltage=0.0, span=<QDevilQDAC2Span.LOW: 'low'>, ramping_enabled=True, ramping_rate=1.0, low_pass_filter=<QDevilQDAC2LowPassFilter.DC: 'dc'>), QDevilQDAC2ChannelSettings(id=22, voltage=0.0, span=<QDevilQDAC2Span.LOW: 'low'>, ramping_enabled=True, ramping_rate=1.0, low_pass_filter=<QDevilQDAC2LowPassFilter.DC: 'dc'>), QDevilQDAC2ChannelSettings(id=23, voltage=0.0, span=<QDevilQDAC2Span.LOW: 'low'>, ramping_enabled=True, ramping_rate=1.0, low_pass_filter=<QDevilQDAC2LowPassFilter.DC: 'dc'>)])"
      ]
     },
     "execution_count": 6,
     "metadata": {},
     "output_type": "execute_result"
    }
   ],
   "source": [
    "qdac2 = QDevilQDAC2()\n",
    "qdac2"
   ]
  },
  {
   "cell_type": "code",
   "execution_count": 7,
   "metadata": {},
   "outputs": [],
   "source": [
    "second_qdac2 = QDevilQDAC2()\n",
    "second_qdac2.settings.alias = \"second_qdac2\""
   ]
  },
  {
   "cell_type": "code",
   "execution_count": 8,
   "metadata": {},
   "outputs": [
    {
     "data": {
      "text/plain": [
       "RohdeSchwarzSG100(settings=alias='sg100' power=0.0 frequency=1000000000.0 rf_on=False)"
      ]
     },
     "execution_count": 8,
     "metadata": {},
     "output_type": "execute_result"
    }
   ],
   "source": [
    "sg100 = RohdeSchwarzSG100()\n",
    "sg100"
   ]
  },
  {
   "cell_type": "code",
   "execution_count": 9,
   "metadata": {},
   "outputs": [
    {
     "data": {
      "text/plain": [
       "QbloxS4G(settings=alias='s4g' dacs=[QbloxS4GChannelSettings(id=0, current=0.0, span=<QbloxS4gSpan.MIN_BI: 'min_bi'>, ramping_enabled=True, ramping_rate=0.001), QbloxS4GChannelSettings(id=1, current=0.0, span=<QbloxS4gSpan.MIN_BI: 'min_bi'>, ramping_enabled=True, ramping_rate=0.001), QbloxS4GChannelSettings(id=2, current=0.0, span=<QbloxS4gSpan.MIN_BI: 'min_bi'>, ramping_enabled=True, ramping_rate=0.001), QbloxS4GChannelSettings(id=3, current=0.0, span=<QbloxS4gSpan.MIN_BI: 'min_bi'>, ramping_enabled=True, ramping_rate=0.001)])"
      ]
     },
     "execution_count": 9,
     "metadata": {},
     "output_type": "execute_result"
    }
   ],
   "source": [
    "s4g = QbloxS4G()\n",
    "s4g"
   ]
  },
  {
   "cell_type": "code",
   "execution_count": 10,
   "metadata": {},
   "outputs": [
    {
     "data": {
      "text/plain": [
       "QbloxD5A(settings=alias='d5a' dacs=[QbloxD5AChannelSettings(id=0, voltage=0.0, span=<QbloxD5ASpan.BI_2V: 'bi_2V'>, ramping_enabled=True, ramping_rate=0.1), QbloxD5AChannelSettings(id=1, voltage=0.0, span=<QbloxD5ASpan.BI_2V: 'bi_2V'>, ramping_enabled=True, ramping_rate=0.1), QbloxD5AChannelSettings(id=2, voltage=0.0, span=<QbloxD5ASpan.BI_2V: 'bi_2V'>, ramping_enabled=True, ramping_rate=0.1), QbloxD5AChannelSettings(id=3, voltage=0.0, span=<QbloxD5ASpan.BI_2V: 'bi_2V'>, ramping_enabled=True, ramping_rate=0.1), QbloxD5AChannelSettings(id=4, voltage=0.0, span=<QbloxD5ASpan.BI_2V: 'bi_2V'>, ramping_enabled=True, ramping_rate=0.1), QbloxD5AChannelSettings(id=5, voltage=0.0, span=<QbloxD5ASpan.BI_2V: 'bi_2V'>, ramping_enabled=True, ramping_rate=0.1), QbloxD5AChannelSettings(id=6, voltage=0.0, span=<QbloxD5ASpan.BI_2V: 'bi_2V'>, ramping_enabled=True, ramping_rate=0.1), QbloxD5AChannelSettings(id=7, voltage=0.0, span=<QbloxD5ASpan.BI_2V: 'bi_2V'>, ramping_enabled=True, ramping_rate=0.1), QbloxD5AChannelSettings(id=8, voltage=0.0, span=<QbloxD5ASpan.BI_2V: 'bi_2V'>, ramping_enabled=True, ramping_rate=0.1), QbloxD5AChannelSettings(id=9, voltage=0.0, span=<QbloxD5ASpan.BI_2V: 'bi_2V'>, ramping_enabled=True, ramping_rate=0.1), QbloxD5AChannelSettings(id=10, voltage=0.0, span=<QbloxD5ASpan.BI_2V: 'bi_2V'>, ramping_enabled=True, ramping_rate=0.1), QbloxD5AChannelSettings(id=11, voltage=0.0, span=<QbloxD5ASpan.BI_2V: 'bi_2V'>, ramping_enabled=True, ramping_rate=0.1), QbloxD5AChannelSettings(id=12, voltage=0.0, span=<QbloxD5ASpan.BI_2V: 'bi_2V'>, ramping_enabled=True, ramping_rate=0.1), QbloxD5AChannelSettings(id=13, voltage=0.0, span=<QbloxD5ASpan.BI_2V: 'bi_2V'>, ramping_enabled=True, ramping_rate=0.1), QbloxD5AChannelSettings(id=14, voltage=0.0, span=<QbloxD5ASpan.BI_2V: 'bi_2V'>, ramping_enabled=True, ramping_rate=0.1), QbloxD5AChannelSettings(id=15, voltage=0.0, span=<QbloxD5ASpan.BI_2V: 'bi_2V'>, ramping_enabled=True, ramping_rate=0.1)])"
      ]
     },
     "execution_count": 10,
     "metadata": {},
     "output_type": "execute_result"
    }
   ],
   "source": [
    "d5a = QbloxD5A()\n",
    "d5a"
   ]
  },
  {
   "cell_type": "code",
   "execution_count": 11,
   "metadata": {},
   "outputs": [],
   "source": [
    "loaded_instruments = [qcm, qrm, qcm_rf, qrm_rf, qdac2, second_qdac2, sg100, s4g, d5a]"
   ]
  },
  {
   "cell_type": "code",
   "execution_count": 12,
   "metadata": {},
   "outputs": [
    {
     "data": {
      "text/plain": [
       "QDevilQDAC2Controller(settings=alias='qdac2_controller' connection=ConnectionSettings(type=<ConnectionType.TCP_IP: 'tcp_ip'>, address='168.0.0.1') modules=[{'alias': 'qdac2', 'slot': 1}] reset=True, modules=[])"
      ]
     },
     "execution_count": 12,
     "metadata": {},
     "output_type": "execute_result"
    }
   ],
   "source": [
    "qdac2_controller = QDevilQDAC2Controller()\n",
    "qdac2_controller.settings.modules.append({\"alias\": \"qdac2\", \"slot\": 1})\n",
    "qdac2_controller"
   ]
  },
  {
   "cell_type": "code",
   "execution_count": 13,
   "metadata": {},
   "outputs": [
    {
     "data": {
      "text/plain": [
       "QbloxSPIRackController(settings=alias='spi-rack' connection=ConnectionSettings(type=<ConnectionType.TCP_IP: 'tcp_ip'>, address='168.0.0.1') modules=[InstrumentModule(alias='d5a', slot=2), InstrumentModule(alias='s4g', slot=10)] reset=True, modules=[QbloxD5A(settings=alias='d5a' dacs=[QbloxD5AChannelSettings(id=0, voltage=0.0, span=<QbloxD5ASpan.BI_2V: 'bi_2V'>, ramping_enabled=True, ramping_rate=0.1), QbloxD5AChannelSettings(id=1, voltage=0.0, span=<QbloxD5ASpan.BI_2V: 'bi_2V'>, ramping_enabled=True, ramping_rate=0.1), QbloxD5AChannelSettings(id=2, voltage=0.0, span=<QbloxD5ASpan.BI_2V: 'bi_2V'>, ramping_enabled=True, ramping_rate=0.1), QbloxD5AChannelSettings(id=3, voltage=0.0, span=<QbloxD5ASpan.BI_2V: 'bi_2V'>, ramping_enabled=True, ramping_rate=0.1), QbloxD5AChannelSettings(id=4, voltage=0.0, span=<QbloxD5ASpan.BI_2V: 'bi_2V'>, ramping_enabled=True, ramping_rate=0.1), QbloxD5AChannelSettings(id=5, voltage=0.0, span=<QbloxD5ASpan.BI_2V: 'bi_2V'>, ramping_enabled=True, ramping_rate=0.1), QbloxD5AChannelSettings(id=6, voltage=0.0, span=<QbloxD5ASpan.BI_2V: 'bi_2V'>, ramping_enabled=True, ramping_rate=0.1), QbloxD5AChannelSettings(id=7, voltage=0.0, span=<QbloxD5ASpan.BI_2V: 'bi_2V'>, ramping_enabled=True, ramping_rate=0.1), QbloxD5AChannelSettings(id=8, voltage=0.0, span=<QbloxD5ASpan.BI_2V: 'bi_2V'>, ramping_enabled=True, ramping_rate=0.1), QbloxD5AChannelSettings(id=9, voltage=0.0, span=<QbloxD5ASpan.BI_2V: 'bi_2V'>, ramping_enabled=True, ramping_rate=0.1), QbloxD5AChannelSettings(id=10, voltage=0.0, span=<QbloxD5ASpan.BI_2V: 'bi_2V'>, ramping_enabled=True, ramping_rate=0.1), QbloxD5AChannelSettings(id=11, voltage=0.0, span=<QbloxD5ASpan.BI_2V: 'bi_2V'>, ramping_enabled=True, ramping_rate=0.1), QbloxD5AChannelSettings(id=12, voltage=0.0, span=<QbloxD5ASpan.BI_2V: 'bi_2V'>, ramping_enabled=True, ramping_rate=0.1), QbloxD5AChannelSettings(id=13, voltage=0.0, span=<QbloxD5ASpan.BI_2V: 'bi_2V'>, ramping_enabled=True, ramping_rate=0.1), QbloxD5AChannelSettings(id=14, voltage=0.0, span=<QbloxD5ASpan.BI_2V: 'bi_2V'>, ramping_enabled=True, ramping_rate=0.1), QbloxD5AChannelSettings(id=15, voltage=0.0, span=<QbloxD5ASpan.BI_2V: 'bi_2V'>, ramping_enabled=True, ramping_rate=0.1)]), QbloxS4G(settings=alias='s4g' dacs=[QbloxS4GChannelSettings(id=0, current=0.0, span=<QbloxS4gSpan.MIN_BI: 'min_bi'>, ramping_enabled=True, ramping_rate=0.001), QbloxS4GChannelSettings(id=1, current=0.0, span=<QbloxS4gSpan.MIN_BI: 'min_bi'>, ramping_enabled=True, ramping_rate=0.001), QbloxS4GChannelSettings(id=2, current=0.0, span=<QbloxS4gSpan.MIN_BI: 'min_bi'>, ramping_enabled=True, ramping_rate=0.001), QbloxS4GChannelSettings(id=3, current=0.0, span=<QbloxS4gSpan.MIN_BI: 'min_bi'>, ramping_enabled=True, ramping_rate=0.001)])])"
      ]
     },
     "execution_count": 13,
     "metadata": {},
     "output_type": "execute_result"
    }
   ],
   "source": [
    "spi_rack_controller = QbloxSPIRackController(\n",
    "    settings=QbloxSPIRackControllerSettings(\n",
    "        alias=\"spi-rack\", modules=[{\"alias\": d5a.alias, \"slot\": 2}, {\"alias\": s4g.alias, \"slot\": 10}]\n",
    "    ),\n",
    "    loaded_instruments=loaded_instruments,\n",
    ")\n",
    "spi_rack_controller"
   ]
  },
  {
   "cell_type": "code",
   "execution_count": 14,
   "metadata": {},
   "outputs": [
    {
     "data": {
      "text/plain": [
       "QDevilQDAC2Controller(settings=alias='qdac2_controller' connection=ConnectionSettings(type=<ConnectionType.TCP_IP: 'tcp_ip'>, address='168.0.0.1') modules=[InstrumentModule(alias='qdac2', slot=0)] reset=True, modules=[QDevilQDAC2(settings=alias='qdac2' dacs=[QDevilQDAC2ChannelSettings(id=0, voltage=0.0, span=<QDevilQDAC2Span.LOW: 'low'>, ramping_enabled=True, ramping_rate=1.0, low_pass_filter=<QDevilQDAC2LowPassFilter.DC: 'dc'>), QDevilQDAC2ChannelSettings(id=1, voltage=0.0, span=<QDevilQDAC2Span.LOW: 'low'>, ramping_enabled=True, ramping_rate=1.0, low_pass_filter=<QDevilQDAC2LowPassFilter.DC: 'dc'>), QDevilQDAC2ChannelSettings(id=2, voltage=0.0, span=<QDevilQDAC2Span.LOW: 'low'>, ramping_enabled=True, ramping_rate=1.0, low_pass_filter=<QDevilQDAC2LowPassFilter.DC: 'dc'>), QDevilQDAC2ChannelSettings(id=3, voltage=0.0, span=<QDevilQDAC2Span.LOW: 'low'>, ramping_enabled=True, ramping_rate=1.0, low_pass_filter=<QDevilQDAC2LowPassFilter.DC: 'dc'>), QDevilQDAC2ChannelSettings(id=4, voltage=0.0, span=<QDevilQDAC2Span.LOW: 'low'>, ramping_enabled=True, ramping_rate=1.0, low_pass_filter=<QDevilQDAC2LowPassFilter.DC: 'dc'>), QDevilQDAC2ChannelSettings(id=5, voltage=0.0, span=<QDevilQDAC2Span.LOW: 'low'>, ramping_enabled=True, ramping_rate=1.0, low_pass_filter=<QDevilQDAC2LowPassFilter.DC: 'dc'>), QDevilQDAC2ChannelSettings(id=6, voltage=0.0, span=<QDevilQDAC2Span.LOW: 'low'>, ramping_enabled=True, ramping_rate=1.0, low_pass_filter=<QDevilQDAC2LowPassFilter.DC: 'dc'>), QDevilQDAC2ChannelSettings(id=7, voltage=0.0, span=<QDevilQDAC2Span.LOW: 'low'>, ramping_enabled=True, ramping_rate=1.0, low_pass_filter=<QDevilQDAC2LowPassFilter.DC: 'dc'>), QDevilQDAC2ChannelSettings(id=8, voltage=0.0, span=<QDevilQDAC2Span.LOW: 'low'>, ramping_enabled=True, ramping_rate=1.0, low_pass_filter=<QDevilQDAC2LowPassFilter.DC: 'dc'>), QDevilQDAC2ChannelSettings(id=9, voltage=0.0, span=<QDevilQDAC2Span.LOW: 'low'>, ramping_enabled=True, ramping_rate=1.0, low_pass_filter=<QDevilQDAC2LowPassFilter.DC: 'dc'>), QDevilQDAC2ChannelSettings(id=10, voltage=0.0, span=<QDevilQDAC2Span.LOW: 'low'>, ramping_enabled=True, ramping_rate=1.0, low_pass_filter=<QDevilQDAC2LowPassFilter.DC: 'dc'>), QDevilQDAC2ChannelSettings(id=11, voltage=0.0, span=<QDevilQDAC2Span.LOW: 'low'>, ramping_enabled=True, ramping_rate=1.0, low_pass_filter=<QDevilQDAC2LowPassFilter.DC: 'dc'>), QDevilQDAC2ChannelSettings(id=12, voltage=0.0, span=<QDevilQDAC2Span.LOW: 'low'>, ramping_enabled=True, ramping_rate=1.0, low_pass_filter=<QDevilQDAC2LowPassFilter.DC: 'dc'>), QDevilQDAC2ChannelSettings(id=13, voltage=0.0, span=<QDevilQDAC2Span.LOW: 'low'>, ramping_enabled=True, ramping_rate=1.0, low_pass_filter=<QDevilQDAC2LowPassFilter.DC: 'dc'>), QDevilQDAC2ChannelSettings(id=14, voltage=0.0, span=<QDevilQDAC2Span.LOW: 'low'>, ramping_enabled=True, ramping_rate=1.0, low_pass_filter=<QDevilQDAC2LowPassFilter.DC: 'dc'>), QDevilQDAC2ChannelSettings(id=15, voltage=0.0, span=<QDevilQDAC2Span.LOW: 'low'>, ramping_enabled=True, ramping_rate=1.0, low_pass_filter=<QDevilQDAC2LowPassFilter.DC: 'dc'>), QDevilQDAC2ChannelSettings(id=16, voltage=0.0, span=<QDevilQDAC2Span.LOW: 'low'>, ramping_enabled=True, ramping_rate=1.0, low_pass_filter=<QDevilQDAC2LowPassFilter.DC: 'dc'>), QDevilQDAC2ChannelSettings(id=17, voltage=0.0, span=<QDevilQDAC2Span.LOW: 'low'>, ramping_enabled=True, ramping_rate=1.0, low_pass_filter=<QDevilQDAC2LowPassFilter.DC: 'dc'>), QDevilQDAC2ChannelSettings(id=18, voltage=0.0, span=<QDevilQDAC2Span.LOW: 'low'>, ramping_enabled=True, ramping_rate=1.0, low_pass_filter=<QDevilQDAC2LowPassFilter.DC: 'dc'>), QDevilQDAC2ChannelSettings(id=19, voltage=0.0, span=<QDevilQDAC2Span.LOW: 'low'>, ramping_enabled=True, ramping_rate=1.0, low_pass_filter=<QDevilQDAC2LowPassFilter.DC: 'dc'>), QDevilQDAC2ChannelSettings(id=20, voltage=0.0, span=<QDevilQDAC2Span.LOW: 'low'>, ramping_enabled=True, ramping_rate=1.0, low_pass_filter=<QDevilQDAC2LowPassFilter.DC: 'dc'>), QDevilQDAC2ChannelSettings(id=21, voltage=0.0, span=<QDevilQDAC2Span.LOW: 'low'>, ramping_enabled=True, ramping_rate=1.0, low_pass_filter=<QDevilQDAC2LowPassFilter.DC: 'dc'>), QDevilQDAC2ChannelSettings(id=22, voltage=0.0, span=<QDevilQDAC2Span.LOW: 'low'>, ramping_enabled=True, ramping_rate=1.0, low_pass_filter=<QDevilQDAC2LowPassFilter.DC: 'dc'>), QDevilQDAC2ChannelSettings(id=23, voltage=0.0, span=<QDevilQDAC2Span.LOW: 'low'>, ramping_enabled=True, ramping_rate=1.0, low_pass_filter=<QDevilQDAC2LowPassFilter.DC: 'dc'>)])])"
      ]
     },
     "execution_count": 14,
     "metadata": {},
     "output_type": "execute_result"
    }
   ],
   "source": [
    "qdac2_controller = QDevilQDAC2Controller(\n",
    "    settings=QDevilQDAC2ControllerSettings(alias=\"qdac2_controller\", modules=[{\"alias\": \"qdac2\", \"slot\": 0}]),\n",
    "    loaded_instruments=loaded_instruments,\n",
    ")\n",
    "qdac2_controller"
   ]
  },
  {
   "cell_type": "code",
   "execution_count": 15,
   "metadata": {},
   "outputs": [
    {
     "data": {
      "text/plain": [
       "QbloxClusterController(settings=alias='qblox_cluster' connection=ConnectionSettings(type=<ConnectionType.TCP_IP: 'tcp_ip'>, address='168.0.0.1') modules=[InstrumentModule(alias='qcm', slot=0), InstrumentModule(alias='qrm', slot=5), InstrumentModule(alias='qcm-rf', slot=10), InstrumentModule(alias='qrm-rf', slot=15)] reset=True reference_clock=<ReferenceClock.INTERNAL: 'internal'>, modules=[QbloxQCM(settings=alias='qcm' timeout=1 outputs=[QbloxLFOutputSettings(port=0, offset=0.0), QbloxLFOutputSettings(port=1, offset=0.0), QbloxLFOutputSettings(port=2, offset=0.0), QbloxLFOutputSettings(port=3, offset=0.0)] sequencers=[QbloxSequencerSettings(id=0, outputs=[0], hardware_modulation=True, intermediate_frequency=500000000.0, gain_imbalance=0.0, phase_imbalance=0.0, gain_i=1.0, gain_q=1.0, offset_i=0.0, offset_q=0.0), QbloxSequencerSettings(id=1, outputs=[0], hardware_modulation=True, intermediate_frequency=500000000.0, gain_imbalance=0.0, phase_imbalance=0.0, gain_i=1.0, gain_q=1.0, offset_i=0.0, offset_q=0.0), QbloxSequencerSettings(id=2, outputs=[0], hardware_modulation=True, intermediate_frequency=500000000.0, gain_imbalance=0.0, phase_imbalance=0.0, gain_i=1.0, gain_q=1.0, offset_i=0.0, offset_q=0.0), QbloxSequencerSettings(id=3, outputs=[0], hardware_modulation=True, intermediate_frequency=500000000.0, gain_imbalance=0.0, phase_imbalance=0.0, gain_i=1.0, gain_q=1.0, offset_i=0.0, offset_q=0.0), QbloxSequencerSettings(id=4, outputs=[0], hardware_modulation=True, intermediate_frequency=500000000.0, gain_imbalance=0.0, phase_imbalance=0.0, gain_i=1.0, gain_q=1.0, offset_i=0.0, offset_q=0.0), QbloxSequencerSettings(id=5, outputs=[0], hardware_modulation=True, intermediate_frequency=500000000.0, gain_imbalance=0.0, phase_imbalance=0.0, gain_i=1.0, gain_q=1.0, offset_i=0.0, offset_q=0.0)]), QbloxQRM(settings=alias='qrm' timeout=1 outputs=[QbloxLFOutputSettings(port=0, offset=0.0), QbloxLFOutputSettings(port=1, offset=0.0)] sequencers=[QbloxADCSequencerSettings(id=0, outputs=[0], hardware_modulation=True, intermediate_frequency=500000000.0, gain_imbalance=0.0, phase_imbalance=0.0, gain_i=1.0, gain_q=1.0, offset_i=0.0, offset_q=0.0, inputs=[0], hardware_demodulation=True, integration_length=1000, threshold=0.0, threshold_rotation=0.0, time_of_flight=0), QbloxADCSequencerSettings(id=1, outputs=[0], hardware_modulation=True, intermediate_frequency=500000000.0, gain_imbalance=0.0, phase_imbalance=0.0, gain_i=1.0, gain_q=1.0, offset_i=0.0, offset_q=0.0, inputs=[0], hardware_demodulation=True, integration_length=1000, threshold=0.0, threshold_rotation=0.0, time_of_flight=0), QbloxADCSequencerSettings(id=2, outputs=[0], hardware_modulation=True, intermediate_frequency=500000000.0, gain_imbalance=0.0, phase_imbalance=0.0, gain_i=1.0, gain_q=1.0, offset_i=0.0, offset_q=0.0, inputs=[0], hardware_demodulation=True, integration_length=1000, threshold=0.0, threshold_rotation=0.0, time_of_flight=0), QbloxADCSequencerSettings(id=3, outputs=[0], hardware_modulation=True, intermediate_frequency=500000000.0, gain_imbalance=0.0, phase_imbalance=0.0, gain_i=1.0, gain_q=1.0, offset_i=0.0, offset_q=0.0, inputs=[0], hardware_demodulation=True, integration_length=1000, threshold=0.0, threshold_rotation=0.0, time_of_flight=0), QbloxADCSequencerSettings(id=4, outputs=[0], hardware_modulation=True, intermediate_frequency=500000000.0, gain_imbalance=0.0, phase_imbalance=0.0, gain_i=1.0, gain_q=1.0, offset_i=0.0, offset_q=0.0, inputs=[0], hardware_demodulation=True, integration_length=1000, threshold=0.0, threshold_rotation=0.0, time_of_flight=0), QbloxADCSequencerSettings(id=5, outputs=[0], hardware_modulation=True, intermediate_frequency=500000000.0, gain_imbalance=0.0, phase_imbalance=0.0, gain_i=1.0, gain_q=1.0, offset_i=0.0, offset_q=0.0, inputs=[0], hardware_demodulation=True, integration_length=1000, threshold=0.0, threshold_rotation=0.0, time_of_flight=0)] inputs=[QbloxLFInputSettings(port=0, gain=0, offset=0.0), QbloxLFInputSettings(port=1, gain=0, offset=0.0)] scope_hardware_averaging=True), QbloxQCMRF(settings=alias='qcm-rf' timeout=1 outputs=[QbloxRFOutputSettings(port=0, lo_enabled=True, lo_frequency=10000000000.0, attenuation=0.0, offset_i=0.0, offset_q=0.0), QbloxRFOutputSettings(port=1, lo_enabled=True, lo_frequency=10000000000.0, attenuation=0.0, offset_i=0.0, offset_q=0.0)] sequencers=[QbloxSequencerSettings(id=0, outputs=[0], hardware_modulation=True, intermediate_frequency=500000000.0, gain_imbalance=0.0, phase_imbalance=0.0, gain_i=1.0, gain_q=1.0, offset_i=0.0, offset_q=0.0), QbloxSequencerSettings(id=1, outputs=[0], hardware_modulation=True, intermediate_frequency=500000000.0, gain_imbalance=0.0, phase_imbalance=0.0, gain_i=1.0, gain_q=1.0, offset_i=0.0, offset_q=0.0), QbloxSequencerSettings(id=2, outputs=[0], hardware_modulation=True, intermediate_frequency=500000000.0, gain_imbalance=0.0, phase_imbalance=0.0, gain_i=1.0, gain_q=1.0, offset_i=0.0, offset_q=0.0), QbloxSequencerSettings(id=3, outputs=[0], hardware_modulation=True, intermediate_frequency=500000000.0, gain_imbalance=0.0, phase_imbalance=0.0, gain_i=1.0, gain_q=1.0, offset_i=0.0, offset_q=0.0), QbloxSequencerSettings(id=4, outputs=[0], hardware_modulation=True, intermediate_frequency=500000000.0, gain_imbalance=0.0, phase_imbalance=0.0, gain_i=1.0, gain_q=1.0, offset_i=0.0, offset_q=0.0), QbloxSequencerSettings(id=5, outputs=[0], hardware_modulation=True, intermediate_frequency=500000000.0, gain_imbalance=0.0, phase_imbalance=0.0, gain_i=1.0, gain_q=1.0, offset_i=0.0, offset_q=0.0)]), QbloxQRMRF(settings=alias='qrm-rf' timeout=1 outputs=[QbloxRFOutputSettings(port=0, lo_enabled=True, lo_frequency=10000000000.0, attenuation=0.0, offset_i=0.0, offset_q=0.0)] sequencers=[QbloxADCSequencerSettings(id=0, outputs=[0], hardware_modulation=True, intermediate_frequency=500000000.0, gain_imbalance=0.0, phase_imbalance=0.0, gain_i=1.0, gain_q=1.0, offset_i=0.0, offset_q=0.0, inputs=[0], hardware_demodulation=True, integration_length=1000, threshold=0.0, threshold_rotation=0.0, time_of_flight=0), QbloxADCSequencerSettings(id=1, outputs=[0], hardware_modulation=True, intermediate_frequency=500000000.0, gain_imbalance=0.0, phase_imbalance=0.0, gain_i=1.0, gain_q=1.0, offset_i=0.0, offset_q=0.0, inputs=[0], hardware_demodulation=True, integration_length=1000, threshold=0.0, threshold_rotation=0.0, time_of_flight=0), QbloxADCSequencerSettings(id=2, outputs=[0], hardware_modulation=True, intermediate_frequency=500000000.0, gain_imbalance=0.0, phase_imbalance=0.0, gain_i=1.0, gain_q=1.0, offset_i=0.0, offset_q=0.0, inputs=[0], hardware_demodulation=True, integration_length=1000, threshold=0.0, threshold_rotation=0.0, time_of_flight=0), QbloxADCSequencerSettings(id=3, outputs=[0], hardware_modulation=True, intermediate_frequency=500000000.0, gain_imbalance=0.0, phase_imbalance=0.0, gain_i=1.0, gain_q=1.0, offset_i=0.0, offset_q=0.0, inputs=[0], hardware_demodulation=True, integration_length=1000, threshold=0.0, threshold_rotation=0.0, time_of_flight=0), QbloxADCSequencerSettings(id=4, outputs=[0], hardware_modulation=True, intermediate_frequency=500000000.0, gain_imbalance=0.0, phase_imbalance=0.0, gain_i=1.0, gain_q=1.0, offset_i=0.0, offset_q=0.0, inputs=[0], hardware_demodulation=True, integration_length=1000, threshold=0.0, threshold_rotation=0.0, time_of_flight=0), QbloxADCSequencerSettings(id=5, outputs=[0], hardware_modulation=True, intermediate_frequency=500000000.0, gain_imbalance=0.0, phase_imbalance=0.0, gain_i=1.0, gain_q=1.0, offset_i=0.0, offset_q=0.0, inputs=[0], hardware_demodulation=True, integration_length=1000, threshold=0.0, threshold_rotation=0.0, time_of_flight=0)] inputs=[QbloxRFInputSettings(port=0, attenuation=0, offset_i=0.0, offset_q=0.0)])])"
      ]
     },
     "execution_count": 15,
     "metadata": {},
     "output_type": "execute_result"
    }
   ],
   "source": [
    "qblox_controller = QbloxClusterController(\n",
    "    settings=QbloxClusterControllerSettings(\n",
    "        alias=\"qblox_cluster\",\n",
    "        modules=[\n",
    "            {\"alias\": qcm.alias, \"slot\": 0},\n",
    "            {\"alias\": qrm.alias, \"slot\": 5},\n",
    "            {\"alias\": qcm_rf.alias, \"slot\": 10},\n",
    "            {\"alias\": qrm_rf.alias, \"slot\": 15},\n",
    "        ],\n",
    "    ),\n",
    "    loaded_instruments=loaded_instruments,\n",
    ")\n",
    "qblox_controller"
   ]
  },
  {
   "cell_type": "code",
   "execution_count": 16,
   "metadata": {},
   "outputs": [
    {
     "data": {
      "text/plain": [
       "Runcard(name='saruman', instruments=[], instrument_controllers=[])"
      ]
     },
     "execution_count": 16,
     "metadata": {},
     "output_type": "execute_result"
    }
   ],
   "source": [
    "runcard = Runcard(name=\"saruman\")\n",
    "runcard"
   ]
  },
  {
   "cell_type": "code",
   "execution_count": 17,
   "metadata": {},
   "outputs": [],
   "source": [
    "runcard.instruments = [instrument.to_runcard() for instrument in loaded_instruments]"
   ]
  },
  {
   "cell_type": "code",
   "execution_count": 18,
   "metadata": {},
   "outputs": [],
   "source": [
    "runcard.add_instrument_controller(qdac2_controller)\n",
    "runcard.add_instrument_controller(qblox_controller)\n",
    "runcard.add_instrument_controller(spi_rack_controller)"
   ]
  },
  {
   "cell_type": "code",
   "execution_count": 19,
   "metadata": {},
   "outputs": [],
   "source": [
    "runcard.save_to(\"runcard.yml\")"
   ]
  },
  {
   "cell_type": "code",
   "execution_count": null,
   "metadata": {},
   "outputs": [
    {
     "name": "stdout",
     "output_type": "stream",
     "text": [
      "[<Parameter.TIMEOUT: 'timeout'>, <Parameter.GAIN_I: 'gain_i'>, <Parameter.GAIN_Q: 'gain_q'>, <Parameter.OFFSET_I: 'offset_i'>, <Parameter.OFFSET_Q: 'offset_q'>, <Parameter.HARDWARE_MODULATION: 'hardware_modulation'>, <Parameter.IF: 'intermediate_frequency'>, <Parameter.GAIN_IMBALANCE: 'gain_imbalance'>, <Parameter.PHASE_IMBALANCE: 'phase_imbalance'>]\n"
     ]
    }
   ],
   "source": [
    "print(qcm.get_parameters())"
   ]
  },
  {
   "cell_type": "code",
   "execution_count": 42,
   "metadata": {},
   "outputs": [
    {
     "data": {
      "text/plain": [
       "QbloxQCM(settings=alias='qcm' timeout=1 outputs=[QbloxLFOutputSettings(port=0, offset=0.5), QbloxLFOutputSettings(port=1, offset=0.0), QbloxLFOutputSettings(port=2, offset=0.0), QbloxLFOutputSettings(port=3, offset=0.0)] sequencers=[QbloxSequencerSettings(id=0, outputs=[0], hardware_modulation=True, intermediate_frequency=500000000.0, gain_imbalance=0.0, phase_imbalance=0.0, gain_i=0.5, gain_q=1.0, offset_i=0.0, offset_q=0.0), QbloxSequencerSettings(id=1, outputs=[0], hardware_modulation=True, intermediate_frequency=500000000.0, gain_imbalance=0.0, phase_imbalance=0.0, gain_i=1.0, gain_q=1.0, offset_i=0.0, offset_q=0.0), QbloxSequencerSettings(id=2, outputs=[0], hardware_modulation=True, intermediate_frequency=500000000.0, gain_imbalance=0.0, phase_imbalance=0.0, gain_i=0.5, gain_q=1.0, offset_i=0.0, offset_q=0.0), QbloxSequencerSettings(id=3, outputs=[0], hardware_modulation=True, intermediate_frequency=500000000.0, gain_imbalance=0.0, phase_imbalance=0.0, gain_i=1.0, gain_q=1.0, offset_i=0.0, offset_q=0.0), QbloxSequencerSettings(id=4, outputs=[0], hardware_modulation=True, intermediate_frequency=500000000.0, gain_imbalance=0.0, phase_imbalance=0.0, gain_i=1.0, gain_q=1.0, offset_i=0.0, offset_q=0.0), QbloxSequencerSettings(id=5, outputs=[0], hardware_modulation=True, intermediate_frequency=500000000.0, gain_imbalance=0.0, phase_imbalance=0.0, gain_i=1.0, gain_q=1.0, offset_i=0.0, offset_q=0.0)])"
      ]
     },
     "execution_count": 42,
     "metadata": {},
     "output_type": "execute_result"
    }
   ],
   "source": [
    "qcm.set_parameter(parameter=Parameter.OFFSET, value=0.5, output=0)\n",
    "qcm.set_parameter(parameter=Parameter.GAIN_I, value=0.5, channel=2)\n",
    "qcm.set_parameter(Parameter.GAIN_I, 0.5, 0)\n",
    "qcm"
   ]
  },
  {
   "cell_type": "code",
   "execution_count": 13,
   "metadata": {},
   "outputs": [],
   "source": [
    "wrong_controller = QDevilQDAC2Controller(\n",
    "    settings=QDevilQDAC2ControllerSettings(alias=\"wrong_controller\", modules=[{\"alias\": \"non_existant\", \"slot\": 0}])\n",
    ")"
   ]
  },
  {
   "cell_type": "code",
   "execution_count": 16,
   "metadata": {},
   "outputs": [
    {
     "data": {
      "text/plain": [
       "Runcard(name='saruman', instruments=[QDevilQDAC2RuncardInstrument(type=<InstrumentType.QDEVIL_QDAC2: 'qdac2'>, settings=QDevilQDAC2Settings(alias='qdac2', dacs=[QDevilQDAC2ChannelSettings(id=0, voltage=0.0, span=<QDevilQDAC2Span.LOW: 'low'>, ramping_enabled=True, ramping_rate=1.0, low_pass_filter=<QDevilQDAC2LowPassFilter.DC: 'dc'>), QDevilQDAC2ChannelSettings(id=1, voltage=0.0, span=<QDevilQDAC2Span.LOW: 'low'>, ramping_enabled=True, ramping_rate=1.0, low_pass_filter=<QDevilQDAC2LowPassFilter.DC: 'dc'>), QDevilQDAC2ChannelSettings(id=2, voltage=0.0, span=<QDevilQDAC2Span.LOW: 'low'>, ramping_enabled=True, ramping_rate=1.0, low_pass_filter=<QDevilQDAC2LowPassFilter.DC: 'dc'>), QDevilQDAC2ChannelSettings(id=3, voltage=0.0, span=<QDevilQDAC2Span.LOW: 'low'>, ramping_enabled=True, ramping_rate=1.0, low_pass_filter=<QDevilQDAC2LowPassFilter.DC: 'dc'>), QDevilQDAC2ChannelSettings(id=4, voltage=0.0, span=<QDevilQDAC2Span.LOW: 'low'>, ramping_enabled=True, ramping_rate=1.0, low_pass_filter=<QDevilQDAC2LowPassFilter.DC: 'dc'>), QDevilQDAC2ChannelSettings(id=5, voltage=0.0, span=<QDevilQDAC2Span.LOW: 'low'>, ramping_enabled=True, ramping_rate=1.0, low_pass_filter=<QDevilQDAC2LowPassFilter.DC: 'dc'>), QDevilQDAC2ChannelSettings(id=6, voltage=0.0, span=<QDevilQDAC2Span.LOW: 'low'>, ramping_enabled=True, ramping_rate=1.0, low_pass_filter=<QDevilQDAC2LowPassFilter.DC: 'dc'>), QDevilQDAC2ChannelSettings(id=7, voltage=0.0, span=<QDevilQDAC2Span.LOW: 'low'>, ramping_enabled=True, ramping_rate=1.0, low_pass_filter=<QDevilQDAC2LowPassFilter.DC: 'dc'>), QDevilQDAC2ChannelSettings(id=8, voltage=0.0, span=<QDevilQDAC2Span.LOW: 'low'>, ramping_enabled=True, ramping_rate=1.0, low_pass_filter=<QDevilQDAC2LowPassFilter.DC: 'dc'>), QDevilQDAC2ChannelSettings(id=9, voltage=0.0, span=<QDevilQDAC2Span.LOW: 'low'>, ramping_enabled=True, ramping_rate=1.0, low_pass_filter=<QDevilQDAC2LowPassFilter.DC: 'dc'>), QDevilQDAC2ChannelSettings(id=10, voltage=0.0, span=<QDevilQDAC2Span.LOW: 'low'>, ramping_enabled=True, ramping_rate=1.0, low_pass_filter=<QDevilQDAC2LowPassFilter.DC: 'dc'>), QDevilQDAC2ChannelSettings(id=11, voltage=0.0, span=<QDevilQDAC2Span.LOW: 'low'>, ramping_enabled=True, ramping_rate=1.0, low_pass_filter=<QDevilQDAC2LowPassFilter.DC: 'dc'>), QDevilQDAC2ChannelSettings(id=12, voltage=0.0, span=<QDevilQDAC2Span.LOW: 'low'>, ramping_enabled=True, ramping_rate=1.0, low_pass_filter=<QDevilQDAC2LowPassFilter.DC: 'dc'>), QDevilQDAC2ChannelSettings(id=13, voltage=0.0, span=<QDevilQDAC2Span.LOW: 'low'>, ramping_enabled=True, ramping_rate=1.0, low_pass_filter=<QDevilQDAC2LowPassFilter.DC: 'dc'>), QDevilQDAC2ChannelSettings(id=14, voltage=0.0, span=<QDevilQDAC2Span.LOW: 'low'>, ramping_enabled=True, ramping_rate=1.0, low_pass_filter=<QDevilQDAC2LowPassFilter.DC: 'dc'>), QDevilQDAC2ChannelSettings(id=15, voltage=0.0, span=<QDevilQDAC2Span.LOW: 'low'>, ramping_enabled=True, ramping_rate=1.0, low_pass_filter=<QDevilQDAC2LowPassFilter.DC: 'dc'>), QDevilQDAC2ChannelSettings(id=16, voltage=0.0, span=<QDevilQDAC2Span.LOW: 'low'>, ramping_enabled=True, ramping_rate=1.0, low_pass_filter=<QDevilQDAC2LowPassFilter.DC: 'dc'>), QDevilQDAC2ChannelSettings(id=17, voltage=0.0, span=<QDevilQDAC2Span.LOW: 'low'>, ramping_enabled=True, ramping_rate=1.0, low_pass_filter=<QDevilQDAC2LowPassFilter.DC: 'dc'>), QDevilQDAC2ChannelSettings(id=18, voltage=0.0, span=<QDevilQDAC2Span.LOW: 'low'>, ramping_enabled=True, ramping_rate=1.0, low_pass_filter=<QDevilQDAC2LowPassFilter.DC: 'dc'>), QDevilQDAC2ChannelSettings(id=19, voltage=0.0, span=<QDevilQDAC2Span.LOW: 'low'>, ramping_enabled=True, ramping_rate=1.0, low_pass_filter=<QDevilQDAC2LowPassFilter.DC: 'dc'>), QDevilQDAC2ChannelSettings(id=20, voltage=0.0, span=<QDevilQDAC2Span.LOW: 'low'>, ramping_enabled=True, ramping_rate=1.0, low_pass_filter=<QDevilQDAC2LowPassFilter.DC: 'dc'>), QDevilQDAC2ChannelSettings(id=21, voltage=0.0, span=<QDevilQDAC2Span.LOW: 'low'>, ramping_enabled=True, ramping_rate=1.0, low_pass_filter=<QDevilQDAC2LowPassFilter.DC: 'dc'>), QDevilQDAC2ChannelSettings(id=22, voltage=0.0, span=<QDevilQDAC2Span.LOW: 'low'>, ramping_enabled=True, ramping_rate=1.0, low_pass_filter=<QDevilQDAC2LowPassFilter.DC: 'dc'>), QDevilQDAC2ChannelSettings(id=23, voltage=0.0, span=<QDevilQDAC2Span.LOW: 'low'>, ramping_enabled=True, ramping_rate=1.0, low_pass_filter=<QDevilQDAC2LowPassFilter.DC: 'dc'>)])), QDevilQDAC2RuncardInstrument(type=<InstrumentType.QDEVIL_QDAC2: 'qdac2'>, settings=QDevilQDAC2Settings(alias='second_qdac2', dacs=[QDevilQDAC2ChannelSettings(id=0, voltage=0.0, span=<QDevilQDAC2Span.LOW: 'low'>, ramping_enabled=True, ramping_rate=1.0, low_pass_filter=<QDevilQDAC2LowPassFilter.DC: 'dc'>), QDevilQDAC2ChannelSettings(id=1, voltage=0.0, span=<QDevilQDAC2Span.LOW: 'low'>, ramping_enabled=True, ramping_rate=1.0, low_pass_filter=<QDevilQDAC2LowPassFilter.DC: 'dc'>), QDevilQDAC2ChannelSettings(id=2, voltage=0.0, span=<QDevilQDAC2Span.LOW: 'low'>, ramping_enabled=True, ramping_rate=1.0, low_pass_filter=<QDevilQDAC2LowPassFilter.DC: 'dc'>), QDevilQDAC2ChannelSettings(id=3, voltage=0.0, span=<QDevilQDAC2Span.LOW: 'low'>, ramping_enabled=True, ramping_rate=1.0, low_pass_filter=<QDevilQDAC2LowPassFilter.DC: 'dc'>), QDevilQDAC2ChannelSettings(id=4, voltage=0.0, span=<QDevilQDAC2Span.LOW: 'low'>, ramping_enabled=True, ramping_rate=1.0, low_pass_filter=<QDevilQDAC2LowPassFilter.DC: 'dc'>), QDevilQDAC2ChannelSettings(id=5, voltage=0.0, span=<QDevilQDAC2Span.LOW: 'low'>, ramping_enabled=True, ramping_rate=1.0, low_pass_filter=<QDevilQDAC2LowPassFilter.DC: 'dc'>), QDevilQDAC2ChannelSettings(id=6, voltage=0.0, span=<QDevilQDAC2Span.LOW: 'low'>, ramping_enabled=True, ramping_rate=1.0, low_pass_filter=<QDevilQDAC2LowPassFilter.DC: 'dc'>), QDevilQDAC2ChannelSettings(id=7, voltage=0.0, span=<QDevilQDAC2Span.LOW: 'low'>, ramping_enabled=True, ramping_rate=1.0, low_pass_filter=<QDevilQDAC2LowPassFilter.DC: 'dc'>), QDevilQDAC2ChannelSettings(id=8, voltage=0.0, span=<QDevilQDAC2Span.LOW: 'low'>, ramping_enabled=True, ramping_rate=1.0, low_pass_filter=<QDevilQDAC2LowPassFilter.DC: 'dc'>), QDevilQDAC2ChannelSettings(id=9, voltage=0.0, span=<QDevilQDAC2Span.LOW: 'low'>, ramping_enabled=True, ramping_rate=1.0, low_pass_filter=<QDevilQDAC2LowPassFilter.DC: 'dc'>), QDevilQDAC2ChannelSettings(id=10, voltage=0.0, span=<QDevilQDAC2Span.LOW: 'low'>, ramping_enabled=True, ramping_rate=1.0, low_pass_filter=<QDevilQDAC2LowPassFilter.DC: 'dc'>), QDevilQDAC2ChannelSettings(id=11, voltage=0.0, span=<QDevilQDAC2Span.LOW: 'low'>, ramping_enabled=True, ramping_rate=1.0, low_pass_filter=<QDevilQDAC2LowPassFilter.DC: 'dc'>), QDevilQDAC2ChannelSettings(id=12, voltage=0.0, span=<QDevilQDAC2Span.LOW: 'low'>, ramping_enabled=True, ramping_rate=1.0, low_pass_filter=<QDevilQDAC2LowPassFilter.DC: 'dc'>), QDevilQDAC2ChannelSettings(id=13, voltage=0.0, span=<QDevilQDAC2Span.LOW: 'low'>, ramping_enabled=True, ramping_rate=1.0, low_pass_filter=<QDevilQDAC2LowPassFilter.DC: 'dc'>), QDevilQDAC2ChannelSettings(id=14, voltage=0.0, span=<QDevilQDAC2Span.LOW: 'low'>, ramping_enabled=True, ramping_rate=1.0, low_pass_filter=<QDevilQDAC2LowPassFilter.DC: 'dc'>), QDevilQDAC2ChannelSettings(id=15, voltage=0.0, span=<QDevilQDAC2Span.LOW: 'low'>, ramping_enabled=True, ramping_rate=1.0, low_pass_filter=<QDevilQDAC2LowPassFilter.DC: 'dc'>), QDevilQDAC2ChannelSettings(id=16, voltage=0.0, span=<QDevilQDAC2Span.LOW: 'low'>, ramping_enabled=True, ramping_rate=1.0, low_pass_filter=<QDevilQDAC2LowPassFilter.DC: 'dc'>), QDevilQDAC2ChannelSettings(id=17, voltage=0.0, span=<QDevilQDAC2Span.LOW: 'low'>, ramping_enabled=True, ramping_rate=1.0, low_pass_filter=<QDevilQDAC2LowPassFilter.DC: 'dc'>), QDevilQDAC2ChannelSettings(id=18, voltage=0.0, span=<QDevilQDAC2Span.LOW: 'low'>, ramping_enabled=True, ramping_rate=1.0, low_pass_filter=<QDevilQDAC2LowPassFilter.DC: 'dc'>), QDevilQDAC2ChannelSettings(id=19, voltage=0.0, span=<QDevilQDAC2Span.LOW: 'low'>, ramping_enabled=True, ramping_rate=1.0, low_pass_filter=<QDevilQDAC2LowPassFilter.DC: 'dc'>), QDevilQDAC2ChannelSettings(id=20, voltage=0.0, span=<QDevilQDAC2Span.LOW: 'low'>, ramping_enabled=True, ramping_rate=1.0, low_pass_filter=<QDevilQDAC2LowPassFilter.DC: 'dc'>), QDevilQDAC2ChannelSettings(id=21, voltage=0.0, span=<QDevilQDAC2Span.LOW: 'low'>, ramping_enabled=True, ramping_rate=1.0, low_pass_filter=<QDevilQDAC2LowPassFilter.DC: 'dc'>), QDevilQDAC2ChannelSettings(id=22, voltage=0.0, span=<QDevilQDAC2Span.LOW: 'low'>, ramping_enabled=True, ramping_rate=1.0, low_pass_filter=<QDevilQDAC2LowPassFilter.DC: 'dc'>), QDevilQDAC2ChannelSettings(id=23, voltage=0.0, span=<QDevilQDAC2Span.LOW: 'low'>, ramping_enabled=True, ramping_rate=1.0, low_pass_filter=<QDevilQDAC2LowPassFilter.DC: 'dc'>)])), RohdeSchwarzSG100RuncardInstrument(type=<InstrumentType.ROHDE_SCHWARZ_SG100: 'sg100'>, settings=RohdeSchwarzSG100Settings(alias='sg100', power=0.0, frequency=1000000000.0, rf_on=False))], instrument_controllers=[QDevilQDAC2RuncardInstrumentController(type=<InstrumentControllerType.QDEVIL_QDAC2_CONTROLLER: 'qdac2_controller'>, settings=QDevilQDAC2ControllerSettings(alias='qdac2_controller', connection=ConnectionSettings(type=<ConnectionType.TCP_IP: 'tcp_ip'>, address='168.0.0.1'), modules=[InstrumentModule(alias='qdac2', slot=0)], reset=True))])"
      ]
     },
     "execution_count": 16,
     "metadata": {},
     "output_type": "execute_result"
    }
   ],
   "source": [
    "loaded_runcard = Runcard.load_from(\"runcard.yml\")\n",
    "loaded_runcard"
   ]
  },
  {
   "cell_type": "code",
   "execution_count": 14,
   "metadata": {},
   "outputs": [
    {
     "ename": "ValidationError",
     "evalue": "1 validation error for Runcard\n  Value error, Instrument 'non_existant' of controller wrong_controller not found in runcard instruments. [type=value_error, input_value=Runcard(name='saruman', i...slot=0)], reset=True))]), input_type=Runcard]\n    For further information visit https://errors.pydantic.dev/2.9/v/value_error",
     "output_type": "error",
     "traceback": [
      "\u001b[0;31m---------------------------------------------------------------------------\u001b[0m",
      "\u001b[0;31mValidationError\u001b[0m                           Traceback (most recent call last)",
      "Cell \u001b[0;32mIn[14], line 1\u001b[0m\n\u001b[0;32m----> 1\u001b[0m \u001b[43mruncard\u001b[49m\u001b[38;5;241;43m.\u001b[39;49m\u001b[43madd_instrument_controller\u001b[49m\u001b[43m(\u001b[49m\u001b[43mwrong_controller\u001b[49m\u001b[43m)\u001b[49m\n",
      "File \u001b[0;32m~/projects/qililab/src/qililab/runcard/runcard.py:87\u001b[0m, in \u001b[0;36mRuncard.add_instrument_controller\u001b[0;34m(self, instrument_controller)\u001b[0m\n\u001b[1;32m     85\u001b[0m \u001b[38;5;28;01mexcept\u001b[39;00m ValidationError \u001b[38;5;28;01mas\u001b[39;00m e:\n\u001b[1;32m     86\u001b[0m     \u001b[38;5;28mself\u001b[39m\u001b[38;5;241m.\u001b[39mremove_instrument_controller(instrument_controller\u001b[38;5;241m.\u001b[39msettings\u001b[38;5;241m.\u001b[39malias)\n\u001b[0;32m---> 87\u001b[0m     \u001b[38;5;28;01mraise\u001b[39;00m e\n",
      "File \u001b[0;32m~/projects/qililab/src/qililab/runcard/runcard.py:84\u001b[0m, in \u001b[0;36mRuncard.add_instrument_controller\u001b[0;34m(self, instrument_controller)\u001b[0m\n\u001b[1;32m     82\u001b[0m \u001b[38;5;28;01mtry\u001b[39;00m:\n\u001b[1;32m     83\u001b[0m     \u001b[38;5;28mself\u001b[39m\u001b[38;5;241m.\u001b[39minstrument_controllers\u001b[38;5;241m.\u001b[39mappend(instrument_controller\u001b[38;5;241m.\u001b[39mto_runcard())\n\u001b[0;32m---> 84\u001b[0m     \u001b[43mRuncard\u001b[49m\u001b[38;5;241;43m.\u001b[39;49m\u001b[43mmodel_validate\u001b[49m\u001b[43m(\u001b[49m\u001b[38;5;28;43mself\u001b[39;49m\u001b[43m)\u001b[49m\n\u001b[1;32m     85\u001b[0m \u001b[38;5;28;01mexcept\u001b[39;00m ValidationError \u001b[38;5;28;01mas\u001b[39;00m e:\n\u001b[1;32m     86\u001b[0m     \u001b[38;5;28mself\u001b[39m\u001b[38;5;241m.\u001b[39mremove_instrument_controller(instrument_controller\u001b[38;5;241m.\u001b[39msettings\u001b[38;5;241m.\u001b[39malias)\n",
      "File \u001b[0;32m~/conda/envs/qililab/lib/python3.10/site-packages/pydantic/main.py:596\u001b[0m, in \u001b[0;36mBaseModel.model_validate\u001b[0;34m(cls, obj, strict, from_attributes, context)\u001b[0m\n\u001b[1;32m    594\u001b[0m \u001b[38;5;66;03m# `__tracebackhide__` tells pytest and some other tools to omit this function from tracebacks\u001b[39;00m\n\u001b[1;32m    595\u001b[0m __tracebackhide__ \u001b[38;5;241m=\u001b[39m \u001b[38;5;28;01mTrue\u001b[39;00m\n\u001b[0;32m--> 596\u001b[0m \u001b[38;5;28;01mreturn\u001b[39;00m \u001b[38;5;28;43mcls\u001b[39;49m\u001b[38;5;241;43m.\u001b[39;49m\u001b[43m__pydantic_validator__\u001b[49m\u001b[38;5;241;43m.\u001b[39;49m\u001b[43mvalidate_python\u001b[49m\u001b[43m(\u001b[49m\n\u001b[1;32m    597\u001b[0m \u001b[43m    \u001b[49m\u001b[43mobj\u001b[49m\u001b[43m,\u001b[49m\u001b[43m \u001b[49m\u001b[43mstrict\u001b[49m\u001b[38;5;241;43m=\u001b[39;49m\u001b[43mstrict\u001b[49m\u001b[43m,\u001b[49m\u001b[43m \u001b[49m\u001b[43mfrom_attributes\u001b[49m\u001b[38;5;241;43m=\u001b[39;49m\u001b[43mfrom_attributes\u001b[49m\u001b[43m,\u001b[49m\u001b[43m \u001b[49m\u001b[43mcontext\u001b[49m\u001b[38;5;241;43m=\u001b[39;49m\u001b[43mcontext\u001b[49m\n\u001b[1;32m    598\u001b[0m \u001b[43m\u001b[49m\u001b[43m)\u001b[49m\n",
      "\u001b[0;31mValidationError\u001b[0m: 1 validation error for Runcard\n  Value error, Instrument 'non_existant' of controller wrong_controller not found in runcard instruments. [type=value_error, input_value=Runcard(name='saruman', i...slot=0)], reset=True))]), input_type=Runcard]\n    For further information visit https://errors.pydantic.dev/2.9/v/value_error"
     ]
    }
   ],
   "source": [
    "runcard.add_instrument_controller(wrong_controller)"
   ]
  }
 ],
 "metadata": {
  "kernelspec": {
   "display_name": "qililab",
   "language": "python",
   "name": "python3"
  },
  "language_info": {
   "codemirror_mode": {
    "name": "ipython",
    "version": 3
   },
   "file_extension": ".py",
   "mimetype": "text/x-python",
   "name": "python",
   "nbconvert_exporter": "python",
   "pygments_lexer": "ipython3",
   "version": "3.10.14"
  }
 },
 "nbformat": 4,
 "nbformat_minor": 2
}
