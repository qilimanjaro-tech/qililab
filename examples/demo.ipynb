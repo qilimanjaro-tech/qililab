{
 "cells": [
  {
   "cell_type": "code",
   "execution_count": 5,
   "metadata": {},
   "outputs": [],
   "source": [
    "# from qililab.buses.bus import Bus\n",
    "from qililab.instrument_controllers.qblox_cluster_controller import QbloxClusterController\n",
    "from qililab.instrument_controllers.qblox_spi_rack_controller import QbloxSPIRackController\n",
    "from qililab.instrument_controllers.qdevil_qdac2_controller import QDevilQDAC2Controller\n",
    "from qililab.instruments.qblox_d5a import QbloxD5A\n",
    "from qililab.instruments.qblox_qcm import QbloxQCM\n",
    "from qililab.instruments.qblox_qcm_rf import QbloxQCMRF\n",
    "from qililab.instruments.qblox_qrm import QbloxQRM\n",
    "from qililab.instruments.qblox_qrm_rf import QbloxQRMRF\n",
    "from qililab.instruments.qblox_s4g import QbloxS4G\n",
    "from qililab.instruments.qdevil_qdac2 import QDevilQDAC2\n",
    "from qililab.instruments.quantum_machines_opx import QuantumMachinesOPX\n",
    "from qililab.instruments.rohde_schwarz_sg100 import RohdeSchwarzSG100\n",
    "from qililab.platform import Platform\n",
    "from qililab.runcard import Runcard\n",
    "from qililab.settings.instrument_controllers import (\n",
    "    QbloxClusterControllerSettings,\n",
    "    QbloxSPIRackControllerSettings,\n",
    "    QDevilQDAC2ControllerSettings,\n",
    ")\n",
    "from qililab.typings.enums import Parameter\n",
    "from qililab.waveforms import Gaussian, IQDrag, IQPair, Square"
   ]
  },
  {
   "cell_type": "code",
   "execution_count": 6,
   "metadata": {},
   "outputs": [
    {
     "data": {
      "text/plain": [
       "OPXSettings(alias='opx', channels=[SingleElement(id='single_0', output=0), SingleElement(id='single_1', output=1), IQElement(id='iq_0', output_i=2, output_q=3, intermediate_frequency=100000000.0, lo_frequency=10000000000.0, mixer_correction=[1.0, 0.0, 0.0, 1.0]), RFElement(id='drive_q0', output=4, intermediate_frequency=100000000.0), RFElement(id='drive_q1', output=5, intermediate_frequency=100000000.0), RFReadoutElement(id='readout_q0', output=6, intermediate_frequency=100000000.0, input=1, time_of_flight=0, smearing=0), RFReadoutElement(id='readout_q1', output=6, intermediate_frequency=100000000.0, input=1, time_of_flight=0, smearing=0)], timeout=600, run_octave_calibration=True, outputs=[OpxLFOutput(port=0, connected_to=ControllerPort(controller='con1', port=1), offset=0.0, delay=0), OpxLFOutput(port=1, connected_to=ControllerPort(controller='con1', port=2), offset=0.0, delay=0), OpxLFOutput(port=2, connected_to=ControllerPort(controller='con1', port=3), offset=0.0, delay=0), OpxLFOutput(port=3, connected_to=ControllerPort(controller='con1', port=4), offset=0.0, delay=0), OpxRFOutput(port=4, connected_to=OctavePort(octave='octave1', port=1), connection_i=ControllerPort(controller='con1', port=5), connection_q=ControllerPort(controller='con1', port=6), offset_i=0.0, offset_q=0.0, gain=0.0, lo_frequency=10000000000.0), OpxRFOutput(port=5, connected_to=OctavePort(octave='octave1', port=2), connection_i=ControllerPort(controller='con1', port=7), connection_q=ControllerPort(controller='con1', port=8), offset_i=0.0, offset_q=0.0, gain=0.0, lo_frequency=10000000000.0), OpxRFOutput(port=6, connected_to=OctavePort(octave='octave1', port=3), connection_i=ControllerPort(controller='con1', port=9), connection_q=ControllerPort(controller='con1', port=10), offset_i=0.0, offset_q=0.0, gain=0.0, lo_frequency=10000000000.0)], inputs=[OpxRFInput(port=1, connected_to=OctavePort(octave='octave1', port=1), connection_i=ControllerPort(controller='con1', port=1), connection_q=ControllerPort(controller='con1', port=2), offset_i=0.0, offset_q=0.0, gain_i=0, gain_q=0, lo_frequency=10000000000.0)])"
      ]
     },
     "execution_count": 6,
     "metadata": {},
     "output_type": "execute_result"
    }
   ],
   "source": [
    "QuantumMachinesOPX.get_default_settings()"
   ]
  },
  {
   "cell_type": "code",
   "execution_count": 7,
   "metadata": {},
   "outputs": [],
   "source": [
    "opx = QuantumMachinesOPX()"
   ]
  },
  {
   "cell_type": "code",
   "execution_count": 8,
   "metadata": {},
   "outputs": [
    {
     "data": {
      "text/plain": [
       "100000000.0"
      ]
     },
     "execution_count": 8,
     "metadata": {},
     "output_type": "execute_result"
    }
   ],
   "source": [
    "opx.channels[\"drive_q0\"].intermediate_frequency()\n",
    "opx.drive_q0.intermediate_frequency()"
   ]
  },
  {
   "cell_type": "code",
   "execution_count": 9,
   "metadata": {},
   "outputs": [
    {
     "data": {
      "text/plain": [
       "[OpxLFOutput(port=0, connected_to=ControllerPort(controller='con1', port=1), offset=0.0, delay=0),\n",
       " OpxLFOutput(port=1, connected_to=ControllerPort(controller='con1', port=2), offset=0.0, delay=0),\n",
       " OpxLFOutput(port=2, connected_to=ControllerPort(controller='con1', port=3), offset=0.0, delay=0),\n",
       " OpxLFOutput(port=3, connected_to=ControllerPort(controller='con1', port=4), offset=0.0, delay=0),\n",
       " OpxRFOutput(port=4, connected_to=OctavePort(octave='octave1', port=1), connection_i=ControllerPort(controller='con1', port=5), connection_q=ControllerPort(controller='con1', port=6), offset_i=0.0, offset_q=0.0, gain=0.0, lo_frequency=10000000000.0),\n",
       " OpxRFOutput(port=5, connected_to=OctavePort(octave='octave1', port=2), connection_i=ControllerPort(controller='con1', port=7), connection_q=ControllerPort(controller='con1', port=8), offset_i=0.0, offset_q=0.0, gain=0.0, lo_frequency=10000000000.0),\n",
       " OpxRFOutput(port=6, connected_to=OctavePort(octave='octave1', port=3), connection_i=ControllerPort(controller='con1', port=9), connection_q=ControllerPort(controller='con1', port=10), offset_i=0.0, offset_q=0.0, gain=0.0, lo_frequency=10000000000.0)]"
      ]
     },
     "execution_count": 9,
     "metadata": {},
     "output_type": "execute_result"
    }
   ],
   "source": [
    "opx.settings.outputs"
   ]
  },
  {
   "cell_type": "code",
   "execution_count": 10,
   "metadata": {},
   "outputs": [
    {
     "data": {
      "text/plain": [
       "(3000.0, 100)"
      ]
     },
     "execution_count": 10,
     "metadata": {},
     "output_type": "execute_result"
    }
   ],
   "source": [
    "opx.drive_q0.intermediate_frequency(3000)\n",
    "opx.readout_q0.time_of_flight(100)\n",
    "\n",
    "opx.drive_q0.intermediate_frequency(), opx.readout_q0.time_of_flight()"
   ]
  },
  {
   "cell_type": "code",
   "execution_count": 11,
   "metadata": {},
   "outputs": [
    {
     "data": {
      "text/plain": [
       "RohdeSchwarzSG100(settings=alias='sg100' power=0.0 frequency=1000000000.0 rf_on=False)"
      ]
     },
     "execution_count": 11,
     "metadata": {},
     "output_type": "execute_result"
    }
   ],
   "source": [
    "sg100 = RohdeSchwarzSG100()\n",
    "sg100"
   ]
  },
  {
   "cell_type": "code",
   "execution_count": null,
   "metadata": {},
   "outputs": [
    {
     "data": {
      "text/plain": [
       "RohdeSchwarzSG100(settings=alias='sg100' power=2.0 frequency=1000000000.0 rf_on=False)"
      ]
     },
     "execution_count": 46,
     "metadata": {},
     "output_type": "execute_result"
    }
   ],
   "source": [
    "sg100.power()\n",
    "sg100"
   ]
  },
  {
   "cell_type": "code",
   "execution_count": 53,
   "metadata": {},
   "outputs": [
    {
     "data": {
      "text/plain": [
       "True"
      ]
     },
     "execution_count": 53,
     "metadata": {},
     "output_type": "execute_result"
    }
   ],
   "source": [
    "sg100.rf_on(True)\n",
    "sg100.rf_on()"
   ]
  },
  {
   "cell_type": "code",
   "execution_count": 12,
   "metadata": {},
   "outputs": [
    {
     "data": {
      "text/plain": [
       "10.0"
      ]
     },
     "execution_count": 12,
     "metadata": {},
     "output_type": "execute_result"
    }
   ],
   "source": [
    "sg100.power(10)\n",
    "sg100.power()"
   ]
  },
  {
   "cell_type": "code",
   "execution_count": 13,
   "metadata": {},
   "outputs": [
    {
     "data": {
      "text/plain": [
       "{'power': InstrumentParameter(name=power, value=10.0),\n",
       " 'frequency': InstrumentParameter(name=frequency, value=1000000000.0),\n",
       " 'rf_on': InstrumentParameter(name=rf_on, value=False)}"
      ]
     },
     "execution_count": 13,
     "metadata": {},
     "output_type": "execute_result"
    }
   ],
   "source": [
    "sg100.parameters"
   ]
  },
  {
   "cell_type": "code",
   "execution_count": 14,
   "metadata": {},
   "outputs": [
    {
     "data": {
      "text/plain": [
       "QDevilQDAC2(settings=alias='qdac2' channels=[QDevilQDAC2ChannelSettings(id=0, voltage=0.0, span=<QDevilQDAC2Span.LOW: 'low'>, ramping_enabled=True, ramping_rate=1.0, low_pass_filter=<QDevilQDAC2LowPassFilter.DC: 'dc'>), QDevilQDAC2ChannelSettings(id=1, voltage=0.0, span=<QDevilQDAC2Span.LOW: 'low'>, ramping_enabled=True, ramping_rate=1.0, low_pass_filter=<QDevilQDAC2LowPassFilter.DC: 'dc'>), QDevilQDAC2ChannelSettings(id=2, voltage=0.0, span=<QDevilQDAC2Span.LOW: 'low'>, ramping_enabled=True, ramping_rate=1.0, low_pass_filter=<QDevilQDAC2LowPassFilter.DC: 'dc'>), QDevilQDAC2ChannelSettings(id=3, voltage=0.0, span=<QDevilQDAC2Span.LOW: 'low'>, ramping_enabled=True, ramping_rate=1.0, low_pass_filter=<QDevilQDAC2LowPassFilter.DC: 'dc'>), QDevilQDAC2ChannelSettings(id=4, voltage=0.0, span=<QDevilQDAC2Span.LOW: 'low'>, ramping_enabled=True, ramping_rate=1.0, low_pass_filter=<QDevilQDAC2LowPassFilter.DC: 'dc'>), QDevilQDAC2ChannelSettings(id=5, voltage=0.0, span=<QDevilQDAC2Span.LOW: 'low'>, ramping_enabled=True, ramping_rate=1.0, low_pass_filter=<QDevilQDAC2LowPassFilter.DC: 'dc'>), QDevilQDAC2ChannelSettings(id=6, voltage=0.0, span=<QDevilQDAC2Span.LOW: 'low'>, ramping_enabled=True, ramping_rate=1.0, low_pass_filter=<QDevilQDAC2LowPassFilter.DC: 'dc'>), QDevilQDAC2ChannelSettings(id=7, voltage=0.0, span=<QDevilQDAC2Span.LOW: 'low'>, ramping_enabled=True, ramping_rate=1.0, low_pass_filter=<QDevilQDAC2LowPassFilter.DC: 'dc'>), QDevilQDAC2ChannelSettings(id=8, voltage=0.0, span=<QDevilQDAC2Span.LOW: 'low'>, ramping_enabled=True, ramping_rate=1.0, low_pass_filter=<QDevilQDAC2LowPassFilter.DC: 'dc'>), QDevilQDAC2ChannelSettings(id=9, voltage=0.0, span=<QDevilQDAC2Span.LOW: 'low'>, ramping_enabled=True, ramping_rate=1.0, low_pass_filter=<QDevilQDAC2LowPassFilter.DC: 'dc'>), QDevilQDAC2ChannelSettings(id=10, voltage=0.0, span=<QDevilQDAC2Span.LOW: 'low'>, ramping_enabled=True, ramping_rate=1.0, low_pass_filter=<QDevilQDAC2LowPassFilter.DC: 'dc'>), QDevilQDAC2ChannelSettings(id=11, voltage=0.0, span=<QDevilQDAC2Span.LOW: 'low'>, ramping_enabled=True, ramping_rate=1.0, low_pass_filter=<QDevilQDAC2LowPassFilter.DC: 'dc'>), QDevilQDAC2ChannelSettings(id=12, voltage=0.0, span=<QDevilQDAC2Span.LOW: 'low'>, ramping_enabled=True, ramping_rate=1.0, low_pass_filter=<QDevilQDAC2LowPassFilter.DC: 'dc'>), QDevilQDAC2ChannelSettings(id=13, voltage=0.0, span=<QDevilQDAC2Span.LOW: 'low'>, ramping_enabled=True, ramping_rate=1.0, low_pass_filter=<QDevilQDAC2LowPassFilter.DC: 'dc'>), QDevilQDAC2ChannelSettings(id=14, voltage=0.0, span=<QDevilQDAC2Span.LOW: 'low'>, ramping_enabled=True, ramping_rate=1.0, low_pass_filter=<QDevilQDAC2LowPassFilter.DC: 'dc'>), QDevilQDAC2ChannelSettings(id=15, voltage=0.0, span=<QDevilQDAC2Span.LOW: 'low'>, ramping_enabled=True, ramping_rate=1.0, low_pass_filter=<QDevilQDAC2LowPassFilter.DC: 'dc'>), QDevilQDAC2ChannelSettings(id=16, voltage=0.0, span=<QDevilQDAC2Span.LOW: 'low'>, ramping_enabled=True, ramping_rate=1.0, low_pass_filter=<QDevilQDAC2LowPassFilter.DC: 'dc'>), QDevilQDAC2ChannelSettings(id=17, voltage=0.0, span=<QDevilQDAC2Span.LOW: 'low'>, ramping_enabled=True, ramping_rate=1.0, low_pass_filter=<QDevilQDAC2LowPassFilter.DC: 'dc'>), QDevilQDAC2ChannelSettings(id=18, voltage=0.0, span=<QDevilQDAC2Span.LOW: 'low'>, ramping_enabled=True, ramping_rate=1.0, low_pass_filter=<QDevilQDAC2LowPassFilter.DC: 'dc'>), QDevilQDAC2ChannelSettings(id=19, voltage=0.0, span=<QDevilQDAC2Span.LOW: 'low'>, ramping_enabled=True, ramping_rate=1.0, low_pass_filter=<QDevilQDAC2LowPassFilter.DC: 'dc'>), QDevilQDAC2ChannelSettings(id=20, voltage=0.0, span=<QDevilQDAC2Span.LOW: 'low'>, ramping_enabled=True, ramping_rate=1.0, low_pass_filter=<QDevilQDAC2LowPassFilter.DC: 'dc'>), QDevilQDAC2ChannelSettings(id=21, voltage=0.0, span=<QDevilQDAC2Span.LOW: 'low'>, ramping_enabled=True, ramping_rate=1.0, low_pass_filter=<QDevilQDAC2LowPassFilter.DC: 'dc'>), QDevilQDAC2ChannelSettings(id=22, voltage=0.0, span=<QDevilQDAC2Span.LOW: 'low'>, ramping_enabled=True, ramping_rate=1.0, low_pass_filter=<QDevilQDAC2LowPassFilter.DC: 'dc'>), QDevilQDAC2ChannelSettings(id=23, voltage=0.0, span=<QDevilQDAC2Span.LOW: 'low'>, ramping_enabled=True, ramping_rate=1.0, low_pass_filter=<QDevilQDAC2LowPassFilter.DC: 'dc'>)])"
      ]
     },
     "execution_count": 14,
     "metadata": {},
     "output_type": "execute_result"
    }
   ],
   "source": [
    "qdac2 = QDevilQDAC2()\n",
    "qdac2"
   ]
  },
  {
   "cell_type": "code",
   "execution_count": 54,
   "metadata": {},
   "outputs": [
    {
     "data": {
      "text/plain": [
       "1.0"
      ]
     },
     "execution_count": 54,
     "metadata": {},
     "output_type": "execute_result"
    }
   ],
   "source": [
    "qdac2.ch15.voltage(1.0)\n",
    "qdac2.ch15.voltage()"
   ]
  },
  {
   "cell_type": "code",
   "execution_count": null,
   "metadata": {},
   "outputs": [
    {
     "data": {
      "text/plain": [
       "{'voltage': InstrumentParameter(name=voltage_ch21, channel_id=21, value=0.0),\n",
       " 'span': InstrumentParameter(name=span_ch21, channel_id=21, value=low),\n",
       " 'ramping_enabled': InstrumentParameter(name=ramping_enabled_ch21, channel_id=21, value=True),\n",
       " 'ramping_rate': InstrumentParameter(name=ramping_rate_ch21, channel_id=21, value=1.0)}"
      ]
     },
     "execution_count": 55,
     "metadata": {},
     "output_type": "execute_result"
    }
   ],
   "source": [
    "qdac2.ch21"
   ]
  },
  {
   "cell_type": "code",
   "execution_count": 16,
   "metadata": {},
   "outputs": [
    {
     "data": {
      "text/plain": [
       "{'voltage': InstrumentParameter(name=voltage_ch15, channel_id=15, value=1.0),\n",
       " 'span': InstrumentParameter(name=span_ch15, channel_id=15, value=low),\n",
       " 'ramping_enabled': InstrumentParameter(name=ramping_enabled_ch15, channel_id=15, value=True),\n",
       " 'ramping_rate': InstrumentParameter(name=ramping_rate_ch15, channel_id=15, value=1.0)}"
      ]
     },
     "execution_count": 16,
     "metadata": {},
     "output_type": "execute_result"
    }
   ],
   "source": [
    "qdac2.ch15.parameters"
   ]
  },
  {
   "cell_type": "code",
   "execution_count": 17,
   "metadata": {},
   "outputs": [
    {
     "data": {
      "text/plain": [
       "QbloxQCM(settings=alias='qcm' channels=[QbloxSequencerSettings(id=0, outputs=[0], hardware_modulation=False, intermediate_frequency=None, gain_imbalance=0.0, phase_imbalance=0.0, gain_i=1.0, gain_q=0.0, offset_i=0.0, offset_q=0.0), QbloxSequencerSettings(id=1, outputs=[1], hardware_modulation=False, intermediate_frequency=None, gain_imbalance=0.0, phase_imbalance=0.0, gain_i=1.0, gain_q=0.0, offset_i=0.0, offset_q=0.0), QbloxSequencerSettings(id=2, outputs=[2], hardware_modulation=False, intermediate_frequency=None, gain_imbalance=0.0, phase_imbalance=0.0, gain_i=1.0, gain_q=0.0, offset_i=0.0, offset_q=0.0), QbloxSequencerSettings(id=3, outputs=[3], hardware_modulation=False, intermediate_frequency=None, gain_imbalance=0.0, phase_imbalance=0.0, gain_i=1.0, gain_q=0.0, offset_i=0.0, offset_q=0.0)] timeout=1 outputs=[QbloxLFOutputSettings(port=0, offset=0.0), QbloxLFOutputSettings(port=1, offset=0.0), QbloxLFOutputSettings(port=2, offset=0.0), QbloxLFOutputSettings(port=3, offset=0.0)])"
      ]
     },
     "execution_count": 17,
     "metadata": {},
     "output_type": "execute_result"
    }
   ],
   "source": [
    "qcm = QbloxQCM()\n",
    "qcm"
   ]
  },
  {
   "cell_type": "code",
   "execution_count": 18,
   "metadata": {},
   "outputs": [
    {
     "data": {
      "text/plain": [
       "QbloxQCMRF(settings=alias='qcm-rf' channels=[QbloxSequencerSettings(id=0, outputs=[0], hardware_modulation=True, intermediate_frequency=500000000.0, gain_imbalance=0.0, phase_imbalance=0.0, gain_i=1.0, gain_q=1.0, offset_i=0.0, offset_q=0.0), QbloxSequencerSettings(id=1, outputs=[0], hardware_modulation=True, intermediate_frequency=500000000.0, gain_imbalance=0.0, phase_imbalance=0.0, gain_i=1.0, gain_q=1.0, offset_i=0.0, offset_q=0.0), QbloxSequencerSettings(id=2, outputs=[0], hardware_modulation=True, intermediate_frequency=500000000.0, gain_imbalance=0.0, phase_imbalance=0.0, gain_i=1.0, gain_q=1.0, offset_i=0.0, offset_q=0.0), QbloxSequencerSettings(id=3, outputs=[0], hardware_modulation=True, intermediate_frequency=500000000.0, gain_imbalance=0.0, phase_imbalance=0.0, gain_i=1.0, gain_q=1.0, offset_i=0.0, offset_q=0.0), QbloxSequencerSettings(id=4, outputs=[0], hardware_modulation=True, intermediate_frequency=500000000.0, gain_imbalance=0.0, phase_imbalance=0.0, gain_i=1.0, gain_q=1.0, offset_i=0.0, offset_q=0.0), QbloxSequencerSettings(id=5, outputs=[0], hardware_modulation=True, intermediate_frequency=500000000.0, gain_imbalance=0.0, phase_imbalance=0.0, gain_i=1.0, gain_q=1.0, offset_i=0.0, offset_q=0.0)] timeout=1 outputs=[QbloxRFOutputSettings(port=0, lo_enabled=True, lo_frequency=10000000000.0, attenuation=0, offset_i=0.0, offset_q=0.0), QbloxRFOutputSettings(port=1, lo_enabled=True, lo_frequency=10000000000.0, attenuation=0, offset_i=0.0, offset_q=0.0)])"
      ]
     },
     "execution_count": 18,
     "metadata": {},
     "output_type": "execute_result"
    }
   ],
   "source": [
    "qcm_rf = QbloxQCMRF()\n",
    "qcm_rf"
   ]
  },
  {
   "cell_type": "code",
   "execution_count": 19,
   "metadata": {},
   "outputs": [
    {
     "data": {
      "text/plain": [
       "QbloxQRM(settings=alias='qrm' channels=[QbloxADCSequencerSettings(id=0, outputs=[0], hardware_modulation=True, intermediate_frequency=500000000.0, gain_imbalance=0.0, phase_imbalance=0.0, gain_i=1.0, gain_q=1.0, offset_i=0.0, offset_q=0.0, inputs=[0], hardware_demodulation=True, integration_length=1000, threshold=0.0, threshold_rotation=0.0, time_of_flight=0), QbloxADCSequencerSettings(id=1, outputs=[0], hardware_modulation=True, intermediate_frequency=500000000.0, gain_imbalance=0.0, phase_imbalance=0.0, gain_i=1.0, gain_q=1.0, offset_i=0.0, offset_q=0.0, inputs=[0], hardware_demodulation=True, integration_length=1000, threshold=0.0, threshold_rotation=0.0, time_of_flight=0), QbloxADCSequencerSettings(id=2, outputs=[0], hardware_modulation=True, intermediate_frequency=500000000.0, gain_imbalance=0.0, phase_imbalance=0.0, gain_i=1.0, gain_q=1.0, offset_i=0.0, offset_q=0.0, inputs=[0], hardware_demodulation=True, integration_length=1000, threshold=0.0, threshold_rotation=0.0, time_of_flight=0), QbloxADCSequencerSettings(id=3, outputs=[0], hardware_modulation=True, intermediate_frequency=500000000.0, gain_imbalance=0.0, phase_imbalance=0.0, gain_i=1.0, gain_q=1.0, offset_i=0.0, offset_q=0.0, inputs=[0], hardware_demodulation=True, integration_length=1000, threshold=0.0, threshold_rotation=0.0, time_of_flight=0), QbloxADCSequencerSettings(id=4, outputs=[0], hardware_modulation=True, intermediate_frequency=500000000.0, gain_imbalance=0.0, phase_imbalance=0.0, gain_i=1.0, gain_q=1.0, offset_i=0.0, offset_q=0.0, inputs=[0], hardware_demodulation=True, integration_length=1000, threshold=0.0, threshold_rotation=0.0, time_of_flight=0), QbloxADCSequencerSettings(id=5, outputs=[0], hardware_modulation=True, intermediate_frequency=500000000.0, gain_imbalance=0.0, phase_imbalance=0.0, gain_i=1.0, gain_q=1.0, offset_i=0.0, offset_q=0.0, inputs=[0], hardware_demodulation=True, integration_length=1000, threshold=0.0, threshold_rotation=0.0, time_of_flight=0)] timeout=1 outputs=[QbloxLFOutputSettings(port=0, offset=0.0), QbloxLFOutputSettings(port=1, offset=0.0)] inputs=[QbloxLFInputSettings(port=0, gain=0, offset=0.0), QbloxLFInputSettings(port=1, gain=0, offset=0.0)] scope_hardware_averaging=True)"
      ]
     },
     "execution_count": 19,
     "metadata": {},
     "output_type": "execute_result"
    }
   ],
   "source": [
    "qrm = QbloxQRM()\n",
    "qrm"
   ]
  },
  {
   "cell_type": "code",
   "execution_count": 20,
   "metadata": {},
   "outputs": [
    {
     "data": {
      "text/plain": [
       "QbloxQRMRF(settings=alias='qrm-rf' channels=[QbloxADCSequencerSettings(id=0, outputs=[0], hardware_modulation=True, intermediate_frequency=500000000.0, gain_imbalance=0.0, phase_imbalance=0.0, gain_i=1.0, gain_q=1.0, offset_i=0.0, offset_q=0.0, inputs=[0], hardware_demodulation=True, integration_length=1000, threshold=0.0, threshold_rotation=0.0, time_of_flight=0), QbloxADCSequencerSettings(id=1, outputs=[0], hardware_modulation=True, intermediate_frequency=500000000.0, gain_imbalance=0.0, phase_imbalance=0.0, gain_i=1.0, gain_q=1.0, offset_i=0.0, offset_q=0.0, inputs=[0], hardware_demodulation=True, integration_length=1000, threshold=0.0, threshold_rotation=0.0, time_of_flight=0), QbloxADCSequencerSettings(id=2, outputs=[0], hardware_modulation=True, intermediate_frequency=500000000.0, gain_imbalance=0.0, phase_imbalance=0.0, gain_i=1.0, gain_q=1.0, offset_i=0.0, offset_q=0.0, inputs=[0], hardware_demodulation=True, integration_length=1000, threshold=0.0, threshold_rotation=0.0, time_of_flight=0), QbloxADCSequencerSettings(id=3, outputs=[0], hardware_modulation=True, intermediate_frequency=500000000.0, gain_imbalance=0.0, phase_imbalance=0.0, gain_i=1.0, gain_q=1.0, offset_i=0.0, offset_q=0.0, inputs=[0], hardware_demodulation=True, integration_length=1000, threshold=0.0, threshold_rotation=0.0, time_of_flight=0), QbloxADCSequencerSettings(id=4, outputs=[0], hardware_modulation=True, intermediate_frequency=500000000.0, gain_imbalance=0.0, phase_imbalance=0.0, gain_i=1.0, gain_q=1.0, offset_i=0.0, offset_q=0.0, inputs=[0], hardware_demodulation=True, integration_length=1000, threshold=0.0, threshold_rotation=0.0, time_of_flight=0), QbloxADCSequencerSettings(id=5, outputs=[0], hardware_modulation=True, intermediate_frequency=500000000.0, gain_imbalance=0.0, phase_imbalance=0.0, gain_i=1.0, gain_q=1.0, offset_i=0.0, offset_q=0.0, inputs=[0], hardware_demodulation=True, integration_length=1000, threshold=0.0, threshold_rotation=0.0, time_of_flight=0)] timeout=1 outputs=[QbloxRFOutputSettings(port=0, lo_enabled=True, lo_frequency=10000000000.0, attenuation=0, offset_i=0.0, offset_q=0.0)] inputs=[QbloxRFInputSettings(port=0, attenuation=0, offset_i=0.0, offset_q=0.0)] scope_hardware_averaging=True)"
      ]
     },
     "execution_count": 20,
     "metadata": {},
     "output_type": "execute_result"
    }
   ],
   "source": [
    "qrm_rf = QbloxQRMRF()\n",
    "qrm_rf"
   ]
  },
  {
   "cell_type": "code",
   "execution_count": 21,
   "metadata": {},
   "outputs": [],
   "source": [
    "second_qdac2 = QDevilQDAC2()\n",
    "second_qdac2.settings.alias = \"second_qdac2\""
   ]
  },
  {
   "cell_type": "code",
   "execution_count": 22,
   "metadata": {},
   "outputs": [
    {
     "data": {
      "text/plain": [
       "RohdeSchwarzSG100(settings=alias='sg100' power=0.0 frequency=1000000000.0 rf_on=False)"
      ]
     },
     "execution_count": 22,
     "metadata": {},
     "output_type": "execute_result"
    }
   ],
   "source": [
    "sg100 = RohdeSchwarzSG100()\n",
    "sg100"
   ]
  },
  {
   "cell_type": "code",
   "execution_count": 23,
   "metadata": {},
   "outputs": [],
   "source": [
    "s4g = QbloxS4G()\n",
    "s4g.ch0.current(0.01)"
   ]
  },
  {
   "cell_type": "code",
   "execution_count": 24,
   "metadata": {},
   "outputs": [
    {
     "data": {
      "text/plain": [
       "QbloxD5A(settings=alias='d5a' channels=[QbloxD5AChannelSettings(id=0, voltage=0.0, span=<QbloxD5ASpan.BI_2V: 'bi_2V'>, ramping_enabled=True, ramping_rate=0.1), QbloxD5AChannelSettings(id=1, voltage=0.0, span=<QbloxD5ASpan.BI_2V: 'bi_2V'>, ramping_enabled=True, ramping_rate=0.1), QbloxD5AChannelSettings(id=2, voltage=0.0, span=<QbloxD5ASpan.BI_2V: 'bi_2V'>, ramping_enabled=True, ramping_rate=0.1), QbloxD5AChannelSettings(id=3, voltage=0.0, span=<QbloxD5ASpan.BI_2V: 'bi_2V'>, ramping_enabled=True, ramping_rate=0.1), QbloxD5AChannelSettings(id=4, voltage=0.0, span=<QbloxD5ASpan.BI_2V: 'bi_2V'>, ramping_enabled=True, ramping_rate=0.1), QbloxD5AChannelSettings(id=5, voltage=0.0, span=<QbloxD5ASpan.BI_2V: 'bi_2V'>, ramping_enabled=True, ramping_rate=0.1), QbloxD5AChannelSettings(id=6, voltage=0.0, span=<QbloxD5ASpan.BI_2V: 'bi_2V'>, ramping_enabled=True, ramping_rate=0.1), QbloxD5AChannelSettings(id=7, voltage=0.0, span=<QbloxD5ASpan.BI_2V: 'bi_2V'>, ramping_enabled=True, ramping_rate=0.1), QbloxD5AChannelSettings(id=8, voltage=0.0, span=<QbloxD5ASpan.BI_2V: 'bi_2V'>, ramping_enabled=True, ramping_rate=0.1), QbloxD5AChannelSettings(id=9, voltage=0.0, span=<QbloxD5ASpan.BI_2V: 'bi_2V'>, ramping_enabled=True, ramping_rate=0.1), QbloxD5AChannelSettings(id=10, voltage=0.0, span=<QbloxD5ASpan.BI_2V: 'bi_2V'>, ramping_enabled=True, ramping_rate=0.1), QbloxD5AChannelSettings(id=11, voltage=0.0, span=<QbloxD5ASpan.BI_2V: 'bi_2V'>, ramping_enabled=True, ramping_rate=0.1), QbloxD5AChannelSettings(id=12, voltage=0.0, span=<QbloxD5ASpan.BI_2V: 'bi_2V'>, ramping_enabled=True, ramping_rate=0.1), QbloxD5AChannelSettings(id=13, voltage=0.0, span=<QbloxD5ASpan.BI_2V: 'bi_2V'>, ramping_enabled=True, ramping_rate=0.1), QbloxD5AChannelSettings(id=14, voltage=0.0, span=<QbloxD5ASpan.BI_2V: 'bi_2V'>, ramping_enabled=True, ramping_rate=0.1), QbloxD5AChannelSettings(id=15, voltage=0.0, span=<QbloxD5ASpan.BI_2V: 'bi_2V'>, ramping_enabled=True, ramping_rate=0.1)])"
      ]
     },
     "execution_count": 24,
     "metadata": {},
     "output_type": "execute_result"
    }
   ],
   "source": [
    "d5a = QbloxD5A()\n",
    "d5a"
   ]
  },
  {
   "cell_type": "code",
   "execution_count": 25,
   "metadata": {},
   "outputs": [],
   "source": [
    "d5a.ch0.voltage(0.5)"
   ]
  },
  {
   "cell_type": "code",
   "execution_count": 26,
   "metadata": {},
   "outputs": [],
   "source": [
    "loaded_instruments = [qcm, qrm, qcm_rf, qrm_rf, qdac2, second_qdac2, sg100, s4g, d5a]"
   ]
  },
  {
   "cell_type": "code",
   "execution_count": 27,
   "metadata": {},
   "outputs": [
    {
     "data": {
      "text/plain": [
       "[(QbloxD5A(settings=alias='d5a' channels=[QbloxD5AChannelSettings(id=0, voltage=0.5, span=<QbloxD5ASpan.BI_2V: 'bi_2V'>, ramping_enabled=True, ramping_rate=0.1), QbloxD5AChannelSettings(id=1, voltage=0.0, span=<QbloxD5ASpan.BI_2V: 'bi_2V'>, ramping_enabled=True, ramping_rate=0.1), QbloxD5AChannelSettings(id=2, voltage=0.0, span=<QbloxD5ASpan.BI_2V: 'bi_2V'>, ramping_enabled=True, ramping_rate=0.1), QbloxD5AChannelSettings(id=3, voltage=0.0, span=<QbloxD5ASpan.BI_2V: 'bi_2V'>, ramping_enabled=True, ramping_rate=0.1), QbloxD5AChannelSettings(id=4, voltage=0.0, span=<QbloxD5ASpan.BI_2V: 'bi_2V'>, ramping_enabled=True, ramping_rate=0.1), QbloxD5AChannelSettings(id=5, voltage=0.0, span=<QbloxD5ASpan.BI_2V: 'bi_2V'>, ramping_enabled=True, ramping_rate=0.1), QbloxD5AChannelSettings(id=6, voltage=0.0, span=<QbloxD5ASpan.BI_2V: 'bi_2V'>, ramping_enabled=True, ramping_rate=0.1), QbloxD5AChannelSettings(id=7, voltage=0.0, span=<QbloxD5ASpan.BI_2V: 'bi_2V'>, ramping_enabled=True, ramping_rate=0.1), QbloxD5AChannelSettings(id=8, voltage=0.0, span=<QbloxD5ASpan.BI_2V: 'bi_2V'>, ramping_enabled=True, ramping_rate=0.1), QbloxD5AChannelSettings(id=9, voltage=0.0, span=<QbloxD5ASpan.BI_2V: 'bi_2V'>, ramping_enabled=True, ramping_rate=0.1), QbloxD5AChannelSettings(id=10, voltage=0.0, span=<QbloxD5ASpan.BI_2V: 'bi_2V'>, ramping_enabled=True, ramping_rate=0.1), QbloxD5AChannelSettings(id=11, voltage=0.0, span=<QbloxD5ASpan.BI_2V: 'bi_2V'>, ramping_enabled=True, ramping_rate=0.1), QbloxD5AChannelSettings(id=12, voltage=0.0, span=<QbloxD5ASpan.BI_2V: 'bi_2V'>, ramping_enabled=True, ramping_rate=0.1), QbloxD5AChannelSettings(id=13, voltage=0.0, span=<QbloxD5ASpan.BI_2V: 'bi_2V'>, ramping_enabled=True, ramping_rate=0.1), QbloxD5AChannelSettings(id=14, voltage=0.0, span=<QbloxD5ASpan.BI_2V: 'bi_2V'>, ramping_enabled=True, ramping_rate=0.1), QbloxD5AChannelSettings(id=15, voltage=0.0, span=<QbloxD5ASpan.BI_2V: 'bi_2V'>, ramping_enabled=True, ramping_rate=0.1)]),\n",
       "  0)]"
      ]
     },
     "execution_count": 27,
     "metadata": {},
     "output_type": "execute_result"
    }
   ],
   "source": [
    "from qililab.buses.bus import Bus\n",
    "from qililab.settings.buses.bus_settings import BusSettings\n",
    "\n",
    "bus_settings = BusSettings(alias=\"dc_flux_0\", instruments=[d5a.alias], channels=[d5a.settings.channels[0].id])\n",
    "\n",
    "bus = Bus(settings=bus_settings, loaded_instruments=loaded_instruments)\n",
    "\n",
    "bus.instruments_and_channels()"
   ]
  },
  {
   "cell_type": "code",
   "execution_count": 60,
   "metadata": {},
   "outputs": [],
   "source": [
    "bus_settings = BusSettings(\n",
    "    alias=\"dc_flux_0\",\n",
    "    instruments=[d5a.alias, qdac2.alias],\n",
    "    channels=[d5a.settings.channels[0].id, qdac2.settings.channels[0].id],\n",
    ")\n",
    "flux_0 = Bus(settings=bus_settings, loaded_instruments=loaded_instruments)"
   ]
  },
  {
   "cell_type": "code",
   "execution_count": null,
   "metadata": {},
   "outputs": [],
   "source": [
    "flux_0.voltage(1.0)"
   ]
  },
  {
   "cell_type": "code",
   "execution_count": 28,
   "metadata": {},
   "outputs": [
    {
     "data": {
      "text/plain": [
       "[(QbloxD5A(settings=alias='d5a' channels=[QbloxD5AChannelSettings(id=0, voltage=1.0, span=<QbloxD5ASpan.BI_2V: 'bi_2V'>, ramping_enabled=True, ramping_rate=0.1), QbloxD5AChannelSettings(id=1, voltage=0.0, span=<QbloxD5ASpan.BI_2V: 'bi_2V'>, ramping_enabled=True, ramping_rate=0.1), QbloxD5AChannelSettings(id=2, voltage=0.0, span=<QbloxD5ASpan.BI_2V: 'bi_2V'>, ramping_enabled=True, ramping_rate=0.1), QbloxD5AChannelSettings(id=3, voltage=0.0, span=<QbloxD5ASpan.BI_2V: 'bi_2V'>, ramping_enabled=True, ramping_rate=0.1), QbloxD5AChannelSettings(id=4, voltage=0.0, span=<QbloxD5ASpan.BI_2V: 'bi_2V'>, ramping_enabled=True, ramping_rate=0.1), QbloxD5AChannelSettings(id=5, voltage=0.0, span=<QbloxD5ASpan.BI_2V: 'bi_2V'>, ramping_enabled=True, ramping_rate=0.1), QbloxD5AChannelSettings(id=6, voltage=0.0, span=<QbloxD5ASpan.BI_2V: 'bi_2V'>, ramping_enabled=True, ramping_rate=0.1), QbloxD5AChannelSettings(id=7, voltage=0.0, span=<QbloxD5ASpan.BI_2V: 'bi_2V'>, ramping_enabled=True, ramping_rate=0.1), QbloxD5AChannelSettings(id=8, voltage=0.0, span=<QbloxD5ASpan.BI_2V: 'bi_2V'>, ramping_enabled=True, ramping_rate=0.1), QbloxD5AChannelSettings(id=9, voltage=0.0, span=<QbloxD5ASpan.BI_2V: 'bi_2V'>, ramping_enabled=True, ramping_rate=0.1), QbloxD5AChannelSettings(id=10, voltage=0.0, span=<QbloxD5ASpan.BI_2V: 'bi_2V'>, ramping_enabled=True, ramping_rate=0.1), QbloxD5AChannelSettings(id=11, voltage=0.0, span=<QbloxD5ASpan.BI_2V: 'bi_2V'>, ramping_enabled=True, ramping_rate=0.1), QbloxD5AChannelSettings(id=12, voltage=0.0, span=<QbloxD5ASpan.BI_2V: 'bi_2V'>, ramping_enabled=True, ramping_rate=0.1), QbloxD5AChannelSettings(id=13, voltage=0.0, span=<QbloxD5ASpan.BI_2V: 'bi_2V'>, ramping_enabled=True, ramping_rate=0.1), QbloxD5AChannelSettings(id=14, voltage=0.0, span=<QbloxD5ASpan.BI_2V: 'bi_2V'>, ramping_enabled=True, ramping_rate=0.1), QbloxD5AChannelSettings(id=15, voltage=0.0, span=<QbloxD5ASpan.BI_2V: 'bi_2V'>, ramping_enabled=True, ramping_rate=0.1)]),\n",
       "  0)]"
      ]
     },
     "execution_count": 28,
     "metadata": {},
     "output_type": "execute_result"
    }
   ],
   "source": [
    "bus.voltage(1.0)\n",
    "bus.instruments_and_channels()\n",
    "bus.voltage.get()\n",
    "bus.instruments_and_channels()"
   ]
  },
  {
   "cell_type": "code",
   "execution_count": 29,
   "metadata": {},
   "outputs": [
    {
     "data": {
      "text/plain": [
       "QDevilQDAC2Controller(settings=alias='qdac2_controller' connection=ConnectionSettings(type=<ConnectionType.TCP_IP: 'tcp_ip'>, address='168.0.0.1') modules=[{'alias': 'qdac2', 'slot': 1}] reset=True, modules=[])"
      ]
     },
     "execution_count": 29,
     "metadata": {},
     "output_type": "execute_result"
    }
   ],
   "source": [
    "qdac2_controller = QDevilQDAC2Controller()\n",
    "qdac2_controller.settings.modules.append({\"alias\": \"qdac2\", \"slot\": 1})\n",
    "qdac2_controller"
   ]
  },
  {
   "cell_type": "code",
   "execution_count": 30,
   "metadata": {},
   "outputs": [
    {
     "data": {
      "text/plain": [
       "QbloxSPIRackController(settings=alias='spi-rack' connection=ConnectionSettings(type=<ConnectionType.TCP_IP: 'tcp_ip'>, address='168.0.0.1') modules=[InstrumentModule(alias='d5a', slot=2), InstrumentModule(alias='s4g', slot=10)] reset=True, modules=[QbloxD5A(settings=alias='d5a' channels=[QbloxD5AChannelSettings(id=0, voltage=1.0, span=<QbloxD5ASpan.BI_2V: 'bi_2V'>, ramping_enabled=True, ramping_rate=0.1), QbloxD5AChannelSettings(id=1, voltage=0.0, span=<QbloxD5ASpan.BI_2V: 'bi_2V'>, ramping_enabled=True, ramping_rate=0.1), QbloxD5AChannelSettings(id=2, voltage=0.0, span=<QbloxD5ASpan.BI_2V: 'bi_2V'>, ramping_enabled=True, ramping_rate=0.1), QbloxD5AChannelSettings(id=3, voltage=0.0, span=<QbloxD5ASpan.BI_2V: 'bi_2V'>, ramping_enabled=True, ramping_rate=0.1), QbloxD5AChannelSettings(id=4, voltage=0.0, span=<QbloxD5ASpan.BI_2V: 'bi_2V'>, ramping_enabled=True, ramping_rate=0.1), QbloxD5AChannelSettings(id=5, voltage=0.0, span=<QbloxD5ASpan.BI_2V: 'bi_2V'>, ramping_enabled=True, ramping_rate=0.1), QbloxD5AChannelSettings(id=6, voltage=0.0, span=<QbloxD5ASpan.BI_2V: 'bi_2V'>, ramping_enabled=True, ramping_rate=0.1), QbloxD5AChannelSettings(id=7, voltage=0.0, span=<QbloxD5ASpan.BI_2V: 'bi_2V'>, ramping_enabled=True, ramping_rate=0.1), QbloxD5AChannelSettings(id=8, voltage=0.0, span=<QbloxD5ASpan.BI_2V: 'bi_2V'>, ramping_enabled=True, ramping_rate=0.1), QbloxD5AChannelSettings(id=9, voltage=0.0, span=<QbloxD5ASpan.BI_2V: 'bi_2V'>, ramping_enabled=True, ramping_rate=0.1), QbloxD5AChannelSettings(id=10, voltage=0.0, span=<QbloxD5ASpan.BI_2V: 'bi_2V'>, ramping_enabled=True, ramping_rate=0.1), QbloxD5AChannelSettings(id=11, voltage=0.0, span=<QbloxD5ASpan.BI_2V: 'bi_2V'>, ramping_enabled=True, ramping_rate=0.1), QbloxD5AChannelSettings(id=12, voltage=0.0, span=<QbloxD5ASpan.BI_2V: 'bi_2V'>, ramping_enabled=True, ramping_rate=0.1), QbloxD5AChannelSettings(id=13, voltage=0.0, span=<QbloxD5ASpan.BI_2V: 'bi_2V'>, ramping_enabled=True, ramping_rate=0.1), QbloxD5AChannelSettings(id=14, voltage=0.0, span=<QbloxD5ASpan.BI_2V: 'bi_2V'>, ramping_enabled=True, ramping_rate=0.1), QbloxD5AChannelSettings(id=15, voltage=0.0, span=<QbloxD5ASpan.BI_2V: 'bi_2V'>, ramping_enabled=True, ramping_rate=0.1)]), QbloxS4G(settings=alias='s4g' channels=[QbloxS4GChannelSettings(id=0, current=0.01, span=<QbloxS4gSpan.MIN_BI: 'min_bi'>, ramping_enabled=True, ramping_rate=0.001), QbloxS4GChannelSettings(id=1, current=0.0, span=<QbloxS4gSpan.MIN_BI: 'min_bi'>, ramping_enabled=True, ramping_rate=0.001), QbloxS4GChannelSettings(id=2, current=0.0, span=<QbloxS4gSpan.MIN_BI: 'min_bi'>, ramping_enabled=True, ramping_rate=0.001), QbloxS4GChannelSettings(id=3, current=0.0, span=<QbloxS4gSpan.MIN_BI: 'min_bi'>, ramping_enabled=True, ramping_rate=0.001)])])"
      ]
     },
     "execution_count": 30,
     "metadata": {},
     "output_type": "execute_result"
    }
   ],
   "source": [
    "spi_rack_controller = QbloxSPIRackController(\n",
    "    settings=QbloxSPIRackControllerSettings(\n",
    "        alias=\"spi-rack\", modules=[{\"alias\": d5a.alias, \"slot\": 2}, {\"alias\": s4g.alias, \"slot\": 10}]\n",
    "    ),\n",
    "    loaded_instruments=loaded_instruments,\n",
    ")\n",
    "spi_rack_controller"
   ]
  },
  {
   "cell_type": "code",
   "execution_count": 31,
   "metadata": {},
   "outputs": [
    {
     "data": {
      "text/plain": [
       "QDevilQDAC2Controller(settings=alias='qdac2_controller' connection=ConnectionSettings(type=<ConnectionType.TCP_IP: 'tcp_ip'>, address='168.0.0.1') modules=[InstrumentModule(alias='qdac2', slot=0)] reset=True, modules=[QDevilQDAC2(settings=alias='qdac2' channels=[QDevilQDAC2ChannelSettings(id=0, voltage=0.0, span=<QDevilQDAC2Span.LOW: 'low'>, ramping_enabled=True, ramping_rate=1.0, low_pass_filter=<QDevilQDAC2LowPassFilter.DC: 'dc'>), QDevilQDAC2ChannelSettings(id=1, voltage=0.0, span=<QDevilQDAC2Span.LOW: 'low'>, ramping_enabled=True, ramping_rate=1.0, low_pass_filter=<QDevilQDAC2LowPassFilter.DC: 'dc'>), QDevilQDAC2ChannelSettings(id=2, voltage=0.0, span=<QDevilQDAC2Span.LOW: 'low'>, ramping_enabled=True, ramping_rate=1.0, low_pass_filter=<QDevilQDAC2LowPassFilter.DC: 'dc'>), QDevilQDAC2ChannelSettings(id=3, voltage=0.0, span=<QDevilQDAC2Span.LOW: 'low'>, ramping_enabled=True, ramping_rate=1.0, low_pass_filter=<QDevilQDAC2LowPassFilter.DC: 'dc'>), QDevilQDAC2ChannelSettings(id=4, voltage=0.0, span=<QDevilQDAC2Span.LOW: 'low'>, ramping_enabled=True, ramping_rate=1.0, low_pass_filter=<QDevilQDAC2LowPassFilter.DC: 'dc'>), QDevilQDAC2ChannelSettings(id=5, voltage=0.0, span=<QDevilQDAC2Span.LOW: 'low'>, ramping_enabled=True, ramping_rate=1.0, low_pass_filter=<QDevilQDAC2LowPassFilter.DC: 'dc'>), QDevilQDAC2ChannelSettings(id=6, voltage=0.0, span=<QDevilQDAC2Span.LOW: 'low'>, ramping_enabled=True, ramping_rate=1.0, low_pass_filter=<QDevilQDAC2LowPassFilter.DC: 'dc'>), QDevilQDAC2ChannelSettings(id=7, voltage=0.0, span=<QDevilQDAC2Span.LOW: 'low'>, ramping_enabled=True, ramping_rate=1.0, low_pass_filter=<QDevilQDAC2LowPassFilter.DC: 'dc'>), QDevilQDAC2ChannelSettings(id=8, voltage=0.0, span=<QDevilQDAC2Span.LOW: 'low'>, ramping_enabled=True, ramping_rate=1.0, low_pass_filter=<QDevilQDAC2LowPassFilter.DC: 'dc'>), QDevilQDAC2ChannelSettings(id=9, voltage=0.0, span=<QDevilQDAC2Span.LOW: 'low'>, ramping_enabled=True, ramping_rate=1.0, low_pass_filter=<QDevilQDAC2LowPassFilter.DC: 'dc'>), QDevilQDAC2ChannelSettings(id=10, voltage=0.0, span=<QDevilQDAC2Span.LOW: 'low'>, ramping_enabled=True, ramping_rate=1.0, low_pass_filter=<QDevilQDAC2LowPassFilter.DC: 'dc'>), QDevilQDAC2ChannelSettings(id=11, voltage=0.0, span=<QDevilQDAC2Span.LOW: 'low'>, ramping_enabled=True, ramping_rate=1.0, low_pass_filter=<QDevilQDAC2LowPassFilter.DC: 'dc'>), QDevilQDAC2ChannelSettings(id=12, voltage=0.0, span=<QDevilQDAC2Span.LOW: 'low'>, ramping_enabled=True, ramping_rate=1.0, low_pass_filter=<QDevilQDAC2LowPassFilter.DC: 'dc'>), QDevilQDAC2ChannelSettings(id=13, voltage=0.0, span=<QDevilQDAC2Span.LOW: 'low'>, ramping_enabled=True, ramping_rate=1.0, low_pass_filter=<QDevilQDAC2LowPassFilter.DC: 'dc'>), QDevilQDAC2ChannelSettings(id=14, voltage=0.0, span=<QDevilQDAC2Span.LOW: 'low'>, ramping_enabled=True, ramping_rate=1.0, low_pass_filter=<QDevilQDAC2LowPassFilter.DC: 'dc'>), QDevilQDAC2ChannelSettings(id=15, voltage=1.0, span=<QDevilQDAC2Span.LOW: 'low'>, ramping_enabled=True, ramping_rate=1.0, low_pass_filter=<QDevilQDAC2LowPassFilter.DC: 'dc'>), QDevilQDAC2ChannelSettings(id=16, voltage=0.0, span=<QDevilQDAC2Span.LOW: 'low'>, ramping_enabled=True, ramping_rate=1.0, low_pass_filter=<QDevilQDAC2LowPassFilter.DC: 'dc'>), QDevilQDAC2ChannelSettings(id=17, voltage=0.0, span=<QDevilQDAC2Span.LOW: 'low'>, ramping_enabled=True, ramping_rate=1.0, low_pass_filter=<QDevilQDAC2LowPassFilter.DC: 'dc'>), QDevilQDAC2ChannelSettings(id=18, voltage=0.0, span=<QDevilQDAC2Span.LOW: 'low'>, ramping_enabled=True, ramping_rate=1.0, low_pass_filter=<QDevilQDAC2LowPassFilter.DC: 'dc'>), QDevilQDAC2ChannelSettings(id=19, voltage=0.0, span=<QDevilQDAC2Span.LOW: 'low'>, ramping_enabled=True, ramping_rate=1.0, low_pass_filter=<QDevilQDAC2LowPassFilter.DC: 'dc'>), QDevilQDAC2ChannelSettings(id=20, voltage=0.0, span=<QDevilQDAC2Span.LOW: 'low'>, ramping_enabled=True, ramping_rate=1.0, low_pass_filter=<QDevilQDAC2LowPassFilter.DC: 'dc'>), QDevilQDAC2ChannelSettings(id=21, voltage=0.0, span=<QDevilQDAC2Span.LOW: 'low'>, ramping_enabled=True, ramping_rate=1.0, low_pass_filter=<QDevilQDAC2LowPassFilter.DC: 'dc'>), QDevilQDAC2ChannelSettings(id=22, voltage=0.0, span=<QDevilQDAC2Span.LOW: 'low'>, ramping_enabled=True, ramping_rate=1.0, low_pass_filter=<QDevilQDAC2LowPassFilter.DC: 'dc'>), QDevilQDAC2ChannelSettings(id=23, voltage=0.0, span=<QDevilQDAC2Span.LOW: 'low'>, ramping_enabled=True, ramping_rate=1.0, low_pass_filter=<QDevilQDAC2LowPassFilter.DC: 'dc'>)])])"
      ]
     },
     "execution_count": 31,
     "metadata": {},
     "output_type": "execute_result"
    }
   ],
   "source": [
    "qdac2_controller = QDevilQDAC2Controller(\n",
    "    settings=QDevilQDAC2ControllerSettings(alias=\"qdac2_controller\", modules=[{\"alias\": \"qdac2\", \"slot\": 0}]),\n",
    "    loaded_instruments=loaded_instruments,\n",
    ")\n",
    "qdac2_controller"
   ]
  },
  {
   "cell_type": "code",
   "execution_count": 32,
   "metadata": {},
   "outputs": [
    {
     "data": {
      "text/plain": [
       "QbloxClusterController(settings=alias='qblox_cluster' connection=ConnectionSettings(type=<ConnectionType.TCP_IP: 'tcp_ip'>, address='168.0.0.1') modules=[InstrumentModule(alias='qcm', slot=0), InstrumentModule(alias='qrm', slot=5), InstrumentModule(alias='qcm-rf', slot=10), InstrumentModule(alias='qrm-rf', slot=15)] reset=True reference_clock=<ReferenceClock.INTERNAL: 'internal'>, modules=[QbloxQCM(settings=alias='qcm' channels=[QbloxSequencerSettings(id=0, outputs=[0], hardware_modulation=False, intermediate_frequency=None, gain_imbalance=0.0, phase_imbalance=0.0, gain_i=1.0, gain_q=0.0, offset_i=0.0, offset_q=0.0), QbloxSequencerSettings(id=1, outputs=[1], hardware_modulation=False, intermediate_frequency=None, gain_imbalance=0.0, phase_imbalance=0.0, gain_i=1.0, gain_q=0.0, offset_i=0.0, offset_q=0.0), QbloxSequencerSettings(id=2, outputs=[2], hardware_modulation=False, intermediate_frequency=None, gain_imbalance=0.0, phase_imbalance=0.0, gain_i=1.0, gain_q=0.0, offset_i=0.0, offset_q=0.0), QbloxSequencerSettings(id=3, outputs=[3], hardware_modulation=False, intermediate_frequency=None, gain_imbalance=0.0, phase_imbalance=0.0, gain_i=1.0, gain_q=0.0, offset_i=0.0, offset_q=0.0)] timeout=1 outputs=[QbloxLFOutputSettings(port=0, offset=0.0), QbloxLFOutputSettings(port=1, offset=0.0), QbloxLFOutputSettings(port=2, offset=0.0), QbloxLFOutputSettings(port=3, offset=0.0)]), QbloxQRM(settings=alias='qrm' channels=[QbloxADCSequencerSettings(id=0, outputs=[0], hardware_modulation=True, intermediate_frequency=500000000.0, gain_imbalance=0.0, phase_imbalance=0.0, gain_i=1.0, gain_q=1.0, offset_i=0.0, offset_q=0.0, inputs=[0], hardware_demodulation=True, integration_length=1000, threshold=0.0, threshold_rotation=0.0, time_of_flight=0), QbloxADCSequencerSettings(id=1, outputs=[0], hardware_modulation=True, intermediate_frequency=500000000.0, gain_imbalance=0.0, phase_imbalance=0.0, gain_i=1.0, gain_q=1.0, offset_i=0.0, offset_q=0.0, inputs=[0], hardware_demodulation=True, integration_length=1000, threshold=0.0, threshold_rotation=0.0, time_of_flight=0), QbloxADCSequencerSettings(id=2, outputs=[0], hardware_modulation=True, intermediate_frequency=500000000.0, gain_imbalance=0.0, phase_imbalance=0.0, gain_i=1.0, gain_q=1.0, offset_i=0.0, offset_q=0.0, inputs=[0], hardware_demodulation=True, integration_length=1000, threshold=0.0, threshold_rotation=0.0, time_of_flight=0), QbloxADCSequencerSettings(id=3, outputs=[0], hardware_modulation=True, intermediate_frequency=500000000.0, gain_imbalance=0.0, phase_imbalance=0.0, gain_i=1.0, gain_q=1.0, offset_i=0.0, offset_q=0.0, inputs=[0], hardware_demodulation=True, integration_length=1000, threshold=0.0, threshold_rotation=0.0, time_of_flight=0), QbloxADCSequencerSettings(id=4, outputs=[0], hardware_modulation=True, intermediate_frequency=500000000.0, gain_imbalance=0.0, phase_imbalance=0.0, gain_i=1.0, gain_q=1.0, offset_i=0.0, offset_q=0.0, inputs=[0], hardware_demodulation=True, integration_length=1000, threshold=0.0, threshold_rotation=0.0, time_of_flight=0), QbloxADCSequencerSettings(id=5, outputs=[0], hardware_modulation=True, intermediate_frequency=500000000.0, gain_imbalance=0.0, phase_imbalance=0.0, gain_i=1.0, gain_q=1.0, offset_i=0.0, offset_q=0.0, inputs=[0], hardware_demodulation=True, integration_length=1000, threshold=0.0, threshold_rotation=0.0, time_of_flight=0)] timeout=1 outputs=[QbloxLFOutputSettings(port=0, offset=0.0), QbloxLFOutputSettings(port=1, offset=0.0)] inputs=[QbloxLFInputSettings(port=0, gain=0, offset=0.0), QbloxLFInputSettings(port=1, gain=0, offset=0.0)] scope_hardware_averaging=True), QbloxQCMRF(settings=alias='qcm-rf' channels=[QbloxSequencerSettings(id=0, outputs=[0], hardware_modulation=True, intermediate_frequency=500000000.0, gain_imbalance=0.0, phase_imbalance=0.0, gain_i=1.0, gain_q=1.0, offset_i=0.0, offset_q=0.0), QbloxSequencerSettings(id=1, outputs=[0], hardware_modulation=True, intermediate_frequency=500000000.0, gain_imbalance=0.0, phase_imbalance=0.0, gain_i=1.0, gain_q=1.0, offset_i=0.0, offset_q=0.0), QbloxSequencerSettings(id=2, outputs=[0], hardware_modulation=True, intermediate_frequency=500000000.0, gain_imbalance=0.0, phase_imbalance=0.0, gain_i=1.0, gain_q=1.0, offset_i=0.0, offset_q=0.0), QbloxSequencerSettings(id=3, outputs=[0], hardware_modulation=True, intermediate_frequency=500000000.0, gain_imbalance=0.0, phase_imbalance=0.0, gain_i=1.0, gain_q=1.0, offset_i=0.0, offset_q=0.0), QbloxSequencerSettings(id=4, outputs=[0], hardware_modulation=True, intermediate_frequency=500000000.0, gain_imbalance=0.0, phase_imbalance=0.0, gain_i=1.0, gain_q=1.0, offset_i=0.0, offset_q=0.0), QbloxSequencerSettings(id=5, outputs=[0], hardware_modulation=True, intermediate_frequency=500000000.0, gain_imbalance=0.0, phase_imbalance=0.0, gain_i=1.0, gain_q=1.0, offset_i=0.0, offset_q=0.0)] timeout=1 outputs=[QbloxRFOutputSettings(port=0, lo_enabled=True, lo_frequency=10000000000.0, attenuation=0, offset_i=0.0, offset_q=0.0), QbloxRFOutputSettings(port=1, lo_enabled=True, lo_frequency=10000000000.0, attenuation=0, offset_i=0.0, offset_q=0.0)]), QbloxQRMRF(settings=alias='qrm-rf' channels=[QbloxADCSequencerSettings(id=0, outputs=[0], hardware_modulation=True, intermediate_frequency=500000000.0, gain_imbalance=0.0, phase_imbalance=0.0, gain_i=1.0, gain_q=1.0, offset_i=0.0, offset_q=0.0, inputs=[0], hardware_demodulation=True, integration_length=1000, threshold=0.0, threshold_rotation=0.0, time_of_flight=0), QbloxADCSequencerSettings(id=1, outputs=[0], hardware_modulation=True, intermediate_frequency=500000000.0, gain_imbalance=0.0, phase_imbalance=0.0, gain_i=1.0, gain_q=1.0, offset_i=0.0, offset_q=0.0, inputs=[0], hardware_demodulation=True, integration_length=1000, threshold=0.0, threshold_rotation=0.0, time_of_flight=0), QbloxADCSequencerSettings(id=2, outputs=[0], hardware_modulation=True, intermediate_frequency=500000000.0, gain_imbalance=0.0, phase_imbalance=0.0, gain_i=1.0, gain_q=1.0, offset_i=0.0, offset_q=0.0, inputs=[0], hardware_demodulation=True, integration_length=1000, threshold=0.0, threshold_rotation=0.0, time_of_flight=0), QbloxADCSequencerSettings(id=3, outputs=[0], hardware_modulation=True, intermediate_frequency=500000000.0, gain_imbalance=0.0, phase_imbalance=0.0, gain_i=1.0, gain_q=1.0, offset_i=0.0, offset_q=0.0, inputs=[0], hardware_demodulation=True, integration_length=1000, threshold=0.0, threshold_rotation=0.0, time_of_flight=0), QbloxADCSequencerSettings(id=4, outputs=[0], hardware_modulation=True, intermediate_frequency=500000000.0, gain_imbalance=0.0, phase_imbalance=0.0, gain_i=1.0, gain_q=1.0, offset_i=0.0, offset_q=0.0, inputs=[0], hardware_demodulation=True, integration_length=1000, threshold=0.0, threshold_rotation=0.0, time_of_flight=0), QbloxADCSequencerSettings(id=5, outputs=[0], hardware_modulation=True, intermediate_frequency=500000000.0, gain_imbalance=0.0, phase_imbalance=0.0, gain_i=1.0, gain_q=1.0, offset_i=0.0, offset_q=0.0, inputs=[0], hardware_demodulation=True, integration_length=1000, threshold=0.0, threshold_rotation=0.0, time_of_flight=0)] timeout=1 outputs=[QbloxRFOutputSettings(port=0, lo_enabled=True, lo_frequency=10000000000.0, attenuation=0, offset_i=0.0, offset_q=0.0)] inputs=[QbloxRFInputSettings(port=0, attenuation=0, offset_i=0.0, offset_q=0.0)] scope_hardware_averaging=True)])"
      ]
     },
     "execution_count": 32,
     "metadata": {},
     "output_type": "execute_result"
    }
   ],
   "source": [
    "qblox_controller = QbloxClusterController(\n",
    "    settings=QbloxClusterControllerSettings(\n",
    "        alias=\"qblox_cluster\",\n",
    "        modules=[\n",
    "            {\"alias\": qcm.alias, \"slot\": 0},\n",
    "            {\"alias\": qrm.alias, \"slot\": 5},\n",
    "            {\"alias\": qcm_rf.alias, \"slot\": 10},\n",
    "            {\"alias\": qrm_rf.alias, \"slot\": 15},\n",
    "        ],\n",
    "    ),\n",
    "    loaded_instruments=loaded_instruments,\n",
    ")\n",
    "qblox_controller"
   ]
  },
  {
   "cell_type": "code",
   "execution_count": 33,
   "metadata": {},
   "outputs": [
    {
     "data": {
      "text/plain": [
       "Runcard(name='saruman', buses=[], instruments=[], instrument_controllers=[], analog=AnalogCompilationSettings(flux_control_topology=[]), digital=DigitalCompilationSettings(minimum_clock_time=4, delay_before_readout=0, topology=[], gates={}, buses={}))"
      ]
     },
     "execution_count": 33,
     "metadata": {},
     "output_type": "execute_result"
    }
   ],
   "source": [
    "runcard = Runcard(name=\"saruman\")\n",
    "runcard"
   ]
  },
  {
   "cell_type": "code",
   "execution_count": 34,
   "metadata": {},
   "outputs": [],
   "source": [
    "runcard.instruments = [instrument.to_runcard() for instrument in loaded_instruments]"
   ]
  },
  {
   "cell_type": "code",
   "execution_count": 35,
   "metadata": {},
   "outputs": [],
   "source": [
    "runcard.add_instrument_controller(qdac2_controller)\n",
    "runcard.add_instrument_controller(qblox_controller)\n",
    "runcard.add_instrument_controller(spi_rack_controller)"
   ]
  },
  {
   "cell_type": "code",
   "execution_count": 36,
   "metadata": {},
   "outputs": [],
   "source": [
    "runcard.add_bus(bus=bus)"
   ]
  },
  {
   "cell_type": "code",
   "execution_count": 37,
   "metadata": {},
   "outputs": [],
   "source": [
    "from qililab.settings.analog import FluxToBus\n",
    "\n",
    "runcard.analog.flux_control_topology.append(FluxToBus(flux=\"phix_q0\", bus=\"flux_q0_x\"))\n",
    "runcard.analog.flux_control_topology.append(FluxToBus(flux=\"phiz_q0\", bus=\"flux_q0_z\"))"
   ]
  },
  {
   "cell_type": "code",
   "execution_count": 38,
   "metadata": {},
   "outputs": [],
   "source": [
    "from qililab.pulse.pulse_distortion import BiasTeeCorrection\n",
    "from qililab.settings.digital import DigitalCompilationBusSettings, GateEventSettings\n",
    "from qililab.typings.enums import Line\n",
    "\n",
    "drag_gate = GateEventSettings(bus=\"drive_q0\", pulse=GateEventSettings.GatePulseSettings(1.0, 40, 100, {}, {}))\n",
    "runcard.digital.gates[\"DRAG(0)\"] = [drag_gate]\n",
    "\n",
    "bus_settings = DigitalCompilationBusSettings(line=Line.DRIVE, qubits=[0], distortions=[BiasTeeCorrection(0.5)])\n",
    "runcard.digital.buses[\"drive_q0\"] = bus_settings"
   ]
  },
  {
   "cell_type": "code",
   "execution_count": 39,
   "metadata": {},
   "outputs": [],
   "source": [
    "square = Square(amplitude=1.0, duration=100)\n",
    "gauss = Gaussian(amplitude=0.5, duration=400, num_sigmas=0.5)\n",
    "drag = IQDrag(amplitude=1.0, duration=100, num_sigmas=0.5, drag_coefficient=2.5)\n",
    "pair = IQPair(I=Square(1.0, 40), Q=Square(1.0, 40))"
   ]
  },
  {
   "cell_type": "code",
   "execution_count": 40,
   "metadata": {},
   "outputs": [],
   "source": [
    "runcard.save_to(\"runcard.yml\")"
   ]
  },
  {
   "cell_type": "code",
   "execution_count": 41,
   "metadata": {},
   "outputs": [
    {
     "data": {
      "text/plain": [
       "Runcard(name='saruman', buses=[RuncardBus(alias='dc_flux_0', instruments=['d5a'], channels=[0])], instruments=[QbloxQCMRuncardInstrument(type=<InstrumentType.QBLOX_QCM: 'qcm'>, settings=QbloxQCMSettings(alias='qcm', channels=[QbloxSequencerSettings(id=0, outputs=[0], hardware_modulation=False, intermediate_frequency=None, gain_imbalance=0.0, phase_imbalance=0.0, gain_i=1.0, gain_q=0.0, offset_i=0.0, offset_q=0.0), QbloxSequencerSettings(id=1, outputs=[1], hardware_modulation=False, intermediate_frequency=None, gain_imbalance=0.0, phase_imbalance=0.0, gain_i=1.0, gain_q=0.0, offset_i=0.0, offset_q=0.0), QbloxSequencerSettings(id=2, outputs=[2], hardware_modulation=False, intermediate_frequency=None, gain_imbalance=0.0, phase_imbalance=0.0, gain_i=1.0, gain_q=0.0, offset_i=0.0, offset_q=0.0), QbloxSequencerSettings(id=3, outputs=[3], hardware_modulation=False, intermediate_frequency=None, gain_imbalance=0.0, phase_imbalance=0.0, gain_i=1.0, gain_q=0.0, offset_i=0.0, offset_q=0.0)], timeout=1, outputs=[QbloxLFOutputSettings(port=0, offset=0.0), QbloxLFOutputSettings(port=1, offset=0.0), QbloxLFOutputSettings(port=2, offset=0.0), QbloxLFOutputSettings(port=3, offset=0.0)])), QbloxQRMRuncardInstrument(type=<InstrumentType.QBLOX_QRM: 'qrm'>, settings=QbloxQRMSettings(alias='qrm', channels=[QbloxADCSequencerSettings(id=0, outputs=[0], hardware_modulation=True, intermediate_frequency=500000000.0, gain_imbalance=0.0, phase_imbalance=0.0, gain_i=1.0, gain_q=1.0, offset_i=0.0, offset_q=0.0, inputs=[0], hardware_demodulation=True, integration_length=1000, threshold=0.0, threshold_rotation=0.0, time_of_flight=0), QbloxADCSequencerSettings(id=1, outputs=[0], hardware_modulation=True, intermediate_frequency=500000000.0, gain_imbalance=0.0, phase_imbalance=0.0, gain_i=1.0, gain_q=1.0, offset_i=0.0, offset_q=0.0, inputs=[0], hardware_demodulation=True, integration_length=1000, threshold=0.0, threshold_rotation=0.0, time_of_flight=0), QbloxADCSequencerSettings(id=2, outputs=[0], hardware_modulation=True, intermediate_frequency=500000000.0, gain_imbalance=0.0, phase_imbalance=0.0, gain_i=1.0, gain_q=1.0, offset_i=0.0, offset_q=0.0, inputs=[0], hardware_demodulation=True, integration_length=1000, threshold=0.0, threshold_rotation=0.0, time_of_flight=0), QbloxADCSequencerSettings(id=3, outputs=[0], hardware_modulation=True, intermediate_frequency=500000000.0, gain_imbalance=0.0, phase_imbalance=0.0, gain_i=1.0, gain_q=1.0, offset_i=0.0, offset_q=0.0, inputs=[0], hardware_demodulation=True, integration_length=1000, threshold=0.0, threshold_rotation=0.0, time_of_flight=0), QbloxADCSequencerSettings(id=4, outputs=[0], hardware_modulation=True, intermediate_frequency=500000000.0, gain_imbalance=0.0, phase_imbalance=0.0, gain_i=1.0, gain_q=1.0, offset_i=0.0, offset_q=0.0, inputs=[0], hardware_demodulation=True, integration_length=1000, threshold=0.0, threshold_rotation=0.0, time_of_flight=0), QbloxADCSequencerSettings(id=5, outputs=[0], hardware_modulation=True, intermediate_frequency=500000000.0, gain_imbalance=0.0, phase_imbalance=0.0, gain_i=1.0, gain_q=1.0, offset_i=0.0, offset_q=0.0, inputs=[0], hardware_demodulation=True, integration_length=1000, threshold=0.0, threshold_rotation=0.0, time_of_flight=0)], timeout=1, outputs=[QbloxLFOutputSettings(port=0, offset=0.0), QbloxLFOutputSettings(port=1, offset=0.0)], inputs=[QbloxLFInputSettings(port=0, gain=0, offset=0.0), QbloxLFInputSettings(port=1, gain=0, offset=0.0)], scope_hardware_averaging=True)), QbloxQCMRFRuncardInstrument(type=<InstrumentType.QBLOX_QCM_RF: 'qcm-rf'>, settings=QbloxQCMRFSettings(alias='qcm-rf', channels=[QbloxSequencerSettings(id=0, outputs=[0], hardware_modulation=True, intermediate_frequency=500000000.0, gain_imbalance=0.0, phase_imbalance=0.0, gain_i=1.0, gain_q=1.0, offset_i=0.0, offset_q=0.0), QbloxSequencerSettings(id=1, outputs=[0], hardware_modulation=True, intermediate_frequency=500000000.0, gain_imbalance=0.0, phase_imbalance=0.0, gain_i=1.0, gain_q=1.0, offset_i=0.0, offset_q=0.0), QbloxSequencerSettings(id=2, outputs=[0], hardware_modulation=True, intermediate_frequency=500000000.0, gain_imbalance=0.0, phase_imbalance=0.0, gain_i=1.0, gain_q=1.0, offset_i=0.0, offset_q=0.0), QbloxSequencerSettings(id=3, outputs=[0], hardware_modulation=True, intermediate_frequency=500000000.0, gain_imbalance=0.0, phase_imbalance=0.0, gain_i=1.0, gain_q=1.0, offset_i=0.0, offset_q=0.0), QbloxSequencerSettings(id=4, outputs=[0], hardware_modulation=True, intermediate_frequency=500000000.0, gain_imbalance=0.0, phase_imbalance=0.0, gain_i=1.0, gain_q=1.0, offset_i=0.0, offset_q=0.0), QbloxSequencerSettings(id=5, outputs=[0], hardware_modulation=True, intermediate_frequency=500000000.0, gain_imbalance=0.0, phase_imbalance=0.0, gain_i=1.0, gain_q=1.0, offset_i=0.0, offset_q=0.0)], timeout=1, outputs=[QbloxRFOutputSettings(port=0, lo_enabled=True, lo_frequency=10000000000.0, attenuation=0, offset_i=0.0, offset_q=0.0), QbloxRFOutputSettings(port=1, lo_enabled=True, lo_frequency=10000000000.0, attenuation=0, offset_i=0.0, offset_q=0.0)])), QbloxQRMRFRuncardInstrument(type=<InstrumentType.QBLOX_QRM_RF: 'qrm-rf'>, settings=QbloxQRMRFSettings(alias='qrm-rf', channels=[QbloxADCSequencerSettings(id=0, outputs=[0], hardware_modulation=True, intermediate_frequency=500000000.0, gain_imbalance=0.0, phase_imbalance=0.0, gain_i=1.0, gain_q=1.0, offset_i=0.0, offset_q=0.0, inputs=[0], hardware_demodulation=True, integration_length=1000, threshold=0.0, threshold_rotation=0.0, time_of_flight=0), QbloxADCSequencerSettings(id=1, outputs=[0], hardware_modulation=True, intermediate_frequency=500000000.0, gain_imbalance=0.0, phase_imbalance=0.0, gain_i=1.0, gain_q=1.0, offset_i=0.0, offset_q=0.0, inputs=[0], hardware_demodulation=True, integration_length=1000, threshold=0.0, threshold_rotation=0.0, time_of_flight=0), QbloxADCSequencerSettings(id=2, outputs=[0], hardware_modulation=True, intermediate_frequency=500000000.0, gain_imbalance=0.0, phase_imbalance=0.0, gain_i=1.0, gain_q=1.0, offset_i=0.0, offset_q=0.0, inputs=[0], hardware_demodulation=True, integration_length=1000, threshold=0.0, threshold_rotation=0.0, time_of_flight=0), QbloxADCSequencerSettings(id=3, outputs=[0], hardware_modulation=True, intermediate_frequency=500000000.0, gain_imbalance=0.0, phase_imbalance=0.0, gain_i=1.0, gain_q=1.0, offset_i=0.0, offset_q=0.0, inputs=[0], hardware_demodulation=True, integration_length=1000, threshold=0.0, threshold_rotation=0.0, time_of_flight=0), QbloxADCSequencerSettings(id=4, outputs=[0], hardware_modulation=True, intermediate_frequency=500000000.0, gain_imbalance=0.0, phase_imbalance=0.0, gain_i=1.0, gain_q=1.0, offset_i=0.0, offset_q=0.0, inputs=[0], hardware_demodulation=True, integration_length=1000, threshold=0.0, threshold_rotation=0.0, time_of_flight=0), QbloxADCSequencerSettings(id=5, outputs=[0], hardware_modulation=True, intermediate_frequency=500000000.0, gain_imbalance=0.0, phase_imbalance=0.0, gain_i=1.0, gain_q=1.0, offset_i=0.0, offset_q=0.0, inputs=[0], hardware_demodulation=True, integration_length=1000, threshold=0.0, threshold_rotation=0.0, time_of_flight=0)], timeout=1, outputs=[QbloxRFOutputSettings(port=0, lo_enabled=True, lo_frequency=10000000000.0, attenuation=0, offset_i=0.0, offset_q=0.0)], inputs=[QbloxRFInputSettings(port=0, attenuation=0, offset_i=0.0, offset_q=0.0)], scope_hardware_averaging=True)), QDevilQDAC2RuncardInstrument(type=<InstrumentType.QDEVIL_QDAC2: 'qdac2'>, settings=QDevilQDAC2Settings(alias='qdac2', channels=[QDevilQDAC2ChannelSettings(id=0, voltage=0.0, span=<QDevilQDAC2Span.LOW: 'low'>, ramping_enabled=True, ramping_rate=1.0, low_pass_filter=<QDevilQDAC2LowPassFilter.DC: 'dc'>), QDevilQDAC2ChannelSettings(id=1, voltage=0.0, span=<QDevilQDAC2Span.LOW: 'low'>, ramping_enabled=True, ramping_rate=1.0, low_pass_filter=<QDevilQDAC2LowPassFilter.DC: 'dc'>), QDevilQDAC2ChannelSettings(id=2, voltage=0.0, span=<QDevilQDAC2Span.LOW: 'low'>, ramping_enabled=True, ramping_rate=1.0, low_pass_filter=<QDevilQDAC2LowPassFilter.DC: 'dc'>), QDevilQDAC2ChannelSettings(id=3, voltage=0.0, span=<QDevilQDAC2Span.LOW: 'low'>, ramping_enabled=True, ramping_rate=1.0, low_pass_filter=<QDevilQDAC2LowPassFilter.DC: 'dc'>), QDevilQDAC2ChannelSettings(id=4, voltage=0.0, span=<QDevilQDAC2Span.LOW: 'low'>, ramping_enabled=True, ramping_rate=1.0, low_pass_filter=<QDevilQDAC2LowPassFilter.DC: 'dc'>), QDevilQDAC2ChannelSettings(id=5, voltage=0.0, span=<QDevilQDAC2Span.LOW: 'low'>, ramping_enabled=True, ramping_rate=1.0, low_pass_filter=<QDevilQDAC2LowPassFilter.DC: 'dc'>), QDevilQDAC2ChannelSettings(id=6, voltage=0.0, span=<QDevilQDAC2Span.LOW: 'low'>, ramping_enabled=True, ramping_rate=1.0, low_pass_filter=<QDevilQDAC2LowPassFilter.DC: 'dc'>), QDevilQDAC2ChannelSettings(id=7, voltage=0.0, span=<QDevilQDAC2Span.LOW: 'low'>, ramping_enabled=True, ramping_rate=1.0, low_pass_filter=<QDevilQDAC2LowPassFilter.DC: 'dc'>), QDevilQDAC2ChannelSettings(id=8, voltage=0.0, span=<QDevilQDAC2Span.LOW: 'low'>, ramping_enabled=True, ramping_rate=1.0, low_pass_filter=<QDevilQDAC2LowPassFilter.DC: 'dc'>), QDevilQDAC2ChannelSettings(id=9, voltage=0.0, span=<QDevilQDAC2Span.LOW: 'low'>, ramping_enabled=True, ramping_rate=1.0, low_pass_filter=<QDevilQDAC2LowPassFilter.DC: 'dc'>), QDevilQDAC2ChannelSettings(id=10, voltage=0.0, span=<QDevilQDAC2Span.LOW: 'low'>, ramping_enabled=True, ramping_rate=1.0, low_pass_filter=<QDevilQDAC2LowPassFilter.DC: 'dc'>), QDevilQDAC2ChannelSettings(id=11, voltage=0.0, span=<QDevilQDAC2Span.LOW: 'low'>, ramping_enabled=True, ramping_rate=1.0, low_pass_filter=<QDevilQDAC2LowPassFilter.DC: 'dc'>), QDevilQDAC2ChannelSettings(id=12, voltage=0.0, span=<QDevilQDAC2Span.LOW: 'low'>, ramping_enabled=True, ramping_rate=1.0, low_pass_filter=<QDevilQDAC2LowPassFilter.DC: 'dc'>), QDevilQDAC2ChannelSettings(id=13, voltage=0.0, span=<QDevilQDAC2Span.LOW: 'low'>, ramping_enabled=True, ramping_rate=1.0, low_pass_filter=<QDevilQDAC2LowPassFilter.DC: 'dc'>), QDevilQDAC2ChannelSettings(id=14, voltage=0.0, span=<QDevilQDAC2Span.LOW: 'low'>, ramping_enabled=True, ramping_rate=1.0, low_pass_filter=<QDevilQDAC2LowPassFilter.DC: 'dc'>), QDevilQDAC2ChannelSettings(id=15, voltage=1.0, span=<QDevilQDAC2Span.LOW: 'low'>, ramping_enabled=True, ramping_rate=1.0, low_pass_filter=<QDevilQDAC2LowPassFilter.DC: 'dc'>), QDevilQDAC2ChannelSettings(id=16, voltage=0.0, span=<QDevilQDAC2Span.LOW: 'low'>, ramping_enabled=True, ramping_rate=1.0, low_pass_filter=<QDevilQDAC2LowPassFilter.DC: 'dc'>), QDevilQDAC2ChannelSettings(id=17, voltage=0.0, span=<QDevilQDAC2Span.LOW: 'low'>, ramping_enabled=True, ramping_rate=1.0, low_pass_filter=<QDevilQDAC2LowPassFilter.DC: 'dc'>), QDevilQDAC2ChannelSettings(id=18, voltage=0.0, span=<QDevilQDAC2Span.LOW: 'low'>, ramping_enabled=True, ramping_rate=1.0, low_pass_filter=<QDevilQDAC2LowPassFilter.DC: 'dc'>), QDevilQDAC2ChannelSettings(id=19, voltage=0.0, span=<QDevilQDAC2Span.LOW: 'low'>, ramping_enabled=True, ramping_rate=1.0, low_pass_filter=<QDevilQDAC2LowPassFilter.DC: 'dc'>), QDevilQDAC2ChannelSettings(id=20, voltage=0.0, span=<QDevilQDAC2Span.LOW: 'low'>, ramping_enabled=True, ramping_rate=1.0, low_pass_filter=<QDevilQDAC2LowPassFilter.DC: 'dc'>), QDevilQDAC2ChannelSettings(id=21, voltage=0.0, span=<QDevilQDAC2Span.LOW: 'low'>, ramping_enabled=True, ramping_rate=1.0, low_pass_filter=<QDevilQDAC2LowPassFilter.DC: 'dc'>), QDevilQDAC2ChannelSettings(id=22, voltage=0.0, span=<QDevilQDAC2Span.LOW: 'low'>, ramping_enabled=True, ramping_rate=1.0, low_pass_filter=<QDevilQDAC2LowPassFilter.DC: 'dc'>), QDevilQDAC2ChannelSettings(id=23, voltage=0.0, span=<QDevilQDAC2Span.LOW: 'low'>, ramping_enabled=True, ramping_rate=1.0, low_pass_filter=<QDevilQDAC2LowPassFilter.DC: 'dc'>)])), QDevilQDAC2RuncardInstrument(type=<InstrumentType.QDEVIL_QDAC2: 'qdac2'>, settings=QDevilQDAC2Settings(alias='second_qdac2', channels=[QDevilQDAC2ChannelSettings(id=0, voltage=0.0, span=<QDevilQDAC2Span.LOW: 'low'>, ramping_enabled=True, ramping_rate=1.0, low_pass_filter=<QDevilQDAC2LowPassFilter.DC: 'dc'>), QDevilQDAC2ChannelSettings(id=1, voltage=0.0, span=<QDevilQDAC2Span.LOW: 'low'>, ramping_enabled=True, ramping_rate=1.0, low_pass_filter=<QDevilQDAC2LowPassFilter.DC: 'dc'>), QDevilQDAC2ChannelSettings(id=2, voltage=0.0, span=<QDevilQDAC2Span.LOW: 'low'>, ramping_enabled=True, ramping_rate=1.0, low_pass_filter=<QDevilQDAC2LowPassFilter.DC: 'dc'>), QDevilQDAC2ChannelSettings(id=3, voltage=0.0, span=<QDevilQDAC2Span.LOW: 'low'>, ramping_enabled=True, ramping_rate=1.0, low_pass_filter=<QDevilQDAC2LowPassFilter.DC: 'dc'>), QDevilQDAC2ChannelSettings(id=4, voltage=0.0, span=<QDevilQDAC2Span.LOW: 'low'>, ramping_enabled=True, ramping_rate=1.0, low_pass_filter=<QDevilQDAC2LowPassFilter.DC: 'dc'>), QDevilQDAC2ChannelSettings(id=5, voltage=0.0, span=<QDevilQDAC2Span.LOW: 'low'>, ramping_enabled=True, ramping_rate=1.0, low_pass_filter=<QDevilQDAC2LowPassFilter.DC: 'dc'>), QDevilQDAC2ChannelSettings(id=6, voltage=0.0, span=<QDevilQDAC2Span.LOW: 'low'>, ramping_enabled=True, ramping_rate=1.0, low_pass_filter=<QDevilQDAC2LowPassFilter.DC: 'dc'>), QDevilQDAC2ChannelSettings(id=7, voltage=0.0, span=<QDevilQDAC2Span.LOW: 'low'>, ramping_enabled=True, ramping_rate=1.0, low_pass_filter=<QDevilQDAC2LowPassFilter.DC: 'dc'>), QDevilQDAC2ChannelSettings(id=8, voltage=0.0, span=<QDevilQDAC2Span.LOW: 'low'>, ramping_enabled=True, ramping_rate=1.0, low_pass_filter=<QDevilQDAC2LowPassFilter.DC: 'dc'>), QDevilQDAC2ChannelSettings(id=9, voltage=0.0, span=<QDevilQDAC2Span.LOW: 'low'>, ramping_enabled=True, ramping_rate=1.0, low_pass_filter=<QDevilQDAC2LowPassFilter.DC: 'dc'>), QDevilQDAC2ChannelSettings(id=10, voltage=0.0, span=<QDevilQDAC2Span.LOW: 'low'>, ramping_enabled=True, ramping_rate=1.0, low_pass_filter=<QDevilQDAC2LowPassFilter.DC: 'dc'>), QDevilQDAC2ChannelSettings(id=11, voltage=0.0, span=<QDevilQDAC2Span.LOW: 'low'>, ramping_enabled=True, ramping_rate=1.0, low_pass_filter=<QDevilQDAC2LowPassFilter.DC: 'dc'>), QDevilQDAC2ChannelSettings(id=12, voltage=0.0, span=<QDevilQDAC2Span.LOW: 'low'>, ramping_enabled=True, ramping_rate=1.0, low_pass_filter=<QDevilQDAC2LowPassFilter.DC: 'dc'>), QDevilQDAC2ChannelSettings(id=13, voltage=0.0, span=<QDevilQDAC2Span.LOW: 'low'>, ramping_enabled=True, ramping_rate=1.0, low_pass_filter=<QDevilQDAC2LowPassFilter.DC: 'dc'>), QDevilQDAC2ChannelSettings(id=14, voltage=0.0, span=<QDevilQDAC2Span.LOW: 'low'>, ramping_enabled=True, ramping_rate=1.0, low_pass_filter=<QDevilQDAC2LowPassFilter.DC: 'dc'>), QDevilQDAC2ChannelSettings(id=15, voltage=0.0, span=<QDevilQDAC2Span.LOW: 'low'>, ramping_enabled=True, ramping_rate=1.0, low_pass_filter=<QDevilQDAC2LowPassFilter.DC: 'dc'>), QDevilQDAC2ChannelSettings(id=16, voltage=0.0, span=<QDevilQDAC2Span.LOW: 'low'>, ramping_enabled=True, ramping_rate=1.0, low_pass_filter=<QDevilQDAC2LowPassFilter.DC: 'dc'>), QDevilQDAC2ChannelSettings(id=17, voltage=0.0, span=<QDevilQDAC2Span.LOW: 'low'>, ramping_enabled=True, ramping_rate=1.0, low_pass_filter=<QDevilQDAC2LowPassFilter.DC: 'dc'>), QDevilQDAC2ChannelSettings(id=18, voltage=0.0, span=<QDevilQDAC2Span.LOW: 'low'>, ramping_enabled=True, ramping_rate=1.0, low_pass_filter=<QDevilQDAC2LowPassFilter.DC: 'dc'>), QDevilQDAC2ChannelSettings(id=19, voltage=0.0, span=<QDevilQDAC2Span.LOW: 'low'>, ramping_enabled=True, ramping_rate=1.0, low_pass_filter=<QDevilQDAC2LowPassFilter.DC: 'dc'>), QDevilQDAC2ChannelSettings(id=20, voltage=0.0, span=<QDevilQDAC2Span.LOW: 'low'>, ramping_enabled=True, ramping_rate=1.0, low_pass_filter=<QDevilQDAC2LowPassFilter.DC: 'dc'>), QDevilQDAC2ChannelSettings(id=21, voltage=0.0, span=<QDevilQDAC2Span.LOW: 'low'>, ramping_enabled=True, ramping_rate=1.0, low_pass_filter=<QDevilQDAC2LowPassFilter.DC: 'dc'>), QDevilQDAC2ChannelSettings(id=22, voltage=0.0, span=<QDevilQDAC2Span.LOW: 'low'>, ramping_enabled=True, ramping_rate=1.0, low_pass_filter=<QDevilQDAC2LowPassFilter.DC: 'dc'>), QDevilQDAC2ChannelSettings(id=23, voltage=0.0, span=<QDevilQDAC2Span.LOW: 'low'>, ramping_enabled=True, ramping_rate=1.0, low_pass_filter=<QDevilQDAC2LowPassFilter.DC: 'dc'>)])), RohdeSchwarzSG100RuncardInstrument(type=<InstrumentType.ROHDE_SCHWARZ_SG100: 'sg100'>, settings=RohdeSchwarzSG100Settings(alias='sg100', power=0.0, frequency=1000000000.0, rf_on=False)), QbloxS4GRuncardInstrument(type=<InstrumentType.QBLOX_S4G: 's4g'>, settings=QbloxS4GSettings(alias='s4g', channels=[ChannelSettings(id=0), ChannelSettings(id=1), ChannelSettings(id=2), ChannelSettings(id=3)])), QbloxD5ARuncardInstrument(type=<InstrumentType.QBLOX_D5A: 'd5a'>, settings=QbloxD5ASettings(alias='d5a', channels=[QbloxD5AChannelSettings(id=0, voltage=1.0, span=<QbloxD5ASpan.BI_2V: 'bi_2V'>, ramping_enabled=True, ramping_rate=0.1), QbloxD5AChannelSettings(id=1, voltage=0.0, span=<QbloxD5ASpan.BI_2V: 'bi_2V'>, ramping_enabled=True, ramping_rate=0.1), QbloxD5AChannelSettings(id=2, voltage=0.0, span=<QbloxD5ASpan.BI_2V: 'bi_2V'>, ramping_enabled=True, ramping_rate=0.1), QbloxD5AChannelSettings(id=3, voltage=0.0, span=<QbloxD5ASpan.BI_2V: 'bi_2V'>, ramping_enabled=True, ramping_rate=0.1), QbloxD5AChannelSettings(id=4, voltage=0.0, span=<QbloxD5ASpan.BI_2V: 'bi_2V'>, ramping_enabled=True, ramping_rate=0.1), QbloxD5AChannelSettings(id=5, voltage=0.0, span=<QbloxD5ASpan.BI_2V: 'bi_2V'>, ramping_enabled=True, ramping_rate=0.1), QbloxD5AChannelSettings(id=6, voltage=0.0, span=<QbloxD5ASpan.BI_2V: 'bi_2V'>, ramping_enabled=True, ramping_rate=0.1), QbloxD5AChannelSettings(id=7, voltage=0.0, span=<QbloxD5ASpan.BI_2V: 'bi_2V'>, ramping_enabled=True, ramping_rate=0.1), QbloxD5AChannelSettings(id=8, voltage=0.0, span=<QbloxD5ASpan.BI_2V: 'bi_2V'>, ramping_enabled=True, ramping_rate=0.1), QbloxD5AChannelSettings(id=9, voltage=0.0, span=<QbloxD5ASpan.BI_2V: 'bi_2V'>, ramping_enabled=True, ramping_rate=0.1), QbloxD5AChannelSettings(id=10, voltage=0.0, span=<QbloxD5ASpan.BI_2V: 'bi_2V'>, ramping_enabled=True, ramping_rate=0.1), QbloxD5AChannelSettings(id=11, voltage=0.0, span=<QbloxD5ASpan.BI_2V: 'bi_2V'>, ramping_enabled=True, ramping_rate=0.1), QbloxD5AChannelSettings(id=12, voltage=0.0, span=<QbloxD5ASpan.BI_2V: 'bi_2V'>, ramping_enabled=True, ramping_rate=0.1), QbloxD5AChannelSettings(id=13, voltage=0.0, span=<QbloxD5ASpan.BI_2V: 'bi_2V'>, ramping_enabled=True, ramping_rate=0.1), QbloxD5AChannelSettings(id=14, voltage=0.0, span=<QbloxD5ASpan.BI_2V: 'bi_2V'>, ramping_enabled=True, ramping_rate=0.1), QbloxD5AChannelSettings(id=15, voltage=0.0, span=<QbloxD5ASpan.BI_2V: 'bi_2V'>, ramping_enabled=True, ramping_rate=0.1)]))], instrument_controllers=[QDevilQDAC2RuncardInstrumentController(type=<InstrumentControllerType.QDEVIL_QDAC2_CONTROLLER: 'qdac2_controller'>, settings=QDevilQDAC2ControllerSettings(alias='qdac2_controller', connection=ConnectionSettings(type=<ConnectionType.TCP_IP: 'tcp_ip'>, address='168.0.0.1'), modules=[InstrumentModule(alias='qdac2', slot=0)], reset=True)), QbloxClusterRuncardInstrumentController(type=<InstrumentControllerType.QBLOX_CLUSTER_CONTROLLER: 'qblox_cluster_controller'>, settings=QbloxClusterControllerSettings(alias='qblox_cluster', connection=ConnectionSettings(type=<ConnectionType.TCP_IP: 'tcp_ip'>, address='168.0.0.1'), modules=[InstrumentModule(alias='qcm', slot=0), InstrumentModule(alias='qrm', slot=5), InstrumentModule(alias='qcm-rf', slot=10), InstrumentModule(alias='qrm-rf', slot=15)], reset=True, reference_clock=<ReferenceClock.INTERNAL: 'internal'>)), QbloxSPIRackRuncardInstrumentController(type=<InstrumentControllerType.QBLOX_SPI_RACK_CONTROLLER: 'qblox_spi_rack_controller'>, settings=QbloxSPIRackControllerSettings(alias='spi-rack', connection=ConnectionSettings(type=<ConnectionType.TCP_IP: 'tcp_ip'>, address='168.0.0.1'), modules=[InstrumentModule(alias='d5a', slot=2), InstrumentModule(alias='s4g', slot=10)], reset=True))], analog=AnalogCompilationSettings(flux_control_topology=[FluxToBus(flux='phix_q0', bus='flux_q0_x'), FluxToBus(flux='phiz_q0', bus='flux_q0_z')]), digital=DigitalCompilationSettings(minimum_clock_time=4, delay_before_readout=0, topology=[], gates={'DRAG(0)': [GateEventSettings(bus='drive_q0', pulse=GateEventSettings.GatePulseSettings(amplitude=1.0, phase=40.0, duration=100, shape={}, options={}), wait_time=0)]}, buses={'drive_q0': DigitalCompilationBusSettings(line=<Line.DRIVE: 'drive'>, qubits=[0], delay=0, distortions=[], weights_i=[], weights_q=[], weighed_acq_enabled=False)}))"
      ]
     },
     "execution_count": 41,
     "metadata": {},
     "output_type": "execute_result"
    }
   ],
   "source": [
    "loaded_runcard = Runcard.load_from(\"runcard.yml\")\n",
    "loaded_runcard"
   ]
  },
  {
   "cell_type": "code",
   "execution_count": 42,
   "metadata": {},
   "outputs": [
    {
     "data": {
      "text/plain": [
       "<qililab.platform.platform.Platform at 0x717a36dec700>"
      ]
     },
     "execution_count": 42,
     "metadata": {},
     "output_type": "execute_result"
    }
   ],
   "source": [
    "platform = Platform.load_from(runcard=loaded_runcard)\n",
    "platform"
   ]
  },
  {
   "cell_type": "code",
   "execution_count": null,
   "metadata": {},
   "outputs": [
    {
     "data": {
      "text/plain": [
       "1.0"
      ]
     },
     "execution_count": 59,
     "metadata": {},
     "output_type": "execute_result"
    }
   ],
   "source": [
    "qdac2_loaded = platform.get_instrument(\"qdac2\")\n",
    "qdac2_loaded.ch0.voltage(1.0)\n",
    "qdac2_loaded.ch0.voltage()"
   ]
  },
  {
   "cell_type": "code",
   "execution_count": 43,
   "metadata": {},
   "outputs": [
    {
     "data": {
      "text/plain": [
       "{'name': 'saruman',\n",
       " 'instruments': [{'alias': 'qcm',\n",
       "   'channels': [{'id': 0,\n",
       "     'outputs': [0],\n",
       "     'hardware_modulation': False,\n",
       "     'intermediate_frequency': None,\n",
       "     'gain_imbalance': 0.0,\n",
       "     'phase_imbalance': 0.0,\n",
       "     'gain_i': 1.0,\n",
       "     'gain_q': 0.0,\n",
       "     'offset_i': 0.0,\n",
       "     'offset_q': 0.0},\n",
       "    {'id': 1,\n",
       "     'outputs': [1],\n",
       "     'hardware_modulation': False,\n",
       "     'intermediate_frequency': None,\n",
       "     'gain_imbalance': 0.0,\n",
       "     'phase_imbalance': 0.0,\n",
       "     'gain_i': 1.0,\n",
       "     'gain_q': 0.0,\n",
       "     'offset_i': 0.0,\n",
       "     'offset_q': 0.0},\n",
       "    {'id': 2,\n",
       "     'outputs': [2],\n",
       "     'hardware_modulation': False,\n",
       "     'intermediate_frequency': None,\n",
       "     'gain_imbalance': 0.0,\n",
       "     'phase_imbalance': 0.0,\n",
       "     'gain_i': 1.0,\n",
       "     'gain_q': 0.0,\n",
       "     'offset_i': 0.0,\n",
       "     'offset_q': 0.0},\n",
       "    {'id': 3,\n",
       "     'outputs': [3],\n",
       "     'hardware_modulation': False,\n",
       "     'intermediate_frequency': None,\n",
       "     'gain_imbalance': 0.0,\n",
       "     'phase_imbalance': 0.0,\n",
       "     'gain_i': 1.0,\n",
       "     'gain_q': 0.0,\n",
       "     'offset_i': 0.0,\n",
       "     'offset_q': 0.0}],\n",
       "   'timeout': 1,\n",
       "   'outputs': [{'port': 0, 'offset': 0.0},\n",
       "    {'port': 1, 'offset': 0.0},\n",
       "    {'port': 2, 'offset': 0.0},\n",
       "    {'port': 3, 'offset': 0.0}]},\n",
       "  {'alias': 'qrm',\n",
       "   'channels': [{'id': 0,\n",
       "     'outputs': [0],\n",
       "     'hardware_modulation': True,\n",
       "     'intermediate_frequency': 500000000.0,\n",
       "     'gain_imbalance': 0.0,\n",
       "     'phase_imbalance': 0.0,\n",
       "     'gain_i': 1.0,\n",
       "     'gain_q': 1.0,\n",
       "     'offset_i': 0.0,\n",
       "     'offset_q': 0.0,\n",
       "     'inputs': [0],\n",
       "     'hardware_demodulation': True,\n",
       "     'integration_length': 1000,\n",
       "     'threshold': 0.0,\n",
       "     'threshold_rotation': 0.0,\n",
       "     'time_of_flight': 0},\n",
       "    {'id': 1,\n",
       "     'outputs': [0],\n",
       "     'hardware_modulation': True,\n",
       "     'intermediate_frequency': 500000000.0,\n",
       "     'gain_imbalance': 0.0,\n",
       "     'phase_imbalance': 0.0,\n",
       "     'gain_i': 1.0,\n",
       "     'gain_q': 1.0,\n",
       "     'offset_i': 0.0,\n",
       "     'offset_q': 0.0,\n",
       "     'inputs': [0],\n",
       "     'hardware_demodulation': True,\n",
       "     'integration_length': 1000,\n",
       "     'threshold': 0.0,\n",
       "     'threshold_rotation': 0.0,\n",
       "     'time_of_flight': 0},\n",
       "    {'id': 2,\n",
       "     'outputs': [0],\n",
       "     'hardware_modulation': True,\n",
       "     'intermediate_frequency': 500000000.0,\n",
       "     'gain_imbalance': 0.0,\n",
       "     'phase_imbalance': 0.0,\n",
       "     'gain_i': 1.0,\n",
       "     'gain_q': 1.0,\n",
       "     'offset_i': 0.0,\n",
       "     'offset_q': 0.0,\n",
       "     'inputs': [0],\n",
       "     'hardware_demodulation': True,\n",
       "     'integration_length': 1000,\n",
       "     'threshold': 0.0,\n",
       "     'threshold_rotation': 0.0,\n",
       "     'time_of_flight': 0},\n",
       "    {'id': 3,\n",
       "     'outputs': [0],\n",
       "     'hardware_modulation': True,\n",
       "     'intermediate_frequency': 500000000.0,\n",
       "     'gain_imbalance': 0.0,\n",
       "     'phase_imbalance': 0.0,\n",
       "     'gain_i': 1.0,\n",
       "     'gain_q': 1.0,\n",
       "     'offset_i': 0.0,\n",
       "     'offset_q': 0.0,\n",
       "     'inputs': [0],\n",
       "     'hardware_demodulation': True,\n",
       "     'integration_length': 1000,\n",
       "     'threshold': 0.0,\n",
       "     'threshold_rotation': 0.0,\n",
       "     'time_of_flight': 0},\n",
       "    {'id': 4,\n",
       "     'outputs': [0],\n",
       "     'hardware_modulation': True,\n",
       "     'intermediate_frequency': 500000000.0,\n",
       "     'gain_imbalance': 0.0,\n",
       "     'phase_imbalance': 0.0,\n",
       "     'gain_i': 1.0,\n",
       "     'gain_q': 1.0,\n",
       "     'offset_i': 0.0,\n",
       "     'offset_q': 0.0,\n",
       "     'inputs': [0],\n",
       "     'hardware_demodulation': True,\n",
       "     'integration_length': 1000,\n",
       "     'threshold': 0.0,\n",
       "     'threshold_rotation': 0.0,\n",
       "     'time_of_flight': 0},\n",
       "    {'id': 5,\n",
       "     'outputs': [0],\n",
       "     'hardware_modulation': True,\n",
       "     'intermediate_frequency': 500000000.0,\n",
       "     'gain_imbalance': 0.0,\n",
       "     'phase_imbalance': 0.0,\n",
       "     'gain_i': 1.0,\n",
       "     'gain_q': 1.0,\n",
       "     'offset_i': 0.0,\n",
       "     'offset_q': 0.0,\n",
       "     'inputs': [0],\n",
       "     'hardware_demodulation': True,\n",
       "     'integration_length': 1000,\n",
       "     'threshold': 0.0,\n",
       "     'threshold_rotation': 0.0,\n",
       "     'time_of_flight': 0}],\n",
       "   'timeout': 1,\n",
       "   'outputs': [{'port': 0, 'offset': 0.0}, {'port': 1, 'offset': 0.0}],\n",
       "   'inputs': [{'port': 0, 'gain': 0, 'offset': 0.0},\n",
       "    {'port': 1, 'gain': 0, 'offset': 0.0}],\n",
       "   'scope_hardware_averaging': True},\n",
       "  {'alias': 'qcm-rf',\n",
       "   'channels': [{'id': 0,\n",
       "     'outputs': [0],\n",
       "     'hardware_modulation': True,\n",
       "     'intermediate_frequency': 500000000.0,\n",
       "     'gain_imbalance': 0.0,\n",
       "     'phase_imbalance': 0.0,\n",
       "     'gain_i': 1.0,\n",
       "     'gain_q': 1.0,\n",
       "     'offset_i': 0.0,\n",
       "     'offset_q': 0.0},\n",
       "    {'id': 1,\n",
       "     'outputs': [0],\n",
       "     'hardware_modulation': True,\n",
       "     'intermediate_frequency': 500000000.0,\n",
       "     'gain_imbalance': 0.0,\n",
       "     'phase_imbalance': 0.0,\n",
       "     'gain_i': 1.0,\n",
       "     'gain_q': 1.0,\n",
       "     'offset_i': 0.0,\n",
       "     'offset_q': 0.0},\n",
       "    {'id': 2,\n",
       "     'outputs': [0],\n",
       "     'hardware_modulation': True,\n",
       "     'intermediate_frequency': 500000000.0,\n",
       "     'gain_imbalance': 0.0,\n",
       "     'phase_imbalance': 0.0,\n",
       "     'gain_i': 1.0,\n",
       "     'gain_q': 1.0,\n",
       "     'offset_i': 0.0,\n",
       "     'offset_q': 0.0},\n",
       "    {'id': 3,\n",
       "     'outputs': [0],\n",
       "     'hardware_modulation': True,\n",
       "     'intermediate_frequency': 500000000.0,\n",
       "     'gain_imbalance': 0.0,\n",
       "     'phase_imbalance': 0.0,\n",
       "     'gain_i': 1.0,\n",
       "     'gain_q': 1.0,\n",
       "     'offset_i': 0.0,\n",
       "     'offset_q': 0.0},\n",
       "    {'id': 4,\n",
       "     'outputs': [0],\n",
       "     'hardware_modulation': True,\n",
       "     'intermediate_frequency': 500000000.0,\n",
       "     'gain_imbalance': 0.0,\n",
       "     'phase_imbalance': 0.0,\n",
       "     'gain_i': 1.0,\n",
       "     'gain_q': 1.0,\n",
       "     'offset_i': 0.0,\n",
       "     'offset_q': 0.0},\n",
       "    {'id': 5,\n",
       "     'outputs': [0],\n",
       "     'hardware_modulation': True,\n",
       "     'intermediate_frequency': 500000000.0,\n",
       "     'gain_imbalance': 0.0,\n",
       "     'phase_imbalance': 0.0,\n",
       "     'gain_i': 1.0,\n",
       "     'gain_q': 1.0,\n",
       "     'offset_i': 0.0,\n",
       "     'offset_q': 0.0}],\n",
       "   'timeout': 1,\n",
       "   'outputs': [{'port': 0,\n",
       "     'lo_enabled': True,\n",
       "     'lo_frequency': 10000000000.0,\n",
       "     'attenuation': 0,\n",
       "     'offset_i': 0.0,\n",
       "     'offset_q': 0.0},\n",
       "    {'port': 1,\n",
       "     'lo_enabled': True,\n",
       "     'lo_frequency': 10000000000.0,\n",
       "     'attenuation': 0,\n",
       "     'offset_i': 0.0,\n",
       "     'offset_q': 0.0}]},\n",
       "  {'alias': 'qrm-rf',\n",
       "   'channels': [{'id': 0,\n",
       "     'outputs': [0],\n",
       "     'hardware_modulation': True,\n",
       "     'intermediate_frequency': 500000000.0,\n",
       "     'gain_imbalance': 0.0,\n",
       "     'phase_imbalance': 0.0,\n",
       "     'gain_i': 1.0,\n",
       "     'gain_q': 1.0,\n",
       "     'offset_i': 0.0,\n",
       "     'offset_q': 0.0,\n",
       "     'inputs': [0],\n",
       "     'hardware_demodulation': True,\n",
       "     'integration_length': 1000,\n",
       "     'threshold': 0.0,\n",
       "     'threshold_rotation': 0.0,\n",
       "     'time_of_flight': 0},\n",
       "    {'id': 1,\n",
       "     'outputs': [0],\n",
       "     'hardware_modulation': True,\n",
       "     'intermediate_frequency': 500000000.0,\n",
       "     'gain_imbalance': 0.0,\n",
       "     'phase_imbalance': 0.0,\n",
       "     'gain_i': 1.0,\n",
       "     'gain_q': 1.0,\n",
       "     'offset_i': 0.0,\n",
       "     'offset_q': 0.0,\n",
       "     'inputs': [0],\n",
       "     'hardware_demodulation': True,\n",
       "     'integration_length': 1000,\n",
       "     'threshold': 0.0,\n",
       "     'threshold_rotation': 0.0,\n",
       "     'time_of_flight': 0},\n",
       "    {'id': 2,\n",
       "     'outputs': [0],\n",
       "     'hardware_modulation': True,\n",
       "     'intermediate_frequency': 500000000.0,\n",
       "     'gain_imbalance': 0.0,\n",
       "     'phase_imbalance': 0.0,\n",
       "     'gain_i': 1.0,\n",
       "     'gain_q': 1.0,\n",
       "     'offset_i': 0.0,\n",
       "     'offset_q': 0.0,\n",
       "     'inputs': [0],\n",
       "     'hardware_demodulation': True,\n",
       "     'integration_length': 1000,\n",
       "     'threshold': 0.0,\n",
       "     'threshold_rotation': 0.0,\n",
       "     'time_of_flight': 0},\n",
       "    {'id': 3,\n",
       "     'outputs': [0],\n",
       "     'hardware_modulation': True,\n",
       "     'intermediate_frequency': 500000000.0,\n",
       "     'gain_imbalance': 0.0,\n",
       "     'phase_imbalance': 0.0,\n",
       "     'gain_i': 1.0,\n",
       "     'gain_q': 1.0,\n",
       "     'offset_i': 0.0,\n",
       "     'offset_q': 0.0,\n",
       "     'inputs': [0],\n",
       "     'hardware_demodulation': True,\n",
       "     'integration_length': 1000,\n",
       "     'threshold': 0.0,\n",
       "     'threshold_rotation': 0.0,\n",
       "     'time_of_flight': 0},\n",
       "    {'id': 4,\n",
       "     'outputs': [0],\n",
       "     'hardware_modulation': True,\n",
       "     'intermediate_frequency': 500000000.0,\n",
       "     'gain_imbalance': 0.0,\n",
       "     'phase_imbalance': 0.0,\n",
       "     'gain_i': 1.0,\n",
       "     'gain_q': 1.0,\n",
       "     'offset_i': 0.0,\n",
       "     'offset_q': 0.0,\n",
       "     'inputs': [0],\n",
       "     'hardware_demodulation': True,\n",
       "     'integration_length': 1000,\n",
       "     'threshold': 0.0,\n",
       "     'threshold_rotation': 0.0,\n",
       "     'time_of_flight': 0},\n",
       "    {'id': 5,\n",
       "     'outputs': [0],\n",
       "     'hardware_modulation': True,\n",
       "     'intermediate_frequency': 500000000.0,\n",
       "     'gain_imbalance': 0.0,\n",
       "     'phase_imbalance': 0.0,\n",
       "     'gain_i': 1.0,\n",
       "     'gain_q': 1.0,\n",
       "     'offset_i': 0.0,\n",
       "     'offset_q': 0.0,\n",
       "     'inputs': [0],\n",
       "     'hardware_demodulation': True,\n",
       "     'integration_length': 1000,\n",
       "     'threshold': 0.0,\n",
       "     'threshold_rotation': 0.0,\n",
       "     'time_of_flight': 0}],\n",
       "   'timeout': 1,\n",
       "   'outputs': [{'port': 0,\n",
       "     'lo_enabled': True,\n",
       "     'lo_frequency': 10000000000.0,\n",
       "     'attenuation': 0,\n",
       "     'offset_i': 0.0,\n",
       "     'offset_q': 0.0}],\n",
       "   'inputs': [{'port': 0, 'attenuation': 0, 'offset_i': 0.0, 'offset_q': 0.0}],\n",
       "   'scope_hardware_averaging': True},\n",
       "  {'alias': 'qdac2',\n",
       "   'channels': [{'id': 0,\n",
       "     'voltage': 0.0,\n",
       "     'span': <QDevilQDAC2Span.LOW: 'low'>,\n",
       "     'ramping_enabled': True,\n",
       "     'ramping_rate': 1.0,\n",
       "     'low_pass_filter': <QDevilQDAC2LowPassFilter.DC: 'dc'>},\n",
       "    {'id': 1,\n",
       "     'voltage': 0.0,\n",
       "     'span': <QDevilQDAC2Span.LOW: 'low'>,\n",
       "     'ramping_enabled': True,\n",
       "     'ramping_rate': 1.0,\n",
       "     'low_pass_filter': <QDevilQDAC2LowPassFilter.DC: 'dc'>},\n",
       "    {'id': 2,\n",
       "     'voltage': 0.0,\n",
       "     'span': <QDevilQDAC2Span.LOW: 'low'>,\n",
       "     'ramping_enabled': True,\n",
       "     'ramping_rate': 1.0,\n",
       "     'low_pass_filter': <QDevilQDAC2LowPassFilter.DC: 'dc'>},\n",
       "    {'id': 3,\n",
       "     'voltage': 0.0,\n",
       "     'span': <QDevilQDAC2Span.LOW: 'low'>,\n",
       "     'ramping_enabled': True,\n",
       "     'ramping_rate': 1.0,\n",
       "     'low_pass_filter': <QDevilQDAC2LowPassFilter.DC: 'dc'>},\n",
       "    {'id': 4,\n",
       "     'voltage': 0.0,\n",
       "     'span': <QDevilQDAC2Span.LOW: 'low'>,\n",
       "     'ramping_enabled': True,\n",
       "     'ramping_rate': 1.0,\n",
       "     'low_pass_filter': <QDevilQDAC2LowPassFilter.DC: 'dc'>},\n",
       "    {'id': 5,\n",
       "     'voltage': 0.0,\n",
       "     'span': <QDevilQDAC2Span.LOW: 'low'>,\n",
       "     'ramping_enabled': True,\n",
       "     'ramping_rate': 1.0,\n",
       "     'low_pass_filter': <QDevilQDAC2LowPassFilter.DC: 'dc'>},\n",
       "    {'id': 6,\n",
       "     'voltage': 0.0,\n",
       "     'span': <QDevilQDAC2Span.LOW: 'low'>,\n",
       "     'ramping_enabled': True,\n",
       "     'ramping_rate': 1.0,\n",
       "     'low_pass_filter': <QDevilQDAC2LowPassFilter.DC: 'dc'>},\n",
       "    {'id': 7,\n",
       "     'voltage': 0.0,\n",
       "     'span': <QDevilQDAC2Span.LOW: 'low'>,\n",
       "     'ramping_enabled': True,\n",
       "     'ramping_rate': 1.0,\n",
       "     'low_pass_filter': <QDevilQDAC2LowPassFilter.DC: 'dc'>},\n",
       "    {'id': 8,\n",
       "     'voltage': 0.0,\n",
       "     'span': <QDevilQDAC2Span.LOW: 'low'>,\n",
       "     'ramping_enabled': True,\n",
       "     'ramping_rate': 1.0,\n",
       "     'low_pass_filter': <QDevilQDAC2LowPassFilter.DC: 'dc'>},\n",
       "    {'id': 9,\n",
       "     'voltage': 0.0,\n",
       "     'span': <QDevilQDAC2Span.LOW: 'low'>,\n",
       "     'ramping_enabled': True,\n",
       "     'ramping_rate': 1.0,\n",
       "     'low_pass_filter': <QDevilQDAC2LowPassFilter.DC: 'dc'>},\n",
       "    {'id': 10,\n",
       "     'voltage': 0.0,\n",
       "     'span': <QDevilQDAC2Span.LOW: 'low'>,\n",
       "     'ramping_enabled': True,\n",
       "     'ramping_rate': 1.0,\n",
       "     'low_pass_filter': <QDevilQDAC2LowPassFilter.DC: 'dc'>},\n",
       "    {'id': 11,\n",
       "     'voltage': 0.0,\n",
       "     'span': <QDevilQDAC2Span.LOW: 'low'>,\n",
       "     'ramping_enabled': True,\n",
       "     'ramping_rate': 1.0,\n",
       "     'low_pass_filter': <QDevilQDAC2LowPassFilter.DC: 'dc'>},\n",
       "    {'id': 12,\n",
       "     'voltage': 0.0,\n",
       "     'span': <QDevilQDAC2Span.LOW: 'low'>,\n",
       "     'ramping_enabled': True,\n",
       "     'ramping_rate': 1.0,\n",
       "     'low_pass_filter': <QDevilQDAC2LowPassFilter.DC: 'dc'>},\n",
       "    {'id': 13,\n",
       "     'voltage': 0.0,\n",
       "     'span': <QDevilQDAC2Span.LOW: 'low'>,\n",
       "     'ramping_enabled': True,\n",
       "     'ramping_rate': 1.0,\n",
       "     'low_pass_filter': <QDevilQDAC2LowPassFilter.DC: 'dc'>},\n",
       "    {'id': 14,\n",
       "     'voltage': 0.0,\n",
       "     'span': <QDevilQDAC2Span.LOW: 'low'>,\n",
       "     'ramping_enabled': True,\n",
       "     'ramping_rate': 1.0,\n",
       "     'low_pass_filter': <QDevilQDAC2LowPassFilter.DC: 'dc'>},\n",
       "    {'id': 15,\n",
       "     'voltage': 1.0,\n",
       "     'span': <QDevilQDAC2Span.LOW: 'low'>,\n",
       "     'ramping_enabled': True,\n",
       "     'ramping_rate': 1.0,\n",
       "     'low_pass_filter': <QDevilQDAC2LowPassFilter.DC: 'dc'>},\n",
       "    {'id': 16,\n",
       "     'voltage': 0.0,\n",
       "     'span': <QDevilQDAC2Span.LOW: 'low'>,\n",
       "     'ramping_enabled': True,\n",
       "     'ramping_rate': 1.0,\n",
       "     'low_pass_filter': <QDevilQDAC2LowPassFilter.DC: 'dc'>},\n",
       "    {'id': 17,\n",
       "     'voltage': 0.0,\n",
       "     'span': <QDevilQDAC2Span.LOW: 'low'>,\n",
       "     'ramping_enabled': True,\n",
       "     'ramping_rate': 1.0,\n",
       "     'low_pass_filter': <QDevilQDAC2LowPassFilter.DC: 'dc'>},\n",
       "    {'id': 18,\n",
       "     'voltage': 0.0,\n",
       "     'span': <QDevilQDAC2Span.LOW: 'low'>,\n",
       "     'ramping_enabled': True,\n",
       "     'ramping_rate': 1.0,\n",
       "     'low_pass_filter': <QDevilQDAC2LowPassFilter.DC: 'dc'>},\n",
       "    {'id': 19,\n",
       "     'voltage': 0.0,\n",
       "     'span': <QDevilQDAC2Span.LOW: 'low'>,\n",
       "     'ramping_enabled': True,\n",
       "     'ramping_rate': 1.0,\n",
       "     'low_pass_filter': <QDevilQDAC2LowPassFilter.DC: 'dc'>},\n",
       "    {'id': 20,\n",
       "     'voltage': 0.0,\n",
       "     'span': <QDevilQDAC2Span.LOW: 'low'>,\n",
       "     'ramping_enabled': True,\n",
       "     'ramping_rate': 1.0,\n",
       "     'low_pass_filter': <QDevilQDAC2LowPassFilter.DC: 'dc'>},\n",
       "    {'id': 21,\n",
       "     'voltage': 0.0,\n",
       "     'span': <QDevilQDAC2Span.LOW: 'low'>,\n",
       "     'ramping_enabled': True,\n",
       "     'ramping_rate': 1.0,\n",
       "     'low_pass_filter': <QDevilQDAC2LowPassFilter.DC: 'dc'>},\n",
       "    {'id': 22,\n",
       "     'voltage': 0.0,\n",
       "     'span': <QDevilQDAC2Span.LOW: 'low'>,\n",
       "     'ramping_enabled': True,\n",
       "     'ramping_rate': 1.0,\n",
       "     'low_pass_filter': <QDevilQDAC2LowPassFilter.DC: 'dc'>},\n",
       "    {'id': 23,\n",
       "     'voltage': 0.0,\n",
       "     'span': <QDevilQDAC2Span.LOW: 'low'>,\n",
       "     'ramping_enabled': True,\n",
       "     'ramping_rate': 1.0,\n",
       "     'low_pass_filter': <QDevilQDAC2LowPassFilter.DC: 'dc'>}]},\n",
       "  {'alias': 'second_qdac2',\n",
       "   'channels': [{'id': 0,\n",
       "     'voltage': 0.0,\n",
       "     'span': <QDevilQDAC2Span.LOW: 'low'>,\n",
       "     'ramping_enabled': True,\n",
       "     'ramping_rate': 1.0,\n",
       "     'low_pass_filter': <QDevilQDAC2LowPassFilter.DC: 'dc'>},\n",
       "    {'id': 1,\n",
       "     'voltage': 0.0,\n",
       "     'span': <QDevilQDAC2Span.LOW: 'low'>,\n",
       "     'ramping_enabled': True,\n",
       "     'ramping_rate': 1.0,\n",
       "     'low_pass_filter': <QDevilQDAC2LowPassFilter.DC: 'dc'>},\n",
       "    {'id': 2,\n",
       "     'voltage': 0.0,\n",
       "     'span': <QDevilQDAC2Span.LOW: 'low'>,\n",
       "     'ramping_enabled': True,\n",
       "     'ramping_rate': 1.0,\n",
       "     'low_pass_filter': <QDevilQDAC2LowPassFilter.DC: 'dc'>},\n",
       "    {'id': 3,\n",
       "     'voltage': 0.0,\n",
       "     'span': <QDevilQDAC2Span.LOW: 'low'>,\n",
       "     'ramping_enabled': True,\n",
       "     'ramping_rate': 1.0,\n",
       "     'low_pass_filter': <QDevilQDAC2LowPassFilter.DC: 'dc'>},\n",
       "    {'id': 4,\n",
       "     'voltage': 0.0,\n",
       "     'span': <QDevilQDAC2Span.LOW: 'low'>,\n",
       "     'ramping_enabled': True,\n",
       "     'ramping_rate': 1.0,\n",
       "     'low_pass_filter': <QDevilQDAC2LowPassFilter.DC: 'dc'>},\n",
       "    {'id': 5,\n",
       "     'voltage': 0.0,\n",
       "     'span': <QDevilQDAC2Span.LOW: 'low'>,\n",
       "     'ramping_enabled': True,\n",
       "     'ramping_rate': 1.0,\n",
       "     'low_pass_filter': <QDevilQDAC2LowPassFilter.DC: 'dc'>},\n",
       "    {'id': 6,\n",
       "     'voltage': 0.0,\n",
       "     'span': <QDevilQDAC2Span.LOW: 'low'>,\n",
       "     'ramping_enabled': True,\n",
       "     'ramping_rate': 1.0,\n",
       "     'low_pass_filter': <QDevilQDAC2LowPassFilter.DC: 'dc'>},\n",
       "    {'id': 7,\n",
       "     'voltage': 0.0,\n",
       "     'span': <QDevilQDAC2Span.LOW: 'low'>,\n",
       "     'ramping_enabled': True,\n",
       "     'ramping_rate': 1.0,\n",
       "     'low_pass_filter': <QDevilQDAC2LowPassFilter.DC: 'dc'>},\n",
       "    {'id': 8,\n",
       "     'voltage': 0.0,\n",
       "     'span': <QDevilQDAC2Span.LOW: 'low'>,\n",
       "     'ramping_enabled': True,\n",
       "     'ramping_rate': 1.0,\n",
       "     'low_pass_filter': <QDevilQDAC2LowPassFilter.DC: 'dc'>},\n",
       "    {'id': 9,\n",
       "     'voltage': 0.0,\n",
       "     'span': <QDevilQDAC2Span.LOW: 'low'>,\n",
       "     'ramping_enabled': True,\n",
       "     'ramping_rate': 1.0,\n",
       "     'low_pass_filter': <QDevilQDAC2LowPassFilter.DC: 'dc'>},\n",
       "    {'id': 10,\n",
       "     'voltage': 0.0,\n",
       "     'span': <QDevilQDAC2Span.LOW: 'low'>,\n",
       "     'ramping_enabled': True,\n",
       "     'ramping_rate': 1.0,\n",
       "     'low_pass_filter': <QDevilQDAC2LowPassFilter.DC: 'dc'>},\n",
       "    {'id': 11,\n",
       "     'voltage': 0.0,\n",
       "     'span': <QDevilQDAC2Span.LOW: 'low'>,\n",
       "     'ramping_enabled': True,\n",
       "     'ramping_rate': 1.0,\n",
       "     'low_pass_filter': <QDevilQDAC2LowPassFilter.DC: 'dc'>},\n",
       "    {'id': 12,\n",
       "     'voltage': 0.0,\n",
       "     'span': <QDevilQDAC2Span.LOW: 'low'>,\n",
       "     'ramping_enabled': True,\n",
       "     'ramping_rate': 1.0,\n",
       "     'low_pass_filter': <QDevilQDAC2LowPassFilter.DC: 'dc'>},\n",
       "    {'id': 13,\n",
       "     'voltage': 0.0,\n",
       "     'span': <QDevilQDAC2Span.LOW: 'low'>,\n",
       "     'ramping_enabled': True,\n",
       "     'ramping_rate': 1.0,\n",
       "     'low_pass_filter': <QDevilQDAC2LowPassFilter.DC: 'dc'>},\n",
       "    {'id': 14,\n",
       "     'voltage': 0.0,\n",
       "     'span': <QDevilQDAC2Span.LOW: 'low'>,\n",
       "     'ramping_enabled': True,\n",
       "     'ramping_rate': 1.0,\n",
       "     'low_pass_filter': <QDevilQDAC2LowPassFilter.DC: 'dc'>},\n",
       "    {'id': 15,\n",
       "     'voltage': 0.0,\n",
       "     'span': <QDevilQDAC2Span.LOW: 'low'>,\n",
       "     'ramping_enabled': True,\n",
       "     'ramping_rate': 1.0,\n",
       "     'low_pass_filter': <QDevilQDAC2LowPassFilter.DC: 'dc'>},\n",
       "    {'id': 16,\n",
       "     'voltage': 0.0,\n",
       "     'span': <QDevilQDAC2Span.LOW: 'low'>,\n",
       "     'ramping_enabled': True,\n",
       "     'ramping_rate': 1.0,\n",
       "     'low_pass_filter': <QDevilQDAC2LowPassFilter.DC: 'dc'>},\n",
       "    {'id': 17,\n",
       "     'voltage': 0.0,\n",
       "     'span': <QDevilQDAC2Span.LOW: 'low'>,\n",
       "     'ramping_enabled': True,\n",
       "     'ramping_rate': 1.0,\n",
       "     'low_pass_filter': <QDevilQDAC2LowPassFilter.DC: 'dc'>},\n",
       "    {'id': 18,\n",
       "     'voltage': 0.0,\n",
       "     'span': <QDevilQDAC2Span.LOW: 'low'>,\n",
       "     'ramping_enabled': True,\n",
       "     'ramping_rate': 1.0,\n",
       "     'low_pass_filter': <QDevilQDAC2LowPassFilter.DC: 'dc'>},\n",
       "    {'id': 19,\n",
       "     'voltage': 0.0,\n",
       "     'span': <QDevilQDAC2Span.LOW: 'low'>,\n",
       "     'ramping_enabled': True,\n",
       "     'ramping_rate': 1.0,\n",
       "     'low_pass_filter': <QDevilQDAC2LowPassFilter.DC: 'dc'>},\n",
       "    {'id': 20,\n",
       "     'voltage': 0.0,\n",
       "     'span': <QDevilQDAC2Span.LOW: 'low'>,\n",
       "     'ramping_enabled': True,\n",
       "     'ramping_rate': 1.0,\n",
       "     'low_pass_filter': <QDevilQDAC2LowPassFilter.DC: 'dc'>},\n",
       "    {'id': 21,\n",
       "     'voltage': 0.0,\n",
       "     'span': <QDevilQDAC2Span.LOW: 'low'>,\n",
       "     'ramping_enabled': True,\n",
       "     'ramping_rate': 1.0,\n",
       "     'low_pass_filter': <QDevilQDAC2LowPassFilter.DC: 'dc'>},\n",
       "    {'id': 22,\n",
       "     'voltage': 0.0,\n",
       "     'span': <QDevilQDAC2Span.LOW: 'low'>,\n",
       "     'ramping_enabled': True,\n",
       "     'ramping_rate': 1.0,\n",
       "     'low_pass_filter': <QDevilQDAC2LowPassFilter.DC: 'dc'>},\n",
       "    {'id': 23,\n",
       "     'voltage': 0.0,\n",
       "     'span': <QDevilQDAC2Span.LOW: 'low'>,\n",
       "     'ramping_enabled': True,\n",
       "     'ramping_rate': 1.0,\n",
       "     'low_pass_filter': <QDevilQDAC2LowPassFilter.DC: 'dc'>}]},\n",
       "  {'alias': 'sg100', 'power': 0.0, 'frequency': 1000000000.0, 'rf_on': False},\n",
       "  {'alias': 's4g', 'channels': [{'id': 0}, {'id': 1}, {'id': 2}, {'id': 3}]},\n",
       "  {'alias': 'd5a',\n",
       "   'channels': [{'id': 0,\n",
       "     'voltage': 1.0,\n",
       "     'span': <QbloxD5ASpan.BI_2V: 'bi_2V'>,\n",
       "     'ramping_enabled': True,\n",
       "     'ramping_rate': 0.1},\n",
       "    {'id': 1,\n",
       "     'voltage': 0.0,\n",
       "     'span': <QbloxD5ASpan.BI_2V: 'bi_2V'>,\n",
       "     'ramping_enabled': True,\n",
       "     'ramping_rate': 0.1},\n",
       "    {'id': 2,\n",
       "     'voltage': 0.0,\n",
       "     'span': <QbloxD5ASpan.BI_2V: 'bi_2V'>,\n",
       "     'ramping_enabled': True,\n",
       "     'ramping_rate': 0.1},\n",
       "    {'id': 3,\n",
       "     'voltage': 0.0,\n",
       "     'span': <QbloxD5ASpan.BI_2V: 'bi_2V'>,\n",
       "     'ramping_enabled': True,\n",
       "     'ramping_rate': 0.1},\n",
       "    {'id': 4,\n",
       "     'voltage': 0.0,\n",
       "     'span': <QbloxD5ASpan.BI_2V: 'bi_2V'>,\n",
       "     'ramping_enabled': True,\n",
       "     'ramping_rate': 0.1},\n",
       "    {'id': 5,\n",
       "     'voltage': 0.0,\n",
       "     'span': <QbloxD5ASpan.BI_2V: 'bi_2V'>,\n",
       "     'ramping_enabled': True,\n",
       "     'ramping_rate': 0.1},\n",
       "    {'id': 6,\n",
       "     'voltage': 0.0,\n",
       "     'span': <QbloxD5ASpan.BI_2V: 'bi_2V'>,\n",
       "     'ramping_enabled': True,\n",
       "     'ramping_rate': 0.1},\n",
       "    {'id': 7,\n",
       "     'voltage': 0.0,\n",
       "     'span': <QbloxD5ASpan.BI_2V: 'bi_2V'>,\n",
       "     'ramping_enabled': True,\n",
       "     'ramping_rate': 0.1},\n",
       "    {'id': 8,\n",
       "     'voltage': 0.0,\n",
       "     'span': <QbloxD5ASpan.BI_2V: 'bi_2V'>,\n",
       "     'ramping_enabled': True,\n",
       "     'ramping_rate': 0.1},\n",
       "    {'id': 9,\n",
       "     'voltage': 0.0,\n",
       "     'span': <QbloxD5ASpan.BI_2V: 'bi_2V'>,\n",
       "     'ramping_enabled': True,\n",
       "     'ramping_rate': 0.1},\n",
       "    {'id': 10,\n",
       "     'voltage': 0.0,\n",
       "     'span': <QbloxD5ASpan.BI_2V: 'bi_2V'>,\n",
       "     'ramping_enabled': True,\n",
       "     'ramping_rate': 0.1},\n",
       "    {'id': 11,\n",
       "     'voltage': 0.0,\n",
       "     'span': <QbloxD5ASpan.BI_2V: 'bi_2V'>,\n",
       "     'ramping_enabled': True,\n",
       "     'ramping_rate': 0.1},\n",
       "    {'id': 12,\n",
       "     'voltage': 0.0,\n",
       "     'span': <QbloxD5ASpan.BI_2V: 'bi_2V'>,\n",
       "     'ramping_enabled': True,\n",
       "     'ramping_rate': 0.1},\n",
       "    {'id': 13,\n",
       "     'voltage': 0.0,\n",
       "     'span': <QbloxD5ASpan.BI_2V: 'bi_2V'>,\n",
       "     'ramping_enabled': True,\n",
       "     'ramping_rate': 0.1},\n",
       "    {'id': 14,\n",
       "     'voltage': 0.0,\n",
       "     'span': <QbloxD5ASpan.BI_2V: 'bi_2V'>,\n",
       "     'ramping_enabled': True,\n",
       "     'ramping_rate': 0.1},\n",
       "    {'id': 15,\n",
       "     'voltage': 0.0,\n",
       "     'span': <QbloxD5ASpan.BI_2V: 'bi_2V'>,\n",
       "     'ramping_enabled': True,\n",
       "     'ramping_rate': 0.1}]}],\n",
       " 'instrument_controllers': [{'alias': 'qdac2_controller',\n",
       "   'connection': {'type': <ConnectionType.TCP_IP: 'tcp_ip'>,\n",
       "    'address': '168.0.0.1'},\n",
       "   'modules': [{'alias': 'qdac2', 'slot': 0}],\n",
       "   'reset': True},\n",
       "  {'alias': 'qblox_cluster',\n",
       "   'connection': {'type': <ConnectionType.TCP_IP: 'tcp_ip'>,\n",
       "    'address': '168.0.0.1'},\n",
       "   'modules': [{'alias': 'qcm', 'slot': 0},\n",
       "    {'alias': 'qrm', 'slot': 5},\n",
       "    {'alias': 'qcm-rf', 'slot': 10},\n",
       "    {'alias': 'qrm-rf', 'slot': 15}],\n",
       "   'reset': True,\n",
       "   'reference_clock': <ReferenceClock.INTERNAL: 'internal'>},\n",
       "  {'alias': 'spi-rack',\n",
       "   'connection': {'type': <ConnectionType.TCP_IP: 'tcp_ip'>,\n",
       "    'address': '168.0.0.1'},\n",
       "   'modules': [{'alias': 'd5a', 'slot': 2}, {'alias': 's4g', 'slot': 10}],\n",
       "   'reset': True}],\n",
       " 'buses': [{'alias': 'dc_flux_0', 'instruments': ['d5a'], 'channels': [0]}],\n",
       " 'digital': {'minimum_clock_time': 4,\n",
       "  'delay_before_readout': 0,\n",
       "  'topology': [],\n",
       "  'gates': {'DRAG(0)': [{'bus': 'drive_q0',\n",
       "     'pulse': {'amplitude': 1.0,\n",
       "      'phase': 40.0,\n",
       "      'duration': 100,\n",
       "      'shape': {},\n",
       "      'options': {}},\n",
       "     'wait_time': 0}]},\n",
       "  'buses': {'drive_q0': {'line': <Line.DRIVE: 'drive'>,\n",
       "    'qubits': [0],\n",
       "    'delay': 0,\n",
       "    'distortions': [],\n",
       "    'weights_i': [],\n",
       "    'weights_q': [],\n",
       "    'weighed_acq_enabled': False}}},\n",
       " 'analog': {'flux_control_topology': [{'flux': 'phix_q0', 'bus': 'flux_q0_x'},\n",
       "   {'flux': 'phiz_q0', 'bus': 'flux_q0_z'}]}}"
      ]
     },
     "execution_count": 43,
     "metadata": {},
     "output_type": "execute_result"
    }
   ],
   "source": [
    "platform.to_dict()"
   ]
  },
  {
   "cell_type": "code",
   "execution_count": 44,
   "metadata": {},
   "outputs": [
    {
     "ename": "AttributeError",
     "evalue": "'QbloxQCM' object has no attribute 'get_parameters'",
     "output_type": "error",
     "traceback": [
      "\u001b[0;31m---------------------------------------------------------------------------\u001b[0m",
      "\u001b[0;31mAttributeError\u001b[0m                            Traceback (most recent call last)",
      "Cell \u001b[0;32mIn[44], line 1\u001b[0m\n\u001b[0;32m----> 1\u001b[0m \u001b[38;5;28mprint\u001b[39m(\u001b[43mqcm\u001b[49m\u001b[38;5;241;43m.\u001b[39;49m\u001b[43mget_parameters\u001b[49m())\n",
      "\u001b[0;31mAttributeError\u001b[0m: 'QbloxQCM' object has no attribute 'get_parameters'"
     ]
    }
   ],
   "source": [
    "print(qcm.get_parameters())"
   ]
  },
  {
   "cell_type": "code",
   "execution_count": null,
   "metadata": {},
   "outputs": [
    {
     "data": {
      "text/plain": [
       "QbloxQCM(settings=alias='qcm' timeout=1 outputs=[QbloxLFOutputSettings(port=0, offset=0.5), QbloxLFOutputSettings(port=1, offset=0.0), QbloxLFOutputSettings(port=2, offset=0.0), QbloxLFOutputSettings(port=3, offset=0.0)] sequencers=[QbloxSequencerSettings(id=0, outputs=[0], hardware_modulation=True, intermediate_frequency=500000000.0, gain_imbalance=0.0, phase_imbalance=0.0, gain_i=1.0, gain_q=1.0, offset_i=0.0, offset_q=0.0), QbloxSequencerSettings(id=1, outputs=[0], hardware_modulation=True, intermediate_frequency=500000000.0, gain_imbalance=0.0, phase_imbalance=0.0, gain_i=1.0, gain_q=1.0, offset_i=0.0, offset_q=0.0), QbloxSequencerSettings(id=2, outputs=[0], hardware_modulation=True, intermediate_frequency=500000000.0, gain_imbalance=0.0, phase_imbalance=0.0, gain_i=0.5, gain_q=1.0, offset_i=0.0, offset_q=0.0), QbloxSequencerSettings(id=3, outputs=[0], hardware_modulation=True, intermediate_frequency=500000000.0, gain_imbalance=0.0, phase_imbalance=0.0, gain_i=1.0, gain_q=1.0, offset_i=0.0, offset_q=0.0), QbloxSequencerSettings(id=4, outputs=[0], hardware_modulation=True, intermediate_frequency=500000000.0, gain_imbalance=0.0, phase_imbalance=0.0, gain_i=1.0, gain_q=1.0, offset_i=0.0, offset_q=0.0), QbloxSequencerSettings(id=5, outputs=[0], hardware_modulation=True, intermediate_frequency=500000000.0, gain_imbalance=0.0, phase_imbalance=0.0, gain_i=1.0, gain_q=1.0, offset_i=0.0, offset_q=0.0)])"
      ]
     },
     "execution_count": 29,
     "metadata": {},
     "output_type": "execute_result"
    }
   ],
   "source": [
    "qcm.set_parameter(parameter=Parameter.OFFSET, value=0.5, output=0)\n",
    "qcm.set_parameter(parameter=Parameter.GAIN_I, value=0.5, channel=2)\n",
    "# qcm.set_parameter(Parameter.GAIN_I, 0.5, 0)\n",
    "qcm"
   ]
  },
  {
   "cell_type": "code",
   "execution_count": null,
   "metadata": {},
   "outputs": [],
   "source": [
    "wrong_controller = QDevilQDAC2Controller(\n",
    "    settings=QDevilQDAC2ControllerSettings(alias=\"wrong_controller\", modules=[{\"alias\": \"non_existant\", \"slot\": 0}])\n",
    ")"
   ]
  },
  {
   "cell_type": "code",
   "execution_count": null,
   "metadata": {},
   "outputs": [
    {
     "data": {
      "text/plain": [
       "Runcard(name='saruman', buses=[RuncardBus(alias='dc_flux_0', instruments=['d5a'], channels=[0])], instruments=[QbloxQCMRuncardInstrument(type=<InstrumentType.QBLOX_QCM: 'qcm'>, settings=QbloxQCMSettings(alias='qcm', timeout=1, outputs=[QbloxLFOutputSettings(port=0, offset=0.0), QbloxLFOutputSettings(port=1, offset=0.0), QbloxLFOutputSettings(port=2, offset=0.0), QbloxLFOutputSettings(port=3, offset=0.0)], sequencers=[QbloxSequencerSettings(id=0, outputs=[0], hardware_modulation=True, intermediate_frequency=500000000.0, gain_imbalance=0.0, phase_imbalance=0.0, gain_i=1.0, gain_q=1.0, offset_i=0.0, offset_q=0.0), QbloxSequencerSettings(id=1, outputs=[0], hardware_modulation=True, intermediate_frequency=500000000.0, gain_imbalance=0.0, phase_imbalance=0.0, gain_i=1.0, gain_q=1.0, offset_i=0.0, offset_q=0.0), QbloxSequencerSettings(id=2, outputs=[0], hardware_modulation=True, intermediate_frequency=500000000.0, gain_imbalance=0.0, phase_imbalance=0.0, gain_i=1.0, gain_q=1.0, offset_i=0.0, offset_q=0.0), QbloxSequencerSettings(id=3, outputs=[0], hardware_modulation=True, intermediate_frequency=500000000.0, gain_imbalance=0.0, phase_imbalance=0.0, gain_i=1.0, gain_q=1.0, offset_i=0.0, offset_q=0.0), QbloxSequencerSettings(id=4, outputs=[0], hardware_modulation=True, intermediate_frequency=500000000.0, gain_imbalance=0.0, phase_imbalance=0.0, gain_i=1.0, gain_q=1.0, offset_i=0.0, offset_q=0.0), QbloxSequencerSettings(id=5, outputs=[0], hardware_modulation=True, intermediate_frequency=500000000.0, gain_imbalance=0.0, phase_imbalance=0.0, gain_i=1.0, gain_q=1.0, offset_i=0.0, offset_q=0.0)])), QbloxQRMRuncardInstrument(type=<InstrumentType.QBLOX_QRM: 'qrm'>, settings=QbloxQRMSettings(alias='qrm', timeout=1, outputs=[QbloxLFOutputSettings(port=0, offset=0.0), QbloxLFOutputSettings(port=1, offset=0.0)], sequencers=[QbloxADCSequencerSettings(id=0, outputs=[0], hardware_modulation=True, intermediate_frequency=500000000.0, gain_imbalance=0.0, phase_imbalance=0.0, gain_i=1.0, gain_q=1.0, offset_i=0.0, offset_q=0.0, inputs=[0], hardware_demodulation=True, integration_length=1000, threshold=0.0, threshold_rotation=0.0, time_of_flight=0), QbloxADCSequencerSettings(id=1, outputs=[0], hardware_modulation=True, intermediate_frequency=500000000.0, gain_imbalance=0.0, phase_imbalance=0.0, gain_i=1.0, gain_q=1.0, offset_i=0.0, offset_q=0.0, inputs=[0], hardware_demodulation=True, integration_length=1000, threshold=0.0, threshold_rotation=0.0, time_of_flight=0), QbloxADCSequencerSettings(id=2, outputs=[0], hardware_modulation=True, intermediate_frequency=500000000.0, gain_imbalance=0.0, phase_imbalance=0.0, gain_i=1.0, gain_q=1.0, offset_i=0.0, offset_q=0.0, inputs=[0], hardware_demodulation=True, integration_length=1000, threshold=0.0, threshold_rotation=0.0, time_of_flight=0), QbloxADCSequencerSettings(id=3, outputs=[0], hardware_modulation=True, intermediate_frequency=500000000.0, gain_imbalance=0.0, phase_imbalance=0.0, gain_i=1.0, gain_q=1.0, offset_i=0.0, offset_q=0.0, inputs=[0], hardware_demodulation=True, integration_length=1000, threshold=0.0, threshold_rotation=0.0, time_of_flight=0), QbloxADCSequencerSettings(id=4, outputs=[0], hardware_modulation=True, intermediate_frequency=500000000.0, gain_imbalance=0.0, phase_imbalance=0.0, gain_i=1.0, gain_q=1.0, offset_i=0.0, offset_q=0.0, inputs=[0], hardware_demodulation=True, integration_length=1000, threshold=0.0, threshold_rotation=0.0, time_of_flight=0), QbloxADCSequencerSettings(id=5, outputs=[0], hardware_modulation=True, intermediate_frequency=500000000.0, gain_imbalance=0.0, phase_imbalance=0.0, gain_i=1.0, gain_q=1.0, offset_i=0.0, offset_q=0.0, inputs=[0], hardware_demodulation=True, integration_length=1000, threshold=0.0, threshold_rotation=0.0, time_of_flight=0)], inputs=[QbloxLFInputSettings(port=0, gain=0, offset=0.0), QbloxLFInputSettings(port=1, gain=0, offset=0.0)], scope_hardware_averaging=True)), QbloxQCMRFRuncardInstrument(type=<InstrumentType.QBLOX_QCM_RF: 'qcm-rf'>, settings=QbloxQCMRFSettings(alias='qcm-rf', timeout=1, outputs=[QbloxRFOutputSettings(port=0, lo_enabled=True, lo_frequency=10000000000.0, attenuation=0.0, offset_i=0.0, offset_q=0.0), QbloxRFOutputSettings(port=1, lo_enabled=True, lo_frequency=10000000000.0, attenuation=0.0, offset_i=0.0, offset_q=0.0)], sequencers=[QbloxSequencerSettings(id=0, outputs=[0], hardware_modulation=True, intermediate_frequency=500000000.0, gain_imbalance=0.0, phase_imbalance=0.0, gain_i=1.0, gain_q=1.0, offset_i=0.0, offset_q=0.0), QbloxSequencerSettings(id=1, outputs=[0], hardware_modulation=True, intermediate_frequency=500000000.0, gain_imbalance=0.0, phase_imbalance=0.0, gain_i=1.0, gain_q=1.0, offset_i=0.0, offset_q=0.0), QbloxSequencerSettings(id=2, outputs=[0], hardware_modulation=True, intermediate_frequency=500000000.0, gain_imbalance=0.0, phase_imbalance=0.0, gain_i=1.0, gain_q=1.0, offset_i=0.0, offset_q=0.0), QbloxSequencerSettings(id=3, outputs=[0], hardware_modulation=True, intermediate_frequency=500000000.0, gain_imbalance=0.0, phase_imbalance=0.0, gain_i=1.0, gain_q=1.0, offset_i=0.0, offset_q=0.0), QbloxSequencerSettings(id=4, outputs=[0], hardware_modulation=True, intermediate_frequency=500000000.0, gain_imbalance=0.0, phase_imbalance=0.0, gain_i=1.0, gain_q=1.0, offset_i=0.0, offset_q=0.0), QbloxSequencerSettings(id=5, outputs=[0], hardware_modulation=True, intermediate_frequency=500000000.0, gain_imbalance=0.0, phase_imbalance=0.0, gain_i=1.0, gain_q=1.0, offset_i=0.0, offset_q=0.0)])), QbloxQRMRFRuncardInstrument(type=<InstrumentType.QBLOX_QRM_RF: 'qrm-rf'>, settings=QbloxQRMRFSettings(alias='qrm-rf', timeout=1, outputs=[QbloxRFOutputSettings(port=0, lo_enabled=True, lo_frequency=10000000000.0, attenuation=0.0, offset_i=0.0, offset_q=0.0)], sequencers=[QbloxADCSequencerSettings(id=0, outputs=[0], hardware_modulation=True, intermediate_frequency=500000000.0, gain_imbalance=0.0, phase_imbalance=0.0, gain_i=1.0, gain_q=1.0, offset_i=0.0, offset_q=0.0, inputs=[0], hardware_demodulation=True, integration_length=1000, threshold=0.0, threshold_rotation=0.0, time_of_flight=0), QbloxADCSequencerSettings(id=1, outputs=[0], hardware_modulation=True, intermediate_frequency=500000000.0, gain_imbalance=0.0, phase_imbalance=0.0, gain_i=1.0, gain_q=1.0, offset_i=0.0, offset_q=0.0, inputs=[0], hardware_demodulation=True, integration_length=1000, threshold=0.0, threshold_rotation=0.0, time_of_flight=0), QbloxADCSequencerSettings(id=2, outputs=[0], hardware_modulation=True, intermediate_frequency=500000000.0, gain_imbalance=0.0, phase_imbalance=0.0, gain_i=1.0, gain_q=1.0, offset_i=0.0, offset_q=0.0, inputs=[0], hardware_demodulation=True, integration_length=1000, threshold=0.0, threshold_rotation=0.0, time_of_flight=0), QbloxADCSequencerSettings(id=3, outputs=[0], hardware_modulation=True, intermediate_frequency=500000000.0, gain_imbalance=0.0, phase_imbalance=0.0, gain_i=1.0, gain_q=1.0, offset_i=0.0, offset_q=0.0, inputs=[0], hardware_demodulation=True, integration_length=1000, threshold=0.0, threshold_rotation=0.0, time_of_flight=0), QbloxADCSequencerSettings(id=4, outputs=[0], hardware_modulation=True, intermediate_frequency=500000000.0, gain_imbalance=0.0, phase_imbalance=0.0, gain_i=1.0, gain_q=1.0, offset_i=0.0, offset_q=0.0, inputs=[0], hardware_demodulation=True, integration_length=1000, threshold=0.0, threshold_rotation=0.0, time_of_flight=0), QbloxADCSequencerSettings(id=5, outputs=[0], hardware_modulation=True, intermediate_frequency=500000000.0, gain_imbalance=0.0, phase_imbalance=0.0, gain_i=1.0, gain_q=1.0, offset_i=0.0, offset_q=0.0, inputs=[0], hardware_demodulation=True, integration_length=1000, threshold=0.0, threshold_rotation=0.0, time_of_flight=0)], inputs=[QbloxRFInputSettings(port=0, attenuation=0, offset_i=0.0, offset_q=0.0)])), QDevilQDAC2RuncardInstrument(type=<InstrumentType.QDEVIL_QDAC2: 'qdac2'>, settings=QDevilQDAC2Settings(alias='qdac2', dacs=[QDevilQDAC2ChannelSettings(id=0, voltage=0.0, span=<QDevilQDAC2Span.LOW: 'low'>, ramping_enabled=True, ramping_rate=1.0, low_pass_filter=<QDevilQDAC2LowPassFilter.DC: 'dc'>), QDevilQDAC2ChannelSettings(id=1, voltage=0.0, span=<QDevilQDAC2Span.LOW: 'low'>, ramping_enabled=True, ramping_rate=1.0, low_pass_filter=<QDevilQDAC2LowPassFilter.DC: 'dc'>), QDevilQDAC2ChannelSettings(id=2, voltage=0.0, span=<QDevilQDAC2Span.LOW: 'low'>, ramping_enabled=True, ramping_rate=1.0, low_pass_filter=<QDevilQDAC2LowPassFilter.DC: 'dc'>), QDevilQDAC2ChannelSettings(id=3, voltage=0.0, span=<QDevilQDAC2Span.LOW: 'low'>, ramping_enabled=True, ramping_rate=1.0, low_pass_filter=<QDevilQDAC2LowPassFilter.DC: 'dc'>), QDevilQDAC2ChannelSettings(id=4, voltage=0.0, span=<QDevilQDAC2Span.LOW: 'low'>, ramping_enabled=True, ramping_rate=1.0, low_pass_filter=<QDevilQDAC2LowPassFilter.DC: 'dc'>), QDevilQDAC2ChannelSettings(id=5, voltage=0.0, span=<QDevilQDAC2Span.LOW: 'low'>, ramping_enabled=True, ramping_rate=1.0, low_pass_filter=<QDevilQDAC2LowPassFilter.DC: 'dc'>), QDevilQDAC2ChannelSettings(id=6, voltage=0.0, span=<QDevilQDAC2Span.LOW: 'low'>, ramping_enabled=True, ramping_rate=1.0, low_pass_filter=<QDevilQDAC2LowPassFilter.DC: 'dc'>), QDevilQDAC2ChannelSettings(id=7, voltage=0.0, span=<QDevilQDAC2Span.LOW: 'low'>, ramping_enabled=True, ramping_rate=1.0, low_pass_filter=<QDevilQDAC2LowPassFilter.DC: 'dc'>), QDevilQDAC2ChannelSettings(id=8, voltage=0.0, span=<QDevilQDAC2Span.LOW: 'low'>, ramping_enabled=True, ramping_rate=1.0, low_pass_filter=<QDevilQDAC2LowPassFilter.DC: 'dc'>), QDevilQDAC2ChannelSettings(id=9, voltage=0.0, span=<QDevilQDAC2Span.LOW: 'low'>, ramping_enabled=True, ramping_rate=1.0, low_pass_filter=<QDevilQDAC2LowPassFilter.DC: 'dc'>), QDevilQDAC2ChannelSettings(id=10, voltage=0.0, span=<QDevilQDAC2Span.LOW: 'low'>, ramping_enabled=True, ramping_rate=1.0, low_pass_filter=<QDevilQDAC2LowPassFilter.DC: 'dc'>), QDevilQDAC2ChannelSettings(id=11, voltage=0.0, span=<QDevilQDAC2Span.LOW: 'low'>, ramping_enabled=True, ramping_rate=1.0, low_pass_filter=<QDevilQDAC2LowPassFilter.DC: 'dc'>), QDevilQDAC2ChannelSettings(id=12, voltage=0.0, span=<QDevilQDAC2Span.LOW: 'low'>, ramping_enabled=True, ramping_rate=1.0, low_pass_filter=<QDevilQDAC2LowPassFilter.DC: 'dc'>), QDevilQDAC2ChannelSettings(id=13, voltage=0.0, span=<QDevilQDAC2Span.LOW: 'low'>, ramping_enabled=True, ramping_rate=1.0, low_pass_filter=<QDevilQDAC2LowPassFilter.DC: 'dc'>), QDevilQDAC2ChannelSettings(id=14, voltage=0.0, span=<QDevilQDAC2Span.LOW: 'low'>, ramping_enabled=True, ramping_rate=1.0, low_pass_filter=<QDevilQDAC2LowPassFilter.DC: 'dc'>), QDevilQDAC2ChannelSettings(id=15, voltage=0.0, span=<QDevilQDAC2Span.LOW: 'low'>, ramping_enabled=True, ramping_rate=1.0, low_pass_filter=<QDevilQDAC2LowPassFilter.DC: 'dc'>), QDevilQDAC2ChannelSettings(id=16, voltage=0.0, span=<QDevilQDAC2Span.LOW: 'low'>, ramping_enabled=True, ramping_rate=1.0, low_pass_filter=<QDevilQDAC2LowPassFilter.DC: 'dc'>), QDevilQDAC2ChannelSettings(id=17, voltage=0.0, span=<QDevilQDAC2Span.LOW: 'low'>, ramping_enabled=True, ramping_rate=1.0, low_pass_filter=<QDevilQDAC2LowPassFilter.DC: 'dc'>), QDevilQDAC2ChannelSettings(id=18, voltage=0.0, span=<QDevilQDAC2Span.LOW: 'low'>, ramping_enabled=True, ramping_rate=1.0, low_pass_filter=<QDevilQDAC2LowPassFilter.DC: 'dc'>), QDevilQDAC2ChannelSettings(id=19, voltage=0.0, span=<QDevilQDAC2Span.LOW: 'low'>, ramping_enabled=True, ramping_rate=1.0, low_pass_filter=<QDevilQDAC2LowPassFilter.DC: 'dc'>), QDevilQDAC2ChannelSettings(id=20, voltage=0.0, span=<QDevilQDAC2Span.LOW: 'low'>, ramping_enabled=True, ramping_rate=1.0, low_pass_filter=<QDevilQDAC2LowPassFilter.DC: 'dc'>), QDevilQDAC2ChannelSettings(id=21, voltage=0.0, span=<QDevilQDAC2Span.LOW: 'low'>, ramping_enabled=True, ramping_rate=1.0, low_pass_filter=<QDevilQDAC2LowPassFilter.DC: 'dc'>), QDevilQDAC2ChannelSettings(id=22, voltage=0.0, span=<QDevilQDAC2Span.LOW: 'low'>, ramping_enabled=True, ramping_rate=1.0, low_pass_filter=<QDevilQDAC2LowPassFilter.DC: 'dc'>), QDevilQDAC2ChannelSettings(id=23, voltage=0.0, span=<QDevilQDAC2Span.LOW: 'low'>, ramping_enabled=True, ramping_rate=1.0, low_pass_filter=<QDevilQDAC2LowPassFilter.DC: 'dc'>)])), QDevilQDAC2RuncardInstrument(type=<InstrumentType.QDEVIL_QDAC2: 'qdac2'>, settings=QDevilQDAC2Settings(alias='second_qdac2', dacs=[QDevilQDAC2ChannelSettings(id=0, voltage=0.0, span=<QDevilQDAC2Span.LOW: 'low'>, ramping_enabled=True, ramping_rate=1.0, low_pass_filter=<QDevilQDAC2LowPassFilter.DC: 'dc'>), QDevilQDAC2ChannelSettings(id=1, voltage=0.0, span=<QDevilQDAC2Span.LOW: 'low'>, ramping_enabled=True, ramping_rate=1.0, low_pass_filter=<QDevilQDAC2LowPassFilter.DC: 'dc'>), QDevilQDAC2ChannelSettings(id=2, voltage=0.0, span=<QDevilQDAC2Span.LOW: 'low'>, ramping_enabled=True, ramping_rate=1.0, low_pass_filter=<QDevilQDAC2LowPassFilter.DC: 'dc'>), QDevilQDAC2ChannelSettings(id=3, voltage=0.0, span=<QDevilQDAC2Span.LOW: 'low'>, ramping_enabled=True, ramping_rate=1.0, low_pass_filter=<QDevilQDAC2LowPassFilter.DC: 'dc'>), QDevilQDAC2ChannelSettings(id=4, voltage=0.0, span=<QDevilQDAC2Span.LOW: 'low'>, ramping_enabled=True, ramping_rate=1.0, low_pass_filter=<QDevilQDAC2LowPassFilter.DC: 'dc'>), QDevilQDAC2ChannelSettings(id=5, voltage=0.0, span=<QDevilQDAC2Span.LOW: 'low'>, ramping_enabled=True, ramping_rate=1.0, low_pass_filter=<QDevilQDAC2LowPassFilter.DC: 'dc'>), QDevilQDAC2ChannelSettings(id=6, voltage=0.0, span=<QDevilQDAC2Span.LOW: 'low'>, ramping_enabled=True, ramping_rate=1.0, low_pass_filter=<QDevilQDAC2LowPassFilter.DC: 'dc'>), QDevilQDAC2ChannelSettings(id=7, voltage=0.0, span=<QDevilQDAC2Span.LOW: 'low'>, ramping_enabled=True, ramping_rate=1.0, low_pass_filter=<QDevilQDAC2LowPassFilter.DC: 'dc'>), QDevilQDAC2ChannelSettings(id=8, voltage=0.0, span=<QDevilQDAC2Span.LOW: 'low'>, ramping_enabled=True, ramping_rate=1.0, low_pass_filter=<QDevilQDAC2LowPassFilter.DC: 'dc'>), QDevilQDAC2ChannelSettings(id=9, voltage=0.0, span=<QDevilQDAC2Span.LOW: 'low'>, ramping_enabled=True, ramping_rate=1.0, low_pass_filter=<QDevilQDAC2LowPassFilter.DC: 'dc'>), QDevilQDAC2ChannelSettings(id=10, voltage=0.0, span=<QDevilQDAC2Span.LOW: 'low'>, ramping_enabled=True, ramping_rate=1.0, low_pass_filter=<QDevilQDAC2LowPassFilter.DC: 'dc'>), QDevilQDAC2ChannelSettings(id=11, voltage=0.0, span=<QDevilQDAC2Span.LOW: 'low'>, ramping_enabled=True, ramping_rate=1.0, low_pass_filter=<QDevilQDAC2LowPassFilter.DC: 'dc'>), QDevilQDAC2ChannelSettings(id=12, voltage=0.0, span=<QDevilQDAC2Span.LOW: 'low'>, ramping_enabled=True, ramping_rate=1.0, low_pass_filter=<QDevilQDAC2LowPassFilter.DC: 'dc'>), QDevilQDAC2ChannelSettings(id=13, voltage=0.0, span=<QDevilQDAC2Span.LOW: 'low'>, ramping_enabled=True, ramping_rate=1.0, low_pass_filter=<QDevilQDAC2LowPassFilter.DC: 'dc'>), QDevilQDAC2ChannelSettings(id=14, voltage=0.0, span=<QDevilQDAC2Span.LOW: 'low'>, ramping_enabled=True, ramping_rate=1.0, low_pass_filter=<QDevilQDAC2LowPassFilter.DC: 'dc'>), QDevilQDAC2ChannelSettings(id=15, voltage=0.0, span=<QDevilQDAC2Span.LOW: 'low'>, ramping_enabled=True, ramping_rate=1.0, low_pass_filter=<QDevilQDAC2LowPassFilter.DC: 'dc'>), QDevilQDAC2ChannelSettings(id=16, voltage=0.0, span=<QDevilQDAC2Span.LOW: 'low'>, ramping_enabled=True, ramping_rate=1.0, low_pass_filter=<QDevilQDAC2LowPassFilter.DC: 'dc'>), QDevilQDAC2ChannelSettings(id=17, voltage=0.0, span=<QDevilQDAC2Span.LOW: 'low'>, ramping_enabled=True, ramping_rate=1.0, low_pass_filter=<QDevilQDAC2LowPassFilter.DC: 'dc'>), QDevilQDAC2ChannelSettings(id=18, voltage=0.0, span=<QDevilQDAC2Span.LOW: 'low'>, ramping_enabled=True, ramping_rate=1.0, low_pass_filter=<QDevilQDAC2LowPassFilter.DC: 'dc'>), QDevilQDAC2ChannelSettings(id=19, voltage=0.0, span=<QDevilQDAC2Span.LOW: 'low'>, ramping_enabled=True, ramping_rate=1.0, low_pass_filter=<QDevilQDAC2LowPassFilter.DC: 'dc'>), QDevilQDAC2ChannelSettings(id=20, voltage=0.0, span=<QDevilQDAC2Span.LOW: 'low'>, ramping_enabled=True, ramping_rate=1.0, low_pass_filter=<QDevilQDAC2LowPassFilter.DC: 'dc'>), QDevilQDAC2ChannelSettings(id=21, voltage=0.0, span=<QDevilQDAC2Span.LOW: 'low'>, ramping_enabled=True, ramping_rate=1.0, low_pass_filter=<QDevilQDAC2LowPassFilter.DC: 'dc'>), QDevilQDAC2ChannelSettings(id=22, voltage=0.0, span=<QDevilQDAC2Span.LOW: 'low'>, ramping_enabled=True, ramping_rate=1.0, low_pass_filter=<QDevilQDAC2LowPassFilter.DC: 'dc'>), QDevilQDAC2ChannelSettings(id=23, voltage=0.0, span=<QDevilQDAC2Span.LOW: 'low'>, ramping_enabled=True, ramping_rate=1.0, low_pass_filter=<QDevilQDAC2LowPassFilter.DC: 'dc'>)])), RohdeSchwarzSG100RuncardInstrument(type=<InstrumentType.ROHDE_SCHWARZ_SG100: 'sg100'>, settings=RohdeSchwarzSG100Settings(alias='sg100', power=0.0, frequency=1000000000.0, rf_on=False)), QbloxS4GRuncardInstrument(type=<InstrumentType.QBLOX_S4G: 's4g'>, settings=QbloxS4GSettings(alias='s4g', dacs=[QbloxS4GChannelSettings(id=0, current=0.0, span=<QbloxS4gSpan.MIN_BI: 'min_bi'>, ramping_enabled=True, ramping_rate=0.001), QbloxS4GChannelSettings(id=1, current=0.0, span=<QbloxS4gSpan.MIN_BI: 'min_bi'>, ramping_enabled=True, ramping_rate=0.001), QbloxS4GChannelSettings(id=2, current=0.0, span=<QbloxS4gSpan.MIN_BI: 'min_bi'>, ramping_enabled=True, ramping_rate=0.001), QbloxS4GChannelSettings(id=3, current=0.0, span=<QbloxS4gSpan.MIN_BI: 'min_bi'>, ramping_enabled=True, ramping_rate=0.001)])), QbloxD5ARuncardInstrument(type=<InstrumentType.QBLOX_D5A: 'd5a'>, settings=QbloxD5ASettings(alias='d5a', dacs=[QbloxD5AChannelSettings(id=0, voltage=0.0, span=<QbloxD5ASpan.BI_2V: 'bi_2V'>, ramping_enabled=True, ramping_rate=0.1), QbloxD5AChannelSettings(id=1, voltage=0.0, span=<QbloxD5ASpan.BI_2V: 'bi_2V'>, ramping_enabled=True, ramping_rate=0.1), QbloxD5AChannelSettings(id=2, voltage=0.0, span=<QbloxD5ASpan.BI_2V: 'bi_2V'>, ramping_enabled=True, ramping_rate=0.1), QbloxD5AChannelSettings(id=3, voltage=0.0, span=<QbloxD5ASpan.BI_2V: 'bi_2V'>, ramping_enabled=True, ramping_rate=0.1), QbloxD5AChannelSettings(id=4, voltage=0.0, span=<QbloxD5ASpan.BI_2V: 'bi_2V'>, ramping_enabled=True, ramping_rate=0.1), QbloxD5AChannelSettings(id=5, voltage=0.0, span=<QbloxD5ASpan.BI_2V: 'bi_2V'>, ramping_enabled=True, ramping_rate=0.1), QbloxD5AChannelSettings(id=6, voltage=0.0, span=<QbloxD5ASpan.BI_2V: 'bi_2V'>, ramping_enabled=True, ramping_rate=0.1), QbloxD5AChannelSettings(id=7, voltage=0.0, span=<QbloxD5ASpan.BI_2V: 'bi_2V'>, ramping_enabled=True, ramping_rate=0.1), QbloxD5AChannelSettings(id=8, voltage=0.0, span=<QbloxD5ASpan.BI_2V: 'bi_2V'>, ramping_enabled=True, ramping_rate=0.1), QbloxD5AChannelSettings(id=9, voltage=0.0, span=<QbloxD5ASpan.BI_2V: 'bi_2V'>, ramping_enabled=True, ramping_rate=0.1), QbloxD5AChannelSettings(id=10, voltage=0.0, span=<QbloxD5ASpan.BI_2V: 'bi_2V'>, ramping_enabled=True, ramping_rate=0.1), QbloxD5AChannelSettings(id=11, voltage=0.0, span=<QbloxD5ASpan.BI_2V: 'bi_2V'>, ramping_enabled=True, ramping_rate=0.1), QbloxD5AChannelSettings(id=12, voltage=0.0, span=<QbloxD5ASpan.BI_2V: 'bi_2V'>, ramping_enabled=True, ramping_rate=0.1), QbloxD5AChannelSettings(id=13, voltage=0.0, span=<QbloxD5ASpan.BI_2V: 'bi_2V'>, ramping_enabled=True, ramping_rate=0.1), QbloxD5AChannelSettings(id=14, voltage=0.0, span=<QbloxD5ASpan.BI_2V: 'bi_2V'>, ramping_enabled=True, ramping_rate=0.1), QbloxD5AChannelSettings(id=15, voltage=0.0, span=<QbloxD5ASpan.BI_2V: 'bi_2V'>, ramping_enabled=True, ramping_rate=0.1)]))], instrument_controllers=[QDevilQDAC2RuncardInstrumentController(type=<InstrumentControllerType.QDEVIL_QDAC2_CONTROLLER: 'qdac2_controller'>, settings=QDevilQDAC2ControllerSettings(alias='qdac2_controller', connection=ConnectionSettings(type=<ConnectionType.TCP_IP: 'tcp_ip'>, address='168.0.0.1'), modules=[InstrumentModule(alias='qdac2', slot=0)], reset=True)), QbloxClusterRuncardInstrumentController(type=<InstrumentControllerType.QBLOX_CLUSTER_CONTROLLER: 'qblox_cluster_controller'>, settings=QbloxClusterControllerSettings(alias='qblox_cluster', connection=ConnectionSettings(type=<ConnectionType.TCP_IP: 'tcp_ip'>, address='168.0.0.1'), modules=[InstrumentModule(alias='qcm', slot=0), InstrumentModule(alias='qrm', slot=5), InstrumentModule(alias='qcm-rf', slot=10), InstrumentModule(alias='qrm-rf', slot=15)], reset=True, reference_clock=<ReferenceClock.INTERNAL: 'internal'>)), QbloxSPIRackRuncardInstrumentController(type=<InstrumentControllerType.QBLOX_SPI_RACK_CONTROLLER: 'qblox_spi_rack_controller'>, settings=QbloxSPIRackControllerSettings(alias='spi-rack', connection=ConnectionSettings(type=<ConnectionType.TCP_IP: 'tcp_ip'>, address='168.0.0.1'), modules=[InstrumentModule(alias='d5a', slot=2), InstrumentModule(alias='s4g', slot=10)], reset=True))], analog=AnalogCompilationSettings(flux_control_topology=[FluxToBus(flux='phix_q0', bus='flux_q0_x'), FluxToBus(flux='phiz_q0', bus='flux_q0_z')]), digital=DigitalCompilationSettings(minimum_clock_time=4, delay_before_readout=0, topology=[], gates={'DRAG(0)': [GateEventSettings(bus='drive_q0', pulse=GateEventSettings.GatePulseSettings(amplitude=1.0, phase=40.0, duration=100, shape={}, options={}), wait_time=0)]}, buses={'drive_q0': DigitalCompilationBusSettings(line=<Line.DRIVE: 'drive'>, qubits=[0], delay=0, distortions=[], weights_i=[], weights_q=[], weighed_acq_enabled=False)}))"
      ]
     },
     "execution_count": 31,
     "metadata": {},
     "output_type": "execute_result"
    }
   ],
   "source": [
    "loaded_runcard = Runcard.load_from(\"runcard.yml\")\n",
    "loaded_runcard"
   ]
  },
  {
   "cell_type": "code",
   "execution_count": null,
   "metadata": {},
   "outputs": [
    {
     "ename": "ValidationError",
     "evalue": "1 validation error for Runcard\n  Value error, Instrument 'non_existant' of controller 'wrong_controller' not found in runcard instruments. [type=value_error, input_value=Runcard(name='saruman', b...ed_acq_enabled=False)})), input_type=Runcard]\n    For further information visit https://errors.pydantic.dev/2.10/v/value_error",
     "output_type": "error",
     "traceback": [
      "\u001b[0;31m---------------------------------------------------------------------------\u001b[0m",
      "\u001b[0;31mValidationError\u001b[0m                           Traceback (most recent call last)",
      "Cell \u001b[0;32mIn[32], line 1\u001b[0m\n\u001b[0;32m----> 1\u001b[0m \u001b[43mruncard\u001b[49m\u001b[38;5;241;43m.\u001b[39;49m\u001b[43madd_instrument_controller\u001b[49m\u001b[43m(\u001b[49m\u001b[43mwrong_controller\u001b[49m\u001b[43m)\u001b[49m\n",
      "File \u001b[0;32m~/qililab/src/qililab/runcard/runcard.py:106\u001b[0m, in \u001b[0;36mRuncard.add_instrument_controller\u001b[0;34m(self, instrument_controller)\u001b[0m\n\u001b[1;32m    104\u001b[0m \u001b[38;5;28;01mexcept\u001b[39;00m ValidationError \u001b[38;5;28;01mas\u001b[39;00m e:\n\u001b[1;32m    105\u001b[0m     \u001b[38;5;28mself\u001b[39m\u001b[38;5;241m.\u001b[39mremove_instrument_controller(instrument_controller\u001b[38;5;241m.\u001b[39msettings\u001b[38;5;241m.\u001b[39malias)\n\u001b[0;32m--> 106\u001b[0m     \u001b[38;5;28;01mraise\u001b[39;00m e\n",
      "File \u001b[0;32m~/qililab/src/qililab/runcard/runcard.py:103\u001b[0m, in \u001b[0;36mRuncard.add_instrument_controller\u001b[0;34m(self, instrument_controller)\u001b[0m\n\u001b[1;32m    101\u001b[0m \u001b[38;5;28;01mtry\u001b[39;00m:\n\u001b[1;32m    102\u001b[0m     \u001b[38;5;28mself\u001b[39m\u001b[38;5;241m.\u001b[39minstrument_controllers\u001b[38;5;241m.\u001b[39mappend(instrument_controller\u001b[38;5;241m.\u001b[39mto_runcard())\n\u001b[0;32m--> 103\u001b[0m     \u001b[43mRuncard\u001b[49m\u001b[38;5;241;43m.\u001b[39;49m\u001b[43mmodel_validate\u001b[49m\u001b[43m(\u001b[49m\u001b[38;5;28;43mself\u001b[39;49m\u001b[43m)\u001b[49m\n\u001b[1;32m    104\u001b[0m \u001b[38;5;28;01mexcept\u001b[39;00m ValidationError \u001b[38;5;28;01mas\u001b[39;00m e:\n\u001b[1;32m    105\u001b[0m     \u001b[38;5;28mself\u001b[39m\u001b[38;5;241m.\u001b[39mremove_instrument_controller(instrument_controller\u001b[38;5;241m.\u001b[39msettings\u001b[38;5;241m.\u001b[39malias)\n",
      "File \u001b[0;32m~/qililab/.venv/lib/python3.10/site-packages/pydantic/main.py:627\u001b[0m, in \u001b[0;36mBaseModel.model_validate\u001b[0;34m(cls, obj, strict, from_attributes, context)\u001b[0m\n\u001b[1;32m    625\u001b[0m \u001b[38;5;66;03m# `__tracebackhide__` tells pytest and some other tools to omit this function from tracebacks\u001b[39;00m\n\u001b[1;32m    626\u001b[0m __tracebackhide__ \u001b[38;5;241m=\u001b[39m \u001b[38;5;28;01mTrue\u001b[39;00m\n\u001b[0;32m--> 627\u001b[0m \u001b[38;5;28;01mreturn\u001b[39;00m \u001b[38;5;28;43mcls\u001b[39;49m\u001b[38;5;241;43m.\u001b[39;49m\u001b[43m__pydantic_validator__\u001b[49m\u001b[38;5;241;43m.\u001b[39;49m\u001b[43mvalidate_python\u001b[49m\u001b[43m(\u001b[49m\n\u001b[1;32m    628\u001b[0m \u001b[43m    \u001b[49m\u001b[43mobj\u001b[49m\u001b[43m,\u001b[49m\u001b[43m \u001b[49m\u001b[43mstrict\u001b[49m\u001b[38;5;241;43m=\u001b[39;49m\u001b[43mstrict\u001b[49m\u001b[43m,\u001b[49m\u001b[43m \u001b[49m\u001b[43mfrom_attributes\u001b[49m\u001b[38;5;241;43m=\u001b[39;49m\u001b[43mfrom_attributes\u001b[49m\u001b[43m,\u001b[49m\u001b[43m \u001b[49m\u001b[43mcontext\u001b[49m\u001b[38;5;241;43m=\u001b[39;49m\u001b[43mcontext\u001b[49m\n\u001b[1;32m    629\u001b[0m \u001b[43m\u001b[49m\u001b[43m)\u001b[49m\n",
      "\u001b[0;31mValidationError\u001b[0m: 1 validation error for Runcard\n  Value error, Instrument 'non_existant' of controller 'wrong_controller' not found in runcard instruments. [type=value_error, input_value=Runcard(name='saruman', b...ed_acq_enabled=False)})), input_type=Runcard]\n    For further information visit https://errors.pydantic.dev/2.10/v/value_error"
     ]
    }
   ],
   "source": [
    "runcard.add_instrument_controller(wrong_controller)"
   ]
  }
 ],
 "metadata": {
  "kernelspec": {
   "display_name": ".venv",
   "language": "python",
   "name": "python3"
  },
  "language_info": {
   "codemirror_mode": {
    "name": "ipython",
    "version": 3
   },
   "file_extension": ".py",
   "mimetype": "text/x-python",
   "name": "python",
   "nbconvert_exporter": "python",
   "pygments_lexer": "ipython3",
   "version": "3.10.16"
  }
 },
 "nbformat": 4,
 "nbformat_minor": 2
}
