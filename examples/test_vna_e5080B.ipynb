{
 "cells": [
  {
   "cell_type": "code",
   "execution_count": 1,
   "metadata": {},
   "outputs": [],
   "source": [
    "import os\n",
    "from pathlib import Path\n",
    "\n",
    "import matplotlib.pyplot as plt\n",
    "import numpy as np\n",
    "from qiboconnection.api import API\n",
    "\n",
    "from qililab import build_platform\n",
    "\n",
    "PATH = os.getcwd()\n",
    "os.environ[\"DATA\"] = f\"{PATH}/data\"\n",
    "os.environ[\"RUNCARDS\"] = f\"{PATH}/runcards\""
   ]
  },
  {
   "cell_type": "code",
   "execution_count": 2,
   "metadata": {},
   "outputs": [
    {
     "name": "stderr",
     "output_type": "stream",
     "text": [
      "[qililab] [0.16.1|INFO|2023-03-22 11:14:03]: Building platform\n",
      "INFO:qililab.config.config:Building platform\n"
     ]
    }
   ],
   "source": [
    "\"\"\"Load the platform 'sauron' from the runcard.\"\"\"\n",
    "platform = build_platform(name=\"sauron_vna\")"
   ]
  },
  {
   "cell_type": "code",
   "execution_count": 3,
   "metadata": {},
   "outputs": [
    {
     "name": "stderr",
     "output_type": "stream",
     "text": [
      "[qililab] [0.16.1|INFO|2023-03-22 11:14:04]: Connecting to instrument keysight_e5080b_controller.\n",
      "INFO:qililab.config.config:Connecting to instrument keysight_e5080b_controller.\n",
      "[qililab] [0.16.1|INFO|2023-03-22 11:14:04]: Reset instrument VNA.\n",
      "INFO:qililab.config.config:Reset instrument VNA.\n",
      "[qililab] [0.16.1|INFO|2023-03-22 11:14:04]: Connected to the instruments\n",
      "INFO:qililab.config.config:Connected to the instruments\n"
     ]
    }
   ],
   "source": [
    "platform.connect()"
   ]
  },
  {
   "cell_type": "code",
   "execution_count": 4,
   "metadata": {},
   "outputs": [],
   "source": [
    "vna_e5080b = platform.instruments.elements[0]"
   ]
  },
  {
   "cell_type": "code",
   "execution_count": 5,
   "metadata": {},
   "outputs": [
    {
     "data": {
      "text/plain": [
       "qililab.instruments.keysight.e5080b_vna.E5080B"
      ]
     },
     "execution_count": 5,
     "metadata": {},
     "output_type": "execute_result"
    }
   ],
   "source": [
    "type(vna_e5080b)"
   ]
  },
  {
   "cell_type": "code",
   "execution_count": 6,
   "metadata": {},
   "outputs": [
    {
     "data": {
      "text/plain": [
       "'+1\\n'"
      ]
     },
     "execution_count": 6,
     "metadata": {},
     "output_type": "execute_result"
    }
   ],
   "source": [
    "vna_e5080b.read()"
   ]
  },
  {
   "cell_type": "markdown",
   "metadata": {},
   "source": [
    "Get & set parameters"
   ]
  },
  {
   "cell_type": "code",
   "execution_count": 6,
   "metadata": {},
   "outputs": [
    {
     "data": {
      "text/plain": [
       "-20"
      ]
     },
     "execution_count": 6,
     "metadata": {},
     "output_type": "execute_result"
    }
   ],
   "source": [
    "vna_e5080b.power = -20\n",
    "vna_e5080b.power"
   ]
  },
  {
   "cell_type": "code",
   "execution_count": 7,
   "metadata": {},
   "outputs": [
    {
     "data": {
      "text/plain": [
       "<VNAScatteringParameters.S21: 'S21'>"
      ]
     },
     "execution_count": 7,
     "metadata": {},
     "output_type": "execute_result"
    }
   ],
   "source": [
    "vna_e5080b.scattering_parameter = \"S21\"\n",
    "vna_e5080b.scattering_parameter"
   ]
  },
  {
   "cell_type": "code",
   "execution_count": 8,
   "metadata": {},
   "outputs": [
    {
     "data": {
      "text/plain": [
       "100"
      ]
     },
     "execution_count": 8,
     "metadata": {},
     "output_type": "execute_result"
    }
   ],
   "source": [
    "vna_e5080b.if_bandwidth = 100\n",
    "vna_e5080b.if_bandwidth"
   ]
  },
  {
   "cell_type": "code",
   "execution_count": 26,
   "metadata": {},
   "outputs": [
    {
     "data": {
      "text/plain": [
       "False"
      ]
     },
     "execution_count": 26,
     "metadata": {},
     "output_type": "execute_result"
    }
   ],
   "source": [
    "vna_e5080b.averaging_enabled = False\n",
    "vna_e5080b.averaging_enabled"
   ]
  },
  {
   "cell_type": "code",
   "execution_count": 29,
   "metadata": {},
   "outputs": [
    {
     "data": {
      "text/plain": [
       "1"
      ]
     },
     "execution_count": 29,
     "metadata": {},
     "output_type": "execute_result"
    }
   ],
   "source": [
    "vna_e5080b.number_averages = 1\n",
    "vna_e5080b.number_averages"
   ]
  },
  {
   "cell_type": "code",
   "execution_count": 9,
   "metadata": {},
   "outputs": [
    {
     "data": {
      "text/plain": [
       "200"
      ]
     },
     "execution_count": 9,
     "metadata": {},
     "output_type": "execute_result"
    }
   ],
   "source": [
    "vna_e5080b.number_points = 200\n",
    "vna_e5080b.number_points"
   ]
  },
  {
   "cell_type": "code",
   "execution_count": 12,
   "metadata": {},
   "outputs": [
    {
     "data": {
      "text/plain": [
       "<VNASweepModes.CONT: 'cont'>"
      ]
     },
     "execution_count": 12,
     "metadata": {},
     "output_type": "execute_result"
    }
   ],
   "source": [
    "vna_e5080b.sweep_mode = \"cont\"\n",
    "vna_e5080b.sweep_mode"
   ]
  },
  {
   "cell_type": "code",
   "execution_count": 13,
   "metadata": {},
   "outputs": [],
   "source": [
    "npoints = 200\n",
    "jj = 9\n",
    "f0s = [\n",
    "    6.061445e9,\n",
    "    6.152293e9,\n",
    "    6.23766e9,\n",
    "    6.31578e9,\n",
    "    6.403124e9,\n",
    "    6.485132e9,\n",
    "    6.580649e9,\n",
    "    6.653112e9,\n",
    "    6.732787e9,\n",
    "    6.828278e9,\n",
    "]\n",
    "fspan = [2e6, 2e6, 2e6, 2e6, 2e6, 2e6, 2e6, 2e6, 2e6, 2e6]\n",
    "vna_e5080b.frequency_center = 8e9\n",
    "vna_e5080b.frequency_span = 2e9\n",
    "freq = np.linspace(-0.5, 0.5, npoints) * fspan[jj] + f0s[jj]"
   ]
  },
  {
   "cell_type": "code",
   "execution_count": 14,
   "metadata": {},
   "outputs": [],
   "source": [
    "results = vna_e5080b.read_tracedata()"
   ]
  },
  {
   "cell_type": "code",
   "execution_count": 15,
   "metadata": {},
   "outputs": [
    {
     "data": {
      "image/png": "[encoded data removed]",
      "text/plain": [
       "<Figure size 640x480 with 1 Axes>"
      ]
     },
     "metadata": {},
     "output_type": "display_data"
    }
   ],
   "source": [
    "### Single trace ###\n",
    "# vna.release() #That's how get_trace should be used. It maintains the data.\n",
    "\n",
    "# dir = save_data(f'single_trace_res{jj}',np.real(results), np.imag(results), freq, [])\n",
    "# print(dir)\n",
    "\n",
    "plt.plot(freq * 1e-9, np.abs(results), \".\")\n",
    "plt.title(dir)\n",
    "plt.xlabel(\"frequency (GHz)\")\n",
    "plt.ylabel(\"S21 (dB)\")\n",
    "plt.show()"
   ]
  },
  {
   "cell_type": "code",
   "execution_count": null,
   "metadata": {},
   "outputs": [],
   "source": [
    "vna_e5080b.release()"
   ]
  },
  {
   "cell_type": "code",
   "execution_count": 19,
   "metadata": {},
   "outputs": [
    {
     "data": {
      "text/plain": [
       "array([7.00000000e+09, 7.01005005e+09, 7.02010061e+09, 7.03015066e+09,\n",
       "       7.04020122e+09, 7.05025126e+09, 7.06030131e+09, 7.07035187e+09,\n",
       "       7.08040192e+09, 7.09045248e+09, 7.10050253e+09, 7.11055258e+09,\n",
       "       7.12060314e+09, 7.13065318e+09, 7.14070374e+09, 7.15075379e+09,\n",
       "       7.16080384e+09, 7.17085440e+09, 7.18090445e+09, 7.19095501e+09,\n",
       "       7.20100506e+09, 7.21105510e+09, 7.22110566e+09, 7.23115571e+09,\n",
       "       7.24120627e+09, 7.25125632e+09, 7.26130637e+09, 7.27135693e+09,\n",
       "       7.28140698e+09, 7.29145754e+09, 7.30150758e+09, 7.31155763e+09,\n",
       "       7.32160819e+09, 7.33165824e+09, 7.34170829e+09, 7.35175885e+09,\n",
       "       7.36180890e+09, 7.37185946e+09, 7.38190950e+09, 7.39195955e+09,\n",
       "       7.40201011e+09, 7.41206016e+09, 7.42211072e+09, 7.43216077e+09,\n",
       "       7.44221082e+09, 7.45226138e+09, 7.46231142e+09, 7.47236198e+09,\n",
       "       7.48241203e+09, 7.49246208e+09, 7.50251264e+09, 7.51256269e+09,\n",
       "       7.52261325e+09, 7.53266330e+09, 7.54271334e+09, 7.55276390e+09,\n",
       "       7.56281395e+09, 7.57286451e+09, 7.58291456e+09, 7.59296461e+09,\n",
       "       7.60301517e+09, 7.61306522e+09, 7.62311578e+09, 7.63316582e+09,\n",
       "       7.64321587e+09, 7.65326643e+09, 7.66331648e+09, 7.67336704e+09,\n",
       "       7.68341709e+09, 7.69346714e+09, 7.70351770e+09, 7.71356774e+09,\n",
       "       7.72361830e+09, 7.73366835e+09, 7.74371840e+09, 7.75376896e+09,\n",
       "       7.76381901e+09, 7.77386957e+09, 7.78391962e+09, 7.79396966e+09,\n",
       "       7.80402022e+09, 7.81407027e+09, 7.82412083e+09, 7.83417088e+09,\n",
       "       7.84422093e+09, 7.85427149e+09, 7.86432154e+09, 7.87437210e+09,\n",
       "       7.88442214e+09, 7.89447219e+09, 7.90452275e+09, 7.91457280e+09,\n",
       "       7.92462336e+09, 7.93467341e+09, 7.94472346e+09, 7.95477402e+09,\n",
       "       7.96482406e+09, 7.97487462e+09, 7.98492467e+09, 7.99497472e+09,\n",
       "       8.00502528e+09, 8.01507533e+09, 8.02512538e+09, 8.03517594e+09,\n",
       "       8.04522598e+09, 8.05527654e+09, 8.06532659e+09, 8.07537664e+09,\n",
       "       8.08542720e+09, 8.09547725e+09, 8.10552781e+09, 8.11557786e+09,\n",
       "       8.12562790e+09, 8.13567846e+09, 8.14572851e+09, 8.15577907e+09,\n",
       "       8.16582912e+09, 8.17587917e+09, 8.18592973e+09, 8.19597978e+09,\n",
       "       8.20603034e+09, 8.21608038e+09, 8.22613043e+09, 8.23618099e+09,\n",
       "       8.24623104e+09, 8.25628160e+09, 8.26633165e+09, 8.27638170e+09,\n",
       "       8.28643226e+09, 8.29648230e+09, 8.30653286e+09, 8.31658291e+09,\n",
       "       8.32663296e+09, 8.33668352e+09, 8.34673357e+09, 8.35678413e+09,\n",
       "       8.36683418e+09, 8.37688422e+09, 8.38693478e+09, 8.39698483e+09,\n",
       "       8.40703539e+09, 8.41708544e+09, 8.42713549e+09, 8.43718605e+09,\n",
       "       8.44723610e+09, 8.45728666e+09, 8.46733670e+09, 8.47738675e+09,\n",
       "       8.48743731e+09, 8.49748736e+09, 8.50753792e+09, 8.51758797e+09,\n",
       "       8.52763802e+09, 8.53768858e+09, 8.54773862e+09, 8.55778918e+09,\n",
       "       8.56783923e+09, 8.57788928e+09, 8.58793984e+09, 8.59799040e+09,\n",
       "       8.60803994e+09, 8.61809050e+09, 8.62814106e+09, 8.63819059e+09,\n",
       "       8.64824115e+09, 8.65829171e+09, 8.66834125e+09, 8.67839181e+09,\n",
       "       8.68844237e+09, 8.69849293e+09, 8.70854246e+09, 8.71859302e+09,\n",
       "       8.72864358e+09, 8.73869312e+09, 8.74874368e+09, 8.75879424e+09,\n",
       "       8.76884378e+09, 8.77889434e+09, 8.78894490e+09, 8.79899546e+09,\n",
       "       8.80904499e+09, 8.81909555e+09, 8.82914611e+09, 8.83919565e+09,\n",
       "       8.84924621e+09, 8.85929677e+09, 8.86934630e+09, 8.87939686e+09,\n",
       "       8.88944742e+09, 8.89949798e+09, 8.90954752e+09, 8.91959808e+09,\n",
       "       8.92964864e+09, 8.93969818e+09, 8.94974874e+09, 8.95979930e+09,\n",
       "       8.96984883e+09, 8.97989939e+09, 8.98994995e+09, 8.99999949e+09])"
      ]
     },
     "execution_count": 19,
     "metadata": {},
     "output_type": "execute_result"
    }
   ],
   "source": [
    "vna_e5080b.get_frequencies()"
   ]
  },
  {
   "cell_type": "code",
   "execution_count": null,
   "metadata": {},
   "outputs": [],
   "source": [
    "vna_e5080b.average_clear()"
   ]
  },
  {
   "cell_type": "code",
   "execution_count": null,
   "metadata": {},
   "outputs": [],
   "source": [
    "vna_e5080b.autoscale()"
   ]
  },
  {
   "cell_type": "code",
   "execution_count": 9,
   "metadata": {},
   "outputs": [],
   "source": [
    "vna_e5080b.number_points = 1000"
   ]
  },
  {
   "cell_type": "code",
   "execution_count": 10,
   "metadata": {},
   "outputs": [],
   "source": [
    "vna_e5080b.scattering_parameter = \"S21\""
   ]
  },
  {
   "cell_type": "code",
   "execution_count": 11,
   "metadata": {},
   "outputs": [],
   "source": [
    "vna_e5080b.autoscale()"
   ]
  },
  {
   "cell_type": "code",
   "execution_count": 12,
   "metadata": {},
   "outputs": [
    {
     "data": {
      "text/plain": [
       "10"
      ]
     },
     "execution_count": 12,
     "metadata": {},
     "output_type": "execute_result"
    }
   ],
   "source": [
    "vna_e5080b.output(arg=\"ON\")"
   ]
  },
  {
   "cell_type": "code",
   "execution_count": 31,
   "metadata": {},
   "outputs": [
    {
     "name": "stderr",
     "output_type": "stream",
     "text": [
      "[qililab] [0.9.0|INFO|2022-10-22 10:33:49]: Closing instrument keysight_e5080b_controller.\n",
      "INFO:qililab.config.config:Closing instrument keysight_e5080b_controller.\n"
     ]
    }
   ],
   "source": [
    "platform.close()"
   ]
  },
  {
   "cell_type": "code",
   "execution_count": null,
   "metadata": {},
   "outputs": [],
   "source": []
  }
 ],
 "metadata": {
  "kernelspec": {
   "display_name": "Python 3 (ipykernel)",
   "language": "python",
   "name": "python3"
  },
  "language_info": {
   "codemirror_mode": {
    "name": "ipython",
    "version": 3
   },
   "file_extension": ".py",
   "mimetype": "text/x-python",
   "name": "python",
   "nbconvert_exporter": "python",
   "pygments_lexer": "ipython3",
   "version": "3.10.6"
  },
  "vscode": {
   "interpreter": {
    "hash": "767d51c1340bd893661ea55ea3124f6de3c7a262a8b4abca0554b478b1e2ff90"
   }
  }
 },
 "nbformat": 4,
 "nbformat_minor": 4
}
