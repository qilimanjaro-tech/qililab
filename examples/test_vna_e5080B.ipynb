{
 "cells": [
  {
   "cell_type": "code",
   "execution_count": 21,
   "metadata": {},
   "outputs": [],
   "source": [
    "import os\n",
    "from pathlib import Path\n",
    "\n",
    "from qiboconnection.api import API\n",
    "\n",
    "from qililab import build_platform\n",
    "import numpy as np\n",
    "import matplotlib.pyplot as plt\n",
    "\n",
    "PATH = os.getcwd()\n",
    "os.environ[\"DATA\"] = f\"{PATH}/data\"\n",
    "os.environ[\"RUNCARDS\"] = f\"{PATH}/runcards\""
   ]
  },
  {
   "cell_type": "code",
   "execution_count": 22,
   "metadata": {},
   "outputs": [
    {
     "name": "stderr",
     "output_type": "stream",
     "text": [
      "[qililab] [0.9.0|INFO|2022-10-21 11:09:24]: Building platform\n",
      "INFO:qililab.config.config:Building platform\n",
      "[qililab] [0.9.0|INFO|2022-10-21 11:09:24]: Connecting to instrument keysight_e5080b_controller.\n",
      "INFO:qililab.config.config:Connecting to instrument keysight_e5080b_controller.\n"
     ]
    }
   ],
   "source": [
    "\"\"\"Load the platform 'sauron' from the runcard.\"\"\"\n",
    "platform = build_platform(name=\"sauron_vna\")\n",
    "platform.connect()"
   ]
  },
  {
   "cell_type": "code",
   "execution_count": 23,
   "metadata": {},
   "outputs": [],
   "source": [
    "e5080b = platform.instruments.elements[0]"
   ]
  },
  {
   "cell_type": "code",
   "execution_count": 25,
   "metadata": {},
   "outputs": [
    {
     "data": {
      "text/plain": [
       "qililab.instruments.keysight.e5080b_vna.E5080B"
      ]
     },
     "execution_count": 25,
     "metadata": {},
     "output_type": "execute_result"
    }
   ],
   "source": [
    "type(e5080b)"
   ]
  },
  {
   "cell_type": "code",
   "execution_count": null,
   "metadata": {},
   "outputs": [],
   "source": [
    "e5080b.read()"
   ]
  },
  {
   "cell_type": "code",
   "execution_count": null,
   "metadata": {},
   "outputs": [],
   "source": [
    "e5080b.send_command(command=\"*CLS\")"
   ]
  },
  {
   "cell_type": "code",
   "execution_count": null,
   "metadata": {},
   "outputs": [],
   "source": [
    "e5080b.number_points = 1000"
   ]
  },
  {
   "cell_type": "code",
   "execution_count": null,
   "metadata": {},
   "outputs": [],
   "source": [
    "e5080b.scattering_parameter = \"S21\""
   ]
  },
  {
   "cell_type": "code",
   "execution_count": null,
   "metadata": {},
   "outputs": [],
   "source": [
    "e5080b.autoscale()"
   ]
  },
  {
   "cell_type": "code",
   "execution_count": null,
   "metadata": {},
   "outputs": [],
   "source": [
    "e5080b.output(arg='ON)')"
   ]
  },
  {
   "cell_type": "code",
   "execution_count": null,
   "metadata": {},
   "outputs": [],
   "source": [
    "e5080b.frequency_span = 10e3\n",
    "e5080b.frequency_center = 6e9\n",
    "e5080b.scattering_parameter = \"S21\"\n",
    "e5080b.power = 0\n",
    "e5080b.if_bandwidth = 1000"
   ]
  },
  {
   "cell_type": "code",
   "execution_count": null,
   "metadata": {},
   "outputs": [],
   "source": [
    "e5080b.power = 0\n",
    "e5080b.frequency_start = 5.5e9\n",
    "e5080b.frequency_stop = 6.5e9\n",
    "e5080b.if_bandwidth = 1000"
   ]
  },
  {
   "cell_type": "code",
   "execution_count": null,
   "metadata": {},
   "outputs": [],
   "source": [
    "e5080b.electrical_delay(time=\"100E-9\")"
   ]
  },
  {
   "cell_type": "code",
   "execution_count": null,
   "metadata": {},
   "outputs": [],
   "source": [
    "S21_complex = e5080b.get_data()\n",
    "mag = mag(S21_complex.real, S21_complex.imag)\n",
    "phase = phase(S21_complex.real, S21_complex.imag)\n",
    "freq = np.linspace(freq_start,freq_stop,nPoint)*1e-9"
   ]
  },
  {
   "cell_type": "code",
   "execution_count": null,
   "metadata": {},
   "outputs": [],
   "source": [
    "plt.plot(freq,mag)"
   ]
  },
  {
   "cell_type": "code",
   "execution_count": null,
   "metadata": {},
   "outputs": [],
   "source": [
    "freq"
   ]
  },
  {
   "cell_type": "code",
   "execution_count": 4,
   "metadata": {},
   "outputs": [
    {
     "name": "stderr",
     "output_type": "stream",
     "text": [
      "[qililab] [0.9.0|INFO|2022-10-21 09:52:55]: Closing instrument keysight_e5080b_controller.\n",
      "INFO:qililab.config.config:Closing instrument keysight_e5080b_controller.\n"
     ]
    }
   ],
   "source": [
    "platform.close()"
   ]
  },
  {
   "cell_type": "code",
   "execution_count": 19,
   "metadata": {},
   "outputs": [],
   "source": [
    "def mag(real, imag):\n",
    "    return 20*np.log10(np.sqrt(real**2+imag**2))\n",
    "\n",
    "def phase(real,imag):\n",
    "    return np.arctan(imag/real)"
   ]
  },
  {
   "cell_type": "code",
   "execution_count": null,
   "metadata": {},
   "outputs": [],
   "source": []
  }
 ],
 "metadata": {
  "kernelspec": {
   "display_name": "Python 3.10.5",
   "language": "python",
   "name": "python3"
  },
  "language_info": {
   "codemirror_mode": {
    "name": "ipython",
    "version": 3
   },
   "file_extension": ".py",
   "mimetype": "text/x-python",
   "name": "python",
   "nbconvert_exporter": "python",
   "pygments_lexer": "ipython3",
   "version": "3.10.5"
  },
  "orig_nbformat": 4,
  "vscode": {
   "interpreter": {
    "hash": "a3da51679728402673238aaf81fab2d59d11ba07a5977242c92bf045577b6146"
   }
  }
 },
 "nbformat": 4,
 "nbformat_minor": 2
}
