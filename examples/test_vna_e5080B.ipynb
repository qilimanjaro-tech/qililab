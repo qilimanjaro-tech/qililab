{
 "cells": [
  {
   "cell_type": "code",
   "execution_count": 1,
   "metadata": {},
   "outputs": [
    {
     "name": "stderr",
     "output_type": "stream",
     "text": [
      "[Qibo 0.1.7|INFO|2022-10-21 13:12:36]: Using numpy backend on /CPU:0\n",
      "[Qibo 0.1.7|WARNING|2022-10-21 13:12:36]: numpy backend uses `np.einsum` and supports CPU only. Consider installing the qibojit or qibotf backends for increased performance and to enable GPU acceleration.\n"
     ]
    }
   ],
   "source": [
    "import os\n",
    "from pathlib import Path\n",
    "\n",
    "from qiboconnection.api import API\n",
    "\n",
    "from qililab import build_platform\n",
    "import numpy as np\n",
    "import matplotlib.pyplot as plt\n",
    "\n",
    "PATH = os.getcwd()\n",
    "os.environ[\"DATA\"] = f\"{PATH}/data\"\n",
    "os.environ[\"RUNCARDS\"] = f\"{PATH}/runcards\""
   ]
  },
  {
   "cell_type": "code",
   "execution_count": 2,
   "metadata": {},
   "outputs": [
    {
     "name": "stderr",
     "output_type": "stream",
     "text": [
      "[qililab] [0.9.0|INFO|2022-10-21 13:12:38]: Building platform\n",
      "INFO:qililab.config.config:Building platform\n"
     ]
    }
   ],
   "source": [
    "\"\"\"Load the platform 'sauron' from the runcard.\"\"\"\n",
    "platform = build_platform(name=\"sauron_vna\")"
   ]
  },
  {
   "cell_type": "code",
   "execution_count": 3,
   "metadata": {},
   "outputs": [
    {
     "name": "stderr",
     "output_type": "stream",
     "text": [
      "[qililab] [0.9.0|INFO|2022-10-21 13:12:39]: Connecting to instrument keysight_e5080b_controller.\n",
      "INFO:qililab.config.config:Connecting to instrument keysight_e5080b_controller.\n"
     ]
    }
   ],
   "source": [
    "platform.connect()"
   ]
  },
  {
   "cell_type": "code",
   "execution_count": 4,
   "metadata": {},
   "outputs": [],
   "source": [
    "e5080b = platform.instruments.elements[0]"
   ]
  },
  {
   "cell_type": "code",
   "execution_count": 5,
   "metadata": {},
   "outputs": [
    {
     "data": {
      "text/plain": [
       "qililab.instruments.keysight.e5080b_vna.E5080B"
      ]
     },
     "execution_count": 5,
     "metadata": {},
     "output_type": "execute_result"
    }
   ],
   "source": [
    "type(e5080b)"
   ]
  },
  {
   "cell_type": "code",
   "execution_count": 6,
   "metadata": {},
   "outputs": [
    {
     "data": {
      "text/plain": [
       "'+1\\n'"
      ]
     },
     "execution_count": 6,
     "metadata": {},
     "output_type": "execute_result"
    }
   ],
   "source": [
    "e5080b.read()"
   ]
  },
  {
   "cell_type": "code",
   "execution_count": 7,
   "metadata": {},
   "outputs": [
    {
     "data": {
      "text/plain": [
       "7"
      ]
     },
     "execution_count": 7,
     "metadata": {},
     "output_type": "execute_result"
    }
   ],
   "source": [
    "e5080b.send_command(command=\"*CLS\")"
   ]
  },
  {
   "cell_type": "code",
   "execution_count": 8,
   "metadata": {},
   "outputs": [],
   "source": [
    "e5080b.number_points = 1000"
   ]
  },
  {
   "cell_type": "code",
   "execution_count": 9,
   "metadata": {},
   "outputs": [],
   "source": [
    "e5080b.scattering_parameter = \"S21\""
   ]
  },
  {
   "cell_type": "code",
   "execution_count": 10,
   "metadata": {},
   "outputs": [],
   "source": [
    "e5080b.autoscale()"
   ]
  },
  {
   "cell_type": "code",
   "execution_count": 12,
   "metadata": {},
   "outputs": [
    {
     "data": {
      "text/plain": [
       "10"
      ]
     },
     "execution_count": 12,
     "metadata": {},
     "output_type": "execute_result"
    }
   ],
   "source": [
    "e5080b.output(arg='ON')"
   ]
  },
  {
   "cell_type": "code",
   "execution_count": 13,
   "metadata": {},
   "outputs": [],
   "source": [
    "e5080b.frequency_span = 10e3\n",
    "e5080b.frequency_center = 6e9\n",
    "e5080b.scattering_parameter = \"S21\"\n",
    "e5080b.power = 0\n",
    "e5080b.if_bandwidth = 1000"
   ]
  },
  {
   "cell_type": "code",
   "execution_count": 14,
   "metadata": {},
   "outputs": [],
   "source": [
    "e5080b.power = 0\n",
    "e5080b.frequency_start = 5.5e9\n",
    "e5080b.frequency_stop = 6.5e9\n",
    "e5080b.if_bandwidth = 1000"
   ]
  },
  {
   "cell_type": "code",
   "execution_count": 15,
   "metadata": {},
   "outputs": [],
   "source": [
    "e5080b.electrical_delay(time=\"100E-9\")"
   ]
  },
  {
   "cell_type": "code",
   "execution_count": 16,
   "metadata": {},
   "outputs": [],
   "source": [
    "def mag(real, imag):\n",
    "    return 20*np.log10(np.sqrt(real**2+imag**2))\n",
    "\n",
    "def phase(real,imag):\n",
    "    return np.arctan(imag/real)"
   ]
  },
  {
   "cell_type": "code",
   "execution_count": 17,
   "metadata": {},
   "outputs": [
    {
     "ename": "VisaIOError",
     "evalue": "VI_ERROR_TMO (-1073807339): Timeout expired before operation completed.",
     "output_type": "error",
     "traceback": [
      "\u001b[0;31m---------------------------------------------------------------------------\u001b[0m",
      "\u001b[0;31mVisaIOError\u001b[0m                               Traceback (most recent call last)",
      "\u001b[1;32m/home/asolana/sandbox/qililab/examples/test_vna_e5080B.ipynb Cell 16\u001b[0m in \u001b[0;36m<cell line: 1>\u001b[0;34m()\u001b[0m\n\u001b[0;32m----> <a href='vscode-notebook-cell://ssh-remote%2Bsauron.qqt/home/asolana/sandbox/qililab/examples/test_vna_e5080B.ipynb#X23sdnNjb2RlLXJlbW90ZQ%3D%3D?line=0'>1</a>\u001b[0m S21_complex \u001b[39m=\u001b[39m e5080b\u001b[39m.\u001b[39;49mget_data()\n\u001b[1;32m      <a href='vscode-notebook-cell://ssh-remote%2Bsauron.qqt/home/asolana/sandbox/qililab/examples/test_vna_e5080B.ipynb#X23sdnNjb2RlLXJlbW90ZQ%3D%3D?line=1'>2</a>\u001b[0m mag \u001b[39m=\u001b[39m mag(S21_complex\u001b[39m.\u001b[39mreal, S21_complex\u001b[39m.\u001b[39mimag)\n\u001b[1;32m      <a href='vscode-notebook-cell://ssh-remote%2Bsauron.qqt/home/asolana/sandbox/qililab/examples/test_vna_e5080B.ipynb#X23sdnNjb2RlLXJlbW90ZQ%3D%3D?line=2'>3</a>\u001b[0m phase \u001b[39m=\u001b[39m phase(S21_complex\u001b[39m.\u001b[39mreal, S21_complex\u001b[39m.\u001b[39mimag)\n",
      "File \u001b[0;32m~/sandbox/qililab/src/qililab/instruments/vector_network_analyzer.py:253\u001b[0m, in \u001b[0;36mVectorNetworkAnalyzer.get_data\u001b[0;34m(self)\u001b[0m\n\u001b[1;32m    251\u001b[0m \u001b[39mdef\u001b[39;00m \u001b[39mget_data\u001b[39m(\u001b[39mself\u001b[39m):\n\u001b[1;32m    252\u001b[0m     \u001b[39m\"\"\"get data from device\"\"\"\u001b[39;00m\n\u001b[0;32m--> 253\u001b[0m     \u001b[39mreturn\u001b[39;00m \u001b[39mself\u001b[39;49m\u001b[39m.\u001b[39;49mdevice\u001b[39m.\u001b[39;49mget_data()\n",
      "File \u001b[0;32m~/sandbox/qililab/src/qililab/typings/instruments/vector_network_analyzer.py:111\u001b[0m, in \u001b[0;36mVectorNetworkAnalyzerDriver.get_data\u001b[0;34m(self)\u001b[0m\n\u001b[1;32m    109\u001b[0m \u001b[39m\"\"\"get data\"\"\"\u001b[39;00m\n\u001b[1;32m    110\u001b[0m \u001b[39mself\u001b[39m\u001b[39m.\u001b[39mdriver\u001b[39m.\u001b[39mwrite(\u001b[39m\"\u001b[39m\u001b[39mCALC:MEAS:DATA:Serialized_dATA?\u001b[39m\u001b[39m\"\u001b[39m)\n\u001b[0;32m--> 111\u001b[0m serialized_data \u001b[39m=\u001b[39m \u001b[39mself\u001b[39;49m\u001b[39m.\u001b[39;49mdriver\u001b[39m.\u001b[39;49mread_raw()\n\u001b[1;32m    112\u001b[0m i_0 \u001b[39m=\u001b[39m serialized_data\u001b[39m.\u001b[39mfind(\u001b[39mb\u001b[39m\u001b[39m\"\u001b[39m\u001b[39m#\u001b[39m\u001b[39m\"\u001b[39m)\n\u001b[1;32m    113\u001b[0m number_digits \u001b[39m=\u001b[39m \u001b[39mint\u001b[39m(serialized_data[i_0 \u001b[39m+\u001b[39m \u001b[39m1\u001b[39m : i_0 \u001b[39m+\u001b[39m \u001b[39m2\u001b[39m])\n",
      "File \u001b[0;32m~/venv_qililab/lib/python3.10/site-packages/pyvisa/resources/messagebased.py:405\u001b[0m, in \u001b[0;36mMessageBasedResource.read_raw\u001b[0;34m(self, size)\u001b[0m\n\u001b[1;32m    388\u001b[0m \u001b[39mdef\u001b[39;00m \u001b[39mread_raw\u001b[39m(\u001b[39mself\u001b[39m, size: Optional[\u001b[39mint\u001b[39m] \u001b[39m=\u001b[39m \u001b[39mNone\u001b[39;00m) \u001b[39m-\u001b[39m\u001b[39m>\u001b[39m \u001b[39mbytes\u001b[39m:\n\u001b[1;32m    389\u001b[0m     \u001b[39m\"\"\"Read the unmodified string sent from the instrument to the computer.\u001b[39;00m\n\u001b[1;32m    390\u001b[0m \n\u001b[1;32m    391\u001b[0m \u001b[39m    In contrast to read(), no termination characters are stripped.\u001b[39;00m\n\u001b[0;32m   (...)\u001b[0m\n\u001b[1;32m    403\u001b[0m \n\u001b[1;32m    404\u001b[0m \u001b[39m    \"\"\"\u001b[39;00m\n\u001b[0;32m--> 405\u001b[0m     \u001b[39mreturn\u001b[39;00m \u001b[39mbytes\u001b[39m(\u001b[39mself\u001b[39;49m\u001b[39m.\u001b[39;49m_read_raw(size))\n",
      "File \u001b[0;32m~/venv_qililab/lib/python3.10/site-packages/pyvisa/resources/messagebased.py:442\u001b[0m, in \u001b[0;36mMessageBasedResource._read_raw\u001b[0;34m(self, size)\u001b[0m\n\u001b[1;32m    435\u001b[0m     \u001b[39mwhile\u001b[39;00m status \u001b[39m==\u001b[39m loop_status:\n\u001b[1;32m    436\u001b[0m         logger\u001b[39m.\u001b[39mdebug(\n\u001b[1;32m    437\u001b[0m             \u001b[39m\"\u001b[39m\u001b[39m%s\u001b[39;00m\u001b[39m - reading \u001b[39m\u001b[39m%d\u001b[39;00m\u001b[39m bytes (last status \u001b[39m\u001b[39m%r\u001b[39;00m\u001b[39m)\u001b[39m\u001b[39m\"\u001b[39m,\n\u001b[1;32m    438\u001b[0m             \u001b[39mself\u001b[39m\u001b[39m.\u001b[39m_resource_name,\n\u001b[1;32m    439\u001b[0m             size,\n\u001b[1;32m    440\u001b[0m             status,\n\u001b[1;32m    441\u001b[0m         )\n\u001b[0;32m--> 442\u001b[0m         chunk, status \u001b[39m=\u001b[39m \u001b[39mself\u001b[39;49m\u001b[39m.\u001b[39;49mvisalib\u001b[39m.\u001b[39;49mread(\u001b[39mself\u001b[39;49m\u001b[39m.\u001b[39;49msession, size)\n\u001b[1;32m    443\u001b[0m         ret\u001b[39m.\u001b[39mextend(chunk)\n\u001b[1;32m    444\u001b[0m \u001b[39mexcept\u001b[39;00m errors\u001b[39m.\u001b[39mVisaIOError \u001b[39mas\u001b[39;00m e:\n",
      "File \u001b[0;32m~/venv_qililab/lib/python3.10/site-packages/pyvisa_py/highlevel.py:519\u001b[0m, in \u001b[0;36mPyVisaLibrary.read\u001b[0;34m(self, session, count)\u001b[0m\n\u001b[1;32m    513\u001b[0m \u001b[39mexcept\u001b[39;00m \u001b[39mKeyError\u001b[39;00m:\n\u001b[1;32m    514\u001b[0m     \u001b[39mreturn\u001b[39;00m (\n\u001b[1;32m    515\u001b[0m         \u001b[39mb\u001b[39m\u001b[39m\"\u001b[39m\u001b[39m\"\u001b[39m,\n\u001b[1;32m    516\u001b[0m         \u001b[39mself\u001b[39m\u001b[39m.\u001b[39mhandle_return_value(session, StatusCode\u001b[39m.\u001b[39merror_invalid_object),\n\u001b[1;32m    517\u001b[0m     )\n\u001b[0;32m--> 519\u001b[0m \u001b[39mreturn\u001b[39;00m data, \u001b[39mself\u001b[39;49m\u001b[39m.\u001b[39;49mhandle_return_value(session, status_code)\n",
      "File \u001b[0;32m~/venv_qililab/lib/python3.10/site-packages/pyvisa/highlevel.py:251\u001b[0m, in \u001b[0;36mVisaLibraryBase.handle_return_value\u001b[0;34m(self, session, status_code)\u001b[0m\n\u001b[1;32m    248\u001b[0m     \u001b[39mself\u001b[39m\u001b[39m.\u001b[39m_last_status_in_session[session] \u001b[39m=\u001b[39m rv\n\u001b[1;32m    250\u001b[0m \u001b[39mif\u001b[39;00m rv \u001b[39m<\u001b[39m \u001b[39m0\u001b[39m:\n\u001b[0;32m--> 251\u001b[0m     \u001b[39mraise\u001b[39;00m errors\u001b[39m.\u001b[39mVisaIOError(rv)\n\u001b[1;32m    253\u001b[0m \u001b[39mif\u001b[39;00m rv \u001b[39min\u001b[39;00m \u001b[39mself\u001b[39m\u001b[39m.\u001b[39missue_warning_on:\n\u001b[1;32m    254\u001b[0m     \u001b[39mif\u001b[39;00m session \u001b[39mand\u001b[39;00m rv \u001b[39mnot\u001b[39;00m \u001b[39min\u001b[39;00m \u001b[39mself\u001b[39m\u001b[39m.\u001b[39m_ignore_warning_in_session[session]:\n",
      "\u001b[0;31mVisaIOError\u001b[0m: VI_ERROR_TMO (-1073807339): Timeout expired before operation completed."
     ]
    }
   ],
   "source": [
    "S21_complex = e5080b.get_data()\n",
    "mag = mag(S21_complex.real, S21_complex.imag)\n",
    "phase = phase(S21_complex.real, S21_complex.imag)\n",
    "freq = np.linspace(freq_start,freq_stop,nPoint)*1e-9"
   ]
  },
  {
   "cell_type": "code",
   "execution_count": null,
   "metadata": {},
   "outputs": [],
   "source": [
    "plt.plot(freq,mag)"
   ]
  },
  {
   "cell_type": "code",
   "execution_count": null,
   "metadata": {},
   "outputs": [],
   "source": [
    "freq"
   ]
  },
  {
   "cell_type": "code",
   "execution_count": 10,
   "metadata": {},
   "outputs": [
    {
     "name": "stderr",
     "output_type": "stream",
     "text": [
      "[qililab] [0.9.0|INFO|2022-10-21 13:12:30]: Closing instrument keysight_e5080b_controller.\n",
      "INFO:qililab.config.config:Closing instrument keysight_e5080b_controller.\n"
     ]
    }
   ],
   "source": [
    "platform.close()"
   ]
  },
  {
   "cell_type": "code",
   "execution_count": null,
   "metadata": {},
   "outputs": [],
   "source": []
  }
 ],
 "metadata": {
  "kernelspec": {
   "display_name": "Python 3.10.5",
   "language": "python",
   "name": "python3"
  },
  "language_info": {
   "codemirror_mode": {
    "name": "ipython",
    "version": 3
   },
   "file_extension": ".py",
   "mimetype": "text/x-python",
   "name": "python",
   "nbconvert_exporter": "python",
   "pygments_lexer": "ipython3",
   "version": "3.10.5"
  },
  "orig_nbformat": 4,
  "vscode": {
   "interpreter": {
    "hash": "a3da51679728402673238aaf81fab2d59d11ba07a5977242c92bf045577b6146"
   }
  }
 },
 "nbformat": 4,
 "nbformat_minor": 2
}
