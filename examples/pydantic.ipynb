{
 "cells": [
  {
   "cell_type": "code",
   "execution_count": 1,
   "id": "c20a06bf",
   "metadata": {},
   "outputs": [
    {
     "name": "stdout",
     "output_type": "stream",
     "text": [
      "2025-06-25 18:07:09,189 - qm - INFO     - Starting session: 24f5f700-4998-424d-8393-1629aded124c\n"
     ]
    }
   ],
   "source": [
    "from qililab.controllers.qblox_cluster_controller import QbloxClusterController\n",
    "from qililab.controllers.qdevil_qdac2_controller import QDevilQDAC2Controller\n",
    "from qililab.runcard.runcard import Runcard\n",
    "from qililab.settings.controllers.qblox_cluster_controller_settings import (\n",
    "    QbloxClusterControllerSettings,\n",
    "    QbloxClusterModule,\n",
    ")\n",
    "from qililab.settings.controllers.qdevil_qdac2_controller_settings import QDevilQDAC2ControllerSettings"
   ]
  },
  {
   "cell_type": "code",
   "execution_count": 2,
   "id": "90761265",
   "metadata": {},
   "outputs": [
    {
     "data": {
      "text/plain": [
       "QDevilQDAC2Controller(settings=alias='qdac2' connection=ConnectionSettings(type=<ConnectionType.TCP_IP: 'tcp_ip'>, address='168.0.0.1') reset=True)"
      ]
     },
     "execution_count": 2,
     "metadata": {},
     "output_type": "execute_result"
    }
   ],
   "source": [
    "qdac2 = QDevilQDAC2Controller(settings=QDevilQDAC2ControllerSettings(alias=\"qdac2\"))\n",
    "qdac2"
   ]
  },
  {
   "cell_type": "code",
   "execution_count": 3,
   "id": "fd6afd09",
   "metadata": {},
   "outputs": [],
   "source": [
    "cluster = QbloxClusterController(\n",
    "    settings=QbloxClusterControllerSettings(\n",
    "        alias=\"cluster\", modules={0: QbloxClusterModule.QCM, 1: QbloxClusterModule.QRM}\n",
    "    )\n",
    ")"
   ]
  },
  {
   "cell_type": "code",
   "execution_count": 4,
   "id": "39dec8d6",
   "metadata": {},
   "outputs": [
    {
     "data": {
      "text/plain": [
       "Runcard(name='my_lab', controllers=[])"
      ]
     },
     "execution_count": 4,
     "metadata": {},
     "output_type": "execute_result"
    }
   ],
   "source": [
    "runcard = Runcard(name=\"my_lab\")\n",
    "runcard"
   ]
  },
  {
   "cell_type": "code",
   "execution_count": 5,
   "id": "fef4aafc",
   "metadata": {},
   "outputs": [
    {
     "data": {
      "text/plain": [
       "Runcard(name='my_lab', controllers=[QDevilQDAC2RuncardController(type=<ControllerType.QDEVIL_QDAC2_CONTROLLER: 'qdac2_controller'>, settings=QDevilQDAC2ControllerSettings(alias='qdac2', connection=ConnectionSettings(type=<ConnectionType.TCP_IP: 'tcp_ip'>, address='168.0.0.1'), reset=True)), QbloxClusterRuncardController(type=<ControllerType.QBLOX_CLUSTER_CONTROLLER: 'qblox_cluster_controller'>, settings=QbloxClusterControllerSettings(alias='cluster', connection=ConnectionSettings(type=<ConnectionType.TCP_IP: 'tcp_ip'>, address='168.0.0.1'), reset=True, modules={0: <QbloxClusterModule.QCM: 'QCM'>, 1: <QbloxClusterModule.QRM: 'QRM'>}))])"
      ]
     },
     "execution_count": 5,
     "metadata": {},
     "output_type": "execute_result"
    }
   ],
   "source": [
    "runcard.add_controller(qdac2)\n",
    "runcard.add_controller(cluster)\n",
    "runcard"
   ]
  },
  {
   "cell_type": "code",
   "execution_count": 6,
   "id": "c8ee8b4e",
   "metadata": {},
   "outputs": [],
   "source": [
    "runcard.save_to(\"runcard.yml\")"
   ]
  },
  {
   "cell_type": "code",
   "execution_count": 7,
   "id": "a4c4944d",
   "metadata": {},
   "outputs": [
    {
     "data": {
      "text/plain": [
       "Runcard(name='my_lab', controllers=[QDevilQDAC2RuncardController(type=<ControllerType.QDEVIL_QDAC2_CONTROLLER: 'qdac2_controller'>, settings=QDevilQDAC2ControllerSettings(alias='qdac2', connection=ConnectionSettings(type=<ConnectionType.TCP_IP: 'tcp_ip'>, address='168.0.0.1'), reset=True)), QbloxClusterRuncardController(type=<ControllerType.QBLOX_CLUSTER_CONTROLLER: 'qblox_cluster_controller'>, settings=QbloxClusterControllerSettings(alias='cluster', connection=ConnectionSettings(type=<ConnectionType.TCP_IP: 'tcp_ip'>, address='168.0.0.1'), reset=True, modules={0: <QbloxClusterModule.QCM: 'QCM'>, 1: <QbloxClusterModule.QRM: 'QRM'>}))])"
      ]
     },
     "execution_count": 7,
     "metadata": {},
     "output_type": "execute_result"
    }
   ],
   "source": [
    "loaded_runcard = Runcard.load_from(\"runcard.yml\")\n",
    "loaded_runcard"
   ]
  },
  {
   "cell_type": "code",
   "execution_count": 8,
   "id": "ab71f7f1",
   "metadata": {},
   "outputs": [],
   "source": [
    "from qililab.settings.port import IntPort, ModulePort, NoPort, Port"
   ]
  },
  {
   "cell_type": "code",
   "execution_count": 9,
   "id": "a470a855",
   "metadata": {},
   "outputs": [],
   "source": [
    "from typing import ClassVar, Generic, Type, TypeVar\n",
    "\n",
    "from pydantic import BaseModel\n",
    "\n",
    "P = TypeVar(\"P\", bound=Port)  # “shape of the port”\n",
    "\n",
    "\n",
    "class Instrument(BaseModel, Generic[P]):\n",
    "    \"\"\"\n",
    "    Base class for all instruments.\n",
    "\n",
    "    Sub-classes must override the `Port` ClassVar with the model that\n",
    "    describes *their* port shape.\n",
    "    \"\"\"\n",
    "\n",
    "    Port: ClassVar[Type[P]]  # <- not a Pydantic field\n",
    "    name: str\n",
    "\n",
    "    # -------- default validator (may be overridden) ------------------\n",
    "    @classmethod\n",
    "    def validate_port(cls, port: P) -> P:\n",
    "        \"\"\"Override this to enforce instrument-specific constraints.\"\"\"\n",
    "        return port  # default: accept anything\n",
    "\n",
    "\n",
    "# ---- concrete instruments --------------------------------------------------\n",
    "\n",
    "\n",
    "class Thermometer(Instrument[IntPort]):\n",
    "    Port = IntPort\n",
    "\n",
    "    @classmethod\n",
    "    def validate_port(cls, port: IntPort) -> IntPort:\n",
    "        if not 0 <= port.id <= 32:\n",
    "            raise ValueError(\"Thermometer: id must be 0-32\")\n",
    "        return port  # simple integer port\n",
    "\n",
    "\n",
    "class Spectrometer(Instrument[ModulePort]):\n",
    "    Port = ModulePort  # module, channel\n",
    "\n",
    "    @classmethod\n",
    "    def validate_port(cls, port: ModulePort) -> ModulePort:\n",
    "        if not 0 <= port.module <= 31:\n",
    "            raise ValueError(\"Spectrometer has modules 0-31\")\n",
    "        if not 1 <= port.port <= 4:\n",
    "            raise ValueError(\"Spectrometer's modules has ports 1-4\")\n",
    "        return port\n",
    "\n",
    "\n",
    "class Pump(Instrument[NoPort]):\n",
    "    Port = NoPort  # no port at all"
   ]
  },
  {
   "cell_type": "code",
   "execution_count": 10,
   "id": "8566795d",
   "metadata": {},
   "outputs": [],
   "source": [
    "from pydantic import model_validator\n",
    "\n",
    "I = TypeVar(\"I\", bound=Instrument)\n",
    "\n",
    "\n",
    "class Bus(BaseModel):\n",
    "    name: str\n",
    "    address: str\n",
    "\n",
    "\n",
    "class Association(BaseModel, Generic[I, P]):\n",
    "    \"\"\"\n",
    "    An instrument wired to a bus **through** a particular port value.\n",
    "    \"\"\"\n",
    "\n",
    "    bus: Bus\n",
    "    instrument: I\n",
    "    port: P\n",
    "\n",
    "    # --- runtime check that `port` matches `instrument.Port` ----------\n",
    "    @model_validator(mode=\"after\")\n",
    "    def check_port_matches_instrument(self):\n",
    "        expected_model = self.instrument.Port\n",
    "        if not isinstance(self.port, expected_model):\n",
    "            raise ValueError(\n",
    "                f\"Port must be of type {expected_model.__name__} \" f\"for {self.instrument.__class__.__name__}\"\n",
    "            )\n",
    "\n",
    "        # 2) Delegate value checks to the instrument -------------------------\n",
    "        self.instrument.__class__.validate_port(self.port)\n",
    "        return self"
   ]
  },
  {
   "cell_type": "code",
   "execution_count": 11,
   "id": "5376015f",
   "metadata": {},
   "outputs": [],
   "source": [
    "ThermoAssoc = Association[Thermometer, IntPort]\n",
    "SpectroAssoc = Association[Spectrometer, ModulePort]\n",
    "PumpAssoc = Association[Pump, NoPort]"
   ]
  },
  {
   "cell_type": "code",
   "execution_count": 12,
   "id": "286e3858",
   "metadata": {},
   "outputs": [
    {
     "ename": "ValidationError",
     "evalue": "1 validation error for Association\n  Value error, Spectrometer's modules has ports 1-4 [type=value_error, input_value={'bus': Bus(name='Main PL...ule', module=2, port=0)}, input_type=dict]\n    For further information visit https://errors.pydantic.dev/2.11/v/value_error",
     "output_type": "error",
     "traceback": [
      "\u001b[0;31m---------------------------------------------------------------------------\u001b[0m",
      "\u001b[0;31mValidationError\u001b[0m                           Traceback (most recent call last)",
      "Cell \u001b[0;32mIn[12], line 8\u001b[0m\n\u001b[1;32m      5\u001b[0m OK \u001b[38;5;241m=\u001b[39m Association(bus\u001b[38;5;241m=\u001b[39mbus1, instrument\u001b[38;5;241m=\u001b[39mT1, port\u001b[38;5;241m=\u001b[39mIntPort(\u001b[38;5;28mid\u001b[39m\u001b[38;5;241m=\u001b[39m\u001b[38;5;241m3\u001b[39m))         \u001b[38;5;66;03m# ✅\u001b[39;00m\n\u001b[1;32m      7\u001b[0m S1 \u001b[38;5;241m=\u001b[39m Spectrometer(name\u001b[38;5;241m=\u001b[39m\u001b[38;5;124m\"\u001b[39m\u001b[38;5;124mS-1\u001b[39m\u001b[38;5;124m\"\u001b[39m)\n\u001b[0;32m----> 8\u001b[0m OK2 \u001b[38;5;241m=\u001b[39m \u001b[43mAssociation\u001b[49m\u001b[43m(\u001b[49m\u001b[43mbus\u001b[49m\u001b[38;5;241;43m=\u001b[39;49m\u001b[43mbus1\u001b[49m\u001b[43m,\u001b[49m\u001b[43m \u001b[49m\u001b[43minstrument\u001b[49m\u001b[38;5;241;43m=\u001b[39;49m\u001b[43mS1\u001b[49m\u001b[43m,\u001b[49m\u001b[43m \u001b[49m\u001b[43mport\u001b[49m\u001b[38;5;241;43m=\u001b[39;49m\u001b[43mModulePort\u001b[49m\u001b[43m(\u001b[49m\u001b[43mmodule\u001b[49m\u001b[38;5;241;43m=\u001b[39;49m\u001b[38;5;241;43m2\u001b[39;49m\u001b[43m,\u001b[49m\u001b[43m \u001b[49m\u001b[43mport\u001b[49m\u001b[38;5;241;43m=\u001b[39;49m\u001b[38;5;241;43m0\u001b[39;49m\u001b[43m)\u001b[49m\u001b[43m)\u001b[49m                 \u001b[38;5;66;03m# ✅\u001b[39;00m\n\u001b[1;32m     10\u001b[0m \u001b[38;5;66;03m# --- type-checker will reject this (and runtime will raise) ----------\u001b[39;00m\n\u001b[1;32m     11\u001b[0m BAD \u001b[38;5;241m=\u001b[39m Association(bus\u001b[38;5;241m=\u001b[39mbus1, instrument\u001b[38;5;241m=\u001b[39mS1, port\u001b[38;5;241m=\u001b[39mIntPort(\u001b[38;5;28mid\u001b[39m\u001b[38;5;241m=\u001b[39m\u001b[38;5;241m99\u001b[39m))  \u001b[38;5;66;03m# ❌ mypy + ValidationError\u001b[39;00m\n",
      "File \u001b[0;32m~/Projects/qilimanjaro/qililab/.venv/lib/python3.10/site-packages/pydantic/main.py:253\u001b[0m, in \u001b[0;36mBaseModel.__init__\u001b[0;34m(self, **data)\u001b[0m\n\u001b[1;32m    251\u001b[0m \u001b[38;5;66;03m# `__tracebackhide__` tells pytest and some other tools to omit this function from tracebacks\u001b[39;00m\n\u001b[1;32m    252\u001b[0m __tracebackhide__ \u001b[38;5;241m=\u001b[39m \u001b[38;5;28;01mTrue\u001b[39;00m\n\u001b[0;32m--> 253\u001b[0m validated_self \u001b[38;5;241m=\u001b[39m \u001b[38;5;28;43mself\u001b[39;49m\u001b[38;5;241;43m.\u001b[39;49m\u001b[43m__pydantic_validator__\u001b[49m\u001b[38;5;241;43m.\u001b[39;49m\u001b[43mvalidate_python\u001b[49m\u001b[43m(\u001b[49m\u001b[43mdata\u001b[49m\u001b[43m,\u001b[49m\u001b[43m \u001b[49m\u001b[43mself_instance\u001b[49m\u001b[38;5;241;43m=\u001b[39;49m\u001b[38;5;28;43mself\u001b[39;49m\u001b[43m)\u001b[49m\n\u001b[1;32m    254\u001b[0m \u001b[38;5;28;01mif\u001b[39;00m \u001b[38;5;28mself\u001b[39m \u001b[38;5;129;01mis\u001b[39;00m \u001b[38;5;129;01mnot\u001b[39;00m validated_self:\n\u001b[1;32m    255\u001b[0m     warnings\u001b[38;5;241m.\u001b[39mwarn(\n\u001b[1;32m    256\u001b[0m         \u001b[38;5;124m'\u001b[39m\u001b[38;5;124mA custom validator is returning a value other than `self`.\u001b[39m\u001b[38;5;130;01m\\n\u001b[39;00m\u001b[38;5;124m'\u001b[39m\n\u001b[1;32m    257\u001b[0m         \u001b[38;5;124m\"\u001b[39m\u001b[38;5;124mReturning anything other than `self` from a top level model validator isn\u001b[39m\u001b[38;5;124m'\u001b[39m\u001b[38;5;124mt supported when validating via `__init__`.\u001b[39m\u001b[38;5;130;01m\\n\u001b[39;00m\u001b[38;5;124m\"\u001b[39m\n\u001b[1;32m    258\u001b[0m         \u001b[38;5;124m'\u001b[39m\u001b[38;5;124mSee the `model_validator` docs (https://docs.pydantic.dev/latest/concepts/validators/#model-validators) for more details.\u001b[39m\u001b[38;5;124m'\u001b[39m,\n\u001b[1;32m    259\u001b[0m         stacklevel\u001b[38;5;241m=\u001b[39m\u001b[38;5;241m2\u001b[39m,\n\u001b[1;32m    260\u001b[0m     )\n",
      "\u001b[0;31mValidationError\u001b[0m: 1 validation error for Association\n  Value error, Spectrometer's modules has ports 1-4 [type=value_error, input_value={'bus': Bus(name='Main PL...ule', module=2, port=0)}, input_type=dict]\n    For further information visit https://errors.pydantic.dev/2.11/v/value_error"
     ]
    }
   ],
   "source": [
    "# ────────────────────────────────────────────\n",
    "bus1 = Bus(name=\"Main PLC\", address=\"192.168.0.10\")\n",
    "\n",
    "T1 = Thermometer(name=\"T-1\")\n",
    "OK = Association(bus=bus1, instrument=T1, port=IntPort(id=3))  # ✅\n",
    "\n",
    "S1 = Spectrometer(name=\"S-1\")\n",
    "OK2 = Association(bus=bus1, instrument=S1, port=ModulePort(module=2, port=0))  # ✅\n",
    "\n",
    "# --- type-checker will reject this (and runtime will raise) ----------\n",
    "BAD = Association(bus=bus1, instrument=S1, port=IntPort(id=99))  # ❌ mypy + ValidationError"
   ]
  },
  {
   "cell_type": "code",
   "execution_count": null,
   "id": "c134272c",
   "metadata": {},
   "outputs": [
    {
     "ename": "ValidationError",
     "evalue": "1 validation error for Association[Spectrometer, ModulePort]\nport\n  Input should be a valid dictionary or instance of ModulePort [type=model_type, input_value=IntPort(kind='int', id=99), input_type=IntPort]\n    For further information visit https://errors.pydantic.dev/2.11/v/model_type",
     "output_type": "error",
     "traceback": [
      "\u001b[0;31m---------------------------------------------------------------------------\u001b[0m",
      "\u001b[0;31mValidationError\u001b[0m                           Traceback (most recent call last)",
      "Cell \u001b[0;32mIn[13], line 11\u001b[0m\n\u001b[1;32m      8\u001b[0m OK2 \u001b[38;5;241m=\u001b[39m SpectroAssoc(bus\u001b[38;5;241m=\u001b[39mbus1, instrument\u001b[38;5;241m=\u001b[39mS1, port\u001b[38;5;241m=\u001b[39mModulePort(module\u001b[38;5;241m=\u001b[39m\u001b[38;5;241m2\u001b[39m, port\u001b[38;5;241m=\u001b[39m\u001b[38;5;241m0\u001b[39m))  \u001b[38;5;66;03m# ✅\u001b[39;00m\n\u001b[1;32m     10\u001b[0m \u001b[38;5;66;03m# --- type-checker will reject this (and runtime will raise) ----------\u001b[39;00m\n\u001b[0;32m---> 11\u001b[0m BAD \u001b[38;5;241m=\u001b[39m \u001b[43mSpectroAssoc\u001b[49m\u001b[43m(\u001b[49m\u001b[43mbus\u001b[49m\u001b[38;5;241;43m=\u001b[39;49m\u001b[43mbus1\u001b[49m\u001b[43m,\u001b[49m\u001b[43m \u001b[49m\u001b[43minstrument\u001b[49m\u001b[38;5;241;43m=\u001b[39;49m\u001b[43mS1\u001b[49m\u001b[43m,\u001b[49m\u001b[43m \u001b[49m\u001b[43mport\u001b[49m\u001b[38;5;241;43m=\u001b[39;49m\u001b[43mIntPort\u001b[49m\u001b[43m(\u001b[49m\u001b[38;5;28;43mid\u001b[39;49m\u001b[38;5;241;43m=\u001b[39;49m\u001b[38;5;241;43m99\u001b[39;49m\u001b[43m)\u001b[49m\u001b[43m)\u001b[49m  \u001b[38;5;66;03m# ❌ mypy + ValidationError\u001b[39;00m\n",
      "File \u001b[0;32m~/Projects/qilimanjaro/qililab/.venv/lib/python3.10/site-packages/pydantic/main.py:253\u001b[0m, in \u001b[0;36mBaseModel.__init__\u001b[0;34m(self, **data)\u001b[0m\n\u001b[1;32m    251\u001b[0m \u001b[38;5;66;03m# `__tracebackhide__` tells pytest and some other tools to omit this function from tracebacks\u001b[39;00m\n\u001b[1;32m    252\u001b[0m __tracebackhide__ \u001b[38;5;241m=\u001b[39m \u001b[38;5;28;01mTrue\u001b[39;00m\n\u001b[0;32m--> 253\u001b[0m validated_self \u001b[38;5;241m=\u001b[39m \u001b[38;5;28;43mself\u001b[39;49m\u001b[38;5;241;43m.\u001b[39;49m\u001b[43m__pydantic_validator__\u001b[49m\u001b[38;5;241;43m.\u001b[39;49m\u001b[43mvalidate_python\u001b[49m\u001b[43m(\u001b[49m\u001b[43mdata\u001b[49m\u001b[43m,\u001b[49m\u001b[43m \u001b[49m\u001b[43mself_instance\u001b[49m\u001b[38;5;241;43m=\u001b[39;49m\u001b[38;5;28;43mself\u001b[39;49m\u001b[43m)\u001b[49m\n\u001b[1;32m    254\u001b[0m \u001b[38;5;28;01mif\u001b[39;00m \u001b[38;5;28mself\u001b[39m \u001b[38;5;129;01mis\u001b[39;00m \u001b[38;5;129;01mnot\u001b[39;00m validated_self:\n\u001b[1;32m    255\u001b[0m     warnings\u001b[38;5;241m.\u001b[39mwarn(\n\u001b[1;32m    256\u001b[0m         \u001b[38;5;124m'\u001b[39m\u001b[38;5;124mA custom validator is returning a value other than `self`.\u001b[39m\u001b[38;5;130;01m\\n\u001b[39;00m\u001b[38;5;124m'\u001b[39m\n\u001b[1;32m    257\u001b[0m         \u001b[38;5;124m\"\u001b[39m\u001b[38;5;124mReturning anything other than `self` from a top level model validator isn\u001b[39m\u001b[38;5;124m'\u001b[39m\u001b[38;5;124mt supported when validating via `__init__`.\u001b[39m\u001b[38;5;130;01m\\n\u001b[39;00m\u001b[38;5;124m\"\u001b[39m\n\u001b[1;32m    258\u001b[0m         \u001b[38;5;124m'\u001b[39m\u001b[38;5;124mSee the `model_validator` docs (https://docs.pydantic.dev/latest/concepts/validators/#model-validators) for more details.\u001b[39m\u001b[38;5;124m'\u001b[39m,\n\u001b[1;32m    259\u001b[0m         stacklevel\u001b[38;5;241m=\u001b[39m\u001b[38;5;241m2\u001b[39m,\n\u001b[1;32m    260\u001b[0m     )\n",
      "\u001b[0;31mValidationError\u001b[0m: 1 validation error for Association[Spectrometer, ModulePort]\nport\n  Input should be a valid dictionary or instance of ModulePort [type=model_type, input_value=IntPort(kind='int', id=99), input_type=IntPort]\n    For further information visit https://errors.pydantic.dev/2.11/v/model_type"
     ]
    }
   ],
   "source": [
    "# ────────────────────────────────────────────\n",
    "bus1 = Bus(name=\"Main PLC\", address=\"192.168.0.10\")\n",
    "\n",
    "T1 = Thermometer(name=\"T-1\")\n",
    "OK = ThermoAssoc(bus=bus1, instrument=T1, port=IntPort(id=3))  # ✅\n",
    "\n",
    "S1 = Spectrometer(name=\"S-1\")\n",
    "OK2 = SpectroAssoc(bus=bus1, instrument=S1, port=ModulePort(module=2, port=0))  # ✅\n",
    "\n",
    "# --- type-checker will reject this (and runtime will raise) ----------\n",
    "BAD = SpectroAssoc(bus=bus1, instrument=S1, port=IntPort(id=99))  # ❌ mypy + ValidationError"
   ]
  }
 ],
 "metadata": {
  "kernelspec": {
   "display_name": ".venv",
   "language": "python",
   "name": "python3"
  },
  "language_info": {
   "codemirror_mode": {
    "name": "ipython",
    "version": 3
   },
   "file_extension": ".py",
   "mimetype": "text/x-python",
   "name": "python",
   "nbconvert_exporter": "python",
   "pygments_lexer": "ipython3",
   "version": "3.10.15"
  }
 },
 "nbformat": 4,
 "nbformat_minor": 5
}
