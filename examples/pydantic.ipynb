{
 "cells": [
  {
   "cell_type": "code",
   "execution_count": 1,
   "id": "c20a06bf",
   "metadata": {},
   "outputs": [
    {
     "name": "stdout",
     "output_type": "stream",
     "text": [
      "2025-06-18 17:18:52,170 - qm - INFO     - Starting session: d5670408-9441-4c33-a5b9-510b40d21ae5\n"
     ]
    }
   ],
   "source": [
    "from qililab.controllers.qdevil_qdac2_controller import QDevilQDAC2Controller\n",
    "from qililab.runcard.runcard import Runcard\n",
    "from qililab.settings.controllers.qdevil_qdac2_controller_settings import QDevilQDAC2ControllerSettings"
   ]
  },
  {
   "cell_type": "code",
   "execution_count": 2,
   "id": "90761265",
   "metadata": {},
   "outputs": [
    {
     "data": {
      "text/plain": [
       "QDevilQDAC2Controller(settings=alias='qdac2' connection=ConnectionSettings(type=<ConnectionType.TCP_IP: 'tcp_ip'>, address='168.0.0.1') reset=True)"
      ]
     },
     "execution_count": 2,
     "metadata": {},
     "output_type": "execute_result"
    }
   ],
   "source": [
    "qdac2 = QDevilQDAC2Controller(settings=QDevilQDAC2ControllerSettings(alias=\"qdac2\"))\n",
    "qdac2"
   ]
  },
  {
   "cell_type": "code",
   "execution_count": 3,
   "id": "39dec8d6",
   "metadata": {},
   "outputs": [
    {
     "data": {
      "text/plain": [
       "Runcard(name='my_lab', controllers=[])"
      ]
     },
     "execution_count": 3,
     "metadata": {},
     "output_type": "execute_result"
    }
   ],
   "source": [
    "runcard = Runcard(name=\"my_lab\")\n",
    "runcard"
   ]
  },
  {
   "cell_type": "code",
   "execution_count": 4,
   "id": "fef4aafc",
   "metadata": {},
   "outputs": [
    {
     "data": {
      "text/plain": [
       "Runcard(name='my_lab', controllers=[QDevilQDAC2RuncardInstrumentController(type=<ControllerType.QDEVIL_QDAC2_CONTROLLER: 'qdac2_controller'>, settings=QDevilQDAC2ControllerSettings(alias='qdac2', connection=ConnectionSettings(type=<ConnectionType.TCP_IP: 'tcp_ip'>, address='168.0.0.1'), reset=True))])"
      ]
     },
     "execution_count": 4,
     "metadata": {},
     "output_type": "execute_result"
    }
   ],
   "source": [
    "runcard.add_controller(qdac2)\n",
    "runcard"
   ]
  },
  {
   "cell_type": "code",
   "execution_count": 5,
   "id": "c8ee8b4e",
   "metadata": {},
   "outputs": [],
   "source": [
    "runcard.save_to(\"runcard.yml\")"
   ]
  }
 ],
 "metadata": {
  "kernelspec": {
   "display_name": ".venv",
   "language": "python",
   "name": "python3"
  },
  "language_info": {
   "codemirror_mode": {
    "name": "ipython",
    "version": 3
   },
   "file_extension": ".py",
   "mimetype": "text/x-python",
   "name": "python",
   "nbconvert_exporter": "python",
   "pygments_lexer": "ipython3",
   "version": "3.10.15"
  }
 },
 "nbformat": 4,
 "nbformat_minor": 5
}
