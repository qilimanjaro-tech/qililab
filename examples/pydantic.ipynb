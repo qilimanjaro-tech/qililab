{
 "cells": [
  {
   "cell_type": "code",
   "execution_count": 1,
   "id": "c20a06bf",
   "metadata": {},
   "outputs": [
    {
     "name": "stdout",
     "output_type": "stream",
     "text": [
      "2025-06-18 18:58:11,259 - qm - INFO     - Starting session: 1b91ceb0-4270-42de-8475-976ecf8035bc\n"
     ]
    }
   ],
   "source": [
    "from qililab.controllers.qblox_cluster_controller import QbloxClusterController\n",
    "from qililab.controllers.qdevil_qdac2_controller import QDevilQDAC2Controller\n",
    "from qililab.runcard.runcard import Runcard\n",
    "from qililab.settings.controllers.qblox_cluster_controller_settings import (\n",
    "    QbloxClusterControllerSettings,\n",
    "    QbloxClusterModule,\n",
    ")\n",
    "from qililab.settings.controllers.qdevil_qdac2_controller_settings import QDevilQDAC2ControllerSettings"
   ]
  },
  {
   "cell_type": "code",
   "execution_count": 2,
   "id": "90761265",
   "metadata": {},
   "outputs": [
    {
     "data": {
      "text/plain": [
       "QDevilQDAC2Controller(settings=alias='qdac2' connection=ConnectionSettings(type=<ConnectionType.TCP_IP: 'tcp_ip'>, address='168.0.0.1') reset=True)"
      ]
     },
     "execution_count": 2,
     "metadata": {},
     "output_type": "execute_result"
    }
   ],
   "source": [
    "qdac2 = QDevilQDAC2Controller(settings=QDevilQDAC2ControllerSettings(alias=\"qdac2\"))\n",
    "qdac2"
   ]
  },
  {
   "cell_type": "code",
   "execution_count": 3,
   "id": "fd6afd09",
   "metadata": {},
   "outputs": [],
   "source": [
    "cluster = QbloxClusterController(\n",
    "    settings=QbloxClusterControllerSettings(\n",
    "        alias=\"cluster\", modules={0: QbloxClusterModule.QCM, 1: QbloxClusterModule.QRM}\n",
    "    )\n",
    ")"
   ]
  },
  {
   "cell_type": "code",
   "execution_count": 4,
   "id": "39dec8d6",
   "metadata": {},
   "outputs": [
    {
     "data": {
      "text/plain": [
       "Runcard(name='my_lab', controllers=[])"
      ]
     },
     "execution_count": 4,
     "metadata": {},
     "output_type": "execute_result"
    }
   ],
   "source": [
    "runcard = Runcard(name=\"my_lab\")\n",
    "runcard"
   ]
  },
  {
   "cell_type": "code",
   "execution_count": 5,
   "id": "fef4aafc",
   "metadata": {},
   "outputs": [
    {
     "data": {
      "text/plain": [
       "Runcard(name='my_lab', controllers=[QDevilQDAC2RuncardController(type=<ControllerType.QDEVIL_QDAC2_CONTROLLER: 'qdac2_controller'>, settings=QDevilQDAC2ControllerSettings(alias='qdac2', connection=ConnectionSettings(type=<ConnectionType.TCP_IP: 'tcp_ip'>, address='168.0.0.1'), reset=True)), QbloxClusterRuncardController(type=<ControllerType.QBLOX_CLUSTER_CONTROLLER: 'qblox_cluster_controller'>, settings=QbloxClusterControllerSettings(alias='cluster', connection=ConnectionSettings(type=<ConnectionType.TCP_IP: 'tcp_ip'>, address='168.0.0.1'), reset=True, modules={0: <QbloxClusterModule.QCM: 'QCM'>, 1: <QbloxClusterModule.QRM: 'QRM'>}))])"
      ]
     },
     "execution_count": 5,
     "metadata": {},
     "output_type": "execute_result"
    }
   ],
   "source": [
    "runcard.add_controller(qdac2)\n",
    "runcard.add_controller(cluster)\n",
    "runcard"
   ]
  },
  {
   "cell_type": "code",
   "execution_count": 6,
   "id": "c8ee8b4e",
   "metadata": {},
   "outputs": [],
   "source": [
    "runcard.save_to(\"runcard.yml\")"
   ]
  },
  {
   "cell_type": "code",
   "execution_count": 7,
   "id": "a4c4944d",
   "metadata": {},
   "outputs": [
    {
     "data": {
      "text/plain": [
       "Runcard(name='my_lab', controllers=[QDevilQDAC2RuncardController(type=<ControllerType.QDEVIL_QDAC2_CONTROLLER: 'qdac2_controller'>, settings=QDevilQDAC2ControllerSettings(alias='qdac2', connection=ConnectionSettings(type=<ConnectionType.TCP_IP: 'tcp_ip'>, address='168.0.0.1'), reset=True)), QbloxClusterRuncardController(type=<ControllerType.QBLOX_CLUSTER_CONTROLLER: 'qblox_cluster_controller'>, settings=QbloxClusterControllerSettings(alias='cluster', connection=ConnectionSettings(type=<ConnectionType.TCP_IP: 'tcp_ip'>, address='168.0.0.1'), reset=True, modules={0: <QbloxClusterModule.QCM: 'QCM'>, 1: <QbloxClusterModule.QRM: 'QRM'>}))])"
      ]
     },
     "execution_count": 7,
     "metadata": {},
     "output_type": "execute_result"
    }
   ],
   "source": [
    "loaded_runcard = Runcard.load_from(\"runcard.yml\")\n",
    "loaded_runcard"
   ]
  },
  {
   "cell_type": "code",
   "execution_count": 8,
   "id": "ab71f7f1",
   "metadata": {},
   "outputs": [],
   "source": [
    "from qililab.settings.port import IntPort, ModulePort, NoPort"
   ]
  },
  {
   "cell_type": "code",
   "execution_count": 9,
   "id": "a470a855",
   "metadata": {},
   "outputs": [],
   "source": [
    "from typing import Generic, TypeVar\n",
    "\n",
    "from pydantic import BaseModel\n",
    "\n",
    "P = TypeVar(\"P\")  # “port type”\n",
    "\n",
    "\n",
    "class Instrument(BaseModel, Generic[P]):\n",
    "    name: str\n",
    "    port: P"
   ]
  },
  {
   "cell_type": "code",
   "execution_count": 10,
   "id": "8566795d",
   "metadata": {},
   "outputs": [],
   "source": [
    "# 1️⃣ Instrument that uses a simple integer port\n",
    "class Thermometer(Instrument[IntPort]): ...\n",
    "\n",
    "\n",
    "# 2️⃣ Instrument that lives inside a module/slot\n",
    "class Spectrometer(Instrument[ModulePort]): ...\n",
    "\n",
    "\n",
    "# 3️⃣ Instrument that has no external port at all\n",
    "class Pump(Instrument[NoPort]): ..."
   ]
  },
  {
   "cell_type": "code",
   "execution_count": 11,
   "id": "286e3858",
   "metadata": {},
   "outputs": [],
   "source": [
    "t1 = Thermometer(name=\"T-1\", port=IntPort(id=3))\n",
    "s1 = Spectrometer(name=\"S-1\", port=ModulePort(module=2, port=1))\n",
    "p1 = Pump(name=\"P-1\", port=NoPort())  # or leave it to the default_factory"
   ]
  },
  {
   "cell_type": "code",
   "execution_count": 12,
   "id": "e42c9671",
   "metadata": {},
   "outputs": [
    {
     "data": {
      "text/plain": [
       "IntPort(kind='int', id=3)"
      ]
     },
     "execution_count": 12,
     "metadata": {},
     "output_type": "execute_result"
    }
   ],
   "source": [
    "t1.port"
   ]
  }
 ],
 "metadata": {
  "kernelspec": {
   "display_name": ".venv",
   "language": "python",
   "name": "python3"
  },
  "language_info": {
   "codemirror_mode": {
    "name": "ipython",
    "version": 3
   },
   "file_extension": ".py",
   "mimetype": "text/x-python",
   "name": "python",
   "nbconvert_exporter": "python",
   "pygments_lexer": "ipython3",
   "version": "3.10.15"
  }
 },
 "nbformat": 4,
 "nbformat_minor": 5
}
