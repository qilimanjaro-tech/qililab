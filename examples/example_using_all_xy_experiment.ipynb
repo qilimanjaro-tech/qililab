{
 "cells": [
  {
   "attachments": {},
   "cell_type": "markdown",
   "metadata": {},
   "source": [
    "# All XY Experiment\n",
    "\n",
    "This notebook shows how to set and run the ALL XY experiment. \n",
    "\n",
    "The experiment aims to provide a graphical way to evaluate quality rotations for applications where a high quantitative valued of fidelity is sought after, by preparing all combinations of one or two single-qubit rotations around the $x$ and $y$ axis by an angle of $\\pi/2$ or $\\pi$.\n",
    "\n",
    "More information can be found in the following [PhD thesis](https://rsl.yale.edu/sites/default/files/files/RSL_Theses/reed.pdf)."
   ]
  },
  {
   "attachments": {},
   "cell_type": "markdown",
   "metadata": {},
   "source": [
    "import os\n",
    "import numpy as np\n",
    "import json\n",
    "import qililab as ql\n",
    "ql.logger.setLevel(40)\n",
    "\n",
    "import matplotlib.pyplot as plt\n",
    "from qililab.experiment import AllXYExperiment"
   ]
  },
  {
   "cell_type": "code",
   "execution_count": null,
   "metadata": {
    "vscode": {
     "languageId": "plaintext"
    }
   },
   "outputs": [],
   "source": [
    "# prepare platform\n",
    "\n",
    "os.environ[\"RUNCARDS\"] = \"./runcards\"\n",
    "os.environ[\"DATA\"] = \"./data\"\n",
    "platform = ql.build_platform(name=\"soprano_master_galadriel\")\n",
    "platform.connect()\n",
    "platform.turn_on_instruments()\n",
    "platform.initial_setup()"
   ]
  },
  {
   "cell_type": "code",
   "execution_count": null,
   "metadata": {
    "vscode": {
     "languageId": "plaintext"
    }
   },
   "outputs": [],
   "source": [
    "# experiment set up and building\n",
    "\n",
    "if_values = np.linspace(100, 110, 10)*1e6\n",
    "experiment = AllXYExperiment(qubit=1, platform=platform, circuits_settings=circuits_settings, \n",
    "                             hardware_average=1_000, repetition_duration=200_000,\n",
    "                             measurement_buffer=100, if_values=if_values)\n",
    "experiment.build_execution()"
   ]
  },
  {
   "cell_type": "code",
   "execution_count": null,
   "metadata": {
    "vscode": {
     "languageId": "plaintext"
    }
   },
   "outputs": [],
   "source": [
    "# running experiment \n",
    "\n",
    "results = experiment.run()"
   ]
  },
  {
   "cell_type": "code",
   "execution_count": null,
   "metadata": {
    "vscode": {
     "languageId": "plaintext"
    }
   },
   "outputs": [],
   "source": [
    "# displaying results\n",
    "\n",
    "plt = experiment.plot()\n",
    "plt.show()"
   ]
  }
 ],
 "metadata": {
  "language_info": {
   "name": "python"
  },
  "orig_nbformat": 4
 },
 "nbformat": 4,
 "nbformat_minor": 2
}
