{
 "cells": [
  {
   "cell_type": "code",
   "execution_count": 1,
   "metadata": {},
   "outputs": [
    {
     "name": "stderr",
     "output_type": "stream",
     "text": [
      "[Qibo 0.1.7|INFO|2022-05-30 17:57:31]: Using numpy backend on /CPU:0\n",
      "[Qibo 0.1.7|WARNING|2022-05-30 17:57:31]: numpy backend uses `np.einsum` and supports CPU only. Consider installing the qibojit or qibotf backends for increased performance and to enable GPU acceleration.\n",
      "[qibo-connection] 0.3.9|DEBUG|2022-05-30 17:57:31]: Qibo Quantum Service API SERVER URL: https://qilimanjaro.ddns.net:8080\n",
      "[qibo-connection] 0.3.9|DEBUG|2022-05-30 17:57:33]: Calling: https://qilimanjaro.ddns.net:8080/api/v1/authorisation-tokens\n",
      "DEBUG:qiboconnection.config:Calling: https://qilimanjaro.ddns.net:8080/api/v1/authorisation-tokens\n",
      "[qibo-connection] 0.3.9|DEBUG|2022-05-30 17:57:34]: Connection successfully established.\n",
      "DEBUG:qiboconnection.config:Connection successfully established.\n",
      "[qibo-connection] 0.3.9|INFO|2022-05-30 17:57:34]: Storing personal qibo configuration...\n",
      "INFO:qiboconnection.config:Storing personal qibo configuration...\n"
     ]
    }
   ],
   "source": [
    "import numpy as np\n",
    "from qibo.core.circuit import Circuit\n",
    "from qibo.gates import RX, M, X\n",
    "from qiboconnection.api import API\n",
    "from qiboconnection.connection import ConnectionConfiguration\n",
    "\n",
    "from qililab.constants import DEFAULT_PLATFORM_NAME\n",
    "from qililab.experiment import Experiment, settings\n",
    "from qililab.utils import Loop\n",
    "\n",
    "configuration = ConnectionConfiguration(\n",
    "    user_id=3,\n",
    "    username=\"qili-admin-test\",\n",
    "    api_key=\"d31d38f4-228e-4898-a0a4-4c4139d0f79f\",\n",
    ")\n",
    "\n",
    "connection = API(configuration=configuration)"
   ]
  },
  {
   "cell_type": "code",
   "execution_count": 2,
   "metadata": {},
   "outputs": [
    {
     "name": "stdout",
     "output_type": "stream",
     "text": [
      "{\n",
      "    \"hardware_average\": 1024,\n",
      "    \"software_average\": 1,\n",
      "    \"repetition_duration\": 200000,\n",
      "    \"translation\": {\n",
      "        \"readout_pulse\": {\n",
      "            \"amplitude\": 0.4,\n",
      "            \"duration\": 2000,\n",
      "            \"phase\": 0\n",
      "        },\n",
      "        \"delay_between_pulses\": 0,\n",
      "        \"delay_before_readout\": 50,\n",
      "        \"gate_duration\": 100,\n",
      "        \"num_sigmas\": 4,\n",
      "        \"drag_coefficient\": 0\n",
      "    }\n",
      "}\n"
     ]
    }
   ],
   "source": [
    "print(settings)"
   ]
  },
  {
   "cell_type": "code",
   "execution_count": 3,
   "metadata": {},
   "outputs": [],
   "source": [
    "settings.repetition_duration = 200000\n",
    "settings.translation.readout_pulse.amplitude = 1"
   ]
  },
  {
   "cell_type": "code",
   "execution_count": 4,
   "metadata": {},
   "outputs": [
    {
     "name": "stderr",
     "output_type": "stream",
     "text": [
      "[qililab] [0.3.0|INFO|2022-05-30 17:57:34]: Building platform\n",
      "INFO:qililab.config:Building platform\n"
     ]
    }
   ],
   "source": [
    "circuit = Circuit(1)\n",
    "circuit.add(X(0))\n",
    "circuit.add(M(0))\n",
    "\n",
    "loop2 = Loop(category=\"awg\", id_=1, parameter=\"gain\", start=0, stop=1, num=10)\n",
    "loop = Loop(category=\"signal_generator\", id_=1, parameter=\"frequency\", start=7.344e9, stop=7.352e9, num=500, loop=loop2)\n",
    "\n",
    "experiment = Experiment(\n",
    "    platform_name=DEFAULT_PLATFORM_NAME,\n",
    "    sequences=circuit,\n",
    "    settings=settings,\n",
    "    experiment_name=\"Rabi\",\n",
    "    loop=loop,\n",
    ")"
   ]
  },
  {
   "cell_type": "code",
   "execution_count": 5,
   "metadata": {},
   "outputs": [
    {
     "name": "stderr",
     "output_type": "stream",
     "text": [
      "[qililab] [0.3.0|INFO|2022-05-30 17:57:34]: Connecting to instrument qblox_qcm.\n",
      "INFO:qililab.config:Connecting to instrument qblox_qcm.\n",
      "[qililab] [0.3.0|INFO|2022-05-30 17:57:34]: Connecting to instrument rohde_schwarz.\n",
      "INFO:qililab.config:Connecting to instrument rohde_schwarz.\n",
      "[qililab] [0.3.0|INFO|2022-05-30 17:57:35]: Connecting to instrument qblox_qrm.\n",
      "INFO:qililab.config:Connecting to instrument qblox_qrm.\n"
     ]
    },
    {
     "name": "stdout",
     "output_type": "stream",
     "text": [
      "Connected to: Rohde&Schwarz SGS100A (serial:1416.0505k02/101901, firmware:4.2.76.0-4.30.046.295) in 0.12s\n"
     ]
    },
    {
     "name": "stderr",
     "output_type": "stream",
     "text": [
      "[qililab] [0.3.0|INFO|2022-05-30 17:57:35]: Connecting to instrument rohde_schwarz.\n",
      "INFO:qililab.config:Connecting to instrument rohde_schwarz.\n"
     ]
    },
    {
     "name": "stdout",
     "output_type": "stream",
     "text": [
      "Connected to: Rohde&Schwarz SGS100A (serial:1416.0505k02/113049, firmware:4.2.76.0-4.30.046.295) in 0.09s\n"
     ]
    },
    {
     "name": "stderr",
     "output_type": "stream",
     "text": [
      "  0%|          | 0/10 [00:00<?, ?it/s][qibo-connection] 0.3.9|DEBUG|2022-05-30 17:57:35]: Calling: https://qilimanjaro.ddns.net:8080/api/v1/live-plotting\n",
      "DEBUG:qiboconnection.config:Calling: https://qilimanjaro.ddns.net:8080/api/v1/live-plotting\n",
      "100%|██████████| 500/500 [02:50<00:00,  2.93it/s]\n",
      " 10%|█         | 1/10 [02:51<25:40, 171.14s/it][qibo-connection] 0.3.9|DEBUG|2022-05-30 18:00:26]: Calling: https://qilimanjaro.ddns.net:8080/api/v1/live-plotting\n",
      "DEBUG:qiboconnection.config:Calling: https://qilimanjaro.ddns.net:8080/api/v1/live-plotting\n",
      "100%|██████████| 500/500 [02:50<00:00,  2.92it/s]\n",
      " 20%|██        | 2/10 [05:42<22:49, 171.22s/it][qibo-connection] 0.3.9|DEBUG|2022-05-30 18:03:18]: Calling: https://qilimanjaro.ddns.net:8080/api/v1/live-plotting\n",
      "DEBUG:qiboconnection.config:Calling: https://qilimanjaro.ddns.net:8080/api/v1/live-plotting\n",
      "100%|██████████| 500/500 [02:50<00:00,  2.94it/s]\n",
      " 30%|███       | 3/10 [08:33<19:56, 170.96s/it][qibo-connection] 0.3.9|DEBUG|2022-05-30 18:06:08]: Calling: https://qilimanjaro.ddns.net:8080/api/v1/live-plotting\n",
      "DEBUG:qiboconnection.config:Calling: https://qilimanjaro.ddns.net:8080/api/v1/live-plotting\n",
      "100%|██████████| 500/500 [02:51<00:00,  2.91it/s]\n",
      " 40%|████      | 4/10 [11:25<17:08, 171.37s/it][qibo-connection] 0.3.9|DEBUG|2022-05-30 18:09:00]: Calling: https://qilimanjaro.ddns.net:8080/api/v1/live-plotting\n",
      "DEBUG:qiboconnection.config:Calling: https://qilimanjaro.ddns.net:8080/api/v1/live-plotting\n",
      "100%|██████████| 500/500 [02:54<00:00,  2.87it/s]\n",
      " 50%|█████     | 5/10 [14:19<14:22, 172.52s/it][qibo-connection] 0.3.9|DEBUG|2022-05-30 18:11:55]: Calling: https://qilimanjaro.ddns.net:8080/api/v1/live-plotting\n",
      "DEBUG:qiboconnection.config:Calling: https://qilimanjaro.ddns.net:8080/api/v1/live-plotting\n",
      "100%|██████████| 500/500 [02:53<00:00,  2.89it/s]\n",
      " 60%|██████    | 6/10 [17:13<11:31, 172.86s/it][qibo-connection] 0.3.9|DEBUG|2022-05-30 18:14:48]: Calling: https://qilimanjaro.ddns.net:8080/api/v1/live-plotting\n",
      "DEBUG:qiboconnection.config:Calling: https://qilimanjaro.ddns.net:8080/api/v1/live-plotting\n",
      "100%|██████████| 500/500 [02:48<00:00,  2.97it/s]\n",
      " 70%|███████   | 7/10 [20:02<08:34, 171.57s/it][qibo-connection] 0.3.9|DEBUG|2022-05-30 18:17:37]: Calling: https://qilimanjaro.ddns.net:8080/api/v1/live-plotting\n",
      "DEBUG:qiboconnection.config:Calling: https://qilimanjaro.ddns.net:8080/api/v1/live-plotting\n",
      "100%|██████████| 500/500 [02:50<00:00,  2.94it/s]\n",
      " 80%|████████  | 8/10 [22:52<05:42, 171.22s/it][qibo-connection] 0.3.9|DEBUG|2022-05-30 18:20:28]: Calling: https://qilimanjaro.ddns.net:8080/api/v1/live-plotting\n",
      "DEBUG:qiboconnection.config:Calling: https://qilimanjaro.ddns.net:8080/api/v1/live-plotting\n",
      "100%|██████████| 500/500 [02:50<00:00,  2.93it/s]\n",
      " 90%|█████████ | 9/10 [25:43<02:51, 171.22s/it][qibo-connection] 0.3.9|DEBUG|2022-05-30 18:23:19]: Calling: https://qilimanjaro.ddns.net:8080/api/v1/live-plotting\n",
      "DEBUG:qiboconnection.config:Calling: https://qilimanjaro.ddns.net:8080/api/v1/live-plotting\n",
      "100%|██████████| 500/500 [02:51<00:00,  2.92it/s]\n",
      "100%|██████████| 10/10 [28:35<00:00, 171.57s/it]\n",
      "[qililab] [0.3.0|INFO|2022-05-30 18:26:11]: Closing instrument qblox_qcm.\n",
      "INFO:qililab.config:Closing instrument qblox_qcm.\n",
      "[qililab] [0.3.0|INFO|2022-05-30 18:26:11]: Closing instrument rohde_schwarz.\n",
      "INFO:qililab.config:Closing instrument rohde_schwarz.\n",
      "[qililab] [0.3.0|INFO|2022-05-30 18:26:11]: Closing instrument qblox_qrm.\n",
      "INFO:qililab.config:Closing instrument qblox_qrm.\n",
      "[qililab] [0.3.0|INFO|2022-05-30 18:26:11]: Closing instrument rohde_schwarz.\n",
      "INFO:qililab.config:Closing instrument rohde_schwarz.\n"
     ]
    }
   ],
   "source": [
    "%matplotlib widget\n",
    "# %matplotlib notebook\n",
    "experiment.set_parameter(category=\"signal_generator\", id_=0, parameter=\"frequency\", value=3.451759e9)\n",
    "experiment.set_parameter(category=\"signal_generator\", id_=1, parameter=\"frequency\", value=7.347367e9)\n",
    "results = experiment.execute(connection=connection)"
   ]
  },
  {
   "cell_type": "code",
   "execution_count": null,
   "metadata": {},
   "outputs": [],
   "source": []
  },
  {
   "cell_type": "code",
   "execution_count": null,
   "metadata": {},
   "outputs": [],
   "source": []
  }
 ],
 "metadata": {
  "interpreter": {
   "hash": "26c18a75fc1ce88d14e4ddcc15d1965e9e155167d465ad940be780a142325654"
  },
  "kernelspec": {
   "display_name": "Python 3.10.4 ('myenv': venv)",
   "language": "python",
   "name": "python3"
  },
  "language_info": {
   "codemirror_mode": {
    "name": "ipython",
    "version": 3
   },
   "file_extension": ".py",
   "mimetype": "text/x-python",
   "name": "python",
   "nbconvert_exporter": "python",
   "pygments_lexer": "ipython3",
   "version": "3.10.4"
  }
 },
 "nbformat": 4,
 "nbformat_minor": 2
}
