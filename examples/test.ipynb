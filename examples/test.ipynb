{
 "cells": [
  {
   "cell_type": "code",
   "execution_count": 1,
   "metadata": {},
   "outputs": [
    {
     "name": "stderr",
     "output_type": "stream",
     "text": [
      "[Qibo 0.1.7|INFO|2022-05-30 16:48:03]: Using numpy backend on /CPU:0\n",
      "[Qibo 0.1.7|WARNING|2022-05-30 16:48:03]: numpy backend uses `np.einsum` and supports CPU only. Consider installing the qibojit or qibotf backends for increased performance and to enable GPU acceleration.\n",
      "[qibo-connection] 0.3.9|DEBUG|2022-05-30 16:48:04]: Qibo Quantum Service API SERVER URL: https://qilimanjaro.ddns.net:8080\n",
      "[qibo-connection] 0.3.9|DEBUG|2022-05-30 16:48:05]: Calling: https://qilimanjaro.ddns.net:8080/api/v1/authorisation-tokens\n",
      "DEBUG:qiboconnection.config:Calling: https://qilimanjaro.ddns.net:8080/api/v1/authorisation-tokens\n",
      "[qibo-connection] 0.3.9|DEBUG|2022-05-30 16:48:06]: Connection successfully established.\n",
      "DEBUG:qiboconnection.config:Connection successfully established.\n",
      "[qibo-connection] 0.3.9|INFO|2022-05-30 16:48:06]: Storing personal qibo configuration...\n",
      "INFO:qiboconnection.config:Storing personal qibo configuration...\n"
     ]
    }
   ],
   "source": [
    "from qibo.core.circuit import Circuit\n",
    "from qibo.gates import M, X, RX\n",
    "import numpy as np\n",
    "from qiboconnection.api import API\n",
    "from qiboconnection.connection import ConnectionConfiguration\n",
    "\n",
    "from qililab.constants import DEFAULT_PLATFORM_NAME\n",
    "from qililab.experiment import Experiment, settings\n",
    "from qililab.utils import Loop\n",
    "\n",
    "configuration = ConnectionConfiguration(\n",
    "    user_id=3,\n",
    "    username=\"qili-admin-test\",\n",
    "    api_key=\"d31d38f4-228e-4898-a0a4-4c4139d0f79f\",\n",
    ")\n",
    "\n",
    "connection = API(configuration=configuration)"
   ]
  },
  {
   "cell_type": "code",
   "execution_count": 2,
   "metadata": {},
   "outputs": [
    {
     "name": "stdout",
     "output_type": "stream",
     "text": [
      "{\n",
      "    \"hardware_average\": 1024,\n",
      "    \"software_average\": 1,\n",
      "    \"repetition_duration\": 200000,\n",
      "    \"translation\": {\n",
      "        \"readout_pulse\": {\n",
      "            \"amplitude\": 0.4,\n",
      "            \"duration\": 2000,\n",
      "            \"phase\": 0\n",
      "        },\n",
      "        \"delay_between_pulses\": 0,\n",
      "        \"delay_before_readout\": 50,\n",
      "        \"gate_duration\": 100,\n",
      "        \"num_sigmas\": 4,\n",
      "        \"drag_coefficient\": 0\n",
      "    }\n",
      "}\n"
     ]
    }
   ],
   "source": [
    "print(settings)"
   ]
  },
  {
   "cell_type": "code",
   "execution_count": 3,
   "metadata": {},
   "outputs": [],
   "source": [
    "settings.repetition_duration = 200000"
   ]
  },
  {
   "cell_type": "code",
   "execution_count": 4,
   "metadata": {},
   "outputs": [
    {
     "name": "stderr",
     "output_type": "stream",
     "text": [
      "[qililab] [0.3.0|INFO|2022-05-30 16:48:06]: Building platform\n",
      "INFO:qililab.config:Building platform\n"
     ]
    }
   ],
   "source": [
    "\n",
    "circuit = Circuit(1)\n",
    "circuit.add(X(0))\n",
    "circuit.add(M(0))\n",
    "experiment = Experiment(platform_name=DEFAULT_PLATFORM_NAME, sequences=circuit, settings=settings, experiment_name=\"Rabi\")"
   ]
  },
  {
   "cell_type": "code",
   "execution_count": 5,
   "metadata": {},
   "outputs": [
    {
     "name": "stderr",
     "output_type": "stream",
     "text": [
      "[qililab] [0.3.0|INFO|2022-05-30 16:48:07]: Connecting to instrument qblox_qcm.\n",
      "INFO:qililab.config:Connecting to instrument qblox_qcm.\n",
      "[qililab] [0.3.0|INFO|2022-05-30 16:48:07]: Connecting to instrument rohde_schwarz.\n",
      "INFO:qililab.config:Connecting to instrument rohde_schwarz.\n",
      "[qililab] [0.3.0|INFO|2022-05-30 16:48:07]: Connecting to instrument qblox_qrm.\n",
      "INFO:qililab.config:Connecting to instrument qblox_qrm.\n"
     ]
    },
    {
     "name": "stdout",
     "output_type": "stream",
     "text": [
      "Connected to: Rohde&Schwarz SGS100A (serial:1416.0505k02/101901, firmware:4.2.76.0-4.30.046.295) in 0.13s\n"
     ]
    },
    {
     "name": "stderr",
     "output_type": "stream",
     "text": [
      "[qililab] [0.3.0|INFO|2022-05-30 16:48:08]: Connecting to instrument rohde_schwarz.\n",
      "INFO:qililab.config:Connecting to instrument rohde_schwarz.\n",
      "[qibo-connection] 0.3.9|DEBUG|2022-05-30 16:48:08]: Calling: https://qilimanjaro.ddns.net:8080/api/v1/live-plotting\n",
      "DEBUG:qiboconnection.config:Calling: https://qilimanjaro.ddns.net:8080/api/v1/live-plotting\n"
     ]
    },
    {
     "name": "stdout",
     "output_type": "stream",
     "text": [
      "Connected to: Rohde&Schwarz SGS100A (serial:1416.0505k02/113049, firmware:4.2.76.0-4.30.046.295) in 0.12s\n"
     ]
    },
    {
     "name": "stderr",
     "output_type": "stream",
     "text": [
      "[qililab] [0.3.0|INFO|2022-05-30 16:48:09]: Closing instrument qblox_qcm.\n",
      "INFO:qililab.config:Closing instrument qblox_qcm.\n",
      "[qililab] [0.3.0|INFO|2022-05-30 16:48:09]: Closing instrument rohde_schwarz.\n",
      "INFO:qililab.config:Closing instrument rohde_schwarz.\n",
      "[qililab] [0.3.0|INFO|2022-05-30 16:48:09]: Closing instrument qblox_qrm.\n",
      "INFO:qililab.config:Closing instrument qblox_qrm.\n",
      "[qililab] [0.3.0|INFO|2022-05-30 16:48:09]: Closing instrument rohde_schwarz.\n",
      "INFO:qililab.config:Closing instrument rohde_schwarz.\n"
     ]
    }
   ],
   "source": [
    "%matplotlib widget\n",
    "# %matplotlib notebook\n",
    "experiment.set_parameter(category=\"signal_generator\", id_=0, parameter=\"frequency\", value=3.451759e9)\n",
    "experiment.set_parameter(category=\"signal_generator\", id_=1, parameter=\"frequency\", value=7.347367e9)\n",
    "loop1 = Loop(category=\"signal_generator\", id_=1, parameter=\"frequency\", start=7.34e9, stop=7.35e9, num=100)\n",
    "loop2 = Loop(category=\"awg\", id_=1, parameter=\"gain\", start=0, stop=1, num=20)\n",
    "results = experiment.execute(loops=[loop1, loop2], connection=connection)"
   ]
  },
  {
   "cell_type": "code",
   "execution_count": null,
   "metadata": {},
   "outputs": [],
   "source": []
  },
  {
   "cell_type": "code",
   "execution_count": null,
   "metadata": {},
   "outputs": [],
   "source": []
  }
 ],
 "metadata": {
  "interpreter": {
   "hash": "c3aa40aca011e1b8312bca8af21e69c804dacda21015fcb7858b450ad0d2672a"
  },
  "kernelspec": {
   "display_name": "Python 3.10.4 ('myenv': venv)",
   "language": "python",
   "name": "python3"
  },
  "language_info": {
   "codemirror_mode": {
    "name": "ipython",
    "version": 3
   },
   "file_extension": ".py",
   "mimetype": "text/x-python",
   "name": "python",
   "nbconvert_exporter": "python",
   "pygments_lexer": "ipython3",
   "version": "3.10.4"
  }
 },
 "nbformat": 4,
 "nbformat_minor": 2
}
