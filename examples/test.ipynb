{
 "cells": [
  {
   "cell_type": "code",
   "execution_count": 1,
   "metadata": {},
   "outputs": [],
   "source": [
    "from qililab import deserialize_from, serialize_to\n",
    "from qililab.typings import Parameter"
   ]
  },
  {
   "cell_type": "code",
   "execution_count": 2,
   "metadata": {},
   "outputs": [],
   "source": [
    "parameters = {\"readoutA\": {Parameter.IF: 400e6}, \"readoutB\": {Parameter.IF: 500e6}}"
   ]
  },
  {
   "cell_type": "code",
   "execution_count": 3,
   "metadata": {},
   "outputs": [],
   "source": [
    "serialize_to(parameters, \"./parameters.yml\")"
   ]
  },
  {
   "cell_type": "code",
   "execution_count": 4,
   "metadata": {},
   "outputs": [],
   "source": [
    "loaded_parameters = deserialize_from(\"./parameters.yml\", dict)"
   ]
  },
  {
   "cell_type": "code",
   "execution_count": 5,
   "metadata": {},
   "outputs": [
    {
     "data": {
      "text/plain": [
       "{'readoutA': {<Parameter.IF: 'intermediate_frequency'>: 400000000.0},\n",
       " 'readoutB': {<Parameter.IF: 'intermediate_frequency'>: 500000000.0}}"
      ]
     },
     "execution_count": 5,
     "metadata": {},
     "output_type": "execute_result"
    }
   ],
   "source": [
    "loaded_parameters"
   ]
  },
  {
   "cell_type": "code",
   "execution_count": null,
   "metadata": {},
   "outputs": [
    {
     "ename": "AttributeError",
     "evalue": "module 'qililab.platform' has no attribute 'set_parameter'",
     "output_type": "error",
     "traceback": [
      "\u001b[0;31m---------------------------------------------------------------------------\u001b[0m",
      "\u001b[0;31mAttributeError\u001b[0m                            Traceback (most recent call last)",
      "Cell \u001b[0;32mIn[22], line 7\u001b[0m\n\u001b[1;32m      5\u001b[0m chosen_bus \u001b[38;5;241m=\u001b[39m \u001b[38;5;124m\"\u001b[39m\u001b[38;5;124mreadout\u001b[39m\u001b[38;5;124m\"\u001b[39m \u001b[38;5;241m+\u001b[39m \u001b[38;5;124m\"\u001b[39m\u001b[38;5;124mA\u001b[39m\u001b[38;5;124m\"\u001b[39m\n\u001b[1;32m      6\u001b[0m \u001b[38;5;28;01mfor\u001b[39;00m parameter, value \u001b[38;5;129;01min\u001b[39;00m loaded_parameters\u001b[38;5;241m.\u001b[39mget(chosen_bus)\u001b[38;5;241m.\u001b[39mitems():\n\u001b[0;32m----> 7\u001b[0m     \u001b[43mplatform\u001b[49m\u001b[38;5;241;43m.\u001b[39;49m\u001b[43mset_parameter\u001b[49m(alias\u001b[38;5;241m=\u001b[39mchosen_bus, parameter\u001b[38;5;241m=\u001b[39mparameter, value\u001b[38;5;241m=\u001b[39mvalue)\n",
      "\u001b[0;31mAttributeError\u001b[0m: module 'qililab.platform' has no attribute 'set_parameter'"
     ]
    }
   ],
   "source": [
    "from qililab import platform\n",
    "\n",
    "# parameters = loaded_parameters[\"readoutA\"]\n",
    "\n",
    "chosen_bus = \"readout\" + \"A\"\n",
    "for parameter, value in loaded_parameters.get(chosen_bus).items():\n",
    "    platform.set_parameter(alias=chosen_bus, parameter=parameter, value=value)"
   ]
  },
  {
   "cell_type": "code",
   "execution_count": null,
   "metadata": {},
   "outputs": [
    {
     "data": {
      "text/plain": [
       "'my_calibration.yml'"
      ]
     },
     "execution_count": 7,
     "metadata": {},
     "output_type": "execute_result"
    }
   ],
   "source": [
    "from qililab import Calibration\n",
    "from qililab.waveforms import IQPair, Square\n",
    "\n",
    "my_calibration = Calibration()\n",
    "my_calibration.add_waveform(\"readoutA\", \"measure\", Square(1.0, 20))\n",
    "my_calibration.add_weights(\"readoutA\", \"weights\", IQPair(I=Square(1.0, 10), Q=Square(1.0, 10)))\n",
    "my_calibration.add_waveform(\"readoutB\", \"measure\", Square(0.5, 40))\n",
    "my_calibration.add_weights(\"readoutB\", \"weights\", IQPair(I=Square(0.5, 10), Q=Square(0.5, 10)))\n",
    "\n",
    "my_calibration.save_to(\"my_calibration.yml\")"
   ]
  },
  {
   "cell_type": "code",
   "execution_count": null,
   "metadata": {},
   "outputs": [],
   "source": [
    "from qililab import QProgram\n",
    "\n",
    "amplitude = 1.0\n",
    "duration = 500\n",
    "\n",
    "qp = QProgram()\n",
    "qp.play(bus=\"readout_bus\", waveform=\"measure\")\n",
    "qp.measure(bus=\"readout_bus\", waveform=\"measure\", weights=\"weights\")\n",
    "qp.play(bus=\"readout_bus\", waveform=Square(\"amplitude\", \"duration\"))"
   ]
  },
  {
   "cell_type": "code",
   "execution_count": null,
   "metadata": {},
   "outputs": [],
   "source": [
    "from qililab.qprogram import QbloxCompiler\n",
    "\n",
    "compiler = QbloxCompiler()\n",
    "\n",
    "output = compiler.compile(qp, calibration=my_calibration, bus_mapping={\"readout_bus\": \"readoutB\"})"
   ]
  },
  {
   "cell_type": "markdown",
   "metadata": {},
   "source": []
  },
  {
   "cell_type": "code",
   "execution_count": 12,
   "metadata": {},
   "outputs": [
    {
     "data": {
      "text/plain": [
       "{'readoutB': {'waveforms': {'waveform_0': {'data': [0.5, 0.5, 0.5, 0.5, 0.5, 0.5, 0.5, 0.5, 0.5, 0.5, 0.5, 0.5, 0.5, 0.5, 0.5, 0.5, 0.5, 0.5, 0.5, 0.5, 0.5, 0.5, 0.5, 0.5, 0.5, 0.5, 0.5, 0.5, 0.5, 0.5, 0.5, 0.5, 0.5, 0.5, 0.5, 0.5, 0.5, 0.5, 0.5, 0.5], 'index': 0}, 'waveform_1': {'data': [0.0, 0.0, 0.0, 0.0, 0.0, 0.0, 0.0, 0.0, 0.0, 0.0, 0.0, 0.0, 0.0, 0.0, 0.0, 0.0, 0.0, 0.0, 0.0, 0.0, 0.0, 0.0, 0.0, 0.0, 0.0, 0.0, 0.0, 0.0, 0.0, 0.0, 0.0, 0.0, 0.0, 0.0, 0.0, 0.0, 0.0, 0.0, 0.0, 0.0], 'index': 1}}, 'weights': {'weight_0': {'data': [0.5, 0.5, 0.5, 0.5, 0.5, 0.5, 0.5, 0.5, 0.5, 0.5], 'index': 0}}, 'acquisitions': {'acquisition_0': {'num_bins': 1, 'index': 0}}, 'program': 'setup:\\n                wait_sync        4              \\n                set_mrk          0              \\n                upd_param        4              \\n\\nmain:\\n                play             0, 1, 40       \\n                play             0, 1, 4        \\n                acquire_weighed  0, 0, 0, 0, 10 \\n                set_mrk          0              \\n                upd_param        4              \\n                stop                            \\n\\n'}}"
      ]
     },
     "execution_count": 12,
     "metadata": {},
     "output_type": "execute_result"
    }
   ],
   "source": [
    "output.sequences"
   ]
  },
  {
   "cell_type": "code",
   "execution_count": 13,
   "metadata": {},
   "outputs": [],
   "source": [
    "from dataclasses import dataclass\n",
    "\n",
    "\n",
    "@dataclass\n",
    "class Constants:\n",
    "    AMPLITUDE: float\n",
    "    DURATION: int\n",
    "    AVERAGES: int"
   ]
  },
  {
   "cell_type": "code",
   "execution_count": 14,
   "metadata": {},
   "outputs": [],
   "source": [
    "my_constants = {\n",
    "    \"readoutA\": Constants(AMPLITUDE=1.0, DURATION=500, AVERAGES=1),\n",
    "    \"readoutB\": Constants(AMPLITUDE=0.5, DURATION=200, AVERAGES=100),\n",
    "}"
   ]
  },
  {
   "cell_type": "code",
   "execution_count": 15,
   "metadata": {},
   "outputs": [],
   "source": [
    "serialize_to(my_constants, \"constants.yml\")"
   ]
  },
  {
   "cell_type": "code",
   "execution_count": 17,
   "metadata": {},
   "outputs": [],
   "source": [
    "my_loaded_constants = deserialize_from(\"constants.yml\")"
   ]
  },
  {
   "cell_type": "code",
   "execution_count": 21,
   "metadata": {},
   "outputs": [
    {
     "data": {
      "text/plain": [
       "1.0"
      ]
     },
     "execution_count": 21,
     "metadata": {},
     "output_type": "execute_result"
    }
   ],
   "source": [
    "square = Square(my_loaded_constants[\"readoutA\"].AMPLITUDE, 500)\n",
    "square.amplitude"
   ]
  },
  {
   "cell_type": "code",
   "execution_count": null,
   "metadata": {},
   "outputs": [],
   "source": []
  }
 ],
 "metadata": {
  "kernelspec": {
   "display_name": "qililab",
   "language": "python",
   "name": "python3"
  },
  "language_info": {
   "codemirror_mode": {
    "name": "ipython",
    "version": 3
   },
   "file_extension": ".py",
   "mimetype": "text/x-python",
   "name": "python",
   "nbconvert_exporter": "python",
   "pygments_lexer": "ipython3",
   "version": "3.10.15"
  }
 },
 "nbformat": 4,
 "nbformat_minor": 2
}
