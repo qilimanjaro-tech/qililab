{
 "cells": [
  {
   "cell_type": "code",
   "execution_count": null,
   "metadata": {},
   "outputs": [],
   "source": [
    "import qililab as ql\n",
    "from functools import partial\n",
    "from fluqe.transpilers.single_qubit_2level import Qubit2LevelTranspiler\n",
    "from fluqe.functions.qubit import epsilon_two_level, persistent_current_sim, delta_sim"
   ]
  },
  {
   "attachments": {},
   "cell_type": "markdown",
   "metadata": {},
   "source": [
    "### Constants\n",
    "Here we define the runcard path, the calibration path, and some dummy annealing program.\n",
    "We also define a transpiler model and load an instance of it."
   ]
  },
  {
   "cell_type": "code",
   "execution_count": null,
   "metadata": {},
   "outputs": [],
   "source": [
    "RUNCARD_PATH = \"runcards/galadriel.yml\"\n",
    "CALIBRATION_PATH = \"runcards/calibration_data.yml\"\n",
    "\n",
    "annealing_program_dict = [{\n",
    "        \"qubit_0\": {\"sigma_x\": 0, \"sigma_y\": 0, \"sigma_z\": 1},\n",
    "        \"qubit_1\": {\"sigma_x\": 0.1, \"sigma_y\": 0.1, \"sigma_z\": 0.1},\n",
    "        \"coupler_0_1\": {\"sigma_x\": 1, \"sigma_y\": 0.2, \"sigma_z\": 0.2},\n",
    "    },\n",
    "    {\n",
    "        \"qubit_0\": {\"sigma_x\": 0.1, \"sigma_y\": 0.1, \"sigma_z\": 1.1},\n",
    "        \"qubit_1\": {\"sigma_x\": 0.2, \"sigma_y\": 0.2, \"sigma_z\": 0.2},\n",
    "        \"coupler_0_1\": {\"sigma_x\": 0.9, \"sigma_y\": 0.1, \"sigma_z\": 0.1},\n",
    "    },\n",
    "    {\n",
    "        \"qubit_0\": {\"sigma_x\": 0.3, \"sigma_y\": 0.3, \"sigma_z\": 0.7},\n",
    "        \"qubit_1\": {\"sigma_x\": 0.5, \"sigma_y\": 0.2, \"sigma_z\": 0.01},\n",
    "        \"coupler_0_1\": {\"sigma_x\": 0.5, \"sigma_y\": 0, \"sigma_z\": -1},\n",
    "    },\n",
    "]\n",
    "\n",
    "eps_partial = partial(epsilon_two_level, persistent_current=persistent_current_sim)\n",
    "transpiler = Qubit2LevelTranspiler(epsilon_model=eps_partial, delta_model=delta_sim)"
   ]
  },
  {
   "attachments": {},
   "cell_type": "markdown",
   "metadata": {},
   "source": [
    "### Loading the platform and calibration object"
   ]
  },
  {
   "cell_type": "code",
   "execution_count": null,
   "metadata": {},
   "outputs": [],
   "source": [
    "platform = ql.build_platform(runcard=RUNCARD_PATH)\n",
    "loaded_calibration = ql.Calibration.load_from(CALIBRATION_PATH)"
   ]
  },
  {
   "attachments": {},
   "cell_type": "markdown",
   "metadata": {},
   "source": [
    "### Executing the annealing schedule using the calibrated measurement and the transpiler."
   ]
  },
  {
   "cell_type": "code",
   "execution_count": null,
   "metadata": {},
   "outputs": [],
   "source": [
    "results = platform.execute_anneal_program(\n",
    "    annealing_program_dict=annealing_program_dict,\n",
    "    transpiler=transpiler,\n",
    "    averages=2,\n",
    "    readout_bus=\"readout_bus\",\n",
    "    measurement_name=\"readout\",\n",
    "    weights=\"optimal_weights\",\n",
    "    calibration=CALIBRATION_PATH,\n",
    ")"
   ]
  }
 ],
 "metadata": {
  "language_info": {
   "name": "python"
  },
  "orig_nbformat": 4
 },
 "nbformat": 4,
 "nbformat_minor": 2
}
