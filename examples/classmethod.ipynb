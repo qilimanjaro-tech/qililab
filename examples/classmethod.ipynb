{
 "cells": [
  {
   "cell_type": "code",
   "execution_count": 1,
   "metadata": {},
   "outputs": [
    {
     "name": "stdout",
     "output_type": "stream",
     "text": [
      "Parent(name='Alice', age=40)\n",
      "Child(name='Bob', age=10, grade='5th')\n"
     ]
    }
   ],
   "source": [
    "from __future__ import annotations\n",
    "\n",
    "from typing import Any, Dict, Type, TypeVar\n",
    "\n",
    "T = TypeVar(\"T\", bound=\"Parent\")\n",
    "\n",
    "\n",
    "class Parent:\n",
    "    def __init__(self, name: str, age: int) -> None:\n",
    "        self.name = name\n",
    "        self.age = age\n",
    "\n",
    "    @classmethod\n",
    "    def from_dict(cls: Type[T], data: Dict[str, Any]) -> T:\n",
    "        \"\"\"\n",
    "        Build an instance of `cls` (which can be `Parent` or a subclass).\n",
    "        This allows Child classes to inherit the same method if\n",
    "        their constructor's parameter names match dictionary keys.\n",
    "        \"\"\"\n",
    "        # Directly unpack the dictionary into __init__ using **\n",
    "        return cls(**data)\n",
    "\n",
    "    def __repr__(self) -> str:\n",
    "        return f\"Parent(name={self.name!r}, age={self.age})\"\n",
    "\n",
    "\n",
    "class Child(Parent):\n",
    "    def __init__(self, name: str, age: int, grade: str) -> None:\n",
    "        \"\"\"\n",
    "        Child extends Parent by adding a 'grade' parameter.\n",
    "        \"\"\"\n",
    "        super().__init__(name, age)\n",
    "        self.grade = grade\n",
    "\n",
    "    def __repr__(self) -> str:\n",
    "        return f\"Child(name={self.name!r}, age={self.age}, grade={self.grade!r})\"\n",
    "\n",
    "\n",
    "if __name__ == \"__main__\":\n",
    "    # Dictionaries that match the constructor signatures\n",
    "    parent_data = {\"name\": \"Alice\", \"age\": 40}\n",
    "    child_data = {\"name\": \"Bob\", \"age\": 10, \"grade\": \"5th\"}\n",
    "\n",
    "    # Calling Parent.from_dict will produce a Parent instance\n",
    "    p = Parent.from_dict(parent_data)\n",
    "    # Calling Child.from_dict will produce a Child instance\n",
    "    c = Child.from_dict(child_data)\n",
    "\n",
    "    print(p)  # Parent(name='Alice', age=40)\n",
    "    print(c)  # Child(name='Bob', age=10, grade='5th')\n"
   ]
  }
 ],
 "metadata": {
  "kernelspec": {
   "display_name": ".venv",
   "language": "python",
   "name": "python3"
  },
  "language_info": {
   "codemirror_mode": {
    "name": "ipython",
    "version": 3
   },
   "file_extension": ".py",
   "mimetype": "text/x-python",
   "name": "python",
   "nbconvert_exporter": "python",
   "pygments_lexer": "ipython3",
   "version": "3.10.15"
  }
 },
 "nbformat": 4,
 "nbformat_minor": 2
}
