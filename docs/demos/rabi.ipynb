{
 "cells": [
  {
   "attachments": {},
   "cell_type": "markdown",
   "id": "5b710e5d",
   "metadata": {
    "papermill": {
     "duration": 0.00238,
     "end_time": "2023-12-21T17:08:18.726917",
     "exception": false,
     "start_time": "2023-12-21T17:08:18.724537",
     "status": "completed"
    },
    "tags": []
   },
   "source": [
    "## Basic Tutorial: Rabi Experiment\n",
    "\n",
    "To see how Qililab can help you running calibration experiments on your Quantum Computer, we are going to explore the\n",
    "Rabi experiment, one of the first experiments in every Quantum Computer calibration cycle."
   ]
  },
  {
   "attachments": {},
   "cell_type": "markdown",
   "id": "f5c2d65f",
   "metadata": {
    "papermill": {
     "duration": 0.001905,
     "end_time": "2023-12-21T17:08:18.730962",
     "exception": false,
     "start_time": "2023-12-21T17:08:18.729057",
     "status": "completed"
    },
    "tags": []
   },
   "source": [
    "### Rabi Experiment"
   ]
  },
  {
   "attachments": {},
   "cell_type": "markdown",
   "id": "a078ad70",
   "metadata": {
    "papermill": {
     "duration": 0.001849,
     "end_time": "2023-12-21T17:08:18.734722",
     "exception": false,
     "start_time": "2023-12-21T17:08:18.732873",
     "status": "completed"
    },
    "tags": []
   },
   "source": [
    "A Rabi experiment aims to find the $\\pi$ pulse amplitude that will help you excite your qubit from \n",
    "ground state, $| 0 \\rangle$, to the excited state, $| 1 \\rangle$. In order to find the right amplitude, we want to get\n",
    "what is known as the Rabi amplitude, which corresponds to the amplitude of the half cycle of driving your qubit to the \n",
    "excited state, back to the ground state, and again to the excited state, that is, a $360\\degree$ rotation around $\\sigma_x$ on the Bloch \n",
    "sphere.\n",
    "<div>\n",
    "<img src=\"images/bloch.gif\" width=\"300\"/>\n",
    "</div>\n"
   ]
  },
  {
   "cell_type": "markdown",
   "id": "029e6432",
   "metadata": {
    "papermill": {
     "duration": 0.002095,
     "end_time": "2023-12-21T17:08:18.738732",
     "exception": false,
     "start_time": "2023-12-21T17:08:18.736637",
     "status": "completed"
    },
    "tags": []
   },
   "source": [
    "By finding the half cycle amplitude value, we are able to know which amplitude our $\\pi$ pulse must have in order to perform an excitation\n",
    "from $| 0 \\rangle$ to $| 1 \\rangle$. This translates into the next basic circuit:\n",
    "\n",
    "<div>\n",
    "<img src=\"images/rabi_circuit.png\" width=\"300\"/>\n",
    "</div>\n",
    "\n",
    "In this circuit, we are performing first a rotation of $\\pi$ radians around the $X$ axis of the Bloch sphere, starting from the\n",
    "ground state, which should drive our qubit to the excited state. Then we measure the expected value, on the $Z$ axis base, this is\n",
    "$\\langle \\sigma_z \\rangle$ and register the measured value. \n",
    "\n",
    "Breaking this step by step, starting in the ground state $| 0 \\rangle = \\left[\\begin{array}{ll}\n",
    "1 & 0\n",
    "\\end{array}\\right]^T$ we first perform the $\\pi$ radians rotation about the $X$ axis of the Bloch sphere:\n",
    "\n",
    "$R_x\\left(\\pi\\right)=e^{-i \\pi \\sigma_x / 2}=\\left[\\begin{array}{cc}\n",
    "\\cos \\cfrac{\\pi}{2} & -i \\sin \\cfrac{\\pi}{2} \\\\\n",
    "-i \\sin \\cfrac{\\pi}{2} & \\cos \\cfrac{\\pi}{2}\n",
    "\\end{array}\\right] = \\left[\\begin{array}{cc}\n",
    "0 & -i  \\\\\n",
    "-i & 0\n",
    "\\end{array}\\right]$\n",
    "\n",
    "after which the qubit is in the state $| \\psi \\rangle = R_x | 0 \\rangle$. All we have to do now is to measure the expectation value \n",
    "of the qubit on the $Z$ axis of the Bloch sphere $\\langle \\psi | \\sigma_z | \\psi \\rangle$, by using the Pauli-Z operator\n",
    "\n",
    "$\\sigma_z=\\left[\\begin{array}{cc}\n",
    "1 & 0 \\\\\n",
    "0 & -1\n",
    "\\end{array}\\right]$\n",
    "\n",
    "which gives us an expectation value of $-1$, meaning our qubit is now in the excited $| 1 \\rangle = \\left[\\begin{array}{ll}\n",
    "0 & 1\n",
    "\\end{array}\\right]^T$. Let's check how to implement this circuit and the full experiment using Qililab.\n",
    "\n"
   ]
  },
  {
   "attachments": {},
   "cell_type": "markdown",
   "id": "8fbf78b9",
   "metadata": {
    "papermill": {
     "duration": 0.001876,
     "end_time": "2023-12-21T17:08:18.742584",
     "exception": false,
     "start_time": "2023-12-21T17:08:18.740708",
     "status": "completed"
    },
    "tags": []
   },
   "source": [
    "### Importing Qililab, Qibo, Numpy, Matplotlib and TQDM\n",
    "\n",
    "Qililab supports quantum circuits by using the Qibo library. For the Rabi experiment we will need to import the circuits functionality\n",
    "from Qibo, as well as its quantum gates module, to be able to use the measurement gate. We will use numpy to treat the experiment \n",
    "resulting data as well as Matplotlib to display the results. Finally, we will also import the tqdm library to display the progress\n",
    "bar as the experiment progresses."
   ]
  },
  {
   "cell_type": "code",
   "execution_count": 1,
   "id": "832f9770",
   "metadata": {
    "execution": {
     "iopub.execute_input": "2023-12-21T17:08:18.747611Z",
     "iopub.status.busy": "2023-12-21T17:08:18.747379Z",
     "iopub.status.idle": "2023-12-21T17:08:20.403576Z",
     "shell.execute_reply": "2023-12-21T17:08:20.403042Z"
    },
    "papermill": {
     "duration": 1.66024,
     "end_time": "2023-12-21T17:08:20.404792",
     "exception": false,
     "start_time": "2023-12-21T17:08:18.744552",
     "status": "completed"
    },
    "tags": [],
    "vscode": {
     "languageId": "plaintext"
    }
   },
   "outputs": [
    {
     "name": "stdout",
     "output_type": "stream",
     "text": [
      "2023-12-21 18:08:19,914 - qm - INFO     - Starting session: 533a1975-a895-4295-a1cf-f17dd38e1e1d\n"
     ]
    }
   ],
   "source": [
    "import matplotlib.pyplot as plt\n",
    "import numpy as np\n",
    "from qibo import gates\n",
    "from qibo.models import Circuit\n",
    "from tqdm.auto import tqdm\n",
    "\n",
    "import qililab as ql\n",
    "\n",
    "ql.logger.setLevel(40)  # set qililab's logger to a higher level so it only shows error messages"
   ]
  },
  {
   "attachments": {},
   "cell_type": "markdown",
   "id": "7554e72d",
   "metadata": {
    "papermill": {
     "duration": 0.002082,
     "end_time": "2023-12-21T17:08:20.409088",
     "exception": false,
     "start_time": "2023-12-21T17:08:20.407006",
     "status": "completed"
    },
    "tags": []
   },
   "source": [
    "### Experiment constants"
   ]
  },
  {
   "attachments": {},
   "cell_type": "markdown",
   "id": "5003ae16",
   "metadata": {
    "papermill": {
     "duration": 0.001952,
     "end_time": "2023-12-21T17:08:20.413073",
     "exception": false,
     "start_time": "2023-12-21T17:08:20.411121",
     "status": "completed"
    },
    "tags": []
   },
   "source": [
    "Next we are going to define some constants our experiment will be using. In order to calibrate the amplitude for our $\\pi$ pulse, \n",
    "we need to loop over a subset of amplitudes around which one we expect to find the right amplitude to drive our qubit from the \n",
    "ground state, $| 0 \\rangle$, to the excited state, $| 1 \\rangle$.\n",
    "\n",
    "First, we need to indicate Qililab which qubit, from our chip, we want to interact with. We will need to define the amplitude \n",
    "values array, for which we will use the numpy function linspace, wrapping the initial and final amplitude values, and the number of \n",
    "steps to generate in between. \n",
    "\n",
    "The hardware average constant allows us to specify the average of values for the results of the experiment. The repetition duration is the total time of execution of each shot. This duration accounts for the extra time required for the qubit to relax back to its ground state. For example, if a circuit takes 4,000ns to execute, there will be a wait time of `REPETITION_DURATION` - 4,000 before the next shot execution.\n",
    "\n",
    "Finally, we need to specify where our runcard is located so Qililab can instatiate our laboratory setup correctly. The runcard contains all necessary information about our laboratory setup (instruments, connection mappings, ips, etc) as well as the calibrated parameters for the quantum chip being used (pulse amplitudes, distorsions, pulse offsets, etc)."
   ]
  },
  {
   "cell_type": "code",
   "execution_count": 2,
   "id": "c619b962",
   "metadata": {
    "execution": {
     "iopub.execute_input": "2023-12-21T17:08:20.418257Z",
     "iopub.status.busy": "2023-12-21T17:08:20.417880Z",
     "iopub.status.idle": "2023-12-21T17:08:20.420915Z",
     "shell.execute_reply": "2023-12-21T17:08:20.420469Z"
    },
    "papermill": {
     "duration": 0.007397,
     "end_time": "2023-12-21T17:08:20.422482",
     "exception": false,
     "start_time": "2023-12-21T17:08:20.415085",
     "status": "completed"
    },
    "tags": [],
    "vscode": {
     "languageId": "plaintext"
    }
   },
   "outputs": [],
   "source": [
    "QUBIT = 0\n",
    "M_BUFFER_TIME = 0\n",
    "AMP_VALUES = np.linspace(0, 0.4, num=61)\n",
    "HW_AVG = 1000\n",
    "REPETITION_DURATION = 200_000\n",
    "RUNCARD_PATH = \"runcards/galadriel.yml\""
   ]
  },
  {
   "cell_type": "markdown",
   "id": "b2a8bc03",
   "metadata": {
    "papermill": {
     "duration": 0.004264,
     "end_time": "2023-12-21T17:08:20.431128",
     "exception": false,
     "start_time": "2023-12-21T17:08:20.426864",
     "status": "completed"
    },
    "tags": []
   },
   "source": [
    "### Circuit Definition"
   ]
  },
  {
   "cell_type": "markdown",
   "id": "abf08663",
   "metadata": {
    "papermill": {
     "duration": 0.00491,
     "end_time": "2023-12-21T17:08:20.440322",
     "exception": false,
     "start_time": "2023-12-21T17:08:20.435412",
     "status": "completed"
    },
    "tags": []
   },
   "source": [
    "Now we need to define the circuit we want to run. Qililab uses qibo as its higher level framework to build circuits and complex algorithms. The circuit for the rabi experiment is quite simple. As seen in the figure above, we just need a pi-pulse (drag pulse with amplitude of pi) and a measurement. We also add some buffer time between the drag pulse and the measurement in case we want to experiment with the qubit's excitation induced by the pulse.\n",
    "\n",
    "[Drag pulses](https://arxiv.org/abs/0901.0534) are the native pulses used as one-qubit gates for our chip."
   ]
  },
  {
   "cell_type": "code",
   "execution_count": 3,
   "id": "ec21d1ba",
   "metadata": {
    "execution": {
     "iopub.execute_input": "2023-12-21T17:08:20.450418Z",
     "iopub.status.busy": "2023-12-21T17:08:20.450156Z",
     "iopub.status.idle": "2023-12-21T17:08:20.456281Z",
     "shell.execute_reply": "2023-12-21T17:08:20.455740Z"
    },
    "papermill": {
     "duration": 0.012505,
     "end_time": "2023-12-21T17:08:20.457390",
     "exception": false,
     "start_time": "2023-12-21T17:08:20.444885",
     "status": "completed"
    },
    "tags": [],
    "vscode": {
     "languageId": "plaintext"
    }
   },
   "outputs": [
    {
     "data": {
      "text/plain": [
       "MeasurementResult(qubits=(0,), nshots=0)"
      ]
     },
     "execution_count": 3,
     "metadata": {},
     "output_type": "execute_result"
    }
   ],
   "source": [
    "# Define circuit\n",
    "circuit = Circuit(QUBIT + 1)\n",
    "circuit.add(ql.Drag(QUBIT, theta=np.pi, phase=0))\n",
    "circuit.add(ql.Wait(QUBIT, M_BUFFER_TIME))\n",
    "circuit.add(gates.M(QUBIT))"
   ]
  },
  {
   "cell_type": "markdown",
   "id": "5c2ff040",
   "metadata": {
    "papermill": {
     "duration": 0.002145,
     "end_time": "2023-12-21T17:08:20.461732",
     "exception": false,
     "start_time": "2023-12-21T17:08:20.459587",
     "status": "completed"
    },
    "tags": []
   },
   "source": [
    "### Platform Initialization"
   ]
  },
  {
   "cell_type": "markdown",
   "id": "c086b395",
   "metadata": {
    "papermill": {
     "duration": 0.002038,
     "end_time": "2023-12-21T17:08:20.465903",
     "exception": false,
     "start_time": "2023-12-21T17:08:20.463865",
     "status": "completed"
    },
    "tags": []
   },
   "source": [
    "We run the following steps to initialize the platform:\n",
    "- `build_platform` loads the configuration file for the platform into memory\n",
    "- `connect` connects to the instruments specified in platform\n",
    "- `initial_setup` sets the instruments values for each controlled parameter to those specified in platform\n",
    "- `turn_on_instruments` turns the instruments on and sets them ready to run"
   ]
  },
  {
   "cell_type": "code",
   "execution_count": 4,
   "id": "6d790417",
   "metadata": {
    "execution": {
     "iopub.execute_input": "2023-12-21T17:08:20.471089Z",
     "iopub.status.busy": "2023-12-21T17:08:20.470910Z",
     "iopub.status.idle": "2023-12-21T17:08:27.080007Z",
     "shell.execute_reply": "2023-12-21T17:08:27.079343Z"
    },
    "papermill": {
     "duration": 6.61407,
     "end_time": "2023-12-21T17:08:27.082092",
     "exception": false,
     "start_time": "2023-12-21T17:08:20.468022",
     "status": "completed"
    },
    "tags": [],
    "vscode": {
     "languageId": "plaintext"
    }
   },
   "outputs": [
    {
     "name": "stdout",
     "output_type": "stream",
     "text": [
      "Connected to: Rohde&Schwarz SGS100A (serial:1416.0505k02/114600, firmware:4.2.76.0-4.30.046.295) in 0.11s\n",
      "Connected to: Rohde&Schwarz SGS100A (serial:1416.0505k02/101901, firmware:4.2.76.0-4.30.046.295) in 0.08s\n",
      "Connected to: Rohde&Schwarz SGS100A (serial:1416.0505k02/114033, firmware:4.2.76.0-4.30.046.295) in 0.07s\n"
     ]
    }
   ],
   "source": [
    "platform = ql.build_platform(runcard=RUNCARD_PATH)\n",
    "platform.connect()\n",
    "platform.initial_setup()\n",
    "platform.turn_on_instruments()"
   ]
  },
  {
   "cell_type": "markdown",
   "id": "8903c264",
   "metadata": {
    "papermill": {
     "duration": 0.004524,
     "end_time": "2023-12-21T17:08:27.091588",
     "exception": false,
     "start_time": "2023-12-21T17:08:27.087064",
     "status": "completed"
    },
    "tags": []
   },
   "source": [
    "### Experiment execution"
   ]
  },
  {
   "cell_type": "markdown",
   "id": "2c4b9e13",
   "metadata": {
    "papermill": {
     "duration": 0.004447,
     "end_time": "2023-12-21T17:08:27.100559",
     "exception": false,
     "start_time": "2023-12-21T17:08:27.096112",
     "status": "completed"
    },
    "tags": []
   },
   "source": [
    "Now we are ready to launch the experiment. We create an empty list to which we will store each the results from each loop in the experiment. Then we define the loop we want to run and execute it through platform. Note as well how we use platform to set the value we are varying at each iteration.\n",
    "\n",
    "In the case of the rabi experiment, we are interested on iterating through several values of the pulse amplitude in order to tune which value excites the qubit to its $| 1\\rangle$ state, that is, we want to find the amplitude of the pi-pulse."
   ]
  },
  {
   "cell_type": "code",
   "execution_count": 5,
   "id": "fce5c70e",
   "metadata": {
    "execution": {
     "iopub.execute_input": "2023-12-21T17:08:27.111045Z",
     "iopub.status.busy": "2023-12-21T17:08:27.110725Z",
     "iopub.status.idle": "2023-12-21T17:08:53.197551Z",
     "shell.execute_reply": "2023-12-21T17:08:53.196723Z"
    },
    "papermill": {
     "duration": 26.094364,
     "end_time": "2023-12-21T17:08:53.199436",
     "exception": false,
     "start_time": "2023-12-21T17:08:27.105072",
     "status": "completed"
    },
    "tags": [],
    "vscode": {
     "languageId": "plaintext"
    }
   },
   "outputs": [
    {
     "data": {
      "application/vnd.jupyter.widget-view+json": {
       "model_id": "71f345b4cf8240888b87da481ab09a46",
       "version_major": 2,
       "version_minor": 0
      },
      "text/plain": [
       "Amplitude:   0%|          | 0/61 [00:00<?, ?it/s]"
      ]
     },
     "metadata": {},
     "output_type": "display_data"
    }
   ],
   "source": [
    "# Run experiment\n",
    "results_list = []\n",
    "for amp in tqdm(iterable=AMP_VALUES, total=len(AMP_VALUES), desc=\"Amplitude\"):\n",
    "    platform.set_parameter(alias=f\"Drag({QUBIT})\", parameter=ql.Parameter.AMPLITUDE, value=float(amp))\n",
    "    result = platform.execute(program=circuit, num_avg=HW_AVG, repetition_duration=REPETITION_DURATION)\n",
    "    results_list.append(result.array)\n",
    "\n",
    "results = np.hstack(results_list)"
   ]
  },
  {
   "cell_type": "markdown",
   "id": "a1f29192",
   "metadata": {
    "papermill": {
     "duration": 0.004979,
     "end_time": "2023-12-21T17:08:53.209571",
     "exception": false,
     "start_time": "2023-12-21T17:08:53.204592",
     "status": "completed"
    },
    "tags": []
   },
   "source": [
    "Once we have gathered all the results, we plot them to see the characteristic rabi plot and identify the point at which the $|0 \\rangle \\rightarrow |1 \\rangle$ excitation happens"
   ]
  },
  {
   "cell_type": "code",
   "execution_count": 6,
   "id": "07ca4642",
   "metadata": {
    "execution": {
     "iopub.execute_input": "2023-12-21T17:08:53.220683Z",
     "iopub.status.busy": "2023-12-21T17:08:53.220359Z",
     "iopub.status.idle": "2023-12-21T17:08:53.588284Z",
     "shell.execute_reply": "2023-12-21T17:08:53.587818Z"
    },
    "papermill": {
     "duration": 0.375837,
     "end_time": "2023-12-21T17:08:53.590306",
     "exception": false,
     "start_time": "2023-12-21T17:08:53.214469",
     "status": "completed"
    },
    "tags": [],
    "vscode": {
     "languageId": "plaintext"
    }
   },
   "outputs": [
    {
     "data": {
      "image/png": "[encoded data removed]",
      "text/plain": [
       "<Figure size 1300x700 with 2 Axes>"
      ]
     },
     "metadata": {},
     "output_type": "display_data"
    }
   ],
   "source": [
    "def plot_iq(xdata, results: np.ndarray, title_label: str, xlabel: str):\n",
    "    fig, axes = plt.subplots(1, 2, figsize=(13, 7))\n",
    "\n",
    "    if isinstance(axes, np.ndarray):\n",
    "        axes[0].plot(xdata, results[0], \"--o\", color=\"blue\")\n",
    "        axes[1].plot(xdata, results[1], \"--o\", color=\"blue\")\n",
    "        axes[0].set_title(\"I\")\n",
    "        axes[1].set_title(\"Q\")\n",
    "        axes[0].set_xlabel(xlabel)\n",
    "        axes[1].set_xlabel(xlabel)\n",
    "        axes[0].set_ylabel(\"Voltage [a.u.]\")\n",
    "        axes[1].set_ylabel(\"Voltage [a.u.]\")\n",
    "        \n",
    "    fig.suptitle(title_label)\n",
    "    return fig, axes\n",
    "\n",
    "plot_iq(xdata=AMP_VALUES, results=results, title_label=\"rabi\", xlabel=\"amplitude\")\n",
    "plt.show()"
   ]
  },
  {
   "cell_type": "markdown",
   "id": "0c4fe840",
   "metadata": {},
   "source": [
    "In this case we want to pick the value for the first minima for Q, around 0.13."
   ]
  }
 ],
 "metadata": {
  "language_info": {
   "codemirror_mode": {
    "name": "ipython",
    "version": 3
   },
   "file_extension": ".py",
   "mimetype": "text/x-python",
   "name": "python",
   "nbconvert_exporter": "python",
   "pygments_lexer": "ipython3",
   "version": "3.10.12"
  },
  "papermill": {
   "default_parameters": {},
   "duration": 36.323742,
   "end_time": "2023-12-21T17:08:54.315082",
   "environment_variables": {},
   "exception": null,
   "input_path": "rabi.ipynb",
   "output_path": "0-rabi.ipynb",
   "parameters": {},
   "start_time": "2023-12-21T17:08:17.991340",
   "version": "2.4.0"
  },
  "widgets": {
   "application/vnd.jupyter.widget-state+json": {
    "state": {
     "27682ca915f14100932932bc8efb049a": {
      "model_module": "@jupyter-widgets/controls",
      "model_module_version": "2.0.0",
      "model_name": "HTMLModel",
      "state": {
       "_dom_classes": [],
       "_model_module": "@jupyter-widgets/controls",
       "_model_module_version": "2.0.0",
       "_model_name": "HTMLModel",
       "_view_count": null,
       "_view_module": "@jupyter-widgets/controls",
       "_view_module_version": "2.0.0",
       "_view_name": "HTMLView",
       "description": "",
       "description_allow_html": false,
       "layout": "IPY_MODEL_56695c9575704216a72e80f7ffeaf219",
       "placeholder": "​",
       "style": "IPY_MODEL_ad30a5338aee4c8dbd7dfbb63e03768d",
       "tabbable": null,
       "tooltip": null,
       "value": " 61/61 [00:26&lt;00:00,  2.30it/s]"
      }
     },
     "3271805f8c5a421a888ccbac0ed130f3": {
      "model_module": "@jupyter-widgets/controls",
      "model_module_version": "2.0.0",
      "model_name": "HTMLModel",
      "state": {
       "_dom_classes": [],
       "_model_module": "@jupyter-widgets/controls",
       "_model_module_version": "2.0.0",
       "_model_name": "HTMLModel",
       "_view_count": null,
       "_view_module": "@jupyter-widgets/controls",
       "_view_module_version": "2.0.0",
       "_view_name": "HTMLView",
       "description": "",
       "description_allow_html": false,
       "layout": "IPY_MODEL_e73b192c1c474d27808a0202edaa114c",
       "placeholder": "​",
       "style": "IPY_MODEL_685bf78a2817440c933b6d8c0e510997",
       "tabbable": null,
       "tooltip": null,
       "value": "Amplitude: 100%"
      }
     },
     "56695c9575704216a72e80f7ffeaf219": {
      "model_module": "@jupyter-widgets/base",
      "model_module_version": "2.0.0",
      "model_name": "LayoutModel",
      "state": {
       "_model_module": "@jupyter-widgets/base",
       "_model_module_version": "2.0.0",
       "_model_name": "LayoutModel",
       "_view_count": null,
       "_view_module": "@jupyter-widgets/base",
       "_view_module_version": "2.0.0",
       "_view_name": "LayoutView",
       "align_content": null,
       "align_items": null,
       "align_self": null,
       "border_bottom": null,
       "border_left": null,
       "border_right": null,
       "border_top": null,
       "bottom": null,
       "display": null,
       "flex": null,
       "flex_flow": null,
       "grid_area": null,
       "grid_auto_columns": null,
       "grid_auto_flow": null,
       "grid_auto_rows": null,
       "grid_column": null,
       "grid_gap": null,
       "grid_row": null,
       "grid_template_areas": null,
       "grid_template_columns": null,
       "grid_template_rows": null,
       "height": null,
       "justify_content": null,
       "justify_items": null,
       "left": null,
       "margin": null,
       "max_height": null,
       "max_width": null,
       "min_height": null,
       "min_width": null,
       "object_fit": null,
       "object_position": null,
       "order": null,
       "overflow": null,
       "padding": null,
       "right": null,
       "top": null,
       "visibility": null,
       "width": null
      }
     },
     "685bf78a2817440c933b6d8c0e510997": {
      "model_module": "@jupyter-widgets/controls",
      "model_module_version": "2.0.0",
      "model_name": "HTMLStyleModel",
      "state": {
       "_model_module": "@jupyter-widgets/controls",
       "_model_module_version": "2.0.0",
       "_model_name": "HTMLStyleModel",
       "_view_count": null,
       "_view_module": "@jupyter-widgets/base",
       "_view_module_version": "2.0.0",
       "_view_name": "StyleView",
       "background": null,
       "description_width": "",
       "font_size": null,
       "text_color": null
      }
     },
     "71f345b4cf8240888b87da481ab09a46": {
      "model_module": "@jupyter-widgets/controls",
      "model_module_version": "2.0.0",
      "model_name": "HBoxModel",
      "state": {
       "_dom_classes": [],
       "_model_module": "@jupyter-widgets/controls",
       "_model_module_version": "2.0.0",
       "_model_name": "HBoxModel",
       "_view_count": null,
       "_view_module": "@jupyter-widgets/controls",
       "_view_module_version": "2.0.0",
       "_view_name": "HBoxView",
       "box_style": "",
       "children": [
        "IPY_MODEL_3271805f8c5a421a888ccbac0ed130f3",
        "IPY_MODEL_d01ca0edea1546c8b7c526bca9e69013",
        "IPY_MODEL_27682ca915f14100932932bc8efb049a"
       ],
       "layout": "IPY_MODEL_b6d2519657704db49e68a1005e353b7f",
       "tabbable": null,
       "tooltip": null
      }
     },
     "a2f0c7e1e364400d9a09ddf0c78587b4": {
      "model_module": "@jupyter-widgets/controls",
      "model_module_version": "2.0.0",
      "model_name": "ProgressStyleModel",
      "state": {
       "_model_module": "@jupyter-widgets/controls",
       "_model_module_version": "2.0.0",
       "_model_name": "ProgressStyleModel",
       "_view_count": null,
       "_view_module": "@jupyter-widgets/base",
       "_view_module_version": "2.0.0",
       "_view_name": "StyleView",
       "bar_color": null,
       "description_width": ""
      }
     },
     "ad30a5338aee4c8dbd7dfbb63e03768d": {
      "model_module": "@jupyter-widgets/controls",
      "model_module_version": "2.0.0",
      "model_name": "HTMLStyleModel",
      "state": {
       "_model_module": "@jupyter-widgets/controls",
       "_model_module_version": "2.0.0",
       "_model_name": "HTMLStyleModel",
       "_view_count": null,
       "_view_module": "@jupyter-widgets/base",
       "_view_module_version": "2.0.0",
       "_view_name": "StyleView",
       "background": null,
       "description_width": "",
       "font_size": null,
       "text_color": null
      }
     },
     "b6d2519657704db49e68a1005e353b7f": {
      "model_module": "@jupyter-widgets/base",
      "model_module_version": "2.0.0",
      "model_name": "LayoutModel",
      "state": {
       "_model_module": "@jupyter-widgets/base",
       "_model_module_version": "2.0.0",
       "_model_name": "LayoutModel",
       "_view_count": null,
       "_view_module": "@jupyter-widgets/base",
       "_view_module_version": "2.0.0",
       "_view_name": "LayoutView",
       "align_content": null,
       "align_items": null,
       "align_self": null,
       "border_bottom": null,
       "border_left": null,
       "border_right": null,
       "border_top": null,
       "bottom": null,
       "display": null,
       "flex": null,
       "flex_flow": null,
       "grid_area": null,
       "grid_auto_columns": null,
       "grid_auto_flow": null,
       "grid_auto_rows": null,
       "grid_column": null,
       "grid_gap": null,
       "grid_row": null,
       "grid_template_areas": null,
       "grid_template_columns": null,
       "grid_template_rows": null,
       "height": null,
       "justify_content": null,
       "justify_items": null,
       "left": null,
       "margin": null,
       "max_height": null,
       "max_width": null,
       "min_height": null,
       "min_width": null,
       "object_fit": null,
       "object_position": null,
       "order": null,
       "overflow": null,
       "padding": null,
       "right": null,
       "top": null,
       "visibility": null,
       "width": null
      }
     },
     "c0afcf2b72734e8daec6ac8964858c4f": {
      "model_module": "@jupyter-widgets/base",
      "model_module_version": "2.0.0",
      "model_name": "LayoutModel",
      "state": {
       "_model_module": "@jupyter-widgets/base",
       "_model_module_version": "2.0.0",
       "_model_name": "LayoutModel",
       "_view_count": null,
       "_view_module": "@jupyter-widgets/base",
       "_view_module_version": "2.0.0",
       "_view_name": "LayoutView",
       "align_content": null,
       "align_items": null,
       "align_self": null,
       "border_bottom": null,
       "border_left": null,
       "border_right": null,
       "border_top": null,
       "bottom": null,
       "display": null,
       "flex": null,
       "flex_flow": null,
       "grid_area": null,
       "grid_auto_columns": null,
       "grid_auto_flow": null,
       "grid_auto_rows": null,
       "grid_column": null,
       "grid_gap": null,
       "grid_row": null,
       "grid_template_areas": null,
       "grid_template_columns": null,
       "grid_template_rows": null,
       "height": null,
       "justify_content": null,
       "justify_items": null,
       "left": null,
       "margin": null,
       "max_height": null,
       "max_width": null,
       "min_height": null,
       "min_width": null,
       "object_fit": null,
       "object_position": null,
       "order": null,
       "overflow": null,
       "padding": null,
       "right": null,
       "top": null,
       "visibility": null,
       "width": null
      }
     },
     "d01ca0edea1546c8b7c526bca9e69013": {
      "model_module": "@jupyter-widgets/controls",
      "model_module_version": "2.0.0",
      "model_name": "FloatProgressModel",
      "state": {
       "_dom_classes": [],
       "_model_module": "@jupyter-widgets/controls",
       "_model_module_version": "2.0.0",
       "_model_name": "FloatProgressModel",
       "_view_count": null,
       "_view_module": "@jupyter-widgets/controls",
       "_view_module_version": "2.0.0",
       "_view_name": "ProgressView",
       "bar_style": "success",
       "description": "",
       "description_allow_html": false,
       "layout": "IPY_MODEL_c0afcf2b72734e8daec6ac8964858c4f",
       "max": 61,
       "min": 0,
       "orientation": "horizontal",
       "style": "IPY_MODEL_a2f0c7e1e364400d9a09ddf0c78587b4",
       "tabbable": null,
       "tooltip": null,
       "value": 61
      }
     },
     "e73b192c1c474d27808a0202edaa114c": {
      "model_module": "@jupyter-widgets/base",
      "model_module_version": "2.0.0",
      "model_name": "LayoutModel",
      "state": {
       "_model_module": "@jupyter-widgets/base",
       "_model_module_version": "2.0.0",
       "_model_name": "LayoutModel",
       "_view_count": null,
       "_view_module": "@jupyter-widgets/base",
       "_view_module_version": "2.0.0",
       "_view_name": "LayoutView",
       "align_content": null,
       "align_items": null,
       "align_self": null,
       "border_bottom": null,
       "border_left": null,
       "border_right": null,
       "border_top": null,
       "bottom": null,
       "display": null,
       "flex": null,
       "flex_flow": null,
       "grid_area": null,
       "grid_auto_columns": null,
       "grid_auto_flow": null,
       "grid_auto_rows": null,
       "grid_column": null,
       "grid_gap": null,
       "grid_row": null,
       "grid_template_areas": null,
       "grid_template_columns": null,
       "grid_template_rows": null,
       "height": null,
       "justify_content": null,
       "justify_items": null,
       "left": null,
       "margin": null,
       "max_height": null,
       "max_width": null,
       "min_height": null,
       "min_width": null,
       "object_fit": null,
       "object_position": null,
       "order": null,
       "overflow": null,
       "padding": null,
       "right": null,
       "top": null,
       "visibility": null,
       "width": null
      }
     }
    },
    "version_major": 2,
    "version_minor": 0
   }
  }
 },
 "nbformat": 4,
 "nbformat_minor": 5
}
