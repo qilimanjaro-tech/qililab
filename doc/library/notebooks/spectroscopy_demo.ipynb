{
 "cells": [
  {
   "attachments": {},
   "cell_type": "markdown",
   "metadata": {},
   "source": [
    "# Resonator spectroscopy"
   ]
  },
  {
   "attachments": {},
   "cell_type": "markdown",
   "metadata": {},
   "source": [
    "A ressonator spectroscopy is the first procedure in order to calibrate out quantum computer.\n",
    "This procedure is meant to find the resonant frequency of the different resonators.To do that, we make a sweep of frequencies in a reasonable rang to find the one that resonates in our particular resonator. These procedure is done while our qubit is in the ground state."
   ]
  },
  {
   "attachments": {},
   "cell_type": "markdown",
   "metadata": {},
   "source": [
    "Firs of all let us import all the libraries needed."
   ]
  },
  {
   "cell_type": "code",
   "execution_count": 1,
   "metadata": {},
   "outputs": [],
   "source": [
    "\"\"\"Run circuit experiment\"\"\"\n",
    "import numpy as np\n",
    "import matplotlib.pyplot as plt\n",
    "\n",
    "import os\n",
    "\n",
    "from qibo.models.circuit import Circuit\n",
    "from qibo.gates import M\n",
    "\n",
    "from qiboconnection.api import API\n",
    "from qiboconnection.connection import ConnectionConfiguration\n",
    "from qiboconnection.connection import Connection\n",
    "\n",
    "from qililab import build_platform\n",
    "from qililab.experiment import Experiment\n",
    "from qililab.typings import Parameter, ExperimentOptions, ExperimentSettings\n",
    "from qililab.utils import Loop\n",
    "from qililab.typings.loop import LoopOptions\n",
    "from qililab.typings.execution import ExecutionOptions\n",
    "from qililab.config import logger\n",
    "\n",
    "logger.setLevel(30)\n",
    "\n",
    "os.environ[\"RUNCARDS\"] = \"./runcards\"\n",
    "os.environ[\"DATA\"] = \"/home/qilimanjaro/Documents/data\"\n",
    "\n",
    "%matplotlib widget"
   ]
  },
  {
   "attachments": {},
   "cell_type": "markdown",
   "metadata": {},
   "source": [
    "### Qibo connection setup\n",
    "In order to connect to the quantum computer, lets set our connection"
   ]
  },
  {
   "cell_type": "code",
   "execution_count": 2,
   "metadata": {},
   "outputs": [],
   "source": [
    "configuration=ConnectionConfiguration(\n",
    "        username = \"pjamet\",\n",
    "        api_key = \"04395e92-0c16-47ed-9130-8989f5db7f4e\",\n",
    "    )\n",
    "\n",
    "connection = API()"
   ]
  },
  {
   "cell_type": "code",
   "execution_count": 3,
   "metadata": {},
   "outputs": [
    {
     "data": {
      "text/plain": [
       "'OK'"
      ]
     },
     "execution_count": 3,
     "metadata": {},
     "output_type": "execute_result"
    }
   ],
   "source": [
    "# Verify connection\n",
    "connection.ping()"
   ]
  },
  {
   "attachments": {},
   "cell_type": "markdown",
   "metadata": {},
   "source": [
    "### Experiment parameters\n",
    "In this part of the code we set the experiment parameters of the spectroscopy and create the loop."
   ]
  },
  {
   "cell_type": "code",
   "execution_count": 10,
   "metadata": {},
   "outputs": [],
   "source": [
    "# experiment parameters to change  on the spot:\n",
    "attenuation = 37\n",
    "current = -0.01\n",
    "\n",
    "# loop parameters:\n",
    "frequency_start = 8.1e9 \n",
    "frequency_stop = 8.13e9\n",
    "frequency_num = 101\n",
    "\n",
    "current_start =0.00\n",
    "current_stop = -0.03\n",
    "current_num = 21"
   ]
  },
  {
   "attachments": {},
   "cell_type": "markdown",
   "metadata": {},
   "source": [
    "### Load the runcard"
   ]
  },
  {
   "cell_type": "code",
   "execution_count": 12,
   "metadata": {},
   "outputs": [
    {
     "name": "stderr",
     "output_type": "stream",
     "text": [
      "[qibo-connection] 0.7.1|INFO|2023-03-01 13:06:11]: Device Galadriel Qblox rack blocked.\n",
      "INFO:qiboconnection.config:Device Galadriel Qblox rack blocked.\n",
      "WARNING:spirack.S4g_module:S4g module 7: current 0.000000 mA too low for set span,current set to min value: 0.000000 mA\n",
      "WARNING:spirack.S4g_module:S4g module 7: current 0.000000 mA too low for set span,current set to min value: 0.000000 mA\n"
     ]
    },
    {
     "name": "stdout",
     "output_type": "stream",
     "text": [
      "Connected to: Rohde&Schwarz SGS100A (serial:1416.0505k02/101901, firmware:4.2.76.0-4.30.046.295) in 0.11s\n",
      "Connected to: Qblox SPI Rack (serial:None, firmware:{'device': 'v1.6 - May 10 2019 - mt', 'driver': {'version': '0.8.1', 'build': '13/12/2022-09:29:06', 'hash': '6c0c23ba', 'dirty': False}}) in 0.00s\n",
      "Current too low for set span, DAC set to min value\n",
      "Current too low for set span, DAC set to min value\n",
      "set ref from cluster to internal\n",
      "gain path0 set to 0.09997864067554474\n",
      "gain path1 set to 0.09997864067554474\n",
      "Initial setup was called\n",
      " \n",
      " Gain Imbalance set to 1.0 \n",
      "\n",
      " \n",
      " Phase Imbalance set to -0.0 \n",
      "\n",
      "\n",
      " Platform connected \n",
      "\n"
     ]
    },
    {
     "data": {
      "application/vnd.jupyter.widget-view+json": {
       "model_id": "7b5c6d17d19b43e787f7133206160621",
       "version_major": 2,
       "version_minor": 0
      },
      "text/plain": [
       "  0%|          | 0/21 [00:00<?, ?it/s]"
      ]
     },
     "metadata": {},
     "output_type": "display_data"
    },
    {
     "data": {
      "application/vnd.jupyter.widget-view+json": {
       "model_id": "c6666f3bf2b44ee990b18099a1e20f24",
       "version_major": 2,
       "version_minor": 0
      },
      "text/plain": [
       "  0%|          | 0/101 [00:00<?, ?it/s]"
      ]
     },
     "metadata": {},
     "output_type": "display_data"
    },
    {
     "data": {
      "application/vnd.jupyter.widget-view+json": {
       "model_id": "4640d063063e4d7e8629443c46f1a544",
       "version_major": 2,
       "version_minor": 0
      },
      "text/plain": [
       "  0%|          | 0/101 [00:00<?, ?it/s]"
      ]
     },
     "metadata": {},
     "output_type": "display_data"
    },
    {
     "data": {
      "application/vnd.jupyter.widget-view+json": {
       "model_id": "2c6e0d9b5e8c450aa2a63e410d33f5fc",
       "version_major": 2,
       "version_minor": 0
      },
      "text/plain": [
       "  0%|          | 0/101 [00:00<?, ?it/s]"
      ]
     },
     "metadata": {},
     "output_type": "display_data"
    },
    {
     "data": {
      "application/vnd.jupyter.widget-view+json": {
       "model_id": "76adaeea55fd47bd91ec05f7c1cbd9a5",
       "version_major": 2,
       "version_minor": 0
      },
      "text/plain": [
       "  0%|          | 0/101 [00:00<?, ?it/s]"
      ]
     },
     "metadata": {},
     "output_type": "display_data"
    },
    {
     "data": {
      "application/vnd.jupyter.widget-view+json": {
       "model_id": "f2fd943c29274317bb1c68724f970aeb",
       "version_major": 2,
       "version_minor": 0
      },
      "text/plain": [
       "  0%|          | 0/101 [00:00<?, ?it/s]"
      ]
     },
     "metadata": {},
     "output_type": "display_data"
    },
    {
     "data": {
      "application/vnd.jupyter.widget-view+json": {
       "model_id": "9f67a1ca392845fe9cb5042b739eeb23",
       "version_major": 2,
       "version_minor": 0
      },
      "text/plain": [
       "  0%|          | 0/101 [00:00<?, ?it/s]"
      ]
     },
     "metadata": {},
     "output_type": "display_data"
    },
    {
     "data": {
      "application/vnd.jupyter.widget-view+json": {
       "model_id": "07a0f36ecd9643b2a0313ed75383be94",
       "version_major": 2,
       "version_minor": 0
      },
      "text/plain": [
       "  0%|          | 0/101 [00:00<?, ?it/s]"
      ]
     },
     "metadata": {},
     "output_type": "display_data"
    },
    {
     "data": {
      "application/vnd.jupyter.widget-view+json": {
       "model_id": "6c3cc3f345724200b4a77f29f8636f61",
       "version_major": 2,
       "version_minor": 0
      },
      "text/plain": [
       "  0%|          | 0/101 [00:00<?, ?it/s]"
      ]
     },
     "metadata": {},
     "output_type": "display_data"
    },
    {
     "data": {
      "application/vnd.jupyter.widget-view+json": {
       "model_id": "712406c2cc0c48189df5709531ca3c54",
       "version_major": 2,
       "version_minor": 0
      },
      "text/plain": [
       "  0%|          | 0/101 [00:00<?, ?it/s]"
      ]
     },
     "metadata": {},
     "output_type": "display_data"
    },
    {
     "data": {
      "application/vnd.jupyter.widget-view+json": {
       "model_id": "1dd1fdc5b2e3486488de72725b691b0c",
       "version_major": 2,
       "version_minor": 0
      },
      "text/plain": [
       "  0%|          | 0/101 [00:00<?, ?it/s]"
      ]
     },
     "metadata": {},
     "output_type": "display_data"
    },
    {
     "data": {
      "application/vnd.jupyter.widget-view+json": {
       "model_id": "51f078d5442d4e1d9f66c74e8b869fd3",
       "version_major": 2,
       "version_minor": 0
      },
      "text/plain": [
       "  0%|          | 0/101 [00:00<?, ?it/s]"
      ]
     },
     "metadata": {},
     "output_type": "display_data"
    },
    {
     "data": {
      "application/vnd.jupyter.widget-view+json": {
       "model_id": "ff7601062f4041699e67ad21a9a2c17c",
       "version_major": 2,
       "version_minor": 0
      },
      "text/plain": [
       "  0%|          | 0/101 [00:00<?, ?it/s]"
      ]
     },
     "metadata": {},
     "output_type": "display_data"
    },
    {
     "data": {
      "application/vnd.jupyter.widget-view+json": {
       "model_id": "ddd84b126c7e4558b0085c0c096ccb17",
       "version_major": 2,
       "version_minor": 0
      },
      "text/plain": [
       "  0%|          | 0/101 [00:00<?, ?it/s]"
      ]
     },
     "metadata": {},
     "output_type": "display_data"
    },
    {
     "data": {
      "application/vnd.jupyter.widget-view+json": {
       "model_id": "cb10e5dc4ed948aba3af3b24453036b0",
       "version_major": 2,
       "version_minor": 0
      },
      "text/plain": [
       "  0%|          | 0/101 [00:00<?, ?it/s]"
      ]
     },
     "metadata": {},
     "output_type": "display_data"
    },
    {
     "data": {
      "application/vnd.jupyter.widget-view+json": {
       "model_id": "e3333ccea90e4db4a69e26d67736b742",
       "version_major": 2,
       "version_minor": 0
      },
      "text/plain": [
       "  0%|          | 0/101 [00:00<?, ?it/s]"
      ]
     },
     "metadata": {},
     "output_type": "display_data"
    },
    {
     "data": {
      "application/vnd.jupyter.widget-view+json": {
       "model_id": "16cc935dba554a3781cf44dc1ca5837d",
       "version_major": 2,
       "version_minor": 0
      },
      "text/plain": [
       "  0%|          | 0/101 [00:00<?, ?it/s]"
      ]
     },
     "metadata": {},
     "output_type": "display_data"
    },
    {
     "data": {
      "application/vnd.jupyter.widget-view+json": {
       "model_id": "99ef000d5eeb4bc0888aefb558496452",
       "version_major": 2,
       "version_minor": 0
      },
      "text/plain": [
       "  0%|          | 0/101 [00:00<?, ?it/s]"
      ]
     },
     "metadata": {},
     "output_type": "display_data"
    },
    {
     "data": {
      "application/vnd.jupyter.widget-view+json": {
       "model_id": "f32fabcadfea4b318e071792cdfa3284",
       "version_major": 2,
       "version_minor": 0
      },
      "text/plain": [
       "  0%|          | 0/101 [00:00<?, ?it/s]"
      ]
     },
     "metadata": {},
     "output_type": "display_data"
    },
    {
     "data": {
      "application/vnd.jupyter.widget-view+json": {
       "model_id": "4dc2e7937275486ba3ec9a9b3bde681f",
       "version_major": 2,
       "version_minor": 0
      },
      "text/plain": [
       "  0%|          | 0/101 [00:00<?, ?it/s]"
      ]
     },
     "metadata": {},
     "output_type": "display_data"
    },
    {
     "data": {
      "application/vnd.jupyter.widget-view+json": {
       "model_id": "4cf62c37f8cd4f9d9c22a1178685da22",
       "version_major": 2,
       "version_minor": 0
      },
      "text/plain": [
       "  0%|          | 0/101 [00:00<?, ?it/s]"
      ]
     },
     "metadata": {},
     "output_type": "display_data"
    },
    {
     "data": {
      "application/vnd.jupyter.widget-view+json": {
       "model_id": "b9467c1ce3874ff09c526ce71183ee7b",
       "version_major": 2,
       "version_minor": 0
      },
      "text/plain": [
       "  0%|          | 0/101 [00:00<?, ?it/s]"
      ]
     },
     "metadata": {},
     "output_type": "display_data"
    },
    {
     "name": "stderr",
     "output_type": "stream",
     "text": [
      "[qibo-connection] 0.7.1|INFO|2023-03-01 13:07:53]: Device Galadriel Qblox rack released.\n",
      "INFO:qiboconnection.config:Device Galadriel Qblox rack released.\n",
      "WARNING:spirack.S4g_module:S4g module 7: current 0.000000 mA too low for set span,current set to min value: 0.000000 mA\n",
      "WARNING:spirack.S4g_module:S4g module 7: current 0.000000 mA too low for set span,current set to min value: 0.000000 mA\n"
     ]
    },
    {
     "name": "stdout",
     "output_type": "stream",
     "text": [
      "Current too low for set span, DAC set to min value\n",
      "Current too low for set span, DAC set to min value\n"
     ]
    }
   ],
   "source": [
    "\"\"\"Load the platform via the runcard 'spectroscopy_demo'\"\"\"\n",
    "platform = build_platform(name=\"spectroscopy_demo\")\n",
    "platform.connect_and_set_initial_setup(\n",
    "    connection=connection,\n",
    "    device_id=9)\n",
    "\n",
    "print('\\n Platform connected \\n')\n",
    "\n",
    "\n",
    "# Define Circuit to execute\n",
    "circuit = Circuit(1)\n",
    "circuit.add(M(0))\n",
    "# In these case, the circuit is just the measurement gate 'M' aplied on qubit '0'\n",
    "\n",
    "\n",
    "# Define experiment loop:\n",
    "frequency_loop_options = LoopOptions(start=frequency_start, stop=frequency_stop, num=frequency_num)\n",
    "frequency_loop = Loop(alias='rs_1', parameter=Parameter.LO_FREQUENCY, options=frequency_loop_options)\n",
    "\n",
    "current_loop_options = LoopOptions(start=current_start, stop=current_stop, num=current_num, channel_id=1)\n",
    "current_loop = Loop(alias='S4g', parameter=Parameter.CURRENT, options=current_loop_options, loop=frequency_loop)\n",
    "\n",
    "experiment_options = ExperimentOptions(\n",
    "    loops=[current_loop],\n",
    "    name=\"spectroscopy_demo\",\n",
    "    connection=connection,\n",
    "    remote_save=False,\n",
    "    execution_options=ExecutionOptions(set_initial_setup=True, apply_bus_setup=False),\n",
    "    settings=ExperimentSettings(repetition_duration=10000, hardware_average=1000))\n",
    " \n",
    "demo = Experiment(\n",
    "    platform=platform,\n",
    "    circuits=[circuit],\n",
    "    options=experiment_options)\n",
    "\n",
    "# Gate Set parameter:\n",
    "demo.set_parameter(alias='M', parameter=Parameter.DURATION, value=6000)\n",
    "\n",
    "# Instrument set parameter:\n",
    "\n",
    "demo.set_parameter(alias=\"S4g\", parameter=Parameter.CURRENT, value=current, channel_id=1)\n",
    "demo.set_parameter(alias=\"attenuator\", parameter=Parameter.ATTENUATION, value=attenuation)\n",
    "\n",
    "\n",
    "results = demo.execute()"
   ]
  },
  {
   "attachments": {},
   "cell_type": "markdown",
   "metadata": {},
   "source": [
    "### Results"
   ]
  },
  {
   "cell_type": "code",
   "execution_count": 6,
   "metadata": {},
   "outputs": [
    {
     "data": {
      "text/plain": [
       "Text(0, 0.5, '|S21|')"
      ]
     },
     "execution_count": 6,
     "metadata": {},
     "output_type": "execute_result"
    },
    {
     "data": {
      "application/vnd.jupyter.widget-view+json": {
       "model_id": "6ac64fb083b04d40bf95252357b88c5e",
       "version_major": 2,
       "version_minor": 0
      },
      "image/png": "[encoded data removed]",
      "text/html": [
       "\n",
       "            <div style=\"display: inline-block;\">\n",
       "                <div class=\"jupyter-widgets widget-label\" style=\"text-align: center;\">\n",
       "                    Figure\n",
       "                </div>\n",
       "                <img src='data:image/png;base64,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' width=900.0/>\n",
       "            </div>\n",
       "        "
      ],
      "text/plain": [
       "Canvas(toolbar=Toolbar(toolitems=[('Home', 'Reset original view', 'home', 'home'), ('Back', 'Back to previous …"
      ]
     },
     "metadata": {},
     "output_type": "display_data"
    }
   ],
   "source": [
    "acquisitions = results.acquisitions()\n",
    "i = np.array(acquisitions[\"i\"])\n",
    "q = np.array(acquisitions[\"q\"])\n",
    "frequency = np.linspace(start=frequency_loop.start, stop=frequency_loop.stop, num=frequency_loop.num)\n",
    "\n",
    "plt.figure(figsize=(9, 7))\n",
    "plt.plot(frequency,20*np.log10(np.sqrt(i**2+q**2)), '-o')\n",
    "plt.xlabel('Frequency [GHz]')\n",
    "plt.ylabel('|S21|')"
   ]
  },
  {
   "cell_type": "code",
   "execution_count": null,
   "metadata": {},
   "outputs": [],
   "source": [
    "demo.draw()"
   ]
  }
 ],
 "metadata": {
  "kernelspec": {
   "display_name": ".venv",
   "language": "python",
   "name": "python3"
  },
  "language_info": {
   "codemirror_mode": {
    "name": "ipython",
    "version": 3
   },
   "file_extension": ".py",
   "mimetype": "text/x-python",
   "name": "python",
   "nbconvert_exporter": "python",
   "pygments_lexer": "ipython3",
   "version": "3.10.6"
  },
  "orig_nbformat": 4,
  "vscode": {
   "interpreter": {
    "hash": "61db1331740811812fffd2320b5ca4d262ae79ba58b562d8b37c48de102b4eca"
   }
  }
 },
 "nbformat": 4,
 "nbformat_minor": 2
}
