{
 "cells": [
  {
   "attachments": {},
   "cell_type": "markdown",
   "metadata": {},
   "source": [
    "# Resonator spectroscopy"
   ]
  },
  {
   "attachments": {},
   "cell_type": "markdown",
   "metadata": {},
   "source": [
    "Resonator spectroscopy is the first procedure required to calibrate our quantum computer and it is meant to calibrate our resonators.\n",
    "\n",
    "The task of the resonator is to read out and extract information from the qubits. It is done by sending a pulse and measuring how it varies after passing through the resonator.\n",
    "To be able to measure, first of all, we need to calibrate the pulses we need to send to do a specific measurement. On a resonator spectroscopy, we determine the frequency and current of that pulse to measure the qubit on its ground state.\n",
    "\n",
    "Will be characterizing the measurement in the direction of the ground state of the qubit. To do that we set the next loop:\n",
    "\n",
    "- Leave the qubit to its ground state (don't apply any pulse)\n",
    "- Send a pulse with a certain frequency and current.\n",
    "\n",
    "We perform this procedure by sweeping through different frequencies and inside that loop we sweep through different currents to find the one that resonates with the ground state by reading the output signal of the pulse."
   ]
  },
  {
   "attachments": {},
   "cell_type": "markdown",
   "metadata": {},
   "source": [
    "### Let's start!\n",
    "\n",
    "First of all, import all the libraries needed for this experiment."
   ]
  },
  {
   "cell_type": "code",
   "execution_count": 1,
   "metadata": {},
   "outputs": [],
   "source": [
    "import numpy as np\n",
    "import matplotlib.pyplot as plt\n",
    "\n",
    "import os\n",
    "\n",
    "from qibo.models.circuit import Circuit\n",
    "from qibo.gates import M\n",
    "\n",
    "from qiboconnection.api import API\n",
    "from qiboconnection.connection import ConnectionConfiguration\n",
    "from qiboconnection.connection import Connection\n",
    "\n",
    "from qililab import build_platform\n",
    "from qililab.experiment import Experiment\n",
    "from qililab.typings import Parameter, ExperimentOptions, ExperimentSettings\n",
    "from qililab.utils import Loop\n",
    "from qililab.typings.loop import LoopOptions\n",
    "from qililab.typings.execution import ExecutionOptions\n",
    "from qililab.config import logger\n",
    "\n",
    "#Logger is a print condicional, set at '40: errors only' for simplicity of the outputs.\n",
    "logger.setLevel(40)\n",
    "\n",
    "# Lets set an environment variable so that we can acces these folders\n",
    "os.environ[\"RUNCARDS\"] = \"./runcards\"\n",
    "os.environ[\"DATA\"] = \"/home/qilimanjaro/Documents/data\""
   ]
  },
  {
   "attachments": {},
   "cell_type": "markdown",
   "metadata": {},
   "source": [
    "### Qibo connection setup\n",
    "\n",
    "To connect to the quantum computer, let us set our connection"
   ]
  },
  {
   "cell_type": "code",
   "execution_count": 2,
   "metadata": {},
   "outputs": [
    {
     "name": "stderr",
     "output_type": "stream",
     "text": [
      "[qibo-connection] 0.7.1|INFO|2023-03-14 16:57:40]: Storing personal qibo configuration...\n",
      "INFO:qiboconnection.config:Storing personal qibo configuration...\n"
     ]
    }
   ],
   "source": [
    "configuration=ConnectionConfiguration(\n",
    "        username = \"ocollado\",\n",
    "        api_key = \"d9020169-3926-456d-9b21-39b082a51a63\",\n",
    "    )\n",
    "\n",
    "connection = API(configuration=configuration)\n",
    "# This last command is only needed the first time you use qiboconnection,\n",
    "# for future connection it is possible to simply use:\n",
    "# connection = API()\n",
    "# without any parameters in the function API()"
   ]
  },
  {
   "cell_type": "code",
   "execution_count": 3,
   "metadata": {},
   "outputs": [
    {
     "data": {
      "text/plain": [
       "'OK'"
      ]
     },
     "execution_count": 3,
     "metadata": {},
     "output_type": "execute_result"
    }
   ],
   "source": [
    "# Verify connection\n",
    "connection.ping()"
   ]
  },
  {
   "attachments": {},
   "cell_type": "markdown",
   "metadata": {},
   "source": [
    "### Experiment parameters\n",
    "In this part of the code, we set the experiment parameters of the spectroscopy and create the loop.\n",
    "\n",
    "As mentioned before we need to do a loop inside a loop, to sweep through the frequencies and the possible currents.\n",
    "This part of the code will determine these parameters:\n",
    "\n",
    "- `attenuation` fixed parameter trough out the loop, the attenuation of the pulse\n",
    "- `current` default current of the pulse (it is not going to be used since will do the sweep)\n",
    "\n",
    "- `frequency_start/stop` range of frequencies to look for.\n",
    "- `frequency_num` number of steps in that range\n",
    "- `current_start/stop` range of frequencies to look for.\n",
    "- `current_num` number of steps in that range"
   ]
  },
  {
   "cell_type": "code",
   "execution_count": 4,
   "metadata": {},
   "outputs": [],
   "source": [
    "# experiment parameters to change  on the spot:\n",
    "attenuation = 37\n",
    "current = -0.01\n",
    "\n",
    "# loop parameters:\n",
    "frequency_start = 8.1e9 \n",
    "frequency_stop = 8.13e9\n",
    "frequency_num = 101\n",
    "\n",
    "current_start =0.00\n",
    "current_stop = -0.03\n",
    "current_num = 21"
   ]
  },
  {
   "attachments": {},
   "cell_type": "markdown",
   "metadata": {},
   "source": [
    "### Load the runcard"
   ]
  },
  {
   "attachments": {},
   "cell_type": "markdown",
   "metadata": {},
   "source": [
    "This is the 'static' part of the program, we are just setting up our platform.\n",
    "\n",
    "The platform is what we have in the lab and theoretically should not change during an experiment.\n",
    "\n",
    "So let's set our platform via a runcard, the one called `spectroscopy_demo`"
   ]
  },
  {
   "cell_type": "code",
   "execution_count": 7,
   "metadata": {},
   "outputs": [
    {
     "name": "stderr",
     "output_type": "stream",
     "text": [
      "[qibo-connection] 0.7.1|INFO|2023-03-14 16:59:50]: Device Galadriel Qblox rack released.\n",
      "INFO:qiboconnection.config:Device Galadriel Qblox rack released.\n",
      "[qibo-connection] 0.7.1|INFO|2023-03-14 16:59:54]: Device Galadriel Qblox rack blocked.\n",
      "INFO:qiboconnection.config:Device Galadriel Qblox rack blocked.\n"
     ]
    },
    {
     "ename": "TimeoutError",
     "evalue": "timed out",
     "output_type": "error",
     "traceback": [
      "\u001b[0;31m---------------------------------------------------------------------------\u001b[0m",
      "\u001b[0;31mTimeoutError\u001b[0m                              Traceback (most recent call last)",
      "Cell \u001b[0;32mIn[7], line 4\u001b[0m\n\u001b[1;32m      1\u001b[0m connection\u001b[39m.\u001b[39mrelease_device(device_id\u001b[39m=\u001b[39m\u001b[39m9\u001b[39m)\n\u001b[1;32m      3\u001b[0m platform \u001b[39m=\u001b[39m build_platform(name\u001b[39m=\u001b[39m\u001b[39m\"\u001b[39m\u001b[39mspectoscopy_demo\u001b[39m\u001b[39m\"\u001b[39m)\n\u001b[0;32m----> 4\u001b[0m platform\u001b[39m.\u001b[39;49mconnect_and_set_initial_setup(\n\u001b[1;32m      5\u001b[0m     connection\u001b[39m=\u001b[39;49mconnection,\n\u001b[1;32m      6\u001b[0m     device_id\u001b[39m=\u001b[39;49m\u001b[39m9\u001b[39;49m)\n\u001b[1;32m      7\u001b[0m \u001b[39mprint\u001b[39m(\u001b[39m'\u001b[39m\u001b[39m\\n\u001b[39;00m\u001b[39m Platform connected \u001b[39m\u001b[39m\\n\u001b[39;00m\u001b[39m'\u001b[39m)\n",
      "File \u001b[0;32m~/repos/qililab/src/qililab/platform/platform.py:48\u001b[0m, in \u001b[0;36mPlatform.connect_and_set_initial_setup\u001b[0;34m(self, automatic_turn_on_instruments, connection, device_id, manual_override)\u001b[0m\n\u001b[1;32m     36\u001b[0m \u001b[39mdef\u001b[39;00m \u001b[39mconnect_and_set_initial_setup\u001b[39m(\n\u001b[1;32m     37\u001b[0m     \u001b[39mself\u001b[39m,\n\u001b[1;32m     38\u001b[0m     automatic_turn_on_instruments: \u001b[39mbool\u001b[39m \u001b[39m=\u001b[39m \u001b[39mFalse\u001b[39;00m,\n\u001b[0;32m   (...)\u001b[0m\n\u001b[1;32m     41\u001b[0m     manual_override: \u001b[39mbool\u001b[39m \u001b[39m=\u001b[39m \u001b[39mFalse\u001b[39;00m,\n\u001b[1;32m     42\u001b[0m ):\n\u001b[1;32m     43\u001b[0m \u001b[39m    \u001b[39m\u001b[39m\"\"\"Connect and set initial setup of the instruments\u001b[39;00m\n\u001b[1;32m     44\u001b[0m \n\u001b[1;32m     45\u001b[0m \u001b[39m    Args:\u001b[39;00m\n\u001b[1;32m     46\u001b[0m \u001b[39m        automatic_turn_on_instruments (bool, optional): Turn on the instruments. Defaults to False.\u001b[39;00m\n\u001b[1;32m     47\u001b[0m \u001b[39m    \"\"\"\u001b[39;00m\n\u001b[0;32m---> 48\u001b[0m     \u001b[39mself\u001b[39;49m\u001b[39m.\u001b[39;49mconnect(connection\u001b[39m=\u001b[39;49mconnection, device_id\u001b[39m=\u001b[39;49mdevice_id, manual_override\u001b[39m=\u001b[39;49mmanual_override)\n\u001b[1;32m     49\u001b[0m     \u001b[39mif\u001b[39;00m automatic_turn_on_instruments:\n\u001b[1;32m     50\u001b[0m         \u001b[39mself\u001b[39m\u001b[39m.\u001b[39mturn_on_instruments()\n",
      "File \u001b[0;32m~/repos/qililab/src/qililab/platform/platform.py:70\u001b[0m, in \u001b[0;36mPlatform.connect\u001b[0;34m(self, connection, device_id, manual_override)\u001b[0m\n\u001b[1;32m     64\u001b[0m \u001b[39mself\u001b[39m\u001b[39m.\u001b[39m_remote_api \u001b[39m=\u001b[39m RemoteAPI(\n\u001b[1;32m     65\u001b[0m     connection\u001b[39m=\u001b[39mconnection,\n\u001b[1;32m     66\u001b[0m     device_id\u001b[39m=\u001b[39mdevice_id,\n\u001b[1;32m     67\u001b[0m     manual_override\u001b[39m=\u001b[39mmanual_override,\n\u001b[1;32m     68\u001b[0m )\n\u001b[1;32m     69\u001b[0m \u001b[39mself\u001b[39m\u001b[39m.\u001b[39m_remote_api\u001b[39m.\u001b[39mblock_remote_device()\n\u001b[0;32m---> 70\u001b[0m \u001b[39mself\u001b[39;49m\u001b[39m.\u001b[39;49minstrument_controllers\u001b[39m.\u001b[39;49mconnect()\n\u001b[1;32m     71\u001b[0m \u001b[39mself\u001b[39m\u001b[39m.\u001b[39m_connected_to_instruments \u001b[39m=\u001b[39m \u001b[39mTrue\u001b[39;00m\n\u001b[1;32m     72\u001b[0m logger\u001b[39m.\u001b[39minfo(\u001b[39m\"\u001b[39m\u001b[39mConnected to the instruments\u001b[39m\u001b[39m\"\u001b[39m)\n",
      "File \u001b[0;32m~/repos/qililab/src/qililab/instrument_controllers/instrument_controllers.py:34\u001b[0m, in \u001b[0;36mInstrumentControllers.connect\u001b[0;34m(self)\u001b[0m\n\u001b[1;32m     32\u001b[0m \u001b[39m\u001b[39m\u001b[39m\"\"\"Connect to all instrument controllers.\"\"\"\u001b[39;00m\n\u001b[1;32m     33\u001b[0m \u001b[39mfor\u001b[39;00m instrument_controller \u001b[39min\u001b[39;00m \u001b[39mself\u001b[39m\u001b[39m.\u001b[39melements:\n\u001b[0;32m---> 34\u001b[0m     instrument_controller\u001b[39m.\u001b[39;49mconnect()\n",
      "File \u001b[0;32m~/repos/qililab/src/qililab/instrument_controllers/instrument_controller.py:192\u001b[0m, in \u001b[0;36mInstrumentController.connect\u001b[0;34m(self)\u001b[0m\n\u001b[1;32m    190\u001b[0m \u001b[39mdef\u001b[39;00m \u001b[39mconnect\u001b[39m(\u001b[39mself\u001b[39m):\n\u001b[1;32m    191\u001b[0m \u001b[39m    \u001b[39m\u001b[39m\"\"\"Establishes the connection with the instrument and performs a reset (if necessary).\"\"\"\u001b[39;00m\n\u001b[0;32m--> 192\u001b[0m     \u001b[39mself\u001b[39;49m\u001b[39m.\u001b[39;49m_initialize_device_and_set_to_all_modules()\n\u001b[1;32m    193\u001b[0m     \u001b[39mself\u001b[39m\u001b[39m.\u001b[39mconnection\u001b[39m.\u001b[39mconnect(device\u001b[39m=\u001b[39m\u001b[39mself\u001b[39m\u001b[39m.\u001b[39mdevice, device_name\u001b[39m=\u001b[39m\u001b[39mstr\u001b[39m(\u001b[39mself\u001b[39m))\n\u001b[1;32m    194\u001b[0m     \u001b[39mif\u001b[39;00m \u001b[39mself\u001b[39m\u001b[39m.\u001b[39msettings\u001b[39m.\u001b[39mreset:\n",
      "File \u001b[0;32m~/repos/qililab/src/qililab/instrument_controllers/instrument_controller.py:136\u001b[0m, in \u001b[0;36mInstrumentController._initialize_device_and_set_to_all_modules\u001b[0;34m(self)\u001b[0m\n\u001b[1;32m    134\u001b[0m \u001b[39mdef\u001b[39;00m \u001b[39m_initialize_device_and_set_to_all_modules\u001b[39m(\u001b[39mself\u001b[39m):\n\u001b[1;32m    135\u001b[0m \u001b[39m    \u001b[39m\u001b[39m\"\"\"Initialize the Controller Device driver and sets it for all modules\"\"\"\u001b[39;00m\n\u001b[0;32m--> 136\u001b[0m     \u001b[39mself\u001b[39;49m\u001b[39m.\u001b[39;49m_initialize_device()\n\u001b[1;32m    137\u001b[0m     \u001b[39mself\u001b[39m\u001b[39m.\u001b[39m_set_device_to_all_modules()\n",
      "File \u001b[0;32m~/repos/qililab/src/qililab/instrument_controllers/qblox/qblox_cluster_controller.py:43\u001b[0m, in \u001b[0;36mQbloxClusterController._initialize_device\u001b[0;34m(self)\u001b[0m\n\u001b[1;32m     41\u001b[0m \u001b[39mdef\u001b[39;00m \u001b[39m_initialize_device\u001b[39m(\u001b[39mself\u001b[39m):\n\u001b[1;32m     42\u001b[0m \u001b[39m    \u001b[39m\u001b[39m\"\"\"Initialize device controller.\"\"\"\u001b[39;00m\n\u001b[0;32m---> 43\u001b[0m     \u001b[39mself\u001b[39m\u001b[39m.\u001b[39mdevice \u001b[39m=\u001b[39m Cluster(name\u001b[39m=\u001b[39;49m\u001b[39mf\u001b[39;49m\u001b[39m\"\u001b[39;49m\u001b[39m{\u001b[39;49;00m\u001b[39mself\u001b[39;49m\u001b[39m.\u001b[39;49mname\u001b[39m.\u001b[39;49mvalue\u001b[39m}\u001b[39;49;00m\u001b[39m_\u001b[39;49m\u001b[39m{\u001b[39;49;00m\u001b[39mself\u001b[39;49m\u001b[39m.\u001b[39;49mid_\u001b[39m}\u001b[39;49;00m\u001b[39m\"\u001b[39;49m, identifier\u001b[39m=\u001b[39;49m\u001b[39mself\u001b[39;49m\u001b[39m.\u001b[39;49maddress)\n",
      "File \u001b[0;32m~/repos/qililab/.venv/lib/python3.10/site-packages/qcodes/instrument/base.py:559\u001b[0m, in \u001b[0;36mInstrumentMeta.__call__\u001b[0;34m(cls, *args, **kwargs)\u001b[0m\n\u001b[1;32m    554\u001b[0m \u001b[39mdef\u001b[39;00m \u001b[39m__call__\u001b[39m(\u001b[39mcls\u001b[39m, \u001b[39m*\u001b[39margs: Any, \u001b[39m*\u001b[39m\u001b[39m*\u001b[39mkwargs: Any) \u001b[39m-\u001b[39m\u001b[39m>\u001b[39m Any:\n\u001b[1;32m    555\u001b[0m \u001b[39m    \u001b[39m\u001b[39m\"\"\"\u001b[39;00m\n\u001b[1;32m    556\u001b[0m \u001b[39m    Overloads `type.__call__` to add code that runs only if __init__ completes\u001b[39;00m\n\u001b[1;32m    557\u001b[0m \u001b[39m    successfully.\u001b[39;00m\n\u001b[1;32m    558\u001b[0m \u001b[39m    \"\"\"\u001b[39;00m\n\u001b[0;32m--> 559\u001b[0m     new_inst \u001b[39m=\u001b[39m \u001b[39msuper\u001b[39;49m()\u001b[39m.\u001b[39;49m\u001b[39m__call__\u001b[39;49m(\u001b[39m*\u001b[39;49margs, \u001b[39m*\u001b[39;49m\u001b[39m*\u001b[39;49mkwargs)\n\u001b[1;32m    560\u001b[0m     is_abstract \u001b[39m=\u001b[39m new_inst\u001b[39m.\u001b[39m_is_abstract()\n\u001b[1;32m    561\u001b[0m     \u001b[39mif\u001b[39;00m is_abstract:\n",
      "File \u001b[0;32m~/repos/qililab/.venv/lib/python3.10/site-packages/qblox_instruments/qcodes_drivers/cluster.py:67\u001b[0m, in \u001b[0;36mCluster.__init__\u001b[0;34m(self, name, identifier, port, debug, dummy_cfg)\u001b[0m\n\u001b[1;32m     65\u001b[0m \u001b[39mif\u001b[39;00m identifier \u001b[39mis\u001b[39;00m \u001b[39mNone\u001b[39;00m:\n\u001b[1;32m     66\u001b[0m     identifier \u001b[39m=\u001b[39m name\n\u001b[0;32m---> 67\u001b[0m \u001b[39msuper\u001b[39;49m()\u001b[39m.\u001b[39;49m\u001b[39m__init__\u001b[39;49m(identifier, port, debug, dummy_cfg)\n\u001b[1;32m     68\u001b[0m Instrument\u001b[39m.\u001b[39m\u001b[39m__init__\u001b[39m(\u001b[39mself\u001b[39m, name)\n\u001b[1;32m     70\u001b[0m \u001b[39m# Set number of slots\u001b[39;00m\n",
      "File \u001b[0;32m~/repos/qililab/.venv/lib/python3.10/site-packages/qblox_instruments/native/cluster.py:91\u001b[0m, in \u001b[0;36mCluster.__init__\u001b[0;34m(self, identifier, port, debug, dummy_cfg)\u001b[0m\n\u001b[1;32m     89\u001b[0m \u001b[39mif\u001b[39;00m port \u001b[39mis\u001b[39;00m \u001b[39mNone\u001b[39;00m:\n\u001b[1;32m     90\u001b[0m     port \u001b[39m=\u001b[39m addr_info\u001b[39m.\u001b[39mscpi_port\n\u001b[0;32m---> 91\u001b[0m \u001b[39mself\u001b[39m\u001b[39m.\u001b[39m_transport \u001b[39m=\u001b[39m IpTransport(host\u001b[39m=\u001b[39;49mhost, port\u001b[39m=\u001b[39;49mport)\n\u001b[1;32m     92\u001b[0m \u001b[39mif\u001b[39;00m debug \u001b[39mis\u001b[39;00m \u001b[39mNone\u001b[39;00m:\n\u001b[1;32m     93\u001b[0m     debug \u001b[39m=\u001b[39m \u001b[39m0\u001b[39m\n",
      "File \u001b[0;32m~/repos/qililab/.venv/lib/python3.10/site-packages/qblox_instruments/ieee488_2/ip_transport.py:67\u001b[0m, in \u001b[0;36mIpTransport.__init__\u001b[0;34m(self, host, port, timeout, snd_buf_size)\u001b[0m\n\u001b[1;32m     65\u001b[0m \u001b[39mself\u001b[39m\u001b[39m.\u001b[39m_socket\u001b[39m.\u001b[39msetsockopt(socket\u001b[39m.\u001b[39mIPPROTO_TCP, socket\u001b[39m.\u001b[39mTCP_NODELAY, \u001b[39m1\u001b[39m)\n\u001b[1;32m     66\u001b[0m \u001b[39mself\u001b[39m\u001b[39m.\u001b[39m_set_keepalive()\n\u001b[0;32m---> 67\u001b[0m \u001b[39mself\u001b[39;49m\u001b[39m.\u001b[39;49m_socket\u001b[39m.\u001b[39;49mconnect((host, port))\n\u001b[1;32m     69\u001b[0m \u001b[39m# Timeout after connecting\u001b[39;00m\n\u001b[1;32m     70\u001b[0m \u001b[39mself\u001b[39m\u001b[39m.\u001b[39m_socket\u001b[39m.\u001b[39msettimeout(timeout)\n",
      "\u001b[0;31mTimeoutError\u001b[0m: timed out"
     ]
    }
   ],
   "source": [
    "connection.release_device(device_id=9)\n",
    "\n",
    "platform = build_platform(name=\"spectoscopy_demo\")\n",
    "platform.connect_and_set_initial_setup(\n",
    "    connection=connection,\n",
    "    device_id=9)\n",
    "print('\\n Platform connected \\n')"
   ]
  },
  {
   "attachments": {},
   "cell_type": "markdown",
   "metadata": {},
   "source": [
    "### Experiment\n",
    "\n",
    "Now that we have created the platform we can create the actual experiment.\n",
    "Let us create the series of pulses that will be sent to de quantum computer, will do it via a circuit.\n",
    "\n",
    "In our case, the circuit is just the measurement gate 'M' applied on qubit '0':"
   ]
  },
  {
   "cell_type": "code",
   "execution_count": null,
   "metadata": {},
   "outputs": [],
   "source": [
    "circuit = Circuit(1)\n",
    "circuit.add(M(0))"
   ]
  },
  {
   "attachments": {},
   "cell_type": "markdown",
   "metadata": {},
   "source": [
    "The next step is to create the loop, the structure of the functions to do so is the following.\n",
    "\n",
    "Noticed that inside the `current_loop`, there is a parameter called `loop` set to `frequency_loop` which means that inside the loop of currents, there is the frequency loop, that is how we can accomplish sweep through all the possible combinations of frequency and current to find the one that better resonates with the ground state of the qubit."
   ]
  },
  {
   "cell_type": "code",
   "execution_count": null,
   "metadata": {},
   "outputs": [],
   "source": [
    "# Define experiment loop:\n",
    "frequency_loop_options = LoopOptions(start=frequency_start, stop=frequency_stop, num=frequency_num)\n",
    "frequency_loop = Loop(alias='rs_1', parameter=Parameter.LO_FREQUENCY, options=frequency_loop_options)\n",
    "\n",
    "current_loop_options = LoopOptions(start=current_start, stop=current_stop, num=current_num, channel_id=1)\n",
    "current_loop = Loop(alias='S4g', parameter=Parameter.CURRENT, options=current_loop_options, loop=frequency_loop)"
   ]
  },
  {
   "attachments": {},
   "cell_type": "markdown",
   "metadata": {},
   "source": [
    "Now we can finally set the experiment options and create the experiment that will be stored in `demo`"
   ]
  },
  {
   "cell_type": "code",
   "execution_count": null,
   "metadata": {},
   "outputs": [],
   "source": [
    "\n",
    "experiment_options = ExperimentOptions(\n",
    "    loops=[current_loop],\n",
    "    name=\"spectroscopy_demo\",\n",
    "    connection=connection,\n",
    "    remote_save=False,\n",
    "    execution_options=ExecutionOptions(set_initial_setup=True, apply_bus_setup=False),\n",
    "    settings=ExperimentSettings(repetition_duration=10000, hardware_average=1000))\n",
    " \n",
    "demo = Experiment(\n",
    "    platform=platform,\n",
    "    circuits=[circuit],\n",
    "    options=experiment_options)"
   ]
  },
  {
   "attachments": {},
   "cell_type": "markdown",
   "metadata": {},
   "source": [
    "The following code is a qililab functionality to change parameters conveniently.\n",
    "\n",
    "Instead of having to change the runcard file for a change, it is possible to change the parameters of the platform with these functions."
   ]
  },
  {
   "cell_type": "code",
   "execution_count": null,
   "metadata": {},
   "outputs": [],
   "source": [
    "# Gate Set parameter:\n",
    "demo.set_parameter(alias='M', parameter=Parameter.DURATION, value=6000)\n",
    "\n",
    "# Instrument set parameter:\n",
    "demo.set_parameter(alias=\"S4g\", parameter=Parameter.CURRENT, value=current, channel_id=1)\n",
    "demo.set_parameter(alias=\"attenuator\", parameter=Parameter.ATTENUATION, value=attenuation)\n",
    "\n"
   ]
  },
  {
   "attachments": {},
   "cell_type": "markdown",
   "metadata": {},
   "source": [
    "Everything is ready, execute the experiment!"
   ]
  },
  {
   "cell_type": "code",
   "execution_count": null,
   "metadata": {},
   "outputs": [],
   "source": [
    "results = demo.execute()"
   ]
  },
  {
   "attachments": {},
   "cell_type": "markdown",
   "metadata": {},
   "source": [
    "### Results\n",
    "\n",
    "Let's save the results in `acquisitions` and process the results a bit by creating a plot."
   ]
  },
  {
   "cell_type": "code",
   "execution_count": null,
   "metadata": {},
   "outputs": [
    {
     "ename": "NameError",
     "evalue": "name 'results' is not defined",
     "output_type": "error",
     "traceback": [
      "\u001b[0;31m---------------------------------------------------------------------------\u001b[0m",
      "\u001b[0;31mNameError\u001b[0m                                 Traceback (most recent call last)",
      "Cell \u001b[0;32mIn[7], line 1\u001b[0m\n\u001b[0;32m----> 1\u001b[0m acquisitions \u001b[39m=\u001b[39m results\u001b[39m.\u001b[39macquisitions()\n\u001b[1;32m      2\u001b[0m i \u001b[39m=\u001b[39m np\u001b[39m.\u001b[39marray(acquisitions[\u001b[39m\"\u001b[39m\u001b[39mi\u001b[39m\u001b[39m\"\u001b[39m])\n\u001b[1;32m      3\u001b[0m q \u001b[39m=\u001b[39m np\u001b[39m.\u001b[39marray(acquisitions[\u001b[39m\"\u001b[39m\u001b[39mq\u001b[39m\u001b[39m\"\u001b[39m])\n",
      "\u001b[0;31mNameError\u001b[0m: name 'results' is not defined"
     ]
    }
   ],
   "source": [
    "acquisitions = results.acquisitions()\n",
    "i = np.array(acquisitions[\"i\"])\n",
    "q = np.array(acquisitions[\"q\"])\n",
    "frequency = np.linspace(start=frequency_loop.start, stop=frequency_loop.stop, num=frequency_loop.num)\n",
    "\n",
    "plt.figure(figsize=(9, 7))\n",
    "plt.plot(frequency,20*np.log10(np.sqrt(i**2+q**2)), '-o')\n",
    "plt.xlabel('Frequency [GHz]')\n",
    "plt.ylabel('|S21|')"
   ]
  },
  {
   "cell_type": "code",
   "execution_count": null,
   "metadata": {},
   "outputs": [
    {
     "ename": "NameError",
     "evalue": "name 'demo' is not defined",
     "output_type": "error",
     "traceback": [
      "\u001b[0;31m---------------------------------------------------------------------------\u001b[0m",
      "\u001b[0;31mNameError\u001b[0m                                 Traceback (most recent call last)",
      "Cell \u001b[0;32mIn[8], line 1\u001b[0m\n\u001b[0;32m----> 1\u001b[0m demo\u001b[39m.\u001b[39mdraw()\n",
      "\u001b[0;31mNameError\u001b[0m: name 'demo' is not defined"
     ]
    }
   ],
   "source": [
    "demo.draw()"
   ]
  }
 ],
 "metadata": {
  "kernelspec": {
   "display_name": ".venv",
   "language": "python",
   "name": "python3"
  },
  "language_info": {
   "codemirror_mode": {
    "name": "ipython",
    "version": 3
   },
   "file_extension": ".py",
   "mimetype": "text/x-python",
   "name": "python",
   "nbconvert_exporter": "python",
   "pygments_lexer": "ipython3",
   "version": "3.10.6"
  },
  "orig_nbformat": 4,
  "vscode": {
   "interpreter": {
    "hash": "61db1331740811812fffd2320b5ca4d262ae79ba58b562d8b37c48de102b4eca"
   }
  }
 },
 "nbformat": 4,
 "nbformat_minor": 2
}
