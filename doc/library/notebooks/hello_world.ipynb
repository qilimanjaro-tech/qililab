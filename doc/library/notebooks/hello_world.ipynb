{
 "cells": [
  {
   "attachments": {},
   "cell_type": "markdown",
   "metadata": {},
   "source": [
    "# Hello World\n",
    "\n",
    "These notebook is our Hello World, is a very simple program to veify that everithing is going according to plan.\n",
    "\n",
    "The program consist of creating a platform from where experiments may be performed."
   ]
  },
  {
   "cell_type": "code",
   "execution_count": 2,
   "metadata": {},
   "outputs": [],
   "source": [
    "# Import everything needed\n",
    "\n",
    "import os\n",
    "\n",
    "from pathlib import Path\n",
    "from qililab import Experiment, build_platform"
   ]
  },
  {
   "cell_type": "code",
   "execution_count": 7,
   "metadata": {},
   "outputs": [],
   "source": [
    "# adding the path of our runcards\n",
    "\n",
    "fname = os.path.abspath(\"\")\n",
    "os.environ[\"RUNCARDS\"] = str(Path(fname) / \"runcards\")"
   ]
  },
  {
   "attachments": {},
   "cell_type": "markdown",
   "metadata": {},
   "source": [
    "### Load a platform"
   ]
  },
  {
   "cell_type": "code",
   "execution_count": 4,
   "metadata": {},
   "outputs": [
    {
     "name": "stderr",
     "output_type": "stream",
     "text": [
      "[qililab] [0.16.0|INFO|2023-03-01 10:39:43]: Building platform\n",
      "INFO:qililab.config.config:Building platform\n"
     ]
    }
   ],
   "source": [
    "# Selecct a simple runcard and build the platform\n",
    "\n",
    "runcard_name = \"HelloWorld\"\n",
    "platform = build_platform(name=runcard_name)"
   ]
  },
  {
   "attachments": {},
   "cell_type": "markdown",
   "metadata": {},
   "source": [
    "Runcards are the way to explain qililab your hardware and allows us to use the instruments. An explanation of how to understad and create `runcards <https://en.wikipedia.org/wiki/Adjacency_list>`_ is in the documentation section."
   ]
  },
  {
   "attachments": {},
   "cell_type": "markdown",
   "metadata": {},
   "source": [
    "### Print platform"
   ]
  },
  {
   "cell_type": "code",
   "execution_count": 5,
   "metadata": {},
   "outputs": [
    {
     "name": "stdout",
     "output_type": "stream",
     "text": [
      "Chip None with 1 qubits and 2 ports: \n",
      "\n",
      " * Port 0: ----|qubit|----\n",
      " * Port 1: ----|resonator|----\n",
      "\n"
     ]
    }
   ],
   "source": [
    "# Lets print our chip (imported from the `HelloWorld` runcard).\n",
    "# As we can see, we have connected a qubit to the Port 0 and a resonator to the Port 1.\n",
    "\n",
    "print(platform.chip)"
   ]
  },
  {
   "cell_type": "code",
   "execution_count": 6,
   "metadata": {},
   "outputs": [
    {
     "name": "stdout",
     "output_type": "stream",
     "text": [
      "Bus 1 (time_domain readout):  -----|rs_1|--|QRM|------|resonator|----\n"
     ]
    }
   ],
   "source": [
    "# Printing the schema shows how the buses are connected according to de runcard.\n",
    "# A more detailed explanation about runcartd is in the documentation section.\n",
    "\n",
    "print(platform.schema)"
   ]
  },
  {
   "attachments": {},
   "cell_type": "markdown",
   "metadata": {},
   "source": [
    "So there it is, we have created a platform with a simple runcard. From here we could begin our experiments."
   ]
  }
 ],
 "metadata": {
  "kernelspec": {
   "display_name": ".venv",
   "language": "python",
   "name": "python3"
  },
  "language_info": {
   "codemirror_mode": {
    "name": "ipython",
    "version": 3
   },
   "file_extension": ".py",
   "mimetype": "text/x-python",
   "name": "python",
   "nbconvert_exporter": "python",
   "pygments_lexer": "ipython3",
   "version": "3.10.6"
  },
  "vscode": {
   "interpreter": {
    "hash": "61db1331740811812fffd2320b5ca4d262ae79ba58b562d8b37c48de102b4eca"
   }
  }
 },
 "nbformat": 4,
 "nbformat_minor": 2
}
