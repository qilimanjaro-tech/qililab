{
 "cells": [
  {
   "cell_type": "code",
   "execution_count": null,
   "metadata": {},
   "outputs": [],
   "source": [
    "from hwdatatools import ResonatorSpectroscopy, SweetSpot, dB, fit_delay, plot_mag_phase_IQ\n",
    "import os\n",
    "import numpy as np\n",
    "from hwdatatools.save_load import get_timestamp_from_file, save_figure_from_exp,get_last_timestamp,reshape_robust\n",
    "import calibrations as cal\n",
    "from qibo.models import Circuit\n",
    "import qililab as ql\n",
    "from qililab.platform import Platform\n",
    "\n",
    "ql.logger.setLevel(40)\n",
    "\n",
    "import matplotlib.pyplot as plt\n",
    "from hwdatatools import ResonatorSpectroscopy, dB, fit_delay, plot_mag_phase_IQ"
   ]
  },
  {
   "cell_type": "code",
   "execution_count": null,
   "metadata": {},
   "outputs": [],
   "source": [
    "def sweetspot(qubit:int,\n",
    "              platform:Platform,\n",
    "              frequency_values: np.ndarray,\n",
    "              offset_values: np.ndarray,\n",
    "              repetition_duration=10_000,\n",
    "              hardware_average=10_000,\n",
    "              sweep_if: bool = False):\n",
    "    \"\"\"Method used to run the flux spectroscopy experiment on the given qubit. This experiment modifies the amplitude of the pulse\n",
    "    associated to the X gate.\n",
    "\n",
    "    Args:\n",
    "        platform (Platform): platform used to run the experiment\n",
    "        frequencies (numpy.ndarray): array of frequencies to loop through in the experiment, which modifies the frequency of the local oscilator\n",
    "        repetition_duration (int, optional): duration of a single repetition in nanoseconds. Defaults to 10000.\n",
    "        hardware_average (int, optional): number of repetitions used to average the result. Defaults to 10000.\n",
    "    \"\"\"\n",
    "    # Define circuit used in this experiment\n",
    "    circuit = Circuit(qubit + 1)\n",
    "    circuit.add(M(qubit))\n",
    "\n",
    "    flux_sequencer_mapping = {0: 0, 1: 1, 2: 2, 3: 2, 4: 3}\n",
    "    output = flux_sequencer_mapping[qubit]\n",
    "\n",
    "    qubit_readout_sequencer_mapping = {0: 0, 1: 1, 2: 2, 3: 3, 4: 4}\n",
    "    sequencer = qubit_readout_sequencer_mapping[qubit]\n",
    "    # Define loop used in the experiment\n",
    "    # Each sequencer of the QRM is mapped to each qubit with the same index\n",
    "    if sweep_if:\n",
    "        frequency_loop = Loop(alias=\"feedline_bus\", parameter=Parameter.IF, values=frequency_values, channel_id=sequencer)\n",
    "    else:\n",
    "        frequency_loop = Loop(alias=\"feedline_bus\", parameter=Parameter.LO_FREQUENCY, values=frequency_values, channel_id=qubit)\n",
    "\n",
    "    offset_loop = Loop(\n",
    "        alias=f\"flux_line_q{qubit}_bus\", parameter=f\"offset_out{output}\",\n",
    "        values=offset_values, loop=frequency_loop\n",
    "    )\n",
    "\n",
    "    experiment_options = ExperimentOptions(\n",
    "        name=\"sweet_spot\",\n",
    "        loops=[offset_loop],\n",
    "        settings=ExperimentSettings(repetition_duration=repetition_duration,\n",
    "                                    hardware_average=hardware_average),\n",
    "    )\n",
    "    "
   ]
  },
  {
   "cell_type": "code",
   "execution_count": null,
   "metadata": {},
   "outputs": [],
   "source": [
    "num_points_att = 21\n",
    "step_size_att = 1\n",
    "step_size_freq = 50e3\n",
    "num_avg = 5_000\n",
    "\n",
    "# freq = [7.337e9, 7.7263e9, 7.7090e9, 7.9334e9, 8.1092e9]\n",
    "freq = [7.338e9, 7.7280e9, 7.711e9, 7.932e9, 8.107e9]"
   ]
  },
  {
   "cell_type": "code",
   "execution_count": null,
   "metadata": {},
   "outputs": [],
   "source": [
    "\"\"\" Define the platform and connect to the instruments \"\"\"\n",
    "\n",
    "os.environ[\"RUNCARDS\"] = \"./tests/automatic_calibration/runcards\"\n",
    "os.environ[\"DATA\"] = \"./tests/automatic_calibration/data\"\n",
    "platform_name = \"galadriel\"\n",
    "platform_path = os.path.join(os.environ[\"RUNCARDS\"], f\"{platform_name}.yml\")\n",
    "platform = ql.build_platform(path=platform_path)\n",
    "\n",
    "platform.connect()\n",
    "platform.turn_on_instruments()"
   ]
  }
 ],
 "metadata": {
  "language_info": {
   "name": "python"
  },
  "orig_nbformat": 4
 },
 "nbformat": 4,
 "nbformat_minor": 2
}
