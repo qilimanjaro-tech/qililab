{
 "cells": [
  {
   "cell_type": "code",
   "execution_count": null,
   "metadata": {},
   "outputs": [],
   "source": [
    "from collections.abc import Callable\n",
    "import lmfit\n",
    "import numpy as np\n",
    "from qibo import gates\n",
    "from qibo.models import Circuit\n",
    "from qililab.automatic_calibration.utils.plotting import plot_iq\n",
    "import qililab as ql\n",
    "from qililab.platform import Platform\n",
    "from qililab.utils import Wait\n",
    "from tqdm import tqdm"
   ]
  },
  {
   "cell_type": "code",
   "execution_count": null,
   "metadata": {},
   "outputs": [],
   "source": [
    "def plot_fit(func: Callable, xdata: np.ndarray, popt: list, ax, fitted_pi_pulse_amplitude):\n",
    "    label_fit = f\"FIT $A_\\pi$ = {fitted_pi_pulse_amplitude:.3f}\"\n",
    "    ax.plot(xdata, func(xdata, *popt), \"--\", label=label_fit, color=\"red\")\n",
    "    ax.legend()"
   ]
  },
  {
   "cell_type": "code",
   "execution_count": null,
   "metadata": {},
   "outputs": [],
   "source": [
    "def rabi(\n",
    "    amp_values: np.ndarray,\n",
    "    qubit: int,\n",
    "    platform: Platform,\n",
    "    hw_avg: int = 2_000,\n",
    "    repetition_duration: int = 200_000,\n",
    "    m_buffer_time: int = 0,\n",
    "):\n",
    "    # Define circuit\n",
    "    circuit = Circuit(qubit + 1)\n",
    "    circuit.add(ql.Drag(qubit, theta=np.pi, phase=0))\n",
    "    circuit.add(Wait(qubit, m_buffer_time))\n",
    "    circuit.add(gates.M(qubit))\n",
    "\n",
    "    print(f\"Running rabi on qubit {qubit}.\")\n",
    "\n",
    "    # Initial setup is needed to unsync all sequencers\n",
    "    platform.initial_setup()\n",
    "\n",
    "    # Run experiment\n",
    "    results_list = []\n",
    "    for amp in tqdm(iterable=amp_values, total=len(amp_values), desc=\"Amplitude\"):\n",
    "        platform.set_parameter(alias=f\"Drag({qubit})\", parameter=ql.Parameter.AMPLITUDE, value=float(amp))\n",
    "        result = platform.execute(program=circuit, num_avg=hw_avg, repetition_duration=repetition_duration)\n",
    "        results_list.append(result.array)\n",
    "\n",
    "    return np.hstack(results_list)"
   ]
  },
  {
   "cell_type": "code",
   "execution_count": null,
   "metadata": {},
   "outputs": [],
   "source": [
    "def fit_rabi(xdata: np.ndarray, results: np.ndarray, fit_quadrature: str = \"i\"):\n",
    "    # Fitting function\n",
    "    def sinus(x, a, b, c, d):\n",
    "        return a * np.sin(2 * np.pi * b * np.array(x) - c) + d\n",
    "\n",
    "    # Fit signal\n",
    "    fit_signal = results[0] if fit_quadrature == \"i\" else results[1]\n",
    "\n",
    "    # Sinus fit\n",
    "    mod = lmfit.Model(sinus)\n",
    "    mod.set_param_hint(\"a\", value=0.3, max=3, vary=True)\n",
    "    mod.set_param_hint(\"b\", value=0.15, max=0.3, vary=True)\n",
    "    mod.set_param_hint(\"c\", value=0, max=np.pi, vary=True)\n",
    "    mod.set_param_hint(\"d\", value=0, max=10, vary=True)\n",
    "\n",
    "    params = mod.make_params()\n",
    "    fit = mod.fit(data=fit_signal, params=params, x=xdata)\n",
    "\n",
    "    a_value = fit.params[\"a\"].value\n",
    "    b_value = fit.params[\"b\"].value\n",
    "    c_value = fit.params[\"c\"].value\n",
    "    d_value = fit.params[\"d\"].value\n",
    "\n",
    "    popt = [a_value, b_value, c_value, d_value]\n",
    "\n",
    "    fitted_pi_pulse_amplitude = np.abs(1 / (2 * popt[1]))\n",
    "\n",
    "    print(f\"The fitted pi pulse amplitude is: {fitted_pi_pulse_amplitude}\")\n",
    "    print(popt)\n",
    "\n",
    "    # plot\n",
    "    fig, axes = plot_iq(xdata=xdata, results=results, title_label=\"Rabi\", xlabel=\"Amplitude\")\n",
    "    plot_fit(\n",
    "        func=sinus,\n",
    "        xdata=np.linspace(xdata[0], xdata[-1], 1000),\n",
    "        popt=popt,\n",
    "        ax=axes[0 if fit_quadrature == \"i\" else 1],\n",
    "        fitted_pi_pulse_amplitude=fitted_pi_pulse_amplitude,\n",
    "    )\n",
    "    return fitted_pi_pulse_amplitude, fig"
   ]
  },
  {
   "cell_type": "code",
   "execution_count": null,
   "metadata": {},
   "outputs": [],
   "source": [
    "# Rabi experiment\n",
    "rabi_values = {\n",
    "    \"start\": 0,\n",
    "    \"stop\": 0.25,\n",
    "    \"step\": (0.25) / 50,  # It's written like this because it's derived from a np.linspace definition\n",
    "}\n",
    "\n",
    "qubit = 0\n",
    "amp_values = np.arange(rabi_values[\"start\"], rabi_values[\"stop\"], rabi_values[\"step\"])"
   ]
  },
  {
   "cell_type": "code",
   "execution_count": null,
   "metadata": {},
   "outputs": [],
   "source": [
    "\"\"\" Define the platform and connect to the instruments \"\"\"\n",
    "\n",
    "os.environ[\"RUNCARDS\"] = \"./tests/automatic_calibration/runcards\"\n",
    "os.environ[\"DATA\"] = \"./tests/automatic_calibration/data\"\n",
    "platform_name = \"galadriel\"\n",
    "platform_path = os.path.join(os.environ[\"RUNCARDS\"], f\"{platform_name}.yml\")\n",
    "platform = ql.build_platform(path=platform_path)\n",
    "\n",
    "platform.connect()\n",
    "platform.turn_on_instruments()\n",
    "platform.initial_setup()"
   ]
  },
  {
   "cell_type": "code",
   "execution_count": null,
   "metadata": {},
   "outputs": [],
   "source": [
    "results = rabi(amp_values=amp_values, qubit=qubit, platform=platform)\n",
    "\n",
    "fitted_pi_pulse_amplitude, fig = fit_rabi(results=results)"
   ]
  }
 ],
 "metadata": {
  "language_info": {
   "name": "python"
  },
  "orig_nbformat": 4
 },
 "nbformat": 4,
 "nbformat_minor": 2
}
