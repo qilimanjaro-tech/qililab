{
 "cells": [
  {
   "cell_type": "markdown",
   "metadata": {},
   "source": [
    "### Parameters to be overwritten by the automatic_calibration workflow"
   ]
  },
  {
   "cell_type": "code",
   "execution_count": 2,
   "metadata": {
    "tags": [
     "parameters"
    ]
   },
   "outputs": [],
   "source": [
    "# In case an argument is not passed in the workflow, their value in this notebook will be taken as default.\n",
    "guille = 0\n",
    "nick = 0\n",
    "juli = 0\n",
    "a = 0\n",
    "b = 0"
   ]
  },
  {
   "cell_type": "markdown",
   "metadata": {},
   "source": [
    "# START OF NOTEBOOK\n",
    "---"
   ]
  },
  {
   "cell_type": "code",
   "execution_count": 5,
   "metadata": {},
   "outputs": [],
   "source": [
    "# Initialize our data:\n",
    "data = {\n",
    "    \"guille\": guille + 1,\n",
    "    \"nick\": nick + 1,\n",
    "    \"juli\": juli + 1,\n",
    "}"
   ]
  },
  {
   "cell_type": "code",
   "execution_count": null,
   "metadata": {},
   "outputs": [],
   "source": [
    "from random import randint\n",
    "\n",
    "a += randint(0, 10)\n",
    "b += randint(0, 10)"
   ]
  },
  {
   "cell_type": "code",
   "execution_count": null,
   "metadata": {},
   "outputs": [],
   "source": [
    "#\n",
    "#\n",
    "#"
   ]
  },
  {
   "cell_type": "markdown",
   "metadata": {},
   "source": [
    "# NOTEBOOK OUTPUTS (dictionary):\n",
    "---\n",
    "Add to the `outputs` variable the parameters that might be passed to the next notebooks:"
   ]
  },
  {
   "cell_type": "code",
   "execution_count": 12,
   "metadata": {},
   "outputs": [],
   "source": [
    "from qililab.automatic_calibration.calibration_utils import export_calibration_outputs\n",
    "\n",
    "export_calibration_outputs(\n",
    "    {\n",
    "        \"a\": a,\n",
    "        \"b\": b,\n",
    "        \"check_parameters\": {\"x\": [0,1,2,3,4,5,6,7,8,9,10,11,12,13,14,15,16,17,18,19], \"y\": [0,2,1,3,4,5,6,7,8,9,10,11,12,13,14,15,16,17,18,19]},\n",
    "        \"platform_params\": [(\"bus_alias0\", \"param_name0\", 1)],\n",
    "    }\n",
    "    | data\n",
    ")"
   ]
  },
  {
   "cell_type": "markdown",
   "metadata": {},
   "source": [
    "\n",
    "(The notebook ends here)"
   ]
  }
 ],
 "metadata": {
  "kernelspec": {
   "display_name": ".venv",
   "language": "python",
   "name": "python3"
  },
  "language_info": {
   "codemirror_mode": {
    "name": "ipython",
    "version": 3
   },
   "file_extension": ".py",
   "mimetype": "text/x-python",
   "name": "python",
   "nbconvert_exporter": "python",
   "pygments_lexer": "ipython3",
   "version": "3.11.3"
  },
  "orig_nbformat": 4
 },
 "nbformat": 4,
 "nbformat_minor": 2
}
