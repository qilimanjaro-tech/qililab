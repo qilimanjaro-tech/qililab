{
 "cells": [
  {
   "cell_type": "code",
   "execution_count": 1,
   "id": "9683a74d",
   "metadata": {
    "execution": {
     "iopub.execute_input": "2023-10-05T18:45:28.451829Z",
     "iopub.status.busy": "2023-10-05T18:45:28.450920Z",
     "iopub.status.idle": "2023-10-05T18:45:28.459758Z",
     "shell.execute_reply": "2023-10-05T18:45:28.458869Z"
    },
    "papermill": {
     "duration": 0.021107,
     "end_time": "2023-10-05T18:45:28.463892",
     "exception": false,
     "start_time": "2023-10-05T18:45:28.442785",
     "status": "completed"
    },
    "tags": [
     "injected-parameters"
    ]
   },
   "outputs": [],
   "source": [
    "# Parameters\n",
    "check = False\n",
    "number_of_random_datapoints = 10\n"
   ]
  },
  {
   "cell_type": "code",
   "execution_count": 2,
   "id": "4197286f",
   "metadata": {
    "execution": {
     "iopub.execute_input": "2023-10-05T18:45:28.469623Z",
     "iopub.status.busy": "2023-10-05T18:45:28.469445Z",
     "iopub.status.idle": "2023-10-05T18:45:28.472049Z",
     "shell.execute_reply": "2023-10-05T18:45:28.471607Z"
    },
    "papermill": {
     "duration": 0.006536,
     "end_time": "2023-10-05T18:45:28.473183",
     "exception": false,
     "start_time": "2023-10-05T18:45:28.466647",
     "status": "completed"
    },
    "tags": []
   },
   "outputs": [],
   "source": [
    "# In case an argument is not passed in the workflow, their value in this notebook will be taken as default.\n",
    "guille = 0\n",
    "nick = 0\n",
    "juli = 0\n",
    "a = 0\n",
    "b = 0"
   ]
  },
  {
   "cell_type": "markdown",
   "id": "7d09978e",
   "metadata": {
    "papermill": {
     "duration": 0.001397,
     "end_time": "2023-10-05T18:45:28.476315",
     "exception": false,
     "start_time": "2023-10-05T18:45:28.474918",
     "status": "completed"
    },
    "tags": []
   },
   "source": [
    "# START OF NOTEBOOK\n",
    "---"
   ]
  },
  {
   "cell_type": "code",
   "execution_count": 3,
   "id": "ca37710a",
   "metadata": {
    "execution": {
     "iopub.execute_input": "2023-10-05T18:45:28.481134Z",
     "iopub.status.busy": "2023-10-05T18:45:28.480805Z",
     "iopub.status.idle": "2023-10-05T18:45:28.484094Z",
     "shell.execute_reply": "2023-10-05T18:45:28.483690Z"
    },
    "papermill": {
     "duration": 0.00705,
     "end_time": "2023-10-05T18:45:28.485006",
     "exception": false,
     "start_time": "2023-10-05T18:45:28.477956",
     "status": "completed"
    },
    "tags": []
   },
   "outputs": [],
   "source": [
    "# Initialize our data:\n",
    "data = {\n",
    "    \"guille\": guille + 1,\n",
    "    \"nick\": nick + 1,\n",
    "    \"juli\": juli + 1,\n",
    "}"
   ]
  },
  {
   "cell_type": "code",
   "execution_count": 4,
   "id": "826c9a46",
   "metadata": {
    "execution": {
     "iopub.execute_input": "2023-10-05T18:45:28.488237Z",
     "iopub.status.busy": "2023-10-05T18:45:28.488098Z",
     "iopub.status.idle": "2023-10-05T18:45:28.490682Z",
     "shell.execute_reply": "2023-10-05T18:45:28.489855Z"
    },
    "papermill": {
     "duration": 0.006524,
     "end_time": "2023-10-05T18:45:28.492923",
     "exception": false,
     "start_time": "2023-10-05T18:45:28.486399",
     "status": "completed"
    },
    "tags": []
   },
   "outputs": [],
   "source": [
    "from random import randint\n",
    "\n",
    "a += randint(0, 10)\n",
    "b += randint(0, 10)"
   ]
  },
  {
   "cell_type": "code",
   "execution_count": 5,
   "id": "3e40965a",
   "metadata": {
    "execution": {
     "iopub.execute_input": "2023-10-05T18:45:28.495826Z",
     "iopub.status.busy": "2023-10-05T18:45:28.495728Z",
     "iopub.status.idle": "2023-10-05T18:45:28.497092Z",
     "shell.execute_reply": "2023-10-05T18:45:28.496887Z"
    },
    "papermill": {
     "duration": 0.003558,
     "end_time": "2023-10-05T18:45:28.497812",
     "exception": false,
     "start_time": "2023-10-05T18:45:28.494254",
     "status": "completed"
    },
    "tags": []
   },
   "outputs": [],
   "source": [
    "#\n",
    "#\n",
    "#"
   ]
  },
  {
   "cell_type": "markdown",
   "id": "9df2cc9d",
   "metadata": {
    "papermill": {
     "duration": 0.000817,
     "end_time": "2023-10-05T18:45:28.499524",
     "exception": false,
     "start_time": "2023-10-05T18:45:28.498707",
     "status": "completed"
    },
    "tags": []
   },
   "source": [
    "\n",
    "(The notebook ends here)"
   ]
  },
  {
   "cell_type": "markdown",
   "id": "843b74bf",
   "metadata": {
    "papermill": {
     "duration": 0.000771,
     "end_time": "2023-10-05T18:45:28.501177",
     "exception": false,
     "start_time": "2023-10-05T18:45:28.500406",
     "status": "completed"
    },
    "tags": []
   },
   "source": [
    "# NOTEBOOK OUTPUTS:\n",
    "---\n",
    "Add to the `outputs` variable (dict), the parameters to pass to posterior notebooks:"
   ]
  },
  {
   "cell_type": "code",
   "execution_count": 6,
   "id": "4ccc5498",
   "metadata": {
    "execution": {
     "iopub.execute_input": "2023-10-05T18:45:28.503147Z",
     "iopub.status.busy": "2023-10-05T18:45:28.503060Z",
     "iopub.status.idle": "2023-10-05T18:45:29.744469Z",
     "shell.execute_reply": "2023-10-05T18:45:29.744104Z"
    },
    "papermill": {
     "duration": 1.243527,
     "end_time": "2023-10-05T18:45:29.745471",
     "exception": false,
     "start_time": "2023-10-05T18:45:28.501944",
     "status": "completed"
    },
    "tags": []
   },
   "outputs": [
    {
     "name": "stdout",
     "output_type": "stream",
     "text": [
      "RAND_INT:47102512880765720413 - OUTPUTS: {\"a\": 8, \"b\": 8, \"check_parameters\": {\"x\": [0, 1, 2, 3, 4, 5, 6, 7, 8, 9, 10, 11, 12, 13, 14, 15, 16, 17, 18, 19], \"y\": [0, 2, 1, 3, 4, 5, 6, 7, 8, 9, 10, 11, 12, 13, 14, 15, 16, 17, 18, 19]}, \"platform_params\": [[\"bus_alias0\", \"param_name0\", 1]], \"guille\": 1, \"nick\": 1, \"juli\": 1}\n"
     ]
    }
   ],
   "source": [
    "from qililab.automatic_calibration.calibration_utils import export_calibration_outputs\n",
    "\n",
    "export_calibration_outputs(\n",
    "    {\n",
    "        \"a\": a,\n",
    "        \"b\": b,\n",
    "        \"check_parameters\": {\"x\": [0,1,2,3,4,5,6,7,8,9,10,11,12,13,14,15,16,17,18,19], \"y\": [0,2,1,3,4,5,6,7,8,9,10,11,12,13,14,15,16,17,18,19]},\n",
    "        \"platform_params\": [(\"bus_alias0\", \"param_name0\", 1)],\n",
    "    }\n",
    "    | data\n",
    ")"
   ]
  },
  {
   "cell_type": "code",
   "execution_count": null,
   "id": "d94cf5ce",
   "metadata": {
    "papermill": {
     "duration": 0.00106,
     "end_time": "2023-10-05T18:45:29.747931",
     "exception": false,
     "start_time": "2023-10-05T18:45:29.746871",
     "status": "completed"
    },
    "tags": []
   },
   "outputs": [],
   "source": []
  }
 ],
 "metadata": {
  "kernelspec": {
   "display_name": ".venv",
   "language": "python",
   "name": "python3"
  },
  "language_info": {
   "codemirror_mode": {
    "name": "ipython",
    "version": 3
   },
   "file_extension": ".py",
   "mimetype": "text/x-python",
   "name": "python",
   "nbconvert_exporter": "python",
   "pygments_lexer": "ipython3",
   "version": "3.11.3"
  },
  "papermill": {
   "default_parameters": {},
   "duration": 2.33702,
   "end_time": "2023-10-05T18:45:30.066433",
   "environment_variables": {},
   "exception": null,
   "input_path": "notebooks/third.ipynb",
   "output_path": "notebooks/third_2023_10_05-20:45:27.ipynb",
   "parameters": {
    "check": false,
    "number_of_random_datapoints": 10
   },
   "start_time": "2023-10-05T18:45:27.729413",
   "version": "2.4.0"
  }
 },
 "nbformat": 4,
 "nbformat_minor": 5
}