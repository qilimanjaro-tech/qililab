{
 "cells": [
  {
   "cell_type": "markdown",
   "id": "5d4ab0a0",
   "metadata": {
    "papermill": {
     "duration": 0.00535,
     "end_time": "2023-10-05T18:45:26.132654",
     "exception": false,
     "start_time": "2023-10-05T18:45:26.127304",
     "status": "completed"
    },
    "tags": []
   },
   "source": [
    "### Parameters to be overwritten by the automatic_calibration workflow"
   ]
  },
  {
   "cell_type": "code",
   "execution_count": 1,
   "id": "7a327b27",
   "metadata": {
    "execution": {
     "iopub.execute_input": "2023-10-05T18:45:26.140919Z",
     "iopub.status.busy": "2023-10-05T18:45:26.140435Z",
     "iopub.status.idle": "2023-10-05T18:45:26.151678Z",
     "shell.execute_reply": "2023-10-05T18:45:26.150673Z"
    },
    "papermill": {
     "duration": 0.017555,
     "end_time": "2023-10-05T18:45:26.153675",
     "exception": false,
     "start_time": "2023-10-05T18:45:26.136120",
     "status": "completed"
    },
    "tags": [
     "parameters"
    ]
   },
   "outputs": [],
   "source": [
    "# In case an argument is not passed in the workflow, their value in this notebook will be taken as default.\n",
    "guille = 0\n",
    "nick = 0\n",
    "juli = 0\n",
    "a = 0\n",
    "b = 0"
   ]
  },
  {
   "cell_type": "code",
   "execution_count": 2,
   "id": "419351fb",
   "metadata": {
    "execution": {
     "iopub.execute_input": "2023-10-05T18:45:26.162789Z",
     "iopub.status.busy": "2023-10-05T18:45:26.161936Z",
     "iopub.status.idle": "2023-10-05T18:45:26.165390Z",
     "shell.execute_reply": "2023-10-05T18:45:26.164993Z"
    },
    "papermill": {
     "duration": 0.010728,
     "end_time": "2023-10-05T18:45:26.166602",
     "exception": false,
     "start_time": "2023-10-05T18:45:26.155874",
     "status": "completed"
    },
    "tags": [
     "injected-parameters"
    ]
   },
   "outputs": [],
   "source": [
    "# Parameters\n",
    "check = False\n",
    "number_of_random_datapoints = 10\n"
   ]
  },
  {
   "cell_type": "markdown",
   "id": "2ef0805f",
   "metadata": {
    "papermill": {
     "duration": 0.001343,
     "end_time": "2023-10-05T18:45:26.169538",
     "exception": false,
     "start_time": "2023-10-05T18:45:26.168195",
     "status": "completed"
    },
    "tags": []
   },
   "source": [
    "# START OF NOTEBOOK\n",
    "---"
   ]
  },
  {
   "cell_type": "code",
   "execution_count": 3,
   "id": "b706af3a",
   "metadata": {
    "execution": {
     "iopub.execute_input": "2023-10-05T18:45:26.173885Z",
     "iopub.status.busy": "2023-10-05T18:45:26.173707Z",
     "iopub.status.idle": "2023-10-05T18:45:26.176173Z",
     "shell.execute_reply": "2023-10-05T18:45:26.175825Z"
    },
    "papermill": {
     "duration": 0.006097,
     "end_time": "2023-10-05T18:45:26.177127",
     "exception": false,
     "start_time": "2023-10-05T18:45:26.171030",
     "status": "completed"
    },
    "tags": []
   },
   "outputs": [],
   "source": [
    "# Initialize our data:\n",
    "data = {\n",
    "    \"guille\": guille + 1,\n",
    "    \"nick\": nick + 1,\n",
    "    \"juli\": juli + 1,\n",
    "}"
   ]
  },
  {
   "cell_type": "code",
   "execution_count": 4,
   "id": "b4d9aadb",
   "metadata": {
    "execution": {
     "iopub.execute_input": "2023-10-05T18:45:26.180450Z",
     "iopub.status.busy": "2023-10-05T18:45:26.180314Z",
     "iopub.status.idle": "2023-10-05T18:45:26.182794Z",
     "shell.execute_reply": "2023-10-05T18:45:26.182126Z"
    },
    "papermill": {
     "duration": 0.006311,
     "end_time": "2023-10-05T18:45:26.184824",
     "exception": false,
     "start_time": "2023-10-05T18:45:26.178513",
     "status": "completed"
    },
    "tags": []
   },
   "outputs": [],
   "source": [
    "from random import randint\n",
    "\n",
    "a += randint(0, 10)\n",
    "b += randint(0, 10)"
   ]
  },
  {
   "cell_type": "code",
   "execution_count": 5,
   "id": "4d7293e9",
   "metadata": {
    "execution": {
     "iopub.execute_input": "2023-10-05T18:45:26.187371Z",
     "iopub.status.busy": "2023-10-05T18:45:26.187288Z",
     "iopub.status.idle": "2023-10-05T18:45:26.188625Z",
     "shell.execute_reply": "2023-10-05T18:45:26.188432Z"
    },
    "papermill": {
     "duration": 0.003273,
     "end_time": "2023-10-05T18:45:26.189381",
     "exception": false,
     "start_time": "2023-10-05T18:45:26.186108",
     "status": "completed"
    },
    "tags": []
   },
   "outputs": [],
   "source": [
    "#\n",
    "#\n",
    "#"
   ]
  },
  {
   "cell_type": "markdown",
   "id": "22e565a2",
   "metadata": {
    "papermill": {
     "duration": 0.000838,
     "end_time": "2023-10-05T18:45:26.191157",
     "exception": false,
     "start_time": "2023-10-05T18:45:26.190319",
     "status": "completed"
    },
    "tags": []
   },
   "source": [
    "# NOTEBOOK OUTPUTS (dictionary):\n",
    "---\n",
    "Add to the `outputs` variable the parameters that might be passed to the next notebooks:"
   ]
  },
  {
   "cell_type": "code",
   "execution_count": 6,
   "id": "a2a16ce0",
   "metadata": {
    "execution": {
     "iopub.execute_input": "2023-10-05T18:45:26.193167Z",
     "iopub.status.busy": "2023-10-05T18:45:26.193097Z",
     "iopub.status.idle": "2023-10-05T18:45:27.403228Z",
     "shell.execute_reply": "2023-10-05T18:45:27.402884Z"
    },
    "papermill": {
     "duration": 1.212157,
     "end_time": "2023-10-05T18:45:27.404094",
     "exception": false,
     "start_time": "2023-10-05T18:45:26.191937",
     "status": "completed"
    },
    "tags": []
   },
   "outputs": [
    {
     "name": "stdout",
     "output_type": "stream",
     "text": [
      "RAND_INT:47102512880765720413 - OUTPUTS: {\"a\": 3, \"b\": 5, \"check_parameters\": {\"x\": [0, 1, 2, 3, 4, 5, 6, 7, 8, 9, 10, 11, 12, 13, 14, 15, 16, 17, 18, 19], \"y\": [0, 2, 1, 3, 4, 5, 6, 7, 8, 9, 10, 11, 12, 13, 14, 15, 16, 17, 18, 19]}, \"platform_params\": [[\"bus_alias0\", \"param_name0\", 1]], \"guille\": 1, \"nick\": 1, \"juli\": 1}\n"
     ]
    }
   ],
   "source": [
    "from qililab.automatic_calibration.calibration_utils import export_calibration_outputs\n",
    "\n",
    "export_calibration_outputs(\n",
    "    {\n",
    "        \"a\": a,\n",
    "        \"b\": b,\n",
    "        \"check_parameters\": {\"x\": [0,1,2,3,4,5,6,7,8,9,10,11,12,13,14,15,16,17,18,19], \"y\": [0,2,1,3,4,5,6,7,8,9,10,11,12,13,14,15,16,17,18,19]},\n",
    "        \"platform_params\": [(\"bus_alias0\", \"param_name0\", 1)],\n",
    "    }\n",
    "    | data\n",
    ")"
   ]
  },
  {
   "cell_type": "markdown",
   "id": "a0b76dc6",
   "metadata": {
    "papermill": {
     "duration": 0.000978,
     "end_time": "2023-10-05T18:45:27.406876",
     "exception": false,
     "start_time": "2023-10-05T18:45:27.405898",
     "status": "completed"
    },
    "tags": []
   },
   "source": [
    "\n",
    "(The notebook ends here)"
   ]
  }
 ],
 "metadata": {
  "kernelspec": {
   "display_name": ".venv",
   "language": "python",
   "name": "python3"
  },
  "language_info": {
   "codemirror_mode": {
    "name": "ipython",
    "version": 3
   },
   "file_extension": ".py",
   "mimetype": "text/x-python",
   "name": "python",
   "nbconvert_exporter": "python",
   "pygments_lexer": "ipython3",
   "version": "3.11.3"
  },
  "papermill": {
   "default_parameters": {},
   "duration": 2.147591,
   "end_time": "2023-10-05T18:45:27.725203",
   "environment_variables": {},
   "exception": null,
   "input_path": "notebooks/second.ipynb",
   "output_path": "notebooks/second_2023_10_05-20:45:25.ipynb",
   "parameters": {
    "check": false,
    "number_of_random_datapoints": 10
   },
   "start_time": "2023-10-05T18:45:25.577612",
   "version": "2.4.0"
  }
 },
 "nbformat": 4,
 "nbformat_minor": 5
}