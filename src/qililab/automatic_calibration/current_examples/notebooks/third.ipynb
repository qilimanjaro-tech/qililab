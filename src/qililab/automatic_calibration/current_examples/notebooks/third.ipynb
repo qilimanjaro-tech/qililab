{
 "cells": [
  {
   "cell_type": "code",
   "execution_count": 3,
   "metadata": {},
   "outputs": [],
   "source": [
    "# In case an argument is not passed in the workflow, their value in this notebook will be taken as default.\n",
    "guille = 0\n",
    "nick = 0\n",
    "juli = 0\n",
    "a = 0\n",
    "b = 0\n",
    "check = False"
   ]
  },
  {
   "cell_type": "markdown",
   "metadata": {},
   "source": [
    "# START OF NOTEBOOK\n",
    "---"
   ]
  },
  {
   "cell_type": "code",
   "execution_count": 4,
   "metadata": {},
   "outputs": [
    {
     "ename": "NameError",
     "evalue": "name 'guille' is not defined",
     "output_type": "error",
     "traceback": [
      "\u001b[0;31m---------------------------------------------------------------------------\u001b[0m",
      "\u001b[0;31mNameError\u001b[0m                                 Traceback (most recent call last)",
      "\u001b[1;32m/Users/guillermoabadlopez/Documents/GitHub/qililab/src/qililab/automatic_calibration/draft_notebook_workflow/notebooks/third.ipynb Cell 3\u001b[0m line \u001b[0;36m3\n\u001b[1;32m      <a href='vscode-notebook-cell:/Users/guillermoabadlopez/Documents/GitHub/qililab/src/qililab/automatic_calibration/draft_notebook_workflow/notebooks/third.ipynb#W2sZmlsZQ%3D%3D?line=0'>1</a>\u001b[0m \u001b[39m# Initialize our data:\u001b[39;00m\n\u001b[1;32m      <a href='vscode-notebook-cell:/Users/guillermoabadlopez/Documents/GitHub/qililab/src/qililab/automatic_calibration/draft_notebook_workflow/notebooks/third.ipynb#W2sZmlsZQ%3D%3D?line=1'>2</a>\u001b[0m data \u001b[39m=\u001b[39m {\n\u001b[0;32m----> <a href='vscode-notebook-cell:/Users/guillermoabadlopez/Documents/GitHub/qililab/src/qililab/automatic_calibration/draft_notebook_workflow/notebooks/third.ipynb#W2sZmlsZQ%3D%3D?line=2'>3</a>\u001b[0m     \u001b[39m\"\u001b[39m\u001b[39mguille\u001b[39m\u001b[39m\"\u001b[39m: guille \u001b[39m+\u001b[39m \u001b[39m1\u001b[39m,\n\u001b[1;32m      <a href='vscode-notebook-cell:/Users/guillermoabadlopez/Documents/GitHub/qililab/src/qililab/automatic_calibration/draft_notebook_workflow/notebooks/third.ipynb#W2sZmlsZQ%3D%3D?line=3'>4</a>\u001b[0m     \u001b[39m\"\u001b[39m\u001b[39mnick\u001b[39m\u001b[39m\"\u001b[39m: nick \u001b[39m+\u001b[39m \u001b[39m1\u001b[39m,\n\u001b[1;32m      <a href='vscode-notebook-cell:/Users/guillermoabadlopez/Documents/GitHub/qililab/src/qililab/automatic_calibration/draft_notebook_workflow/notebooks/third.ipynb#W2sZmlsZQ%3D%3D?line=4'>5</a>\u001b[0m     \u001b[39m\"\u001b[39m\u001b[39mjuli\u001b[39m\u001b[39m\"\u001b[39m: juli \u001b[39m+\u001b[39m \u001b[39m1\u001b[39m,\n\u001b[1;32m      <a href='vscode-notebook-cell:/Users/guillermoabadlopez/Documents/GitHub/qililab/src/qililab/automatic_calibration/draft_notebook_workflow/notebooks/third.ipynb#W2sZmlsZQ%3D%3D?line=5'>6</a>\u001b[0m }\n",
      "\u001b[0;31mNameError\u001b[0m: name 'guille' is not defined"
     ]
    }
   ],
   "source": [
    "# Initialize our data:\n",
    "data = {\n",
    "    \"guille\": guille + 1,\n",
    "    \"nick\": nick + 1,\n",
    "    \"juli\": juli + 1,\n",
    "}"
   ]
  },
  {
   "cell_type": "code",
   "execution_count": 5,
   "metadata": {},
   "outputs": [
    {
     "ename": "NameError",
     "evalue": "name 'a' is not defined",
     "output_type": "error",
     "traceback": [
      "\u001b[0;31m---------------------------------------------------------------------------\u001b[0m",
      "\u001b[0;31mNameError\u001b[0m                                 Traceback (most recent call last)",
      "\u001b[1;32m/Users/guillermoabadlopez/Documents/GitHub/qililab/src/qililab/automatic_calibration/draft_notebook_workflow/notebooks/third.ipynb Cell 4\u001b[0m line \u001b[0;36m3\n\u001b[1;32m      <a href='vscode-notebook-cell:/Users/guillermoabadlopez/Documents/GitHub/qililab/src/qililab/automatic_calibration/draft_notebook_workflow/notebooks/third.ipynb#W3sZmlsZQ%3D%3D?line=0'>1</a>\u001b[0m \u001b[39mfrom\u001b[39;00m \u001b[39mrandom\u001b[39;00m \u001b[39mimport\u001b[39;00m randint\n\u001b[0;32m----> <a href='vscode-notebook-cell:/Users/guillermoabadlopez/Documents/GitHub/qililab/src/qililab/automatic_calibration/draft_notebook_workflow/notebooks/third.ipynb#W3sZmlsZQ%3D%3D?line=2'>3</a>\u001b[0m a \u001b[39m+\u001b[39m\u001b[39m=\u001b[39m randint(\u001b[39m0\u001b[39m, \u001b[39m10\u001b[39m)\n\u001b[1;32m      <a href='vscode-notebook-cell:/Users/guillermoabadlopez/Documents/GitHub/qililab/src/qililab/automatic_calibration/draft_notebook_workflow/notebooks/third.ipynb#W3sZmlsZQ%3D%3D?line=3'>4</a>\u001b[0m b \u001b[39m+\u001b[39m\u001b[39m=\u001b[39m randint(\u001b[39m0\u001b[39m, \u001b[39m10\u001b[39m)\n",
      "\u001b[0;31mNameError\u001b[0m: name 'a' is not defined"
     ]
    }
   ],
   "source": [
    "from random import randint\n",
    "\n",
    "a += randint(0, 10)\n",
    "b += randint(0, 10)"
   ]
  },
  {
   "cell_type": "code",
   "execution_count": 6,
   "metadata": {},
   "outputs": [],
   "source": [
    "#\n",
    "#\n",
    "#"
   ]
  },
  {
   "cell_type": "markdown",
   "metadata": {},
   "source": [
    "\n",
    "(The notebook ends here)"
   ]
  },
  {
   "cell_type": "markdown",
   "metadata": {},
   "source": [
    "# NOTEBOOK OUTPUTS:\n",
    "---\n",
    "Add to the `outputs` variable (dict), the parameters to pass to posterior notebooks:"
   ]
  },
  {
   "cell_type": "code",
   "execution_count": 7,
   "metadata": {},
   "outputs": [
    {
     "ename": "NameError",
     "evalue": "name 'a' is not defined",
     "output_type": "error",
     "traceback": [
      "\u001b[0;31m---------------------------------------------------------------------------\u001b[0m",
      "\u001b[0;31mNameError\u001b[0m                                 Traceback (most recent call last)",
      "\u001b[1;32m/Users/guillermoabadlopez/Documents/GitHub/qililab/src/qililab/automatic_calibration/draft_notebook_workflow/notebooks/third.ipynb Cell 8\u001b[0m line \u001b[0;36m4\n\u001b[1;32m      <a href='vscode-notebook-cell:/Users/guillermoabadlopez/Documents/GitHub/qililab/src/qililab/automatic_calibration/draft_notebook_workflow/notebooks/third.ipynb#X11sZmlsZQ%3D%3D?line=0'>1</a>\u001b[0m \u001b[39mfrom\u001b[39;00m \u001b[39mqililab\u001b[39;00m\u001b[39m.\u001b[39;00m\u001b[39mautomatic_calibration\u001b[39;00m\u001b[39m.\u001b[39;00m\u001b[39mcalibration_utils\u001b[39;00m \u001b[39mimport\u001b[39;00m export_calibration_outputs\n\u001b[1;32m      <a href='vscode-notebook-cell:/Users/guillermoabadlopez/Documents/GitHub/qililab/src/qililab/automatic_calibration/draft_notebook_workflow/notebooks/third.ipynb#X11sZmlsZQ%3D%3D?line=2'>3</a>\u001b[0m outputs \u001b[39m=\u001b[39m {\n\u001b[0;32m----> <a href='vscode-notebook-cell:/Users/guillermoabadlopez/Documents/GitHub/qililab/src/qililab/automatic_calibration/draft_notebook_workflow/notebooks/third.ipynb#X11sZmlsZQ%3D%3D?line=3'>4</a>\u001b[0m     \u001b[39m\"\u001b[39m\u001b[39ma\u001b[39m\u001b[39m\"\u001b[39m: a,\n\u001b[1;32m      <a href='vscode-notebook-cell:/Users/guillermoabadlopez/Documents/GitHub/qililab/src/qililab/automatic_calibration/draft_notebook_workflow/notebooks/third.ipynb#X11sZmlsZQ%3D%3D?line=4'>5</a>\u001b[0m     \u001b[39m\"\u001b[39m\u001b[39mb\u001b[39m\u001b[39m\"\u001b[39m: b,\n\u001b[1;32m      <a href='vscode-notebook-cell:/Users/guillermoabadlopez/Documents/GitHub/qililab/src/qililab/automatic_calibration/draft_notebook_workflow/notebooks/third.ipynb#X11sZmlsZQ%3D%3D?line=5'>6</a>\u001b[0m     \u001b[39m\"\u001b[39m\u001b[39mcheck_parameters\u001b[39m\u001b[39m\"\u001b[39m: {\n\u001b[1;32m      <a href='vscode-notebook-cell:/Users/guillermoabadlopez/Documents/GitHub/qililab/src/qililab/automatic_calibration/draft_notebook_workflow/notebooks/third.ipynb#X11sZmlsZQ%3D%3D?line=6'>7</a>\u001b[0m         \u001b[39m1\u001b[39m,\n\u001b[1;32m      <a href='vscode-notebook-cell:/Users/guillermoabadlopez/Documents/GitHub/qililab/src/qililab/automatic_calibration/draft_notebook_workflow/notebooks/third.ipynb#X11sZmlsZQ%3D%3D?line=7'>8</a>\u001b[0m         \u001b[39m2\u001b[39m\n\u001b[1;32m      <a href='vscode-notebook-cell:/Users/guillermoabadlopez/Documents/GitHub/qililab/src/qililab/automatic_calibration/draft_notebook_workflow/notebooks/third.ipynb#X11sZmlsZQ%3D%3D?line=8'>9</a>\u001b[0m     },\n\u001b[1;32m     <a href='vscode-notebook-cell:/Users/guillermoabadlopez/Documents/GitHub/qililab/src/qililab/automatic_calibration/draft_notebook_workflow/notebooks/third.ipynb#X11sZmlsZQ%3D%3D?line=9'>10</a>\u001b[0m     \u001b[39m\"\u001b[39m\u001b[39mplatform_params\u001b[39m\u001b[39m\"\u001b[39m: [\n\u001b[1;32m     <a href='vscode-notebook-cell:/Users/guillermoabadlopez/Documents/GitHub/qililab/src/qililab/automatic_calibration/draft_notebook_workflow/notebooks/third.ipynb#X11sZmlsZQ%3D%3D?line=10'>11</a>\u001b[0m         (\u001b[39m\"\u001b[39m\u001b[39mbus_alias0\u001b[39m\u001b[39m\"\u001b[39m, \u001b[39m\"\u001b[39m\u001b[39mparam_name0\u001b[39m\u001b[39m\"\u001b[39m, \u001b[39m1\u001b[39m)\n\u001b[1;32m     <a href='vscode-notebook-cell:/Users/guillermoabadlopez/Documents/GitHub/qililab/src/qililab/automatic_calibration/draft_notebook_workflow/notebooks/third.ipynb#X11sZmlsZQ%3D%3D?line=11'>12</a>\u001b[0m     ],\n\u001b[1;32m     <a href='vscode-notebook-cell:/Users/guillermoabadlopez/Documents/GitHub/qililab/src/qililab/automatic_calibration/draft_notebook_workflow/notebooks/third.ipynb#X11sZmlsZQ%3D%3D?line=12'>13</a>\u001b[0m } \u001b[39m|\u001b[39m data\n\u001b[1;32m     <a href='vscode-notebook-cell:/Users/guillermoabadlopez/Documents/GitHub/qililab/src/qililab/automatic_calibration/draft_notebook_workflow/notebooks/third.ipynb#X11sZmlsZQ%3D%3D?line=14'>15</a>\u001b[0m export_calibration_outputs(outputs)\n",
      "\u001b[0;31mNameError\u001b[0m: name 'a' is not defined"
     ]
    }
   ],
   "source": [
    "from qililab.automatic_calibration.calibration_node import export_calibration_outputs\n",
    "\n",
    "if check:\n",
    "    check_parameters = {\n",
    "        \"x\": [0, 1, 2, 3, 4, 5, 6, 7, 8, 9],\n",
    "        \"y\": [0, 2, 1, 3, 4, 5, 6, 7, 8, 9],\n",
    "    }\n",
    "else:\n",
    "    check_parameters = {\n",
    "        \"x\": [0, 1, 2, 3, 4, 5, 6, 7, 8, 9, 10, 11, 12, 13, 14, 15, 16, 17, 18, 19],\n",
    "        \"y\": [0, 2, 1, 3, 4, 5, 6, 7, 8, 9, 10, 11, 12, 13, 14, 15, 16, 17, 18, 19],\n",
    "    }\n",
    "\n",
    "export_calibration_outputs(\n",
    "    {\n",
    "        \"a\": a,\n",
    "        \"b\": b,\n",
    "        \"check_parameters\": check_parameters,\n",
    "        \"platform_params\": [(\"bus_alias\", \"param_name\", 1)],\n",
    "    }\n",
    "    | data\n",
    ")"
   ]
  }
 ],
 "metadata": {
  "kernelspec": {
   "display_name": ".venv",
   "language": "python",
   "name": "python3"
  },
  "language_info": {
   "codemirror_mode": {
    "name": "ipython",
    "version": 3
   },
   "file_extension": ".py",
   "mimetype": "text/x-python",
   "name": "python",
   "nbconvert_exporter": "python",
   "pygments_lexer": "ipython3",
   "version": "3.11.3"
  },
  "orig_nbformat": 4
 },
 "nbformat": 4,
 "nbformat_minor": 2
}
