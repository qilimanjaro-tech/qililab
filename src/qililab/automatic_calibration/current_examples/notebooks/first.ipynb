{
 "cells": [
  {
   "cell_type": "markdown",
   "metadata": {},
   "source": [
    "### Parameters to be overwritten by the automatic_calibration workflow"
   ]
  },
  {
   "cell_type": "code",
   "execution_count": null,
   "metadata": {
    "tags": [
     "parameters"
    ]
   },
   "outputs": [],
   "source": [
    "# In case an argument is not passed in the workflow, their value in this notebook will be taken as default."
   ]
  },
  {
   "cell_type": "markdown",
   "metadata": {},
   "source": [
    "# START OF NOTEBOOK\n",
    "---"
   ]
  },
  {
   "cell_type": "code",
   "execution_count": null,
   "metadata": {},
   "outputs": [],
   "source": [
    "# Initialize our data:\n",
    "data = {\n",
    "    \"guille\": 11,\n",
    "    \"nick\": 15,\n",
    "    \"juli\": 14,\n",
    "}"
   ]
  },
  {
   "cell_type": "code",
   "execution_count": null,
   "metadata": {},
   "outputs": [],
   "source": [
    "from random import randint\n",
    "\n",
    "a = randint(0, 10)\n",
    "b = randint(0, 10)"
   ]
  },
  {
   "cell_type": "code",
   "execution_count": null,
   "metadata": {},
   "outputs": [],
   "source": [
    "import matplotlib.pyplot as plt\n",
    "import numpy as np\n",
    "\n",
    "time = np.arange(0, 10, 0.1)\n",
    "amplitude = np.sin(time)\n",
    "fitted_value_param0 = 0\n",
    "\n",
    "plt.plot(time, amplitude)"
   ]
  },
  {
   "cell_type": "code",
   "execution_count": null,
   "metadata": {},
   "outputs": [],
   "source": [
    "bus_alias, param_name, param_value = None, None, None"
   ]
  },
  {
   "cell_type": "markdown",
   "metadata": {},
   "source": [
    "# NOTEBOOK OUTPUTS (dictionary):\n",
    "---\n",
    "Add to the `outputs` variable the parameters that might be passed to the next notebooks:"
   ]
  },
  {
   "cell_type": "code",
   "execution_count": 25,
   "metadata": {},
   "outputs": [
    {
     "ename": "TypeError",
     "evalue": "Object of type set is not JSON serializable",
     "output_type": "error",
     "traceback": [
      "\u001b[0;31m---------------------------------------------------------------------------\u001b[0m",
      "\u001b[0;31mTypeError\u001b[0m                                 Traceback (most recent call last)",
      "\u001b[1;32m/Users/guillermoabadlopez/Documents/GitHub/qililab/src/qililab/automatic_calibration/draft_notebook_workflow/notebooks/first.ipynb Cell 8\u001b[0m line \u001b[0;36m3\n\u001b[1;32m      <a href='vscode-notebook-cell:/Users/guillermoabadlopez/Documents/GitHub/qililab/src/qililab/automatic_calibration/draft_notebook_workflow/notebooks/first.ipynb#X10sZmlsZQ%3D%3D?line=0'>1</a>\u001b[0m \u001b[39mfrom\u001b[39;00m \u001b[39mqililab\u001b[39;00m\u001b[39m.\u001b[39;00m\u001b[39mautomatic_calibration\u001b[39;00m\u001b[39m.\u001b[39;00m\u001b[39mcalibration_utils\u001b[39;00m \u001b[39mimport\u001b[39;00m export_calibration_outputs\n\u001b[0;32m----> <a href='vscode-notebook-cell:/Users/guillermoabadlopez/Documents/GitHub/qililab/src/qililab/automatic_calibration/draft_notebook_workflow/notebooks/first.ipynb#X10sZmlsZQ%3D%3D?line=2'>3</a>\u001b[0m export_calibration_outputs(\n\u001b[1;32m      <a href='vscode-notebook-cell:/Users/guillermoabadlopez/Documents/GitHub/qililab/src/qililab/automatic_calibration/draft_notebook_workflow/notebooks/first.ipynb#X10sZmlsZQ%3D%3D?line=3'>4</a>\u001b[0m     {\n\u001b[1;32m      <a href='vscode-notebook-cell:/Users/guillermoabadlopez/Documents/GitHub/qililab/src/qililab/automatic_calibration/draft_notebook_workflow/notebooks/first.ipynb#X10sZmlsZQ%3D%3D?line=4'>5</a>\u001b[0m         \u001b[39m\"\u001b[39;49m\u001b[39ma\u001b[39;49m\u001b[39m\"\u001b[39;49m: a,\n\u001b[1;32m      <a href='vscode-notebook-cell:/Users/guillermoabadlopez/Documents/GitHub/qililab/src/qililab/automatic_calibration/draft_notebook_workflow/notebooks/first.ipynb#X10sZmlsZQ%3D%3D?line=5'>6</a>\u001b[0m         \u001b[39m\"\u001b[39;49m\u001b[39mb\u001b[39;49m\u001b[39m\"\u001b[39;49m: b,\n\u001b[1;32m      <a href='vscode-notebook-cell:/Users/guillermoabadlopez/Documents/GitHub/qililab/src/qililab/automatic_calibration/draft_notebook_workflow/notebooks/first.ipynb#X10sZmlsZQ%3D%3D?line=6'>7</a>\u001b[0m         \u001b[39m\"\u001b[39;49m\u001b[39mcheck_parameters\u001b[39;49m\u001b[39m\"\u001b[39;49m: {\n\u001b[1;32m      <a href='vscode-notebook-cell:/Users/guillermoabadlopez/Documents/GitHub/qililab/src/qililab/automatic_calibration/draft_notebook_workflow/notebooks/first.ipynb#X10sZmlsZQ%3D%3D?line=7'>8</a>\u001b[0m             \u001b[39m1\u001b[39;49m,\n\u001b[1;32m      <a href='vscode-notebook-cell:/Users/guillermoabadlopez/Documents/GitHub/qililab/src/qililab/automatic_calibration/draft_notebook_workflow/notebooks/first.ipynb#X10sZmlsZQ%3D%3D?line=8'>9</a>\u001b[0m             \u001b[39m2\u001b[39;49m\n\u001b[1;32m     <a href='vscode-notebook-cell:/Users/guillermoabadlopez/Documents/GitHub/qililab/src/qililab/automatic_calibration/draft_notebook_workflow/notebooks/first.ipynb#X10sZmlsZQ%3D%3D?line=9'>10</a>\u001b[0m         },\n\u001b[1;32m     <a href='vscode-notebook-cell:/Users/guillermoabadlopez/Documents/GitHub/qililab/src/qililab/automatic_calibration/draft_notebook_workflow/notebooks/first.ipynb#X10sZmlsZQ%3D%3D?line=10'>11</a>\u001b[0m         \u001b[39m\"\u001b[39;49m\u001b[39mplatform_params\u001b[39;49m\u001b[39m\"\u001b[39;49m: [\n\u001b[1;32m     <a href='vscode-notebook-cell:/Users/guillermoabadlopez/Documents/GitHub/qililab/src/qililab/automatic_calibration/draft_notebook_workflow/notebooks/first.ipynb#X10sZmlsZQ%3D%3D?line=11'>12</a>\u001b[0m             [\u001b[39m\"\u001b[39;49m\u001b[39mbus_alias0\u001b[39;49m\u001b[39m\"\u001b[39;49m, \u001b[39m\"\u001b[39;49m\u001b[39mparam_name0\u001b[39;49m\u001b[39m\"\u001b[39;49m, \u001b[39m1\u001b[39;49m]\n\u001b[1;32m     <a href='vscode-notebook-cell:/Users/guillermoabadlopez/Documents/GitHub/qililab/src/qililab/automatic_calibration/draft_notebook_workflow/notebooks/first.ipynb#X10sZmlsZQ%3D%3D?line=12'>13</a>\u001b[0m         ],\n\u001b[1;32m     <a href='vscode-notebook-cell:/Users/guillermoabadlopez/Documents/GitHub/qililab/src/qililab/automatic_calibration/draft_notebook_workflow/notebooks/first.ipynb#X10sZmlsZQ%3D%3D?line=13'>14</a>\u001b[0m     } \u001b[39m|\u001b[39;49m data\n\u001b[1;32m     <a href='vscode-notebook-cell:/Users/guillermoabadlopez/Documents/GitHub/qililab/src/qililab/automatic_calibration/draft_notebook_workflow/notebooks/first.ipynb#X10sZmlsZQ%3D%3D?line=14'>15</a>\u001b[0m )  \n",
      "File \u001b[0;32m~/Documents/GitHub/qililab/src/qililab/automatic_calibration/calibration_utils/calibration_utils.py:226\u001b[0m, in \u001b[0;36mexport_calibration_outputs\u001b[0;34m(outputs)\u001b[0m\n\u001b[1;32m    225\u001b[0m \u001b[39mdef\u001b[39;00m \u001b[39mexport_calibration_outputs\u001b[39m(outputs: \u001b[39mdict\u001b[39m):\n\u001b[0;32m--> 226\u001b[0m     \u001b[39mprint\u001b[39m(\u001b[39mf\u001b[39m\u001b[39m\"\u001b[39m\u001b[39mOUTPUTS: \u001b[39m\u001b[39m{\u001b[39;00mjson\u001b[39m.\u001b[39;49mdumps(outputs)\u001b[39m}\u001b[39;00m\u001b[39m\"\u001b[39m)\n",
      "File \u001b[0;32m/opt/homebrew/Cellar/python@3.11/3.11.3/Frameworks/Python.framework/Versions/3.11/lib/python3.11/json/__init__.py:231\u001b[0m, in \u001b[0;36mdumps\u001b[0;34m(obj, skipkeys, ensure_ascii, check_circular, allow_nan, cls, indent, separators, default, sort_keys, **kw)\u001b[0m\n\u001b[1;32m    226\u001b[0m \u001b[39m# cached encoder\u001b[39;00m\n\u001b[1;32m    227\u001b[0m \u001b[39mif\u001b[39;00m (\u001b[39mnot\u001b[39;00m skipkeys \u001b[39mand\u001b[39;00m ensure_ascii \u001b[39mand\u001b[39;00m\n\u001b[1;32m    228\u001b[0m     check_circular \u001b[39mand\u001b[39;00m allow_nan \u001b[39mand\u001b[39;00m\n\u001b[1;32m    229\u001b[0m     \u001b[39mcls\u001b[39m \u001b[39mis\u001b[39;00m \u001b[39mNone\u001b[39;00m \u001b[39mand\u001b[39;00m indent \u001b[39mis\u001b[39;00m \u001b[39mNone\u001b[39;00m \u001b[39mand\u001b[39;00m separators \u001b[39mis\u001b[39;00m \u001b[39mNone\u001b[39;00m \u001b[39mand\u001b[39;00m\n\u001b[1;32m    230\u001b[0m     default \u001b[39mis\u001b[39;00m \u001b[39mNone\u001b[39;00m \u001b[39mand\u001b[39;00m \u001b[39mnot\u001b[39;00m sort_keys \u001b[39mand\u001b[39;00m \u001b[39mnot\u001b[39;00m kw):\n\u001b[0;32m--> 231\u001b[0m     \u001b[39mreturn\u001b[39;00m _default_encoder\u001b[39m.\u001b[39;49mencode(obj)\n\u001b[1;32m    232\u001b[0m \u001b[39mif\u001b[39;00m \u001b[39mcls\u001b[39m \u001b[39mis\u001b[39;00m \u001b[39mNone\u001b[39;00m:\n\u001b[1;32m    233\u001b[0m     \u001b[39mcls\u001b[39m \u001b[39m=\u001b[39m JSONEncoder\n",
      "File \u001b[0;32m/opt/homebrew/Cellar/python@3.11/3.11.3/Frameworks/Python.framework/Versions/3.11/lib/python3.11/json/encoder.py:200\u001b[0m, in \u001b[0;36mJSONEncoder.encode\u001b[0;34m(self, o)\u001b[0m\n\u001b[1;32m    196\u001b[0m         \u001b[39mreturn\u001b[39;00m encode_basestring(o)\n\u001b[1;32m    197\u001b[0m \u001b[39m# This doesn't pass the iterator directly to ''.join() because the\u001b[39;00m\n\u001b[1;32m    198\u001b[0m \u001b[39m# exceptions aren't as detailed.  The list call should be roughly\u001b[39;00m\n\u001b[1;32m    199\u001b[0m \u001b[39m# equivalent to the PySequence_Fast that ''.join() would do.\u001b[39;00m\n\u001b[0;32m--> 200\u001b[0m chunks \u001b[39m=\u001b[39m \u001b[39mself\u001b[39;49m\u001b[39m.\u001b[39;49miterencode(o, _one_shot\u001b[39m=\u001b[39;49m\u001b[39mTrue\u001b[39;49;00m)\n\u001b[1;32m    201\u001b[0m \u001b[39mif\u001b[39;00m \u001b[39mnot\u001b[39;00m \u001b[39misinstance\u001b[39m(chunks, (\u001b[39mlist\u001b[39m, \u001b[39mtuple\u001b[39m)):\n\u001b[1;32m    202\u001b[0m     chunks \u001b[39m=\u001b[39m \u001b[39mlist\u001b[39m(chunks)\n",
      "File \u001b[0;32m/opt/homebrew/Cellar/python@3.11/3.11.3/Frameworks/Python.framework/Versions/3.11/lib/python3.11/json/encoder.py:258\u001b[0m, in \u001b[0;36mJSONEncoder.iterencode\u001b[0;34m(self, o, _one_shot)\u001b[0m\n\u001b[1;32m    253\u001b[0m \u001b[39melse\u001b[39;00m:\n\u001b[1;32m    254\u001b[0m     _iterencode \u001b[39m=\u001b[39m _make_iterencode(\n\u001b[1;32m    255\u001b[0m         markers, \u001b[39mself\u001b[39m\u001b[39m.\u001b[39mdefault, _encoder, \u001b[39mself\u001b[39m\u001b[39m.\u001b[39mindent, floatstr,\n\u001b[1;32m    256\u001b[0m         \u001b[39mself\u001b[39m\u001b[39m.\u001b[39mkey_separator, \u001b[39mself\u001b[39m\u001b[39m.\u001b[39mitem_separator, \u001b[39mself\u001b[39m\u001b[39m.\u001b[39msort_keys,\n\u001b[1;32m    257\u001b[0m         \u001b[39mself\u001b[39m\u001b[39m.\u001b[39mskipkeys, _one_shot)\n\u001b[0;32m--> 258\u001b[0m \u001b[39mreturn\u001b[39;00m _iterencode(o, \u001b[39m0\u001b[39;49m)\n",
      "File \u001b[0;32m/opt/homebrew/Cellar/python@3.11/3.11.3/Frameworks/Python.framework/Versions/3.11/lib/python3.11/json/encoder.py:180\u001b[0m, in \u001b[0;36mJSONEncoder.default\u001b[0;34m(self, o)\u001b[0m\n\u001b[1;32m    161\u001b[0m \u001b[39mdef\u001b[39;00m \u001b[39mdefault\u001b[39m(\u001b[39mself\u001b[39m, o):\n\u001b[1;32m    162\u001b[0m \u001b[39m    \u001b[39m\u001b[39m\"\"\"Implement this method in a subclass such that it returns\u001b[39;00m\n\u001b[1;32m    163\u001b[0m \u001b[39m    a serializable object for ``o``, or calls the base implementation\u001b[39;00m\n\u001b[1;32m    164\u001b[0m \u001b[39m    (to raise a ``TypeError``).\u001b[39;00m\n\u001b[0;32m   (...)\u001b[0m\n\u001b[1;32m    178\u001b[0m \n\u001b[1;32m    179\u001b[0m \u001b[39m    \"\"\"\u001b[39;00m\n\u001b[0;32m--> 180\u001b[0m     \u001b[39mraise\u001b[39;00m \u001b[39mTypeError\u001b[39;00m(\u001b[39mf\u001b[39m\u001b[39m'\u001b[39m\u001b[39mObject of type \u001b[39m\u001b[39m{\u001b[39;00mo\u001b[39m.\u001b[39m\u001b[39m__class__\u001b[39m\u001b[39m.\u001b[39m\u001b[39m__name__\u001b[39m\u001b[39m}\u001b[39;00m\u001b[39m \u001b[39m\u001b[39m'\u001b[39m\n\u001b[1;32m    181\u001b[0m                     \u001b[39mf\u001b[39m\u001b[39m'\u001b[39m\u001b[39mis not JSON serializable\u001b[39m\u001b[39m'\u001b[39m)\n",
      "\u001b[0;31mTypeError\u001b[0m: Object of type set is not JSON serializable"
     ]
    }
   ],
   "source": [
    "from qililab.automatic_calibration.calibration_node import export_calibration_outputs\n",
    "\n",
    "export_calibration_outputs(\n",
    "    {\n",
    "        \"a\": a,\n",
    "        \"b\": b,\n",
    "        \"check_parameters\": {\n",
    "            \"x\": [0, 1, 2, 3, 4, 5, 6, 7, 8, 9, 10, 11, 12, 13, 14, 15, 16, 17, 18, 19],\n",
    "            \"y\": [0, 2, 1, 3, 4, 5, 6, 7, 8, 9, 10, 11, 12, 13, 14, 15, 16, 17, 18, 19],\n",
    "        },\n",
    "        \"platform_params\": [(\"bus_alias\", \"param_name\", 1)],\n",
    "    }\n",
    "    | data\n",
    ")"
   ]
  },
  {
   "cell_type": "markdown",
   "metadata": {},
   "source": [
    "\n",
    "(The notebook ends here)"
   ]
  }
 ],
 "metadata": {
  "kernelspec": {
   "display_name": ".venv",
   "language": "python",
   "name": "python3"
  },
  "language_info": {
   "codemirror_mode": {
    "name": "ipython",
    "version": 3
   },
   "file_extension": ".py",
   "mimetype": "text/x-python",
   "name": "python",
   "nbconvert_exporter": "python",
   "pygments_lexer": "ipython3",
   "version": "3.11.3"
  },
  "orig_nbformat": 4
 },
 "nbformat": 4,
 "nbformat_minor": 2
}
