{
 "cells": [
  {
   "cell_type": "markdown",
   "id": "6249bf40",
   "metadata": {
    "papermill": {
     "duration": 0.001704,
     "end_time": "2023-09-21T17:52:32.951167",
     "exception": false,
     "start_time": "2023-09-21T17:52:32.949463",
     "status": "completed"
    },
    "tags": []
   },
   "source": [
    "### Parameters to be overwritten by the automatic_calibration workflow"
   ]
  },
  {
   "cell_type": "code",
   "execution_count": 1,
   "id": "c548cfda",
   "metadata": {
    "execution": {
     "iopub.execute_input": "2023-09-21T17:52:32.954471Z",
     "iopub.status.busy": "2023-09-21T17:52:32.954306Z",
     "iopub.status.idle": "2023-09-21T17:52:32.958888Z",
     "shell.execute_reply": "2023-09-21T17:52:32.958569Z"
    },
    "papermill": {
     "duration": 0.007445,
     "end_time": "2023-09-21T17:52:32.959910",
     "exception": false,
     "start_time": "2023-09-21T17:52:32.952465",
     "status": "completed"
    },
    "tags": [
     "parameters"
    ]
   },
   "outputs": [],
   "source": [
    "# In case an argument is not passed in the workflow, their value in this notebook will be taken as default.\n",
    "guille = 0\n",
    "nick = 0\n",
    "juli = 0\n",
    "a = 0\n",
    "b: int"
   ]
  },
  {
   "cell_type": "code",
   "execution_count": 2,
   "id": "8bc87ece",
   "metadata": {
    "execution": {
     "iopub.execute_input": "2023-09-21T17:52:32.963147Z",
     "iopub.status.busy": "2023-09-21T17:52:32.962796Z",
     "iopub.status.idle": "2023-09-21T17:52:32.965493Z",
     "shell.execute_reply": "2023-09-21T17:52:32.965098Z"
    },
    "papermill": {
     "duration": 0.005234,
     "end_time": "2023-09-21T17:52:32.966372",
     "exception": false,
     "start_time": "2023-09-21T17:52:32.961138",
     "status": "completed"
    },
    "tags": [
     "injected-parameters"
    ]
   },
   "outputs": [],
   "source": [
    "# Parameters\n",
    "a = 9\n",
    "b = 7\n",
    "guille = 11\n",
    "nick = 15\n",
    "juli = 14"
   ]
  },
  {
   "cell_type": "markdown",
   "id": "ae4c30eb",
   "metadata": {
    "papermill": {
     "duration": 0.001232,
     "end_time": "2023-09-21T17:52:32.968932",
     "exception": false,
     "start_time": "2023-09-21T17:52:32.967700",
     "status": "completed"
    },
    "tags": []
   },
   "source": [
    "# START OF NOTEBOOK\n",
    "---"
   ]
  },
  {
   "cell_type": "code",
   "execution_count": 3,
   "id": "8b5213b3",
   "metadata": {
    "execution": {
     "iopub.execute_input": "2023-09-21T17:52:32.971758Z",
     "iopub.status.busy": "2023-09-21T17:52:32.971633Z",
     "iopub.status.idle": "2023-09-21T17:52:32.973834Z",
     "shell.execute_reply": "2023-09-21T17:52:32.973296Z"
    },
    "papermill": {
     "duration": 0.005149,
     "end_time": "2023-09-21T17:52:32.975190",
     "exception": false,
     "start_time": "2023-09-21T17:52:32.970041",
     "status": "completed"
    },
    "tags": []
   },
   "outputs": [],
   "source": [
    "# Initialize our data:\n",
    "data = {\n",
    "    \"guille\": guille + 1,\n",
    "    \"nick\": nick + 1,\n",
    "    \"juli\": juli + 1,\n",
    "}"
   ]
  },
  {
   "cell_type": "code",
   "execution_count": 4,
   "id": "2cc167b5",
   "metadata": {
    "execution": {
     "iopub.execute_input": "2023-09-21T17:52:32.977917Z",
     "iopub.status.busy": "2023-09-21T17:52:32.977794Z",
     "iopub.status.idle": "2023-09-21T17:52:32.979487Z",
     "shell.execute_reply": "2023-09-21T17:52:32.979257Z"
    },
    "papermill": {
     "duration": 0.003959,
     "end_time": "2023-09-21T17:52:32.980307",
     "exception": false,
     "start_time": "2023-09-21T17:52:32.976348",
     "status": "completed"
    },
    "tags": []
   },
   "outputs": [],
   "source": [
    "from random import randint\n",
    "\n",
    "a += randint(0, 10)\n",
    "b += randint(0, 10)"
   ]
  },
  {
   "cell_type": "code",
   "execution_count": 5,
   "id": "962c0cf5",
   "metadata": {
    "execution": {
     "iopub.execute_input": "2023-09-21T17:52:32.983069Z",
     "iopub.status.busy": "2023-09-21T17:52:32.982978Z",
     "iopub.status.idle": "2023-09-21T17:52:32.984517Z",
     "shell.execute_reply": "2023-09-21T17:52:32.984265Z"
    },
    "papermill": {
     "duration": 0.003878,
     "end_time": "2023-09-21T17:52:32.985370",
     "exception": false,
     "start_time": "2023-09-21T17:52:32.981492",
     "status": "completed"
    },
    "tags": []
   },
   "outputs": [],
   "source": [
    "#\n",
    "#\n",
    "#"
   ]
  },
  {
   "cell_type": "markdown",
   "id": "2bd6ffab",
   "metadata": {
    "papermill": {
     "duration": 0.001169,
     "end_time": "2023-09-21T17:52:32.987655",
     "exception": false,
     "start_time": "2023-09-21T17:52:32.986486",
     "status": "completed"
    },
    "tags": []
   },
   "source": [
    "# NOTEBOOK OUTPUTS (dictionary):\n",
    "---\n",
    "Add to the `outputs` variable the parameters that might be passed to the next notebooks:"
   ]
  },
  {
   "cell_type": "code",
   "execution_count": 6,
   "id": "7d32696a",
   "metadata": {
    "execution": {
     "iopub.execute_input": "2023-09-21T17:52:32.990553Z",
     "iopub.status.busy": "2023-09-21T17:52:32.990454Z",
     "iopub.status.idle": "2023-09-21T17:52:32.991963Z",
     "shell.execute_reply": "2023-09-21T17:52:32.991696Z"
    },
    "papermill": {
     "duration": 0.003774,
     "end_time": "2023-09-21T17:52:32.992760",
     "exception": false,
     "start_time": "2023-09-21T17:52:32.988986",
     "status": "completed"
    },
    "tags": []
   },
   "outputs": [],
   "source": [
    "outputs = {\n",
    "    \"a\": a,\n",
    "    \"b\": b,\n",
    "} | data"
   ]
  },
  {
   "cell_type": "markdown",
   "id": "a567faf9",
   "metadata": {
    "papermill": {
     "duration": 0.001085,
     "end_time": "2023-09-21T17:52:32.995073",
     "exception": false,
     "start_time": "2023-09-21T17:52:32.993988",
     "status": "completed"
    },
    "tags": []
   },
   "source": [
    "\n",
    "(The notebook ends here)"
   ]
  },
  {
   "cell_type": "markdown",
   "id": "6fb423ce",
   "metadata": {
    "papermill": {
     "duration": 0.001141,
     "end_time": "2023-09-21T17:52:32.997295",
     "exception": false,
     "start_time": "2023-09-21T17:52:32.996154",
     "status": "completed"
    },
    "tags": []
   },
   "source": [
    "\\\n",
    "\\\n",
    "\\\n",
    "\\\n",
    "\\\n",
    "\\\n",
    "\\\n",
    "\\\n",
    "\\\n",
    "\\\n",
    "\\\n",
    "\\\n",
    "\\\n",
    "\\\n",
    "\\\n",
    "\\\n",
    "\\\n",
    "\\\n",
    "\\\n",
    "\\\n",
    "\\\n",
    "\\\n",
    "\\\n",
    "\\\n",
    "\\\n",
    "\\\n",
    "\\\n",
    "\\\n",
    "\\\n",
    "\\\n",
    "\\\n",
    "\\\n",
    "\\\n",
    "\\\n",
    "\\\n",
    "\\\n",
    "\\\n",
    "(Out of the notebook scope)"
   ]
  },
  {
   "cell_type": "markdown",
   "id": "6af398c0",
   "metadata": {
    "papermill": {
     "duration": 0.001272,
     "end_time": "2023-09-21T17:52:32.999678",
     "exception": false,
     "start_time": "2023-09-21T17:52:32.998406",
     "status": "completed"
    },
    "tags": []
   },
   "source": [
    "\n",
    "### !!! This should be the last cell of the notebook !!!"
   ]
  },
  {
   "cell_type": "code",
   "execution_count": 7,
   "id": "e45739c9",
   "metadata": {
    "execution": {
     "iopub.execute_input": "2023-09-21T17:52:33.002368Z",
     "iopub.status.busy": "2023-09-21T17:52:33.002257Z",
     "iopub.status.idle": "2023-09-21T17:52:33.004311Z",
     "shell.execute_reply": "2023-09-21T17:52:33.004039Z"
    },
    "papermill": {
     "duration": 0.004356,
     "end_time": "2023-09-21T17:52:33.005134",
     "exception": false,
     "start_time": "2023-09-21T17:52:33.000778",
     "status": "completed"
    },
    "tags": []
   },
   "outputs": [
    {
     "name": "stdout",
     "output_type": "stream",
     "text": [
      "OUTPUTS: {\"a\": 13, \"b\": 13, \"guille\": 12, \"nick\": 16, \"juli\": 15}\n"
     ]
    }
   ],
   "source": [
    "import json\n",
    "\n",
    "print(f\"OUTPUTS: {json.dumps(outputs)}\")"
   ]
  }
 ],
 "metadata": {
  "kernelspec": {
   "display_name": ".venv",
   "language": "python",
   "name": "python3"
  },
  "language_info": {
   "codemirror_mode": {
    "name": "ipython",
    "version": 3
   },
   "file_extension": ".py",
   "mimetype": "text/x-python",
   "name": "python",
   "nbconvert_exporter": "python",
   "pygments_lexer": "ipython3",
   "version": "3.11.3"
  },
  "papermill": {
   "default_parameters": {},
   "duration": 0.924282,
   "end_time": "2023-09-21T17:52:33.121296",
   "environment_variables": {},
   "exception": null,
   "input_path": "second.ipynb",
   "output_path": "results/second/second_2023_09_21-19:52:32.ipynb",
   "parameters": {
    "a": 9,
    "b": 7,
    "guille": 11,
    "juli": 14,
    "nick": 15
   },
   "start_time": "2023-09-21T17:52:32.197014",
   "version": "2.4.0"
  }
 },
 "nbformat": 4,
 "nbformat_minor": 5
}
