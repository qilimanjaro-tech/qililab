{
 "cells": [
  {
   "cell_type": "code",
   "execution_count": 1,
   "id": "59df7c8e",
   "metadata": {
    "execution": {
     "iopub.execute_input": "2023-09-21T17:52:33.831464Z",
     "iopub.status.busy": "2023-09-21T17:52:33.831319Z",
     "iopub.status.idle": "2023-09-21T17:52:33.835832Z",
     "shell.execute_reply": "2023-09-21T17:52:33.835375Z"
    },
    "papermill": {
     "duration": 0.008099,
     "end_time": "2023-09-21T17:52:33.837319",
     "exception": false,
     "start_time": "2023-09-21T17:52:33.829220",
     "status": "completed"
    },
    "tags": [
     "injected-parameters"
    ]
   },
   "outputs": [],
   "source": [
    "# Parameters\n",
    "a = 13\n",
    "b = 13\n",
    "guille = 12\n",
    "nick = 16\n",
    "juli = 15"
   ]
  },
  {
   "cell_type": "markdown",
   "id": "3f272c07",
   "metadata": {
    "papermill": {
     "duration": 0.001059,
     "end_time": "2023-09-21T17:52:33.839530",
     "exception": false,
     "start_time": "2023-09-21T17:52:33.838471",
     "status": "completed"
    },
    "tags": []
   },
   "source": [
    "# START OF NOTEBOOK\n",
    "---"
   ]
  },
  {
   "cell_type": "code",
   "execution_count": 2,
   "id": "dac89e3b",
   "metadata": {
    "execution": {
     "iopub.execute_input": "2023-09-21T17:52:33.842295Z",
     "iopub.status.busy": "2023-09-21T17:52:33.842114Z",
     "iopub.status.idle": "2023-09-21T17:52:33.845336Z",
     "shell.execute_reply": "2023-09-21T17:52:33.844998Z"
    },
    "papermill": {
     "duration": 0.005895,
     "end_time": "2023-09-21T17:52:33.846326",
     "exception": false,
     "start_time": "2023-09-21T17:52:33.840431",
     "status": "completed"
    },
    "tags": []
   },
   "outputs": [],
   "source": [
    "# Initialize our data:\n",
    "data = {\n",
    "    \"guille\": guille + 1,\n",
    "    \"nick\": nick + 1,\n",
    "    \"juli\": juli + 1,\n",
    "}"
   ]
  },
  {
   "cell_type": "code",
   "execution_count": 3,
   "id": "56d5e1ba",
   "metadata": {
    "execution": {
     "iopub.execute_input": "2023-09-21T17:52:33.848991Z",
     "iopub.status.busy": "2023-09-21T17:52:33.848771Z",
     "iopub.status.idle": "2023-09-21T17:52:33.850660Z",
     "shell.execute_reply": "2023-09-21T17:52:33.850364Z"
    },
    "papermill": {
     "duration": 0.005021,
     "end_time": "2023-09-21T17:52:33.852435",
     "exception": false,
     "start_time": "2023-09-21T17:52:33.847414",
     "status": "completed"
    },
    "tags": []
   },
   "outputs": [],
   "source": [
    "from random import randint\n",
    "\n",
    "a += randint(0, 10)\n",
    "b += randint(0, 10)"
   ]
  },
  {
   "cell_type": "code",
   "execution_count": 4,
   "id": "25cfb40f",
   "metadata": {
    "execution": {
     "iopub.execute_input": "2023-09-21T17:52:33.859299Z",
     "iopub.status.busy": "2023-09-21T17:52:33.858281Z",
     "iopub.status.idle": "2023-09-21T17:52:33.863044Z",
     "shell.execute_reply": "2023-09-21T17:52:33.862783Z"
    },
    "papermill": {
     "duration": 0.011141,
     "end_time": "2023-09-21T17:52:33.864766",
     "exception": false,
     "start_time": "2023-09-21T17:52:33.853625",
     "status": "completed"
    },
    "tags": []
   },
   "outputs": [],
   "source": [
    "#\n",
    "#\n",
    "#"
   ]
  },
  {
   "cell_type": "markdown",
   "id": "a8542a86",
   "metadata": {
    "papermill": {
     "duration": 0.002226,
     "end_time": "2023-09-21T17:52:33.872483",
     "exception": false,
     "start_time": "2023-09-21T17:52:33.870257",
     "status": "completed"
    },
    "tags": []
   },
   "source": [
    "\n",
    "(The notebook ends here)"
   ]
  },
  {
   "cell_type": "markdown",
   "id": "4efc62df",
   "metadata": {
    "papermill": {
     "duration": 0.003741,
     "end_time": "2023-09-21T17:52:33.877540",
     "exception": false,
     "start_time": "2023-09-21T17:52:33.873799",
     "status": "completed"
    },
    "tags": []
   },
   "source": [
    "\\\n",
    "\\\n",
    "\\\n",
    "\\\n",
    "\\\n",
    "\\\n",
    "\\\n",
    "\\\n",
    "\\\n",
    "\\\n",
    "\\\n",
    "\\\n",
    "\\\n",
    "\\\n",
    "\\\n",
    "\\\n",
    "\\\n",
    "\\\n",
    "\\\n",
    "\\\n",
    "\\\n",
    "\\\n",
    "\\\n",
    "\\\n",
    "\\\n",
    "\\\n",
    "\\\n",
    "\\\n",
    "\\\n",
    "\\\n",
    "\\\n",
    "\\\n",
    "\\\n",
    "\\\n",
    "\\\n",
    "\\\n",
    "\\\n",
    "`"
   ]
  },
  {
   "cell_type": "markdown",
   "id": "a2ac616f",
   "metadata": {
    "papermill": {
     "duration": 0.001649,
     "end_time": "2023-09-21T17:52:33.880268",
     "exception": false,
     "start_time": "2023-09-21T17:52:33.878619",
     "status": "completed"
    },
    "tags": []
   },
   "source": [
    "# NOTEBOOK OUTPUTS:\n",
    "---\n",
    "Add to the `outputs` variable (dict), the parameters to pass to posterior notebooks:"
   ]
  },
  {
   "cell_type": "code",
   "execution_count": 5,
   "id": "17180dca",
   "metadata": {
    "execution": {
     "iopub.execute_input": "2023-09-21T17:52:33.886542Z",
     "iopub.status.busy": "2023-09-21T17:52:33.886243Z",
     "iopub.status.idle": "2023-09-21T17:52:33.914978Z",
     "shell.execute_reply": "2023-09-21T17:52:33.910362Z"
    },
    "papermill": {
     "duration": 0.036322,
     "end_time": "2023-09-21T17:52:33.917494",
     "exception": false,
     "start_time": "2023-09-21T17:52:33.881172",
     "status": "completed"
    },
    "tags": []
   },
   "outputs": [
    {
     "name": "stdout",
     "output_type": "stream",
     "text": [
      "OUTPUTS: {\"a\": 16, \"b\": 13, \"guille\": 13, \"nick\": 17, \"juli\": 16}\n"
     ]
    }
   ],
   "source": [
    "# Edit the value of the following dictionary:\n",
    "outputs = {\n",
    "    \"a\": a,\n",
    "    \"b\": b,\n",
    "} | data\n",
    "\n",
    "# Do not modify this:\n",
    "import json\n",
    "\n",
    "print(f\"OUTPUTS: {json.dumps(outputs)}\")"
   ]
  },
  {
   "cell_type": "markdown",
   "id": "ee6b4403",
   "metadata": {
    "papermill": {
     "duration": 0.002635,
     "end_time": "2023-09-21T17:52:33.923077",
     "exception": false,
     "start_time": "2023-09-21T17:52:33.920442",
     "status": "completed"
    },
    "tags": []
   },
   "source": [
    "\n",
    "### !!! No more cells under here !!!"
   ]
  }
 ],
 "metadata": {
  "kernelspec": {
   "display_name": ".venv",
   "language": "python",
   "name": "python3"
  },
  "language_info": {
   "codemirror_mode": {
    "name": "ipython",
    "version": 3
   },
   "file_extension": ".py",
   "mimetype": "text/x-python",
   "name": "python",
   "nbconvert_exporter": "python",
   "pygments_lexer": "ipython3",
   "version": "3.11.3"
  },
  "papermill": {
   "default_parameters": {},
   "duration": 0.914803,
   "end_time": "2023-09-21T17:52:34.040400",
   "environment_variables": {},
   "exception": null,
   "input_path": "third.ipynb",
   "output_path": "results/third/3rd_2023_09_21-19:52:33.ipynb",
   "parameters": {
    "a": 13,
    "b": 13,
    "guille": 12,
    "juli": 15,
    "nick": 16
   },
   "start_time": "2023-09-21T17:52:33.125597",
   "version": "2.4.0"
  }
 },
 "nbformat": 4,
 "nbformat_minor": 5
}
