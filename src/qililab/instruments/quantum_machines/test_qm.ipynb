{
 "cells": [
  {
   "cell_type": "code",
   "execution_count": 1,
   "metadata": {},
   "outputs": [
    {
     "name": "stdout",
     "output_type": "stream",
     "text": [
      "2023-11-21 16:53:59,806 - qm - INFO     - Starting session: 9f8ed092-4280-4c37-ac92-24f15f0af90f\n"
     ]
    }
   ],
   "source": [
    "import numpy as np\n",
    "from tqdm.auto import tqdm\n",
    "import matplotlib.pyplot as plt\n",
    "import qililab as ql\n",
    "\n",
    "ql.logger.setLevel(40)"
   ]
  },
  {
   "cell_type": "code",
   "execution_count": 2,
   "metadata": {},
   "outputs": [],
   "source": [
    "QUBIT = 0\n",
    "M_BUFFER_TIME = 0\n",
    "AMP_VALUES = np.linspace(0, 0.4, num=61)\n",
    "HW_AVG = 1000\n",
    "REPETITION_DURATION = 200_000\n",
    "PLATFORM_PATH = \"runcards/sauron_test.yml\""
   ]
  },
  {
   "cell_type": "code",
   "execution_count": 3,
   "metadata": {},
   "outputs": [
    {
     "name": "stderr",
     "output_type": "stream",
     "text": [
      "Unclosed connection: Channel('192.168.1.67', 80, ..., path=None)\n"
     ]
    },
    {
     "name": "stdout",
     "output_type": "stream",
     "text": [
      "2023-11-21 16:54:04,037 - qm - INFO     - Performing health check\n",
      "2023-11-21 16:54:04,056 - qm - WARNING  - Health check warning: Potential hardware issue with QSync in controller con1, multiple controllers sync cannot be guaranteed, please inform QM\n",
      "2023-11-21 16:54:04,057 - qm - INFO     - Health check passed\n"
     ]
    },
    {
     "ename": "ConfigValidationException",
     "evalue": "{'elements': defaultdict(<class 'dict'>, {'drive_line_q0_rf_bus': {'value': {'digital_inputs': ['Unknown field.'], 'rf_outputs': ['Unknown field.'], 'rf_inputs': ['Unknown field.']}}})}",
     "output_type": "error",
     "traceback": [
      "\u001b[0;31m---------------------------------------------------------------------------\u001b[0m",
      "\u001b[0;31mValidationError\u001b[0m                           Traceback (most recent call last)",
      "File \u001b[0;32m~/github/v_envs/qililab_oscilloscope/lib/python3.10/site-packages/qm/quantum_machines_manager.py:264\u001b[0m, in \u001b[0;36mQuantumMachinesManager._load_config\u001b[0;34m(self, qua_config, disable_marshmallow_validation)\u001b[0m\n\u001b[1;32m    263\u001b[0m \u001b[39melse\u001b[39;00m:\n\u001b[0;32m--> 264\u001b[0m     loaded_config \u001b[39m=\u001b[39m load_config(qua_config)\n\u001b[1;32m    265\u001b[0m validate_config_capabilities(loaded_config, \u001b[39mself\u001b[39m\u001b[39m.\u001b[39m_caps)\n",
      "File \u001b[0;32m~/github/v_envs/qililab_oscilloscope/lib/python3.10/site-packages/qm/program/_qua_config_schema.py:153\u001b[0m, in \u001b[0;36mload_config\u001b[0;34m(config)\u001b[0m\n\u001b[1;32m    152\u001b[0m \u001b[39mdef\u001b[39;00m \u001b[39mload_config\u001b[39m(config: DictQuaConfig) \u001b[39m-\u001b[39m\u001b[39m>\u001b[39m QuaConfig:\n\u001b[0;32m--> 153\u001b[0m     \u001b[39mreturn\u001b[39;00m QuaConfigSchema()\u001b[39m.\u001b[39;49mload(config)\n",
      "File \u001b[0;32m~/github/v_envs/qililab_oscilloscope/lib/python3.10/site-packages/marshmallow/schema.py:722\u001b[0m, in \u001b[0;36mSchema.load\u001b[0;34m(self, data, many, partial, unknown)\u001b[0m\n\u001b[1;32m    702\u001b[0m \u001b[39m\u001b[39m\u001b[39m\"\"\"Deserialize a data structure to an object defined by this Schema's fields.\u001b[39;00m\n\u001b[1;32m    703\u001b[0m \n\u001b[1;32m    704\u001b[0m \u001b[39m:param data: The data to deserialize.\u001b[39;00m\n\u001b[0;32m   (...)\u001b[0m\n\u001b[1;32m    720\u001b[0m \u001b[39m    if invalid data are passed.\u001b[39;00m\n\u001b[1;32m    721\u001b[0m \u001b[39m\"\"\"\u001b[39;00m\n\u001b[0;32m--> 722\u001b[0m \u001b[39mreturn\u001b[39;00m \u001b[39mself\u001b[39;49m\u001b[39m.\u001b[39;49m_do_load(\n\u001b[1;32m    723\u001b[0m     data, many\u001b[39m=\u001b[39;49mmany, partial\u001b[39m=\u001b[39;49mpartial, unknown\u001b[39m=\u001b[39;49munknown, postprocess\u001b[39m=\u001b[39;49m\u001b[39mTrue\u001b[39;49;00m\n\u001b[1;32m    724\u001b[0m )\n",
      "File \u001b[0;32m~/github/v_envs/qililab_oscilloscope/lib/python3.10/site-packages/marshmallow/schema.py:909\u001b[0m, in \u001b[0;36mSchema._do_load\u001b[0;34m(self, data, many, partial, unknown, postprocess)\u001b[0m\n\u001b[1;32m    908\u001b[0m     \u001b[39mself\u001b[39m\u001b[39m.\u001b[39mhandle_error(exc, data, many\u001b[39m=\u001b[39mmany, partial\u001b[39m=\u001b[39mpartial)\n\u001b[0;32m--> 909\u001b[0m     \u001b[39mraise\u001b[39;00m exc\n\u001b[1;32m    911\u001b[0m \u001b[39mreturn\u001b[39;00m result\n",
      "\u001b[0;31mValidationError\u001b[0m: {'elements': defaultdict(<class 'dict'>, {'drive_line_q0_rf_bus': {'value': {'digital_inputs': ['Unknown field.'], 'rf_outputs': ['Unknown field.'], 'rf_inputs': ['Unknown field.']}}})}",
      "\nThe above exception was the direct cause of the following exception:\n",
      "\u001b[0;31mConfigValidationException\u001b[0m                 Traceback (most recent call last)",
      "Cell \u001b[0;32mIn[3], line 3\u001b[0m\n\u001b[1;32m      1\u001b[0m platform \u001b[39m=\u001b[39m ql\u001b[39m.\u001b[39mbuild_platform(runcard\u001b[39m=\u001b[39mPLATFORM_PATH)\n\u001b[1;32m      2\u001b[0m platform\u001b[39m.\u001b[39mconnect()\n\u001b[0;32m----> 3\u001b[0m platform\u001b[39m.\u001b[39;49minitial_setup()\n\u001b[1;32m      4\u001b[0m platform\u001b[39m.\u001b[39mturn_on_instruments()\n",
      "File \u001b[0;32m~/github/qililab/src/qililab/platform/platform.py:330\u001b[0m, in \u001b[0;36mPlatform.initial_setup\u001b[0;34m(self)\u001b[0m\n\u001b[1;32m    325\u001b[0m \u001b[39mdef\u001b[39;00m \u001b[39minitial_setup\u001b[39m(\u001b[39mself\u001b[39m):\n\u001b[1;32m    326\u001b[0m \u001b[39m    \u001b[39m\u001b[39m\"\"\"Sets the values of the :ref:`runcard <runcards>` to the connected instruments.\u001b[39;00m\n\u001b[1;32m    327\u001b[0m \n\u001b[1;32m    328\u001b[0m \u001b[39m    We recommend you to do this always after a connection, to ensure that no parameter differs from the current runcard settings.\u001b[39;00m\n\u001b[1;32m    329\u001b[0m \u001b[39m    \"\"\"\u001b[39;00m\n\u001b[0;32m--> 330\u001b[0m     \u001b[39mself\u001b[39;49m\u001b[39m.\u001b[39;49minstrument_controllers\u001b[39m.\u001b[39;49minitial_setup()\n\u001b[1;32m    331\u001b[0m     logger\u001b[39m.\u001b[39minfo(\u001b[39m\"\u001b[39m\u001b[39mInitial setup applied to the instruments\u001b[39m\u001b[39m\"\u001b[39m)\n",
      "File \u001b[0;32m~/github/qililab/src/qililab/instrument_controllers/instrument_controllers.py:42\u001b[0m, in \u001b[0;36mInstrumentControllers.initial_setup\u001b[0;34m(self)\u001b[0m\n\u001b[1;32m     40\u001b[0m \u001b[39m\u001b[39m\u001b[39m\"\"\"Set the initial setup of the instruments\"\"\"\u001b[39;00m\n\u001b[1;32m     41\u001b[0m \u001b[39mfor\u001b[39;00m instrument_controller \u001b[39min\u001b[39;00m \u001b[39mself\u001b[39m\u001b[39m.\u001b[39melements:\n\u001b[0;32m---> 42\u001b[0m     instrument_controller\u001b[39m.\u001b[39;49minitial_setup()\n",
      "File \u001b[0;32m~/github/qililab/src/qililab/instrument_controllers/instrument_controller.py:100\u001b[0m, in \u001b[0;36mInstrumentController.CheckConnected.__call__\u001b[0;34m(self, ref, *args, **kwargs)\u001b[0m\n\u001b[1;32m     92\u001b[0m \u001b[39m\u001b[39m\u001b[39m\"\"\"\u001b[39;00m\n\u001b[1;32m     93\u001b[0m \u001b[39mArgs:\u001b[39;00m\n\u001b[1;32m     94\u001b[0m \u001b[39m    method (Callable): Class method.\u001b[39;00m\n\u001b[0;32m   (...)\u001b[0m\n\u001b[1;32m     97\u001b[0m \u001b[39m    AttributeError: If connection has not been established with an instrument.\u001b[39;00m\n\u001b[1;32m     98\u001b[0m \u001b[39m\"\"\"\u001b[39;00m\n\u001b[1;32m     99\u001b[0m ref\u001b[39m.\u001b[39mconnection\u001b[39m.\u001b[39mcheck_instrument_is_connected()\n\u001b[0;32m--> 100\u001b[0m \u001b[39mreturn\u001b[39;00m \u001b[39mself\u001b[39;49m\u001b[39m.\u001b[39;49m_method(ref, \u001b[39m*\u001b[39;49margs, \u001b[39m*\u001b[39;49m\u001b[39m*\u001b[39;49mkwargs)\n",
      "File \u001b[0;32m~/github/qililab/src/qililab/instrument_controllers/instrument_controller.py:208\u001b[0m, in \u001b[0;36mInstrumentController.initial_setup\u001b[0;34m(self)\u001b[0m\n\u001b[1;32m    206\u001b[0m \u001b[39mfor\u001b[39;00m module \u001b[39min\u001b[39;00m \u001b[39mself\u001b[39m\u001b[39m.\u001b[39mmodules:\n\u001b[1;32m    207\u001b[0m     logger\u001b[39m.\u001b[39minfo(\u001b[39m\"\u001b[39m\u001b[39mInitial setup to instrument \u001b[39m\u001b[39m%s\u001b[39;00m\u001b[39m.\u001b[39m\u001b[39m\"\u001b[39m, module\u001b[39m.\u001b[39malias \u001b[39mor\u001b[39;00m module\u001b[39m.\u001b[39mname\u001b[39m.\u001b[39mvalue)\n\u001b[0;32m--> 208\u001b[0m     module\u001b[39m.\u001b[39;49minitial_setup()\n",
      "File \u001b[0;32m~/github/qililab/src/qililab/instruments/instrument.py:152\u001b[0m, in \u001b[0;36mInstrument.CheckDeviceInitialized.__call__\u001b[0;34m(self, ref, *args, **kwargs)\u001b[0m\n\u001b[1;32m    150\u001b[0m \u001b[39mif\u001b[39;00m \u001b[39mnot\u001b[39;00m \u001b[39mhasattr\u001b[39m(ref, \u001b[39m\"\u001b[39m\u001b[39mdevice\u001b[39m\u001b[39m\"\u001b[39m) \u001b[39mand\u001b[39;00m (\u001b[39mnot\u001b[39;00m args \u001b[39mor\u001b[39;00m \u001b[39mnot\u001b[39;00m \u001b[39mhasattr\u001b[39m(args[\u001b[39m0\u001b[39m], \u001b[39m\"\u001b[39m\u001b[39mdevice\u001b[39m\u001b[39m\"\u001b[39m)):\n\u001b[1;32m    151\u001b[0m     \u001b[39mraise\u001b[39;00m \u001b[39mAttributeError\u001b[39;00m(\u001b[39m\"\u001b[39m\u001b[39mInstrument Device has not been initialized\u001b[39m\u001b[39m\"\u001b[39m)\n\u001b[0;32m--> 152\u001b[0m \u001b[39mreturn\u001b[39;00m \u001b[39mself\u001b[39;49m\u001b[39m.\u001b[39;49m_method(ref, \u001b[39m*\u001b[39;49margs, \u001b[39m*\u001b[39;49m\u001b[39m*\u001b[39;49mkwargs) \u001b[39mif\u001b[39;00m \u001b[39mhasattr\u001b[39m(ref, \u001b[39m\"\u001b[39m\u001b[39mdevice\u001b[39m\u001b[39m\"\u001b[39m) \u001b[39melse\u001b[39;00m \u001b[39mself\u001b[39m\u001b[39m.\u001b[39m_method(\u001b[39m*\u001b[39margs, \u001b[39m*\u001b[39m\u001b[39m*\u001b[39mkwargs)\n",
      "File \u001b[0;32m~/github/qililab/src/qililab/instruments/quantum_machines/qmm.py:82\u001b[0m, in \u001b[0;36mQuantumMachinesManager.initial_setup\u001b[0;34m(self)\u001b[0m\n\u001b[1;32m     80\u001b[0m \u001b[39mself\u001b[39m\u001b[39m.\u001b[39mconfig \u001b[39m=\u001b[39m \u001b[39mself\u001b[39m\u001b[39m.\u001b[39mcreate_config()\n\u001b[1;32m     81\u001b[0m qmm \u001b[39m=\u001b[39m QMM(host\u001b[39m=\u001b[39m\u001b[39mself\u001b[39m\u001b[39m.\u001b[39msettings\u001b[39m.\u001b[39maddress, port\u001b[39m=\u001b[39m\u001b[39mself\u001b[39m\u001b[39m.\u001b[39msettings\u001b[39m.\u001b[39mport)\n\u001b[0;32m---> 82\u001b[0m \u001b[39mself\u001b[39m\u001b[39m.\u001b[39mqm \u001b[39m=\u001b[39m qmm\u001b[39m.\u001b[39;49mopen_qm(config\u001b[39m=\u001b[39;49m\u001b[39mself\u001b[39;49m\u001b[39m.\u001b[39;49mconfig, close_other_machines\u001b[39m=\u001b[39;49m\u001b[39mTrue\u001b[39;49;00m)\n",
      "File \u001b[0;32m~/github/v_envs/qililab_oscilloscope/lib/python3.10/site-packages/qm/quantum_machines_manager.py:233\u001b[0m, in \u001b[0;36mQuantumMachinesManager.open_qm\u001b[0;34m(self, config, close_other_machines, validate_with_protobuf, add_calibration_elements_to_config, use_calibration_data, **kwargs)\u001b[0m\n\u001b[1;32m    230\u001b[0m \u001b[39mif\u001b[39;00m kwargs:\n\u001b[1;32m    231\u001b[0m     logger\u001b[39m.\u001b[39mwarning(\u001b[39mf\u001b[39m\u001b[39m\"\u001b[39m\u001b[39munused kwargs: \u001b[39m\u001b[39m{\u001b[39;00m\u001b[39mlist\u001b[39m(kwargs)\u001b[39m}\u001b[39;00m\u001b[39m, please remove them.\u001b[39m\u001b[39m\"\u001b[39m)\n\u001b[0;32m--> 233\u001b[0m loaded_config \u001b[39m=\u001b[39m \u001b[39mself\u001b[39;49m\u001b[39m.\u001b[39;49m_load_config(config, disable_marshmallow_validation\u001b[39m=\u001b[39;49mvalidate_with_protobuf)\n\u001b[1;32m    235\u001b[0m \u001b[39mif\u001b[39;00m use_calibration_data \u001b[39mand\u001b[39;00m \u001b[39mself\u001b[39m\u001b[39m.\u001b[39m_octave_config \u001b[39mis\u001b[39;00m \u001b[39mnot\u001b[39;00m \u001b[39mNone\u001b[39;00m:\n\u001b[1;32m    236\u001b[0m     \u001b[39mif\u001b[39;00m \u001b[39mself\u001b[39m\u001b[39m.\u001b[39m_octave_config\u001b[39m.\u001b[39mcalibration_db \u001b[39mis\u001b[39;00m \u001b[39mnot\u001b[39;00m \u001b[39mNone\u001b[39;00m:\n",
      "File \u001b[0;32m~/github/v_envs/qililab_oscilloscope/lib/python3.10/site-packages/qm/quantum_machines_manager.py:270\u001b[0m, in \u001b[0;36mQuantumMachinesManager._load_config\u001b[0;34m(self, qua_config, disable_marshmallow_validation)\u001b[0m\n\u001b[1;32m    268\u001b[0m     \u001b[39mraise\u001b[39;00m ConfigValidationException(\u001b[39mf\u001b[39m\u001b[39m\"\u001b[39m\u001b[39mMissing key \u001b[39m\u001b[39m{\u001b[39;00mkey_error\u001b[39m}\u001b[39;00m\u001b[39m in config\u001b[39m\u001b[39m\"\u001b[39m) \u001b[39mfrom\u001b[39;00m \u001b[39mkey_error\u001b[39;00m\n\u001b[1;32m    269\u001b[0m \u001b[39mexcept\u001b[39;00m marshmallow\u001b[39m.\u001b[39mexceptions\u001b[39m.\u001b[39mValidationError \u001b[39mas\u001b[39;00m validation_error:\n\u001b[0;32m--> 270\u001b[0m     \u001b[39mraise\u001b[39;00m ConfigValidationException(\u001b[39mstr\u001b[39m(validation_error)) \u001b[39mfrom\u001b[39;00m \u001b[39mvalidation_error\u001b[39;00m\n",
      "\u001b[0;31mConfigValidationException\u001b[0m: {'elements': defaultdict(<class 'dict'>, {'drive_line_q0_rf_bus': {'value': {'digital_inputs': ['Unknown field.'], 'rf_outputs': ['Unknown field.'], 'rf_inputs': ['Unknown field.']}}})}"
     ]
    }
   ],
   "source": [
    "platform = ql.build_platform(runcard=PLATFORM_PATH)\n",
    "platform.connect()\n",
    "platform.initial_setup()\n",
    "platform.turn_on_instruments()"
   ]
  },
  {
   "cell_type": "code",
   "execution_count": 6,
   "metadata": {},
   "outputs": [
    {
     "data": {
      "text/plain": [
       "[<qililab.instruments.quantum_machines.qmm.QuantumMachinesManager at 0x7fd1cfb91f30>]"
      ]
     },
     "execution_count": 6,
     "metadata": {},
     "output_type": "execute_result"
    }
   ],
   "source": [
    "platform.instruments.get_instrument()"
   ]
  },
  {
   "cell_type": "code",
   "execution_count": 6,
   "metadata": {},
   "outputs": [],
   "source": [
    "from qililab.instruments.quantum_machines.config import config as config_qm"
   ]
  },
  {
   "cell_type": "code",
   "execution_count": 17,
   "metadata": {},
   "outputs": [
    {
     "name": "stdout",
     "output_type": "stream",
     "text": [
      "{'port': 1, 'lo_frequency': '6e9', 'gain': 0}\n",
      "{'port': 2, 'lo_frequency': '6e9', 'gain': 0}\n",
      "{'port': 3, 'lo_frequency': '6e9', 'gain': 0}\n",
      "{'port': 4, 'lo_frequency': '6e9', 'gain': 0}\n",
      "{'port': 5, 'lo_frequency': '6e9', 'gain': 0}\n",
      "{'octave1': {'RF_outputs': {1: {'lo_frequency': '6e9', 'gain': 0}, 2: {'lo_frequency': '6e9', 'gain': 0}, 3: {'lo_frequency': '6e9', 'gain': 0}, 4: {'lo_frequency': '6e9', 'gain': 0}, 5: {'lo_frequency': '6e9', 'gain': 0}}}}\n"
     ]
    }
   ],
   "source": [
    "qmm = platform.instruments.get_instrument(alias=\"QMM\")\n",
    "settings = qmm.settings\n",
    "\n",
    "octaves = {}\n",
    "for octave in settings.octaves:\n",
    "    rf_outputs = octave.get(\"rf_outputs\", [])\n",
    "    rf_dict = {}\n",
    "    for output in rf_outputs:\n",
    "        rf_dict[output[\"port\"]] = {\n",
    "            \"lo_frequency\": output[\"lo_frequency\"],\n",
    "            \"gain\": output[\"gain\"]\n",
    "        }\n",
    "    octaves[octave[\"name\"]] = {\n",
    "        \"RF_outputs\": rf_dict\n",
    "    }\n",
    "    # for output in octave.get(\"rf_outputs\", []):\n",
    "    #     print(output)\n",
    "    \n",
    "print(octaves)"
   ]
  },
  {
   "cell_type": "code",
   "execution_count": 5,
   "metadata": {},
   "outputs": [
    {
     "name": "stdout",
     "output_type": "stream",
     "text": [
      "QuantumMachinesManager.QMMSettings(alias='QMM', firmware='0.7.0', address='192.168.1.67', port=80, octaves=[{'name': 'octave1', 'port': 11250, 'controller': 'con1', 'rf_outputs': [{'port': 1, 'lo_frequency': '6e9', 'gain': 0}, {'port': 2, 'lo_frequency': '6e9', 'gain': 0}, {'port': 3, 'lo_frequency': '6e9', 'gain': 0}, {'port': 4, 'lo_frequency': '6e9', 'gain': 0}, {'port': 5, 'lo_frequency': '6e9', 'gain': 0}], 'rf_inputs': [{'port': 0, 'lo_frequency': '6e9'}, {'port': 1, 'lo_frequency': '6e9'}]}], controllers=[{'name': 'con1', 'analog_outputs': [{'port': 1, 'offset': -0.0142}, {'port': 2, 'offset': -0.0142}, {'port': 3, 'offset': -0.0142}, {'port': 4, 'offset': -0.0142}, {'port': 5, 'offset': -0.0142}, {'port': 6, 'offset': -0.0142}, {'port': 7, 'offset': -0.0142}, {'port': 8, 'offset': -0.0142}, {'port': 9, 'offset': -0.0142}, {'port': 10, 'offset': -0.0142}], 'analog_inputs': [{'port': 1, 'offset': -0.023947, 'gain_db': 0}, {'port': 2, 'offset': -0.023947, 'gain_db': 0}], 'digital_outputs': [{'port': 1}, {'port': 2}, {'port': 3}, {'port': 4}, {'port': 5}]}], elements=[{'bus': 'drive_line_q0_rf_bus', 'rf_inputs': {'octave': 'octave1', 'port': 1}, 'rf_outputs': {'octave': 'octave1', 'port': 1}, 'digital_inputs': {'controller': 'con1', 'port': 1, 'delay': 87, 'buffer': 15}, 'intermediate_frequency': 6500000000.0}])\n",
      "{'controllers': {'con1': {'analog_inputs': {1: {'gain_db': 0,\n",
      "                                                'offset': -0.023947},\n",
      "                                            2: {'gain_db': 0,\n",
      "                                                'offset': -0.023947}},\n",
      "                          'analog_outputs': {1: {'offset': -0.0142},\n",
      "                                             2: {'offset': -0.0142},\n",
      "                                             3: {'offset': -0.0142},\n",
      "                                             4: {'offset': -0.0142},\n",
      "                                             5: {'offset': -0.0142},\n",
      "                                             6: {'offset': -0.0142},\n",
      "                                             7: {'offset': -0.0142},\n",
      "                                             8: {'offset': -0.0142},\n",
      "                                             9: {'offset': -0.0142},\n",
      "                                             10: {'offset': -0.0142}},\n",
      "                          'digital_outputs': {1: {},\n",
      "                                              2: {},\n",
      "                                              3: {},\n",
      "                                              4: {},\n",
      "                                              5: {}}}},\n",
      " 'digital_waveforms': {},\n",
      " 'elements': {'drive_line_q0_rf_bus': {'digital_inputs': {'buffer': 15,\n",
      "                                                          'controller': 'con1',\n",
      "                                                          'delay': 87,\n",
      "                                                          'port': 1},\n",
      "                                       'intermediate_frequency': 6500000000.0,\n",
      "                                       'operations': {},\n",
      "                                       'rf_inputs': {'octave': 'octave1',\n",
      "                                                     'port': 1},\n",
      "                                       'rf_outputs': {'octave': 'octave1',\n",
      "                                                      'port': 1}}},\n",
      " 'integration_weights': {},\n",
      " 'mixers': {},\n",
      " 'pulses': {},\n",
      " 'version': 1,\n",
      " 'waveforms': {}}\n"
     ]
    }
   ],
   "source": [
    "from pprint import pprint\n",
    "\n",
    "qmm = platform.instruments.get_instrument(alias=\"QMM\")\n",
    "print(qmm.settings)\n",
    "config = qmm.config\n",
    "\n",
    "pprint(config)"
   ]
  },
  {
   "cell_type": "code",
   "execution_count": 4,
   "metadata": {},
   "outputs": [],
   "source": [
    "qmm = platform.instruments.get_instrument(alias=\"QMM\")\n",
    "config = qmm.config\n",
    "import json\n",
    "with open('config.json', 'w') as fp:\n",
    "    json.dump(config, fp, indent=4)"
   ]
  },
  {
   "cell_type": "code",
   "execution_count": 4,
   "metadata": {},
   "outputs": [],
   "source": [
    "module = cluster.submodules['module10']\n",
    "module.out0_lo_freq(7e9)\n",
    "module.sequencer0.marker_ovr_en(True)\n",
    "module.sequencer0.marker_ovr_value(3)"
   ]
  },
  {
   "cell_type": "code",
   "execution_count": 6,
   "metadata": {},
   "outputs": [],
   "source": [
    "module.sequencer0.mod_en_awg(True)\n",
    "module.sequencer0.nco_freq(-100e6)\n",
    "module.sequencer0.sync_en(True)\n",
    "module.sequencer0.sequence(\"sequence.json\")\n",
    "module.arm_sequencer(0)\n",
    "module.start_sequencer(0)"
   ]
  },
  {
   "cell_type": "code",
   "execution_count": 7,
   "metadata": {},
   "outputs": [],
   "source": [
    "module.out0_att(20)"
   ]
  },
  {
   "cell_type": "code",
   "execution_count": 10,
   "metadata": {},
   "outputs": [],
   "source": [
    "module.out0_att(0)\n",
    "module.out1_lo_freq(4.7e9)\n",
    "module.sequencer1.marker_ovr_en(True)\n",
    "module.sequencer1.marker_ovr_value(3)\n",
    "\n",
    "module.sequencer1.mod_en_awg(True)\n",
    "module.sequencer1.nco_freq(-100e6)\n",
    "module.sequencer1.sync_en(True)\n",
    "module.sequencer1.sequence(\"sequence.json\")\n",
    "module.arm_sequencer(1)\n",
    "module.start_sequencer(1)"
   ]
  },
  {
   "cell_type": "code",
   "execution_count": null,
   "metadata": {},
   "outputs": [],
   "source": [
    "cluster.reset()"
   ]
  },
  {
   "cell_type": "code",
   "execution_count": 13,
   "metadata": {},
   "outputs": [],
   "source": [
    "module = cluster.submodules['module6']\n",
    "module.out0_in0_lo_freq(7e9)\n",
    "module.sequencer0.marker_ovr_en(True)\n",
    "module.sequencer0.marker_ovr_value(3)"
   ]
  },
  {
   "cell_type": "code",
   "execution_count": 14,
   "metadata": {},
   "outputs": [],
   "source": [
    "module = cluster.submodules['module4']\n",
    "module.out0_lo_freq(7e9)\n",
    "module.sequencer0.marker_ovr_en(True)\n",
    "module.sequencer0.marker_ovr_value(3)"
   ]
  }
 ],
 "metadata": {
  "kernelspec": {
   "display_name": ".venv",
   "language": "python",
   "name": "python3"
  },
  "language_info": {
   "codemirror_mode": {
    "name": "ipython",
    "version": 3
   },
   "file_extension": ".py",
   "mimetype": "text/x-python",
   "name": "python",
   "nbconvert_exporter": "python",
   "pygments_lexer": "ipython3",
   "version": "3.10.12"
  },
  "orig_nbformat": 4
 },
 "nbformat": 4,
 "nbformat_minor": 2
}
